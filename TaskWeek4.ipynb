{
  "cells": [
    {
      "cell_type": "markdown",
      "metadata": {
        "id": "pyfC89TJpTET"
      },
      "source": [
        "# 8.1. Deep Convolutional Neural Networks (AlexNet)"
      ]
    },
    {
      "cell_type": "code",
      "execution_count": 1,
      "metadata": {
        "colab": {
          "base_uri": "https://localhost:8080/"
        },
        "id": "6OnI6-6BvY-C",
        "outputId": "166cb75e-4f19-44b3-f269-e5fa38829717"
      },
      "outputs": [
        {
          "output_type": "stream",
          "name": "stdout",
          "text": [
            "Requirement already satisfied: d2l in /usr/local/lib/python3.10/dist-packages (1.0.3)\n",
            "Requirement already satisfied: jupyter==1.0.0 in /usr/local/lib/python3.10/dist-packages (from d2l) (1.0.0)\n",
            "Requirement already satisfied: numpy==1.23.5 in /usr/local/lib/python3.10/dist-packages (from d2l) (1.23.5)\n",
            "Requirement already satisfied: matplotlib==3.7.2 in /usr/local/lib/python3.10/dist-packages (from d2l) (3.7.2)\n",
            "Requirement already satisfied: matplotlib-inline==0.1.6 in /usr/local/lib/python3.10/dist-packages (from d2l) (0.1.6)\n",
            "Requirement already satisfied: requests==2.31.0 in /usr/local/lib/python3.10/dist-packages (from d2l) (2.31.0)\n",
            "Requirement already satisfied: pandas==2.0.3 in /usr/local/lib/python3.10/dist-packages (from d2l) (2.0.3)\n",
            "Requirement already satisfied: scipy==1.10.1 in /usr/local/lib/python3.10/dist-packages (from d2l) (1.10.1)\n",
            "Requirement already satisfied: notebook in /usr/local/lib/python3.10/dist-packages (from jupyter==1.0.0->d2l) (6.5.5)\n",
            "Requirement already satisfied: qtconsole in /usr/local/lib/python3.10/dist-packages (from jupyter==1.0.0->d2l) (5.6.0)\n",
            "Requirement already satisfied: jupyter-console in /usr/local/lib/python3.10/dist-packages (from jupyter==1.0.0->d2l) (6.1.0)\n",
            "Requirement already satisfied: nbconvert in /usr/local/lib/python3.10/dist-packages (from jupyter==1.0.0->d2l) (6.5.4)\n",
            "Requirement already satisfied: ipykernel in /usr/local/lib/python3.10/dist-packages (from jupyter==1.0.0->d2l) (5.5.6)\n",
            "Requirement already satisfied: ipywidgets in /usr/local/lib/python3.10/dist-packages (from jupyter==1.0.0->d2l) (7.7.1)\n",
            "Requirement already satisfied: contourpy>=1.0.1 in /usr/local/lib/python3.10/dist-packages (from matplotlib==3.7.2->d2l) (1.3.0)\n",
            "Requirement already satisfied: cycler>=0.10 in /usr/local/lib/python3.10/dist-packages (from matplotlib==3.7.2->d2l) (0.12.1)\n",
            "Requirement already satisfied: fonttools>=4.22.0 in /usr/local/lib/python3.10/dist-packages (from matplotlib==3.7.2->d2l) (4.54.1)\n",
            "Requirement already satisfied: kiwisolver>=1.0.1 in /usr/local/lib/python3.10/dist-packages (from matplotlib==3.7.2->d2l) (1.4.7)\n",
            "Requirement already satisfied: packaging>=20.0 in /usr/local/lib/python3.10/dist-packages (from matplotlib==3.7.2->d2l) (24.1)\n",
            "Requirement already satisfied: pillow>=6.2.0 in /usr/local/lib/python3.10/dist-packages (from matplotlib==3.7.2->d2l) (10.4.0)\n",
            "Requirement already satisfied: pyparsing<3.1,>=2.3.1 in /usr/local/lib/python3.10/dist-packages (from matplotlib==3.7.2->d2l) (3.0.9)\n",
            "Requirement already satisfied: python-dateutil>=2.7 in /usr/local/lib/python3.10/dist-packages (from matplotlib==3.7.2->d2l) (2.8.2)\n",
            "Requirement already satisfied: traitlets in /usr/local/lib/python3.10/dist-packages (from matplotlib-inline==0.1.6->d2l) (5.7.1)\n",
            "Requirement already satisfied: pytz>=2020.1 in /usr/local/lib/python3.10/dist-packages (from pandas==2.0.3->d2l) (2024.2)\n",
            "Requirement already satisfied: tzdata>=2022.1 in /usr/local/lib/python3.10/dist-packages (from pandas==2.0.3->d2l) (2024.2)\n",
            "Requirement already satisfied: charset-normalizer<4,>=2 in /usr/local/lib/python3.10/dist-packages (from requests==2.31.0->d2l) (3.3.2)\n",
            "Requirement already satisfied: idna<4,>=2.5 in /usr/local/lib/python3.10/dist-packages (from requests==2.31.0->d2l) (3.10)\n",
            "Requirement already satisfied: urllib3<3,>=1.21.1 in /usr/local/lib/python3.10/dist-packages (from requests==2.31.0->d2l) (2.2.3)\n",
            "Requirement already satisfied: certifi>=2017.4.17 in /usr/local/lib/python3.10/dist-packages (from requests==2.31.0->d2l) (2024.8.30)\n",
            "Requirement already satisfied: six>=1.5 in /usr/local/lib/python3.10/dist-packages (from python-dateutil>=2.7->matplotlib==3.7.2->d2l) (1.16.0)\n",
            "Requirement already satisfied: ipython-genutils in /usr/local/lib/python3.10/dist-packages (from ipykernel->jupyter==1.0.0->d2l) (0.2.0)\n",
            "Requirement already satisfied: ipython>=5.0.0 in /usr/local/lib/python3.10/dist-packages (from ipykernel->jupyter==1.0.0->d2l) (7.34.0)\n",
            "Requirement already satisfied: jupyter-client in /usr/local/lib/python3.10/dist-packages (from ipykernel->jupyter==1.0.0->d2l) (6.1.12)\n",
            "Requirement already satisfied: tornado>=4.2 in /usr/local/lib/python3.10/dist-packages (from ipykernel->jupyter==1.0.0->d2l) (6.3.3)\n",
            "Requirement already satisfied: widgetsnbextension~=3.6.0 in /usr/local/lib/python3.10/dist-packages (from ipywidgets->jupyter==1.0.0->d2l) (3.6.9)\n",
            "Requirement already satisfied: jupyterlab-widgets>=1.0.0 in /usr/local/lib/python3.10/dist-packages (from ipywidgets->jupyter==1.0.0->d2l) (3.0.13)\n",
            "Requirement already satisfied: prompt-toolkit!=3.0.0,!=3.0.1,<3.1.0,>=2.0.0 in /usr/local/lib/python3.10/dist-packages (from jupyter-console->jupyter==1.0.0->d2l) (3.0.48)\n",
            "Requirement already satisfied: pygments in /usr/local/lib/python3.10/dist-packages (from jupyter-console->jupyter==1.0.0->d2l) (2.18.0)\n",
            "Requirement already satisfied: lxml in /usr/local/lib/python3.10/dist-packages (from nbconvert->jupyter==1.0.0->d2l) (4.9.4)\n",
            "Requirement already satisfied: beautifulsoup4 in /usr/local/lib/python3.10/dist-packages (from nbconvert->jupyter==1.0.0->d2l) (4.12.3)\n",
            "Requirement already satisfied: bleach in /usr/local/lib/python3.10/dist-packages (from nbconvert->jupyter==1.0.0->d2l) (6.1.0)\n",
            "Requirement already satisfied: defusedxml in /usr/local/lib/python3.10/dist-packages (from nbconvert->jupyter==1.0.0->d2l) (0.7.1)\n",
            "Requirement already satisfied: entrypoints>=0.2.2 in /usr/local/lib/python3.10/dist-packages (from nbconvert->jupyter==1.0.0->d2l) (0.4)\n",
            "Requirement already satisfied: jinja2>=3.0 in /usr/local/lib/python3.10/dist-packages (from nbconvert->jupyter==1.0.0->d2l) (3.1.4)\n",
            "Requirement already satisfied: jupyter-core>=4.7 in /usr/local/lib/python3.10/dist-packages (from nbconvert->jupyter==1.0.0->d2l) (5.7.2)\n",
            "Requirement already satisfied: jupyterlab-pygments in /usr/local/lib/python3.10/dist-packages (from nbconvert->jupyter==1.0.0->d2l) (0.3.0)\n",
            "Requirement already satisfied: MarkupSafe>=2.0 in /usr/local/lib/python3.10/dist-packages (from nbconvert->jupyter==1.0.0->d2l) (2.1.5)\n",
            "Requirement already satisfied: mistune<2,>=0.8.1 in /usr/local/lib/python3.10/dist-packages (from nbconvert->jupyter==1.0.0->d2l) (0.8.4)\n",
            "Requirement already satisfied: nbclient>=0.5.0 in /usr/local/lib/python3.10/dist-packages (from nbconvert->jupyter==1.0.0->d2l) (0.10.0)\n",
            "Requirement already satisfied: nbformat>=5.1 in /usr/local/lib/python3.10/dist-packages (from nbconvert->jupyter==1.0.0->d2l) (5.10.4)\n",
            "Requirement already satisfied: pandocfilters>=1.4.1 in /usr/local/lib/python3.10/dist-packages (from nbconvert->jupyter==1.0.0->d2l) (1.5.1)\n",
            "Requirement already satisfied: tinycss2 in /usr/local/lib/python3.10/dist-packages (from nbconvert->jupyter==1.0.0->d2l) (1.3.0)\n",
            "Requirement already satisfied: pyzmq<25,>=17 in /usr/local/lib/python3.10/dist-packages (from notebook->jupyter==1.0.0->d2l) (24.0.1)\n",
            "Requirement already satisfied: argon2-cffi in /usr/local/lib/python3.10/dist-packages (from notebook->jupyter==1.0.0->d2l) (23.1.0)\n",
            "Requirement already satisfied: nest-asyncio>=1.5 in /usr/local/lib/python3.10/dist-packages (from notebook->jupyter==1.0.0->d2l) (1.6.0)\n",
            "Requirement already satisfied: Send2Trash>=1.8.0 in /usr/local/lib/python3.10/dist-packages (from notebook->jupyter==1.0.0->d2l) (1.8.3)\n",
            "Requirement already satisfied: terminado>=0.8.3 in /usr/local/lib/python3.10/dist-packages (from notebook->jupyter==1.0.0->d2l) (0.18.1)\n",
            "Requirement already satisfied: prometheus-client in /usr/local/lib/python3.10/dist-packages (from notebook->jupyter==1.0.0->d2l) (0.21.0)\n",
            "Requirement already satisfied: nbclassic>=0.4.7 in /usr/local/lib/python3.10/dist-packages (from notebook->jupyter==1.0.0->d2l) (1.1.0)\n",
            "Requirement already satisfied: qtpy>=2.4.0 in /usr/local/lib/python3.10/dist-packages (from qtconsole->jupyter==1.0.0->d2l) (2.4.1)\n",
            "Requirement already satisfied: setuptools>=18.5 in /usr/local/lib/python3.10/dist-packages (from ipython>=5.0.0->ipykernel->jupyter==1.0.0->d2l) (71.0.4)\n",
            "Requirement already satisfied: jedi>=0.16 in /usr/local/lib/python3.10/dist-packages (from ipython>=5.0.0->ipykernel->jupyter==1.0.0->d2l) (0.19.1)\n",
            "Requirement already satisfied: decorator in /usr/local/lib/python3.10/dist-packages (from ipython>=5.0.0->ipykernel->jupyter==1.0.0->d2l) (4.4.2)\n",
            "Requirement already satisfied: pickleshare in /usr/local/lib/python3.10/dist-packages (from ipython>=5.0.0->ipykernel->jupyter==1.0.0->d2l) (0.7.5)\n",
            "Requirement already satisfied: backcall in /usr/local/lib/python3.10/dist-packages (from ipython>=5.0.0->ipykernel->jupyter==1.0.0->d2l) (0.2.0)\n",
            "Requirement already satisfied: pexpect>4.3 in /usr/local/lib/python3.10/dist-packages (from ipython>=5.0.0->ipykernel->jupyter==1.0.0->d2l) (4.9.0)\n",
            "Requirement already satisfied: platformdirs>=2.5 in /usr/local/lib/python3.10/dist-packages (from jupyter-core>=4.7->nbconvert->jupyter==1.0.0->d2l) (4.3.6)\n",
            "Requirement already satisfied: notebook-shim>=0.2.3 in /usr/local/lib/python3.10/dist-packages (from nbclassic>=0.4.7->notebook->jupyter==1.0.0->d2l) (0.2.4)\n",
            "Requirement already satisfied: fastjsonschema>=2.15 in /usr/local/lib/python3.10/dist-packages (from nbformat>=5.1->nbconvert->jupyter==1.0.0->d2l) (2.20.0)\n",
            "Requirement already satisfied: jsonschema>=2.6 in /usr/local/lib/python3.10/dist-packages (from nbformat>=5.1->nbconvert->jupyter==1.0.0->d2l) (4.23.0)\n",
            "Requirement already satisfied: wcwidth in /usr/local/lib/python3.10/dist-packages (from prompt-toolkit!=3.0.0,!=3.0.1,<3.1.0,>=2.0.0->jupyter-console->jupyter==1.0.0->d2l) (0.2.13)\n",
            "Requirement already satisfied: ptyprocess in /usr/local/lib/python3.10/dist-packages (from terminado>=0.8.3->notebook->jupyter==1.0.0->d2l) (0.7.0)\n",
            "Requirement already satisfied: argon2-cffi-bindings in /usr/local/lib/python3.10/dist-packages (from argon2-cffi->notebook->jupyter==1.0.0->d2l) (21.2.0)\n",
            "Requirement already satisfied: soupsieve>1.2 in /usr/local/lib/python3.10/dist-packages (from beautifulsoup4->nbconvert->jupyter==1.0.0->d2l) (2.6)\n",
            "Requirement already satisfied: webencodings in /usr/local/lib/python3.10/dist-packages (from bleach->nbconvert->jupyter==1.0.0->d2l) (0.5.1)\n",
            "Requirement already satisfied: parso<0.9.0,>=0.8.3 in /usr/local/lib/python3.10/dist-packages (from jedi>=0.16->ipython>=5.0.0->ipykernel->jupyter==1.0.0->d2l) (0.8.4)\n",
            "Requirement already satisfied: attrs>=22.2.0 in /usr/local/lib/python3.10/dist-packages (from jsonschema>=2.6->nbformat>=5.1->nbconvert->jupyter==1.0.0->d2l) (24.2.0)\n",
            "Requirement already satisfied: jsonschema-specifications>=2023.03.6 in /usr/local/lib/python3.10/dist-packages (from jsonschema>=2.6->nbformat>=5.1->nbconvert->jupyter==1.0.0->d2l) (2023.12.1)\n",
            "Requirement already satisfied: referencing>=0.28.4 in /usr/local/lib/python3.10/dist-packages (from jsonschema>=2.6->nbformat>=5.1->nbconvert->jupyter==1.0.0->d2l) (0.35.1)\n",
            "Requirement already satisfied: rpds-py>=0.7.1 in /usr/local/lib/python3.10/dist-packages (from jsonschema>=2.6->nbformat>=5.1->nbconvert->jupyter==1.0.0->d2l) (0.20.0)\n",
            "Requirement already satisfied: jupyter-server<3,>=1.8 in /usr/local/lib/python3.10/dist-packages (from notebook-shim>=0.2.3->nbclassic>=0.4.7->notebook->jupyter==1.0.0->d2l) (1.24.0)\n",
            "Requirement already satisfied: cffi>=1.0.1 in /usr/local/lib/python3.10/dist-packages (from argon2-cffi-bindings->argon2-cffi->notebook->jupyter==1.0.0->d2l) (1.17.1)\n",
            "Requirement already satisfied: pycparser in /usr/local/lib/python3.10/dist-packages (from cffi>=1.0.1->argon2-cffi-bindings->argon2-cffi->notebook->jupyter==1.0.0->d2l) (2.22)\n",
            "Requirement already satisfied: anyio<4,>=3.1.0 in /usr/local/lib/python3.10/dist-packages (from jupyter-server<3,>=1.8->notebook-shim>=0.2.3->nbclassic>=0.4.7->notebook->jupyter==1.0.0->d2l) (3.7.1)\n",
            "Requirement already satisfied: websocket-client in /usr/local/lib/python3.10/dist-packages (from jupyter-server<3,>=1.8->notebook-shim>=0.2.3->nbclassic>=0.4.7->notebook->jupyter==1.0.0->d2l) (1.8.0)\n",
            "Requirement already satisfied: sniffio>=1.1 in /usr/local/lib/python3.10/dist-packages (from anyio<4,>=3.1.0->jupyter-server<3,>=1.8->notebook-shim>=0.2.3->nbclassic>=0.4.7->notebook->jupyter==1.0.0->d2l) (1.3.1)\n",
            "Requirement already satisfied: exceptiongroup in /usr/local/lib/python3.10/dist-packages (from anyio<4,>=3.1.0->jupyter-server<3,>=1.8->notebook-shim>=0.2.3->nbclassic>=0.4.7->notebook->jupyter==1.0.0->d2l) (1.2.2)\n"
          ]
        }
      ],
      "source": [
        "!pip install d2l"
      ]
    },
    {
      "cell_type": "code",
      "execution_count": 2,
      "metadata": {
        "id": "GmwxPx_GvCwA"
      },
      "outputs": [],
      "source": [
        "import torch\n",
        "from torch import nn\n",
        "from d2l import torch as d2l"
      ]
    },
    {
      "cell_type": "markdown",
      "metadata": {
        "id": "yieeE3qHpGKI"
      },
      "source": [
        "8.1.2.3. Capacity Control and Preprocessing"
      ]
    },
    {
      "cell_type": "code",
      "execution_count": 3,
      "metadata": {
        "id": "GNq1LwFUozyP"
      },
      "outputs": [],
      "source": [
        "class AlexNet(d2l.Classifier):\n",
        "    def __init__(self, lr=0.1, num_classes=10):\n",
        "        super().__init__()\n",
        "        self.save_hyperparameters()\n",
        "        self.net = nn.Sequential(\n",
        "            nn.LazyConv2d(96, kernel_size=11, stride=4, padding=1),\n",
        "            nn.ReLU(), nn.MaxPool2d(kernel_size=3, stride=2),\n",
        "            nn.LazyConv2d(256, kernel_size=5, padding=2), nn.ReLU(),\n",
        "            nn.MaxPool2d(kernel_size=3, stride=2),\n",
        "            nn.LazyConv2d(384, kernel_size=3, padding=1), nn.ReLU(),\n",
        "            nn.LazyConv2d(384, kernel_size=3, padding=1), nn.ReLU(),\n",
        "            nn.LazyConv2d(256, kernel_size=3, padding=1), nn.ReLU(),\n",
        "            nn.MaxPool2d(kernel_size=3, stride=2), nn.Flatten(),\n",
        "            nn.LazyLinear(4096), nn.ReLU(), nn.Dropout(p=0.5),\n",
        "            nn.LazyLinear(4096), nn.ReLU(),nn.Dropout(p=0.5),\n",
        "            nn.LazyLinear(num_classes))\n",
        "        self.net.apply(d2l.init_cnn)"
      ]
    },
    {
      "cell_type": "code",
      "execution_count": 4,
      "metadata": {
        "colab": {
          "base_uri": "https://localhost:8080/"
        },
        "id": "VhFqSJDypMcT",
        "outputId": "b149ab48-0a35-44db-8b08-58262fc088be"
      },
      "outputs": [
        {
          "output_type": "stream",
          "name": "stdout",
          "text": [
            "Conv2d output shape:\t torch.Size([1, 96, 54, 54])\n",
            "ReLU output shape:\t torch.Size([1, 96, 54, 54])\n",
            "MaxPool2d output shape:\t torch.Size([1, 96, 26, 26])\n",
            "Conv2d output shape:\t torch.Size([1, 256, 26, 26])\n",
            "ReLU output shape:\t torch.Size([1, 256, 26, 26])\n",
            "MaxPool2d output shape:\t torch.Size([1, 256, 12, 12])\n",
            "Conv2d output shape:\t torch.Size([1, 384, 12, 12])\n",
            "ReLU output shape:\t torch.Size([1, 384, 12, 12])\n",
            "Conv2d output shape:\t torch.Size([1, 384, 12, 12])\n",
            "ReLU output shape:\t torch.Size([1, 384, 12, 12])\n",
            "Conv2d output shape:\t torch.Size([1, 256, 12, 12])\n",
            "ReLU output shape:\t torch.Size([1, 256, 12, 12])\n",
            "MaxPool2d output shape:\t torch.Size([1, 256, 5, 5])\n",
            "Flatten output shape:\t torch.Size([1, 6400])\n",
            "Linear output shape:\t torch.Size([1, 4096])\n",
            "ReLU output shape:\t torch.Size([1, 4096])\n",
            "Dropout output shape:\t torch.Size([1, 4096])\n",
            "Linear output shape:\t torch.Size([1, 4096])\n",
            "ReLU output shape:\t torch.Size([1, 4096])\n",
            "Dropout output shape:\t torch.Size([1, 4096])\n",
            "Linear output shape:\t torch.Size([1, 10])\n"
          ]
        }
      ],
      "source": [
        "AlexNet().layer_summary((1, 1, 224, 224))"
      ]
    },
    {
      "cell_type": "markdown",
      "metadata": {
        "id": "SmScPMw4pRXI"
      },
      "source": [
        "8.1.3. Training"
      ]
    },
    {
      "cell_type": "code",
      "execution_count": 5,
      "metadata": {
        "colab": {
          "base_uri": "https://localhost:8080/",
          "height": 265
        },
        "id": "1OuQR2ChpQ4B",
        "outputId": "6719a2b4-1f7b-43ea-fe5e-506adc40df37"
      },
      "outputs": [
        {
          "output_type": "display_data",
          "data": {
            "text/plain": [
              "<Figure size 350x250 with 1 Axes>"
            ],
            "image/svg+xml": "<?xml version=\"1.0\" encoding=\"utf-8\" standalone=\"no\"?>\n<!DOCTYPE svg PUBLIC \"-//W3C//DTD SVG 1.1//EN\"\n  \"http://www.w3.org/Graphics/SVG/1.1/DTD/svg11.dtd\">\n<svg xmlns:xlink=\"http://www.w3.org/1999/xlink\" width=\"238.965625pt\" height=\"183.35625pt\" viewBox=\"0 0 238.965625 183.35625\" xmlns=\"http://www.w3.org/2000/svg\" version=\"1.1\">\n <metadata>\n  <rdf:RDF xmlns:dc=\"http://purl.org/dc/elements/1.1/\" xmlns:cc=\"http://creativecommons.org/ns#\" xmlns:rdf=\"http://www.w3.org/1999/02/22-rdf-syntax-ns#\">\n   <cc:Work>\n    <dc:type rdf:resource=\"http://purl.org/dc/dcmitype/StillImage\"/>\n    <dc:date>2024-10-04T12:49:13.406889</dc:date>\n    <dc:format>image/svg+xml</dc:format>\n    <dc:creator>\n     <cc:Agent>\n      <dc:title>Matplotlib v3.7.2, https://matplotlib.org/</dc:title>\n     </cc:Agent>\n    </dc:creator>\n   </cc:Work>\n  </rdf:RDF>\n </metadata>\n <defs>\n  <style type=\"text/css\">*{stroke-linejoin: round; stroke-linecap: butt}</style>\n </defs>\n <g id=\"figure_1\">\n  <g id=\"patch_1\">\n   <path d=\"M 0 183.35625 \nL 238.965625 183.35625 \nL 238.965625 0 \nL 0 0 \nz\n\" style=\"fill: #ffffff\"/>\n  </g>\n  <g id=\"axes_1\">\n   <g id=\"patch_2\">\n    <path d=\"M 30.103125 145.8 \nL 225.403125 145.8 \nL 225.403125 7.2 \nL 30.103125 7.2 \nz\n\" style=\"fill: #ffffff\"/>\n   </g>\n   <g id=\"matplotlib.axis_1\">\n    <g id=\"xtick_1\">\n     <g id=\"line2d_1\">\n      <defs>\n       <path id=\"m7615c63e8f\" d=\"M 0 0 \nL 0 3.5 \n\" style=\"stroke: #000000; stroke-width: 0.8\"/>\n      </defs>\n      <g>\n       <use xlink:href=\"#m7615c63e8f\" x=\"30.103125\" y=\"145.8\" style=\"stroke: #000000; stroke-width: 0.8\"/>\n      </g>\n     </g>\n     <g id=\"text_1\">\n      <!-- 0 -->\n      <g transform=\"translate(26.921875 160.398438) scale(0.1 -0.1)\">\n       <defs>\n        <path id=\"DejaVuSans-30\" d=\"M 2034 4250 \nQ 1547 4250 1301 3770 \nQ 1056 3291 1056 2328 \nQ 1056 1369 1301 889 \nQ 1547 409 2034 409 \nQ 2525 409 2770 889 \nQ 3016 1369 3016 2328 \nQ 3016 3291 2770 3770 \nQ 2525 4250 2034 4250 \nz\nM 2034 4750 \nQ 2819 4750 3233 4129 \nQ 3647 3509 3647 2328 \nQ 3647 1150 3233 529 \nQ 2819 -91 2034 -91 \nQ 1250 -91 836 529 \nQ 422 1150 422 2328 \nQ 422 3509 836 4129 \nQ 1250 4750 2034 4750 \nz\n\" transform=\"scale(0.015625)\"/>\n       </defs>\n       <use xlink:href=\"#DejaVuSans-30\"/>\n      </g>\n     </g>\n    </g>\n    <g id=\"xtick_2\">\n     <g id=\"line2d_2\">\n      <g>\n       <use xlink:href=\"#m7615c63e8f\" x=\"69.163125\" y=\"145.8\" style=\"stroke: #000000; stroke-width: 0.8\"/>\n      </g>\n     </g>\n     <g id=\"text_2\">\n      <!-- 2 -->\n      <g transform=\"translate(65.981875 160.398438) scale(0.1 -0.1)\">\n       <defs>\n        <path id=\"DejaVuSans-32\" d=\"M 1228 531 \nL 3431 531 \nL 3431 0 \nL 469 0 \nL 469 531 \nQ 828 903 1448 1529 \nQ 2069 2156 2228 2338 \nQ 2531 2678 2651 2914 \nQ 2772 3150 2772 3378 \nQ 2772 3750 2511 3984 \nQ 2250 4219 1831 4219 \nQ 1534 4219 1204 4116 \nQ 875 4013 500 3803 \nL 500 4441 \nQ 881 4594 1212 4672 \nQ 1544 4750 1819 4750 \nQ 2544 4750 2975 4387 \nQ 3406 4025 3406 3419 \nQ 3406 3131 3298 2873 \nQ 3191 2616 2906 2266 \nQ 2828 2175 2409 1742 \nQ 1991 1309 1228 531 \nz\n\" transform=\"scale(0.015625)\"/>\n       </defs>\n       <use xlink:href=\"#DejaVuSans-32\"/>\n      </g>\n     </g>\n    </g>\n    <g id=\"xtick_3\">\n     <g id=\"line2d_3\">\n      <g>\n       <use xlink:href=\"#m7615c63e8f\" x=\"108.223125\" y=\"145.8\" style=\"stroke: #000000; stroke-width: 0.8\"/>\n      </g>\n     </g>\n     <g id=\"text_3\">\n      <!-- 4 -->\n      <g transform=\"translate(105.041875 160.398438) scale(0.1 -0.1)\">\n       <defs>\n        <path id=\"DejaVuSans-34\" d=\"M 2419 4116 \nL 825 1625 \nL 2419 1625 \nL 2419 4116 \nz\nM 2253 4666 \nL 3047 4666 \nL 3047 1625 \nL 3713 1625 \nL 3713 1100 \nL 3047 1100 \nL 3047 0 \nL 2419 0 \nL 2419 1100 \nL 313 1100 \nL 313 1709 \nL 2253 4666 \nz\n\" transform=\"scale(0.015625)\"/>\n       </defs>\n       <use xlink:href=\"#DejaVuSans-34\"/>\n      </g>\n     </g>\n    </g>\n    <g id=\"xtick_4\">\n     <g id=\"line2d_4\">\n      <g>\n       <use xlink:href=\"#m7615c63e8f\" x=\"147.283125\" y=\"145.8\" style=\"stroke: #000000; stroke-width: 0.8\"/>\n      </g>\n     </g>\n     <g id=\"text_4\">\n      <!-- 6 -->\n      <g transform=\"translate(144.101875 160.398438) scale(0.1 -0.1)\">\n       <defs>\n        <path id=\"DejaVuSans-36\" d=\"M 2113 2584 \nQ 1688 2584 1439 2293 \nQ 1191 2003 1191 1497 \nQ 1191 994 1439 701 \nQ 1688 409 2113 409 \nQ 2538 409 2786 701 \nQ 3034 994 3034 1497 \nQ 3034 2003 2786 2293 \nQ 2538 2584 2113 2584 \nz\nM 3366 4563 \nL 3366 3988 \nQ 3128 4100 2886 4159 \nQ 2644 4219 2406 4219 \nQ 1781 4219 1451 3797 \nQ 1122 3375 1075 2522 \nQ 1259 2794 1537 2939 \nQ 1816 3084 2150 3084 \nQ 2853 3084 3261 2657 \nQ 3669 2231 3669 1497 \nQ 3669 778 3244 343 \nQ 2819 -91 2113 -91 \nQ 1303 -91 875 529 \nQ 447 1150 447 2328 \nQ 447 3434 972 4092 \nQ 1497 4750 2381 4750 \nQ 2619 4750 2861 4703 \nQ 3103 4656 3366 4563 \nz\n\" transform=\"scale(0.015625)\"/>\n       </defs>\n       <use xlink:href=\"#DejaVuSans-36\"/>\n      </g>\n     </g>\n    </g>\n    <g id=\"xtick_5\">\n     <g id=\"line2d_5\">\n      <g>\n       <use xlink:href=\"#m7615c63e8f\" x=\"186.343125\" y=\"145.8\" style=\"stroke: #000000; stroke-width: 0.8\"/>\n      </g>\n     </g>\n     <g id=\"text_5\">\n      <!-- 8 -->\n      <g transform=\"translate(183.161875 160.398438) scale(0.1 -0.1)\">\n       <defs>\n        <path id=\"DejaVuSans-38\" d=\"M 2034 2216 \nQ 1584 2216 1326 1975 \nQ 1069 1734 1069 1313 \nQ 1069 891 1326 650 \nQ 1584 409 2034 409 \nQ 2484 409 2743 651 \nQ 3003 894 3003 1313 \nQ 3003 1734 2745 1975 \nQ 2488 2216 2034 2216 \nz\nM 1403 2484 \nQ 997 2584 770 2862 \nQ 544 3141 544 3541 \nQ 544 4100 942 4425 \nQ 1341 4750 2034 4750 \nQ 2731 4750 3128 4425 \nQ 3525 4100 3525 3541 \nQ 3525 3141 3298 2862 \nQ 3072 2584 2669 2484 \nQ 3125 2378 3379 2068 \nQ 3634 1759 3634 1313 \nQ 3634 634 3220 271 \nQ 2806 -91 2034 -91 \nQ 1263 -91 848 271 \nQ 434 634 434 1313 \nQ 434 1759 690 2068 \nQ 947 2378 1403 2484 \nz\nM 1172 3481 \nQ 1172 3119 1398 2916 \nQ 1625 2713 2034 2713 \nQ 2441 2713 2670 2916 \nQ 2900 3119 2900 3481 \nQ 2900 3844 2670 4047 \nQ 2441 4250 2034 4250 \nQ 1625 4250 1398 4047 \nQ 1172 3844 1172 3481 \nz\n\" transform=\"scale(0.015625)\"/>\n       </defs>\n       <use xlink:href=\"#DejaVuSans-38\"/>\n      </g>\n     </g>\n    </g>\n    <g id=\"xtick_6\">\n     <g id=\"line2d_6\">\n      <g>\n       <use xlink:href=\"#m7615c63e8f\" x=\"225.403125\" y=\"145.8\" style=\"stroke: #000000; stroke-width: 0.8\"/>\n      </g>\n     </g>\n     <g id=\"text_6\">\n      <!-- 10 -->\n      <g transform=\"translate(219.040625 160.398438) scale(0.1 -0.1)\">\n       <defs>\n        <path id=\"DejaVuSans-31\" d=\"M 794 531 \nL 1825 531 \nL 1825 4091 \nL 703 3866 \nL 703 4441 \nL 1819 4666 \nL 2450 4666 \nL 2450 531 \nL 3481 531 \nL 3481 0 \nL 794 0 \nL 794 531 \nz\n\" transform=\"scale(0.015625)\"/>\n       </defs>\n       <use xlink:href=\"#DejaVuSans-31\"/>\n       <use xlink:href=\"#DejaVuSans-30\" x=\"63.623047\"/>\n      </g>\n     </g>\n    </g>\n    <g id=\"text_7\">\n     <!-- epoch -->\n     <g transform=\"translate(112.525 174.076563) scale(0.1 -0.1)\">\n      <defs>\n       <path id=\"DejaVuSans-65\" d=\"M 3597 1894 \nL 3597 1613 \nL 953 1613 \nQ 991 1019 1311 708 \nQ 1631 397 2203 397 \nQ 2534 397 2845 478 \nQ 3156 559 3463 722 \nL 3463 178 \nQ 3153 47 2828 -22 \nQ 2503 -91 2169 -91 \nQ 1331 -91 842 396 \nQ 353 884 353 1716 \nQ 353 2575 817 3079 \nQ 1281 3584 2069 3584 \nQ 2775 3584 3186 3129 \nQ 3597 2675 3597 1894 \nz\nM 3022 2063 \nQ 3016 2534 2758 2815 \nQ 2500 3097 2075 3097 \nQ 1594 3097 1305 2825 \nQ 1016 2553 972 2059 \nL 3022 2063 \nz\n\" transform=\"scale(0.015625)\"/>\n       <path id=\"DejaVuSans-70\" d=\"M 1159 525 \nL 1159 -1331 \nL 581 -1331 \nL 581 3500 \nL 1159 3500 \nL 1159 2969 \nQ 1341 3281 1617 3432 \nQ 1894 3584 2278 3584 \nQ 2916 3584 3314 3078 \nQ 3713 2572 3713 1747 \nQ 3713 922 3314 415 \nQ 2916 -91 2278 -91 \nQ 1894 -91 1617 61 \nQ 1341 213 1159 525 \nz\nM 3116 1747 \nQ 3116 2381 2855 2742 \nQ 2594 3103 2138 3103 \nQ 1681 3103 1420 2742 \nQ 1159 2381 1159 1747 \nQ 1159 1113 1420 752 \nQ 1681 391 2138 391 \nQ 2594 391 2855 752 \nQ 3116 1113 3116 1747 \nz\n\" transform=\"scale(0.015625)\"/>\n       <path id=\"DejaVuSans-6f\" d=\"M 1959 3097 \nQ 1497 3097 1228 2736 \nQ 959 2375 959 1747 \nQ 959 1119 1226 758 \nQ 1494 397 1959 397 \nQ 2419 397 2687 759 \nQ 2956 1122 2956 1747 \nQ 2956 2369 2687 2733 \nQ 2419 3097 1959 3097 \nz\nM 1959 3584 \nQ 2709 3584 3137 3096 \nQ 3566 2609 3566 1747 \nQ 3566 888 3137 398 \nQ 2709 -91 1959 -91 \nQ 1206 -91 779 398 \nQ 353 888 353 1747 \nQ 353 2609 779 3096 \nQ 1206 3584 1959 3584 \nz\n\" transform=\"scale(0.015625)\"/>\n       <path id=\"DejaVuSans-63\" d=\"M 3122 3366 \nL 3122 2828 \nQ 2878 2963 2633 3030 \nQ 2388 3097 2138 3097 \nQ 1578 3097 1268 2742 \nQ 959 2388 959 1747 \nQ 959 1106 1268 751 \nQ 1578 397 2138 397 \nQ 2388 397 2633 464 \nQ 2878 531 3122 666 \nL 3122 134 \nQ 2881 22 2623 -34 \nQ 2366 -91 2075 -91 \nQ 1284 -91 818 406 \nQ 353 903 353 1747 \nQ 353 2603 823 3093 \nQ 1294 3584 2113 3584 \nQ 2378 3584 2631 3529 \nQ 2884 3475 3122 3366 \nz\n\" transform=\"scale(0.015625)\"/>\n       <path id=\"DejaVuSans-68\" d=\"M 3513 2113 \nL 3513 0 \nL 2938 0 \nL 2938 2094 \nQ 2938 2591 2744 2837 \nQ 2550 3084 2163 3084 \nQ 1697 3084 1428 2787 \nQ 1159 2491 1159 1978 \nL 1159 0 \nL 581 0 \nL 581 4863 \nL 1159 4863 \nL 1159 2956 \nQ 1366 3272 1645 3428 \nQ 1925 3584 2291 3584 \nQ 2894 3584 3203 3211 \nQ 3513 2838 3513 2113 \nz\n\" transform=\"scale(0.015625)\"/>\n      </defs>\n      <use xlink:href=\"#DejaVuSans-65\"/>\n      <use xlink:href=\"#DejaVuSans-70\" x=\"61.523438\"/>\n      <use xlink:href=\"#DejaVuSans-6f\" x=\"125\"/>\n      <use xlink:href=\"#DejaVuSans-63\" x=\"186.181641\"/>\n      <use xlink:href=\"#DejaVuSans-68\" x=\"241.162109\"/>\n     </g>\n    </g>\n   </g>\n   <g id=\"matplotlib.axis_2\">\n    <g id=\"ytick_1\">\n     <g id=\"line2d_7\">\n      <defs>\n       <path id=\"medbf485d8e\" d=\"M 0 0 \nL -3.5 0 \n\" style=\"stroke: #000000; stroke-width: 0.8\"/>\n      </defs>\n      <g>\n       <use xlink:href=\"#medbf485d8e\" x=\"30.103125\" y=\"123.769513\" style=\"stroke: #000000; stroke-width: 0.8\"/>\n      </g>\n     </g>\n     <g id=\"text_8\">\n      <!-- 0.5 -->\n      <g transform=\"translate(7.2 127.568732) scale(0.1 -0.1)\">\n       <defs>\n        <path id=\"DejaVuSans-2e\" d=\"M 684 794 \nL 1344 794 \nL 1344 0 \nL 684 0 \nL 684 794 \nz\n\" transform=\"scale(0.015625)\"/>\n        <path id=\"DejaVuSans-35\" d=\"M 691 4666 \nL 3169 4666 \nL 3169 4134 \nL 1269 4134 \nL 1269 2991 \nQ 1406 3038 1543 3061 \nQ 1681 3084 1819 3084 \nQ 2600 3084 3056 2656 \nQ 3513 2228 3513 1497 \nQ 3513 744 3044 326 \nQ 2575 -91 1722 -91 \nQ 1428 -91 1123 -41 \nQ 819 9 494 109 \nL 494 744 \nQ 775 591 1075 516 \nQ 1375 441 1709 441 \nQ 2250 441 2565 725 \nQ 2881 1009 2881 1497 \nQ 2881 1984 2565 2268 \nQ 2250 2553 1709 2553 \nQ 1456 2553 1204 2497 \nQ 953 2441 691 2322 \nL 691 4666 \nz\n\" transform=\"scale(0.015625)\"/>\n       </defs>\n       <use xlink:href=\"#DejaVuSans-30\"/>\n       <use xlink:href=\"#DejaVuSans-2e\" x=\"63.623047\"/>\n       <use xlink:href=\"#DejaVuSans-35\" x=\"95.410156\"/>\n      </g>\n     </g>\n    </g>\n    <g id=\"ytick_2\">\n     <g id=\"line2d_8\">\n      <g>\n       <use xlink:href=\"#medbf485d8e\" x=\"30.103125\" y=\"93.179767\" style=\"stroke: #000000; stroke-width: 0.8\"/>\n      </g>\n     </g>\n     <g id=\"text_9\">\n      <!-- 1.0 -->\n      <g transform=\"translate(7.2 96.978986) scale(0.1 -0.1)\">\n       <use xlink:href=\"#DejaVuSans-31\"/>\n       <use xlink:href=\"#DejaVuSans-2e\" x=\"63.623047\"/>\n       <use xlink:href=\"#DejaVuSans-30\" x=\"95.410156\"/>\n      </g>\n     </g>\n    </g>\n    <g id=\"ytick_3\">\n     <g id=\"line2d_9\">\n      <g>\n       <use xlink:href=\"#medbf485d8e\" x=\"30.103125\" y=\"62.590021\" style=\"stroke: #000000; stroke-width: 0.8\"/>\n      </g>\n     </g>\n     <g id=\"text_10\">\n      <!-- 1.5 -->\n      <g transform=\"translate(7.2 66.38924) scale(0.1 -0.1)\">\n       <use xlink:href=\"#DejaVuSans-31\"/>\n       <use xlink:href=\"#DejaVuSans-2e\" x=\"63.623047\"/>\n       <use xlink:href=\"#DejaVuSans-35\" x=\"95.410156\"/>\n      </g>\n     </g>\n    </g>\n    <g id=\"ytick_4\">\n     <g id=\"line2d_10\">\n      <g>\n       <use xlink:href=\"#medbf485d8e\" x=\"30.103125\" y=\"32.000275\" style=\"stroke: #000000; stroke-width: 0.8\"/>\n      </g>\n     </g>\n     <g id=\"text_11\">\n      <!-- 2.0 -->\n      <g transform=\"translate(7.2 35.799494) scale(0.1 -0.1)\">\n       <use xlink:href=\"#DejaVuSans-32\"/>\n       <use xlink:href=\"#DejaVuSans-2e\" x=\"63.623047\"/>\n       <use xlink:href=\"#DejaVuSans-30\" x=\"95.410156\"/>\n      </g>\n     </g>\n    </g>\n   </g>\n   <g id=\"line2d_11\">\n    <path d=\"M 34.954394 13.5 \n\" clip-path=\"url(#p334165b13e)\" style=\"fill: none; stroke: #1f77b4; stroke-width: 1.5; stroke-linecap: square\"/>\n   </g>\n   <g id=\"line2d_12\">\n    <path d=\"M 34.954394 13.5 \nL 44.698573 13.55325 \n\" clip-path=\"url(#p334165b13e)\" style=\"fill: none; stroke: #1f77b4; stroke-width: 1.5; stroke-linecap: square\"/>\n   </g>\n   <g id=\"line2d_13\">\n    <path d=\"M 34.954394 13.5 \nL 44.698573 13.55325 \n\" clip-path=\"url(#p334165b13e)\" style=\"fill: none; stroke: #1f77b4; stroke-width: 1.5; stroke-linecap: square\"/>\n   </g>\n   <g id=\"line2d_14\">\n    <path d=\"M 49.633125 13.601539 \n\" clip-path=\"url(#p334165b13e)\" style=\"fill: none; stroke-dasharray: 5.55,2.4; stroke-dashoffset: 0; stroke: #ff7f0e; stroke-width: 1.5\"/>\n   </g>\n   <g id=\"line2d_15\"/>\n   <g id=\"line2d_16\">\n    <path d=\"M 34.954394 13.5 \nL 44.698573 13.55325 \n\" clip-path=\"url(#p334165b13e)\" style=\"fill: none; stroke: #1f77b4; stroke-width: 1.5; stroke-linecap: square\"/>\n   </g>\n   <g id=\"line2d_17\">\n    <path d=\"M 49.633125 13.601539 \n\" clip-path=\"url(#p334165b13e)\" style=\"fill: none; stroke-dasharray: 5.55,2.4; stroke-dashoffset: 0; stroke: #ff7f0e; stroke-width: 1.5\"/>\n   </g>\n   <g id=\"line2d_18\">\n    <path d=\"M 49.633125 137.769646 \n\" clip-path=\"url(#p334165b13e)\" style=\"fill: none; stroke-dasharray: 9.6,2.4,1.5,2.4; stroke-dashoffset: 0; stroke: #2ca02c; stroke-width: 1.5\"/>\n   </g>\n   <g id=\"line2d_19\">\n    <path d=\"M 34.954394 13.5 \nL 44.698573 13.55325 \nL 54.442752 13.653411 \n\" clip-path=\"url(#p334165b13e)\" style=\"fill: none; stroke: #1f77b4; stroke-width: 1.5; stroke-linecap: square\"/>\n   </g>\n   <g id=\"line2d_20\">\n    <path d=\"M 49.633125 13.601539 \n\" clip-path=\"url(#p334165b13e)\" style=\"fill: none; stroke-dasharray: 5.55,2.4; stroke-dashoffset: 0; stroke: #ff7f0e; stroke-width: 1.5\"/>\n   </g>\n   <g id=\"line2d_21\">\n    <path d=\"M 49.633125 137.769646 \n\" clip-path=\"url(#p334165b13e)\" style=\"fill: none; stroke-dasharray: 9.6,2.4,1.5,2.4; stroke-dashoffset: 0; stroke: #2ca02c; stroke-width: 1.5\"/>\n   </g>\n   <g id=\"line2d_22\">\n    <path d=\"M 34.954394 13.5 \nL 44.698573 13.55325 \nL 54.442752 13.653411 \nL 64.186931 14.071479 \n\" clip-path=\"url(#p334165b13e)\" style=\"fill: none; stroke: #1f77b4; stroke-width: 1.5; stroke-linecap: square\"/>\n   </g>\n   <g id=\"line2d_23\">\n    <path d=\"M 49.633125 13.601539 \n\" clip-path=\"url(#p334165b13e)\" style=\"fill: none; stroke-dasharray: 5.55,2.4; stroke-dashoffset: 0; stroke: #ff7f0e; stroke-width: 1.5\"/>\n   </g>\n   <g id=\"line2d_24\">\n    <path d=\"M 49.633125 137.769646 \n\" clip-path=\"url(#p334165b13e)\" style=\"fill: none; stroke-dasharray: 9.6,2.4,1.5,2.4; stroke-dashoffset: 0; stroke: #2ca02c; stroke-width: 1.5\"/>\n   </g>\n   <g id=\"line2d_25\">\n    <path d=\"M 34.954394 13.5 \nL 44.698573 13.55325 \nL 54.442752 13.653411 \nL 64.186931 14.071479 \n\" clip-path=\"url(#p334165b13e)\" style=\"fill: none; stroke: #1f77b4; stroke-width: 1.5; stroke-linecap: square\"/>\n   </g>\n   <g id=\"line2d_26\">\n    <path d=\"M 49.633125 13.601539 \nL 69.163125 15.162857 \n\" clip-path=\"url(#p334165b13e)\" style=\"fill: none; stroke-dasharray: 5.55,2.4; stroke-dashoffset: 0; stroke: #ff7f0e; stroke-width: 1.5\"/>\n   </g>\n   <g id=\"line2d_27\">\n    <path d=\"M 49.633125 137.769646 \n\" clip-path=\"url(#p334165b13e)\" style=\"fill: none; stroke-dasharray: 9.6,2.4,1.5,2.4; stroke-dashoffset: 0; stroke: #2ca02c; stroke-width: 1.5\"/>\n   </g>\n   <g id=\"line2d_28\">\n    <path d=\"M 34.954394 13.5 \nL 44.698573 13.55325 \nL 54.442752 13.653411 \nL 64.186931 14.071479 \n\" clip-path=\"url(#p334165b13e)\" style=\"fill: none; stroke: #1f77b4; stroke-width: 1.5; stroke-linecap: square\"/>\n   </g>\n   <g id=\"line2d_29\">\n    <path d=\"M 49.633125 13.601539 \nL 69.163125 15.162857 \n\" clip-path=\"url(#p334165b13e)\" style=\"fill: none; stroke-dasharray: 5.55,2.4; stroke-dashoffset: 0; stroke: #ff7f0e; stroke-width: 1.5\"/>\n   </g>\n   <g id=\"line2d_30\">\n    <path d=\"M 49.633125 137.769646 \nL 69.163125 139.5 \n\" clip-path=\"url(#p334165b13e)\" style=\"fill: none; stroke-dasharray: 9.6,2.4,1.5,2.4; stroke-dashoffset: 0; stroke: #2ca02c; stroke-width: 1.5\"/>\n   </g>\n   <g id=\"line2d_31\">\n    <path d=\"M 34.954394 13.5 \nL 44.698573 13.55325 \nL 54.442752 13.653411 \nL 64.186931 14.071479 \nL 73.93111 52.093966 \n\" clip-path=\"url(#p334165b13e)\" style=\"fill: none; stroke: #1f77b4; stroke-width: 1.5; stroke-linecap: square\"/>\n   </g>\n   <g id=\"line2d_32\">\n    <path d=\"M 49.633125 13.601539 \nL 69.163125 15.162857 \n\" clip-path=\"url(#p334165b13e)\" style=\"fill: none; stroke-dasharray: 5.55,2.4; stroke-dashoffset: 0; stroke: #ff7f0e; stroke-width: 1.5\"/>\n   </g>\n   <g id=\"line2d_33\">\n    <path d=\"M 49.633125 137.769646 \nL 69.163125 139.5 \n\" clip-path=\"url(#p334165b13e)\" style=\"fill: none; stroke-dasharray: 9.6,2.4,1.5,2.4; stroke-dashoffset: 0; stroke: #2ca02c; stroke-width: 1.5\"/>\n   </g>\n   <g id=\"line2d_34\">\n    <path d=\"M 34.954394 13.5 \nL 44.698573 13.55325 \nL 54.442752 13.653411 \nL 64.186931 14.071479 \nL 73.93111 52.093966 \nL 83.675289 89.946047 \n\" clip-path=\"url(#p334165b13e)\" style=\"fill: none; stroke: #1f77b4; stroke-width: 1.5; stroke-linecap: square\"/>\n   </g>\n   <g id=\"line2d_35\">\n    <path d=\"M 49.633125 13.601539 \nL 69.163125 15.162857 \n\" clip-path=\"url(#p334165b13e)\" style=\"fill: none; stroke-dasharray: 5.55,2.4; stroke-dashoffset: 0; stroke: #ff7f0e; stroke-width: 1.5\"/>\n   </g>\n   <g id=\"line2d_36\">\n    <path d=\"M 49.633125 137.769646 \nL 69.163125 139.5 \n\" clip-path=\"url(#p334165b13e)\" style=\"fill: none; stroke-dasharray: 9.6,2.4,1.5,2.4; stroke-dashoffset: 0; stroke: #2ca02c; stroke-width: 1.5\"/>\n   </g>\n   <g id=\"line2d_37\">\n    <path d=\"M 34.954394 13.5 \nL 44.698573 13.55325 \nL 54.442752 13.653411 \nL 64.186931 14.071479 \nL 73.93111 52.093966 \nL 83.675289 89.946047 \n\" clip-path=\"url(#p334165b13e)\" style=\"fill: none; stroke: #1f77b4; stroke-width: 1.5; stroke-linecap: square\"/>\n   </g>\n   <g id=\"line2d_38\">\n    <path d=\"M 49.633125 13.601539 \nL 69.163125 15.162857 \nL 88.693125 96.562269 \n\" clip-path=\"url(#p334165b13e)\" style=\"fill: none; stroke-dasharray: 5.55,2.4; stroke-dashoffset: 0; stroke: #ff7f0e; stroke-width: 1.5\"/>\n   </g>\n   <g id=\"line2d_39\">\n    <path d=\"M 49.633125 137.769646 \nL 69.163125 139.5 \n\" clip-path=\"url(#p334165b13e)\" style=\"fill: none; stroke-dasharray: 9.6,2.4,1.5,2.4; stroke-dashoffset: 0; stroke: #2ca02c; stroke-width: 1.5\"/>\n   </g>\n   <g id=\"line2d_40\">\n    <path d=\"M 34.954394 13.5 \nL 44.698573 13.55325 \nL 54.442752 13.653411 \nL 64.186931 14.071479 \nL 73.93111 52.093966 \nL 83.675289 89.946047 \n\" clip-path=\"url(#p334165b13e)\" style=\"fill: none; stroke: #1f77b4; stroke-width: 1.5; stroke-linecap: square\"/>\n   </g>\n   <g id=\"line2d_41\">\n    <path d=\"M 49.633125 13.601539 \nL 69.163125 15.162857 \nL 88.693125 96.562269 \n\" clip-path=\"url(#p334165b13e)\" style=\"fill: none; stroke-dasharray: 5.55,2.4; stroke-dashoffset: 0; stroke: #ff7f0e; stroke-width: 1.5\"/>\n   </g>\n   <g id=\"line2d_42\">\n    <path d=\"M 49.633125 137.769646 \nL 69.163125 139.5 \nL 88.693125 116.466938 \n\" clip-path=\"url(#p334165b13e)\" style=\"fill: none; stroke-dasharray: 9.6,2.4,1.5,2.4; stroke-dashoffset: 0; stroke: #2ca02c; stroke-width: 1.5\"/>\n   </g>\n   <g id=\"line2d_43\">\n    <path d=\"M 34.954394 13.5 \nL 44.698573 13.55325 \nL 54.442752 13.653411 \nL 64.186931 14.071479 \nL 73.93111 52.093966 \nL 83.675289 89.946047 \nL 93.419468 98.283953 \n\" clip-path=\"url(#p334165b13e)\" style=\"fill: none; stroke: #1f77b4; stroke-width: 1.5; stroke-linecap: square\"/>\n   </g>\n   <g id=\"line2d_44\">\n    <path d=\"M 49.633125 13.601539 \nL 69.163125 15.162857 \nL 88.693125 96.562269 \n\" clip-path=\"url(#p334165b13e)\" style=\"fill: none; stroke-dasharray: 5.55,2.4; stroke-dashoffset: 0; stroke: #ff7f0e; stroke-width: 1.5\"/>\n   </g>\n   <g id=\"line2d_45\">\n    <path d=\"M 49.633125 137.769646 \nL 69.163125 139.5 \nL 88.693125 116.466938 \n\" clip-path=\"url(#p334165b13e)\" style=\"fill: none; stroke-dasharray: 9.6,2.4,1.5,2.4; stroke-dashoffset: 0; stroke: #2ca02c; stroke-width: 1.5\"/>\n   </g>\n   <g id=\"line2d_46\">\n    <path d=\"M 34.954394 13.5 \nL 44.698573 13.55325 \nL 54.442752 13.653411 \nL 64.186931 14.071479 \nL 73.93111 52.093966 \nL 83.675289 89.946047 \nL 93.419468 98.283953 \nL 103.163647 102.74937 \n\" clip-path=\"url(#p334165b13e)\" style=\"fill: none; stroke: #1f77b4; stroke-width: 1.5; stroke-linecap: square\"/>\n   </g>\n   <g id=\"line2d_47\">\n    <path d=\"M 49.633125 13.601539 \nL 69.163125 15.162857 \nL 88.693125 96.562269 \n\" clip-path=\"url(#p334165b13e)\" style=\"fill: none; stroke-dasharray: 5.55,2.4; stroke-dashoffset: 0; stroke: #ff7f0e; stroke-width: 1.5\"/>\n   </g>\n   <g id=\"line2d_48\">\n    <path d=\"M 49.633125 137.769646 \nL 69.163125 139.5 \nL 88.693125 116.466938 \n\" clip-path=\"url(#p334165b13e)\" style=\"fill: none; stroke-dasharray: 9.6,2.4,1.5,2.4; stroke-dashoffset: 0; stroke: #2ca02c; stroke-width: 1.5\"/>\n   </g>\n   <g id=\"line2d_49\">\n    <path d=\"M 34.954394 13.5 \nL 44.698573 13.55325 \nL 54.442752 13.653411 \nL 64.186931 14.071479 \nL 73.93111 52.093966 \nL 83.675289 89.946047 \nL 93.419468 98.283953 \nL 103.163647 102.74937 \n\" clip-path=\"url(#p334165b13e)\" style=\"fill: none; stroke: #1f77b4; stroke-width: 1.5; stroke-linecap: square\"/>\n   </g>\n   <g id=\"line2d_50\">\n    <path d=\"M 49.633125 13.601539 \nL 69.163125 15.162857 \nL 88.693125 96.562269 \nL 108.223125 95.577372 \n\" clip-path=\"url(#p334165b13e)\" style=\"fill: none; stroke-dasharray: 5.55,2.4; stroke-dashoffset: 0; stroke: #ff7f0e; stroke-width: 1.5\"/>\n   </g>\n   <g id=\"line2d_51\">\n    <path d=\"M 49.633125 137.769646 \nL 69.163125 139.5 \nL 88.693125 116.466938 \n\" clip-path=\"url(#p334165b13e)\" style=\"fill: none; stroke-dasharray: 9.6,2.4,1.5,2.4; stroke-dashoffset: 0; stroke: #2ca02c; stroke-width: 1.5\"/>\n   </g>\n   <g id=\"line2d_52\">\n    <path d=\"M 34.954394 13.5 \nL 44.698573 13.55325 \nL 54.442752 13.653411 \nL 64.186931 14.071479 \nL 73.93111 52.093966 \nL 83.675289 89.946047 \nL 93.419468 98.283953 \nL 103.163647 102.74937 \n\" clip-path=\"url(#p334165b13e)\" style=\"fill: none; stroke: #1f77b4; stroke-width: 1.5; stroke-linecap: square\"/>\n   </g>\n   <g id=\"line2d_53\">\n    <path d=\"M 49.633125 13.601539 \nL 69.163125 15.162857 \nL 88.693125 96.562269 \nL 108.223125 95.577372 \n\" clip-path=\"url(#p334165b13e)\" style=\"fill: none; stroke-dasharray: 5.55,2.4; stroke-dashoffset: 0; stroke: #ff7f0e; stroke-width: 1.5\"/>\n   </g>\n   <g id=\"line2d_54\">\n    <path d=\"M 49.633125 137.769646 \nL 69.163125 139.5 \nL 88.693125 116.466938 \nL 108.223125 115.105645 \n\" clip-path=\"url(#p334165b13e)\" style=\"fill: none; stroke-dasharray: 9.6,2.4,1.5,2.4; stroke-dashoffset: 0; stroke: #2ca02c; stroke-width: 1.5\"/>\n   </g>\n   <g id=\"line2d_55\">\n    <path d=\"M 34.954394 13.5 \nL 44.698573 13.55325 \nL 54.442752 13.653411 \nL 64.186931 14.071479 \nL 73.93111 52.093966 \nL 83.675289 89.946047 \nL 93.419468 98.283953 \nL 103.163647 102.74937 \nL 112.907826 106.288583 \n\" clip-path=\"url(#p334165b13e)\" style=\"fill: none; stroke: #1f77b4; stroke-width: 1.5; stroke-linecap: square\"/>\n   </g>\n   <g id=\"line2d_56\">\n    <path d=\"M 49.633125 13.601539 \nL 69.163125 15.162857 \nL 88.693125 96.562269 \nL 108.223125 95.577372 \n\" clip-path=\"url(#p334165b13e)\" style=\"fill: none; stroke-dasharray: 5.55,2.4; stroke-dashoffset: 0; stroke: #ff7f0e; stroke-width: 1.5\"/>\n   </g>\n   <g id=\"line2d_57\">\n    <path d=\"M 49.633125 137.769646 \nL 69.163125 139.5 \nL 88.693125 116.466938 \nL 108.223125 115.105645 \n\" clip-path=\"url(#p334165b13e)\" style=\"fill: none; stroke-dasharray: 9.6,2.4,1.5,2.4; stroke-dashoffset: 0; stroke: #2ca02c; stroke-width: 1.5\"/>\n   </g>\n   <g id=\"line2d_58\">\n    <path d=\"M 34.954394 13.5 \nL 44.698573 13.55325 \nL 54.442752 13.653411 \nL 64.186931 14.071479 \nL 73.93111 52.093966 \nL 83.675289 89.946047 \nL 93.419468 98.283953 \nL 103.163647 102.74937 \nL 112.907826 106.288583 \nL 122.652006 109.080225 \n\" clip-path=\"url(#p334165b13e)\" style=\"fill: none; stroke: #1f77b4; stroke-width: 1.5; stroke-linecap: square\"/>\n   </g>\n   <g id=\"line2d_59\">\n    <path d=\"M 49.633125 13.601539 \nL 69.163125 15.162857 \nL 88.693125 96.562269 \nL 108.223125 95.577372 \n\" clip-path=\"url(#p334165b13e)\" style=\"fill: none; stroke-dasharray: 5.55,2.4; stroke-dashoffset: 0; stroke: #ff7f0e; stroke-width: 1.5\"/>\n   </g>\n   <g id=\"line2d_60\">\n    <path d=\"M 49.633125 137.769646 \nL 69.163125 139.5 \nL 88.693125 116.466938 \nL 108.223125 115.105645 \n\" clip-path=\"url(#p334165b13e)\" style=\"fill: none; stroke-dasharray: 9.6,2.4,1.5,2.4; stroke-dashoffset: 0; stroke: #2ca02c; stroke-width: 1.5\"/>\n   </g>\n   <g id=\"line2d_61\">\n    <path d=\"M 34.954394 13.5 \nL 44.698573 13.55325 \nL 54.442752 13.653411 \nL 64.186931 14.071479 \nL 73.93111 52.093966 \nL 83.675289 89.946047 \nL 93.419468 98.283953 \nL 103.163647 102.74937 \nL 112.907826 106.288583 \nL 122.652006 109.080225 \n\" clip-path=\"url(#p334165b13e)\" style=\"fill: none; stroke: #1f77b4; stroke-width: 1.5; stroke-linecap: square\"/>\n   </g>\n   <g id=\"line2d_62\">\n    <path d=\"M 49.633125 13.601539 \nL 69.163125 15.162857 \nL 88.693125 96.562269 \nL 108.223125 95.577372 \nL 127.753125 111.35062 \n\" clip-path=\"url(#p334165b13e)\" style=\"fill: none; stroke-dasharray: 5.55,2.4; stroke-dashoffset: 0; stroke: #ff7f0e; stroke-width: 1.5\"/>\n   </g>\n   <g id=\"line2d_63\">\n    <path d=\"M 49.633125 137.769646 \nL 69.163125 139.5 \nL 88.693125 116.466938 \nL 108.223125 115.105645 \n\" clip-path=\"url(#p334165b13e)\" style=\"fill: none; stroke-dasharray: 9.6,2.4,1.5,2.4; stroke-dashoffset: 0; stroke: #2ca02c; stroke-width: 1.5\"/>\n   </g>\n   <g id=\"line2d_64\">\n    <path d=\"M 34.954394 13.5 \nL 44.698573 13.55325 \nL 54.442752 13.653411 \nL 64.186931 14.071479 \nL 73.93111 52.093966 \nL 83.675289 89.946047 \nL 93.419468 98.283953 \nL 103.163647 102.74937 \nL 112.907826 106.288583 \nL 122.652006 109.080225 \n\" clip-path=\"url(#p334165b13e)\" style=\"fill: none; stroke: #1f77b4; stroke-width: 1.5; stroke-linecap: square\"/>\n   </g>\n   <g id=\"line2d_65\">\n    <path d=\"M 49.633125 13.601539 \nL 69.163125 15.162857 \nL 88.693125 96.562269 \nL 108.223125 95.577372 \nL 127.753125 111.35062 \n\" clip-path=\"url(#p334165b13e)\" style=\"fill: none; stroke-dasharray: 5.55,2.4; stroke-dashoffset: 0; stroke: #ff7f0e; stroke-width: 1.5\"/>\n   </g>\n   <g id=\"line2d_66\">\n    <path d=\"M 49.633125 137.769646 \nL 69.163125 139.5 \nL 88.693125 116.466938 \nL 108.223125 115.105645 \nL 127.753125 109.146211 \n\" clip-path=\"url(#p334165b13e)\" style=\"fill: none; stroke-dasharray: 9.6,2.4,1.5,2.4; stroke-dashoffset: 0; stroke: #2ca02c; stroke-width: 1.5\"/>\n   </g>\n   <g id=\"line2d_67\">\n    <path d=\"M 34.954394 13.5 \nL 44.698573 13.55325 \nL 54.442752 13.653411 \nL 64.186931 14.071479 \nL 73.93111 52.093966 \nL 83.675289 89.946047 \nL 93.419468 98.283953 \nL 103.163647 102.74937 \nL 112.907826 106.288583 \nL 122.652006 109.080225 \nL 132.396185 112.603487 \n\" clip-path=\"url(#p334165b13e)\" style=\"fill: none; stroke: #1f77b4; stroke-width: 1.5; stroke-linecap: square\"/>\n   </g>\n   <g id=\"line2d_68\">\n    <path d=\"M 49.633125 13.601539 \nL 69.163125 15.162857 \nL 88.693125 96.562269 \nL 108.223125 95.577372 \nL 127.753125 111.35062 \n\" clip-path=\"url(#p334165b13e)\" style=\"fill: none; stroke-dasharray: 5.55,2.4; stroke-dashoffset: 0; stroke: #ff7f0e; stroke-width: 1.5\"/>\n   </g>\n   <g id=\"line2d_69\">\n    <path d=\"M 49.633125 137.769646 \nL 69.163125 139.5 \nL 88.693125 116.466938 \nL 108.223125 115.105645 \nL 127.753125 109.146211 \n\" clip-path=\"url(#p334165b13e)\" style=\"fill: none; stroke-dasharray: 9.6,2.4,1.5,2.4; stroke-dashoffset: 0; stroke: #2ca02c; stroke-width: 1.5\"/>\n   </g>\n   <g id=\"line2d_70\">\n    <path d=\"M 34.954394 13.5 \nL 44.698573 13.55325 \nL 54.442752 13.653411 \nL 64.186931 14.071479 \nL 73.93111 52.093966 \nL 83.675289 89.946047 \nL 93.419468 98.283953 \nL 103.163647 102.74937 \nL 112.907826 106.288583 \nL 122.652006 109.080225 \nL 132.396185 112.603487 \nL 142.140364 114.867326 \n\" clip-path=\"url(#p334165b13e)\" style=\"fill: none; stroke: #1f77b4; stroke-width: 1.5; stroke-linecap: square\"/>\n   </g>\n   <g id=\"line2d_71\">\n    <path d=\"M 49.633125 13.601539 \nL 69.163125 15.162857 \nL 88.693125 96.562269 \nL 108.223125 95.577372 \nL 127.753125 111.35062 \n\" clip-path=\"url(#p334165b13e)\" style=\"fill: none; stroke-dasharray: 5.55,2.4; stroke-dashoffset: 0; stroke: #ff7f0e; stroke-width: 1.5\"/>\n   </g>\n   <g id=\"line2d_72\">\n    <path d=\"M 49.633125 137.769646 \nL 69.163125 139.5 \nL 88.693125 116.466938 \nL 108.223125 115.105645 \nL 127.753125 109.146211 \n\" clip-path=\"url(#p334165b13e)\" style=\"fill: none; stroke-dasharray: 9.6,2.4,1.5,2.4; stroke-dashoffset: 0; stroke: #2ca02c; stroke-width: 1.5\"/>\n   </g>\n   <g id=\"line2d_73\">\n    <path d=\"M 34.954394 13.5 \nL 44.698573 13.55325 \nL 54.442752 13.653411 \nL 64.186931 14.071479 \nL 73.93111 52.093966 \nL 83.675289 89.946047 \nL 93.419468 98.283953 \nL 103.163647 102.74937 \nL 112.907826 106.288583 \nL 122.652006 109.080225 \nL 132.396185 112.603487 \nL 142.140364 114.867326 \n\" clip-path=\"url(#p334165b13e)\" style=\"fill: none; stroke: #1f77b4; stroke-width: 1.5; stroke-linecap: square\"/>\n   </g>\n   <g id=\"line2d_74\">\n    <path d=\"M 49.633125 13.601539 \nL 69.163125 15.162857 \nL 88.693125 96.562269 \nL 108.223125 95.577372 \nL 127.753125 111.35062 \nL 147.283125 115.154901 \n\" clip-path=\"url(#p334165b13e)\" style=\"fill: none; stroke-dasharray: 5.55,2.4; stroke-dashoffset: 0; stroke: #ff7f0e; stroke-width: 1.5\"/>\n   </g>\n   <g id=\"line2d_75\">\n    <path d=\"M 49.633125 137.769646 \nL 69.163125 139.5 \nL 88.693125 116.466938 \nL 108.223125 115.105645 \nL 127.753125 109.146211 \n\" clip-path=\"url(#p334165b13e)\" style=\"fill: none; stroke-dasharray: 9.6,2.4,1.5,2.4; stroke-dashoffset: 0; stroke: #2ca02c; stroke-width: 1.5\"/>\n   </g>\n   <g id=\"line2d_76\">\n    <path d=\"M 34.954394 13.5 \nL 44.698573 13.55325 \nL 54.442752 13.653411 \nL 64.186931 14.071479 \nL 73.93111 52.093966 \nL 83.675289 89.946047 \nL 93.419468 98.283953 \nL 103.163647 102.74937 \nL 112.907826 106.288583 \nL 122.652006 109.080225 \nL 132.396185 112.603487 \nL 142.140364 114.867326 \n\" clip-path=\"url(#p334165b13e)\" style=\"fill: none; stroke: #1f77b4; stroke-width: 1.5; stroke-linecap: square\"/>\n   </g>\n   <g id=\"line2d_77\">\n    <path d=\"M 49.633125 13.601539 \nL 69.163125 15.162857 \nL 88.693125 96.562269 \nL 108.223125 95.577372 \nL 127.753125 111.35062 \nL 147.283125 115.154901 \n\" clip-path=\"url(#p334165b13e)\" style=\"fill: none; stroke-dasharray: 5.55,2.4; stroke-dashoffset: 0; stroke: #ff7f0e; stroke-width: 1.5\"/>\n   </g>\n   <g id=\"line2d_78\">\n    <path d=\"M 49.633125 137.769646 \nL 69.163125 139.5 \nL 88.693125 116.466938 \nL 108.223125 115.105645 \nL 127.753125 109.146211 \nL 147.283125 107.911973 \n\" clip-path=\"url(#p334165b13e)\" style=\"fill: none; stroke-dasharray: 9.6,2.4,1.5,2.4; stroke-dashoffset: 0; stroke: #2ca02c; stroke-width: 1.5\"/>\n   </g>\n   <g id=\"line2d_79\">\n    <path d=\"M 34.954394 13.5 \nL 44.698573 13.55325 \nL 54.442752 13.653411 \nL 64.186931 14.071479 \nL 73.93111 52.093966 \nL 83.675289 89.946047 \nL 93.419468 98.283953 \nL 103.163647 102.74937 \nL 112.907826 106.288583 \nL 122.652006 109.080225 \nL 132.396185 112.603487 \nL 142.140364 114.867326 \nL 151.884543 117.233929 \n\" clip-path=\"url(#p334165b13e)\" style=\"fill: none; stroke: #1f77b4; stroke-width: 1.5; stroke-linecap: square\"/>\n   </g>\n   <g id=\"line2d_80\">\n    <path d=\"M 49.633125 13.601539 \nL 69.163125 15.162857 \nL 88.693125 96.562269 \nL 108.223125 95.577372 \nL 127.753125 111.35062 \nL 147.283125 115.154901 \n\" clip-path=\"url(#p334165b13e)\" style=\"fill: none; stroke-dasharray: 5.55,2.4; stroke-dashoffset: 0; stroke: #ff7f0e; stroke-width: 1.5\"/>\n   </g>\n   <g id=\"line2d_81\">\n    <path d=\"M 49.633125 137.769646 \nL 69.163125 139.5 \nL 88.693125 116.466938 \nL 108.223125 115.105645 \nL 127.753125 109.146211 \nL 147.283125 107.911973 \n\" clip-path=\"url(#p334165b13e)\" style=\"fill: none; stroke-dasharray: 9.6,2.4,1.5,2.4; stroke-dashoffset: 0; stroke: #2ca02c; stroke-width: 1.5\"/>\n   </g>\n   <g id=\"line2d_82\">\n    <path d=\"M 34.954394 13.5 \nL 44.698573 13.55325 \nL 54.442752 13.653411 \nL 64.186931 14.071479 \nL 73.93111 52.093966 \nL 83.675289 89.946047 \nL 93.419468 98.283953 \nL 103.163647 102.74937 \nL 112.907826 106.288583 \nL 122.652006 109.080225 \nL 132.396185 112.603487 \nL 142.140364 114.867326 \nL 151.884543 117.233929 \nL 161.628722 119.10644 \n\" clip-path=\"url(#p334165b13e)\" style=\"fill: none; stroke: #1f77b4; stroke-width: 1.5; stroke-linecap: square\"/>\n   </g>\n   <g id=\"line2d_83\">\n    <path d=\"M 49.633125 13.601539 \nL 69.163125 15.162857 \nL 88.693125 96.562269 \nL 108.223125 95.577372 \nL 127.753125 111.35062 \nL 147.283125 115.154901 \n\" clip-path=\"url(#p334165b13e)\" style=\"fill: none; stroke-dasharray: 5.55,2.4; stroke-dashoffset: 0; stroke: #ff7f0e; stroke-width: 1.5\"/>\n   </g>\n   <g id=\"line2d_84\">\n    <path d=\"M 49.633125 137.769646 \nL 69.163125 139.5 \nL 88.693125 116.466938 \nL 108.223125 115.105645 \nL 127.753125 109.146211 \nL 147.283125 107.911973 \n\" clip-path=\"url(#p334165b13e)\" style=\"fill: none; stroke-dasharray: 9.6,2.4,1.5,2.4; stroke-dashoffset: 0; stroke: #2ca02c; stroke-width: 1.5\"/>\n   </g>\n   <g id=\"line2d_85\">\n    <path d=\"M 34.954394 13.5 \nL 44.698573 13.55325 \nL 54.442752 13.653411 \nL 64.186931 14.071479 \nL 73.93111 52.093966 \nL 83.675289 89.946047 \nL 93.419468 98.283953 \nL 103.163647 102.74937 \nL 112.907826 106.288583 \nL 122.652006 109.080225 \nL 132.396185 112.603487 \nL 142.140364 114.867326 \nL 151.884543 117.233929 \nL 161.628722 119.10644 \n\" clip-path=\"url(#p334165b13e)\" style=\"fill: none; stroke: #1f77b4; stroke-width: 1.5; stroke-linecap: square\"/>\n   </g>\n   <g id=\"line2d_86\">\n    <path d=\"M 49.633125 13.601539 \nL 69.163125 15.162857 \nL 88.693125 96.562269 \nL 108.223125 95.577372 \nL 127.753125 111.35062 \nL 147.283125 115.154901 \nL 166.813125 119.873738 \n\" clip-path=\"url(#p334165b13e)\" style=\"fill: none; stroke-dasharray: 5.55,2.4; stroke-dashoffset: 0; stroke: #ff7f0e; stroke-width: 1.5\"/>\n   </g>\n   <g id=\"line2d_87\">\n    <path d=\"M 49.633125 137.769646 \nL 69.163125 139.5 \nL 88.693125 116.466938 \nL 108.223125 115.105645 \nL 127.753125 109.146211 \nL 147.283125 107.911973 \n\" clip-path=\"url(#p334165b13e)\" style=\"fill: none; stroke-dasharray: 9.6,2.4,1.5,2.4; stroke-dashoffset: 0; stroke: #2ca02c; stroke-width: 1.5\"/>\n   </g>\n   <g id=\"line2d_88\">\n    <path d=\"M 34.954394 13.5 \nL 44.698573 13.55325 \nL 54.442752 13.653411 \nL 64.186931 14.071479 \nL 73.93111 52.093966 \nL 83.675289 89.946047 \nL 93.419468 98.283953 \nL 103.163647 102.74937 \nL 112.907826 106.288583 \nL 122.652006 109.080225 \nL 132.396185 112.603487 \nL 142.140364 114.867326 \nL 151.884543 117.233929 \nL 161.628722 119.10644 \n\" clip-path=\"url(#p334165b13e)\" style=\"fill: none; stroke: #1f77b4; stroke-width: 1.5; stroke-linecap: square\"/>\n   </g>\n   <g id=\"line2d_89\">\n    <path d=\"M 49.633125 13.601539 \nL 69.163125 15.162857 \nL 88.693125 96.562269 \nL 108.223125 95.577372 \nL 127.753125 111.35062 \nL 147.283125 115.154901 \nL 166.813125 119.873738 \n\" clip-path=\"url(#p334165b13e)\" style=\"fill: none; stroke-dasharray: 5.55,2.4; stroke-dashoffset: 0; stroke: #ff7f0e; stroke-width: 1.5\"/>\n   </g>\n   <g id=\"line2d_90\">\n    <path d=\"M 49.633125 137.769646 \nL 69.163125 139.5 \nL 88.693125 116.466938 \nL 108.223125 115.105645 \nL 127.753125 109.146211 \nL 147.283125 107.911973 \nL 166.813125 106.417577 \n\" clip-path=\"url(#p334165b13e)\" style=\"fill: none; stroke-dasharray: 9.6,2.4,1.5,2.4; stroke-dashoffset: 0; stroke: #2ca02c; stroke-width: 1.5\"/>\n   </g>\n   <g id=\"line2d_91\">\n    <path d=\"M 34.954394 13.5 \nL 44.698573 13.55325 \nL 54.442752 13.653411 \nL 64.186931 14.071479 \nL 73.93111 52.093966 \nL 83.675289 89.946047 \nL 93.419468 98.283953 \nL 103.163647 102.74937 \nL 112.907826 106.288583 \nL 122.652006 109.080225 \nL 132.396185 112.603487 \nL 142.140364 114.867326 \nL 151.884543 117.233929 \nL 161.628722 119.10644 \nL 171.372901 120.455259 \n\" clip-path=\"url(#p334165b13e)\" style=\"fill: none; stroke: #1f77b4; stroke-width: 1.5; stroke-linecap: square\"/>\n   </g>\n   <g id=\"line2d_92\">\n    <path d=\"M 49.633125 13.601539 \nL 69.163125 15.162857 \nL 88.693125 96.562269 \nL 108.223125 95.577372 \nL 127.753125 111.35062 \nL 147.283125 115.154901 \nL 166.813125 119.873738 \n\" clip-path=\"url(#p334165b13e)\" style=\"fill: none; stroke-dasharray: 5.55,2.4; stroke-dashoffset: 0; stroke: #ff7f0e; stroke-width: 1.5\"/>\n   </g>\n   <g id=\"line2d_93\">\n    <path d=\"M 49.633125 137.769646 \nL 69.163125 139.5 \nL 88.693125 116.466938 \nL 108.223125 115.105645 \nL 127.753125 109.146211 \nL 147.283125 107.911973 \nL 166.813125 106.417577 \n\" clip-path=\"url(#p334165b13e)\" style=\"fill: none; stroke-dasharray: 9.6,2.4,1.5,2.4; stroke-dashoffset: 0; stroke: #2ca02c; stroke-width: 1.5\"/>\n   </g>\n   <g id=\"line2d_94\">\n    <path d=\"M 34.954394 13.5 \nL 44.698573 13.55325 \nL 54.442752 13.653411 \nL 64.186931 14.071479 \nL 73.93111 52.093966 \nL 83.675289 89.946047 \nL 93.419468 98.283953 \nL 103.163647 102.74937 \nL 112.907826 106.288583 \nL 122.652006 109.080225 \nL 132.396185 112.603487 \nL 142.140364 114.867326 \nL 151.884543 117.233929 \nL 161.628722 119.10644 \nL 171.372901 120.455259 \nL 181.11708 122.077071 \n\" clip-path=\"url(#p334165b13e)\" style=\"fill: none; stroke: #1f77b4; stroke-width: 1.5; stroke-linecap: square\"/>\n   </g>\n   <g id=\"line2d_95\">\n    <path d=\"M 49.633125 13.601539 \nL 69.163125 15.162857 \nL 88.693125 96.562269 \nL 108.223125 95.577372 \nL 127.753125 111.35062 \nL 147.283125 115.154901 \nL 166.813125 119.873738 \n\" clip-path=\"url(#p334165b13e)\" style=\"fill: none; stroke-dasharray: 5.55,2.4; stroke-dashoffset: 0; stroke: #ff7f0e; stroke-width: 1.5\"/>\n   </g>\n   <g id=\"line2d_96\">\n    <path d=\"M 49.633125 137.769646 \nL 69.163125 139.5 \nL 88.693125 116.466938 \nL 108.223125 115.105645 \nL 127.753125 109.146211 \nL 147.283125 107.911973 \nL 166.813125 106.417577 \n\" clip-path=\"url(#p334165b13e)\" style=\"fill: none; stroke-dasharray: 9.6,2.4,1.5,2.4; stroke-dashoffset: 0; stroke: #2ca02c; stroke-width: 1.5\"/>\n   </g>\n   <g id=\"line2d_97\">\n    <path d=\"M 34.954394 13.5 \nL 44.698573 13.55325 \nL 54.442752 13.653411 \nL 64.186931 14.071479 \nL 73.93111 52.093966 \nL 83.675289 89.946047 \nL 93.419468 98.283953 \nL 103.163647 102.74937 \nL 112.907826 106.288583 \nL 122.652006 109.080225 \nL 132.396185 112.603487 \nL 142.140364 114.867326 \nL 151.884543 117.233929 \nL 161.628722 119.10644 \nL 171.372901 120.455259 \nL 181.11708 122.077071 \n\" clip-path=\"url(#p334165b13e)\" style=\"fill: none; stroke: #1f77b4; stroke-width: 1.5; stroke-linecap: square\"/>\n   </g>\n   <g id=\"line2d_98\">\n    <path d=\"M 49.633125 13.601539 \nL 69.163125 15.162857 \nL 88.693125 96.562269 \nL 108.223125 95.577372 \nL 127.753125 111.35062 \nL 147.283125 115.154901 \nL 166.813125 119.873738 \nL 186.343125 121.857346 \n\" clip-path=\"url(#p334165b13e)\" style=\"fill: none; stroke-dasharray: 5.55,2.4; stroke-dashoffset: 0; stroke: #ff7f0e; stroke-width: 1.5\"/>\n   </g>\n   <g id=\"line2d_99\">\n    <path d=\"M 49.633125 137.769646 \nL 69.163125 139.5 \nL 88.693125 116.466938 \nL 108.223125 115.105645 \nL 127.753125 109.146211 \nL 147.283125 107.911973 \nL 166.813125 106.417577 \n\" clip-path=\"url(#p334165b13e)\" style=\"fill: none; stroke-dasharray: 9.6,2.4,1.5,2.4; stroke-dashoffset: 0; stroke: #2ca02c; stroke-width: 1.5\"/>\n   </g>\n   <g id=\"line2d_100\">\n    <path d=\"M 34.954394 13.5 \nL 44.698573 13.55325 \nL 54.442752 13.653411 \nL 64.186931 14.071479 \nL 73.93111 52.093966 \nL 83.675289 89.946047 \nL 93.419468 98.283953 \nL 103.163647 102.74937 \nL 112.907826 106.288583 \nL 122.652006 109.080225 \nL 132.396185 112.603487 \nL 142.140364 114.867326 \nL 151.884543 117.233929 \nL 161.628722 119.10644 \nL 171.372901 120.455259 \nL 181.11708 122.077071 \n\" clip-path=\"url(#p334165b13e)\" style=\"fill: none; stroke: #1f77b4; stroke-width: 1.5; stroke-linecap: square\"/>\n   </g>\n   <g id=\"line2d_101\">\n    <path d=\"M 49.633125 13.601539 \nL 69.163125 15.162857 \nL 88.693125 96.562269 \nL 108.223125 95.577372 \nL 127.753125 111.35062 \nL 147.283125 115.154901 \nL 166.813125 119.873738 \nL 186.343125 121.857346 \n\" clip-path=\"url(#p334165b13e)\" style=\"fill: none; stroke-dasharray: 5.55,2.4; stroke-dashoffset: 0; stroke: #ff7f0e; stroke-width: 1.5\"/>\n   </g>\n   <g id=\"line2d_102\">\n    <path d=\"M 49.633125 137.769646 \nL 69.163125 139.5 \nL 88.693125 116.466938 \nL 108.223125 115.105645 \nL 127.753125 109.146211 \nL 147.283125 107.911973 \nL 166.813125 106.417577 \nL 186.343125 105.183339 \n\" clip-path=\"url(#p334165b13e)\" style=\"fill: none; stroke-dasharray: 9.6,2.4,1.5,2.4; stroke-dashoffset: 0; stroke: #2ca02c; stroke-width: 1.5\"/>\n   </g>\n   <g id=\"line2d_103\">\n    <path d=\"M 34.954394 13.5 \nL 44.698573 13.55325 \nL 54.442752 13.653411 \nL 64.186931 14.071479 \nL 73.93111 52.093966 \nL 83.675289 89.946047 \nL 93.419468 98.283953 \nL 103.163647 102.74937 \nL 112.907826 106.288583 \nL 122.652006 109.080225 \nL 132.396185 112.603487 \nL 142.140364 114.867326 \nL 151.884543 117.233929 \nL 161.628722 119.10644 \nL 171.372901 120.455259 \nL 181.11708 122.077071 \nL 190.861259 123.260649 \n\" clip-path=\"url(#p334165b13e)\" style=\"fill: none; stroke: #1f77b4; stroke-width: 1.5; stroke-linecap: square\"/>\n   </g>\n   <g id=\"line2d_104\">\n    <path d=\"M 49.633125 13.601539 \nL 69.163125 15.162857 \nL 88.693125 96.562269 \nL 108.223125 95.577372 \nL 127.753125 111.35062 \nL 147.283125 115.154901 \nL 166.813125 119.873738 \nL 186.343125 121.857346 \n\" clip-path=\"url(#p334165b13e)\" style=\"fill: none; stroke-dasharray: 5.55,2.4; stroke-dashoffset: 0; stroke: #ff7f0e; stroke-width: 1.5\"/>\n   </g>\n   <g id=\"line2d_105\">\n    <path d=\"M 49.633125 137.769646 \nL 69.163125 139.5 \nL 88.693125 116.466938 \nL 108.223125 115.105645 \nL 127.753125 109.146211 \nL 147.283125 107.911973 \nL 166.813125 106.417577 \nL 186.343125 105.183339 \n\" clip-path=\"url(#p334165b13e)\" style=\"fill: none; stroke-dasharray: 9.6,2.4,1.5,2.4; stroke-dashoffset: 0; stroke: #2ca02c; stroke-width: 1.5\"/>\n   </g>\n   <g id=\"line2d_106\">\n    <path d=\"M 34.954394 13.5 \nL 44.698573 13.55325 \nL 54.442752 13.653411 \nL 64.186931 14.071479 \nL 73.93111 52.093966 \nL 83.675289 89.946047 \nL 93.419468 98.283953 \nL 103.163647 102.74937 \nL 112.907826 106.288583 \nL 122.652006 109.080225 \nL 132.396185 112.603487 \nL 142.140364 114.867326 \nL 151.884543 117.233929 \nL 161.628722 119.10644 \nL 171.372901 120.455259 \nL 181.11708 122.077071 \nL 190.861259 123.260649 \nL 200.605438 124.123479 \n\" clip-path=\"url(#p334165b13e)\" style=\"fill: none; stroke: #1f77b4; stroke-width: 1.5; stroke-linecap: square\"/>\n   </g>\n   <g id=\"line2d_107\">\n    <path d=\"M 49.633125 13.601539 \nL 69.163125 15.162857 \nL 88.693125 96.562269 \nL 108.223125 95.577372 \nL 127.753125 111.35062 \nL 147.283125 115.154901 \nL 166.813125 119.873738 \nL 186.343125 121.857346 \n\" clip-path=\"url(#p334165b13e)\" style=\"fill: none; stroke-dasharray: 5.55,2.4; stroke-dashoffset: 0; stroke: #ff7f0e; stroke-width: 1.5\"/>\n   </g>\n   <g id=\"line2d_108\">\n    <path d=\"M 49.633125 137.769646 \nL 69.163125 139.5 \nL 88.693125 116.466938 \nL 108.223125 115.105645 \nL 127.753125 109.146211 \nL 147.283125 107.911973 \nL 166.813125 106.417577 \nL 186.343125 105.183339 \n\" clip-path=\"url(#p334165b13e)\" style=\"fill: none; stroke-dasharray: 9.6,2.4,1.5,2.4; stroke-dashoffset: 0; stroke: #2ca02c; stroke-width: 1.5\"/>\n   </g>\n   <g id=\"line2d_109\">\n    <path d=\"M 34.954394 13.5 \nL 44.698573 13.55325 \nL 54.442752 13.653411 \nL 64.186931 14.071479 \nL 73.93111 52.093966 \nL 83.675289 89.946047 \nL 93.419468 98.283953 \nL 103.163647 102.74937 \nL 112.907826 106.288583 \nL 122.652006 109.080225 \nL 132.396185 112.603487 \nL 142.140364 114.867326 \nL 151.884543 117.233929 \nL 161.628722 119.10644 \nL 171.372901 120.455259 \nL 181.11708 122.077071 \nL 190.861259 123.260649 \nL 200.605438 124.123479 \n\" clip-path=\"url(#p334165b13e)\" style=\"fill: none; stroke: #1f77b4; stroke-width: 1.5; stroke-linecap: square\"/>\n   </g>\n   <g id=\"line2d_110\">\n    <path d=\"M 49.633125 13.601539 \nL 69.163125 15.162857 \nL 88.693125 96.562269 \nL 108.223125 95.577372 \nL 127.753125 111.35062 \nL 147.283125 115.154901 \nL 166.813125 119.873738 \nL 186.343125 121.857346 \nL 205.873125 125.583302 \n\" clip-path=\"url(#p334165b13e)\" style=\"fill: none; stroke-dasharray: 5.55,2.4; stroke-dashoffset: 0; stroke: #ff7f0e; stroke-width: 1.5\"/>\n   </g>\n   <g id=\"line2d_111\">\n    <path d=\"M 49.633125 137.769646 \nL 69.163125 139.5 \nL 88.693125 116.466938 \nL 108.223125 115.105645 \nL 127.753125 109.146211 \nL 147.283125 107.911973 \nL 166.813125 106.417577 \nL 186.343125 105.183339 \n\" clip-path=\"url(#p334165b13e)\" style=\"fill: none; stroke-dasharray: 9.6,2.4,1.5,2.4; stroke-dashoffset: 0; stroke: #2ca02c; stroke-width: 1.5\"/>\n   </g>\n   <g id=\"line2d_112\">\n    <path d=\"M 34.954394 13.5 \nL 44.698573 13.55325 \nL 54.442752 13.653411 \nL 64.186931 14.071479 \nL 73.93111 52.093966 \nL 83.675289 89.946047 \nL 93.419468 98.283953 \nL 103.163647 102.74937 \nL 112.907826 106.288583 \nL 122.652006 109.080225 \nL 132.396185 112.603487 \nL 142.140364 114.867326 \nL 151.884543 117.233929 \nL 161.628722 119.10644 \nL 171.372901 120.455259 \nL 181.11708 122.077071 \nL 190.861259 123.260649 \nL 200.605438 124.123479 \n\" clip-path=\"url(#p334165b13e)\" style=\"fill: none; stroke: #1f77b4; stroke-width: 1.5; stroke-linecap: square\"/>\n   </g>\n   <g id=\"line2d_113\">\n    <path d=\"M 49.633125 13.601539 \nL 69.163125 15.162857 \nL 88.693125 96.562269 \nL 108.223125 95.577372 \nL 127.753125 111.35062 \nL 147.283125 115.154901 \nL 166.813125 119.873738 \nL 186.343125 121.857346 \nL 205.873125 125.583302 \n\" clip-path=\"url(#p334165b13e)\" style=\"fill: none; stroke-dasharray: 5.55,2.4; stroke-dashoffset: 0; stroke: #ff7f0e; stroke-width: 1.5\"/>\n   </g>\n   <g id=\"line2d_114\">\n    <path d=\"M 49.633125 137.769646 \nL 69.163125 139.5 \nL 88.693125 116.466938 \nL 108.223125 115.105645 \nL 127.753125 109.146211 \nL 147.283125 107.911973 \nL 166.813125 106.417577 \nL 186.343125 105.183339 \nL 205.873125 103.906749 \n\" clip-path=\"url(#p334165b13e)\" style=\"fill: none; stroke-dasharray: 9.6,2.4,1.5,2.4; stroke-dashoffset: 0; stroke: #2ca02c; stroke-width: 1.5\"/>\n   </g>\n   <g id=\"line2d_115\">\n    <path d=\"M 34.954394 13.5 \nL 44.698573 13.55325 \nL 54.442752 13.653411 \nL 64.186931 14.071479 \nL 73.93111 52.093966 \nL 83.675289 89.946047 \nL 93.419468 98.283953 \nL 103.163647 102.74937 \nL 112.907826 106.288583 \nL 122.652006 109.080225 \nL 132.396185 112.603487 \nL 142.140364 114.867326 \nL 151.884543 117.233929 \nL 161.628722 119.10644 \nL 171.372901 120.455259 \nL 181.11708 122.077071 \nL 190.861259 123.260649 \nL 200.605438 124.123479 \nL 210.349618 125.235781 \n\" clip-path=\"url(#p334165b13e)\" style=\"fill: none; stroke: #1f77b4; stroke-width: 1.5; stroke-linecap: square\"/>\n   </g>\n   <g id=\"line2d_116\">\n    <path d=\"M 49.633125 13.601539 \nL 69.163125 15.162857 \nL 88.693125 96.562269 \nL 108.223125 95.577372 \nL 127.753125 111.35062 \nL 147.283125 115.154901 \nL 166.813125 119.873738 \nL 186.343125 121.857346 \nL 205.873125 125.583302 \n\" clip-path=\"url(#p334165b13e)\" style=\"fill: none; stroke-dasharray: 5.55,2.4; stroke-dashoffset: 0; stroke: #ff7f0e; stroke-width: 1.5\"/>\n   </g>\n   <g id=\"line2d_117\">\n    <path d=\"M 49.633125 137.769646 \nL 69.163125 139.5 \nL 88.693125 116.466938 \nL 108.223125 115.105645 \nL 127.753125 109.146211 \nL 147.283125 107.911973 \nL 166.813125 106.417577 \nL 186.343125 105.183339 \nL 205.873125 103.906749 \n\" clip-path=\"url(#p334165b13e)\" style=\"fill: none; stroke-dasharray: 9.6,2.4,1.5,2.4; stroke-dashoffset: 0; stroke: #2ca02c; stroke-width: 1.5\"/>\n   </g>\n   <g id=\"line2d_118\">\n    <path d=\"M 34.954394 13.5 \nL 44.698573 13.55325 \nL 54.442752 13.653411 \nL 64.186931 14.071479 \nL 73.93111 52.093966 \nL 83.675289 89.946047 \nL 93.419468 98.283953 \nL 103.163647 102.74937 \nL 112.907826 106.288583 \nL 122.652006 109.080225 \nL 132.396185 112.603487 \nL 142.140364 114.867326 \nL 151.884543 117.233929 \nL 161.628722 119.10644 \nL 171.372901 120.455259 \nL 181.11708 122.077071 \nL 190.861259 123.260649 \nL 200.605438 124.123479 \nL 210.349618 125.235781 \nL 220.093797 125.69519 \n\" clip-path=\"url(#p334165b13e)\" style=\"fill: none; stroke: #1f77b4; stroke-width: 1.5; stroke-linecap: square\"/>\n   </g>\n   <g id=\"line2d_119\">\n    <path d=\"M 49.633125 13.601539 \nL 69.163125 15.162857 \nL 88.693125 96.562269 \nL 108.223125 95.577372 \nL 127.753125 111.35062 \nL 147.283125 115.154901 \nL 166.813125 119.873738 \nL 186.343125 121.857346 \nL 205.873125 125.583302 \n\" clip-path=\"url(#p334165b13e)\" style=\"fill: none; stroke-dasharray: 5.55,2.4; stroke-dashoffset: 0; stroke: #ff7f0e; stroke-width: 1.5\"/>\n   </g>\n   <g id=\"line2d_120\">\n    <path d=\"M 49.633125 137.769646 \nL 69.163125 139.5 \nL 88.693125 116.466938 \nL 108.223125 115.105645 \nL 127.753125 109.146211 \nL 147.283125 107.911973 \nL 166.813125 106.417577 \nL 186.343125 105.183339 \nL 205.873125 103.906749 \n\" clip-path=\"url(#p334165b13e)\" style=\"fill: none; stroke-dasharray: 9.6,2.4,1.5,2.4; stroke-dashoffset: 0; stroke: #2ca02c; stroke-width: 1.5\"/>\n   </g>\n   <g id=\"line2d_121\">\n    <path d=\"M 34.954394 13.5 \nL 44.698573 13.55325 \nL 54.442752 13.653411 \nL 64.186931 14.071479 \nL 73.93111 52.093966 \nL 83.675289 89.946047 \nL 93.419468 98.283953 \nL 103.163647 102.74937 \nL 112.907826 106.288583 \nL 122.652006 109.080225 \nL 132.396185 112.603487 \nL 142.140364 114.867326 \nL 151.884543 117.233929 \nL 161.628722 119.10644 \nL 171.372901 120.455259 \nL 181.11708 122.077071 \nL 190.861259 123.260649 \nL 200.605438 124.123479 \nL 210.349618 125.235781 \nL 220.093797 125.69519 \n\" clip-path=\"url(#p334165b13e)\" style=\"fill: none; stroke: #1f77b4; stroke-width: 1.5; stroke-linecap: square\"/>\n   </g>\n   <g id=\"line2d_122\">\n    <path d=\"M 49.633125 13.601539 \nL 69.163125 15.162857 \nL 88.693125 96.562269 \nL 108.223125 95.577372 \nL 127.753125 111.35062 \nL 147.283125 115.154901 \nL 166.813125 119.873738 \nL 186.343125 121.857346 \nL 205.873125 125.583302 \nL 225.403125 126.471306 \n\" clip-path=\"url(#p334165b13e)\" style=\"fill: none; stroke-dasharray: 5.55,2.4; stroke-dashoffset: 0; stroke: #ff7f0e; stroke-width: 1.5\"/>\n   </g>\n   <g id=\"line2d_123\">\n    <path d=\"M 49.633125 137.769646 \nL 69.163125 139.5 \nL 88.693125 116.466938 \nL 108.223125 115.105645 \nL 127.753125 109.146211 \nL 147.283125 107.911973 \nL 166.813125 106.417577 \nL 186.343125 105.183339 \nL 205.873125 103.906749 \n\" clip-path=\"url(#p334165b13e)\" style=\"fill: none; stroke-dasharray: 9.6,2.4,1.5,2.4; stroke-dashoffset: 0; stroke: #2ca02c; stroke-width: 1.5\"/>\n   </g>\n   <g id=\"line2d_124\">\n    <path d=\"M 34.954394 13.5 \nL 44.698573 13.55325 \nL 54.442752 13.653411 \nL 64.186931 14.071479 \nL 73.93111 52.093966 \nL 83.675289 89.946047 \nL 93.419468 98.283953 \nL 103.163647 102.74937 \nL 112.907826 106.288583 \nL 122.652006 109.080225 \nL 132.396185 112.603487 \nL 142.140364 114.867326 \nL 151.884543 117.233929 \nL 161.628722 119.10644 \nL 171.372901 120.455259 \nL 181.11708 122.077071 \nL 190.861259 123.260649 \nL 200.605438 124.123479 \nL 210.349618 125.235781 \nL 220.093797 125.69519 \n\" clip-path=\"url(#p334165b13e)\" style=\"fill: none; stroke: #1f77b4; stroke-width: 1.5; stroke-linecap: square\"/>\n   </g>\n   <g id=\"line2d_125\">\n    <path d=\"M 49.633125 13.601539 \nL 69.163125 15.162857 \nL 88.693125 96.562269 \nL 108.223125 95.577372 \nL 127.753125 111.35062 \nL 147.283125 115.154901 \nL 166.813125 119.873738 \nL 186.343125 121.857346 \nL 205.873125 125.583302 \nL 225.403125 126.471306 \n\" clip-path=\"url(#p334165b13e)\" style=\"fill: none; stroke-dasharray: 5.55,2.4; stroke-dashoffset: 0; stroke: #ff7f0e; stroke-width: 1.5\"/>\n   </g>\n   <g id=\"line2d_126\">\n    <path d=\"M 49.633125 137.769646 \nL 69.163125 139.5 \nL 88.693125 116.466938 \nL 108.223125 115.105645 \nL 127.753125 109.146211 \nL 147.283125 107.911973 \nL 166.813125 106.417577 \nL 186.343125 105.183339 \nL 205.873125 103.906749 \nL 225.403125 103.573989 \n\" clip-path=\"url(#p334165b13e)\" style=\"fill: none; stroke-dasharray: 9.6,2.4,1.5,2.4; stroke-dashoffset: 0; stroke: #2ca02c; stroke-width: 1.5\"/>\n   </g>\n   <g id=\"patch_3\">\n    <path d=\"M 30.103125 145.8 \nL 30.103125 7.2 \n\" style=\"fill: none; stroke: #000000; stroke-width: 0.8; stroke-linejoin: miter; stroke-linecap: square\"/>\n   </g>\n   <g id=\"patch_4\">\n    <path d=\"M 225.403125 145.8 \nL 225.403125 7.2 \n\" style=\"fill: none; stroke: #000000; stroke-width: 0.8; stroke-linejoin: miter; stroke-linecap: square\"/>\n   </g>\n   <g id=\"patch_5\">\n    <path d=\"M 30.103125 145.8 \nL 225.403125 145.8 \n\" style=\"fill: none; stroke: #000000; stroke-width: 0.8; stroke-linejoin: miter; stroke-linecap: square\"/>\n   </g>\n   <g id=\"patch_6\">\n    <path d=\"M 30.103125 7.2 \nL 225.403125 7.2 \n\" style=\"fill: none; stroke: #000000; stroke-width: 0.8; stroke-linejoin: miter; stroke-linecap: square\"/>\n   </g>\n   <g id=\"legend_1\">\n    <g id=\"patch_7\">\n     <path d=\"M 138.8125 60.06875 \nL 218.403125 60.06875 \nQ 220.403125 60.06875 220.403125 58.06875 \nL 220.403125 14.2 \nQ 220.403125 12.2 218.403125 12.2 \nL 138.8125 12.2 \nQ 136.8125 12.2 136.8125 14.2 \nL 136.8125 58.06875 \nQ 136.8125 60.06875 138.8125 60.06875 \nz\n\" style=\"fill: #ffffff; opacity: 0.8; stroke: #cccccc; stroke-linejoin: miter\"/>\n    </g>\n    <g id=\"line2d_127\">\n     <path d=\"M 140.8125 20.298438 \nL 150.8125 20.298438 \nL 160.8125 20.298438 \n\" style=\"fill: none; stroke: #1f77b4; stroke-width: 1.5; stroke-linecap: square\"/>\n    </g>\n    <g id=\"text_12\">\n     <!-- train_loss -->\n     <g transform=\"translate(168.8125 23.798438) scale(0.1 -0.1)\">\n      <defs>\n       <path id=\"DejaVuSans-74\" d=\"M 1172 4494 \nL 1172 3500 \nL 2356 3500 \nL 2356 3053 \nL 1172 3053 \nL 1172 1153 \nQ 1172 725 1289 603 \nQ 1406 481 1766 481 \nL 2356 481 \nL 2356 0 \nL 1766 0 \nQ 1100 0 847 248 \nQ 594 497 594 1153 \nL 594 3053 \nL 172 3053 \nL 172 3500 \nL 594 3500 \nL 594 4494 \nL 1172 4494 \nz\n\" transform=\"scale(0.015625)\"/>\n       <path id=\"DejaVuSans-72\" d=\"M 2631 2963 \nQ 2534 3019 2420 3045 \nQ 2306 3072 2169 3072 \nQ 1681 3072 1420 2755 \nQ 1159 2438 1159 1844 \nL 1159 0 \nL 581 0 \nL 581 3500 \nL 1159 3500 \nL 1159 2956 \nQ 1341 3275 1631 3429 \nQ 1922 3584 2338 3584 \nQ 2397 3584 2469 3576 \nQ 2541 3569 2628 3553 \nL 2631 2963 \nz\n\" transform=\"scale(0.015625)\"/>\n       <path id=\"DejaVuSans-61\" d=\"M 2194 1759 \nQ 1497 1759 1228 1600 \nQ 959 1441 959 1056 \nQ 959 750 1161 570 \nQ 1363 391 1709 391 \nQ 2188 391 2477 730 \nQ 2766 1069 2766 1631 \nL 2766 1759 \nL 2194 1759 \nz\nM 3341 1997 \nL 3341 0 \nL 2766 0 \nL 2766 531 \nQ 2569 213 2275 61 \nQ 1981 -91 1556 -91 \nQ 1019 -91 701 211 \nQ 384 513 384 1019 \nQ 384 1609 779 1909 \nQ 1175 2209 1959 2209 \nL 2766 2209 \nL 2766 2266 \nQ 2766 2663 2505 2880 \nQ 2244 3097 1772 3097 \nQ 1472 3097 1187 3025 \nQ 903 2953 641 2809 \nL 641 3341 \nQ 956 3463 1253 3523 \nQ 1550 3584 1831 3584 \nQ 2591 3584 2966 3190 \nQ 3341 2797 3341 1997 \nz\n\" transform=\"scale(0.015625)\"/>\n       <path id=\"DejaVuSans-69\" d=\"M 603 3500 \nL 1178 3500 \nL 1178 0 \nL 603 0 \nL 603 3500 \nz\nM 603 4863 \nL 1178 4863 \nL 1178 4134 \nL 603 4134 \nL 603 4863 \nz\n\" transform=\"scale(0.015625)\"/>\n       <path id=\"DejaVuSans-6e\" d=\"M 3513 2113 \nL 3513 0 \nL 2938 0 \nL 2938 2094 \nQ 2938 2591 2744 2837 \nQ 2550 3084 2163 3084 \nQ 1697 3084 1428 2787 \nQ 1159 2491 1159 1978 \nL 1159 0 \nL 581 0 \nL 581 3500 \nL 1159 3500 \nL 1159 2956 \nQ 1366 3272 1645 3428 \nQ 1925 3584 2291 3584 \nQ 2894 3584 3203 3211 \nQ 3513 2838 3513 2113 \nz\n\" transform=\"scale(0.015625)\"/>\n       <path id=\"DejaVuSans-5f\" d=\"M 3263 -1063 \nL 3263 -1509 \nL -63 -1509 \nL -63 -1063 \nL 3263 -1063 \nz\n\" transform=\"scale(0.015625)\"/>\n       <path id=\"DejaVuSans-6c\" d=\"M 603 4863 \nL 1178 4863 \nL 1178 0 \nL 603 0 \nL 603 4863 \nz\n\" transform=\"scale(0.015625)\"/>\n       <path id=\"DejaVuSans-73\" d=\"M 2834 3397 \nL 2834 2853 \nQ 2591 2978 2328 3040 \nQ 2066 3103 1784 3103 \nQ 1356 3103 1142 2972 \nQ 928 2841 928 2578 \nQ 928 2378 1081 2264 \nQ 1234 2150 1697 2047 \nL 1894 2003 \nQ 2506 1872 2764 1633 \nQ 3022 1394 3022 966 \nQ 3022 478 2636 193 \nQ 2250 -91 1575 -91 \nQ 1294 -91 989 -36 \nQ 684 19 347 128 \nL 347 722 \nQ 666 556 975 473 \nQ 1284 391 1588 391 \nQ 1994 391 2212 530 \nQ 2431 669 2431 922 \nQ 2431 1156 2273 1281 \nQ 2116 1406 1581 1522 \nL 1381 1569 \nQ 847 1681 609 1914 \nQ 372 2147 372 2553 \nQ 372 3047 722 3315 \nQ 1072 3584 1716 3584 \nQ 2034 3584 2315 3537 \nQ 2597 3491 2834 3397 \nz\n\" transform=\"scale(0.015625)\"/>\n      </defs>\n      <use xlink:href=\"#DejaVuSans-74\"/>\n      <use xlink:href=\"#DejaVuSans-72\" x=\"39.208984\"/>\n      <use xlink:href=\"#DejaVuSans-61\" x=\"80.322266\"/>\n      <use xlink:href=\"#DejaVuSans-69\" x=\"141.601562\"/>\n      <use xlink:href=\"#DejaVuSans-6e\" x=\"169.384766\"/>\n      <use xlink:href=\"#DejaVuSans-5f\" x=\"232.763672\"/>\n      <use xlink:href=\"#DejaVuSans-6c\" x=\"282.763672\"/>\n      <use xlink:href=\"#DejaVuSans-6f\" x=\"310.546875\"/>\n      <use xlink:href=\"#DejaVuSans-73\" x=\"371.728516\"/>\n      <use xlink:href=\"#DejaVuSans-73\" x=\"423.828125\"/>\n     </g>\n    </g>\n    <g id=\"line2d_128\">\n     <path d=\"M 140.8125 35.254688 \nL 150.8125 35.254688 \nL 160.8125 35.254688 \n\" style=\"fill: none; stroke-dasharray: 5.55,2.4; stroke-dashoffset: 0; stroke: #ff7f0e; stroke-width: 1.5\"/>\n    </g>\n    <g id=\"text_13\">\n     <!-- val_loss -->\n     <g transform=\"translate(168.8125 38.754688) scale(0.1 -0.1)\">\n      <defs>\n       <path id=\"DejaVuSans-76\" d=\"M 191 3500 \nL 800 3500 \nL 1894 563 \nL 2988 3500 \nL 3597 3500 \nL 2284 0 \nL 1503 0 \nL 191 3500 \nz\n\" transform=\"scale(0.015625)\"/>\n      </defs>\n      <use xlink:href=\"#DejaVuSans-76\"/>\n      <use xlink:href=\"#DejaVuSans-61\" x=\"59.179688\"/>\n      <use xlink:href=\"#DejaVuSans-6c\" x=\"120.458984\"/>\n      <use xlink:href=\"#DejaVuSans-5f\" x=\"148.242188\"/>\n      <use xlink:href=\"#DejaVuSans-6c\" x=\"198.242188\"/>\n      <use xlink:href=\"#DejaVuSans-6f\" x=\"226.025391\"/>\n      <use xlink:href=\"#DejaVuSans-73\" x=\"287.207031\"/>\n      <use xlink:href=\"#DejaVuSans-73\" x=\"339.306641\"/>\n     </g>\n    </g>\n    <g id=\"line2d_129\">\n     <path d=\"M 140.8125 50.210938 \nL 150.8125 50.210938 \nL 160.8125 50.210938 \n\" style=\"fill: none; stroke-dasharray: 9.6,2.4,1.5,2.4; stroke-dashoffset: 0; stroke: #2ca02c; stroke-width: 1.5\"/>\n    </g>\n    <g id=\"text_14\">\n     <!-- val_acc -->\n     <g transform=\"translate(168.8125 53.710938) scale(0.1 -0.1)\">\n      <use xlink:href=\"#DejaVuSans-76\"/>\n      <use xlink:href=\"#DejaVuSans-61\" x=\"59.179688\"/>\n      <use xlink:href=\"#DejaVuSans-6c\" x=\"120.458984\"/>\n      <use xlink:href=\"#DejaVuSans-5f\" x=\"148.242188\"/>\n      <use xlink:href=\"#DejaVuSans-61\" x=\"198.242188\"/>\n      <use xlink:href=\"#DejaVuSans-63\" x=\"259.521484\"/>\n      <use xlink:href=\"#DejaVuSans-63\" x=\"314.501953\"/>\n     </g>\n    </g>\n   </g>\n  </g>\n </g>\n <defs>\n  <clipPath id=\"p334165b13e\">\n   <rect x=\"30.103125\" y=\"7.2\" width=\"195.3\" height=\"138.6\"/>\n  </clipPath>\n </defs>\n</svg>\n"
          },
          "metadata": {}
        }
      ],
      "source": [
        "model = AlexNet(lr=0.01)\n",
        "data = d2l.FashionMNIST(batch_size=128, resize=(224, 224))\n",
        "trainer = d2l.Trainer(max_epochs=10, num_gpus=1)\n",
        "trainer.fit(model, data)"
      ]
    },
    {
      "cell_type": "markdown",
      "metadata": {
        "id": "w1-TZSMxpqvQ"
      },
      "source": [
        "# 8.2. Networks Using Blocks (VGG)"
      ]
    },
    {
      "cell_type": "code",
      "execution_count": 6,
      "metadata": {
        "id": "7o77hKL2pm98"
      },
      "outputs": [],
      "source": [
        "import torch\n",
        "from torch import nn\n",
        "from d2l import torch as d2l"
      ]
    },
    {
      "cell_type": "markdown",
      "metadata": {
        "id": "JXlNaUNop0tf"
      },
      "source": [
        "8.2.1. VGG Blocks"
      ]
    },
    {
      "cell_type": "code",
      "execution_count": 7,
      "metadata": {
        "id": "xd-mO2ssp3qZ"
      },
      "outputs": [],
      "source": [
        "def vgg_block(num_convs, out_channels):\n",
        "    layers = []\n",
        "    for _ in range(num_convs):\n",
        "        layers.append(nn.LazyConv2d(out_channels, kernel_size=3, padding=1))\n",
        "        layers.append(nn.ReLU())\n",
        "    layers.append(nn.MaxPool2d(kernel_size=2,stride=2))\n",
        "    return nn.Sequential(*layers)"
      ]
    },
    {
      "cell_type": "markdown",
      "metadata": {
        "id": "qVqh0XBep7zZ"
      },
      "source": [
        "8.2.2. VGG Network"
      ]
    },
    {
      "cell_type": "code",
      "execution_count": 8,
      "metadata": {
        "id": "Xkgq2JsEp9Gq"
      },
      "outputs": [],
      "source": [
        "class VGG(d2l.Classifier):\n",
        "    def __init__(self, arch, lr=0.1, num_classes=10):\n",
        "        super().__init__()\n",
        "        self.save_hyperparameters()\n",
        "        conv_blks = []\n",
        "        for (num_convs, out_channels) in arch:\n",
        "            conv_blks.append(vgg_block(num_convs, out_channels))\n",
        "        self.net = nn.Sequential(\n",
        "            *conv_blks, nn.Flatten(),\n",
        "            nn.LazyLinear(4096), nn.ReLU(), nn.Dropout(0.5),\n",
        "            nn.LazyLinear(4096), nn.ReLU(), nn.Dropout(0.5),\n",
        "            nn.LazyLinear(num_classes))\n",
        "        self.net.apply(d2l.init_cnn)"
      ]
    },
    {
      "cell_type": "code",
      "execution_count": 9,
      "metadata": {
        "id": "0baSziYOqBr3",
        "colab": {
          "base_uri": "https://localhost:8080/"
        },
        "outputId": "6f6a927e-d791-4899-9ca3-4387663e4579"
      },
      "outputs": [
        {
          "output_type": "stream",
          "name": "stdout",
          "text": [
            "Sequential output shape:\t torch.Size([1, 64, 112, 112])\n",
            "Sequential output shape:\t torch.Size([1, 128, 56, 56])\n",
            "Sequential output shape:\t torch.Size([1, 256, 28, 28])\n",
            "Sequential output shape:\t torch.Size([1, 512, 14, 14])\n",
            "Sequential output shape:\t torch.Size([1, 512, 7, 7])\n",
            "Flatten output shape:\t torch.Size([1, 25088])\n",
            "Linear output shape:\t torch.Size([1, 4096])\n",
            "ReLU output shape:\t torch.Size([1, 4096])\n",
            "Dropout output shape:\t torch.Size([1, 4096])\n",
            "Linear output shape:\t torch.Size([1, 4096])\n",
            "ReLU output shape:\t torch.Size([1, 4096])\n",
            "Dropout output shape:\t torch.Size([1, 4096])\n",
            "Linear output shape:\t torch.Size([1, 10])\n"
          ]
        }
      ],
      "source": [
        "VGG(arch=((1, 64), (1, 128), (2, 256), (2, 512), (2, 512))).layer_summary(\n",
        "    (1, 1, 224, 224))"
      ]
    },
    {
      "cell_type": "markdown",
      "metadata": {
        "id": "yXWIzeFXqEOG"
      },
      "source": [
        "8.2.3. Training"
      ]
    },
    {
      "cell_type": "code",
      "execution_count": 10,
      "metadata": {
        "id": "XveUI26dqF5l",
        "colab": {
          "base_uri": "https://localhost:8080/",
          "height": 265
        },
        "outputId": "155717b3-a6df-4262-d79e-df81ca497712"
      },
      "outputs": [
        {
          "output_type": "display_data",
          "data": {
            "text/plain": [
              "<Figure size 350x250 with 1 Axes>"
            ],
            "image/svg+xml": "<?xml version=\"1.0\" encoding=\"utf-8\" standalone=\"no\"?>\n<!DOCTYPE svg PUBLIC \"-//W3C//DTD SVG 1.1//EN\"\n  \"http://www.w3.org/Graphics/SVG/1.1/DTD/svg11.dtd\">\n<svg xmlns:xlink=\"http://www.w3.org/1999/xlink\" width=\"238.965625pt\" height=\"183.35625pt\" viewBox=\"0 0 238.965625 183.35625\" xmlns=\"http://www.w3.org/2000/svg\" version=\"1.1\">\n <metadata>\n  <rdf:RDF xmlns:dc=\"http://purl.org/dc/elements/1.1/\" xmlns:cc=\"http://creativecommons.org/ns#\" xmlns:rdf=\"http://www.w3.org/1999/02/22-rdf-syntax-ns#\">\n   <cc:Work>\n    <dc:type rdf:resource=\"http://purl.org/dc/dcmitype/StillImage\"/>\n    <dc:date>2024-10-04T13:03:30.953776</dc:date>\n    <dc:format>image/svg+xml</dc:format>\n    <dc:creator>\n     <cc:Agent>\n      <dc:title>Matplotlib v3.7.2, https://matplotlib.org/</dc:title>\n     </cc:Agent>\n    </dc:creator>\n   </cc:Work>\n  </rdf:RDF>\n </metadata>\n <defs>\n  <style type=\"text/css\">*{stroke-linejoin: round; stroke-linecap: butt}</style>\n </defs>\n <g id=\"figure_1\">\n  <g id=\"patch_1\">\n   <path d=\"M 0 183.35625 \nL 238.965625 183.35625 \nL 238.965625 0 \nL 0 0 \nz\n\" style=\"fill: #ffffff\"/>\n  </g>\n  <g id=\"axes_1\">\n   <g id=\"patch_2\">\n    <path d=\"M 30.103125 145.8 \nL 225.403125 145.8 \nL 225.403125 7.2 \nL 30.103125 7.2 \nz\n\" style=\"fill: #ffffff\"/>\n   </g>\n   <g id=\"matplotlib.axis_1\">\n    <g id=\"xtick_1\">\n     <g id=\"line2d_1\">\n      <defs>\n       <path id=\"m94e723b5d3\" d=\"M 0 0 \nL 0 3.5 \n\" style=\"stroke: #000000; stroke-width: 0.8\"/>\n      </defs>\n      <g>\n       <use xlink:href=\"#m94e723b5d3\" x=\"30.103125\" y=\"145.8\" style=\"stroke: #000000; stroke-width: 0.8\"/>\n      </g>\n     </g>\n     <g id=\"text_1\">\n      <!-- 0 -->\n      <g transform=\"translate(26.921875 160.398438) scale(0.1 -0.1)\">\n       <defs>\n        <path id=\"DejaVuSans-30\" d=\"M 2034 4250 \nQ 1547 4250 1301 3770 \nQ 1056 3291 1056 2328 \nQ 1056 1369 1301 889 \nQ 1547 409 2034 409 \nQ 2525 409 2770 889 \nQ 3016 1369 3016 2328 \nQ 3016 3291 2770 3770 \nQ 2525 4250 2034 4250 \nz\nM 2034 4750 \nQ 2819 4750 3233 4129 \nQ 3647 3509 3647 2328 \nQ 3647 1150 3233 529 \nQ 2819 -91 2034 -91 \nQ 1250 -91 836 529 \nQ 422 1150 422 2328 \nQ 422 3509 836 4129 \nQ 1250 4750 2034 4750 \nz\n\" transform=\"scale(0.015625)\"/>\n       </defs>\n       <use xlink:href=\"#DejaVuSans-30\"/>\n      </g>\n     </g>\n    </g>\n    <g id=\"xtick_2\">\n     <g id=\"line2d_2\">\n      <g>\n       <use xlink:href=\"#m94e723b5d3\" x=\"69.163125\" y=\"145.8\" style=\"stroke: #000000; stroke-width: 0.8\"/>\n      </g>\n     </g>\n     <g id=\"text_2\">\n      <!-- 2 -->\n      <g transform=\"translate(65.981875 160.398438) scale(0.1 -0.1)\">\n       <defs>\n        <path id=\"DejaVuSans-32\" d=\"M 1228 531 \nL 3431 531 \nL 3431 0 \nL 469 0 \nL 469 531 \nQ 828 903 1448 1529 \nQ 2069 2156 2228 2338 \nQ 2531 2678 2651 2914 \nQ 2772 3150 2772 3378 \nQ 2772 3750 2511 3984 \nQ 2250 4219 1831 4219 \nQ 1534 4219 1204 4116 \nQ 875 4013 500 3803 \nL 500 4441 \nQ 881 4594 1212 4672 \nQ 1544 4750 1819 4750 \nQ 2544 4750 2975 4387 \nQ 3406 4025 3406 3419 \nQ 3406 3131 3298 2873 \nQ 3191 2616 2906 2266 \nQ 2828 2175 2409 1742 \nQ 1991 1309 1228 531 \nz\n\" transform=\"scale(0.015625)\"/>\n       </defs>\n       <use xlink:href=\"#DejaVuSans-32\"/>\n      </g>\n     </g>\n    </g>\n    <g id=\"xtick_3\">\n     <g id=\"line2d_3\">\n      <g>\n       <use xlink:href=\"#m94e723b5d3\" x=\"108.223125\" y=\"145.8\" style=\"stroke: #000000; stroke-width: 0.8\"/>\n      </g>\n     </g>\n     <g id=\"text_3\">\n      <!-- 4 -->\n      <g transform=\"translate(105.041875 160.398438) scale(0.1 -0.1)\">\n       <defs>\n        <path id=\"DejaVuSans-34\" d=\"M 2419 4116 \nL 825 1625 \nL 2419 1625 \nL 2419 4116 \nz\nM 2253 4666 \nL 3047 4666 \nL 3047 1625 \nL 3713 1625 \nL 3713 1100 \nL 3047 1100 \nL 3047 0 \nL 2419 0 \nL 2419 1100 \nL 313 1100 \nL 313 1709 \nL 2253 4666 \nz\n\" transform=\"scale(0.015625)\"/>\n       </defs>\n       <use xlink:href=\"#DejaVuSans-34\"/>\n      </g>\n     </g>\n    </g>\n    <g id=\"xtick_4\">\n     <g id=\"line2d_4\">\n      <g>\n       <use xlink:href=\"#m94e723b5d3\" x=\"147.283125\" y=\"145.8\" style=\"stroke: #000000; stroke-width: 0.8\"/>\n      </g>\n     </g>\n     <g id=\"text_4\">\n      <!-- 6 -->\n      <g transform=\"translate(144.101875 160.398438) scale(0.1 -0.1)\">\n       <defs>\n        <path id=\"DejaVuSans-36\" d=\"M 2113 2584 \nQ 1688 2584 1439 2293 \nQ 1191 2003 1191 1497 \nQ 1191 994 1439 701 \nQ 1688 409 2113 409 \nQ 2538 409 2786 701 \nQ 3034 994 3034 1497 \nQ 3034 2003 2786 2293 \nQ 2538 2584 2113 2584 \nz\nM 3366 4563 \nL 3366 3988 \nQ 3128 4100 2886 4159 \nQ 2644 4219 2406 4219 \nQ 1781 4219 1451 3797 \nQ 1122 3375 1075 2522 \nQ 1259 2794 1537 2939 \nQ 1816 3084 2150 3084 \nQ 2853 3084 3261 2657 \nQ 3669 2231 3669 1497 \nQ 3669 778 3244 343 \nQ 2819 -91 2113 -91 \nQ 1303 -91 875 529 \nQ 447 1150 447 2328 \nQ 447 3434 972 4092 \nQ 1497 4750 2381 4750 \nQ 2619 4750 2861 4703 \nQ 3103 4656 3366 4563 \nz\n\" transform=\"scale(0.015625)\"/>\n       </defs>\n       <use xlink:href=\"#DejaVuSans-36\"/>\n      </g>\n     </g>\n    </g>\n    <g id=\"xtick_5\">\n     <g id=\"line2d_5\">\n      <g>\n       <use xlink:href=\"#m94e723b5d3\" x=\"186.343125\" y=\"145.8\" style=\"stroke: #000000; stroke-width: 0.8\"/>\n      </g>\n     </g>\n     <g id=\"text_5\">\n      <!-- 8 -->\n      <g transform=\"translate(183.161875 160.398438) scale(0.1 -0.1)\">\n       <defs>\n        <path id=\"DejaVuSans-38\" d=\"M 2034 2216 \nQ 1584 2216 1326 1975 \nQ 1069 1734 1069 1313 \nQ 1069 891 1326 650 \nQ 1584 409 2034 409 \nQ 2484 409 2743 651 \nQ 3003 894 3003 1313 \nQ 3003 1734 2745 1975 \nQ 2488 2216 2034 2216 \nz\nM 1403 2484 \nQ 997 2584 770 2862 \nQ 544 3141 544 3541 \nQ 544 4100 942 4425 \nQ 1341 4750 2034 4750 \nQ 2731 4750 3128 4425 \nQ 3525 4100 3525 3541 \nQ 3525 3141 3298 2862 \nQ 3072 2584 2669 2484 \nQ 3125 2378 3379 2068 \nQ 3634 1759 3634 1313 \nQ 3634 634 3220 271 \nQ 2806 -91 2034 -91 \nQ 1263 -91 848 271 \nQ 434 634 434 1313 \nQ 434 1759 690 2068 \nQ 947 2378 1403 2484 \nz\nM 1172 3481 \nQ 1172 3119 1398 2916 \nQ 1625 2713 2034 2713 \nQ 2441 2713 2670 2916 \nQ 2900 3119 2900 3481 \nQ 2900 3844 2670 4047 \nQ 2441 4250 2034 4250 \nQ 1625 4250 1398 4047 \nQ 1172 3844 1172 3481 \nz\n\" transform=\"scale(0.015625)\"/>\n       </defs>\n       <use xlink:href=\"#DejaVuSans-38\"/>\n      </g>\n     </g>\n    </g>\n    <g id=\"xtick_6\">\n     <g id=\"line2d_6\">\n      <g>\n       <use xlink:href=\"#m94e723b5d3\" x=\"225.403125\" y=\"145.8\" style=\"stroke: #000000; stroke-width: 0.8\"/>\n      </g>\n     </g>\n     <g id=\"text_6\">\n      <!-- 10 -->\n      <g transform=\"translate(219.040625 160.398438) scale(0.1 -0.1)\">\n       <defs>\n        <path id=\"DejaVuSans-31\" d=\"M 794 531 \nL 1825 531 \nL 1825 4091 \nL 703 3866 \nL 703 4441 \nL 1819 4666 \nL 2450 4666 \nL 2450 531 \nL 3481 531 \nL 3481 0 \nL 794 0 \nL 794 531 \nz\n\" transform=\"scale(0.015625)\"/>\n       </defs>\n       <use xlink:href=\"#DejaVuSans-31\"/>\n       <use xlink:href=\"#DejaVuSans-30\" x=\"63.623047\"/>\n      </g>\n     </g>\n    </g>\n    <g id=\"text_7\">\n     <!-- epoch -->\n     <g transform=\"translate(112.525 174.076563) scale(0.1 -0.1)\">\n      <defs>\n       <path id=\"DejaVuSans-65\" d=\"M 3597 1894 \nL 3597 1613 \nL 953 1613 \nQ 991 1019 1311 708 \nQ 1631 397 2203 397 \nQ 2534 397 2845 478 \nQ 3156 559 3463 722 \nL 3463 178 \nQ 3153 47 2828 -22 \nQ 2503 -91 2169 -91 \nQ 1331 -91 842 396 \nQ 353 884 353 1716 \nQ 353 2575 817 3079 \nQ 1281 3584 2069 3584 \nQ 2775 3584 3186 3129 \nQ 3597 2675 3597 1894 \nz\nM 3022 2063 \nQ 3016 2534 2758 2815 \nQ 2500 3097 2075 3097 \nQ 1594 3097 1305 2825 \nQ 1016 2553 972 2059 \nL 3022 2063 \nz\n\" transform=\"scale(0.015625)\"/>\n       <path id=\"DejaVuSans-70\" d=\"M 1159 525 \nL 1159 -1331 \nL 581 -1331 \nL 581 3500 \nL 1159 3500 \nL 1159 2969 \nQ 1341 3281 1617 3432 \nQ 1894 3584 2278 3584 \nQ 2916 3584 3314 3078 \nQ 3713 2572 3713 1747 \nQ 3713 922 3314 415 \nQ 2916 -91 2278 -91 \nQ 1894 -91 1617 61 \nQ 1341 213 1159 525 \nz\nM 3116 1747 \nQ 3116 2381 2855 2742 \nQ 2594 3103 2138 3103 \nQ 1681 3103 1420 2742 \nQ 1159 2381 1159 1747 \nQ 1159 1113 1420 752 \nQ 1681 391 2138 391 \nQ 2594 391 2855 752 \nQ 3116 1113 3116 1747 \nz\n\" transform=\"scale(0.015625)\"/>\n       <path id=\"DejaVuSans-6f\" d=\"M 1959 3097 \nQ 1497 3097 1228 2736 \nQ 959 2375 959 1747 \nQ 959 1119 1226 758 \nQ 1494 397 1959 397 \nQ 2419 397 2687 759 \nQ 2956 1122 2956 1747 \nQ 2956 2369 2687 2733 \nQ 2419 3097 1959 3097 \nz\nM 1959 3584 \nQ 2709 3584 3137 3096 \nQ 3566 2609 3566 1747 \nQ 3566 888 3137 398 \nQ 2709 -91 1959 -91 \nQ 1206 -91 779 398 \nQ 353 888 353 1747 \nQ 353 2609 779 3096 \nQ 1206 3584 1959 3584 \nz\n\" transform=\"scale(0.015625)\"/>\n       <path id=\"DejaVuSans-63\" d=\"M 3122 3366 \nL 3122 2828 \nQ 2878 2963 2633 3030 \nQ 2388 3097 2138 3097 \nQ 1578 3097 1268 2742 \nQ 959 2388 959 1747 \nQ 959 1106 1268 751 \nQ 1578 397 2138 397 \nQ 2388 397 2633 464 \nQ 2878 531 3122 666 \nL 3122 134 \nQ 2881 22 2623 -34 \nQ 2366 -91 2075 -91 \nQ 1284 -91 818 406 \nQ 353 903 353 1747 \nQ 353 2603 823 3093 \nQ 1294 3584 2113 3584 \nQ 2378 3584 2631 3529 \nQ 2884 3475 3122 3366 \nz\n\" transform=\"scale(0.015625)\"/>\n       <path id=\"DejaVuSans-68\" d=\"M 3513 2113 \nL 3513 0 \nL 2938 0 \nL 2938 2094 \nQ 2938 2591 2744 2837 \nQ 2550 3084 2163 3084 \nQ 1697 3084 1428 2787 \nQ 1159 2491 1159 1978 \nL 1159 0 \nL 581 0 \nL 581 4863 \nL 1159 4863 \nL 1159 2956 \nQ 1366 3272 1645 3428 \nQ 1925 3584 2291 3584 \nQ 2894 3584 3203 3211 \nQ 3513 2838 3513 2113 \nz\n\" transform=\"scale(0.015625)\"/>\n      </defs>\n      <use xlink:href=\"#DejaVuSans-65\"/>\n      <use xlink:href=\"#DejaVuSans-70\" x=\"61.523438\"/>\n      <use xlink:href=\"#DejaVuSans-6f\" x=\"125\"/>\n      <use xlink:href=\"#DejaVuSans-63\" x=\"186.181641\"/>\n      <use xlink:href=\"#DejaVuSans-68\" x=\"241.162109\"/>\n     </g>\n    </g>\n   </g>\n   <g id=\"matplotlib.axis_2\">\n    <g id=\"ytick_1\">\n     <g id=\"line2d_7\">\n      <defs>\n       <path id=\"m43c40c2b41\" d=\"M 0 0 \nL -3.5 0 \n\" style=\"stroke: #000000; stroke-width: 0.8\"/>\n      </defs>\n      <g>\n       <use xlink:href=\"#m43c40c2b41\" x=\"30.103125\" y=\"127.012254\" style=\"stroke: #000000; stroke-width: 0.8\"/>\n      </g>\n     </g>\n     <g id=\"text_8\">\n      <!-- 0.5 -->\n      <g transform=\"translate(7.2 130.811473) scale(0.1 -0.1)\">\n       <defs>\n        <path id=\"DejaVuSans-2e\" d=\"M 684 794 \nL 1344 794 \nL 1344 0 \nL 684 0 \nL 684 794 \nz\n\" transform=\"scale(0.015625)\"/>\n        <path id=\"DejaVuSans-35\" d=\"M 691 4666 \nL 3169 4666 \nL 3169 4134 \nL 1269 4134 \nL 1269 2991 \nQ 1406 3038 1543 3061 \nQ 1681 3084 1819 3084 \nQ 2600 3084 3056 2656 \nQ 3513 2228 3513 1497 \nQ 3513 744 3044 326 \nQ 2575 -91 1722 -91 \nQ 1428 -91 1123 -41 \nQ 819 9 494 109 \nL 494 744 \nQ 775 591 1075 516 \nQ 1375 441 1709 441 \nQ 2250 441 2565 725 \nQ 2881 1009 2881 1497 \nQ 2881 1984 2565 2268 \nQ 2250 2553 1709 2553 \nQ 1456 2553 1204 2497 \nQ 953 2441 691 2322 \nL 691 4666 \nz\n\" transform=\"scale(0.015625)\"/>\n       </defs>\n       <use xlink:href=\"#DejaVuSans-30\"/>\n       <use xlink:href=\"#DejaVuSans-2e\" x=\"63.623047\"/>\n       <use xlink:href=\"#DejaVuSans-35\" x=\"95.410156\"/>\n      </g>\n     </g>\n    </g>\n    <g id=\"ytick_2\">\n     <g id=\"line2d_8\">\n      <g>\n       <use xlink:href=\"#m43c40c2b41\" x=\"30.103125\" y=\"95.410202\" style=\"stroke: #000000; stroke-width: 0.8\"/>\n      </g>\n     </g>\n     <g id=\"text_9\">\n      <!-- 1.0 -->\n      <g transform=\"translate(7.2 99.209421) scale(0.1 -0.1)\">\n       <use xlink:href=\"#DejaVuSans-31\"/>\n       <use xlink:href=\"#DejaVuSans-2e\" x=\"63.623047\"/>\n       <use xlink:href=\"#DejaVuSans-30\" x=\"95.410156\"/>\n      </g>\n     </g>\n    </g>\n    <g id=\"ytick_3\">\n     <g id=\"line2d_9\">\n      <g>\n       <use xlink:href=\"#m43c40c2b41\" x=\"30.103125\" y=\"63.808149\" style=\"stroke: #000000; stroke-width: 0.8\"/>\n      </g>\n     </g>\n     <g id=\"text_10\">\n      <!-- 1.5 -->\n      <g transform=\"translate(7.2 67.607368) scale(0.1 -0.1)\">\n       <use xlink:href=\"#DejaVuSans-31\"/>\n       <use xlink:href=\"#DejaVuSans-2e\" x=\"63.623047\"/>\n       <use xlink:href=\"#DejaVuSans-35\" x=\"95.410156\"/>\n      </g>\n     </g>\n    </g>\n    <g id=\"ytick_4\">\n     <g id=\"line2d_10\">\n      <g>\n       <use xlink:href=\"#m43c40c2b41\" x=\"30.103125\" y=\"32.206097\" style=\"stroke: #000000; stroke-width: 0.8\"/>\n      </g>\n     </g>\n     <g id=\"text_11\">\n      <!-- 2.0 -->\n      <g transform=\"translate(7.2 36.005316) scale(0.1 -0.1)\">\n       <use xlink:href=\"#DejaVuSans-32\"/>\n       <use xlink:href=\"#DejaVuSans-2e\" x=\"63.623047\"/>\n       <use xlink:href=\"#DejaVuSans-30\" x=\"95.410156\"/>\n      </g>\n     </g>\n    </g>\n   </g>\n   <g id=\"line2d_11\">\n    <path d=\"M 34.954394 13.5 \n\" clip-path=\"url(#p3de33829b0)\" style=\"fill: none; stroke: #1f77b4; stroke-width: 1.5; stroke-linecap: square\"/>\n   </g>\n   <g id=\"line2d_12\">\n    <path d=\"M 34.954394 13.5 \nL 44.698573 62.872135 \n\" clip-path=\"url(#p3de33829b0)\" style=\"fill: none; stroke: #1f77b4; stroke-width: 1.5; stroke-linecap: square\"/>\n   </g>\n   <g id=\"line2d_13\">\n    <path d=\"M 34.954394 13.5 \nL 44.698573 62.872135 \n\" clip-path=\"url(#p3de33829b0)\" style=\"fill: none; stroke: #1f77b4; stroke-width: 1.5; stroke-linecap: square\"/>\n   </g>\n   <g id=\"line2d_14\">\n    <path d=\"M 49.633125 110.790924 \n\" clip-path=\"url(#p3de33829b0)\" style=\"fill: none; stroke-dasharray: 5.55,2.4; stroke-dashoffset: 0; stroke: #ff7f0e; stroke-width: 1.5\"/>\n   </g>\n   <g id=\"line2d_15\"/>\n   <g id=\"line2d_16\">\n    <path d=\"M 34.954394 13.5 \nL 44.698573 62.872135 \n\" clip-path=\"url(#p3de33829b0)\" style=\"fill: none; stroke: #1f77b4; stroke-width: 1.5; stroke-linecap: square\"/>\n   </g>\n   <g id=\"line2d_17\">\n    <path d=\"M 49.633125 110.790924 \n\" clip-path=\"url(#p3de33829b0)\" style=\"fill: none; stroke-dasharray: 5.55,2.4; stroke-dashoffset: 0; stroke: #ff7f0e; stroke-width: 1.5\"/>\n   </g>\n   <g id=\"line2d_18\">\n    <path d=\"M 49.633125 114.267677 \n\" clip-path=\"url(#p3de33829b0)\" style=\"fill: none; stroke-dasharray: 9.6,2.4,1.5,2.4; stroke-dashoffset: 0; stroke: #2ca02c; stroke-width: 1.5\"/>\n   </g>\n   <g id=\"line2d_19\">\n    <path d=\"M 34.954394 13.5 \nL 44.698573 62.872135 \nL 54.442752 111.34723 \n\" clip-path=\"url(#p3de33829b0)\" style=\"fill: none; stroke: #1f77b4; stroke-width: 1.5; stroke-linecap: square\"/>\n   </g>\n   <g id=\"line2d_20\">\n    <path d=\"M 49.633125 110.790924 \n\" clip-path=\"url(#p3de33829b0)\" style=\"fill: none; stroke-dasharray: 5.55,2.4; stroke-dashoffset: 0; stroke: #ff7f0e; stroke-width: 1.5\"/>\n   </g>\n   <g id=\"line2d_21\">\n    <path d=\"M 49.633125 114.267677 \n\" clip-path=\"url(#p3de33829b0)\" style=\"fill: none; stroke-dasharray: 9.6,2.4,1.5,2.4; stroke-dashoffset: 0; stroke: #2ca02c; stroke-width: 1.5\"/>\n   </g>\n   <g id=\"line2d_22\">\n    <path d=\"M 34.954394 13.5 \nL 44.698573 62.872135 \nL 54.442752 111.34723 \nL 64.186931 119.42644 \n\" clip-path=\"url(#p3de33829b0)\" style=\"fill: none; stroke: #1f77b4; stroke-width: 1.5; stroke-linecap: square\"/>\n   </g>\n   <g id=\"line2d_23\">\n    <path d=\"M 49.633125 110.790924 \n\" clip-path=\"url(#p3de33829b0)\" style=\"fill: none; stroke-dasharray: 5.55,2.4; stroke-dashoffset: 0; stroke: #ff7f0e; stroke-width: 1.5\"/>\n   </g>\n   <g id=\"line2d_24\">\n    <path d=\"M 49.633125 114.267677 \n\" clip-path=\"url(#p3de33829b0)\" style=\"fill: none; stroke-dasharray: 9.6,2.4,1.5,2.4; stroke-dashoffset: 0; stroke: #2ca02c; stroke-width: 1.5\"/>\n   </g>\n   <g id=\"line2d_25\">\n    <path d=\"M 34.954394 13.5 \nL 44.698573 62.872135 \nL 54.442752 111.34723 \nL 64.186931 119.42644 \n\" clip-path=\"url(#p3de33829b0)\" style=\"fill: none; stroke: #1f77b4; stroke-width: 1.5; stroke-linecap: square\"/>\n   </g>\n   <g id=\"line2d_26\">\n    <path d=\"M 49.633125 110.790924 \nL 69.163125 124.753121 \n\" clip-path=\"url(#p3de33829b0)\" style=\"fill: none; stroke-dasharray: 5.55,2.4; stroke-dashoffset: 0; stroke: #ff7f0e; stroke-width: 1.5\"/>\n   </g>\n   <g id=\"line2d_27\">\n    <path d=\"M 49.633125 114.267677 \n\" clip-path=\"url(#p3de33829b0)\" style=\"fill: none; stroke-dasharray: 9.6,2.4,1.5,2.4; stroke-dashoffset: 0; stroke: #2ca02c; stroke-width: 1.5\"/>\n   </g>\n   <g id=\"line2d_28\">\n    <path d=\"M 34.954394 13.5 \nL 44.698573 62.872135 \nL 54.442752 111.34723 \nL 64.186931 119.42644 \n\" clip-path=\"url(#p3de33829b0)\" style=\"fill: none; stroke: #1f77b4; stroke-width: 1.5; stroke-linecap: square\"/>\n   </g>\n   <g id=\"line2d_29\">\n    <path d=\"M 49.633125 110.790924 \nL 69.163125 124.753121 \n\" clip-path=\"url(#p3de33829b0)\" style=\"fill: none; stroke-dasharray: 5.55,2.4; stroke-dashoffset: 0; stroke: #ff7f0e; stroke-width: 1.5\"/>\n   </g>\n   <g id=\"line2d_30\">\n    <path d=\"M 49.633125 114.267677 \nL 69.163125 108.436048 \n\" clip-path=\"url(#p3de33829b0)\" style=\"fill: none; stroke-dasharray: 9.6,2.4,1.5,2.4; stroke-dashoffset: 0; stroke: #2ca02c; stroke-width: 1.5\"/>\n   </g>\n   <g id=\"line2d_31\">\n    <path d=\"M 34.954394 13.5 \nL 44.698573 62.872135 \nL 54.442752 111.34723 \nL 64.186931 119.42644 \nL 73.93111 123.826056 \n\" clip-path=\"url(#p3de33829b0)\" style=\"fill: none; stroke: #1f77b4; stroke-width: 1.5; stroke-linecap: square\"/>\n   </g>\n   <g id=\"line2d_32\">\n    <path d=\"M 49.633125 110.790924 \nL 69.163125 124.753121 \n\" clip-path=\"url(#p3de33829b0)\" style=\"fill: none; stroke-dasharray: 5.55,2.4; stroke-dashoffset: 0; stroke: #ff7f0e; stroke-width: 1.5\"/>\n   </g>\n   <g id=\"line2d_33\">\n    <path d=\"M 49.633125 114.267677 \nL 69.163125 108.436048 \n\" clip-path=\"url(#p3de33829b0)\" style=\"fill: none; stroke-dasharray: 9.6,2.4,1.5,2.4; stroke-dashoffset: 0; stroke: #2ca02c; stroke-width: 1.5\"/>\n   </g>\n   <g id=\"line2d_34\">\n    <path d=\"M 34.954394 13.5 \nL 44.698573 62.872135 \nL 54.442752 111.34723 \nL 64.186931 119.42644 \nL 73.93111 123.826056 \nL 83.675289 126.938124 \n\" clip-path=\"url(#p3de33829b0)\" style=\"fill: none; stroke: #1f77b4; stroke-width: 1.5; stroke-linecap: square\"/>\n   </g>\n   <g id=\"line2d_35\">\n    <path d=\"M 49.633125 110.790924 \nL 69.163125 124.753121 \n\" clip-path=\"url(#p3de33829b0)\" style=\"fill: none; stroke-dasharray: 5.55,2.4; stroke-dashoffset: 0; stroke: #ff7f0e; stroke-width: 1.5\"/>\n   </g>\n   <g id=\"line2d_36\">\n    <path d=\"M 49.633125 114.267677 \nL 69.163125 108.436048 \n\" clip-path=\"url(#p3de33829b0)\" style=\"fill: none; stroke-dasharray: 9.6,2.4,1.5,2.4; stroke-dashoffset: 0; stroke: #2ca02c; stroke-width: 1.5\"/>\n   </g>\n   <g id=\"line2d_37\">\n    <path d=\"M 34.954394 13.5 \nL 44.698573 62.872135 \nL 54.442752 111.34723 \nL 64.186931 119.42644 \nL 73.93111 123.826056 \nL 83.675289 126.938124 \n\" clip-path=\"url(#p3de33829b0)\" style=\"fill: none; stroke: #1f77b4; stroke-width: 1.5; stroke-linecap: square\"/>\n   </g>\n   <g id=\"line2d_38\">\n    <path d=\"M 49.633125 110.790924 \nL 69.163125 124.753121 \nL 88.693125 130.990645 \n\" clip-path=\"url(#p3de33829b0)\" style=\"fill: none; stroke-dasharray: 5.55,2.4; stroke-dashoffset: 0; stroke: #ff7f0e; stroke-width: 1.5\"/>\n   </g>\n   <g id=\"line2d_39\">\n    <path d=\"M 49.633125 114.267677 \nL 69.163125 108.436048 \n\" clip-path=\"url(#p3de33829b0)\" style=\"fill: none; stroke-dasharray: 9.6,2.4,1.5,2.4; stroke-dashoffset: 0; stroke: #2ca02c; stroke-width: 1.5\"/>\n   </g>\n   <g id=\"line2d_40\">\n    <path d=\"M 34.954394 13.5 \nL 44.698573 62.872135 \nL 54.442752 111.34723 \nL 64.186931 119.42644 \nL 73.93111 123.826056 \nL 83.675289 126.938124 \n\" clip-path=\"url(#p3de33829b0)\" style=\"fill: none; stroke: #1f77b4; stroke-width: 1.5; stroke-linecap: square\"/>\n   </g>\n   <g id=\"line2d_41\">\n    <path d=\"M 49.633125 110.790924 \nL 69.163125 124.753121 \nL 88.693125 130.990645 \n\" clip-path=\"url(#p3de33829b0)\" style=\"fill: none; stroke-dasharray: 5.55,2.4; stroke-dashoffset: 0; stroke: #ff7f0e; stroke-width: 1.5\"/>\n   </g>\n   <g id=\"line2d_42\">\n    <path d=\"M 49.633125 114.267677 \nL 69.163125 108.436048 \nL 88.693125 105.554611 \n\" clip-path=\"url(#p3de33829b0)\" style=\"fill: none; stroke-dasharray: 9.6,2.4,1.5,2.4; stroke-dashoffset: 0; stroke: #2ca02c; stroke-width: 1.5\"/>\n   </g>\n   <g id=\"line2d_43\">\n    <path d=\"M 34.954394 13.5 \nL 44.698573 62.872135 \nL 54.442752 111.34723 \nL 64.186931 119.42644 \nL 73.93111 123.826056 \nL 83.675289 126.938124 \nL 93.419468 129.142212 \n\" clip-path=\"url(#p3de33829b0)\" style=\"fill: none; stroke: #1f77b4; stroke-width: 1.5; stroke-linecap: square\"/>\n   </g>\n   <g id=\"line2d_44\">\n    <path d=\"M 49.633125 110.790924 \nL 69.163125 124.753121 \nL 88.693125 130.990645 \n\" clip-path=\"url(#p3de33829b0)\" style=\"fill: none; stroke-dasharray: 5.55,2.4; stroke-dashoffset: 0; stroke: #ff7f0e; stroke-width: 1.5\"/>\n   </g>\n   <g id=\"line2d_45\">\n    <path d=\"M 49.633125 114.267677 \nL 69.163125 108.436048 \nL 88.693125 105.554611 \n\" clip-path=\"url(#p3de33829b0)\" style=\"fill: none; stroke-dasharray: 9.6,2.4,1.5,2.4; stroke-dashoffset: 0; stroke: #2ca02c; stroke-width: 1.5\"/>\n   </g>\n   <g id=\"line2d_46\">\n    <path d=\"M 34.954394 13.5 \nL 44.698573 62.872135 \nL 54.442752 111.34723 \nL 64.186931 119.42644 \nL 73.93111 123.826056 \nL 83.675289 126.938124 \nL 93.419468 129.142212 \nL 103.163647 131.143711 \n\" clip-path=\"url(#p3de33829b0)\" style=\"fill: none; stroke: #1f77b4; stroke-width: 1.5; stroke-linecap: square\"/>\n   </g>\n   <g id=\"line2d_47\">\n    <path d=\"M 49.633125 110.790924 \nL 69.163125 124.753121 \nL 88.693125 130.990645 \n\" clip-path=\"url(#p3de33829b0)\" style=\"fill: none; stroke-dasharray: 5.55,2.4; stroke-dashoffset: 0; stroke: #ff7f0e; stroke-width: 1.5\"/>\n   </g>\n   <g id=\"line2d_48\">\n    <path d=\"M 49.633125 114.267677 \nL 69.163125 108.436048 \nL 88.693125 105.554611 \n\" clip-path=\"url(#p3de33829b0)\" style=\"fill: none; stroke-dasharray: 9.6,2.4,1.5,2.4; stroke-dashoffset: 0; stroke: #2ca02c; stroke-width: 1.5\"/>\n   </g>\n   <g id=\"line2d_49\">\n    <path d=\"M 34.954394 13.5 \nL 44.698573 62.872135 \nL 54.442752 111.34723 \nL 64.186931 119.42644 \nL 73.93111 123.826056 \nL 83.675289 126.938124 \nL 93.419468 129.142212 \nL 103.163647 131.143711 \n\" clip-path=\"url(#p3de33829b0)\" style=\"fill: none; stroke: #1f77b4; stroke-width: 1.5; stroke-linecap: square\"/>\n   </g>\n   <g id=\"line2d_50\">\n    <path d=\"M 49.633125 110.790924 \nL 69.163125 124.753121 \nL 88.693125 130.990645 \nL 108.223125 133.644232 \n\" clip-path=\"url(#p3de33829b0)\" style=\"fill: none; stroke-dasharray: 5.55,2.4; stroke-dashoffset: 0; stroke: #ff7f0e; stroke-width: 1.5\"/>\n   </g>\n   <g id=\"line2d_51\">\n    <path d=\"M 49.633125 114.267677 \nL 69.163125 108.436048 \nL 88.693125 105.554611 \n\" clip-path=\"url(#p3de33829b0)\" style=\"fill: none; stroke-dasharray: 9.6,2.4,1.5,2.4; stroke-dashoffset: 0; stroke: #2ca02c; stroke-width: 1.5\"/>\n   </g>\n   <g id=\"line2d_52\">\n    <path d=\"M 34.954394 13.5 \nL 44.698573 62.872135 \nL 54.442752 111.34723 \nL 64.186931 119.42644 \nL 73.93111 123.826056 \nL 83.675289 126.938124 \nL 93.419468 129.142212 \nL 103.163647 131.143711 \n\" clip-path=\"url(#p3de33829b0)\" style=\"fill: none; stroke: #1f77b4; stroke-width: 1.5; stroke-linecap: square\"/>\n   </g>\n   <g id=\"line2d_53\">\n    <path d=\"M 49.633125 110.790924 \nL 69.163125 124.753121 \nL 88.693125 130.990645 \nL 108.223125 133.644232 \n\" clip-path=\"url(#p3de33829b0)\" style=\"fill: none; stroke-dasharray: 5.55,2.4; stroke-dashoffset: 0; stroke: #ff7f0e; stroke-width: 1.5\"/>\n   </g>\n   <g id=\"line2d_54\">\n    <path d=\"M 49.633125 114.267677 \nL 69.163125 108.436048 \nL 88.693125 105.554611 \nL 108.223125 104.479541 \n\" clip-path=\"url(#p3de33829b0)\" style=\"fill: none; stroke-dasharray: 9.6,2.4,1.5,2.4; stroke-dashoffset: 0; stroke: #2ca02c; stroke-width: 1.5\"/>\n   </g>\n   <g id=\"line2d_55\">\n    <path d=\"M 34.954394 13.5 \nL 44.698573 62.872135 \nL 54.442752 111.34723 \nL 64.186931 119.42644 \nL 73.93111 123.826056 \nL 83.675289 126.938124 \nL 93.419468 129.142212 \nL 103.163647 131.143711 \nL 112.907826 132.338386 \n\" clip-path=\"url(#p3de33829b0)\" style=\"fill: none; stroke: #1f77b4; stroke-width: 1.5; stroke-linecap: square\"/>\n   </g>\n   <g id=\"line2d_56\">\n    <path d=\"M 49.633125 110.790924 \nL 69.163125 124.753121 \nL 88.693125 130.990645 \nL 108.223125 133.644232 \n\" clip-path=\"url(#p3de33829b0)\" style=\"fill: none; stroke-dasharray: 5.55,2.4; stroke-dashoffset: 0; stroke: #ff7f0e; stroke-width: 1.5\"/>\n   </g>\n   <g id=\"line2d_57\">\n    <path d=\"M 49.633125 114.267677 \nL 69.163125 108.436048 \nL 88.693125 105.554611 \nL 108.223125 104.479541 \n\" clip-path=\"url(#p3de33829b0)\" style=\"fill: none; stroke-dasharray: 9.6,2.4,1.5,2.4; stroke-dashoffset: 0; stroke: #2ca02c; stroke-width: 1.5\"/>\n   </g>\n   <g id=\"line2d_58\">\n    <path d=\"M 34.954394 13.5 \nL 44.698573 62.872135 \nL 54.442752 111.34723 \nL 64.186931 119.42644 \nL 73.93111 123.826056 \nL 83.675289 126.938124 \nL 93.419468 129.142212 \nL 103.163647 131.143711 \nL 112.907826 132.338386 \nL 122.652006 133.575654 \n\" clip-path=\"url(#p3de33829b0)\" style=\"fill: none; stroke: #1f77b4; stroke-width: 1.5; stroke-linecap: square\"/>\n   </g>\n   <g id=\"line2d_59\">\n    <path d=\"M 49.633125 110.790924 \nL 69.163125 124.753121 \nL 88.693125 130.990645 \nL 108.223125 133.644232 \n\" clip-path=\"url(#p3de33829b0)\" style=\"fill: none; stroke-dasharray: 5.55,2.4; stroke-dashoffset: 0; stroke: #ff7f0e; stroke-width: 1.5\"/>\n   </g>\n   <g id=\"line2d_60\">\n    <path d=\"M 49.633125 114.267677 \nL 69.163125 108.436048 \nL 88.693125 105.554611 \nL 108.223125 104.479541 \n\" clip-path=\"url(#p3de33829b0)\" style=\"fill: none; stroke-dasharray: 9.6,2.4,1.5,2.4; stroke-dashoffset: 0; stroke: #2ca02c; stroke-width: 1.5\"/>\n   </g>\n   <g id=\"line2d_61\">\n    <path d=\"M 34.954394 13.5 \nL 44.698573 62.872135 \nL 54.442752 111.34723 \nL 64.186931 119.42644 \nL 73.93111 123.826056 \nL 83.675289 126.938124 \nL 93.419468 129.142212 \nL 103.163647 131.143711 \nL 112.907826 132.338386 \nL 122.652006 133.575654 \n\" clip-path=\"url(#p3de33829b0)\" style=\"fill: none; stroke: #1f77b4; stroke-width: 1.5; stroke-linecap: square\"/>\n   </g>\n   <g id=\"line2d_62\">\n    <path d=\"M 49.633125 110.790924 \nL 69.163125 124.753121 \nL 88.693125 130.990645 \nL 108.223125 133.644232 \nL 127.753125 134.906503 \n\" clip-path=\"url(#p3de33829b0)\" style=\"fill: none; stroke-dasharray: 5.55,2.4; stroke-dashoffset: 0; stroke: #ff7f0e; stroke-width: 1.5\"/>\n   </g>\n   <g id=\"line2d_63\">\n    <path d=\"M 49.633125 114.267677 \nL 69.163125 108.436048 \nL 88.693125 105.554611 \nL 108.223125 104.479541 \n\" clip-path=\"url(#p3de33829b0)\" style=\"fill: none; stroke-dasharray: 9.6,2.4,1.5,2.4; stroke-dashoffset: 0; stroke: #2ca02c; stroke-width: 1.5\"/>\n   </g>\n   <g id=\"line2d_64\">\n    <path d=\"M 34.954394 13.5 \nL 44.698573 62.872135 \nL 54.442752 111.34723 \nL 64.186931 119.42644 \nL 73.93111 123.826056 \nL 83.675289 126.938124 \nL 93.419468 129.142212 \nL 103.163647 131.143711 \nL 112.907826 132.338386 \nL 122.652006 133.575654 \n\" clip-path=\"url(#p3de33829b0)\" style=\"fill: none; stroke: #1f77b4; stroke-width: 1.5; stroke-linecap: square\"/>\n   </g>\n   <g id=\"line2d_65\">\n    <path d=\"M 49.633125 110.790924 \nL 69.163125 124.753121 \nL 88.693125 130.990645 \nL 108.223125 133.644232 \nL 127.753125 134.906503 \n\" clip-path=\"url(#p3de33829b0)\" style=\"fill: none; stroke-dasharray: 5.55,2.4; stroke-dashoffset: 0; stroke: #ff7f0e; stroke-width: 1.5\"/>\n   </g>\n   <g id=\"line2d_66\">\n    <path d=\"M 49.633125 114.267677 \nL 69.163125 108.436048 \nL 88.693125 105.554611 \nL 108.223125 104.479541 \nL 127.753125 104.01076 \n\" clip-path=\"url(#p3de33829b0)\" style=\"fill: none; stroke-dasharray: 9.6,2.4,1.5,2.4; stroke-dashoffset: 0; stroke: #2ca02c; stroke-width: 1.5\"/>\n   </g>\n   <g id=\"line2d_67\">\n    <path d=\"M 34.954394 13.5 \nL 44.698573 62.872135 \nL 54.442752 111.34723 \nL 64.186931 119.42644 \nL 73.93111 123.826056 \nL 83.675289 126.938124 \nL 93.419468 129.142212 \nL 103.163647 131.143711 \nL 112.907826 132.338386 \nL 122.652006 133.575654 \nL 132.396185 134.321649 \n\" clip-path=\"url(#p3de33829b0)\" style=\"fill: none; stroke: #1f77b4; stroke-width: 1.5; stroke-linecap: square\"/>\n   </g>\n   <g id=\"line2d_68\">\n    <path d=\"M 49.633125 110.790924 \nL 69.163125 124.753121 \nL 88.693125 130.990645 \nL 108.223125 133.644232 \nL 127.753125 134.906503 \n\" clip-path=\"url(#p3de33829b0)\" style=\"fill: none; stroke-dasharray: 5.55,2.4; stroke-dashoffset: 0; stroke: #ff7f0e; stroke-width: 1.5\"/>\n   </g>\n   <g id=\"line2d_69\">\n    <path d=\"M 49.633125 114.267677 \nL 69.163125 108.436048 \nL 88.693125 105.554611 \nL 108.223125 104.479541 \nL 127.753125 104.01076 \n\" clip-path=\"url(#p3de33829b0)\" style=\"fill: none; stroke-dasharray: 9.6,2.4,1.5,2.4; stroke-dashoffset: 0; stroke: #2ca02c; stroke-width: 1.5\"/>\n   </g>\n   <g id=\"line2d_70\">\n    <path d=\"M 34.954394 13.5 \nL 44.698573 62.872135 \nL 54.442752 111.34723 \nL 64.186931 119.42644 \nL 73.93111 123.826056 \nL 83.675289 126.938124 \nL 93.419468 129.142212 \nL 103.163647 131.143711 \nL 112.907826 132.338386 \nL 122.652006 133.575654 \nL 132.396185 134.321649 \nL 142.140364 135.326271 \n\" clip-path=\"url(#p3de33829b0)\" style=\"fill: none; stroke: #1f77b4; stroke-width: 1.5; stroke-linecap: square\"/>\n   </g>\n   <g id=\"line2d_71\">\n    <path d=\"M 49.633125 110.790924 \nL 69.163125 124.753121 \nL 88.693125 130.990645 \nL 108.223125 133.644232 \nL 127.753125 134.906503 \n\" clip-path=\"url(#p3de33829b0)\" style=\"fill: none; stroke-dasharray: 5.55,2.4; stroke-dashoffset: 0; stroke: #ff7f0e; stroke-width: 1.5\"/>\n   </g>\n   <g id=\"line2d_72\">\n    <path d=\"M 49.633125 114.267677 \nL 69.163125 108.436048 \nL 88.693125 105.554611 \nL 108.223125 104.479541 \nL 127.753125 104.01076 \n\" clip-path=\"url(#p3de33829b0)\" style=\"fill: none; stroke-dasharray: 9.6,2.4,1.5,2.4; stroke-dashoffset: 0; stroke: #2ca02c; stroke-width: 1.5\"/>\n   </g>\n   <g id=\"line2d_73\">\n    <path d=\"M 34.954394 13.5 \nL 44.698573 62.872135 \nL 54.442752 111.34723 \nL 64.186931 119.42644 \nL 73.93111 123.826056 \nL 83.675289 126.938124 \nL 93.419468 129.142212 \nL 103.163647 131.143711 \nL 112.907826 132.338386 \nL 122.652006 133.575654 \nL 132.396185 134.321649 \nL 142.140364 135.326271 \n\" clip-path=\"url(#p3de33829b0)\" style=\"fill: none; stroke: #1f77b4; stroke-width: 1.5; stroke-linecap: square\"/>\n   </g>\n   <g id=\"line2d_74\">\n    <path d=\"M 49.633125 110.790924 \nL 69.163125 124.753121 \nL 88.693125 130.990645 \nL 108.223125 133.644232 \nL 127.753125 134.906503 \nL 147.283125 136.853593 \n\" clip-path=\"url(#p3de33829b0)\" style=\"fill: none; stroke-dasharray: 5.55,2.4; stroke-dashoffset: 0; stroke: #ff7f0e; stroke-width: 1.5\"/>\n   </g>\n   <g id=\"line2d_75\">\n    <path d=\"M 49.633125 114.267677 \nL 69.163125 108.436048 \nL 88.693125 105.554611 \nL 108.223125 104.479541 \nL 127.753125 104.01076 \n\" clip-path=\"url(#p3de33829b0)\" style=\"fill: none; stroke-dasharray: 9.6,2.4,1.5,2.4; stroke-dashoffset: 0; stroke: #2ca02c; stroke-width: 1.5\"/>\n   </g>\n   <g id=\"line2d_76\">\n    <path d=\"M 34.954394 13.5 \nL 44.698573 62.872135 \nL 54.442752 111.34723 \nL 64.186931 119.42644 \nL 73.93111 123.826056 \nL 83.675289 126.938124 \nL 93.419468 129.142212 \nL 103.163647 131.143711 \nL 112.907826 132.338386 \nL 122.652006 133.575654 \nL 132.396185 134.321649 \nL 142.140364 135.326271 \n\" clip-path=\"url(#p3de33829b0)\" style=\"fill: none; stroke: #1f77b4; stroke-width: 1.5; stroke-linecap: square\"/>\n   </g>\n   <g id=\"line2d_77\">\n    <path d=\"M 49.633125 110.790924 \nL 69.163125 124.753121 \nL 88.693125 130.990645 \nL 108.223125 133.644232 \nL 127.753125 134.906503 \nL 147.283125 136.853593 \n\" clip-path=\"url(#p3de33829b0)\" style=\"fill: none; stroke-dasharray: 5.55,2.4; stroke-dashoffset: 0; stroke: #ff7f0e; stroke-width: 1.5\"/>\n   </g>\n   <g id=\"line2d_78\">\n    <path d=\"M 49.633125 114.267677 \nL 69.163125 108.436048 \nL 88.693125 105.554611 \nL 108.223125 104.479541 \nL 127.753125 104.01076 \nL 147.283125 103.398221 \n\" clip-path=\"url(#p3de33829b0)\" style=\"fill: none; stroke-dasharray: 9.6,2.4,1.5,2.4; stroke-dashoffset: 0; stroke: #2ca02c; stroke-width: 1.5\"/>\n   </g>\n   <g id=\"line2d_79\">\n    <path d=\"M 34.954394 13.5 \nL 44.698573 62.872135 \nL 54.442752 111.34723 \nL 64.186931 119.42644 \nL 73.93111 123.826056 \nL 83.675289 126.938124 \nL 93.419468 129.142212 \nL 103.163647 131.143711 \nL 112.907826 132.338386 \nL 122.652006 133.575654 \nL 132.396185 134.321649 \nL 142.140364 135.326271 \nL 151.884543 135.742077 \n\" clip-path=\"url(#p3de33829b0)\" style=\"fill: none; stroke: #1f77b4; stroke-width: 1.5; stroke-linecap: square\"/>\n   </g>\n   <g id=\"line2d_80\">\n    <path d=\"M 49.633125 110.790924 \nL 69.163125 124.753121 \nL 88.693125 130.990645 \nL 108.223125 133.644232 \nL 127.753125 134.906503 \nL 147.283125 136.853593 \n\" clip-path=\"url(#p3de33829b0)\" style=\"fill: none; stroke-dasharray: 5.55,2.4; stroke-dashoffset: 0; stroke: #ff7f0e; stroke-width: 1.5\"/>\n   </g>\n   <g id=\"line2d_81\">\n    <path d=\"M 49.633125 114.267677 \nL 69.163125 108.436048 \nL 88.693125 105.554611 \nL 108.223125 104.479541 \nL 127.753125 104.01076 \nL 147.283125 103.398221 \n\" clip-path=\"url(#p3de33829b0)\" style=\"fill: none; stroke-dasharray: 9.6,2.4,1.5,2.4; stroke-dashoffset: 0; stroke: #2ca02c; stroke-width: 1.5\"/>\n   </g>\n   <g id=\"line2d_82\">\n    <path d=\"M 34.954394 13.5 \nL 44.698573 62.872135 \nL 54.442752 111.34723 \nL 64.186931 119.42644 \nL 73.93111 123.826056 \nL 83.675289 126.938124 \nL 93.419468 129.142212 \nL 103.163647 131.143711 \nL 112.907826 132.338386 \nL 122.652006 133.575654 \nL 132.396185 134.321649 \nL 142.140364 135.326271 \nL 151.884543 135.742077 \nL 161.628722 136.600695 \n\" clip-path=\"url(#p3de33829b0)\" style=\"fill: none; stroke: #1f77b4; stroke-width: 1.5; stroke-linecap: square\"/>\n   </g>\n   <g id=\"line2d_83\">\n    <path d=\"M 49.633125 110.790924 \nL 69.163125 124.753121 \nL 88.693125 130.990645 \nL 108.223125 133.644232 \nL 127.753125 134.906503 \nL 147.283125 136.853593 \n\" clip-path=\"url(#p3de33829b0)\" style=\"fill: none; stroke-dasharray: 5.55,2.4; stroke-dashoffset: 0; stroke: #ff7f0e; stroke-width: 1.5\"/>\n   </g>\n   <g id=\"line2d_84\">\n    <path d=\"M 49.633125 114.267677 \nL 69.163125 108.436048 \nL 88.693125 105.554611 \nL 108.223125 104.479541 \nL 127.753125 104.01076 \nL 147.283125 103.398221 \n\" clip-path=\"url(#p3de33829b0)\" style=\"fill: none; stroke-dasharray: 9.6,2.4,1.5,2.4; stroke-dashoffset: 0; stroke: #2ca02c; stroke-width: 1.5\"/>\n   </g>\n   <g id=\"line2d_85\">\n    <path d=\"M 34.954394 13.5 \nL 44.698573 62.872135 \nL 54.442752 111.34723 \nL 64.186931 119.42644 \nL 73.93111 123.826056 \nL 83.675289 126.938124 \nL 93.419468 129.142212 \nL 103.163647 131.143711 \nL 112.907826 132.338386 \nL 122.652006 133.575654 \nL 132.396185 134.321649 \nL 142.140364 135.326271 \nL 151.884543 135.742077 \nL 161.628722 136.600695 \n\" clip-path=\"url(#p3de33829b0)\" style=\"fill: none; stroke: #1f77b4; stroke-width: 1.5; stroke-linecap: square\"/>\n   </g>\n   <g id=\"line2d_86\">\n    <path d=\"M 49.633125 110.790924 \nL 69.163125 124.753121 \nL 88.693125 130.990645 \nL 108.223125 133.644232 \nL 127.753125 134.906503 \nL 147.283125 136.853593 \nL 166.813125 137.022448 \n\" clip-path=\"url(#p3de33829b0)\" style=\"fill: none; stroke-dasharray: 5.55,2.4; stroke-dashoffset: 0; stroke: #ff7f0e; stroke-width: 1.5\"/>\n   </g>\n   <g id=\"line2d_87\">\n    <path d=\"M 49.633125 114.267677 \nL 69.163125 108.436048 \nL 88.693125 105.554611 \nL 108.223125 104.479541 \nL 127.753125 104.01076 \nL 147.283125 103.398221 \n\" clip-path=\"url(#p3de33829b0)\" style=\"fill: none; stroke-dasharray: 9.6,2.4,1.5,2.4; stroke-dashoffset: 0; stroke: #2ca02c; stroke-width: 1.5\"/>\n   </g>\n   <g id=\"line2d_88\">\n    <path d=\"M 34.954394 13.5 \nL 44.698573 62.872135 \nL 54.442752 111.34723 \nL 64.186931 119.42644 \nL 73.93111 123.826056 \nL 83.675289 126.938124 \nL 93.419468 129.142212 \nL 103.163647 131.143711 \nL 112.907826 132.338386 \nL 122.652006 133.575654 \nL 132.396185 134.321649 \nL 142.140364 135.326271 \nL 151.884543 135.742077 \nL 161.628722 136.600695 \n\" clip-path=\"url(#p3de33829b0)\" style=\"fill: none; stroke: #1f77b4; stroke-width: 1.5; stroke-linecap: square\"/>\n   </g>\n   <g id=\"line2d_89\">\n    <path d=\"M 49.633125 110.790924 \nL 69.163125 124.753121 \nL 88.693125 130.990645 \nL 108.223125 133.644232 \nL 127.753125 134.906503 \nL 147.283125 136.853593 \nL 166.813125 137.022448 \n\" clip-path=\"url(#p3de33829b0)\" style=\"fill: none; stroke-dasharray: 5.55,2.4; stroke-dashoffset: 0; stroke: #ff7f0e; stroke-width: 1.5\"/>\n   </g>\n   <g id=\"line2d_90\">\n    <path d=\"M 49.633125 114.267677 \nL 69.163125 108.436048 \nL 88.693125 105.554611 \nL 108.223125 104.479541 \nL 127.753125 104.01076 \nL 147.283125 103.398221 \nL 166.813125 103.348217 \n\" clip-path=\"url(#p3de33829b0)\" style=\"fill: none; stroke-dasharray: 9.6,2.4,1.5,2.4; stroke-dashoffset: 0; stroke: #2ca02c; stroke-width: 1.5\"/>\n   </g>\n   <g id=\"line2d_91\">\n    <path d=\"M 34.954394 13.5 \nL 44.698573 62.872135 \nL 54.442752 111.34723 \nL 64.186931 119.42644 \nL 73.93111 123.826056 \nL 83.675289 126.938124 \nL 93.419468 129.142212 \nL 103.163647 131.143711 \nL 112.907826 132.338386 \nL 122.652006 133.575654 \nL 132.396185 134.321649 \nL 142.140364 135.326271 \nL 151.884543 135.742077 \nL 161.628722 136.600695 \nL 171.372901 136.717439 \n\" clip-path=\"url(#p3de33829b0)\" style=\"fill: none; stroke: #1f77b4; stroke-width: 1.5; stroke-linecap: square\"/>\n   </g>\n   <g id=\"line2d_92\">\n    <path d=\"M 49.633125 110.790924 \nL 69.163125 124.753121 \nL 88.693125 130.990645 \nL 108.223125 133.644232 \nL 127.753125 134.906503 \nL 147.283125 136.853593 \nL 166.813125 137.022448 \n\" clip-path=\"url(#p3de33829b0)\" style=\"fill: none; stroke-dasharray: 5.55,2.4; stroke-dashoffset: 0; stroke: #ff7f0e; stroke-width: 1.5\"/>\n   </g>\n   <g id=\"line2d_93\">\n    <path d=\"M 49.633125 114.267677 \nL 69.163125 108.436048 \nL 88.693125 105.554611 \nL 108.223125 104.479541 \nL 127.753125 104.01076 \nL 147.283125 103.398221 \nL 166.813125 103.348217 \n\" clip-path=\"url(#p3de33829b0)\" style=\"fill: none; stroke-dasharray: 9.6,2.4,1.5,2.4; stroke-dashoffset: 0; stroke: #2ca02c; stroke-width: 1.5\"/>\n   </g>\n   <g id=\"line2d_94\">\n    <path d=\"M 34.954394 13.5 \nL 44.698573 62.872135 \nL 54.442752 111.34723 \nL 64.186931 119.42644 \nL 73.93111 123.826056 \nL 83.675289 126.938124 \nL 93.419468 129.142212 \nL 103.163647 131.143711 \nL 112.907826 132.338386 \nL 122.652006 133.575654 \nL 132.396185 134.321649 \nL 142.140364 135.326271 \nL 151.884543 135.742077 \nL 161.628722 136.600695 \nL 171.372901 136.717439 \nL 181.11708 137.851426 \n\" clip-path=\"url(#p3de33829b0)\" style=\"fill: none; stroke: #1f77b4; stroke-width: 1.5; stroke-linecap: square\"/>\n   </g>\n   <g id=\"line2d_95\">\n    <path d=\"M 49.633125 110.790924 \nL 69.163125 124.753121 \nL 88.693125 130.990645 \nL 108.223125 133.644232 \nL 127.753125 134.906503 \nL 147.283125 136.853593 \nL 166.813125 137.022448 \n\" clip-path=\"url(#p3de33829b0)\" style=\"fill: none; stroke-dasharray: 5.55,2.4; stroke-dashoffset: 0; stroke: #ff7f0e; stroke-width: 1.5\"/>\n   </g>\n   <g id=\"line2d_96\">\n    <path d=\"M 49.633125 114.267677 \nL 69.163125 108.436048 \nL 88.693125 105.554611 \nL 108.223125 104.479541 \nL 127.753125 104.01076 \nL 147.283125 103.398221 \nL 166.813125 103.348217 \n\" clip-path=\"url(#p3de33829b0)\" style=\"fill: none; stroke-dasharray: 9.6,2.4,1.5,2.4; stroke-dashoffset: 0; stroke: #2ca02c; stroke-width: 1.5\"/>\n   </g>\n   <g id=\"line2d_97\">\n    <path d=\"M 34.954394 13.5 \nL 44.698573 62.872135 \nL 54.442752 111.34723 \nL 64.186931 119.42644 \nL 73.93111 123.826056 \nL 83.675289 126.938124 \nL 93.419468 129.142212 \nL 103.163647 131.143711 \nL 112.907826 132.338386 \nL 122.652006 133.575654 \nL 132.396185 134.321649 \nL 142.140364 135.326271 \nL 151.884543 135.742077 \nL 161.628722 136.600695 \nL 171.372901 136.717439 \nL 181.11708 137.851426 \n\" clip-path=\"url(#p3de33829b0)\" style=\"fill: none; stroke: #1f77b4; stroke-width: 1.5; stroke-linecap: square\"/>\n   </g>\n   <g id=\"line2d_98\">\n    <path d=\"M 49.633125 110.790924 \nL 69.163125 124.753121 \nL 88.693125 130.990645 \nL 108.223125 133.644232 \nL 127.753125 134.906503 \nL 147.283125 136.853593 \nL 166.813125 137.022448 \nL 186.343125 137.547438 \n\" clip-path=\"url(#p3de33829b0)\" style=\"fill: none; stroke-dasharray: 5.55,2.4; stroke-dashoffset: 0; stroke: #ff7f0e; stroke-width: 1.5\"/>\n   </g>\n   <g id=\"line2d_99\">\n    <path d=\"M 49.633125 114.267677 \nL 69.163125 108.436048 \nL 88.693125 105.554611 \nL 108.223125 104.479541 \nL 127.753125 104.01076 \nL 147.283125 103.398221 \nL 166.813125 103.348217 \n\" clip-path=\"url(#p3de33829b0)\" style=\"fill: none; stroke-dasharray: 9.6,2.4,1.5,2.4; stroke-dashoffset: 0; stroke: #2ca02c; stroke-width: 1.5\"/>\n   </g>\n   <g id=\"line2d_100\">\n    <path d=\"M 34.954394 13.5 \nL 44.698573 62.872135 \nL 54.442752 111.34723 \nL 64.186931 119.42644 \nL 73.93111 123.826056 \nL 83.675289 126.938124 \nL 93.419468 129.142212 \nL 103.163647 131.143711 \nL 112.907826 132.338386 \nL 122.652006 133.575654 \nL 132.396185 134.321649 \nL 142.140364 135.326271 \nL 151.884543 135.742077 \nL 161.628722 136.600695 \nL 171.372901 136.717439 \nL 181.11708 137.851426 \n\" clip-path=\"url(#p3de33829b0)\" style=\"fill: none; stroke: #1f77b4; stroke-width: 1.5; stroke-linecap: square\"/>\n   </g>\n   <g id=\"line2d_101\">\n    <path d=\"M 49.633125 110.790924 \nL 69.163125 124.753121 \nL 88.693125 130.990645 \nL 108.223125 133.644232 \nL 127.753125 134.906503 \nL 147.283125 136.853593 \nL 166.813125 137.022448 \nL 186.343125 137.547438 \n\" clip-path=\"url(#p3de33829b0)\" style=\"fill: none; stroke-dasharray: 5.55,2.4; stroke-dashoffset: 0; stroke: #ff7f0e; stroke-width: 1.5\"/>\n   </g>\n   <g id=\"line2d_102\">\n    <path d=\"M 49.633125 114.267677 \nL 69.163125 108.436048 \nL 88.693125 105.554611 \nL 108.223125 104.479541 \nL 127.753125 104.01076 \nL 147.283125 103.398221 \nL 166.813125 103.348217 \nL 186.343125 103.0857 \n\" clip-path=\"url(#p3de33829b0)\" style=\"fill: none; stroke-dasharray: 9.6,2.4,1.5,2.4; stroke-dashoffset: 0; stroke: #2ca02c; stroke-width: 1.5\"/>\n   </g>\n   <g id=\"line2d_103\">\n    <path d=\"M 34.954394 13.5 \nL 44.698573 62.872135 \nL 54.442752 111.34723 \nL 64.186931 119.42644 \nL 73.93111 123.826056 \nL 83.675289 126.938124 \nL 93.419468 129.142212 \nL 103.163647 131.143711 \nL 112.907826 132.338386 \nL 122.652006 133.575654 \nL 132.396185 134.321649 \nL 142.140364 135.326271 \nL 151.884543 135.742077 \nL 161.628722 136.600695 \nL 171.372901 136.717439 \nL 181.11708 137.851426 \nL 190.861259 138.298479 \n\" clip-path=\"url(#p3de33829b0)\" style=\"fill: none; stroke: #1f77b4; stroke-width: 1.5; stroke-linecap: square\"/>\n   </g>\n   <g id=\"line2d_104\">\n    <path d=\"M 49.633125 110.790924 \nL 69.163125 124.753121 \nL 88.693125 130.990645 \nL 108.223125 133.644232 \nL 127.753125 134.906503 \nL 147.283125 136.853593 \nL 166.813125 137.022448 \nL 186.343125 137.547438 \n\" clip-path=\"url(#p3de33829b0)\" style=\"fill: none; stroke-dasharray: 5.55,2.4; stroke-dashoffset: 0; stroke: #ff7f0e; stroke-width: 1.5\"/>\n   </g>\n   <g id=\"line2d_105\">\n    <path d=\"M 49.633125 114.267677 \nL 69.163125 108.436048 \nL 88.693125 105.554611 \nL 108.223125 104.479541 \nL 127.753125 104.01076 \nL 147.283125 103.398221 \nL 166.813125 103.348217 \nL 186.343125 103.0857 \n\" clip-path=\"url(#p3de33829b0)\" style=\"fill: none; stroke-dasharray: 9.6,2.4,1.5,2.4; stroke-dashoffset: 0; stroke: #2ca02c; stroke-width: 1.5\"/>\n   </g>\n   <g id=\"line2d_106\">\n    <path d=\"M 34.954394 13.5 \nL 44.698573 62.872135 \nL 54.442752 111.34723 \nL 64.186931 119.42644 \nL 73.93111 123.826056 \nL 83.675289 126.938124 \nL 93.419468 129.142212 \nL 103.163647 131.143711 \nL 112.907826 132.338386 \nL 122.652006 133.575654 \nL 132.396185 134.321649 \nL 142.140364 135.326271 \nL 151.884543 135.742077 \nL 161.628722 136.600695 \nL 171.372901 136.717439 \nL 181.11708 137.851426 \nL 190.861259 138.298479 \nL 200.605438 138.220261 \n\" clip-path=\"url(#p3de33829b0)\" style=\"fill: none; stroke: #1f77b4; stroke-width: 1.5; stroke-linecap: square\"/>\n   </g>\n   <g id=\"line2d_107\">\n    <path d=\"M 49.633125 110.790924 \nL 69.163125 124.753121 \nL 88.693125 130.990645 \nL 108.223125 133.644232 \nL 127.753125 134.906503 \nL 147.283125 136.853593 \nL 166.813125 137.022448 \nL 186.343125 137.547438 \n\" clip-path=\"url(#p3de33829b0)\" style=\"fill: none; stroke-dasharray: 5.55,2.4; stroke-dashoffset: 0; stroke: #ff7f0e; stroke-width: 1.5\"/>\n   </g>\n   <g id=\"line2d_108\">\n    <path d=\"M 49.633125 114.267677 \nL 69.163125 108.436048 \nL 88.693125 105.554611 \nL 108.223125 104.479541 \nL 127.753125 104.01076 \nL 147.283125 103.398221 \nL 166.813125 103.348217 \nL 186.343125 103.0857 \n\" clip-path=\"url(#p3de33829b0)\" style=\"fill: none; stroke-dasharray: 9.6,2.4,1.5,2.4; stroke-dashoffset: 0; stroke: #2ca02c; stroke-width: 1.5\"/>\n   </g>\n   <g id=\"line2d_109\">\n    <path d=\"M 34.954394 13.5 \nL 44.698573 62.872135 \nL 54.442752 111.34723 \nL 64.186931 119.42644 \nL 73.93111 123.826056 \nL 83.675289 126.938124 \nL 93.419468 129.142212 \nL 103.163647 131.143711 \nL 112.907826 132.338386 \nL 122.652006 133.575654 \nL 132.396185 134.321649 \nL 142.140364 135.326271 \nL 151.884543 135.742077 \nL 161.628722 136.600695 \nL 171.372901 136.717439 \nL 181.11708 137.851426 \nL 190.861259 138.298479 \nL 200.605438 138.220261 \n\" clip-path=\"url(#p3de33829b0)\" style=\"fill: none; stroke: #1f77b4; stroke-width: 1.5; stroke-linecap: square\"/>\n   </g>\n   <g id=\"line2d_110\">\n    <path d=\"M 49.633125 110.790924 \nL 69.163125 124.753121 \nL 88.693125 130.990645 \nL 108.223125 133.644232 \nL 127.753125 134.906503 \nL 147.283125 136.853593 \nL 166.813125 137.022448 \nL 186.343125 137.547438 \nL 205.873125 138.137319 \n\" clip-path=\"url(#p3de33829b0)\" style=\"fill: none; stroke-dasharray: 5.55,2.4; stroke-dashoffset: 0; stroke: #ff7f0e; stroke-width: 1.5\"/>\n   </g>\n   <g id=\"line2d_111\">\n    <path d=\"M 49.633125 114.267677 \nL 69.163125 108.436048 \nL 88.693125 105.554611 \nL 108.223125 104.479541 \nL 127.753125 104.01076 \nL 147.283125 103.398221 \nL 166.813125 103.348217 \nL 186.343125 103.0857 \n\" clip-path=\"url(#p3de33829b0)\" style=\"fill: none; stroke-dasharray: 9.6,2.4,1.5,2.4; stroke-dashoffset: 0; stroke: #2ca02c; stroke-width: 1.5\"/>\n   </g>\n   <g id=\"line2d_112\">\n    <path d=\"M 34.954394 13.5 \nL 44.698573 62.872135 \nL 54.442752 111.34723 \nL 64.186931 119.42644 \nL 73.93111 123.826056 \nL 83.675289 126.938124 \nL 93.419468 129.142212 \nL 103.163647 131.143711 \nL 112.907826 132.338386 \nL 122.652006 133.575654 \nL 132.396185 134.321649 \nL 142.140364 135.326271 \nL 151.884543 135.742077 \nL 161.628722 136.600695 \nL 171.372901 136.717439 \nL 181.11708 137.851426 \nL 190.861259 138.298479 \nL 200.605438 138.220261 \n\" clip-path=\"url(#p3de33829b0)\" style=\"fill: none; stroke: #1f77b4; stroke-width: 1.5; stroke-linecap: square\"/>\n   </g>\n   <g id=\"line2d_113\">\n    <path d=\"M 49.633125 110.790924 \nL 69.163125 124.753121 \nL 88.693125 130.990645 \nL 108.223125 133.644232 \nL 127.753125 134.906503 \nL 147.283125 136.853593 \nL 166.813125 137.022448 \nL 186.343125 137.547438 \nL 205.873125 138.137319 \n\" clip-path=\"url(#p3de33829b0)\" style=\"fill: none; stroke-dasharray: 5.55,2.4; stroke-dashoffset: 0; stroke: #ff7f0e; stroke-width: 1.5\"/>\n   </g>\n   <g id=\"line2d_114\">\n    <path d=\"M 49.633125 114.267677 \nL 69.163125 108.436048 \nL 88.693125 105.554611 \nL 108.223125 104.479541 \nL 127.753125 104.01076 \nL 147.283125 103.398221 \nL 166.813125 103.348217 \nL 186.343125 103.0857 \nL 205.873125 102.960692 \n\" clip-path=\"url(#p3de33829b0)\" style=\"fill: none; stroke-dasharray: 9.6,2.4,1.5,2.4; stroke-dashoffset: 0; stroke: #2ca02c; stroke-width: 1.5\"/>\n   </g>\n   <g id=\"line2d_115\">\n    <path d=\"M 34.954394 13.5 \nL 44.698573 62.872135 \nL 54.442752 111.34723 \nL 64.186931 119.42644 \nL 73.93111 123.826056 \nL 83.675289 126.938124 \nL 93.419468 129.142212 \nL 103.163647 131.143711 \nL 112.907826 132.338386 \nL 122.652006 133.575654 \nL 132.396185 134.321649 \nL 142.140364 135.326271 \nL 151.884543 135.742077 \nL 161.628722 136.600695 \nL 171.372901 136.717439 \nL 181.11708 137.851426 \nL 190.861259 138.298479 \nL 200.605438 138.220261 \nL 210.349618 138.671844 \n\" clip-path=\"url(#p3de33829b0)\" style=\"fill: none; stroke: #1f77b4; stroke-width: 1.5; stroke-linecap: square\"/>\n   </g>\n   <g id=\"line2d_116\">\n    <path d=\"M 49.633125 110.790924 \nL 69.163125 124.753121 \nL 88.693125 130.990645 \nL 108.223125 133.644232 \nL 127.753125 134.906503 \nL 147.283125 136.853593 \nL 166.813125 137.022448 \nL 186.343125 137.547438 \nL 205.873125 138.137319 \n\" clip-path=\"url(#p3de33829b0)\" style=\"fill: none; stroke-dasharray: 5.55,2.4; stroke-dashoffset: 0; stroke: #ff7f0e; stroke-width: 1.5\"/>\n   </g>\n   <g id=\"line2d_117\">\n    <path d=\"M 49.633125 114.267677 \nL 69.163125 108.436048 \nL 88.693125 105.554611 \nL 108.223125 104.479541 \nL 127.753125 104.01076 \nL 147.283125 103.398221 \nL 166.813125 103.348217 \nL 186.343125 103.0857 \nL 205.873125 102.960692 \n\" clip-path=\"url(#p3de33829b0)\" style=\"fill: none; stroke-dasharray: 9.6,2.4,1.5,2.4; stroke-dashoffset: 0; stroke: #2ca02c; stroke-width: 1.5\"/>\n   </g>\n   <g id=\"line2d_118\">\n    <path d=\"M 34.954394 13.5 \nL 44.698573 62.872135 \nL 54.442752 111.34723 \nL 64.186931 119.42644 \nL 73.93111 123.826056 \nL 83.675289 126.938124 \nL 93.419468 129.142212 \nL 103.163647 131.143711 \nL 112.907826 132.338386 \nL 122.652006 133.575654 \nL 132.396185 134.321649 \nL 142.140364 135.326271 \nL 151.884543 135.742077 \nL 161.628722 136.600695 \nL 171.372901 136.717439 \nL 181.11708 137.851426 \nL 190.861259 138.298479 \nL 200.605438 138.220261 \nL 210.349618 138.671844 \nL 220.093797 139.5 \n\" clip-path=\"url(#p3de33829b0)\" style=\"fill: none; stroke: #1f77b4; stroke-width: 1.5; stroke-linecap: square\"/>\n   </g>\n   <g id=\"line2d_119\">\n    <path d=\"M 49.633125 110.790924 \nL 69.163125 124.753121 \nL 88.693125 130.990645 \nL 108.223125 133.644232 \nL 127.753125 134.906503 \nL 147.283125 136.853593 \nL 166.813125 137.022448 \nL 186.343125 137.547438 \nL 205.873125 138.137319 \n\" clip-path=\"url(#p3de33829b0)\" style=\"fill: none; stroke-dasharray: 5.55,2.4; stroke-dashoffset: 0; stroke: #ff7f0e; stroke-width: 1.5\"/>\n   </g>\n   <g id=\"line2d_120\">\n    <path d=\"M 49.633125 114.267677 \nL 69.163125 108.436048 \nL 88.693125 105.554611 \nL 108.223125 104.479541 \nL 127.753125 104.01076 \nL 147.283125 103.398221 \nL 166.813125 103.348217 \nL 186.343125 103.0857 \nL 205.873125 102.960692 \n\" clip-path=\"url(#p3de33829b0)\" style=\"fill: none; stroke-dasharray: 9.6,2.4,1.5,2.4; stroke-dashoffset: 0; stroke: #2ca02c; stroke-width: 1.5\"/>\n   </g>\n   <g id=\"line2d_121\">\n    <path d=\"M 34.954394 13.5 \nL 44.698573 62.872135 \nL 54.442752 111.34723 \nL 64.186931 119.42644 \nL 73.93111 123.826056 \nL 83.675289 126.938124 \nL 93.419468 129.142212 \nL 103.163647 131.143711 \nL 112.907826 132.338386 \nL 122.652006 133.575654 \nL 132.396185 134.321649 \nL 142.140364 135.326271 \nL 151.884543 135.742077 \nL 161.628722 136.600695 \nL 171.372901 136.717439 \nL 181.11708 137.851426 \nL 190.861259 138.298479 \nL 200.605438 138.220261 \nL 210.349618 138.671844 \nL 220.093797 139.5 \n\" clip-path=\"url(#p3de33829b0)\" style=\"fill: none; stroke: #1f77b4; stroke-width: 1.5; stroke-linecap: square\"/>\n   </g>\n   <g id=\"line2d_122\">\n    <path d=\"M 49.633125 110.790924 \nL 69.163125 124.753121 \nL 88.693125 130.990645 \nL 108.223125 133.644232 \nL 127.753125 134.906503 \nL 147.283125 136.853593 \nL 166.813125 137.022448 \nL 186.343125 137.547438 \nL 205.873125 138.137319 \nL 225.403125 138.436439 \n\" clip-path=\"url(#p3de33829b0)\" style=\"fill: none; stroke-dasharray: 5.55,2.4; stroke-dashoffset: 0; stroke: #ff7f0e; stroke-width: 1.5\"/>\n   </g>\n   <g id=\"line2d_123\">\n    <path d=\"M 49.633125 114.267677 \nL 69.163125 108.436048 \nL 88.693125 105.554611 \nL 108.223125 104.479541 \nL 127.753125 104.01076 \nL 147.283125 103.398221 \nL 166.813125 103.348217 \nL 186.343125 103.0857 \nL 205.873125 102.960692 \n\" clip-path=\"url(#p3de33829b0)\" style=\"fill: none; stroke-dasharray: 9.6,2.4,1.5,2.4; stroke-dashoffset: 0; stroke: #2ca02c; stroke-width: 1.5\"/>\n   </g>\n   <g id=\"line2d_124\">\n    <path d=\"M 34.954394 13.5 \nL 44.698573 62.872135 \nL 54.442752 111.34723 \nL 64.186931 119.42644 \nL 73.93111 123.826056 \nL 83.675289 126.938124 \nL 93.419468 129.142212 \nL 103.163647 131.143711 \nL 112.907826 132.338386 \nL 122.652006 133.575654 \nL 132.396185 134.321649 \nL 142.140364 135.326271 \nL 151.884543 135.742077 \nL 161.628722 136.600695 \nL 171.372901 136.717439 \nL 181.11708 137.851426 \nL 190.861259 138.298479 \nL 200.605438 138.220261 \nL 210.349618 138.671844 \nL 220.093797 139.5 \n\" clip-path=\"url(#p3de33829b0)\" style=\"fill: none; stroke: #1f77b4; stroke-width: 1.5; stroke-linecap: square\"/>\n   </g>\n   <g id=\"line2d_125\">\n    <path d=\"M 49.633125 110.790924 \nL 69.163125 124.753121 \nL 88.693125 130.990645 \nL 108.223125 133.644232 \nL 127.753125 134.906503 \nL 147.283125 136.853593 \nL 166.813125 137.022448 \nL 186.343125 137.547438 \nL 205.873125 138.137319 \nL 225.403125 138.436439 \n\" clip-path=\"url(#p3de33829b0)\" style=\"fill: none; stroke-dasharray: 5.55,2.4; stroke-dashoffset: 0; stroke: #ff7f0e; stroke-width: 1.5\"/>\n   </g>\n   <g id=\"line2d_126\">\n    <path d=\"M 49.633125 114.267677 \nL 69.163125 108.436048 \nL 88.693125 105.554611 \nL 108.223125 104.479541 \nL 127.753125 104.01076 \nL 147.283125 103.398221 \nL 166.813125 103.348217 \nL 186.343125 103.0857 \nL 205.873125 102.960692 \nL 225.403125 102.666923 \n\" clip-path=\"url(#p3de33829b0)\" style=\"fill: none; stroke-dasharray: 9.6,2.4,1.5,2.4; stroke-dashoffset: 0; stroke: #2ca02c; stroke-width: 1.5\"/>\n   </g>\n   <g id=\"patch_3\">\n    <path d=\"M 30.103125 145.8 \nL 30.103125 7.2 \n\" style=\"fill: none; stroke: #000000; stroke-width: 0.8; stroke-linejoin: miter; stroke-linecap: square\"/>\n   </g>\n   <g id=\"patch_4\">\n    <path d=\"M 225.403125 145.8 \nL 225.403125 7.2 \n\" style=\"fill: none; stroke: #000000; stroke-width: 0.8; stroke-linejoin: miter; stroke-linecap: square\"/>\n   </g>\n   <g id=\"patch_5\">\n    <path d=\"M 30.103125 145.8 \nL 225.403125 145.8 \n\" style=\"fill: none; stroke: #000000; stroke-width: 0.8; stroke-linejoin: miter; stroke-linecap: square\"/>\n   </g>\n   <g id=\"patch_6\">\n    <path d=\"M 30.103125 7.2 \nL 225.403125 7.2 \n\" style=\"fill: none; stroke: #000000; stroke-width: 0.8; stroke-linejoin: miter; stroke-linecap: square\"/>\n   </g>\n   <g id=\"legend_1\">\n    <g id=\"patch_7\">\n     <path d=\"M 138.8125 60.06875 \nL 218.403125 60.06875 \nQ 220.403125 60.06875 220.403125 58.06875 \nL 220.403125 14.2 \nQ 220.403125 12.2 218.403125 12.2 \nL 138.8125 12.2 \nQ 136.8125 12.2 136.8125 14.2 \nL 136.8125 58.06875 \nQ 136.8125 60.06875 138.8125 60.06875 \nz\n\" style=\"fill: #ffffff; opacity: 0.8; stroke: #cccccc; stroke-linejoin: miter\"/>\n    </g>\n    <g id=\"line2d_127\">\n     <path d=\"M 140.8125 20.298438 \nL 150.8125 20.298438 \nL 160.8125 20.298438 \n\" style=\"fill: none; stroke: #1f77b4; stroke-width: 1.5; stroke-linecap: square\"/>\n    </g>\n    <g id=\"text_12\">\n     <!-- train_loss -->\n     <g transform=\"translate(168.8125 23.798438) scale(0.1 -0.1)\">\n      <defs>\n       <path id=\"DejaVuSans-74\" d=\"M 1172 4494 \nL 1172 3500 \nL 2356 3500 \nL 2356 3053 \nL 1172 3053 \nL 1172 1153 \nQ 1172 725 1289 603 \nQ 1406 481 1766 481 \nL 2356 481 \nL 2356 0 \nL 1766 0 \nQ 1100 0 847 248 \nQ 594 497 594 1153 \nL 594 3053 \nL 172 3053 \nL 172 3500 \nL 594 3500 \nL 594 4494 \nL 1172 4494 \nz\n\" transform=\"scale(0.015625)\"/>\n       <path id=\"DejaVuSans-72\" d=\"M 2631 2963 \nQ 2534 3019 2420 3045 \nQ 2306 3072 2169 3072 \nQ 1681 3072 1420 2755 \nQ 1159 2438 1159 1844 \nL 1159 0 \nL 581 0 \nL 581 3500 \nL 1159 3500 \nL 1159 2956 \nQ 1341 3275 1631 3429 \nQ 1922 3584 2338 3584 \nQ 2397 3584 2469 3576 \nQ 2541 3569 2628 3553 \nL 2631 2963 \nz\n\" transform=\"scale(0.015625)\"/>\n       <path id=\"DejaVuSans-61\" d=\"M 2194 1759 \nQ 1497 1759 1228 1600 \nQ 959 1441 959 1056 \nQ 959 750 1161 570 \nQ 1363 391 1709 391 \nQ 2188 391 2477 730 \nQ 2766 1069 2766 1631 \nL 2766 1759 \nL 2194 1759 \nz\nM 3341 1997 \nL 3341 0 \nL 2766 0 \nL 2766 531 \nQ 2569 213 2275 61 \nQ 1981 -91 1556 -91 \nQ 1019 -91 701 211 \nQ 384 513 384 1019 \nQ 384 1609 779 1909 \nQ 1175 2209 1959 2209 \nL 2766 2209 \nL 2766 2266 \nQ 2766 2663 2505 2880 \nQ 2244 3097 1772 3097 \nQ 1472 3097 1187 3025 \nQ 903 2953 641 2809 \nL 641 3341 \nQ 956 3463 1253 3523 \nQ 1550 3584 1831 3584 \nQ 2591 3584 2966 3190 \nQ 3341 2797 3341 1997 \nz\n\" transform=\"scale(0.015625)\"/>\n       <path id=\"DejaVuSans-69\" d=\"M 603 3500 \nL 1178 3500 \nL 1178 0 \nL 603 0 \nL 603 3500 \nz\nM 603 4863 \nL 1178 4863 \nL 1178 4134 \nL 603 4134 \nL 603 4863 \nz\n\" transform=\"scale(0.015625)\"/>\n       <path id=\"DejaVuSans-6e\" d=\"M 3513 2113 \nL 3513 0 \nL 2938 0 \nL 2938 2094 \nQ 2938 2591 2744 2837 \nQ 2550 3084 2163 3084 \nQ 1697 3084 1428 2787 \nQ 1159 2491 1159 1978 \nL 1159 0 \nL 581 0 \nL 581 3500 \nL 1159 3500 \nL 1159 2956 \nQ 1366 3272 1645 3428 \nQ 1925 3584 2291 3584 \nQ 2894 3584 3203 3211 \nQ 3513 2838 3513 2113 \nz\n\" transform=\"scale(0.015625)\"/>\n       <path id=\"DejaVuSans-5f\" d=\"M 3263 -1063 \nL 3263 -1509 \nL -63 -1509 \nL -63 -1063 \nL 3263 -1063 \nz\n\" transform=\"scale(0.015625)\"/>\n       <path id=\"DejaVuSans-6c\" d=\"M 603 4863 \nL 1178 4863 \nL 1178 0 \nL 603 0 \nL 603 4863 \nz\n\" transform=\"scale(0.015625)\"/>\n       <path id=\"DejaVuSans-73\" d=\"M 2834 3397 \nL 2834 2853 \nQ 2591 2978 2328 3040 \nQ 2066 3103 1784 3103 \nQ 1356 3103 1142 2972 \nQ 928 2841 928 2578 \nQ 928 2378 1081 2264 \nQ 1234 2150 1697 2047 \nL 1894 2003 \nQ 2506 1872 2764 1633 \nQ 3022 1394 3022 966 \nQ 3022 478 2636 193 \nQ 2250 -91 1575 -91 \nQ 1294 -91 989 -36 \nQ 684 19 347 128 \nL 347 722 \nQ 666 556 975 473 \nQ 1284 391 1588 391 \nQ 1994 391 2212 530 \nQ 2431 669 2431 922 \nQ 2431 1156 2273 1281 \nQ 2116 1406 1581 1522 \nL 1381 1569 \nQ 847 1681 609 1914 \nQ 372 2147 372 2553 \nQ 372 3047 722 3315 \nQ 1072 3584 1716 3584 \nQ 2034 3584 2315 3537 \nQ 2597 3491 2834 3397 \nz\n\" transform=\"scale(0.015625)\"/>\n      </defs>\n      <use xlink:href=\"#DejaVuSans-74\"/>\n      <use xlink:href=\"#DejaVuSans-72\" x=\"39.208984\"/>\n      <use xlink:href=\"#DejaVuSans-61\" x=\"80.322266\"/>\n      <use xlink:href=\"#DejaVuSans-69\" x=\"141.601562\"/>\n      <use xlink:href=\"#DejaVuSans-6e\" x=\"169.384766\"/>\n      <use xlink:href=\"#DejaVuSans-5f\" x=\"232.763672\"/>\n      <use xlink:href=\"#DejaVuSans-6c\" x=\"282.763672\"/>\n      <use xlink:href=\"#DejaVuSans-6f\" x=\"310.546875\"/>\n      <use xlink:href=\"#DejaVuSans-73\" x=\"371.728516\"/>\n      <use xlink:href=\"#DejaVuSans-73\" x=\"423.828125\"/>\n     </g>\n    </g>\n    <g id=\"line2d_128\">\n     <path d=\"M 140.8125 35.254688 \nL 150.8125 35.254688 \nL 160.8125 35.254688 \n\" style=\"fill: none; stroke-dasharray: 5.55,2.4; stroke-dashoffset: 0; stroke: #ff7f0e; stroke-width: 1.5\"/>\n    </g>\n    <g id=\"text_13\">\n     <!-- val_loss -->\n     <g transform=\"translate(168.8125 38.754688) scale(0.1 -0.1)\">\n      <defs>\n       <path id=\"DejaVuSans-76\" d=\"M 191 3500 \nL 800 3500 \nL 1894 563 \nL 2988 3500 \nL 3597 3500 \nL 2284 0 \nL 1503 0 \nL 191 3500 \nz\n\" transform=\"scale(0.015625)\"/>\n      </defs>\n      <use xlink:href=\"#DejaVuSans-76\"/>\n      <use xlink:href=\"#DejaVuSans-61\" x=\"59.179688\"/>\n      <use xlink:href=\"#DejaVuSans-6c\" x=\"120.458984\"/>\n      <use xlink:href=\"#DejaVuSans-5f\" x=\"148.242188\"/>\n      <use xlink:href=\"#DejaVuSans-6c\" x=\"198.242188\"/>\n      <use xlink:href=\"#DejaVuSans-6f\" x=\"226.025391\"/>\n      <use xlink:href=\"#DejaVuSans-73\" x=\"287.207031\"/>\n      <use xlink:href=\"#DejaVuSans-73\" x=\"339.306641\"/>\n     </g>\n    </g>\n    <g id=\"line2d_129\">\n     <path d=\"M 140.8125 50.210938 \nL 150.8125 50.210938 \nL 160.8125 50.210938 \n\" style=\"fill: none; stroke-dasharray: 9.6,2.4,1.5,2.4; stroke-dashoffset: 0; stroke: #2ca02c; stroke-width: 1.5\"/>\n    </g>\n    <g id=\"text_14\">\n     <!-- val_acc -->\n     <g transform=\"translate(168.8125 53.710938) scale(0.1 -0.1)\">\n      <use xlink:href=\"#DejaVuSans-76\"/>\n      <use xlink:href=\"#DejaVuSans-61\" x=\"59.179688\"/>\n      <use xlink:href=\"#DejaVuSans-6c\" x=\"120.458984\"/>\n      <use xlink:href=\"#DejaVuSans-5f\" x=\"148.242188\"/>\n      <use xlink:href=\"#DejaVuSans-61\" x=\"198.242188\"/>\n      <use xlink:href=\"#DejaVuSans-63\" x=\"259.521484\"/>\n      <use xlink:href=\"#DejaVuSans-63\" x=\"314.501953\"/>\n     </g>\n    </g>\n   </g>\n  </g>\n </g>\n <defs>\n  <clipPath id=\"p3de33829b0\">\n   <rect x=\"30.103125\" y=\"7.2\" width=\"195.3\" height=\"138.6\"/>\n  </clipPath>\n </defs>\n</svg>\n"
          },
          "metadata": {}
        }
      ],
      "source": [
        "model = VGG(arch=((1, 16), (1, 32), (2, 64), (2, 128), (2, 128)), lr=0.01)\n",
        "trainer = d2l.Trainer(max_epochs=10, num_gpus=1)\n",
        "data = d2l.FashionMNIST(batch_size=128, resize=(224, 224))\n",
        "model.apply_init([next(iter(data.get_dataloader(True)))[0]], d2l.init_cnn)\n",
        "trainer.fit(model, data)"
      ]
    },
    {
      "cell_type": "markdown",
      "metadata": {
        "id": "GnnD8FU-qSWV"
      },
      "source": [
        "# 8.3. Network in Network (NiN)"
      ]
    },
    {
      "cell_type": "code",
      "execution_count": 11,
      "metadata": {
        "id": "wgYZYpx-qWJR"
      },
      "outputs": [],
      "source": [
        "import torch\n",
        "from torch import nn\n",
        "from d2l import torch as d2l"
      ]
    },
    {
      "cell_type": "markdown",
      "metadata": {
        "id": "TpmBRZ4TqZg0"
      },
      "source": [
        "8.3.1. NiN Blocks"
      ]
    },
    {
      "cell_type": "code",
      "execution_count": 12,
      "metadata": {
        "id": "E53negWeqZPB"
      },
      "outputs": [],
      "source": [
        "def nin_block(out_channels, kernel_size, strides, padding):\n",
        "    return nn.Sequential(\n",
        "        nn.LazyConv2d(out_channels, kernel_size, strides, padding), nn.ReLU(),\n",
        "        nn.LazyConv2d(out_channels, kernel_size=1), nn.ReLU(),\n",
        "        nn.LazyConv2d(out_channels, kernel_size=1), nn.ReLU())"
      ]
    },
    {
      "cell_type": "markdown",
      "metadata": {
        "id": "JS_coDi0qfqX"
      },
      "source": [
        "8.3.2. NiN Model"
      ]
    },
    {
      "cell_type": "code",
      "execution_count": 13,
      "metadata": {
        "id": "a5oYX7iMqfYn"
      },
      "outputs": [],
      "source": [
        "class NiN(d2l.Classifier):\n",
        "    def __init__(self, lr=0.1, num_classes=10):\n",
        "        super().__init__()\n",
        "        self.save_hyperparameters()\n",
        "        self.net = nn.Sequential(\n",
        "            nin_block(96, kernel_size=11, strides=4, padding=0),\n",
        "            nn.MaxPool2d(3, stride=2),\n",
        "            nin_block(256, kernel_size=5, strides=1, padding=2),\n",
        "            nn.MaxPool2d(3, stride=2),\n",
        "            nin_block(384, kernel_size=3, strides=1, padding=1),\n",
        "            nn.MaxPool2d(3, stride=2),\n",
        "            nn.Dropout(0.5),\n",
        "            nin_block(num_classes, kernel_size=3, strides=1, padding=1),\n",
        "            nn.AdaptiveAvgPool2d((1, 1)),\n",
        "            nn.Flatten())\n",
        "        self.net.apply(d2l.init_cnn)"
      ]
    },
    {
      "cell_type": "code",
      "execution_count": 14,
      "metadata": {
        "id": "368L2Rl-qkOL",
        "colab": {
          "base_uri": "https://localhost:8080/"
        },
        "outputId": "03f7bf05-e2e8-457b-87ed-6223163619a1"
      },
      "outputs": [
        {
          "output_type": "stream",
          "name": "stdout",
          "text": [
            "Sequential output shape:\t torch.Size([1, 96, 54, 54])\n",
            "MaxPool2d output shape:\t torch.Size([1, 96, 26, 26])\n",
            "Sequential output shape:\t torch.Size([1, 256, 26, 26])\n",
            "MaxPool2d output shape:\t torch.Size([1, 256, 12, 12])\n",
            "Sequential output shape:\t torch.Size([1, 384, 12, 12])\n",
            "MaxPool2d output shape:\t torch.Size([1, 384, 5, 5])\n",
            "Dropout output shape:\t torch.Size([1, 384, 5, 5])\n",
            "Sequential output shape:\t torch.Size([1, 10, 5, 5])\n",
            "AdaptiveAvgPool2d output shape:\t torch.Size([1, 10, 1, 1])\n",
            "Flatten output shape:\t torch.Size([1, 10])\n"
          ]
        }
      ],
      "source": [
        "NiN().layer_summary((1, 1, 224, 224))"
      ]
    },
    {
      "cell_type": "markdown",
      "metadata": {
        "id": "W1fiz8HYqmpJ"
      },
      "source": [
        "8.3.3. Training"
      ]
    },
    {
      "cell_type": "code",
      "execution_count": 15,
      "metadata": {
        "id": "cN-rLqmVqnzc",
        "colab": {
          "base_uri": "https://localhost:8080/",
          "height": 265
        },
        "outputId": "ba016b05-501d-4d17-8579-d7e5fd097caa"
      },
      "outputs": [
        {
          "output_type": "display_data",
          "data": {
            "text/plain": [
              "<Figure size 350x250 with 1 Axes>"
            ],
            "image/svg+xml": "<?xml version=\"1.0\" encoding=\"utf-8\" standalone=\"no\"?>\n<!DOCTYPE svg PUBLIC \"-//W3C//DTD SVG 1.1//EN\"\n  \"http://www.w3.org/Graphics/SVG/1.1/DTD/svg11.dtd\">\n<svg xmlns:xlink=\"http://www.w3.org/1999/xlink\" width=\"238.965625pt\" height=\"183.35625pt\" viewBox=\"0 0 238.965625 183.35625\" xmlns=\"http://www.w3.org/2000/svg\" version=\"1.1\">\n <metadata>\n  <rdf:RDF xmlns:dc=\"http://purl.org/dc/elements/1.1/\" xmlns:cc=\"http://creativecommons.org/ns#\" xmlns:rdf=\"http://www.w3.org/1999/02/22-rdf-syntax-ns#\">\n   <cc:Work>\n    <dc:type rdf:resource=\"http://purl.org/dc/dcmitype/StillImage\"/>\n    <dc:date>2024-10-04T13:14:37.074989</dc:date>\n    <dc:format>image/svg+xml</dc:format>\n    <dc:creator>\n     <cc:Agent>\n      <dc:title>Matplotlib v3.7.2, https://matplotlib.org/</dc:title>\n     </cc:Agent>\n    </dc:creator>\n   </cc:Work>\n  </rdf:RDF>\n </metadata>\n <defs>\n  <style type=\"text/css\">*{stroke-linejoin: round; stroke-linecap: butt}</style>\n </defs>\n <g id=\"figure_1\">\n  <g id=\"patch_1\">\n   <path d=\"M 0 183.35625 \nL 238.965625 183.35625 \nL 238.965625 0 \nL 0 0 \nz\n\" style=\"fill: #ffffff\"/>\n  </g>\n  <g id=\"axes_1\">\n   <g id=\"patch_2\">\n    <path d=\"M 30.103125 145.8 \nL 225.403125 145.8 \nL 225.403125 7.2 \nL 30.103125 7.2 \nz\n\" style=\"fill: #ffffff\"/>\n   </g>\n   <g id=\"matplotlib.axis_1\">\n    <g id=\"xtick_1\">\n     <g id=\"line2d_1\">\n      <defs>\n       <path id=\"mbc540b5c3e\" d=\"M 0 0 \nL 0 3.5 \n\" style=\"stroke: #000000; stroke-width: 0.8\"/>\n      </defs>\n      <g>\n       <use xlink:href=\"#mbc540b5c3e\" x=\"30.103125\" y=\"145.8\" style=\"stroke: #000000; stroke-width: 0.8\"/>\n      </g>\n     </g>\n     <g id=\"text_1\">\n      <!-- 0 -->\n      <g transform=\"translate(26.921875 160.398438) scale(0.1 -0.1)\">\n       <defs>\n        <path id=\"DejaVuSans-30\" d=\"M 2034 4250 \nQ 1547 4250 1301 3770 \nQ 1056 3291 1056 2328 \nQ 1056 1369 1301 889 \nQ 1547 409 2034 409 \nQ 2525 409 2770 889 \nQ 3016 1369 3016 2328 \nQ 3016 3291 2770 3770 \nQ 2525 4250 2034 4250 \nz\nM 2034 4750 \nQ 2819 4750 3233 4129 \nQ 3647 3509 3647 2328 \nQ 3647 1150 3233 529 \nQ 2819 -91 2034 -91 \nQ 1250 -91 836 529 \nQ 422 1150 422 2328 \nQ 422 3509 836 4129 \nQ 1250 4750 2034 4750 \nz\n\" transform=\"scale(0.015625)\"/>\n       </defs>\n       <use xlink:href=\"#DejaVuSans-30\"/>\n      </g>\n     </g>\n    </g>\n    <g id=\"xtick_2\">\n     <g id=\"line2d_2\">\n      <g>\n       <use xlink:href=\"#mbc540b5c3e\" x=\"69.163125\" y=\"145.8\" style=\"stroke: #000000; stroke-width: 0.8\"/>\n      </g>\n     </g>\n     <g id=\"text_2\">\n      <!-- 2 -->\n      <g transform=\"translate(65.981875 160.398438) scale(0.1 -0.1)\">\n       <defs>\n        <path id=\"DejaVuSans-32\" d=\"M 1228 531 \nL 3431 531 \nL 3431 0 \nL 469 0 \nL 469 531 \nQ 828 903 1448 1529 \nQ 2069 2156 2228 2338 \nQ 2531 2678 2651 2914 \nQ 2772 3150 2772 3378 \nQ 2772 3750 2511 3984 \nQ 2250 4219 1831 4219 \nQ 1534 4219 1204 4116 \nQ 875 4013 500 3803 \nL 500 4441 \nQ 881 4594 1212 4672 \nQ 1544 4750 1819 4750 \nQ 2544 4750 2975 4387 \nQ 3406 4025 3406 3419 \nQ 3406 3131 3298 2873 \nQ 3191 2616 2906 2266 \nQ 2828 2175 2409 1742 \nQ 1991 1309 1228 531 \nz\n\" transform=\"scale(0.015625)\"/>\n       </defs>\n       <use xlink:href=\"#DejaVuSans-32\"/>\n      </g>\n     </g>\n    </g>\n    <g id=\"xtick_3\">\n     <g id=\"line2d_3\">\n      <g>\n       <use xlink:href=\"#mbc540b5c3e\" x=\"108.223125\" y=\"145.8\" style=\"stroke: #000000; stroke-width: 0.8\"/>\n      </g>\n     </g>\n     <g id=\"text_3\">\n      <!-- 4 -->\n      <g transform=\"translate(105.041875 160.398438) scale(0.1 -0.1)\">\n       <defs>\n        <path id=\"DejaVuSans-34\" d=\"M 2419 4116 \nL 825 1625 \nL 2419 1625 \nL 2419 4116 \nz\nM 2253 4666 \nL 3047 4666 \nL 3047 1625 \nL 3713 1625 \nL 3713 1100 \nL 3047 1100 \nL 3047 0 \nL 2419 0 \nL 2419 1100 \nL 313 1100 \nL 313 1709 \nL 2253 4666 \nz\n\" transform=\"scale(0.015625)\"/>\n       </defs>\n       <use xlink:href=\"#DejaVuSans-34\"/>\n      </g>\n     </g>\n    </g>\n    <g id=\"xtick_4\">\n     <g id=\"line2d_4\">\n      <g>\n       <use xlink:href=\"#mbc540b5c3e\" x=\"147.283125\" y=\"145.8\" style=\"stroke: #000000; stroke-width: 0.8\"/>\n      </g>\n     </g>\n     <g id=\"text_4\">\n      <!-- 6 -->\n      <g transform=\"translate(144.101875 160.398438) scale(0.1 -0.1)\">\n       <defs>\n        <path id=\"DejaVuSans-36\" d=\"M 2113 2584 \nQ 1688 2584 1439 2293 \nQ 1191 2003 1191 1497 \nQ 1191 994 1439 701 \nQ 1688 409 2113 409 \nQ 2538 409 2786 701 \nQ 3034 994 3034 1497 \nQ 3034 2003 2786 2293 \nQ 2538 2584 2113 2584 \nz\nM 3366 4563 \nL 3366 3988 \nQ 3128 4100 2886 4159 \nQ 2644 4219 2406 4219 \nQ 1781 4219 1451 3797 \nQ 1122 3375 1075 2522 \nQ 1259 2794 1537 2939 \nQ 1816 3084 2150 3084 \nQ 2853 3084 3261 2657 \nQ 3669 2231 3669 1497 \nQ 3669 778 3244 343 \nQ 2819 -91 2113 -91 \nQ 1303 -91 875 529 \nQ 447 1150 447 2328 \nQ 447 3434 972 4092 \nQ 1497 4750 2381 4750 \nQ 2619 4750 2861 4703 \nQ 3103 4656 3366 4563 \nz\n\" transform=\"scale(0.015625)\"/>\n       </defs>\n       <use xlink:href=\"#DejaVuSans-36\"/>\n      </g>\n     </g>\n    </g>\n    <g id=\"xtick_5\">\n     <g id=\"line2d_5\">\n      <g>\n       <use xlink:href=\"#mbc540b5c3e\" x=\"186.343125\" y=\"145.8\" style=\"stroke: #000000; stroke-width: 0.8\"/>\n      </g>\n     </g>\n     <g id=\"text_5\">\n      <!-- 8 -->\n      <g transform=\"translate(183.161875 160.398438) scale(0.1 -0.1)\">\n       <defs>\n        <path id=\"DejaVuSans-38\" d=\"M 2034 2216 \nQ 1584 2216 1326 1975 \nQ 1069 1734 1069 1313 \nQ 1069 891 1326 650 \nQ 1584 409 2034 409 \nQ 2484 409 2743 651 \nQ 3003 894 3003 1313 \nQ 3003 1734 2745 1975 \nQ 2488 2216 2034 2216 \nz\nM 1403 2484 \nQ 997 2584 770 2862 \nQ 544 3141 544 3541 \nQ 544 4100 942 4425 \nQ 1341 4750 2034 4750 \nQ 2731 4750 3128 4425 \nQ 3525 4100 3525 3541 \nQ 3525 3141 3298 2862 \nQ 3072 2584 2669 2484 \nQ 3125 2378 3379 2068 \nQ 3634 1759 3634 1313 \nQ 3634 634 3220 271 \nQ 2806 -91 2034 -91 \nQ 1263 -91 848 271 \nQ 434 634 434 1313 \nQ 434 1759 690 2068 \nQ 947 2378 1403 2484 \nz\nM 1172 3481 \nQ 1172 3119 1398 2916 \nQ 1625 2713 2034 2713 \nQ 2441 2713 2670 2916 \nQ 2900 3119 2900 3481 \nQ 2900 3844 2670 4047 \nQ 2441 4250 2034 4250 \nQ 1625 4250 1398 4047 \nQ 1172 3844 1172 3481 \nz\n\" transform=\"scale(0.015625)\"/>\n       </defs>\n       <use xlink:href=\"#DejaVuSans-38\"/>\n      </g>\n     </g>\n    </g>\n    <g id=\"xtick_6\">\n     <g id=\"line2d_6\">\n      <g>\n       <use xlink:href=\"#mbc540b5c3e\" x=\"225.403125\" y=\"145.8\" style=\"stroke: #000000; stroke-width: 0.8\"/>\n      </g>\n     </g>\n     <g id=\"text_6\">\n      <!-- 10 -->\n      <g transform=\"translate(219.040625 160.398438) scale(0.1 -0.1)\">\n       <defs>\n        <path id=\"DejaVuSans-31\" d=\"M 794 531 \nL 1825 531 \nL 1825 4091 \nL 703 3866 \nL 703 4441 \nL 1819 4666 \nL 2450 4666 \nL 2450 531 \nL 3481 531 \nL 3481 0 \nL 794 0 \nL 794 531 \nz\n\" transform=\"scale(0.015625)\"/>\n       </defs>\n       <use xlink:href=\"#DejaVuSans-31\"/>\n       <use xlink:href=\"#DejaVuSans-30\" x=\"63.623047\"/>\n      </g>\n     </g>\n    </g>\n    <g id=\"text_7\">\n     <!-- epoch -->\n     <g transform=\"translate(112.525 174.076563) scale(0.1 -0.1)\">\n      <defs>\n       <path id=\"DejaVuSans-65\" d=\"M 3597 1894 \nL 3597 1613 \nL 953 1613 \nQ 991 1019 1311 708 \nQ 1631 397 2203 397 \nQ 2534 397 2845 478 \nQ 3156 559 3463 722 \nL 3463 178 \nQ 3153 47 2828 -22 \nQ 2503 -91 2169 -91 \nQ 1331 -91 842 396 \nQ 353 884 353 1716 \nQ 353 2575 817 3079 \nQ 1281 3584 2069 3584 \nQ 2775 3584 3186 3129 \nQ 3597 2675 3597 1894 \nz\nM 3022 2063 \nQ 3016 2534 2758 2815 \nQ 2500 3097 2075 3097 \nQ 1594 3097 1305 2825 \nQ 1016 2553 972 2059 \nL 3022 2063 \nz\n\" transform=\"scale(0.015625)\"/>\n       <path id=\"DejaVuSans-70\" d=\"M 1159 525 \nL 1159 -1331 \nL 581 -1331 \nL 581 3500 \nL 1159 3500 \nL 1159 2969 \nQ 1341 3281 1617 3432 \nQ 1894 3584 2278 3584 \nQ 2916 3584 3314 3078 \nQ 3713 2572 3713 1747 \nQ 3713 922 3314 415 \nQ 2916 -91 2278 -91 \nQ 1894 -91 1617 61 \nQ 1341 213 1159 525 \nz\nM 3116 1747 \nQ 3116 2381 2855 2742 \nQ 2594 3103 2138 3103 \nQ 1681 3103 1420 2742 \nQ 1159 2381 1159 1747 \nQ 1159 1113 1420 752 \nQ 1681 391 2138 391 \nQ 2594 391 2855 752 \nQ 3116 1113 3116 1747 \nz\n\" transform=\"scale(0.015625)\"/>\n       <path id=\"DejaVuSans-6f\" d=\"M 1959 3097 \nQ 1497 3097 1228 2736 \nQ 959 2375 959 1747 \nQ 959 1119 1226 758 \nQ 1494 397 1959 397 \nQ 2419 397 2687 759 \nQ 2956 1122 2956 1747 \nQ 2956 2369 2687 2733 \nQ 2419 3097 1959 3097 \nz\nM 1959 3584 \nQ 2709 3584 3137 3096 \nQ 3566 2609 3566 1747 \nQ 3566 888 3137 398 \nQ 2709 -91 1959 -91 \nQ 1206 -91 779 398 \nQ 353 888 353 1747 \nQ 353 2609 779 3096 \nQ 1206 3584 1959 3584 \nz\n\" transform=\"scale(0.015625)\"/>\n       <path id=\"DejaVuSans-63\" d=\"M 3122 3366 \nL 3122 2828 \nQ 2878 2963 2633 3030 \nQ 2388 3097 2138 3097 \nQ 1578 3097 1268 2742 \nQ 959 2388 959 1747 \nQ 959 1106 1268 751 \nQ 1578 397 2138 397 \nQ 2388 397 2633 464 \nQ 2878 531 3122 666 \nL 3122 134 \nQ 2881 22 2623 -34 \nQ 2366 -91 2075 -91 \nQ 1284 -91 818 406 \nQ 353 903 353 1747 \nQ 353 2603 823 3093 \nQ 1294 3584 2113 3584 \nQ 2378 3584 2631 3529 \nQ 2884 3475 3122 3366 \nz\n\" transform=\"scale(0.015625)\"/>\n       <path id=\"DejaVuSans-68\" d=\"M 3513 2113 \nL 3513 0 \nL 2938 0 \nL 2938 2094 \nQ 2938 2591 2744 2837 \nQ 2550 3084 2163 3084 \nQ 1697 3084 1428 2787 \nQ 1159 2491 1159 1978 \nL 1159 0 \nL 581 0 \nL 581 4863 \nL 1159 4863 \nL 1159 2956 \nQ 1366 3272 1645 3428 \nQ 1925 3584 2291 3584 \nQ 2894 3584 3203 3211 \nQ 3513 2838 3513 2113 \nz\n\" transform=\"scale(0.015625)\"/>\n      </defs>\n      <use xlink:href=\"#DejaVuSans-65\"/>\n      <use xlink:href=\"#DejaVuSans-70\" x=\"61.523438\"/>\n      <use xlink:href=\"#DejaVuSans-6f\" x=\"125\"/>\n      <use xlink:href=\"#DejaVuSans-63\" x=\"186.181641\"/>\n      <use xlink:href=\"#DejaVuSans-68\" x=\"241.162109\"/>\n     </g>\n    </g>\n   </g>\n   <g id=\"matplotlib.axis_2\">\n    <g id=\"ytick_1\">\n     <g id=\"line2d_7\">\n      <defs>\n       <path id=\"m2017e87da1\" d=\"M 0 0 \nL -3.5 0 \n\" style=\"stroke: #000000; stroke-width: 0.8\"/>\n      </defs>\n      <g>\n       <use xlink:href=\"#m2017e87da1\" x=\"30.103125\" y=\"119.334425\" style=\"stroke: #000000; stroke-width: 0.8\"/>\n      </g>\n     </g>\n     <g id=\"text_8\">\n      <!-- 0.5 -->\n      <g transform=\"translate(7.2 123.133644) scale(0.1 -0.1)\">\n       <defs>\n        <path id=\"DejaVuSans-2e\" d=\"M 684 794 \nL 1344 794 \nL 1344 0 \nL 684 0 \nL 684 794 \nz\n\" transform=\"scale(0.015625)\"/>\n        <path id=\"DejaVuSans-35\" d=\"M 691 4666 \nL 3169 4666 \nL 3169 4134 \nL 1269 4134 \nL 1269 2991 \nQ 1406 3038 1543 3061 \nQ 1681 3084 1819 3084 \nQ 2600 3084 3056 2656 \nQ 3513 2228 3513 1497 \nQ 3513 744 3044 326 \nQ 2575 -91 1722 -91 \nQ 1428 -91 1123 -41 \nQ 819 9 494 109 \nL 494 744 \nQ 775 591 1075 516 \nQ 1375 441 1709 441 \nQ 2250 441 2565 725 \nQ 2881 1009 2881 1497 \nQ 2881 1984 2565 2268 \nQ 2250 2553 1709 2553 \nQ 1456 2553 1204 2497 \nQ 953 2441 691 2322 \nL 691 4666 \nz\n\" transform=\"scale(0.015625)\"/>\n       </defs>\n       <use xlink:href=\"#DejaVuSans-30\"/>\n       <use xlink:href=\"#DejaVuSans-2e\" x=\"63.623047\"/>\n       <use xlink:href=\"#DejaVuSans-35\" x=\"95.410156\"/>\n      </g>\n     </g>\n    </g>\n    <g id=\"ytick_2\">\n     <g id=\"line2d_8\">\n      <g>\n       <use xlink:href=\"#m2017e87da1\" x=\"30.103125\" y=\"90.00268\" style=\"stroke: #000000; stroke-width: 0.8\"/>\n      </g>\n     </g>\n     <g id=\"text_9\">\n      <!-- 1.0 -->\n      <g transform=\"translate(7.2 93.801899) scale(0.1 -0.1)\">\n       <use xlink:href=\"#DejaVuSans-31\"/>\n       <use xlink:href=\"#DejaVuSans-2e\" x=\"63.623047\"/>\n       <use xlink:href=\"#DejaVuSans-30\" x=\"95.410156\"/>\n      </g>\n     </g>\n    </g>\n    <g id=\"ytick_3\">\n     <g id=\"line2d_9\">\n      <g>\n       <use xlink:href=\"#m2017e87da1\" x=\"30.103125\" y=\"60.670935\" style=\"stroke: #000000; stroke-width: 0.8\"/>\n      </g>\n     </g>\n     <g id=\"text_10\">\n      <!-- 1.5 -->\n      <g transform=\"translate(7.2 64.470154) scale(0.1 -0.1)\">\n       <use xlink:href=\"#DejaVuSans-31\"/>\n       <use xlink:href=\"#DejaVuSans-2e\" x=\"63.623047\"/>\n       <use xlink:href=\"#DejaVuSans-35\" x=\"95.410156\"/>\n      </g>\n     </g>\n    </g>\n    <g id=\"ytick_4\">\n     <g id=\"line2d_10\">\n      <g>\n       <use xlink:href=\"#m2017e87da1\" x=\"30.103125\" y=\"31.33919\" style=\"stroke: #000000; stroke-width: 0.8\"/>\n      </g>\n     </g>\n     <g id=\"text_11\">\n      <!-- 2.0 -->\n      <g transform=\"translate(7.2 35.138409) scale(0.1 -0.1)\">\n       <use xlink:href=\"#DejaVuSans-32\"/>\n       <use xlink:href=\"#DejaVuSans-2e\" x=\"63.623047\"/>\n       <use xlink:href=\"#DejaVuSans-30\" x=\"95.410156\"/>\n      </g>\n     </g>\n    </g>\n   </g>\n   <g id=\"line2d_11\">\n    <path d=\"M 34.954394 13.5 \n\" clip-path=\"url(#p213e10c0cf)\" style=\"fill: none; stroke: #1f77b4; stroke-width: 1.5; stroke-linecap: square\"/>\n   </g>\n   <g id=\"line2d_12\">\n    <path d=\"M 34.954394 13.5 \nL 44.698573 16.52827 \n\" clip-path=\"url(#p213e10c0cf)\" style=\"fill: none; stroke: #1f77b4; stroke-width: 1.5; stroke-linecap: square\"/>\n   </g>\n   <g id=\"line2d_13\">\n    <path d=\"M 34.954394 13.5 \nL 44.698573 16.52827 \n\" clip-path=\"url(#p213e10c0cf)\" style=\"fill: none; stroke: #1f77b4; stroke-width: 1.5; stroke-linecap: square\"/>\n   </g>\n   <g id=\"line2d_14\">\n    <path d=\"M 49.633125 14.02927 \n\" clip-path=\"url(#p213e10c0cf)\" style=\"fill: none; stroke-dasharray: 5.55,2.4; stroke-dashoffset: 0; stroke: #ff7f0e; stroke-width: 1.5\"/>\n   </g>\n   <g id=\"line2d_15\"/>\n   <g id=\"line2d_16\">\n    <path d=\"M 34.954394 13.5 \nL 44.698573 16.52827 \n\" clip-path=\"url(#p213e10c0cf)\" style=\"fill: none; stroke: #1f77b4; stroke-width: 1.5; stroke-linecap: square\"/>\n   </g>\n   <g id=\"line2d_17\">\n    <path d=\"M 49.633125 14.02927 \n\" clip-path=\"url(#p213e10c0cf)\" style=\"fill: none; stroke-dasharray: 5.55,2.4; stroke-dashoffset: 0; stroke: #ff7f0e; stroke-width: 1.5\"/>\n   </g>\n   <g id=\"line2d_18\">\n    <path d=\"M 49.633125 139.5 \n\" clip-path=\"url(#p213e10c0cf)\" style=\"fill: none; stroke-dasharray: 9.6,2.4,1.5,2.4; stroke-dashoffset: 0; stroke: #2ca02c; stroke-width: 1.5\"/>\n   </g>\n   <g id=\"line2d_19\">\n    <path d=\"M 34.954394 13.5 \nL 44.698573 16.52827 \nL 54.442752 38.067163 \n\" clip-path=\"url(#p213e10c0cf)\" style=\"fill: none; stroke: #1f77b4; stroke-width: 1.5; stroke-linecap: square\"/>\n   </g>\n   <g id=\"line2d_20\">\n    <path d=\"M 49.633125 14.02927 \n\" clip-path=\"url(#p213e10c0cf)\" style=\"fill: none; stroke-dasharray: 5.55,2.4; stroke-dashoffset: 0; stroke: #ff7f0e; stroke-width: 1.5\"/>\n   </g>\n   <g id=\"line2d_21\">\n    <path d=\"M 49.633125 139.5 \n\" clip-path=\"url(#p213e10c0cf)\" style=\"fill: none; stroke-dasharray: 9.6,2.4,1.5,2.4; stroke-dashoffset: 0; stroke: #2ca02c; stroke-width: 1.5\"/>\n   </g>\n   <g id=\"line2d_22\">\n    <path d=\"M 34.954394 13.5 \nL 44.698573 16.52827 \nL 54.442752 38.067163 \nL 64.186931 60.865835 \n\" clip-path=\"url(#p213e10c0cf)\" style=\"fill: none; stroke: #1f77b4; stroke-width: 1.5; stroke-linecap: square\"/>\n   </g>\n   <g id=\"line2d_23\">\n    <path d=\"M 49.633125 14.02927 \n\" clip-path=\"url(#p213e10c0cf)\" style=\"fill: none; stroke-dasharray: 5.55,2.4; stroke-dashoffset: 0; stroke: #ff7f0e; stroke-width: 1.5\"/>\n   </g>\n   <g id=\"line2d_24\">\n    <path d=\"M 49.633125 139.5 \n\" clip-path=\"url(#p213e10c0cf)\" style=\"fill: none; stroke-dasharray: 9.6,2.4,1.5,2.4; stroke-dashoffset: 0; stroke: #2ca02c; stroke-width: 1.5\"/>\n   </g>\n   <g id=\"line2d_25\">\n    <path d=\"M 34.954394 13.5 \nL 44.698573 16.52827 \nL 54.442752 38.067163 \nL 64.186931 60.865835 \n\" clip-path=\"url(#p213e10c0cf)\" style=\"fill: none; stroke: #1f77b4; stroke-width: 1.5; stroke-linecap: square\"/>\n   </g>\n   <g id=\"line2d_26\">\n    <path d=\"M 49.633125 14.02927 \nL 69.163125 71.764724 \n\" clip-path=\"url(#p213e10c0cf)\" style=\"fill: none; stroke-dasharray: 5.55,2.4; stroke-dashoffset: 0; stroke: #ff7f0e; stroke-width: 1.5\"/>\n   </g>\n   <g id=\"line2d_27\">\n    <path d=\"M 49.633125 139.5 \n\" clip-path=\"url(#p213e10c0cf)\" style=\"fill: none; stroke-dasharray: 9.6,2.4,1.5,2.4; stroke-dashoffset: 0; stroke: #2ca02c; stroke-width: 1.5\"/>\n   </g>\n   <g id=\"line2d_28\">\n    <path d=\"M 34.954394 13.5 \nL 44.698573 16.52827 \nL 54.442752 38.067163 \nL 64.186931 60.865835 \n\" clip-path=\"url(#p213e10c0cf)\" style=\"fill: none; stroke: #1f77b4; stroke-width: 1.5; stroke-linecap: square\"/>\n   </g>\n   <g id=\"line2d_29\">\n    <path d=\"M 49.633125 14.02927 \nL 69.163125 71.764724 \n\" clip-path=\"url(#p213e10c0cf)\" style=\"fill: none; stroke-dasharray: 5.55,2.4; stroke-dashoffset: 0; stroke: #ff7f0e; stroke-width: 1.5\"/>\n   </g>\n   <g id=\"line2d_30\">\n    <path d=\"M 49.633125 139.5 \nL 69.163125 118.365596 \n\" clip-path=\"url(#p213e10c0cf)\" style=\"fill: none; stroke-dasharray: 9.6,2.4,1.5,2.4; stroke-dashoffset: 0; stroke: #2ca02c; stroke-width: 1.5\"/>\n   </g>\n   <g id=\"line2d_31\">\n    <path d=\"M 34.954394 13.5 \nL 44.698573 16.52827 \nL 54.442752 38.067163 \nL 64.186931 60.865835 \nL 73.93111 82.15511 \n\" clip-path=\"url(#p213e10c0cf)\" style=\"fill: none; stroke: #1f77b4; stroke-width: 1.5; stroke-linecap: square\"/>\n   </g>\n   <g id=\"line2d_32\">\n    <path d=\"M 49.633125 14.02927 \nL 69.163125 71.764724 \n\" clip-path=\"url(#p213e10c0cf)\" style=\"fill: none; stroke-dasharray: 5.55,2.4; stroke-dashoffset: 0; stroke: #ff7f0e; stroke-width: 1.5\"/>\n   </g>\n   <g id=\"line2d_33\">\n    <path d=\"M 49.633125 139.5 \nL 69.163125 118.365596 \n\" clip-path=\"url(#p213e10c0cf)\" style=\"fill: none; stroke-dasharray: 9.6,2.4,1.5,2.4; stroke-dashoffset: 0; stroke: #2ca02c; stroke-width: 1.5\"/>\n   </g>\n   <g id=\"line2d_34\">\n    <path d=\"M 34.954394 13.5 \nL 44.698573 16.52827 \nL 54.442752 38.067163 \nL 64.186931 60.865835 \nL 73.93111 82.15511 \nL 83.675289 99.145822 \n\" clip-path=\"url(#p213e10c0cf)\" style=\"fill: none; stroke: #1f77b4; stroke-width: 1.5; stroke-linecap: square\"/>\n   </g>\n   <g id=\"line2d_35\">\n    <path d=\"M 49.633125 14.02927 \nL 69.163125 71.764724 \n\" clip-path=\"url(#p213e10c0cf)\" style=\"fill: none; stroke-dasharray: 5.55,2.4; stroke-dashoffset: 0; stroke: #ff7f0e; stroke-width: 1.5\"/>\n   </g>\n   <g id=\"line2d_36\">\n    <path d=\"M 49.633125 139.5 \nL 69.163125 118.365596 \n\" clip-path=\"url(#p213e10c0cf)\" style=\"fill: none; stroke-dasharray: 9.6,2.4,1.5,2.4; stroke-dashoffset: 0; stroke: #2ca02c; stroke-width: 1.5\"/>\n   </g>\n   <g id=\"line2d_37\">\n    <path d=\"M 34.954394 13.5 \nL 44.698573 16.52827 \nL 54.442752 38.067163 \nL 64.186931 60.865835 \nL 73.93111 82.15511 \nL 83.675289 99.145822 \n\" clip-path=\"url(#p213e10c0cf)\" style=\"fill: none; stroke: #1f77b4; stroke-width: 1.5; stroke-linecap: square\"/>\n   </g>\n   <g id=\"line2d_38\">\n    <path d=\"M 49.633125 14.02927 \nL 69.163125 71.764724 \nL 88.693125 86.123857 \n\" clip-path=\"url(#p213e10c0cf)\" style=\"fill: none; stroke-dasharray: 5.55,2.4; stroke-dashoffset: 0; stroke: #ff7f0e; stroke-width: 1.5\"/>\n   </g>\n   <g id=\"line2d_39\">\n    <path d=\"M 49.633125 139.5 \nL 69.163125 118.365596 \n\" clip-path=\"url(#p213e10c0cf)\" style=\"fill: none; stroke-dasharray: 9.6,2.4,1.5,2.4; stroke-dashoffset: 0; stroke: #2ca02c; stroke-width: 1.5\"/>\n   </g>\n   <g id=\"line2d_40\">\n    <path d=\"M 34.954394 13.5 \nL 44.698573 16.52827 \nL 54.442752 38.067163 \nL 64.186931 60.865835 \nL 73.93111 82.15511 \nL 83.675289 99.145822 \n\" clip-path=\"url(#p213e10c0cf)\" style=\"fill: none; stroke: #1f77b4; stroke-width: 1.5; stroke-linecap: square\"/>\n   </g>\n   <g id=\"line2d_41\">\n    <path d=\"M 49.633125 14.02927 \nL 69.163125 71.764724 \nL 88.693125 86.123857 \n\" clip-path=\"url(#p213e10c0cf)\" style=\"fill: none; stroke-dasharray: 5.55,2.4; stroke-dashoffset: 0; stroke: #ff7f0e; stroke-width: 1.5\"/>\n   </g>\n   <g id=\"line2d_42\">\n    <path d=\"M 49.633125 139.5 \nL 69.163125 118.365596 \nL 88.693125 113.834723 \n\" clip-path=\"url(#p213e10c0cf)\" style=\"fill: none; stroke-dasharray: 9.6,2.4,1.5,2.4; stroke-dashoffset: 0; stroke: #2ca02c; stroke-width: 1.5\"/>\n   </g>\n   <g id=\"line2d_43\">\n    <path d=\"M 34.954394 13.5 \nL 44.698573 16.52827 \nL 54.442752 38.067163 \nL 64.186931 60.865835 \nL 73.93111 82.15511 \nL 83.675289 99.145822 \nL 93.419468 106.996143 \n\" clip-path=\"url(#p213e10c0cf)\" style=\"fill: none; stroke: #1f77b4; stroke-width: 1.5; stroke-linecap: square\"/>\n   </g>\n   <g id=\"line2d_44\">\n    <path d=\"M 49.633125 14.02927 \nL 69.163125 71.764724 \nL 88.693125 86.123857 \n\" clip-path=\"url(#p213e10c0cf)\" style=\"fill: none; stroke-dasharray: 5.55,2.4; stroke-dashoffset: 0; stroke: #ff7f0e; stroke-width: 1.5\"/>\n   </g>\n   <g id=\"line2d_45\">\n    <path d=\"M 49.633125 139.5 \nL 69.163125 118.365596 \nL 88.693125 113.834723 \n\" clip-path=\"url(#p213e10c0cf)\" style=\"fill: none; stroke-dasharray: 9.6,2.4,1.5,2.4; stroke-dashoffset: 0; stroke: #2ca02c; stroke-width: 1.5\"/>\n   </g>\n   <g id=\"line2d_46\">\n    <path d=\"M 34.954394 13.5 \nL 44.698573 16.52827 \nL 54.442752 38.067163 \nL 64.186931 60.865835 \nL 73.93111 82.15511 \nL 83.675289 99.145822 \nL 93.419468 106.996143 \nL 103.163647 110.315581 \n\" clip-path=\"url(#p213e10c0cf)\" style=\"fill: none; stroke: #1f77b4; stroke-width: 1.5; stroke-linecap: square\"/>\n   </g>\n   <g id=\"line2d_47\">\n    <path d=\"M 49.633125 14.02927 \nL 69.163125 71.764724 \nL 88.693125 86.123857 \n\" clip-path=\"url(#p213e10c0cf)\" style=\"fill: none; stroke-dasharray: 5.55,2.4; stroke-dashoffset: 0; stroke: #ff7f0e; stroke-width: 1.5\"/>\n   </g>\n   <g id=\"line2d_48\">\n    <path d=\"M 49.633125 139.5 \nL 69.163125 118.365596 \nL 88.693125 113.834723 \n\" clip-path=\"url(#p213e10c0cf)\" style=\"fill: none; stroke-dasharray: 9.6,2.4,1.5,2.4; stroke-dashoffset: 0; stroke: #2ca02c; stroke-width: 1.5\"/>\n   </g>\n   <g id=\"line2d_49\">\n    <path d=\"M 34.954394 13.5 \nL 44.698573 16.52827 \nL 54.442752 38.067163 \nL 64.186931 60.865835 \nL 73.93111 82.15511 \nL 83.675289 99.145822 \nL 93.419468 106.996143 \nL 103.163647 110.315581 \n\" clip-path=\"url(#p213e10c0cf)\" style=\"fill: none; stroke: #1f77b4; stroke-width: 1.5; stroke-linecap: square\"/>\n   </g>\n   <g id=\"line2d_50\">\n    <path d=\"M 49.633125 14.02927 \nL 69.163125 71.764724 \nL 88.693125 86.123857 \nL 108.223125 116.043133 \n\" clip-path=\"url(#p213e10c0cf)\" style=\"fill: none; stroke-dasharray: 5.55,2.4; stroke-dashoffset: 0; stroke: #ff7f0e; stroke-width: 1.5\"/>\n   </g>\n   <g id=\"line2d_51\">\n    <path d=\"M 49.633125 139.5 \nL 69.163125 118.365596 \nL 88.693125 113.834723 \n\" clip-path=\"url(#p213e10c0cf)\" style=\"fill: none; stroke-dasharray: 9.6,2.4,1.5,2.4; stroke-dashoffset: 0; stroke: #2ca02c; stroke-width: 1.5\"/>\n   </g>\n   <g id=\"line2d_52\">\n    <path d=\"M 34.954394 13.5 \nL 44.698573 16.52827 \nL 54.442752 38.067163 \nL 64.186931 60.865835 \nL 73.93111 82.15511 \nL 83.675289 99.145822 \nL 93.419468 106.996143 \nL 103.163647 110.315581 \n\" clip-path=\"url(#p213e10c0cf)\" style=\"fill: none; stroke: #1f77b4; stroke-width: 1.5; stroke-linecap: square\"/>\n   </g>\n   <g id=\"line2d_53\">\n    <path d=\"M 49.633125 14.02927 \nL 69.163125 71.764724 \nL 88.693125 86.123857 \nL 108.223125 116.043133 \n\" clip-path=\"url(#p213e10c0cf)\" style=\"fill: none; stroke-dasharray: 5.55,2.4; stroke-dashoffset: 0; stroke: #ff7f0e; stroke-width: 1.5\"/>\n   </g>\n   <g id=\"line2d_54\">\n    <path d=\"M 49.633125 139.5 \nL 69.163125 118.365596 \nL 88.693125 113.834723 \nL 108.223125 101.44879 \n\" clip-path=\"url(#p213e10c0cf)\" style=\"fill: none; stroke-dasharray: 9.6,2.4,1.5,2.4; stroke-dashoffset: 0; stroke: #2ca02c; stroke-width: 1.5\"/>\n   </g>\n   <g id=\"line2d_55\">\n    <path d=\"M 34.954394 13.5 \nL 44.698573 16.52827 \nL 54.442752 38.067163 \nL 64.186931 60.865835 \nL 73.93111 82.15511 \nL 83.675289 99.145822 \nL 93.419468 106.996143 \nL 103.163647 110.315581 \nL 112.907826 114.93441 \n\" clip-path=\"url(#p213e10c0cf)\" style=\"fill: none; stroke: #1f77b4; stroke-width: 1.5; stroke-linecap: square\"/>\n   </g>\n   <g id=\"line2d_56\">\n    <path d=\"M 49.633125 14.02927 \nL 69.163125 71.764724 \nL 88.693125 86.123857 \nL 108.223125 116.043133 \n\" clip-path=\"url(#p213e10c0cf)\" style=\"fill: none; stroke-dasharray: 5.55,2.4; stroke-dashoffset: 0; stroke: #ff7f0e; stroke-width: 1.5\"/>\n   </g>\n   <g id=\"line2d_57\">\n    <path d=\"M 49.633125 139.5 \nL 69.163125 118.365596 \nL 88.693125 113.834723 \nL 108.223125 101.44879 \n\" clip-path=\"url(#p213e10c0cf)\" style=\"fill: none; stroke-dasharray: 9.6,2.4,1.5,2.4; stroke-dashoffset: 0; stroke: #2ca02c; stroke-width: 1.5\"/>\n   </g>\n   <g id=\"line2d_58\">\n    <path d=\"M 34.954394 13.5 \nL 44.698573 16.52827 \nL 54.442752 38.067163 \nL 64.186931 60.865835 \nL 73.93111 82.15511 \nL 83.675289 99.145822 \nL 93.419468 106.996143 \nL 103.163647 110.315581 \nL 112.907826 114.93441 \nL 122.652006 117.766598 \n\" clip-path=\"url(#p213e10c0cf)\" style=\"fill: none; stroke: #1f77b4; stroke-width: 1.5; stroke-linecap: square\"/>\n   </g>\n   <g id=\"line2d_59\">\n    <path d=\"M 49.633125 14.02927 \nL 69.163125 71.764724 \nL 88.693125 86.123857 \nL 108.223125 116.043133 \n\" clip-path=\"url(#p213e10c0cf)\" style=\"fill: none; stroke-dasharray: 5.55,2.4; stroke-dashoffset: 0; stroke: #ff7f0e; stroke-width: 1.5\"/>\n   </g>\n   <g id=\"line2d_60\">\n    <path d=\"M 49.633125 139.5 \nL 69.163125 118.365596 \nL 88.693125 113.834723 \nL 108.223125 101.44879 \n\" clip-path=\"url(#p213e10c0cf)\" style=\"fill: none; stroke-dasharray: 9.6,2.4,1.5,2.4; stroke-dashoffset: 0; stroke: #2ca02c; stroke-width: 1.5\"/>\n   </g>\n   <g id=\"line2d_61\">\n    <path d=\"M 34.954394 13.5 \nL 44.698573 16.52827 \nL 54.442752 38.067163 \nL 64.186931 60.865835 \nL 73.93111 82.15511 \nL 83.675289 99.145822 \nL 93.419468 106.996143 \nL 103.163647 110.315581 \nL 112.907826 114.93441 \nL 122.652006 117.766598 \n\" clip-path=\"url(#p213e10c0cf)\" style=\"fill: none; stroke: #1f77b4; stroke-width: 1.5; stroke-linecap: square\"/>\n   </g>\n   <g id=\"line2d_62\">\n    <path d=\"M 49.633125 14.02927 \nL 69.163125 71.764724 \nL 88.693125 86.123857 \nL 108.223125 116.043133 \nL 127.753125 117.551448 \n\" clip-path=\"url(#p213e10c0cf)\" style=\"fill: none; stroke-dasharray: 5.55,2.4; stroke-dashoffset: 0; stroke: #ff7f0e; stroke-width: 1.5\"/>\n   </g>\n   <g id=\"line2d_63\">\n    <path d=\"M 49.633125 139.5 \nL 69.163125 118.365596 \nL 88.693125 113.834723 \nL 108.223125 101.44879 \n\" clip-path=\"url(#p213e10c0cf)\" style=\"fill: none; stroke-dasharray: 9.6,2.4,1.5,2.4; stroke-dashoffset: 0; stroke: #2ca02c; stroke-width: 1.5\"/>\n   </g>\n   <g id=\"line2d_64\">\n    <path d=\"M 34.954394 13.5 \nL 44.698573 16.52827 \nL 54.442752 38.067163 \nL 64.186931 60.865835 \nL 73.93111 82.15511 \nL 83.675289 99.145822 \nL 93.419468 106.996143 \nL 103.163647 110.315581 \nL 112.907826 114.93441 \nL 122.652006 117.766598 \n\" clip-path=\"url(#p213e10c0cf)\" style=\"fill: none; stroke: #1f77b4; stroke-width: 1.5; stroke-linecap: square\"/>\n   </g>\n   <g id=\"line2d_65\">\n    <path d=\"M 49.633125 14.02927 \nL 69.163125 71.764724 \nL 88.693125 86.123857 \nL 108.223125 116.043133 \nL 127.753125 117.551448 \n\" clip-path=\"url(#p213e10c0cf)\" style=\"fill: none; stroke-dasharray: 5.55,2.4; stroke-dashoffset: 0; stroke: #ff7f0e; stroke-width: 1.5\"/>\n   </g>\n   <g id=\"line2d_66\">\n    <path d=\"M 49.633125 139.5 \nL 69.163125 118.365596 \nL 88.693125 113.834723 \nL 108.223125 101.44879 \nL 127.753125 101.135516 \n\" clip-path=\"url(#p213e10c0cf)\" style=\"fill: none; stroke-dasharray: 9.6,2.4,1.5,2.4; stroke-dashoffset: 0; stroke: #2ca02c; stroke-width: 1.5\"/>\n   </g>\n   <g id=\"line2d_67\">\n    <path d=\"M 34.954394 13.5 \nL 44.698573 16.52827 \nL 54.442752 38.067163 \nL 64.186931 60.865835 \nL 73.93111 82.15511 \nL 83.675289 99.145822 \nL 93.419468 106.996143 \nL 103.163647 110.315581 \nL 112.907826 114.93441 \nL 122.652006 117.766598 \nL 132.396185 119.398312 \n\" clip-path=\"url(#p213e10c0cf)\" style=\"fill: none; stroke: #1f77b4; stroke-width: 1.5; stroke-linecap: square\"/>\n   </g>\n   <g id=\"line2d_68\">\n    <path d=\"M 49.633125 14.02927 \nL 69.163125 71.764724 \nL 88.693125 86.123857 \nL 108.223125 116.043133 \nL 127.753125 117.551448 \n\" clip-path=\"url(#p213e10c0cf)\" style=\"fill: none; stroke-dasharray: 5.55,2.4; stroke-dashoffset: 0; stroke: #ff7f0e; stroke-width: 1.5\"/>\n   </g>\n   <g id=\"line2d_69\">\n    <path d=\"M 49.633125 139.5 \nL 69.163125 118.365596 \nL 88.693125 113.834723 \nL 108.223125 101.44879 \nL 127.753125 101.135516 \n\" clip-path=\"url(#p213e10c0cf)\" style=\"fill: none; stroke-dasharray: 9.6,2.4,1.5,2.4; stroke-dashoffset: 0; stroke: #2ca02c; stroke-width: 1.5\"/>\n   </g>\n   <g id=\"line2d_70\">\n    <path d=\"M 34.954394 13.5 \nL 44.698573 16.52827 \nL 54.442752 38.067163 \nL 64.186931 60.865835 \nL 73.93111 82.15511 \nL 83.675289 99.145822 \nL 93.419468 106.996143 \nL 103.163647 110.315581 \nL 112.907826 114.93441 \nL 122.652006 117.766598 \nL 132.396185 119.398312 \nL 142.140364 120.571387 \n\" clip-path=\"url(#p213e10c0cf)\" style=\"fill: none; stroke: #1f77b4; stroke-width: 1.5; stroke-linecap: square\"/>\n   </g>\n   <g id=\"line2d_71\">\n    <path d=\"M 49.633125 14.02927 \nL 69.163125 71.764724 \nL 88.693125 86.123857 \nL 108.223125 116.043133 \nL 127.753125 117.551448 \n\" clip-path=\"url(#p213e10c0cf)\" style=\"fill: none; stroke-dasharray: 5.55,2.4; stroke-dashoffset: 0; stroke: #ff7f0e; stroke-width: 1.5\"/>\n   </g>\n   <g id=\"line2d_72\">\n    <path d=\"M 49.633125 139.5 \nL 69.163125 118.365596 \nL 88.693125 113.834723 \nL 108.223125 101.44879 \nL 127.753125 101.135516 \n\" clip-path=\"url(#p213e10c0cf)\" style=\"fill: none; stroke-dasharray: 9.6,2.4,1.5,2.4; stroke-dashoffset: 0; stroke: #2ca02c; stroke-width: 1.5\"/>\n   </g>\n   <g id=\"line2d_73\">\n    <path d=\"M 34.954394 13.5 \nL 44.698573 16.52827 \nL 54.442752 38.067163 \nL 64.186931 60.865835 \nL 73.93111 82.15511 \nL 83.675289 99.145822 \nL 93.419468 106.996143 \nL 103.163647 110.315581 \nL 112.907826 114.93441 \nL 122.652006 117.766598 \nL 132.396185 119.398312 \nL 142.140364 120.571387 \n\" clip-path=\"url(#p213e10c0cf)\" style=\"fill: none; stroke: #1f77b4; stroke-width: 1.5; stroke-linecap: square\"/>\n   </g>\n   <g id=\"line2d_74\">\n    <path d=\"M 49.633125 14.02927 \nL 69.163125 71.764724 \nL 88.693125 86.123857 \nL 108.223125 116.043133 \nL 127.753125 117.551448 \nL 147.283125 119.248462 \n\" clip-path=\"url(#p213e10c0cf)\" style=\"fill: none; stroke-dasharray: 5.55,2.4; stroke-dashoffset: 0; stroke: #ff7f0e; stroke-width: 1.5\"/>\n   </g>\n   <g id=\"line2d_75\">\n    <path d=\"M 49.633125 139.5 \nL 69.163125 118.365596 \nL 88.693125 113.834723 \nL 108.223125 101.44879 \nL 127.753125 101.135516 \n\" clip-path=\"url(#p213e10c0cf)\" style=\"fill: none; stroke-dasharray: 9.6,2.4,1.5,2.4; stroke-dashoffset: 0; stroke: #2ca02c; stroke-width: 1.5\"/>\n   </g>\n   <g id=\"line2d_76\">\n    <path d=\"M 34.954394 13.5 \nL 44.698573 16.52827 \nL 54.442752 38.067163 \nL 64.186931 60.865835 \nL 73.93111 82.15511 \nL 83.675289 99.145822 \nL 93.419468 106.996143 \nL 103.163647 110.315581 \nL 112.907826 114.93441 \nL 122.652006 117.766598 \nL 132.396185 119.398312 \nL 142.140364 120.571387 \n\" clip-path=\"url(#p213e10c0cf)\" style=\"fill: none; stroke: #1f77b4; stroke-width: 1.5; stroke-linecap: square\"/>\n   </g>\n   <g id=\"line2d_77\">\n    <path d=\"M 49.633125 14.02927 \nL 69.163125 71.764724 \nL 88.693125 86.123857 \nL 108.223125 116.043133 \nL 127.753125 117.551448 \nL 147.283125 119.248462 \n\" clip-path=\"url(#p213e10c0cf)\" style=\"fill: none; stroke-dasharray: 5.55,2.4; stroke-dashoffset: 0; stroke: #ff7f0e; stroke-width: 1.5\"/>\n   </g>\n   <g id=\"line2d_78\">\n    <path d=\"M 49.633125 139.5 \nL 69.163125 118.365596 \nL 88.693125 113.834723 \nL 108.223125 101.44879 \nL 127.753125 101.135516 \nL 147.283125 100.746824 \n\" clip-path=\"url(#p213e10c0cf)\" style=\"fill: none; stroke-dasharray: 9.6,2.4,1.5,2.4; stroke-dashoffset: 0; stroke: #2ca02c; stroke-width: 1.5\"/>\n   </g>\n   <g id=\"line2d_79\">\n    <path d=\"M 34.954394 13.5 \nL 44.698573 16.52827 \nL 54.442752 38.067163 \nL 64.186931 60.865835 \nL 73.93111 82.15511 \nL 83.675289 99.145822 \nL 93.419468 106.996143 \nL 103.163647 110.315581 \nL 112.907826 114.93441 \nL 122.652006 117.766598 \nL 132.396185 119.398312 \nL 142.140364 120.571387 \nL 151.884543 121.889908 \n\" clip-path=\"url(#p213e10c0cf)\" style=\"fill: none; stroke: #1f77b4; stroke-width: 1.5; stroke-linecap: square\"/>\n   </g>\n   <g id=\"line2d_80\">\n    <path d=\"M 49.633125 14.02927 \nL 69.163125 71.764724 \nL 88.693125 86.123857 \nL 108.223125 116.043133 \nL 127.753125 117.551448 \nL 147.283125 119.248462 \n\" clip-path=\"url(#p213e10c0cf)\" style=\"fill: none; stroke-dasharray: 5.55,2.4; stroke-dashoffset: 0; stroke: #ff7f0e; stroke-width: 1.5\"/>\n   </g>\n   <g id=\"line2d_81\">\n    <path d=\"M 49.633125 139.5 \nL 69.163125 118.365596 \nL 88.693125 113.834723 \nL 108.223125 101.44879 \nL 127.753125 101.135516 \nL 147.283125 100.746824 \n\" clip-path=\"url(#p213e10c0cf)\" style=\"fill: none; stroke-dasharray: 9.6,2.4,1.5,2.4; stroke-dashoffset: 0; stroke: #2ca02c; stroke-width: 1.5\"/>\n   </g>\n   <g id=\"line2d_82\">\n    <path d=\"M 34.954394 13.5 \nL 44.698573 16.52827 \nL 54.442752 38.067163 \nL 64.186931 60.865835 \nL 73.93111 82.15511 \nL 83.675289 99.145822 \nL 93.419468 106.996143 \nL 103.163647 110.315581 \nL 112.907826 114.93441 \nL 122.652006 117.766598 \nL 132.396185 119.398312 \nL 142.140364 120.571387 \nL 151.884543 121.889908 \nL 161.628722 123.262689 \n\" clip-path=\"url(#p213e10c0cf)\" style=\"fill: none; stroke: #1f77b4; stroke-width: 1.5; stroke-linecap: square\"/>\n   </g>\n   <g id=\"line2d_83\">\n    <path d=\"M 49.633125 14.02927 \nL 69.163125 71.764724 \nL 88.693125 86.123857 \nL 108.223125 116.043133 \nL 127.753125 117.551448 \nL 147.283125 119.248462 \n\" clip-path=\"url(#p213e10c0cf)\" style=\"fill: none; stroke-dasharray: 5.55,2.4; stroke-dashoffset: 0; stroke: #ff7f0e; stroke-width: 1.5\"/>\n   </g>\n   <g id=\"line2d_84\">\n    <path d=\"M 49.633125 139.5 \nL 69.163125 118.365596 \nL 88.693125 113.834723 \nL 108.223125 101.44879 \nL 127.753125 101.135516 \nL 147.283125 100.746824 \n\" clip-path=\"url(#p213e10c0cf)\" style=\"fill: none; stroke-dasharray: 9.6,2.4,1.5,2.4; stroke-dashoffset: 0; stroke: #2ca02c; stroke-width: 1.5\"/>\n   </g>\n   <g id=\"line2d_85\">\n    <path d=\"M 34.954394 13.5 \nL 44.698573 16.52827 \nL 54.442752 38.067163 \nL 64.186931 60.865835 \nL 73.93111 82.15511 \nL 83.675289 99.145822 \nL 93.419468 106.996143 \nL 103.163647 110.315581 \nL 112.907826 114.93441 \nL 122.652006 117.766598 \nL 132.396185 119.398312 \nL 142.140364 120.571387 \nL 151.884543 121.889908 \nL 161.628722 123.262689 \n\" clip-path=\"url(#p213e10c0cf)\" style=\"fill: none; stroke: #1f77b4; stroke-width: 1.5; stroke-linecap: square\"/>\n   </g>\n   <g id=\"line2d_86\">\n    <path d=\"M 49.633125 14.02927 \nL 69.163125 71.764724 \nL 88.693125 86.123857 \nL 108.223125 116.043133 \nL 127.753125 117.551448 \nL 147.283125 119.248462 \nL 166.813125 121.004268 \n\" clip-path=\"url(#p213e10c0cf)\" style=\"fill: none; stroke-dasharray: 5.55,2.4; stroke-dashoffset: 0; stroke: #ff7f0e; stroke-width: 1.5\"/>\n   </g>\n   <g id=\"line2d_87\">\n    <path d=\"M 49.633125 139.5 \nL 69.163125 118.365596 \nL 88.693125 113.834723 \nL 108.223125 101.44879 \nL 127.753125 101.135516 \nL 147.283125 100.746824 \n\" clip-path=\"url(#p213e10c0cf)\" style=\"fill: none; stroke-dasharray: 9.6,2.4,1.5,2.4; stroke-dashoffset: 0; stroke: #2ca02c; stroke-width: 1.5\"/>\n   </g>\n   <g id=\"line2d_88\">\n    <path d=\"M 34.954394 13.5 \nL 44.698573 16.52827 \nL 54.442752 38.067163 \nL 64.186931 60.865835 \nL 73.93111 82.15511 \nL 83.675289 99.145822 \nL 93.419468 106.996143 \nL 103.163647 110.315581 \nL 112.907826 114.93441 \nL 122.652006 117.766598 \nL 132.396185 119.398312 \nL 142.140364 120.571387 \nL 151.884543 121.889908 \nL 161.628722 123.262689 \n\" clip-path=\"url(#p213e10c0cf)\" style=\"fill: none; stroke: #1f77b4; stroke-width: 1.5; stroke-linecap: square\"/>\n   </g>\n   <g id=\"line2d_89\">\n    <path d=\"M 49.633125 14.02927 \nL 69.163125 71.764724 \nL 88.693125 86.123857 \nL 108.223125 116.043133 \nL 127.753125 117.551448 \nL 147.283125 119.248462 \nL 166.813125 121.004268 \n\" clip-path=\"url(#p213e10c0cf)\" style=\"fill: none; stroke-dasharray: 5.55,2.4; stroke-dashoffset: 0; stroke: #ff7f0e; stroke-width: 1.5\"/>\n   </g>\n   <g id=\"line2d_90\">\n    <path d=\"M 49.633125 139.5 \nL 69.163125 118.365596 \nL 88.693125 113.834723 \nL 108.223125 101.44879 \nL 127.753125 101.135516 \nL 147.283125 100.746824 \nL 166.813125 99.650365 \n\" clip-path=\"url(#p213e10c0cf)\" style=\"fill: none; stroke-dasharray: 9.6,2.4,1.5,2.4; stroke-dashoffset: 0; stroke: #2ca02c; stroke-width: 1.5\"/>\n   </g>\n   <g id=\"line2d_91\">\n    <path d=\"M 34.954394 13.5 \nL 44.698573 16.52827 \nL 54.442752 38.067163 \nL 64.186931 60.865835 \nL 73.93111 82.15511 \nL 83.675289 99.145822 \nL 93.419468 106.996143 \nL 103.163647 110.315581 \nL 112.907826 114.93441 \nL 122.652006 117.766598 \nL 132.396185 119.398312 \nL 142.140364 120.571387 \nL 151.884543 121.889908 \nL 161.628722 123.262689 \nL 171.372901 123.547724 \n\" clip-path=\"url(#p213e10c0cf)\" style=\"fill: none; stroke: #1f77b4; stroke-width: 1.5; stroke-linecap: square\"/>\n   </g>\n   <g id=\"line2d_92\">\n    <path d=\"M 49.633125 14.02927 \nL 69.163125 71.764724 \nL 88.693125 86.123857 \nL 108.223125 116.043133 \nL 127.753125 117.551448 \nL 147.283125 119.248462 \nL 166.813125 121.004268 \n\" clip-path=\"url(#p213e10c0cf)\" style=\"fill: none; stroke-dasharray: 5.55,2.4; stroke-dashoffset: 0; stroke: #ff7f0e; stroke-width: 1.5\"/>\n   </g>\n   <g id=\"line2d_93\">\n    <path d=\"M 49.633125 139.5 \nL 69.163125 118.365596 \nL 88.693125 113.834723 \nL 108.223125 101.44879 \nL 127.753125 101.135516 \nL 147.283125 100.746824 \nL 166.813125 99.650365 \n\" clip-path=\"url(#p213e10c0cf)\" style=\"fill: none; stroke-dasharray: 9.6,2.4,1.5,2.4; stroke-dashoffset: 0; stroke: #2ca02c; stroke-width: 1.5\"/>\n   </g>\n   <g id=\"line2d_94\">\n    <path d=\"M 34.954394 13.5 \nL 44.698573 16.52827 \nL 54.442752 38.067163 \nL 64.186931 60.865835 \nL 73.93111 82.15511 \nL 83.675289 99.145822 \nL 93.419468 106.996143 \nL 103.163647 110.315581 \nL 112.907826 114.93441 \nL 122.652006 117.766598 \nL 132.396185 119.398312 \nL 142.140364 120.571387 \nL 151.884543 121.889908 \nL 161.628722 123.262689 \nL 171.372901 123.547724 \nL 181.11708 124.448526 \n\" clip-path=\"url(#p213e10c0cf)\" style=\"fill: none; stroke: #1f77b4; stroke-width: 1.5; stroke-linecap: square\"/>\n   </g>\n   <g id=\"line2d_95\">\n    <path d=\"M 49.633125 14.02927 \nL 69.163125 71.764724 \nL 88.693125 86.123857 \nL 108.223125 116.043133 \nL 127.753125 117.551448 \nL 147.283125 119.248462 \nL 166.813125 121.004268 \n\" clip-path=\"url(#p213e10c0cf)\" style=\"fill: none; stroke-dasharray: 5.55,2.4; stroke-dashoffset: 0; stroke: #ff7f0e; stroke-width: 1.5\"/>\n   </g>\n   <g id=\"line2d_96\">\n    <path d=\"M 49.633125 139.5 \nL 69.163125 118.365596 \nL 88.693125 113.834723 \nL 108.223125 101.44879 \nL 127.753125 101.135516 \nL 147.283125 100.746824 \nL 166.813125 99.650365 \n\" clip-path=\"url(#p213e10c0cf)\" style=\"fill: none; stroke-dasharray: 9.6,2.4,1.5,2.4; stroke-dashoffset: 0; stroke: #2ca02c; stroke-width: 1.5\"/>\n   </g>\n   <g id=\"line2d_97\">\n    <path d=\"M 34.954394 13.5 \nL 44.698573 16.52827 \nL 54.442752 38.067163 \nL 64.186931 60.865835 \nL 73.93111 82.15511 \nL 83.675289 99.145822 \nL 93.419468 106.996143 \nL 103.163647 110.315581 \nL 112.907826 114.93441 \nL 122.652006 117.766598 \nL 132.396185 119.398312 \nL 142.140364 120.571387 \nL 151.884543 121.889908 \nL 161.628722 123.262689 \nL 171.372901 123.547724 \nL 181.11708 124.448526 \n\" clip-path=\"url(#p213e10c0cf)\" style=\"fill: none; stroke: #1f77b4; stroke-width: 1.5; stroke-linecap: square\"/>\n   </g>\n   <g id=\"line2d_98\">\n    <path d=\"M 49.633125 14.02927 \nL 69.163125 71.764724 \nL 88.693125 86.123857 \nL 108.223125 116.043133 \nL 127.753125 117.551448 \nL 147.283125 119.248462 \nL 166.813125 121.004268 \nL 186.343125 122.607064 \n\" clip-path=\"url(#p213e10c0cf)\" style=\"fill: none; stroke-dasharray: 5.55,2.4; stroke-dashoffset: 0; stroke: #ff7f0e; stroke-width: 1.5\"/>\n   </g>\n   <g id=\"line2d_99\">\n    <path d=\"M 49.633125 139.5 \nL 69.163125 118.365596 \nL 88.693125 113.834723 \nL 108.223125 101.44879 \nL 127.753125 101.135516 \nL 147.283125 100.746824 \nL 166.813125 99.650365 \n\" clip-path=\"url(#p213e10c0cf)\" style=\"fill: none; stroke-dasharray: 9.6,2.4,1.5,2.4; stroke-dashoffset: 0; stroke: #2ca02c; stroke-width: 1.5\"/>\n   </g>\n   <g id=\"line2d_100\">\n    <path d=\"M 34.954394 13.5 \nL 44.698573 16.52827 \nL 54.442752 38.067163 \nL 64.186931 60.865835 \nL 73.93111 82.15511 \nL 83.675289 99.145822 \nL 93.419468 106.996143 \nL 103.163647 110.315581 \nL 112.907826 114.93441 \nL 122.652006 117.766598 \nL 132.396185 119.398312 \nL 142.140364 120.571387 \nL 151.884543 121.889908 \nL 161.628722 123.262689 \nL 171.372901 123.547724 \nL 181.11708 124.448526 \n\" clip-path=\"url(#p213e10c0cf)\" style=\"fill: none; stroke: #1f77b4; stroke-width: 1.5; stroke-linecap: square\"/>\n   </g>\n   <g id=\"line2d_101\">\n    <path d=\"M 49.633125 14.02927 \nL 69.163125 71.764724 \nL 88.693125 86.123857 \nL 108.223125 116.043133 \nL 127.753125 117.551448 \nL 147.283125 119.248462 \nL 166.813125 121.004268 \nL 186.343125 122.607064 \n\" clip-path=\"url(#p213e10c0cf)\" style=\"fill: none; stroke-dasharray: 5.55,2.4; stroke-dashoffset: 0; stroke: #ff7f0e; stroke-width: 1.5\"/>\n   </g>\n   <g id=\"line2d_102\">\n    <path d=\"M 49.633125 139.5 \nL 69.163125 118.365596 \nL 88.693125 113.834723 \nL 108.223125 101.44879 \nL 127.753125 101.135516 \nL 147.283125 100.746824 \nL 166.813125 99.650365 \nL 186.343125 98.930994 \n\" clip-path=\"url(#p213e10c0cf)\" style=\"fill: none; stroke-dasharray: 9.6,2.4,1.5,2.4; stroke-dashoffset: 0; stroke: #2ca02c; stroke-width: 1.5\"/>\n   </g>\n   <g id=\"line2d_103\">\n    <path d=\"M 34.954394 13.5 \nL 44.698573 16.52827 \nL 54.442752 38.067163 \nL 64.186931 60.865835 \nL 73.93111 82.15511 \nL 83.675289 99.145822 \nL 93.419468 106.996143 \nL 103.163647 110.315581 \nL 112.907826 114.93441 \nL 122.652006 117.766598 \nL 132.396185 119.398312 \nL 142.140364 120.571387 \nL 151.884543 121.889908 \nL 161.628722 123.262689 \nL 171.372901 123.547724 \nL 181.11708 124.448526 \nL 190.861259 125.316155 \n\" clip-path=\"url(#p213e10c0cf)\" style=\"fill: none; stroke: #1f77b4; stroke-width: 1.5; stroke-linecap: square\"/>\n   </g>\n   <g id=\"line2d_104\">\n    <path d=\"M 49.633125 14.02927 \nL 69.163125 71.764724 \nL 88.693125 86.123857 \nL 108.223125 116.043133 \nL 127.753125 117.551448 \nL 147.283125 119.248462 \nL 166.813125 121.004268 \nL 186.343125 122.607064 \n\" clip-path=\"url(#p213e10c0cf)\" style=\"fill: none; stroke-dasharray: 5.55,2.4; stroke-dashoffset: 0; stroke: #ff7f0e; stroke-width: 1.5\"/>\n   </g>\n   <g id=\"line2d_105\">\n    <path d=\"M 49.633125 139.5 \nL 69.163125 118.365596 \nL 88.693125 113.834723 \nL 108.223125 101.44879 \nL 127.753125 101.135516 \nL 147.283125 100.746824 \nL 166.813125 99.650365 \nL 186.343125 98.930994 \n\" clip-path=\"url(#p213e10c0cf)\" style=\"fill: none; stroke-dasharray: 9.6,2.4,1.5,2.4; stroke-dashoffset: 0; stroke: #2ca02c; stroke-width: 1.5\"/>\n   </g>\n   <g id=\"line2d_106\">\n    <path d=\"M 34.954394 13.5 \nL 44.698573 16.52827 \nL 54.442752 38.067163 \nL 64.186931 60.865835 \nL 73.93111 82.15511 \nL 83.675289 99.145822 \nL 93.419468 106.996143 \nL 103.163647 110.315581 \nL 112.907826 114.93441 \nL 122.652006 117.766598 \nL 132.396185 119.398312 \nL 142.140364 120.571387 \nL 151.884543 121.889908 \nL 161.628722 123.262689 \nL 171.372901 123.547724 \nL 181.11708 124.448526 \nL 190.861259 125.316155 \nL 200.605438 125.5249 \n\" clip-path=\"url(#p213e10c0cf)\" style=\"fill: none; stroke: #1f77b4; stroke-width: 1.5; stroke-linecap: square\"/>\n   </g>\n   <g id=\"line2d_107\">\n    <path d=\"M 49.633125 14.02927 \nL 69.163125 71.764724 \nL 88.693125 86.123857 \nL 108.223125 116.043133 \nL 127.753125 117.551448 \nL 147.283125 119.248462 \nL 166.813125 121.004268 \nL 186.343125 122.607064 \n\" clip-path=\"url(#p213e10c0cf)\" style=\"fill: none; stroke-dasharray: 5.55,2.4; stroke-dashoffset: 0; stroke: #ff7f0e; stroke-width: 1.5\"/>\n   </g>\n   <g id=\"line2d_108\">\n    <path d=\"M 49.633125 139.5 \nL 69.163125 118.365596 \nL 88.693125 113.834723 \nL 108.223125 101.44879 \nL 127.753125 101.135516 \nL 147.283125 100.746824 \nL 166.813125 99.650365 \nL 186.343125 98.930994 \n\" clip-path=\"url(#p213e10c0cf)\" style=\"fill: none; stroke-dasharray: 9.6,2.4,1.5,2.4; stroke-dashoffset: 0; stroke: #2ca02c; stroke-width: 1.5\"/>\n   </g>\n   <g id=\"line2d_109\">\n    <path d=\"M 34.954394 13.5 \nL 44.698573 16.52827 \nL 54.442752 38.067163 \nL 64.186931 60.865835 \nL 73.93111 82.15511 \nL 83.675289 99.145822 \nL 93.419468 106.996143 \nL 103.163647 110.315581 \nL 112.907826 114.93441 \nL 122.652006 117.766598 \nL 132.396185 119.398312 \nL 142.140364 120.571387 \nL 151.884543 121.889908 \nL 161.628722 123.262689 \nL 171.372901 123.547724 \nL 181.11708 124.448526 \nL 190.861259 125.316155 \nL 200.605438 125.5249 \n\" clip-path=\"url(#p213e10c0cf)\" style=\"fill: none; stroke: #1f77b4; stroke-width: 1.5; stroke-linecap: square\"/>\n   </g>\n   <g id=\"line2d_110\">\n    <path d=\"M 49.633125 14.02927 \nL 69.163125 71.764724 \nL 88.693125 86.123857 \nL 108.223125 116.043133 \nL 127.753125 117.551448 \nL 147.283125 119.248462 \nL 166.813125 121.004268 \nL 186.343125 122.607064 \nL 205.873125 126.395062 \n\" clip-path=\"url(#p213e10c0cf)\" style=\"fill: none; stroke-dasharray: 5.55,2.4; stroke-dashoffset: 0; stroke: #ff7f0e; stroke-width: 1.5\"/>\n   </g>\n   <g id=\"line2d_111\">\n    <path d=\"M 49.633125 139.5 \nL 69.163125 118.365596 \nL 88.693125 113.834723 \nL 108.223125 101.44879 \nL 127.753125 101.135516 \nL 147.283125 100.746824 \nL 166.813125 99.650365 \nL 186.343125 98.930994 \n\" clip-path=\"url(#p213e10c0cf)\" style=\"fill: none; stroke-dasharray: 9.6,2.4,1.5,2.4; stroke-dashoffset: 0; stroke: #2ca02c; stroke-width: 1.5\"/>\n   </g>\n   <g id=\"line2d_112\">\n    <path d=\"M 34.954394 13.5 \nL 44.698573 16.52827 \nL 54.442752 38.067163 \nL 64.186931 60.865835 \nL 73.93111 82.15511 \nL 83.675289 99.145822 \nL 93.419468 106.996143 \nL 103.163647 110.315581 \nL 112.907826 114.93441 \nL 122.652006 117.766598 \nL 132.396185 119.398312 \nL 142.140364 120.571387 \nL 151.884543 121.889908 \nL 161.628722 123.262689 \nL 171.372901 123.547724 \nL 181.11708 124.448526 \nL 190.861259 125.316155 \nL 200.605438 125.5249 \n\" clip-path=\"url(#p213e10c0cf)\" style=\"fill: none; stroke: #1f77b4; stroke-width: 1.5; stroke-linecap: square\"/>\n   </g>\n   <g id=\"line2d_113\">\n    <path d=\"M 49.633125 14.02927 \nL 69.163125 71.764724 \nL 88.693125 86.123857 \nL 108.223125 116.043133 \nL 127.753125 117.551448 \nL 147.283125 119.248462 \nL 166.813125 121.004268 \nL 186.343125 122.607064 \nL 205.873125 126.395062 \n\" clip-path=\"url(#p213e10c0cf)\" style=\"fill: none; stroke-dasharray: 5.55,2.4; stroke-dashoffset: 0; stroke: #ff7f0e; stroke-width: 1.5\"/>\n   </g>\n   <g id=\"line2d_114\">\n    <path d=\"M 49.633125 139.5 \nL 69.163125 118.365596 \nL 88.693125 113.834723 \nL 108.223125 101.44879 \nL 127.753125 101.135516 \nL 147.283125 100.746824 \nL 166.813125 99.650365 \nL 186.343125 98.930994 \nL 205.873125 97.991172 \n\" clip-path=\"url(#p213e10c0cf)\" style=\"fill: none; stroke-dasharray: 9.6,2.4,1.5,2.4; stroke-dashoffset: 0; stroke: #2ca02c; stroke-width: 1.5\"/>\n   </g>\n   <g id=\"line2d_115\">\n    <path d=\"M 34.954394 13.5 \nL 44.698573 16.52827 \nL 54.442752 38.067163 \nL 64.186931 60.865835 \nL 73.93111 82.15511 \nL 83.675289 99.145822 \nL 93.419468 106.996143 \nL 103.163647 110.315581 \nL 112.907826 114.93441 \nL 122.652006 117.766598 \nL 132.396185 119.398312 \nL 142.140364 120.571387 \nL 151.884543 121.889908 \nL 161.628722 123.262689 \nL 171.372901 123.547724 \nL 181.11708 124.448526 \nL 190.861259 125.316155 \nL 200.605438 125.5249 \nL 210.349618 126.501174 \n\" clip-path=\"url(#p213e10c0cf)\" style=\"fill: none; stroke: #1f77b4; stroke-width: 1.5; stroke-linecap: square\"/>\n   </g>\n   <g id=\"line2d_116\">\n    <path d=\"M 49.633125 14.02927 \nL 69.163125 71.764724 \nL 88.693125 86.123857 \nL 108.223125 116.043133 \nL 127.753125 117.551448 \nL 147.283125 119.248462 \nL 166.813125 121.004268 \nL 186.343125 122.607064 \nL 205.873125 126.395062 \n\" clip-path=\"url(#p213e10c0cf)\" style=\"fill: none; stroke-dasharray: 5.55,2.4; stroke-dashoffset: 0; stroke: #ff7f0e; stroke-width: 1.5\"/>\n   </g>\n   <g id=\"line2d_117\">\n    <path d=\"M 49.633125 139.5 \nL 69.163125 118.365596 \nL 88.693125 113.834723 \nL 108.223125 101.44879 \nL 127.753125 101.135516 \nL 147.283125 100.746824 \nL 166.813125 99.650365 \nL 186.343125 98.930994 \nL 205.873125 97.991172 \n\" clip-path=\"url(#p213e10c0cf)\" style=\"fill: none; stroke-dasharray: 9.6,2.4,1.5,2.4; stroke-dashoffset: 0; stroke: #2ca02c; stroke-width: 1.5\"/>\n   </g>\n   <g id=\"line2d_118\">\n    <path d=\"M 34.954394 13.5 \nL 44.698573 16.52827 \nL 54.442752 38.067163 \nL 64.186931 60.865835 \nL 73.93111 82.15511 \nL 83.675289 99.145822 \nL 93.419468 106.996143 \nL 103.163647 110.315581 \nL 112.907826 114.93441 \nL 122.652006 117.766598 \nL 132.396185 119.398312 \nL 142.140364 120.571387 \nL 151.884543 121.889908 \nL 161.628722 123.262689 \nL 171.372901 123.547724 \nL 181.11708 124.448526 \nL 190.861259 125.316155 \nL 200.605438 125.5249 \nL 210.349618 126.501174 \nL 220.093797 126.612335 \n\" clip-path=\"url(#p213e10c0cf)\" style=\"fill: none; stroke: #1f77b4; stroke-width: 1.5; stroke-linecap: square\"/>\n   </g>\n   <g id=\"line2d_119\">\n    <path d=\"M 49.633125 14.02927 \nL 69.163125 71.764724 \nL 88.693125 86.123857 \nL 108.223125 116.043133 \nL 127.753125 117.551448 \nL 147.283125 119.248462 \nL 166.813125 121.004268 \nL 186.343125 122.607064 \nL 205.873125 126.395062 \n\" clip-path=\"url(#p213e10c0cf)\" style=\"fill: none; stroke-dasharray: 5.55,2.4; stroke-dashoffset: 0; stroke: #ff7f0e; stroke-width: 1.5\"/>\n   </g>\n   <g id=\"line2d_120\">\n    <path d=\"M 49.633125 139.5 \nL 69.163125 118.365596 \nL 88.693125 113.834723 \nL 108.223125 101.44879 \nL 127.753125 101.135516 \nL 147.283125 100.746824 \nL 166.813125 99.650365 \nL 186.343125 98.930994 \nL 205.873125 97.991172 \n\" clip-path=\"url(#p213e10c0cf)\" style=\"fill: none; stroke-dasharray: 9.6,2.4,1.5,2.4; stroke-dashoffset: 0; stroke: #2ca02c; stroke-width: 1.5\"/>\n   </g>\n   <g id=\"line2d_121\">\n    <path d=\"M 34.954394 13.5 \nL 44.698573 16.52827 \nL 54.442752 38.067163 \nL 64.186931 60.865835 \nL 73.93111 82.15511 \nL 83.675289 99.145822 \nL 93.419468 106.996143 \nL 103.163647 110.315581 \nL 112.907826 114.93441 \nL 122.652006 117.766598 \nL 132.396185 119.398312 \nL 142.140364 120.571387 \nL 151.884543 121.889908 \nL 161.628722 123.262689 \nL 171.372901 123.547724 \nL 181.11708 124.448526 \nL 190.861259 125.316155 \nL 200.605438 125.5249 \nL 210.349618 126.501174 \nL 220.093797 126.612335 \n\" clip-path=\"url(#p213e10c0cf)\" style=\"fill: none; stroke: #1f77b4; stroke-width: 1.5; stroke-linecap: square\"/>\n   </g>\n   <g id=\"line2d_122\">\n    <path d=\"M 49.633125 14.02927 \nL 69.163125 71.764724 \nL 88.693125 86.123857 \nL 108.223125 116.043133 \nL 127.753125 117.551448 \nL 147.283125 119.248462 \nL 166.813125 121.004268 \nL 186.343125 122.607064 \nL 205.873125 126.395062 \nL 225.403125 127.530044 \n\" clip-path=\"url(#p213e10c0cf)\" style=\"fill: none; stroke-dasharray: 5.55,2.4; stroke-dashoffset: 0; stroke: #ff7f0e; stroke-width: 1.5\"/>\n   </g>\n   <g id=\"line2d_123\">\n    <path d=\"M 49.633125 139.5 \nL 69.163125 118.365596 \nL 88.693125 113.834723 \nL 108.223125 101.44879 \nL 127.753125 101.135516 \nL 147.283125 100.746824 \nL 166.813125 99.650365 \nL 186.343125 98.930994 \nL 205.873125 97.991172 \n\" clip-path=\"url(#p213e10c0cf)\" style=\"fill: none; stroke-dasharray: 9.6,2.4,1.5,2.4; stroke-dashoffset: 0; stroke: #2ca02c; stroke-width: 1.5\"/>\n   </g>\n   <g id=\"line2d_124\">\n    <path d=\"M 34.954394 13.5 \nL 44.698573 16.52827 \nL 54.442752 38.067163 \nL 64.186931 60.865835 \nL 73.93111 82.15511 \nL 83.675289 99.145822 \nL 93.419468 106.996143 \nL 103.163647 110.315581 \nL 112.907826 114.93441 \nL 122.652006 117.766598 \nL 132.396185 119.398312 \nL 142.140364 120.571387 \nL 151.884543 121.889908 \nL 161.628722 123.262689 \nL 171.372901 123.547724 \nL 181.11708 124.448526 \nL 190.861259 125.316155 \nL 200.605438 125.5249 \nL 210.349618 126.501174 \nL 220.093797 126.612335 \n\" clip-path=\"url(#p213e10c0cf)\" style=\"fill: none; stroke: #1f77b4; stroke-width: 1.5; stroke-linecap: square\"/>\n   </g>\n   <g id=\"line2d_125\">\n    <path d=\"M 49.633125 14.02927 \nL 69.163125 71.764724 \nL 88.693125 86.123857 \nL 108.223125 116.043133 \nL 127.753125 117.551448 \nL 147.283125 119.248462 \nL 166.813125 121.004268 \nL 186.343125 122.607064 \nL 205.873125 126.395062 \nL 225.403125 127.530044 \n\" clip-path=\"url(#p213e10c0cf)\" style=\"fill: none; stroke-dasharray: 5.55,2.4; stroke-dashoffset: 0; stroke: #ff7f0e; stroke-width: 1.5\"/>\n   </g>\n   <g id=\"line2d_126\">\n    <path d=\"M 49.633125 139.5 \nL 69.163125 118.365596 \nL 88.693125 113.834723 \nL 108.223125 101.44879 \nL 127.753125 101.135516 \nL 147.283125 100.746824 \nL 166.813125 99.650365 \nL 186.343125 98.930994 \nL 205.873125 97.991172 \nL 225.403125 97.631487 \n\" clip-path=\"url(#p213e10c0cf)\" style=\"fill: none; stroke-dasharray: 9.6,2.4,1.5,2.4; stroke-dashoffset: 0; stroke: #2ca02c; stroke-width: 1.5\"/>\n   </g>\n   <g id=\"patch_3\">\n    <path d=\"M 30.103125 145.8 \nL 30.103125 7.2 \n\" style=\"fill: none; stroke: #000000; stroke-width: 0.8; stroke-linejoin: miter; stroke-linecap: square\"/>\n   </g>\n   <g id=\"patch_4\">\n    <path d=\"M 225.403125 145.8 \nL 225.403125 7.2 \n\" style=\"fill: none; stroke: #000000; stroke-width: 0.8; stroke-linejoin: miter; stroke-linecap: square\"/>\n   </g>\n   <g id=\"patch_5\">\n    <path d=\"M 30.103125 145.8 \nL 225.403125 145.8 \n\" style=\"fill: none; stroke: #000000; stroke-width: 0.8; stroke-linejoin: miter; stroke-linecap: square\"/>\n   </g>\n   <g id=\"patch_6\">\n    <path d=\"M 30.103125 7.2 \nL 225.403125 7.2 \n\" style=\"fill: none; stroke: #000000; stroke-width: 0.8; stroke-linejoin: miter; stroke-linecap: square\"/>\n   </g>\n   <g id=\"legend_1\">\n    <g id=\"patch_7\">\n     <path d=\"M 138.8125 60.06875 \nL 218.403125 60.06875 \nQ 220.403125 60.06875 220.403125 58.06875 \nL 220.403125 14.2 \nQ 220.403125 12.2 218.403125 12.2 \nL 138.8125 12.2 \nQ 136.8125 12.2 136.8125 14.2 \nL 136.8125 58.06875 \nQ 136.8125 60.06875 138.8125 60.06875 \nz\n\" style=\"fill: #ffffff; opacity: 0.8; stroke: #cccccc; stroke-linejoin: miter\"/>\n    </g>\n    <g id=\"line2d_127\">\n     <path d=\"M 140.8125 20.298438 \nL 150.8125 20.298438 \nL 160.8125 20.298438 \n\" style=\"fill: none; stroke: #1f77b4; stroke-width: 1.5; stroke-linecap: square\"/>\n    </g>\n    <g id=\"text_12\">\n     <!-- train_loss -->\n     <g transform=\"translate(168.8125 23.798438) scale(0.1 -0.1)\">\n      <defs>\n       <path id=\"DejaVuSans-74\" d=\"M 1172 4494 \nL 1172 3500 \nL 2356 3500 \nL 2356 3053 \nL 1172 3053 \nL 1172 1153 \nQ 1172 725 1289 603 \nQ 1406 481 1766 481 \nL 2356 481 \nL 2356 0 \nL 1766 0 \nQ 1100 0 847 248 \nQ 594 497 594 1153 \nL 594 3053 \nL 172 3053 \nL 172 3500 \nL 594 3500 \nL 594 4494 \nL 1172 4494 \nz\n\" transform=\"scale(0.015625)\"/>\n       <path id=\"DejaVuSans-72\" d=\"M 2631 2963 \nQ 2534 3019 2420 3045 \nQ 2306 3072 2169 3072 \nQ 1681 3072 1420 2755 \nQ 1159 2438 1159 1844 \nL 1159 0 \nL 581 0 \nL 581 3500 \nL 1159 3500 \nL 1159 2956 \nQ 1341 3275 1631 3429 \nQ 1922 3584 2338 3584 \nQ 2397 3584 2469 3576 \nQ 2541 3569 2628 3553 \nL 2631 2963 \nz\n\" transform=\"scale(0.015625)\"/>\n       <path id=\"DejaVuSans-61\" d=\"M 2194 1759 \nQ 1497 1759 1228 1600 \nQ 959 1441 959 1056 \nQ 959 750 1161 570 \nQ 1363 391 1709 391 \nQ 2188 391 2477 730 \nQ 2766 1069 2766 1631 \nL 2766 1759 \nL 2194 1759 \nz\nM 3341 1997 \nL 3341 0 \nL 2766 0 \nL 2766 531 \nQ 2569 213 2275 61 \nQ 1981 -91 1556 -91 \nQ 1019 -91 701 211 \nQ 384 513 384 1019 \nQ 384 1609 779 1909 \nQ 1175 2209 1959 2209 \nL 2766 2209 \nL 2766 2266 \nQ 2766 2663 2505 2880 \nQ 2244 3097 1772 3097 \nQ 1472 3097 1187 3025 \nQ 903 2953 641 2809 \nL 641 3341 \nQ 956 3463 1253 3523 \nQ 1550 3584 1831 3584 \nQ 2591 3584 2966 3190 \nQ 3341 2797 3341 1997 \nz\n\" transform=\"scale(0.015625)\"/>\n       <path id=\"DejaVuSans-69\" d=\"M 603 3500 \nL 1178 3500 \nL 1178 0 \nL 603 0 \nL 603 3500 \nz\nM 603 4863 \nL 1178 4863 \nL 1178 4134 \nL 603 4134 \nL 603 4863 \nz\n\" transform=\"scale(0.015625)\"/>\n       <path id=\"DejaVuSans-6e\" d=\"M 3513 2113 \nL 3513 0 \nL 2938 0 \nL 2938 2094 \nQ 2938 2591 2744 2837 \nQ 2550 3084 2163 3084 \nQ 1697 3084 1428 2787 \nQ 1159 2491 1159 1978 \nL 1159 0 \nL 581 0 \nL 581 3500 \nL 1159 3500 \nL 1159 2956 \nQ 1366 3272 1645 3428 \nQ 1925 3584 2291 3584 \nQ 2894 3584 3203 3211 \nQ 3513 2838 3513 2113 \nz\n\" transform=\"scale(0.015625)\"/>\n       <path id=\"DejaVuSans-5f\" d=\"M 3263 -1063 \nL 3263 -1509 \nL -63 -1509 \nL -63 -1063 \nL 3263 -1063 \nz\n\" transform=\"scale(0.015625)\"/>\n       <path id=\"DejaVuSans-6c\" d=\"M 603 4863 \nL 1178 4863 \nL 1178 0 \nL 603 0 \nL 603 4863 \nz\n\" transform=\"scale(0.015625)\"/>\n       <path id=\"DejaVuSans-73\" d=\"M 2834 3397 \nL 2834 2853 \nQ 2591 2978 2328 3040 \nQ 2066 3103 1784 3103 \nQ 1356 3103 1142 2972 \nQ 928 2841 928 2578 \nQ 928 2378 1081 2264 \nQ 1234 2150 1697 2047 \nL 1894 2003 \nQ 2506 1872 2764 1633 \nQ 3022 1394 3022 966 \nQ 3022 478 2636 193 \nQ 2250 -91 1575 -91 \nQ 1294 -91 989 -36 \nQ 684 19 347 128 \nL 347 722 \nQ 666 556 975 473 \nQ 1284 391 1588 391 \nQ 1994 391 2212 530 \nQ 2431 669 2431 922 \nQ 2431 1156 2273 1281 \nQ 2116 1406 1581 1522 \nL 1381 1569 \nQ 847 1681 609 1914 \nQ 372 2147 372 2553 \nQ 372 3047 722 3315 \nQ 1072 3584 1716 3584 \nQ 2034 3584 2315 3537 \nQ 2597 3491 2834 3397 \nz\n\" transform=\"scale(0.015625)\"/>\n      </defs>\n      <use xlink:href=\"#DejaVuSans-74\"/>\n      <use xlink:href=\"#DejaVuSans-72\" x=\"39.208984\"/>\n      <use xlink:href=\"#DejaVuSans-61\" x=\"80.322266\"/>\n      <use xlink:href=\"#DejaVuSans-69\" x=\"141.601562\"/>\n      <use xlink:href=\"#DejaVuSans-6e\" x=\"169.384766\"/>\n      <use xlink:href=\"#DejaVuSans-5f\" x=\"232.763672\"/>\n      <use xlink:href=\"#DejaVuSans-6c\" x=\"282.763672\"/>\n      <use xlink:href=\"#DejaVuSans-6f\" x=\"310.546875\"/>\n      <use xlink:href=\"#DejaVuSans-73\" x=\"371.728516\"/>\n      <use xlink:href=\"#DejaVuSans-73\" x=\"423.828125\"/>\n     </g>\n    </g>\n    <g id=\"line2d_128\">\n     <path d=\"M 140.8125 35.254688 \nL 150.8125 35.254688 \nL 160.8125 35.254688 \n\" style=\"fill: none; stroke-dasharray: 5.55,2.4; stroke-dashoffset: 0; stroke: #ff7f0e; stroke-width: 1.5\"/>\n    </g>\n    <g id=\"text_13\">\n     <!-- val_loss -->\n     <g transform=\"translate(168.8125 38.754688) scale(0.1 -0.1)\">\n      <defs>\n       <path id=\"DejaVuSans-76\" d=\"M 191 3500 \nL 800 3500 \nL 1894 563 \nL 2988 3500 \nL 3597 3500 \nL 2284 0 \nL 1503 0 \nL 191 3500 \nz\n\" transform=\"scale(0.015625)\"/>\n      </defs>\n      <use xlink:href=\"#DejaVuSans-76\"/>\n      <use xlink:href=\"#DejaVuSans-61\" x=\"59.179688\"/>\n      <use xlink:href=\"#DejaVuSans-6c\" x=\"120.458984\"/>\n      <use xlink:href=\"#DejaVuSans-5f\" x=\"148.242188\"/>\n      <use xlink:href=\"#DejaVuSans-6c\" x=\"198.242188\"/>\n      <use xlink:href=\"#DejaVuSans-6f\" x=\"226.025391\"/>\n      <use xlink:href=\"#DejaVuSans-73\" x=\"287.207031\"/>\n      <use xlink:href=\"#DejaVuSans-73\" x=\"339.306641\"/>\n     </g>\n    </g>\n    <g id=\"line2d_129\">\n     <path d=\"M 140.8125 50.210938 \nL 150.8125 50.210938 \nL 160.8125 50.210938 \n\" style=\"fill: none; stroke-dasharray: 9.6,2.4,1.5,2.4; stroke-dashoffset: 0; stroke: #2ca02c; stroke-width: 1.5\"/>\n    </g>\n    <g id=\"text_14\">\n     <!-- val_acc -->\n     <g transform=\"translate(168.8125 53.710938) scale(0.1 -0.1)\">\n      <use xlink:href=\"#DejaVuSans-76\"/>\n      <use xlink:href=\"#DejaVuSans-61\" x=\"59.179688\"/>\n      <use xlink:href=\"#DejaVuSans-6c\" x=\"120.458984\"/>\n      <use xlink:href=\"#DejaVuSans-5f\" x=\"148.242188\"/>\n      <use xlink:href=\"#DejaVuSans-61\" x=\"198.242188\"/>\n      <use xlink:href=\"#DejaVuSans-63\" x=\"259.521484\"/>\n      <use xlink:href=\"#DejaVuSans-63\" x=\"314.501953\"/>\n     </g>\n    </g>\n   </g>\n  </g>\n </g>\n <defs>\n  <clipPath id=\"p213e10c0cf\">\n   <rect x=\"30.103125\" y=\"7.2\" width=\"195.3\" height=\"138.6\"/>\n  </clipPath>\n </defs>\n</svg>\n"
          },
          "metadata": {}
        }
      ],
      "source": [
        "model = NiN(lr=0.05)\n",
        "trainer = d2l.Trainer(max_epochs=10, num_gpus=1)\n",
        "data = d2l.FashionMNIST(batch_size=128, resize=(224, 224))\n",
        "model.apply_init([next(iter(data.get_dataloader(True)))[0]], d2l.init_cnn)\n",
        "trainer.fit(model, data)"
      ]
    },
    {
      "cell_type": "markdown",
      "metadata": {
        "id": "mwmbcgG_qnJx"
      },
      "source": [
        "# 8.4. Multi-Branch Networks (GoogLeNet)"
      ]
    },
    {
      "cell_type": "code",
      "execution_count": 16,
      "metadata": {
        "id": "7-MPqP66qz3A"
      },
      "outputs": [],
      "source": [
        "import torch\n",
        "from torch import nn\n",
        "from torch.nn import functional as F\n",
        "from d2l import torch as d2l"
      ]
    },
    {
      "cell_type": "markdown",
      "metadata": {
        "id": "Y3vQKhTeq30V"
      },
      "source": [
        "8.4.1. Inception Blocks"
      ]
    },
    {
      "cell_type": "code",
      "execution_count": 17,
      "metadata": {
        "id": "1PBy1eEBq49U"
      },
      "outputs": [],
      "source": [
        "class Inception(nn.Module):\n",
        "    # c1--c4 are the number of output channels for each branch\n",
        "    def __init__(self, c1, c2, c3, c4, **kwargs):\n",
        "        super(Inception, self).__init__(**kwargs)\n",
        "        # Branch 1\n",
        "        self.b1_1 = nn.LazyConv2d(c1, kernel_size=1)\n",
        "        # Branch 2\n",
        "        self.b2_1 = nn.LazyConv2d(c2[0], kernel_size=1)\n",
        "        self.b2_2 = nn.LazyConv2d(c2[1], kernel_size=3, padding=1)\n",
        "        # Branch 3\n",
        "        self.b3_1 = nn.LazyConv2d(c3[0], kernel_size=1)\n",
        "        self.b3_2 = nn.LazyConv2d(c3[1], kernel_size=5, padding=2)\n",
        "        # Branch 4\n",
        "        self.b4_1 = nn.MaxPool2d(kernel_size=3, stride=1, padding=1)\n",
        "        self.b4_2 = nn.LazyConv2d(c4, kernel_size=1)\n",
        "\n",
        "    def forward(self, x):\n",
        "        b1 = F.relu(self.b1_1(x))\n",
        "        b2 = F.relu(self.b2_2(F.relu(self.b2_1(x))))\n",
        "        b3 = F.relu(self.b3_2(F.relu(self.b3_1(x))))\n",
        "        b4 = F.relu(self.b4_2(self.b4_1(x)))\n",
        "        return torch.cat((b1, b2, b3, b4), dim=1)"
      ]
    },
    {
      "cell_type": "markdown",
      "metadata": {
        "id": "d-5qgtMKrCk6"
      },
      "source": [
        "8.4.2. GoogLeNet Model"
      ]
    },
    {
      "cell_type": "code",
      "execution_count": 18,
      "metadata": {
        "id": "ctHULYsaq_WB"
      },
      "outputs": [],
      "source": [
        "class GoogleNet(d2l.Classifier):\n",
        "    def b1(self):\n",
        "        return nn.Sequential(\n",
        "            nn.LazyConv2d(64, kernel_size=7, stride=2, padding=3),\n",
        "            nn.ReLU(), nn.MaxPool2d(kernel_size=3, stride=2, padding=1))"
      ]
    },
    {
      "cell_type": "code",
      "execution_count": 19,
      "metadata": {
        "id": "-hTjKwLbrHxf"
      },
      "outputs": [],
      "source": [
        "@d2l.add_to_class(GoogleNet)\n",
        "def b2(self):\n",
        "    return nn.Sequential(\n",
        "        nn.LazyConv2d(64, kernel_size=1), nn.ReLU(),\n",
        "        nn.LazyConv2d(192, kernel_size=3, padding=1), nn.ReLU(),\n",
        "        nn.MaxPool2d(kernel_size=3, stride=2, padding=1))"
      ]
    },
    {
      "cell_type": "code",
      "execution_count": 20,
      "metadata": {
        "id": "5_xAFfIbrKJi"
      },
      "outputs": [],
      "source": [
        "@d2l.add_to_class(GoogleNet)\n",
        "def b3(self):\n",
        "    return nn.Sequential(Inception(64, (96, 128), (16, 32), 32),\n",
        "                         Inception(128, (128, 192), (32, 96), 64),\n",
        "                         nn.MaxPool2d(kernel_size=3, stride=2, padding=1))"
      ]
    },
    {
      "cell_type": "code",
      "execution_count": 21,
      "metadata": {
        "id": "LssfeMqNrMx3"
      },
      "outputs": [],
      "source": [
        "@d2l.add_to_class(GoogleNet)\n",
        "def b4(self):\n",
        "    return nn.Sequential(Inception(192, (96, 208), (16, 48), 64),\n",
        "                         Inception(160, (112, 224), (24, 64), 64),\n",
        "                         Inception(128, (128, 256), (24, 64), 64),\n",
        "                         Inception(112, (144, 288), (32, 64), 64),\n",
        "                         Inception(256, (160, 320), (32, 128), 128),\n",
        "                         nn.MaxPool2d(kernel_size=3, stride=2, padding=1))"
      ]
    },
    {
      "cell_type": "code",
      "execution_count": 22,
      "metadata": {
        "id": "MiBhpmd2rPDb"
      },
      "outputs": [],
      "source": [
        "@d2l.add_to_class(GoogleNet)\n",
        "def b5(self):\n",
        "    return nn.Sequential(Inception(256, (160, 320), (32, 128), 128),\n",
        "                         Inception(384, (192, 384), (48, 128), 128),\n",
        "                         nn.AdaptiveAvgPool2d((1,1)), nn.Flatten())"
      ]
    },
    {
      "cell_type": "code",
      "execution_count": 23,
      "metadata": {
        "id": "wJrugjtYrRhj"
      },
      "outputs": [],
      "source": [
        "@d2l.add_to_class(GoogleNet)\n",
        "def __init__(self, lr=0.1, num_classes=10):\n",
        "    super(GoogleNet, self).__init__()\n",
        "    self.save_hyperparameters()\n",
        "    self.net = nn.Sequential(self.b1(), self.b2(), self.b3(), self.b4(),\n",
        "                             self.b5(), nn.LazyLinear(num_classes))\n",
        "    self.net.apply(d2l.init_cnn)"
      ]
    },
    {
      "cell_type": "code",
      "execution_count": 24,
      "metadata": {
        "id": "LkS7ylu6rUC4",
        "colab": {
          "base_uri": "https://localhost:8080/"
        },
        "outputId": "0dd2f8f0-a0b1-4057-ee91-685abe23d1fb"
      },
      "outputs": [
        {
          "output_type": "stream",
          "name": "stdout",
          "text": [
            "Sequential output shape:\t torch.Size([1, 64, 24, 24])\n",
            "Sequential output shape:\t torch.Size([1, 192, 12, 12])\n",
            "Sequential output shape:\t torch.Size([1, 480, 6, 6])\n",
            "Sequential output shape:\t torch.Size([1, 832, 3, 3])\n",
            "Sequential output shape:\t torch.Size([1, 1024])\n",
            "Linear output shape:\t torch.Size([1, 10])\n"
          ]
        }
      ],
      "source": [
        "model = GoogleNet().layer_summary((1, 1, 96, 96))"
      ]
    },
    {
      "cell_type": "markdown",
      "metadata": {
        "id": "S2OMq-W-rW0y"
      },
      "source": [
        "8.4.3. Training"
      ]
    },
    {
      "cell_type": "code",
      "execution_count": 25,
      "metadata": {
        "id": "14zqtOaBrXzR",
        "colab": {
          "base_uri": "https://localhost:8080/",
          "height": 265
        },
        "outputId": "67697e43-588f-4414-a14e-1d2efbc027ff"
      },
      "outputs": [
        {
          "output_type": "display_data",
          "data": {
            "text/plain": [
              "<Figure size 350x250 with 1 Axes>"
            ],
            "image/svg+xml": "<?xml version=\"1.0\" encoding=\"utf-8\" standalone=\"no\"?>\n<!DOCTYPE svg PUBLIC \"-//W3C//DTD SVG 1.1//EN\"\n  \"http://www.w3.org/Graphics/SVG/1.1/DTD/svg11.dtd\">\n<svg xmlns:xlink=\"http://www.w3.org/1999/xlink\" width=\"238.965625pt\" height=\"183.35625pt\" viewBox=\"0 0 238.965625 183.35625\" xmlns=\"http://www.w3.org/2000/svg\" version=\"1.1\">\n <metadata>\n  <rdf:RDF xmlns:dc=\"http://purl.org/dc/elements/1.1/\" xmlns:cc=\"http://creativecommons.org/ns#\" xmlns:rdf=\"http://www.w3.org/1999/02/22-rdf-syntax-ns#\">\n   <cc:Work>\n    <dc:type rdf:resource=\"http://purl.org/dc/dcmitype/StillImage\"/>\n    <dc:date>2024-10-04T13:22:38.953561</dc:date>\n    <dc:format>image/svg+xml</dc:format>\n    <dc:creator>\n     <cc:Agent>\n      <dc:title>Matplotlib v3.7.2, https://matplotlib.org/</dc:title>\n     </cc:Agent>\n    </dc:creator>\n   </cc:Work>\n  </rdf:RDF>\n </metadata>\n <defs>\n  <style type=\"text/css\">*{stroke-linejoin: round; stroke-linecap: butt}</style>\n </defs>\n <g id=\"figure_1\">\n  <g id=\"patch_1\">\n   <path d=\"M 0 183.35625 \nL 238.965625 183.35625 \nL 238.965625 0 \nL 0 0 \nz\n\" style=\"fill: #ffffff\"/>\n  </g>\n  <g id=\"axes_1\">\n   <g id=\"patch_2\">\n    <path d=\"M 30.103125 145.8 \nL 225.403125 145.8 \nL 225.403125 7.2 \nL 30.103125 7.2 \nz\n\" style=\"fill: #ffffff\"/>\n   </g>\n   <g id=\"matplotlib.axis_1\">\n    <g id=\"xtick_1\">\n     <g id=\"line2d_1\">\n      <defs>\n       <path id=\"mc526d65b8d\" d=\"M 0 0 \nL 0 3.5 \n\" style=\"stroke: #000000; stroke-width: 0.8\"/>\n      </defs>\n      <g>\n       <use xlink:href=\"#mc526d65b8d\" x=\"30.103125\" y=\"145.8\" style=\"stroke: #000000; stroke-width: 0.8\"/>\n      </g>\n     </g>\n     <g id=\"text_1\">\n      <!-- 0 -->\n      <g transform=\"translate(26.921875 160.398438) scale(0.1 -0.1)\">\n       <defs>\n        <path id=\"DejaVuSans-30\" d=\"M 2034 4250 \nQ 1547 4250 1301 3770 \nQ 1056 3291 1056 2328 \nQ 1056 1369 1301 889 \nQ 1547 409 2034 409 \nQ 2525 409 2770 889 \nQ 3016 1369 3016 2328 \nQ 3016 3291 2770 3770 \nQ 2525 4250 2034 4250 \nz\nM 2034 4750 \nQ 2819 4750 3233 4129 \nQ 3647 3509 3647 2328 \nQ 3647 1150 3233 529 \nQ 2819 -91 2034 -91 \nQ 1250 -91 836 529 \nQ 422 1150 422 2328 \nQ 422 3509 836 4129 \nQ 1250 4750 2034 4750 \nz\n\" transform=\"scale(0.015625)\"/>\n       </defs>\n       <use xlink:href=\"#DejaVuSans-30\"/>\n      </g>\n     </g>\n    </g>\n    <g id=\"xtick_2\">\n     <g id=\"line2d_2\">\n      <g>\n       <use xlink:href=\"#mc526d65b8d\" x=\"69.163125\" y=\"145.8\" style=\"stroke: #000000; stroke-width: 0.8\"/>\n      </g>\n     </g>\n     <g id=\"text_2\">\n      <!-- 2 -->\n      <g transform=\"translate(65.981875 160.398438) scale(0.1 -0.1)\">\n       <defs>\n        <path id=\"DejaVuSans-32\" d=\"M 1228 531 \nL 3431 531 \nL 3431 0 \nL 469 0 \nL 469 531 \nQ 828 903 1448 1529 \nQ 2069 2156 2228 2338 \nQ 2531 2678 2651 2914 \nQ 2772 3150 2772 3378 \nQ 2772 3750 2511 3984 \nQ 2250 4219 1831 4219 \nQ 1534 4219 1204 4116 \nQ 875 4013 500 3803 \nL 500 4441 \nQ 881 4594 1212 4672 \nQ 1544 4750 1819 4750 \nQ 2544 4750 2975 4387 \nQ 3406 4025 3406 3419 \nQ 3406 3131 3298 2873 \nQ 3191 2616 2906 2266 \nQ 2828 2175 2409 1742 \nQ 1991 1309 1228 531 \nz\n\" transform=\"scale(0.015625)\"/>\n       </defs>\n       <use xlink:href=\"#DejaVuSans-32\"/>\n      </g>\n     </g>\n    </g>\n    <g id=\"xtick_3\">\n     <g id=\"line2d_3\">\n      <g>\n       <use xlink:href=\"#mc526d65b8d\" x=\"108.223125\" y=\"145.8\" style=\"stroke: #000000; stroke-width: 0.8\"/>\n      </g>\n     </g>\n     <g id=\"text_3\">\n      <!-- 4 -->\n      <g transform=\"translate(105.041875 160.398438) scale(0.1 -0.1)\">\n       <defs>\n        <path id=\"DejaVuSans-34\" d=\"M 2419 4116 \nL 825 1625 \nL 2419 1625 \nL 2419 4116 \nz\nM 2253 4666 \nL 3047 4666 \nL 3047 1625 \nL 3713 1625 \nL 3713 1100 \nL 3047 1100 \nL 3047 0 \nL 2419 0 \nL 2419 1100 \nL 313 1100 \nL 313 1709 \nL 2253 4666 \nz\n\" transform=\"scale(0.015625)\"/>\n       </defs>\n       <use xlink:href=\"#DejaVuSans-34\"/>\n      </g>\n     </g>\n    </g>\n    <g id=\"xtick_4\">\n     <g id=\"line2d_4\">\n      <g>\n       <use xlink:href=\"#mc526d65b8d\" x=\"147.283125\" y=\"145.8\" style=\"stroke: #000000; stroke-width: 0.8\"/>\n      </g>\n     </g>\n     <g id=\"text_4\">\n      <!-- 6 -->\n      <g transform=\"translate(144.101875 160.398438) scale(0.1 -0.1)\">\n       <defs>\n        <path id=\"DejaVuSans-36\" d=\"M 2113 2584 \nQ 1688 2584 1439 2293 \nQ 1191 2003 1191 1497 \nQ 1191 994 1439 701 \nQ 1688 409 2113 409 \nQ 2538 409 2786 701 \nQ 3034 994 3034 1497 \nQ 3034 2003 2786 2293 \nQ 2538 2584 2113 2584 \nz\nM 3366 4563 \nL 3366 3988 \nQ 3128 4100 2886 4159 \nQ 2644 4219 2406 4219 \nQ 1781 4219 1451 3797 \nQ 1122 3375 1075 2522 \nQ 1259 2794 1537 2939 \nQ 1816 3084 2150 3084 \nQ 2853 3084 3261 2657 \nQ 3669 2231 3669 1497 \nQ 3669 778 3244 343 \nQ 2819 -91 2113 -91 \nQ 1303 -91 875 529 \nQ 447 1150 447 2328 \nQ 447 3434 972 4092 \nQ 1497 4750 2381 4750 \nQ 2619 4750 2861 4703 \nQ 3103 4656 3366 4563 \nz\n\" transform=\"scale(0.015625)\"/>\n       </defs>\n       <use xlink:href=\"#DejaVuSans-36\"/>\n      </g>\n     </g>\n    </g>\n    <g id=\"xtick_5\">\n     <g id=\"line2d_5\">\n      <g>\n       <use xlink:href=\"#mc526d65b8d\" x=\"186.343125\" y=\"145.8\" style=\"stroke: #000000; stroke-width: 0.8\"/>\n      </g>\n     </g>\n     <g id=\"text_5\">\n      <!-- 8 -->\n      <g transform=\"translate(183.161875 160.398438) scale(0.1 -0.1)\">\n       <defs>\n        <path id=\"DejaVuSans-38\" d=\"M 2034 2216 \nQ 1584 2216 1326 1975 \nQ 1069 1734 1069 1313 \nQ 1069 891 1326 650 \nQ 1584 409 2034 409 \nQ 2484 409 2743 651 \nQ 3003 894 3003 1313 \nQ 3003 1734 2745 1975 \nQ 2488 2216 2034 2216 \nz\nM 1403 2484 \nQ 997 2584 770 2862 \nQ 544 3141 544 3541 \nQ 544 4100 942 4425 \nQ 1341 4750 2034 4750 \nQ 2731 4750 3128 4425 \nQ 3525 4100 3525 3541 \nQ 3525 3141 3298 2862 \nQ 3072 2584 2669 2484 \nQ 3125 2378 3379 2068 \nQ 3634 1759 3634 1313 \nQ 3634 634 3220 271 \nQ 2806 -91 2034 -91 \nQ 1263 -91 848 271 \nQ 434 634 434 1313 \nQ 434 1759 690 2068 \nQ 947 2378 1403 2484 \nz\nM 1172 3481 \nQ 1172 3119 1398 2916 \nQ 1625 2713 2034 2713 \nQ 2441 2713 2670 2916 \nQ 2900 3119 2900 3481 \nQ 2900 3844 2670 4047 \nQ 2441 4250 2034 4250 \nQ 1625 4250 1398 4047 \nQ 1172 3844 1172 3481 \nz\n\" transform=\"scale(0.015625)\"/>\n       </defs>\n       <use xlink:href=\"#DejaVuSans-38\"/>\n      </g>\n     </g>\n    </g>\n    <g id=\"xtick_6\">\n     <g id=\"line2d_6\">\n      <g>\n       <use xlink:href=\"#mc526d65b8d\" x=\"225.403125\" y=\"145.8\" style=\"stroke: #000000; stroke-width: 0.8\"/>\n      </g>\n     </g>\n     <g id=\"text_6\">\n      <!-- 10 -->\n      <g transform=\"translate(219.040625 160.398438) scale(0.1 -0.1)\">\n       <defs>\n        <path id=\"DejaVuSans-31\" d=\"M 794 531 \nL 1825 531 \nL 1825 4091 \nL 703 3866 \nL 703 4441 \nL 1819 4666 \nL 2450 4666 \nL 2450 531 \nL 3481 531 \nL 3481 0 \nL 794 0 \nL 794 531 \nz\n\" transform=\"scale(0.015625)\"/>\n       </defs>\n       <use xlink:href=\"#DejaVuSans-31\"/>\n       <use xlink:href=\"#DejaVuSans-30\" x=\"63.623047\"/>\n      </g>\n     </g>\n    </g>\n    <g id=\"text_7\">\n     <!-- epoch -->\n     <g transform=\"translate(112.525 174.076563) scale(0.1 -0.1)\">\n      <defs>\n       <path id=\"DejaVuSans-65\" d=\"M 3597 1894 \nL 3597 1613 \nL 953 1613 \nQ 991 1019 1311 708 \nQ 1631 397 2203 397 \nQ 2534 397 2845 478 \nQ 3156 559 3463 722 \nL 3463 178 \nQ 3153 47 2828 -22 \nQ 2503 -91 2169 -91 \nQ 1331 -91 842 396 \nQ 353 884 353 1716 \nQ 353 2575 817 3079 \nQ 1281 3584 2069 3584 \nQ 2775 3584 3186 3129 \nQ 3597 2675 3597 1894 \nz\nM 3022 2063 \nQ 3016 2534 2758 2815 \nQ 2500 3097 2075 3097 \nQ 1594 3097 1305 2825 \nQ 1016 2553 972 2059 \nL 3022 2063 \nz\n\" transform=\"scale(0.015625)\"/>\n       <path id=\"DejaVuSans-70\" d=\"M 1159 525 \nL 1159 -1331 \nL 581 -1331 \nL 581 3500 \nL 1159 3500 \nL 1159 2969 \nQ 1341 3281 1617 3432 \nQ 1894 3584 2278 3584 \nQ 2916 3584 3314 3078 \nQ 3713 2572 3713 1747 \nQ 3713 922 3314 415 \nQ 2916 -91 2278 -91 \nQ 1894 -91 1617 61 \nQ 1341 213 1159 525 \nz\nM 3116 1747 \nQ 3116 2381 2855 2742 \nQ 2594 3103 2138 3103 \nQ 1681 3103 1420 2742 \nQ 1159 2381 1159 1747 \nQ 1159 1113 1420 752 \nQ 1681 391 2138 391 \nQ 2594 391 2855 752 \nQ 3116 1113 3116 1747 \nz\n\" transform=\"scale(0.015625)\"/>\n       <path id=\"DejaVuSans-6f\" d=\"M 1959 3097 \nQ 1497 3097 1228 2736 \nQ 959 2375 959 1747 \nQ 959 1119 1226 758 \nQ 1494 397 1959 397 \nQ 2419 397 2687 759 \nQ 2956 1122 2956 1747 \nQ 2956 2369 2687 2733 \nQ 2419 3097 1959 3097 \nz\nM 1959 3584 \nQ 2709 3584 3137 3096 \nQ 3566 2609 3566 1747 \nQ 3566 888 3137 398 \nQ 2709 -91 1959 -91 \nQ 1206 -91 779 398 \nQ 353 888 353 1747 \nQ 353 2609 779 3096 \nQ 1206 3584 1959 3584 \nz\n\" transform=\"scale(0.015625)\"/>\n       <path id=\"DejaVuSans-63\" d=\"M 3122 3366 \nL 3122 2828 \nQ 2878 2963 2633 3030 \nQ 2388 3097 2138 3097 \nQ 1578 3097 1268 2742 \nQ 959 2388 959 1747 \nQ 959 1106 1268 751 \nQ 1578 397 2138 397 \nQ 2388 397 2633 464 \nQ 2878 531 3122 666 \nL 3122 134 \nQ 2881 22 2623 -34 \nQ 2366 -91 2075 -91 \nQ 1284 -91 818 406 \nQ 353 903 353 1747 \nQ 353 2603 823 3093 \nQ 1294 3584 2113 3584 \nQ 2378 3584 2631 3529 \nQ 2884 3475 3122 3366 \nz\n\" transform=\"scale(0.015625)\"/>\n       <path id=\"DejaVuSans-68\" d=\"M 3513 2113 \nL 3513 0 \nL 2938 0 \nL 2938 2094 \nQ 2938 2591 2744 2837 \nQ 2550 3084 2163 3084 \nQ 1697 3084 1428 2787 \nQ 1159 2491 1159 1978 \nL 1159 0 \nL 581 0 \nL 581 4863 \nL 1159 4863 \nL 1159 2956 \nQ 1366 3272 1645 3428 \nQ 1925 3584 2291 3584 \nQ 2894 3584 3203 3211 \nQ 3513 2838 3513 2113 \nz\n\" transform=\"scale(0.015625)\"/>\n      </defs>\n      <use xlink:href=\"#DejaVuSans-65\"/>\n      <use xlink:href=\"#DejaVuSans-70\" x=\"61.523438\"/>\n      <use xlink:href=\"#DejaVuSans-6f\" x=\"125\"/>\n      <use xlink:href=\"#DejaVuSans-63\" x=\"186.181641\"/>\n      <use xlink:href=\"#DejaVuSans-68\" x=\"241.162109\"/>\n     </g>\n    </g>\n   </g>\n   <g id=\"matplotlib.axis_2\">\n    <g id=\"ytick_1\">\n     <g id=\"line2d_7\">\n      <defs>\n       <path id=\"m121c6d269f\" d=\"M 0 0 \nL -3.5 0 \n\" style=\"stroke: #000000; stroke-width: 0.8\"/>\n      </defs>\n      <g>\n       <use xlink:href=\"#m121c6d269f\" x=\"30.103125\" y=\"145.196446\" style=\"stroke: #000000; stroke-width: 0.8\"/>\n      </g>\n     </g>\n     <g id=\"text_8\">\n      <!-- 0.0 -->\n      <g transform=\"translate(7.2 148.995664) scale(0.1 -0.1)\">\n       <defs>\n        <path id=\"DejaVuSans-2e\" d=\"M 684 794 \nL 1344 794 \nL 1344 0 \nL 684 0 \nL 684 794 \nz\n\" transform=\"scale(0.015625)\"/>\n       </defs>\n       <use xlink:href=\"#DejaVuSans-30\"/>\n       <use xlink:href=\"#DejaVuSans-2e\" x=\"63.623047\"/>\n       <use xlink:href=\"#DejaVuSans-30\" x=\"95.410156\"/>\n      </g>\n     </g>\n    </g>\n    <g id=\"ytick_2\">\n     <g id=\"line2d_8\">\n      <g>\n       <use xlink:href=\"#m121c6d269f\" x=\"30.103125\" y=\"116.595423\" style=\"stroke: #000000; stroke-width: 0.8\"/>\n      </g>\n     </g>\n     <g id=\"text_9\">\n      <!-- 0.5 -->\n      <g transform=\"translate(7.2 120.394642) scale(0.1 -0.1)\">\n       <defs>\n        <path id=\"DejaVuSans-35\" d=\"M 691 4666 \nL 3169 4666 \nL 3169 4134 \nL 1269 4134 \nL 1269 2991 \nQ 1406 3038 1543 3061 \nQ 1681 3084 1819 3084 \nQ 2600 3084 3056 2656 \nQ 3513 2228 3513 1497 \nQ 3513 744 3044 326 \nQ 2575 -91 1722 -91 \nQ 1428 -91 1123 -41 \nQ 819 9 494 109 \nL 494 744 \nQ 775 591 1075 516 \nQ 1375 441 1709 441 \nQ 2250 441 2565 725 \nQ 2881 1009 2881 1497 \nQ 2881 1984 2565 2268 \nQ 2250 2553 1709 2553 \nQ 1456 2553 1204 2497 \nQ 953 2441 691 2322 \nL 691 4666 \nz\n\" transform=\"scale(0.015625)\"/>\n       </defs>\n       <use xlink:href=\"#DejaVuSans-30\"/>\n       <use xlink:href=\"#DejaVuSans-2e\" x=\"63.623047\"/>\n       <use xlink:href=\"#DejaVuSans-35\" x=\"95.410156\"/>\n      </g>\n     </g>\n    </g>\n    <g id=\"ytick_3\">\n     <g id=\"line2d_9\">\n      <g>\n       <use xlink:href=\"#m121c6d269f\" x=\"30.103125\" y=\"87.994401\" style=\"stroke: #000000; stroke-width: 0.8\"/>\n      </g>\n     </g>\n     <g id=\"text_10\">\n      <!-- 1.0 -->\n      <g transform=\"translate(7.2 91.793619) scale(0.1 -0.1)\">\n       <use xlink:href=\"#DejaVuSans-31\"/>\n       <use xlink:href=\"#DejaVuSans-2e\" x=\"63.623047\"/>\n       <use xlink:href=\"#DejaVuSans-30\" x=\"95.410156\"/>\n      </g>\n     </g>\n    </g>\n    <g id=\"ytick_4\">\n     <g id=\"line2d_10\">\n      <g>\n       <use xlink:href=\"#m121c6d269f\" x=\"30.103125\" y=\"59.393378\" style=\"stroke: #000000; stroke-width: 0.8\"/>\n      </g>\n     </g>\n     <g id=\"text_11\">\n      <!-- 1.5 -->\n      <g transform=\"translate(7.2 63.192597) scale(0.1 -0.1)\">\n       <use xlink:href=\"#DejaVuSans-31\"/>\n       <use xlink:href=\"#DejaVuSans-2e\" x=\"63.623047\"/>\n       <use xlink:href=\"#DejaVuSans-35\" x=\"95.410156\"/>\n      </g>\n     </g>\n    </g>\n    <g id=\"ytick_5\">\n     <g id=\"line2d_11\">\n      <g>\n       <use xlink:href=\"#m121c6d269f\" x=\"30.103125\" y=\"30.792356\" style=\"stroke: #000000; stroke-width: 0.8\"/>\n      </g>\n     </g>\n     <g id=\"text_12\">\n      <!-- 2.0 -->\n      <g transform=\"translate(7.2 34.591574) scale(0.1 -0.1)\">\n       <use xlink:href=\"#DejaVuSans-32\"/>\n       <use xlink:href=\"#DejaVuSans-2e\" x=\"63.623047\"/>\n       <use xlink:href=\"#DejaVuSans-30\" x=\"95.410156\"/>\n      </g>\n     </g>\n    </g>\n   </g>\n   <g id=\"line2d_12\">\n    <path d=\"M 34.954394 13.5 \n\" clip-path=\"url(#p6c5d1b5cea)\" style=\"fill: none; stroke: #1f77b4; stroke-width: 1.5; stroke-linecap: square\"/>\n   </g>\n   <g id=\"line2d_13\">\n    <path d=\"M 34.954394 13.5 \nL 44.698573 13.570338 \n\" clip-path=\"url(#p6c5d1b5cea)\" style=\"fill: none; stroke: #1f77b4; stroke-width: 1.5; stroke-linecap: square\"/>\n   </g>\n   <g id=\"line2d_14\">\n    <path d=\"M 34.954394 13.5 \nL 44.698573 13.570338 \n\" clip-path=\"url(#p6c5d1b5cea)\" style=\"fill: none; stroke: #1f77b4; stroke-width: 1.5; stroke-linecap: square\"/>\n   </g>\n   <g id=\"line2d_15\">\n    <path d=\"M 49.633125 13.600994 \n\" clip-path=\"url(#p6c5d1b5cea)\" style=\"fill: none; stroke-dasharray: 5.55,2.4; stroke-dashoffset: 0; stroke: #ff7f0e; stroke-width: 1.5\"/>\n   </g>\n   <g id=\"line2d_16\"/>\n   <g id=\"line2d_17\">\n    <path d=\"M 34.954394 13.5 \nL 44.698573 13.570338 \n\" clip-path=\"url(#p6c5d1b5cea)\" style=\"fill: none; stroke: #1f77b4; stroke-width: 1.5; stroke-linecap: square\"/>\n   </g>\n   <g id=\"line2d_18\">\n    <path d=\"M 49.633125 13.600994 \n\" clip-path=\"url(#p6c5d1b5cea)\" style=\"fill: none; stroke-dasharray: 5.55,2.4; stroke-dashoffset: 0; stroke: #ff7f0e; stroke-width: 1.5\"/>\n   </g>\n   <g id=\"line2d_19\">\n    <path d=\"M 49.633125 139.5 \n\" clip-path=\"url(#p6c5d1b5cea)\" style=\"fill: none; stroke-dasharray: 9.6,2.4,1.5,2.4; stroke-dashoffset: 0; stroke: #2ca02c; stroke-width: 1.5\"/>\n   </g>\n   <g id=\"line2d_20\">\n    <path d=\"M 34.954394 13.5 \nL 44.698573 13.570338 \nL 54.442752 13.626848 \n\" clip-path=\"url(#p6c5d1b5cea)\" style=\"fill: none; stroke: #1f77b4; stroke-width: 1.5; stroke-linecap: square\"/>\n   </g>\n   <g id=\"line2d_21\">\n    <path d=\"M 49.633125 13.600994 \n\" clip-path=\"url(#p6c5d1b5cea)\" style=\"fill: none; stroke-dasharray: 5.55,2.4; stroke-dashoffset: 0; stroke: #ff7f0e; stroke-width: 1.5\"/>\n   </g>\n   <g id=\"line2d_22\">\n    <path d=\"M 49.633125 139.5 \n\" clip-path=\"url(#p6c5d1b5cea)\" style=\"fill: none; stroke-dasharray: 9.6,2.4,1.5,2.4; stroke-dashoffset: 0; stroke: #2ca02c; stroke-width: 1.5\"/>\n   </g>\n   <g id=\"line2d_23\">\n    <path d=\"M 34.954394 13.5 \nL 44.698573 13.570338 \nL 54.442752 13.626848 \nL 64.186931 13.706404 \n\" clip-path=\"url(#p6c5d1b5cea)\" style=\"fill: none; stroke: #1f77b4; stroke-width: 1.5; stroke-linecap: square\"/>\n   </g>\n   <g id=\"line2d_24\">\n    <path d=\"M 49.633125 13.600994 \n\" clip-path=\"url(#p6c5d1b5cea)\" style=\"fill: none; stroke-dasharray: 5.55,2.4; stroke-dashoffset: 0; stroke: #ff7f0e; stroke-width: 1.5\"/>\n   </g>\n   <g id=\"line2d_25\">\n    <path d=\"M 49.633125 139.5 \n\" clip-path=\"url(#p6c5d1b5cea)\" style=\"fill: none; stroke-dasharray: 9.6,2.4,1.5,2.4; stroke-dashoffset: 0; stroke: #2ca02c; stroke-width: 1.5\"/>\n   </g>\n   <g id=\"line2d_26\">\n    <path d=\"M 34.954394 13.5 \nL 44.698573 13.570338 \nL 54.442752 13.626848 \nL 64.186931 13.706404 \n\" clip-path=\"url(#p6c5d1b5cea)\" style=\"fill: none; stroke: #1f77b4; stroke-width: 1.5; stroke-linecap: square\"/>\n   </g>\n   <g id=\"line2d_27\">\n    <path d=\"M 49.633125 13.600994 \nL 69.163125 13.766206 \n\" clip-path=\"url(#p6c5d1b5cea)\" style=\"fill: none; stroke-dasharray: 5.55,2.4; stroke-dashoffset: 0; stroke: #ff7f0e; stroke-width: 1.5\"/>\n   </g>\n   <g id=\"line2d_28\">\n    <path d=\"M 49.633125 139.5 \n\" clip-path=\"url(#p6c5d1b5cea)\" style=\"fill: none; stroke-dasharray: 9.6,2.4,1.5,2.4; stroke-dashoffset: 0; stroke: #2ca02c; stroke-width: 1.5\"/>\n   </g>\n   <g id=\"line2d_29\">\n    <path d=\"M 34.954394 13.5 \nL 44.698573 13.570338 \nL 54.442752 13.626848 \nL 64.186931 13.706404 \n\" clip-path=\"url(#p6c5d1b5cea)\" style=\"fill: none; stroke: #1f77b4; stroke-width: 1.5; stroke-linecap: square\"/>\n   </g>\n   <g id=\"line2d_30\">\n    <path d=\"M 49.633125 13.600994 \nL 69.163125 13.766206 \n\" clip-path=\"url(#p6c5d1b5cea)\" style=\"fill: none; stroke-dasharray: 5.55,2.4; stroke-dashoffset: 0; stroke: #ff7f0e; stroke-width: 1.5\"/>\n   </g>\n   <g id=\"line2d_31\">\n    <path d=\"M 49.633125 139.5 \nL 69.163125 133.028566 \n\" clip-path=\"url(#p6c5d1b5cea)\" style=\"fill: none; stroke-dasharray: 9.6,2.4,1.5,2.4; stroke-dashoffset: 0; stroke: #2ca02c; stroke-width: 1.5\"/>\n   </g>\n   <g id=\"line2d_32\">\n    <path d=\"M 34.954394 13.5 \nL 44.698573 13.570338 \nL 54.442752 13.626848 \nL 64.186931 13.706404 \nL 73.93111 13.831748 \n\" clip-path=\"url(#p6c5d1b5cea)\" style=\"fill: none; stroke: #1f77b4; stroke-width: 1.5; stroke-linecap: square\"/>\n   </g>\n   <g id=\"line2d_33\">\n    <path d=\"M 49.633125 13.600994 \nL 69.163125 13.766206 \n\" clip-path=\"url(#p6c5d1b5cea)\" style=\"fill: none; stroke-dasharray: 5.55,2.4; stroke-dashoffset: 0; stroke: #ff7f0e; stroke-width: 1.5\"/>\n   </g>\n   <g id=\"line2d_34\">\n    <path d=\"M 49.633125 139.5 \nL 69.163125 133.028566 \n\" clip-path=\"url(#p6c5d1b5cea)\" style=\"fill: none; stroke-dasharray: 9.6,2.4,1.5,2.4; stroke-dashoffset: 0; stroke: #2ca02c; stroke-width: 1.5\"/>\n   </g>\n   <g id=\"line2d_35\">\n    <path d=\"M 34.954394 13.5 \nL 44.698573 13.570338 \nL 54.442752 13.626848 \nL 64.186931 13.706404 \nL 73.93111 13.831748 \nL 83.675289 14.045674 \n\" clip-path=\"url(#p6c5d1b5cea)\" style=\"fill: none; stroke: #1f77b4; stroke-width: 1.5; stroke-linecap: square\"/>\n   </g>\n   <g id=\"line2d_36\">\n    <path d=\"M 49.633125 13.600994 \nL 69.163125 13.766206 \n\" clip-path=\"url(#p6c5d1b5cea)\" style=\"fill: none; stroke-dasharray: 5.55,2.4; stroke-dashoffset: 0; stroke: #ff7f0e; stroke-width: 1.5\"/>\n   </g>\n   <g id=\"line2d_37\">\n    <path d=\"M 49.633125 139.5 \nL 69.163125 133.028566 \n\" clip-path=\"url(#p6c5d1b5cea)\" style=\"fill: none; stroke-dasharray: 9.6,2.4,1.5,2.4; stroke-dashoffset: 0; stroke: #2ca02c; stroke-width: 1.5\"/>\n   </g>\n   <g id=\"line2d_38\">\n    <path d=\"M 34.954394 13.5 \nL 44.698573 13.570338 \nL 54.442752 13.626848 \nL 64.186931 13.706404 \nL 73.93111 13.831748 \nL 83.675289 14.045674 \n\" clip-path=\"url(#p6c5d1b5cea)\" style=\"fill: none; stroke: #1f77b4; stroke-width: 1.5; stroke-linecap: square\"/>\n   </g>\n   <g id=\"line2d_39\">\n    <path d=\"M 49.633125 13.600994 \nL 69.163125 13.766206 \nL 88.693125 14.214052 \n\" clip-path=\"url(#p6c5d1b5cea)\" style=\"fill: none; stroke-dasharray: 5.55,2.4; stroke-dashoffset: 0; stroke: #ff7f0e; stroke-width: 1.5\"/>\n   </g>\n   <g id=\"line2d_40\">\n    <path d=\"M 49.633125 139.5 \nL 69.163125 133.028566 \n\" clip-path=\"url(#p6c5d1b5cea)\" style=\"fill: none; stroke-dasharray: 9.6,2.4,1.5,2.4; stroke-dashoffset: 0; stroke: #2ca02c; stroke-width: 1.5\"/>\n   </g>\n   <g id=\"line2d_41\">\n    <path d=\"M 34.954394 13.5 \nL 44.698573 13.570338 \nL 54.442752 13.626848 \nL 64.186931 13.706404 \nL 73.93111 13.831748 \nL 83.675289 14.045674 \n\" clip-path=\"url(#p6c5d1b5cea)\" style=\"fill: none; stroke: #1f77b4; stroke-width: 1.5; stroke-linecap: square\"/>\n   </g>\n   <g id=\"line2d_42\">\n    <path d=\"M 49.633125 13.600994 \nL 69.163125 13.766206 \nL 88.693125 14.214052 \n\" clip-path=\"url(#p6c5d1b5cea)\" style=\"fill: none; stroke-dasharray: 5.55,2.4; stroke-dashoffset: 0; stroke: #ff7f0e; stroke-width: 1.5\"/>\n   </g>\n   <g id=\"line2d_43\">\n    <path d=\"M 49.633125 139.5 \nL 69.163125 133.028566 \nL 88.693125 131.110895 \n\" clip-path=\"url(#p6c5d1b5cea)\" style=\"fill: none; stroke-dasharray: 9.6,2.4,1.5,2.4; stroke-dashoffset: 0; stroke: #2ca02c; stroke-width: 1.5\"/>\n   </g>\n   <g id=\"line2d_44\">\n    <path d=\"M 34.954394 13.5 \nL 44.698573 13.570338 \nL 54.442752 13.626848 \nL 64.186931 13.706404 \nL 73.93111 13.831748 \nL 83.675289 14.045674 \nL 93.419468 14.487249 \n\" clip-path=\"url(#p6c5d1b5cea)\" style=\"fill: none; stroke: #1f77b4; stroke-width: 1.5; stroke-linecap: square\"/>\n   </g>\n   <g id=\"line2d_45\">\n    <path d=\"M 49.633125 13.600994 \nL 69.163125 13.766206 \nL 88.693125 14.214052 \n\" clip-path=\"url(#p6c5d1b5cea)\" style=\"fill: none; stroke-dasharray: 5.55,2.4; stroke-dashoffset: 0; stroke: #ff7f0e; stroke-width: 1.5\"/>\n   </g>\n   <g id=\"line2d_46\">\n    <path d=\"M 49.633125 139.5 \nL 69.163125 133.028566 \nL 88.693125 131.110895 \n\" clip-path=\"url(#p6c5d1b5cea)\" style=\"fill: none; stroke-dasharray: 9.6,2.4,1.5,2.4; stroke-dashoffset: 0; stroke: #2ca02c; stroke-width: 1.5\"/>\n   </g>\n   <g id=\"line2d_47\">\n    <path d=\"M 34.954394 13.5 \nL 44.698573 13.570338 \nL 54.442752 13.626848 \nL 64.186931 13.706404 \nL 73.93111 13.831748 \nL 83.675289 14.045674 \nL 93.419468 14.487249 \nL 103.163647 15.753491 \n\" clip-path=\"url(#p6c5d1b5cea)\" style=\"fill: none; stroke: #1f77b4; stroke-width: 1.5; stroke-linecap: square\"/>\n   </g>\n   <g id=\"line2d_48\">\n    <path d=\"M 49.633125 13.600994 \nL 69.163125 13.766206 \nL 88.693125 14.214052 \n\" clip-path=\"url(#p6c5d1b5cea)\" style=\"fill: none; stroke-dasharray: 5.55,2.4; stroke-dashoffset: 0; stroke: #ff7f0e; stroke-width: 1.5\"/>\n   </g>\n   <g id=\"line2d_49\">\n    <path d=\"M 49.633125 139.5 \nL 69.163125 133.028566 \nL 88.693125 131.110895 \n\" clip-path=\"url(#p6c5d1b5cea)\" style=\"fill: none; stroke-dasharray: 9.6,2.4,1.5,2.4; stroke-dashoffset: 0; stroke: #2ca02c; stroke-width: 1.5\"/>\n   </g>\n   <g id=\"line2d_50\">\n    <path d=\"M 34.954394 13.5 \nL 44.698573 13.570338 \nL 54.442752 13.626848 \nL 64.186931 13.706404 \nL 73.93111 13.831748 \nL 83.675289 14.045674 \nL 93.419468 14.487249 \nL 103.163647 15.753491 \n\" clip-path=\"url(#p6c5d1b5cea)\" style=\"fill: none; stroke: #1f77b4; stroke-width: 1.5; stroke-linecap: square\"/>\n   </g>\n   <g id=\"line2d_51\">\n    <path d=\"M 49.633125 13.600994 \nL 69.163125 13.766206 \nL 88.693125 14.214052 \nL 108.223125 17.309459 \n\" clip-path=\"url(#p6c5d1b5cea)\" style=\"fill: none; stroke-dasharray: 5.55,2.4; stroke-dashoffset: 0; stroke: #ff7f0e; stroke-width: 1.5\"/>\n   </g>\n   <g id=\"line2d_52\">\n    <path d=\"M 49.633125 139.5 \nL 69.163125 133.028566 \nL 88.693125 131.110895 \n\" clip-path=\"url(#p6c5d1b5cea)\" style=\"fill: none; stroke-dasharray: 9.6,2.4,1.5,2.4; stroke-dashoffset: 0; stroke: #2ca02c; stroke-width: 1.5\"/>\n   </g>\n   <g id=\"line2d_53\">\n    <path d=\"M 34.954394 13.5 \nL 44.698573 13.570338 \nL 54.442752 13.626848 \nL 64.186931 13.706404 \nL 73.93111 13.831748 \nL 83.675289 14.045674 \nL 93.419468 14.487249 \nL 103.163647 15.753491 \n\" clip-path=\"url(#p6c5d1b5cea)\" style=\"fill: none; stroke: #1f77b4; stroke-width: 1.5; stroke-linecap: square\"/>\n   </g>\n   <g id=\"line2d_54\">\n    <path d=\"M 49.633125 13.600994 \nL 69.163125 13.766206 \nL 88.693125 14.214052 \nL 108.223125 17.309459 \n\" clip-path=\"url(#p6c5d1b5cea)\" style=\"fill: none; stroke-dasharray: 5.55,2.4; stroke-dashoffset: 0; stroke: #ff7f0e; stroke-width: 1.5\"/>\n   </g>\n   <g id=\"line2d_55\">\n    <path d=\"M 49.633125 139.5 \nL 69.163125 133.028566 \nL 88.693125 131.110895 \nL 108.223125 129.470409 \n\" clip-path=\"url(#p6c5d1b5cea)\" style=\"fill: none; stroke-dasharray: 9.6,2.4,1.5,2.4; stroke-dashoffset: 0; stroke: #2ca02c; stroke-width: 1.5\"/>\n   </g>\n   <g id=\"line2d_56\">\n    <path d=\"M 34.954394 13.5 \nL 44.698573 13.570338 \nL 54.442752 13.626848 \nL 64.186931 13.706404 \nL 73.93111 13.831748 \nL 83.675289 14.045674 \nL 93.419468 14.487249 \nL 103.163647 15.753491 \nL 112.907826 23.496399 \n\" clip-path=\"url(#p6c5d1b5cea)\" style=\"fill: none; stroke: #1f77b4; stroke-width: 1.5; stroke-linecap: square\"/>\n   </g>\n   <g id=\"line2d_57\">\n    <path d=\"M 49.633125 13.600994 \nL 69.163125 13.766206 \nL 88.693125 14.214052 \nL 108.223125 17.309459 \n\" clip-path=\"url(#p6c5d1b5cea)\" style=\"fill: none; stroke-dasharray: 5.55,2.4; stroke-dashoffset: 0; stroke: #ff7f0e; stroke-width: 1.5\"/>\n   </g>\n   <g id=\"line2d_58\">\n    <path d=\"M 49.633125 139.5 \nL 69.163125 133.028566 \nL 88.693125 131.110895 \nL 108.223125 129.470409 \n\" clip-path=\"url(#p6c5d1b5cea)\" style=\"fill: none; stroke-dasharray: 9.6,2.4,1.5,2.4; stroke-dashoffset: 0; stroke: #2ca02c; stroke-width: 1.5\"/>\n   </g>\n   <g id=\"line2d_59\">\n    <path d=\"M 34.954394 13.5 \nL 44.698573 13.570338 \nL 54.442752 13.626848 \nL 64.186931 13.706404 \nL 73.93111 13.831748 \nL 83.675289 14.045674 \nL 93.419468 14.487249 \nL 103.163647 15.753491 \nL 112.907826 23.496399 \nL 122.652006 54.993117 \n\" clip-path=\"url(#p6c5d1b5cea)\" style=\"fill: none; stroke: #1f77b4; stroke-width: 1.5; stroke-linecap: square\"/>\n   </g>\n   <g id=\"line2d_60\">\n    <path d=\"M 49.633125 13.600994 \nL 69.163125 13.766206 \nL 88.693125 14.214052 \nL 108.223125 17.309459 \n\" clip-path=\"url(#p6c5d1b5cea)\" style=\"fill: none; stroke-dasharray: 5.55,2.4; stroke-dashoffset: 0; stroke: #ff7f0e; stroke-width: 1.5\"/>\n   </g>\n   <g id=\"line2d_61\">\n    <path d=\"M 49.633125 139.5 \nL 69.163125 133.028566 \nL 88.693125 131.110895 \nL 108.223125 129.470409 \n\" clip-path=\"url(#p6c5d1b5cea)\" style=\"fill: none; stroke-dasharray: 9.6,2.4,1.5,2.4; stroke-dashoffset: 0; stroke: #2ca02c; stroke-width: 1.5\"/>\n   </g>\n   <g id=\"line2d_62\">\n    <path d=\"M 34.954394 13.5 \nL 44.698573 13.570338 \nL 54.442752 13.626848 \nL 64.186931 13.706404 \nL 73.93111 13.831748 \nL 83.675289 14.045674 \nL 93.419468 14.487249 \nL 103.163647 15.753491 \nL 112.907826 23.496399 \nL 122.652006 54.993117 \n\" clip-path=\"url(#p6c5d1b5cea)\" style=\"fill: none; stroke: #1f77b4; stroke-width: 1.5; stroke-linecap: square\"/>\n   </g>\n   <g id=\"line2d_63\">\n    <path d=\"M 49.633125 13.600994 \nL 69.163125 13.766206 \nL 88.693125 14.214052 \nL 108.223125 17.309459 \nL 127.753125 70.375442 \n\" clip-path=\"url(#p6c5d1b5cea)\" style=\"fill: none; stroke-dasharray: 5.55,2.4; stroke-dashoffset: 0; stroke: #ff7f0e; stroke-width: 1.5\"/>\n   </g>\n   <g id=\"line2d_64\">\n    <path d=\"M 49.633125 139.5 \nL 69.163125 133.028566 \nL 88.693125 131.110895 \nL 108.223125 129.470409 \n\" clip-path=\"url(#p6c5d1b5cea)\" style=\"fill: none; stroke-dasharray: 9.6,2.4,1.5,2.4; stroke-dashoffset: 0; stroke: #2ca02c; stroke-width: 1.5\"/>\n   </g>\n   <g id=\"line2d_65\">\n    <path d=\"M 34.954394 13.5 \nL 44.698573 13.570338 \nL 54.442752 13.626848 \nL 64.186931 13.706404 \nL 73.93111 13.831748 \nL 83.675289 14.045674 \nL 93.419468 14.487249 \nL 103.163647 15.753491 \nL 112.907826 23.496399 \nL 122.652006 54.993117 \n\" clip-path=\"url(#p6c5d1b5cea)\" style=\"fill: none; stroke: #1f77b4; stroke-width: 1.5; stroke-linecap: square\"/>\n   </g>\n   <g id=\"line2d_66\">\n    <path d=\"M 49.633125 13.600994 \nL 69.163125 13.766206 \nL 88.693125 14.214052 \nL 108.223125 17.309459 \nL 127.753125 70.375442 \n\" clip-path=\"url(#p6c5d1b5cea)\" style=\"fill: none; stroke-dasharray: 5.55,2.4; stroke-dashoffset: 0; stroke: #ff7f0e; stroke-width: 1.5\"/>\n   </g>\n   <g id=\"line2d_67\">\n    <path d=\"M 49.633125 139.5 \nL 69.163125 133.028566 \nL 88.693125 131.110895 \nL 108.223125 129.470409 \nL 127.753125 120.464707 \n\" clip-path=\"url(#p6c5d1b5cea)\" style=\"fill: none; stroke-dasharray: 9.6,2.4,1.5,2.4; stroke-dashoffset: 0; stroke: #2ca02c; stroke-width: 1.5\"/>\n   </g>\n   <g id=\"line2d_68\">\n    <path d=\"M 34.954394 13.5 \nL 44.698573 13.570338 \nL 54.442752 13.626848 \nL 64.186931 13.706404 \nL 73.93111 13.831748 \nL 83.675289 14.045674 \nL 93.419468 14.487249 \nL 103.163647 15.753491 \nL 112.907826 23.496399 \nL 122.652006 54.993117 \nL 132.396185 84.871653 \n\" clip-path=\"url(#p6c5d1b5cea)\" style=\"fill: none; stroke: #1f77b4; stroke-width: 1.5; stroke-linecap: square\"/>\n   </g>\n   <g id=\"line2d_69\">\n    <path d=\"M 49.633125 13.600994 \nL 69.163125 13.766206 \nL 88.693125 14.214052 \nL 108.223125 17.309459 \nL 127.753125 70.375442 \n\" clip-path=\"url(#p6c5d1b5cea)\" style=\"fill: none; stroke-dasharray: 5.55,2.4; stroke-dashoffset: 0; stroke: #ff7f0e; stroke-width: 1.5\"/>\n   </g>\n   <g id=\"line2d_70\">\n    <path d=\"M 49.633125 139.5 \nL 69.163125 133.028566 \nL 88.693125 131.110895 \nL 108.223125 129.470409 \nL 127.753125 120.464707 \n\" clip-path=\"url(#p6c5d1b5cea)\" style=\"fill: none; stroke-dasharray: 9.6,2.4,1.5,2.4; stroke-dashoffset: 0; stroke: #2ca02c; stroke-width: 1.5\"/>\n   </g>\n   <g id=\"line2d_71\">\n    <path d=\"M 34.954394 13.5 \nL 44.698573 13.570338 \nL 54.442752 13.626848 \nL 64.186931 13.706404 \nL 73.93111 13.831748 \nL 83.675289 14.045674 \nL 93.419468 14.487249 \nL 103.163647 15.753491 \nL 112.907826 23.496399 \nL 122.652006 54.993117 \nL 132.396185 84.871653 \nL 142.140364 94.887874 \n\" clip-path=\"url(#p6c5d1b5cea)\" style=\"fill: none; stroke: #1f77b4; stroke-width: 1.5; stroke-linecap: square\"/>\n   </g>\n   <g id=\"line2d_72\">\n    <path d=\"M 49.633125 13.600994 \nL 69.163125 13.766206 \nL 88.693125 14.214052 \nL 108.223125 17.309459 \nL 127.753125 70.375442 \n\" clip-path=\"url(#p6c5d1b5cea)\" style=\"fill: none; stroke-dasharray: 5.55,2.4; stroke-dashoffset: 0; stroke: #ff7f0e; stroke-width: 1.5\"/>\n   </g>\n   <g id=\"line2d_73\">\n    <path d=\"M 49.633125 139.5 \nL 69.163125 133.028566 \nL 88.693125 131.110895 \nL 108.223125 129.470409 \nL 127.753125 120.464707 \n\" clip-path=\"url(#p6c5d1b5cea)\" style=\"fill: none; stroke-dasharray: 9.6,2.4,1.5,2.4; stroke-dashoffset: 0; stroke: #2ca02c; stroke-width: 1.5\"/>\n   </g>\n   <g id=\"line2d_74\">\n    <path d=\"M 34.954394 13.5 \nL 44.698573 13.570338 \nL 54.442752 13.626848 \nL 64.186931 13.706404 \nL 73.93111 13.831748 \nL 83.675289 14.045674 \nL 93.419468 14.487249 \nL 103.163647 15.753491 \nL 112.907826 23.496399 \nL 122.652006 54.993117 \nL 132.396185 84.871653 \nL 142.140364 94.887874 \n\" clip-path=\"url(#p6c5d1b5cea)\" style=\"fill: none; stroke: #1f77b4; stroke-width: 1.5; stroke-linecap: square\"/>\n   </g>\n   <g id=\"line2d_75\">\n    <path d=\"M 49.633125 13.600994 \nL 69.163125 13.766206 \nL 88.693125 14.214052 \nL 108.223125 17.309459 \nL 127.753125 70.375442 \nL 147.283125 98.487081 \n\" clip-path=\"url(#p6c5d1b5cea)\" style=\"fill: none; stroke-dasharray: 5.55,2.4; stroke-dashoffset: 0; stroke: #ff7f0e; stroke-width: 1.5\"/>\n   </g>\n   <g id=\"line2d_76\">\n    <path d=\"M 49.633125 139.5 \nL 69.163125 133.028566 \nL 88.693125 131.110895 \nL 108.223125 129.470409 \nL 127.753125 120.464707 \n\" clip-path=\"url(#p6c5d1b5cea)\" style=\"fill: none; stroke-dasharray: 9.6,2.4,1.5,2.4; stroke-dashoffset: 0; stroke: #2ca02c; stroke-width: 1.5\"/>\n   </g>\n   <g id=\"line2d_77\">\n    <path d=\"M 34.954394 13.5 \nL 44.698573 13.570338 \nL 54.442752 13.626848 \nL 64.186931 13.706404 \nL 73.93111 13.831748 \nL 83.675289 14.045674 \nL 93.419468 14.487249 \nL 103.163647 15.753491 \nL 112.907826 23.496399 \nL 122.652006 54.993117 \nL 132.396185 84.871653 \nL 142.140364 94.887874 \n\" clip-path=\"url(#p6c5d1b5cea)\" style=\"fill: none; stroke: #1f77b4; stroke-width: 1.5; stroke-linecap: square\"/>\n   </g>\n   <g id=\"line2d_78\">\n    <path d=\"M 49.633125 13.600994 \nL 69.163125 13.766206 \nL 88.693125 14.214052 \nL 108.223125 17.309459 \nL 127.753125 70.375442 \nL 147.283125 98.487081 \n\" clip-path=\"url(#p6c5d1b5cea)\" style=\"fill: none; stroke-dasharray: 5.55,2.4; stroke-dashoffset: 0; stroke: #ff7f0e; stroke-width: 1.5\"/>\n   </g>\n   <g id=\"line2d_79\">\n    <path d=\"M 49.633125 139.5 \nL 69.163125 133.028566 \nL 88.693125 131.110895 \nL 108.223125 129.470409 \nL 127.753125 120.464707 \nL 147.283125 106.051059 \n\" clip-path=\"url(#p6c5d1b5cea)\" style=\"fill: none; stroke-dasharray: 9.6,2.4,1.5,2.4; stroke-dashoffset: 0; stroke: #2ca02c; stroke-width: 1.5\"/>\n   </g>\n   <g id=\"line2d_80\">\n    <path d=\"M 34.954394 13.5 \nL 44.698573 13.570338 \nL 54.442752 13.626848 \nL 64.186931 13.706404 \nL 73.93111 13.831748 \nL 83.675289 14.045674 \nL 93.419468 14.487249 \nL 103.163647 15.753491 \nL 112.907826 23.496399 \nL 122.652006 54.993117 \nL 132.396185 84.871653 \nL 142.140364 94.887874 \nL 151.884543 100.609302 \n\" clip-path=\"url(#p6c5d1b5cea)\" style=\"fill: none; stroke: #1f77b4; stroke-width: 1.5; stroke-linecap: square\"/>\n   </g>\n   <g id=\"line2d_81\">\n    <path d=\"M 49.633125 13.600994 \nL 69.163125 13.766206 \nL 88.693125 14.214052 \nL 108.223125 17.309459 \nL 127.753125 70.375442 \nL 147.283125 98.487081 \n\" clip-path=\"url(#p6c5d1b5cea)\" style=\"fill: none; stroke-dasharray: 5.55,2.4; stroke-dashoffset: 0; stroke: #ff7f0e; stroke-width: 1.5\"/>\n   </g>\n   <g id=\"line2d_82\">\n    <path d=\"M 49.633125 139.5 \nL 69.163125 133.028566 \nL 88.693125 131.110895 \nL 108.223125 129.470409 \nL 127.753125 120.464707 \nL 147.283125 106.051059 \n\" clip-path=\"url(#p6c5d1b5cea)\" style=\"fill: none; stroke-dasharray: 9.6,2.4,1.5,2.4; stroke-dashoffset: 0; stroke: #2ca02c; stroke-width: 1.5\"/>\n   </g>\n   <g id=\"line2d_83\">\n    <path d=\"M 34.954394 13.5 \nL 44.698573 13.570338 \nL 54.442752 13.626848 \nL 64.186931 13.706404 \nL 73.93111 13.831748 \nL 83.675289 14.045674 \nL 93.419468 14.487249 \nL 103.163647 15.753491 \nL 112.907826 23.496399 \nL 122.652006 54.993117 \nL 132.396185 84.871653 \nL 142.140364 94.887874 \nL 151.884543 100.609302 \nL 161.628722 105.373567 \n\" clip-path=\"url(#p6c5d1b5cea)\" style=\"fill: none; stroke: #1f77b4; stroke-width: 1.5; stroke-linecap: square\"/>\n   </g>\n   <g id=\"line2d_84\">\n    <path d=\"M 49.633125 13.600994 \nL 69.163125 13.766206 \nL 88.693125 14.214052 \nL 108.223125 17.309459 \nL 127.753125 70.375442 \nL 147.283125 98.487081 \n\" clip-path=\"url(#p6c5d1b5cea)\" style=\"fill: none; stroke-dasharray: 5.55,2.4; stroke-dashoffset: 0; stroke: #ff7f0e; stroke-width: 1.5\"/>\n   </g>\n   <g id=\"line2d_85\">\n    <path d=\"M 49.633125 139.5 \nL 69.163125 133.028566 \nL 88.693125 131.110895 \nL 108.223125 129.470409 \nL 127.753125 120.464707 \nL 147.283125 106.051059 \n\" clip-path=\"url(#p6c5d1b5cea)\" style=\"fill: none; stroke-dasharray: 9.6,2.4,1.5,2.4; stroke-dashoffset: 0; stroke: #2ca02c; stroke-width: 1.5\"/>\n   </g>\n   <g id=\"line2d_86\">\n    <path d=\"M 34.954394 13.5 \nL 44.698573 13.570338 \nL 54.442752 13.626848 \nL 64.186931 13.706404 \nL 73.93111 13.831748 \nL 83.675289 14.045674 \nL 93.419468 14.487249 \nL 103.163647 15.753491 \nL 112.907826 23.496399 \nL 122.652006 54.993117 \nL 132.396185 84.871653 \nL 142.140364 94.887874 \nL 151.884543 100.609302 \nL 161.628722 105.373567 \n\" clip-path=\"url(#p6c5d1b5cea)\" style=\"fill: none; stroke: #1f77b4; stroke-width: 1.5; stroke-linecap: square\"/>\n   </g>\n   <g id=\"line2d_87\">\n    <path d=\"M 49.633125 13.600994 \nL 69.163125 13.766206 \nL 88.693125 14.214052 \nL 108.223125 17.309459 \nL 127.753125 70.375442 \nL 147.283125 98.487081 \nL 166.813125 95.891644 \n\" clip-path=\"url(#p6c5d1b5cea)\" style=\"fill: none; stroke-dasharray: 5.55,2.4; stroke-dashoffset: 0; stroke: #ff7f0e; stroke-width: 1.5\"/>\n   </g>\n   <g id=\"line2d_88\">\n    <path d=\"M 49.633125 139.5 \nL 69.163125 133.028566 \nL 88.693125 131.110895 \nL 108.223125 129.470409 \nL 127.753125 120.464707 \nL 147.283125 106.051059 \n\" clip-path=\"url(#p6c5d1b5cea)\" style=\"fill: none; stroke-dasharray: 9.6,2.4,1.5,2.4; stroke-dashoffset: 0; stroke: #2ca02c; stroke-width: 1.5\"/>\n   </g>\n   <g id=\"line2d_89\">\n    <path d=\"M 34.954394 13.5 \nL 44.698573 13.570338 \nL 54.442752 13.626848 \nL 64.186931 13.706404 \nL 73.93111 13.831748 \nL 83.675289 14.045674 \nL 93.419468 14.487249 \nL 103.163647 15.753491 \nL 112.907826 23.496399 \nL 122.652006 54.993117 \nL 132.396185 84.871653 \nL 142.140364 94.887874 \nL 151.884543 100.609302 \nL 161.628722 105.373567 \n\" clip-path=\"url(#p6c5d1b5cea)\" style=\"fill: none; stroke: #1f77b4; stroke-width: 1.5; stroke-linecap: square\"/>\n   </g>\n   <g id=\"line2d_90\">\n    <path d=\"M 49.633125 13.600994 \nL 69.163125 13.766206 \nL 88.693125 14.214052 \nL 108.223125 17.309459 \nL 127.753125 70.375442 \nL 147.283125 98.487081 \nL 166.813125 95.891644 \n\" clip-path=\"url(#p6c5d1b5cea)\" style=\"fill: none; stroke-dasharray: 5.55,2.4; stroke-dashoffset: 0; stroke: #ff7f0e; stroke-width: 1.5\"/>\n   </g>\n   <g id=\"line2d_91\">\n    <path d=\"M 49.633125 139.5 \nL 69.163125 133.028566 \nL 88.693125 131.110895 \nL 108.223125 129.470409 \nL 127.753125 120.464707 \nL 147.283125 106.051059 \nL 166.813125 105.332639 \n\" clip-path=\"url(#p6c5d1b5cea)\" style=\"fill: none; stroke-dasharray: 9.6,2.4,1.5,2.4; stroke-dashoffset: 0; stroke: #2ca02c; stroke-width: 1.5\"/>\n   </g>\n   <g id=\"line2d_92\">\n    <path d=\"M 34.954394 13.5 \nL 44.698573 13.570338 \nL 54.442752 13.626848 \nL 64.186931 13.706404 \nL 73.93111 13.831748 \nL 83.675289 14.045674 \nL 93.419468 14.487249 \nL 103.163647 15.753491 \nL 112.907826 23.496399 \nL 122.652006 54.993117 \nL 132.396185 84.871653 \nL 142.140364 94.887874 \nL 151.884543 100.609302 \nL 161.628722 105.373567 \nL 171.372901 109.098197 \n\" clip-path=\"url(#p6c5d1b5cea)\" style=\"fill: none; stroke: #1f77b4; stroke-width: 1.5; stroke-linecap: square\"/>\n   </g>\n   <g id=\"line2d_93\">\n    <path d=\"M 49.633125 13.600994 \nL 69.163125 13.766206 \nL 88.693125 14.214052 \nL 108.223125 17.309459 \nL 127.753125 70.375442 \nL 147.283125 98.487081 \nL 166.813125 95.891644 \n\" clip-path=\"url(#p6c5d1b5cea)\" style=\"fill: none; stroke-dasharray: 5.55,2.4; stroke-dashoffset: 0; stroke: #ff7f0e; stroke-width: 1.5\"/>\n   </g>\n   <g id=\"line2d_94\">\n    <path d=\"M 49.633125 139.5 \nL 69.163125 133.028566 \nL 88.693125 131.110895 \nL 108.223125 129.470409 \nL 127.753125 120.464707 \nL 147.283125 106.051059 \nL 166.813125 105.332639 \n\" clip-path=\"url(#p6c5d1b5cea)\" style=\"fill: none; stroke-dasharray: 9.6,2.4,1.5,2.4; stroke-dashoffset: 0; stroke: #2ca02c; stroke-width: 1.5\"/>\n   </g>\n   <g id=\"line2d_95\">\n    <path d=\"M 34.954394 13.5 \nL 44.698573 13.570338 \nL 54.442752 13.626848 \nL 64.186931 13.706404 \nL 73.93111 13.831748 \nL 83.675289 14.045674 \nL 93.419468 14.487249 \nL 103.163647 15.753491 \nL 112.907826 23.496399 \nL 122.652006 54.993117 \nL 132.396185 84.871653 \nL 142.140364 94.887874 \nL 151.884543 100.609302 \nL 161.628722 105.373567 \nL 171.372901 109.098197 \nL 181.11708 111.037831 \n\" clip-path=\"url(#p6c5d1b5cea)\" style=\"fill: none; stroke: #1f77b4; stroke-width: 1.5; stroke-linecap: square\"/>\n   </g>\n   <g id=\"line2d_96\">\n    <path d=\"M 49.633125 13.600994 \nL 69.163125 13.766206 \nL 88.693125 14.214052 \nL 108.223125 17.309459 \nL 127.753125 70.375442 \nL 147.283125 98.487081 \nL 166.813125 95.891644 \n\" clip-path=\"url(#p6c5d1b5cea)\" style=\"fill: none; stroke-dasharray: 5.55,2.4; stroke-dashoffset: 0; stroke: #ff7f0e; stroke-width: 1.5\"/>\n   </g>\n   <g id=\"line2d_97\">\n    <path d=\"M 49.633125 139.5 \nL 69.163125 133.028566 \nL 88.693125 131.110895 \nL 108.223125 129.470409 \nL 127.753125 120.464707 \nL 147.283125 106.051059 \nL 166.813125 105.332639 \n\" clip-path=\"url(#p6c5d1b5cea)\" style=\"fill: none; stroke-dasharray: 9.6,2.4,1.5,2.4; stroke-dashoffset: 0; stroke: #2ca02c; stroke-width: 1.5\"/>\n   </g>\n   <g id=\"line2d_98\">\n    <path d=\"M 34.954394 13.5 \nL 44.698573 13.570338 \nL 54.442752 13.626848 \nL 64.186931 13.706404 \nL 73.93111 13.831748 \nL 83.675289 14.045674 \nL 93.419468 14.487249 \nL 103.163647 15.753491 \nL 112.907826 23.496399 \nL 122.652006 54.993117 \nL 132.396185 84.871653 \nL 142.140364 94.887874 \nL 151.884543 100.609302 \nL 161.628722 105.373567 \nL 171.372901 109.098197 \nL 181.11708 111.037831 \n\" clip-path=\"url(#p6c5d1b5cea)\" style=\"fill: none; stroke: #1f77b4; stroke-width: 1.5; stroke-linecap: square\"/>\n   </g>\n   <g id=\"line2d_99\">\n    <path d=\"M 49.633125 13.600994 \nL 69.163125 13.766206 \nL 88.693125 14.214052 \nL 108.223125 17.309459 \nL 127.753125 70.375442 \nL 147.283125 98.487081 \nL 166.813125 95.891644 \nL 186.343125 108.786826 \n\" clip-path=\"url(#p6c5d1b5cea)\" style=\"fill: none; stroke-dasharray: 5.55,2.4; stroke-dashoffset: 0; stroke: #ff7f0e; stroke-width: 1.5\"/>\n   </g>\n   <g id=\"line2d_100\">\n    <path d=\"M 49.633125 139.5 \nL 69.163125 133.028566 \nL 88.693125 131.110895 \nL 108.223125 129.470409 \nL 127.753125 120.464707 \nL 147.283125 106.051059 \nL 166.813125 105.332639 \n\" clip-path=\"url(#p6c5d1b5cea)\" style=\"fill: none; stroke-dasharray: 9.6,2.4,1.5,2.4; stroke-dashoffset: 0; stroke: #2ca02c; stroke-width: 1.5\"/>\n   </g>\n   <g id=\"line2d_101\">\n    <path d=\"M 34.954394 13.5 \nL 44.698573 13.570338 \nL 54.442752 13.626848 \nL 64.186931 13.706404 \nL 73.93111 13.831748 \nL 83.675289 14.045674 \nL 93.419468 14.487249 \nL 103.163647 15.753491 \nL 112.907826 23.496399 \nL 122.652006 54.993117 \nL 132.396185 84.871653 \nL 142.140364 94.887874 \nL 151.884543 100.609302 \nL 161.628722 105.373567 \nL 171.372901 109.098197 \nL 181.11708 111.037831 \n\" clip-path=\"url(#p6c5d1b5cea)\" style=\"fill: none; stroke: #1f77b4; stroke-width: 1.5; stroke-linecap: square\"/>\n   </g>\n   <g id=\"line2d_102\">\n    <path d=\"M 49.633125 13.600994 \nL 69.163125 13.766206 \nL 88.693125 14.214052 \nL 108.223125 17.309459 \nL 127.753125 70.375442 \nL 147.283125 98.487081 \nL 166.813125 95.891644 \nL 186.343125 108.786826 \n\" clip-path=\"url(#p6c5d1b5cea)\" style=\"fill: none; stroke-dasharray: 5.55,2.4; stroke-dashoffset: 0; stroke: #ff7f0e; stroke-width: 1.5\"/>\n   </g>\n   <g id=\"line2d_103\">\n    <path d=\"M 49.633125 139.5 \nL 69.163125 133.028566 \nL 88.693125 131.110895 \nL 108.223125 129.470409 \nL 127.753125 120.464707 \nL 147.283125 106.051059 \nL 166.813125 105.332639 \nL 186.343125 101.695286 \n\" clip-path=\"url(#p6c5d1b5cea)\" style=\"fill: none; stroke-dasharray: 9.6,2.4,1.5,2.4; stroke-dashoffset: 0; stroke: #2ca02c; stroke-width: 1.5\"/>\n   </g>\n   <g id=\"line2d_104\">\n    <path d=\"M 34.954394 13.5 \nL 44.698573 13.570338 \nL 54.442752 13.626848 \nL 64.186931 13.706404 \nL 73.93111 13.831748 \nL 83.675289 14.045674 \nL 93.419468 14.487249 \nL 103.163647 15.753491 \nL 112.907826 23.496399 \nL 122.652006 54.993117 \nL 132.396185 84.871653 \nL 142.140364 94.887874 \nL 151.884543 100.609302 \nL 161.628722 105.373567 \nL 171.372901 109.098197 \nL 181.11708 111.037831 \nL 190.861259 113.003027 \n\" clip-path=\"url(#p6c5d1b5cea)\" style=\"fill: none; stroke: #1f77b4; stroke-width: 1.5; stroke-linecap: square\"/>\n   </g>\n   <g id=\"line2d_105\">\n    <path d=\"M 49.633125 13.600994 \nL 69.163125 13.766206 \nL 88.693125 14.214052 \nL 108.223125 17.309459 \nL 127.753125 70.375442 \nL 147.283125 98.487081 \nL 166.813125 95.891644 \nL 186.343125 108.786826 \n\" clip-path=\"url(#p6c5d1b5cea)\" style=\"fill: none; stroke-dasharray: 5.55,2.4; stroke-dashoffset: 0; stroke: #ff7f0e; stroke-width: 1.5\"/>\n   </g>\n   <g id=\"line2d_106\">\n    <path d=\"M 49.633125 139.5 \nL 69.163125 133.028566 \nL 88.693125 131.110895 \nL 108.223125 129.470409 \nL 127.753125 120.464707 \nL 147.283125 106.051059 \nL 166.813125 105.332639 \nL 186.343125 101.695286 \n\" clip-path=\"url(#p6c5d1b5cea)\" style=\"fill: none; stroke-dasharray: 9.6,2.4,1.5,2.4; stroke-dashoffset: 0; stroke: #2ca02c; stroke-width: 1.5\"/>\n   </g>\n   <g id=\"line2d_107\">\n    <path d=\"M 34.954394 13.5 \nL 44.698573 13.570338 \nL 54.442752 13.626848 \nL 64.186931 13.706404 \nL 73.93111 13.831748 \nL 83.675289 14.045674 \nL 93.419468 14.487249 \nL 103.163647 15.753491 \nL 112.907826 23.496399 \nL 122.652006 54.993117 \nL 132.396185 84.871653 \nL 142.140364 94.887874 \nL 151.884543 100.609302 \nL 161.628722 105.373567 \nL 171.372901 109.098197 \nL 181.11708 111.037831 \nL 190.861259 113.003027 \nL 200.605438 114.682584 \n\" clip-path=\"url(#p6c5d1b5cea)\" style=\"fill: none; stroke: #1f77b4; stroke-width: 1.5; stroke-linecap: square\"/>\n   </g>\n   <g id=\"line2d_108\">\n    <path d=\"M 49.633125 13.600994 \nL 69.163125 13.766206 \nL 88.693125 14.214052 \nL 108.223125 17.309459 \nL 127.753125 70.375442 \nL 147.283125 98.487081 \nL 166.813125 95.891644 \nL 186.343125 108.786826 \n\" clip-path=\"url(#p6c5d1b5cea)\" style=\"fill: none; stroke-dasharray: 5.55,2.4; stroke-dashoffset: 0; stroke: #ff7f0e; stroke-width: 1.5\"/>\n   </g>\n   <g id=\"line2d_109\">\n    <path d=\"M 49.633125 139.5 \nL 69.163125 133.028566 \nL 88.693125 131.110895 \nL 108.223125 129.470409 \nL 127.753125 120.464707 \nL 147.283125 106.051059 \nL 166.813125 105.332639 \nL 186.343125 101.695286 \n\" clip-path=\"url(#p6c5d1b5cea)\" style=\"fill: none; stroke-dasharray: 9.6,2.4,1.5,2.4; stroke-dashoffset: 0; stroke: #2ca02c; stroke-width: 1.5\"/>\n   </g>\n   <g id=\"line2d_110\">\n    <path d=\"M 34.954394 13.5 \nL 44.698573 13.570338 \nL 54.442752 13.626848 \nL 64.186931 13.706404 \nL 73.93111 13.831748 \nL 83.675289 14.045674 \nL 93.419468 14.487249 \nL 103.163647 15.753491 \nL 112.907826 23.496399 \nL 122.652006 54.993117 \nL 132.396185 84.871653 \nL 142.140364 94.887874 \nL 151.884543 100.609302 \nL 161.628722 105.373567 \nL 171.372901 109.098197 \nL 181.11708 111.037831 \nL 190.861259 113.003027 \nL 200.605438 114.682584 \n\" clip-path=\"url(#p6c5d1b5cea)\" style=\"fill: none; stroke: #1f77b4; stroke-width: 1.5; stroke-linecap: square\"/>\n   </g>\n   <g id=\"line2d_111\">\n    <path d=\"M 49.633125 13.600994 \nL 69.163125 13.766206 \nL 88.693125 14.214052 \nL 108.223125 17.309459 \nL 127.753125 70.375442 \nL 147.283125 98.487081 \nL 166.813125 95.891644 \nL 186.343125 108.786826 \nL 205.873125 114.808886 \n\" clip-path=\"url(#p6c5d1b5cea)\" style=\"fill: none; stroke-dasharray: 5.55,2.4; stroke-dashoffset: 0; stroke: #ff7f0e; stroke-width: 1.5\"/>\n   </g>\n   <g id=\"line2d_112\">\n    <path d=\"M 49.633125 139.5 \nL 69.163125 133.028566 \nL 88.693125 131.110895 \nL 108.223125 129.470409 \nL 127.753125 120.464707 \nL 147.283125 106.051059 \nL 166.813125 105.332639 \nL 186.343125 101.695286 \n\" clip-path=\"url(#p6c5d1b5cea)\" style=\"fill: none; stroke-dasharray: 9.6,2.4,1.5,2.4; stroke-dashoffset: 0; stroke: #2ca02c; stroke-width: 1.5\"/>\n   </g>\n   <g id=\"line2d_113\">\n    <path d=\"M 34.954394 13.5 \nL 44.698573 13.570338 \nL 54.442752 13.626848 \nL 64.186931 13.706404 \nL 73.93111 13.831748 \nL 83.675289 14.045674 \nL 93.419468 14.487249 \nL 103.163647 15.753491 \nL 112.907826 23.496399 \nL 122.652006 54.993117 \nL 132.396185 84.871653 \nL 142.140364 94.887874 \nL 151.884543 100.609302 \nL 161.628722 105.373567 \nL 171.372901 109.098197 \nL 181.11708 111.037831 \nL 190.861259 113.003027 \nL 200.605438 114.682584 \n\" clip-path=\"url(#p6c5d1b5cea)\" style=\"fill: none; stroke: #1f77b4; stroke-width: 1.5; stroke-linecap: square\"/>\n   </g>\n   <g id=\"line2d_114\">\n    <path d=\"M 49.633125 13.600994 \nL 69.163125 13.766206 \nL 88.693125 14.214052 \nL 108.223125 17.309459 \nL 127.753125 70.375442 \nL 147.283125 98.487081 \nL 166.813125 95.891644 \nL 186.343125 108.786826 \nL 205.873125 114.808886 \n\" clip-path=\"url(#p6c5d1b5cea)\" style=\"fill: none; stroke-dasharray: 5.55,2.4; stroke-dashoffset: 0; stroke: #ff7f0e; stroke-width: 1.5\"/>\n   </g>\n   <g id=\"line2d_115\">\n    <path d=\"M 49.633125 139.5 \nL 69.163125 133.028566 \nL 88.693125 131.110895 \nL 108.223125 129.470409 \nL 127.753125 120.464707 \nL 147.283125 106.051059 \nL 166.813125 105.332639 \nL 186.343125 101.695286 \nL 205.873125 99.313753 \n\" clip-path=\"url(#p6c5d1b5cea)\" style=\"fill: none; stroke-dasharray: 9.6,2.4,1.5,2.4; stroke-dashoffset: 0; stroke: #2ca02c; stroke-width: 1.5\"/>\n   </g>\n   <g id=\"line2d_116\">\n    <path d=\"M 34.954394 13.5 \nL 44.698573 13.570338 \nL 54.442752 13.626848 \nL 64.186931 13.706404 \nL 73.93111 13.831748 \nL 83.675289 14.045674 \nL 93.419468 14.487249 \nL 103.163647 15.753491 \nL 112.907826 23.496399 \nL 122.652006 54.993117 \nL 132.396185 84.871653 \nL 142.140364 94.887874 \nL 151.884543 100.609302 \nL 161.628722 105.373567 \nL 171.372901 109.098197 \nL 181.11708 111.037831 \nL 190.861259 113.003027 \nL 200.605438 114.682584 \nL 210.349618 116.128854 \n\" clip-path=\"url(#p6c5d1b5cea)\" style=\"fill: none; stroke: #1f77b4; stroke-width: 1.5; stroke-linecap: square\"/>\n   </g>\n   <g id=\"line2d_117\">\n    <path d=\"M 49.633125 13.600994 \nL 69.163125 13.766206 \nL 88.693125 14.214052 \nL 108.223125 17.309459 \nL 127.753125 70.375442 \nL 147.283125 98.487081 \nL 166.813125 95.891644 \nL 186.343125 108.786826 \nL 205.873125 114.808886 \n\" clip-path=\"url(#p6c5d1b5cea)\" style=\"fill: none; stroke-dasharray: 5.55,2.4; stroke-dashoffset: 0; stroke: #ff7f0e; stroke-width: 1.5\"/>\n   </g>\n   <g id=\"line2d_118\">\n    <path d=\"M 49.633125 139.5 \nL 69.163125 133.028566 \nL 88.693125 131.110895 \nL 108.223125 129.470409 \nL 127.753125 120.464707 \nL 147.283125 106.051059 \nL 166.813125 105.332639 \nL 186.343125 101.695286 \nL 205.873125 99.313753 \n\" clip-path=\"url(#p6c5d1b5cea)\" style=\"fill: none; stroke-dasharray: 9.6,2.4,1.5,2.4; stroke-dashoffset: 0; stroke: #2ca02c; stroke-width: 1.5\"/>\n   </g>\n   <g id=\"line2d_119\">\n    <path d=\"M 34.954394 13.5 \nL 44.698573 13.570338 \nL 54.442752 13.626848 \nL 64.186931 13.706404 \nL 73.93111 13.831748 \nL 83.675289 14.045674 \nL 93.419468 14.487249 \nL 103.163647 15.753491 \nL 112.907826 23.496399 \nL 122.652006 54.993117 \nL 132.396185 84.871653 \nL 142.140364 94.887874 \nL 151.884543 100.609302 \nL 161.628722 105.373567 \nL 171.372901 109.098197 \nL 181.11708 111.037831 \nL 190.861259 113.003027 \nL 200.605438 114.682584 \nL 210.349618 116.128854 \nL 220.093797 117.387534 \n\" clip-path=\"url(#p6c5d1b5cea)\" style=\"fill: none; stroke: #1f77b4; stroke-width: 1.5; stroke-linecap: square\"/>\n   </g>\n   <g id=\"line2d_120\">\n    <path d=\"M 49.633125 13.600994 \nL 69.163125 13.766206 \nL 88.693125 14.214052 \nL 108.223125 17.309459 \nL 127.753125 70.375442 \nL 147.283125 98.487081 \nL 166.813125 95.891644 \nL 186.343125 108.786826 \nL 205.873125 114.808886 \n\" clip-path=\"url(#p6c5d1b5cea)\" style=\"fill: none; stroke-dasharray: 5.55,2.4; stroke-dashoffset: 0; stroke: #ff7f0e; stroke-width: 1.5\"/>\n   </g>\n   <g id=\"line2d_121\">\n    <path d=\"M 49.633125 139.5 \nL 69.163125 133.028566 \nL 88.693125 131.110895 \nL 108.223125 129.470409 \nL 127.753125 120.464707 \nL 147.283125 106.051059 \nL 166.813125 105.332639 \nL 186.343125 101.695286 \nL 205.873125 99.313753 \n\" clip-path=\"url(#p6c5d1b5cea)\" style=\"fill: none; stroke-dasharray: 9.6,2.4,1.5,2.4; stroke-dashoffset: 0; stroke: #2ca02c; stroke-width: 1.5\"/>\n   </g>\n   <g id=\"line2d_122\">\n    <path d=\"M 34.954394 13.5 \nL 44.698573 13.570338 \nL 54.442752 13.626848 \nL 64.186931 13.706404 \nL 73.93111 13.831748 \nL 83.675289 14.045674 \nL 93.419468 14.487249 \nL 103.163647 15.753491 \nL 112.907826 23.496399 \nL 122.652006 54.993117 \nL 132.396185 84.871653 \nL 142.140364 94.887874 \nL 151.884543 100.609302 \nL 161.628722 105.373567 \nL 171.372901 109.098197 \nL 181.11708 111.037831 \nL 190.861259 113.003027 \nL 200.605438 114.682584 \nL 210.349618 116.128854 \nL 220.093797 117.387534 \n\" clip-path=\"url(#p6c5d1b5cea)\" style=\"fill: none; stroke: #1f77b4; stroke-width: 1.5; stroke-linecap: square\"/>\n   </g>\n   <g id=\"line2d_123\">\n    <path d=\"M 49.633125 13.600994 \nL 69.163125 13.766206 \nL 88.693125 14.214052 \nL 108.223125 17.309459 \nL 127.753125 70.375442 \nL 147.283125 98.487081 \nL 166.813125 95.891644 \nL 186.343125 108.786826 \nL 205.873125 114.808886 \nL 225.403125 114.970678 \n\" clip-path=\"url(#p6c5d1b5cea)\" style=\"fill: none; stroke-dasharray: 5.55,2.4; stroke-dashoffset: 0; stroke: #ff7f0e; stroke-width: 1.5\"/>\n   </g>\n   <g id=\"line2d_124\">\n    <path d=\"M 49.633125 139.5 \nL 69.163125 133.028566 \nL 88.693125 131.110895 \nL 108.223125 129.470409 \nL 127.753125 120.464707 \nL 147.283125 106.051059 \nL 166.813125 105.332639 \nL 186.343125 101.695286 \nL 205.873125 99.313753 \n\" clip-path=\"url(#p6c5d1b5cea)\" style=\"fill: none; stroke-dasharray: 9.6,2.4,1.5,2.4; stroke-dashoffset: 0; stroke: #2ca02c; stroke-width: 1.5\"/>\n   </g>\n   <g id=\"line2d_125\">\n    <path d=\"M 34.954394 13.5 \nL 44.698573 13.570338 \nL 54.442752 13.626848 \nL 64.186931 13.706404 \nL 73.93111 13.831748 \nL 83.675289 14.045674 \nL 93.419468 14.487249 \nL 103.163647 15.753491 \nL 112.907826 23.496399 \nL 122.652006 54.993117 \nL 132.396185 84.871653 \nL 142.140364 94.887874 \nL 151.884543 100.609302 \nL 161.628722 105.373567 \nL 171.372901 109.098197 \nL 181.11708 111.037831 \nL 190.861259 113.003027 \nL 200.605438 114.682584 \nL 210.349618 116.128854 \nL 220.093797 117.387534 \n\" clip-path=\"url(#p6c5d1b5cea)\" style=\"fill: none; stroke: #1f77b4; stroke-width: 1.5; stroke-linecap: square\"/>\n   </g>\n   <g id=\"line2d_126\">\n    <path d=\"M 49.633125 13.600994 \nL 69.163125 13.766206 \nL 88.693125 14.214052 \nL 108.223125 17.309459 \nL 127.753125 70.375442 \nL 147.283125 98.487081 \nL 166.813125 95.891644 \nL 186.343125 108.786826 \nL 205.873125 114.808886 \nL 225.403125 114.970678 \n\" clip-path=\"url(#p6c5d1b5cea)\" style=\"fill: none; stroke-dasharray: 5.55,2.4; stroke-dashoffset: 0; stroke: #ff7f0e; stroke-width: 1.5\"/>\n   </g>\n   <g id=\"line2d_127\">\n    <path d=\"M 49.633125 139.5 \nL 69.163125 133.028566 \nL 88.693125 131.110895 \nL 108.223125 129.470409 \nL 127.753125 120.464707 \nL 147.283125 106.051059 \nL 166.813125 105.332639 \nL 186.343125 101.695286 \nL 205.873125 99.313753 \nL 225.403125 99.53437 \n\" clip-path=\"url(#p6c5d1b5cea)\" style=\"fill: none; stroke-dasharray: 9.6,2.4,1.5,2.4; stroke-dashoffset: 0; stroke: #2ca02c; stroke-width: 1.5\"/>\n   </g>\n   <g id=\"patch_3\">\n    <path d=\"M 30.103125 145.8 \nL 30.103125 7.2 \n\" style=\"fill: none; stroke: #000000; stroke-width: 0.8; stroke-linejoin: miter; stroke-linecap: square\"/>\n   </g>\n   <g id=\"patch_4\">\n    <path d=\"M 225.403125 145.8 \nL 225.403125 7.2 \n\" style=\"fill: none; stroke: #000000; stroke-width: 0.8; stroke-linejoin: miter; stroke-linecap: square\"/>\n   </g>\n   <g id=\"patch_5\">\n    <path d=\"M 30.103125 145.8 \nL 225.403125 145.8 \n\" style=\"fill: none; stroke: #000000; stroke-width: 0.8; stroke-linejoin: miter; stroke-linecap: square\"/>\n   </g>\n   <g id=\"patch_6\">\n    <path d=\"M 30.103125 7.2 \nL 225.403125 7.2 \n\" style=\"fill: none; stroke: #000000; stroke-width: 0.8; stroke-linejoin: miter; stroke-linecap: square\"/>\n   </g>\n   <g id=\"legend_1\">\n    <g id=\"patch_7\">\n     <path d=\"M 138.8125 60.06875 \nL 218.403125 60.06875 \nQ 220.403125 60.06875 220.403125 58.06875 \nL 220.403125 14.2 \nQ 220.403125 12.2 218.403125 12.2 \nL 138.8125 12.2 \nQ 136.8125 12.2 136.8125 14.2 \nL 136.8125 58.06875 \nQ 136.8125 60.06875 138.8125 60.06875 \nz\n\" style=\"fill: #ffffff; opacity: 0.8; stroke: #cccccc; stroke-linejoin: miter\"/>\n    </g>\n    <g id=\"line2d_128\">\n     <path d=\"M 140.8125 20.298438 \nL 150.8125 20.298438 \nL 160.8125 20.298438 \n\" style=\"fill: none; stroke: #1f77b4; stroke-width: 1.5; stroke-linecap: square\"/>\n    </g>\n    <g id=\"text_13\">\n     <!-- train_loss -->\n     <g transform=\"translate(168.8125 23.798438) scale(0.1 -0.1)\">\n      <defs>\n       <path id=\"DejaVuSans-74\" d=\"M 1172 4494 \nL 1172 3500 \nL 2356 3500 \nL 2356 3053 \nL 1172 3053 \nL 1172 1153 \nQ 1172 725 1289 603 \nQ 1406 481 1766 481 \nL 2356 481 \nL 2356 0 \nL 1766 0 \nQ 1100 0 847 248 \nQ 594 497 594 1153 \nL 594 3053 \nL 172 3053 \nL 172 3500 \nL 594 3500 \nL 594 4494 \nL 1172 4494 \nz\n\" transform=\"scale(0.015625)\"/>\n       <path id=\"DejaVuSans-72\" d=\"M 2631 2963 \nQ 2534 3019 2420 3045 \nQ 2306 3072 2169 3072 \nQ 1681 3072 1420 2755 \nQ 1159 2438 1159 1844 \nL 1159 0 \nL 581 0 \nL 581 3500 \nL 1159 3500 \nL 1159 2956 \nQ 1341 3275 1631 3429 \nQ 1922 3584 2338 3584 \nQ 2397 3584 2469 3576 \nQ 2541 3569 2628 3553 \nL 2631 2963 \nz\n\" transform=\"scale(0.015625)\"/>\n       <path id=\"DejaVuSans-61\" d=\"M 2194 1759 \nQ 1497 1759 1228 1600 \nQ 959 1441 959 1056 \nQ 959 750 1161 570 \nQ 1363 391 1709 391 \nQ 2188 391 2477 730 \nQ 2766 1069 2766 1631 \nL 2766 1759 \nL 2194 1759 \nz\nM 3341 1997 \nL 3341 0 \nL 2766 0 \nL 2766 531 \nQ 2569 213 2275 61 \nQ 1981 -91 1556 -91 \nQ 1019 -91 701 211 \nQ 384 513 384 1019 \nQ 384 1609 779 1909 \nQ 1175 2209 1959 2209 \nL 2766 2209 \nL 2766 2266 \nQ 2766 2663 2505 2880 \nQ 2244 3097 1772 3097 \nQ 1472 3097 1187 3025 \nQ 903 2953 641 2809 \nL 641 3341 \nQ 956 3463 1253 3523 \nQ 1550 3584 1831 3584 \nQ 2591 3584 2966 3190 \nQ 3341 2797 3341 1997 \nz\n\" transform=\"scale(0.015625)\"/>\n       <path id=\"DejaVuSans-69\" d=\"M 603 3500 \nL 1178 3500 \nL 1178 0 \nL 603 0 \nL 603 3500 \nz\nM 603 4863 \nL 1178 4863 \nL 1178 4134 \nL 603 4134 \nL 603 4863 \nz\n\" transform=\"scale(0.015625)\"/>\n       <path id=\"DejaVuSans-6e\" d=\"M 3513 2113 \nL 3513 0 \nL 2938 0 \nL 2938 2094 \nQ 2938 2591 2744 2837 \nQ 2550 3084 2163 3084 \nQ 1697 3084 1428 2787 \nQ 1159 2491 1159 1978 \nL 1159 0 \nL 581 0 \nL 581 3500 \nL 1159 3500 \nL 1159 2956 \nQ 1366 3272 1645 3428 \nQ 1925 3584 2291 3584 \nQ 2894 3584 3203 3211 \nQ 3513 2838 3513 2113 \nz\n\" transform=\"scale(0.015625)\"/>\n       <path id=\"DejaVuSans-5f\" d=\"M 3263 -1063 \nL 3263 -1509 \nL -63 -1509 \nL -63 -1063 \nL 3263 -1063 \nz\n\" transform=\"scale(0.015625)\"/>\n       <path id=\"DejaVuSans-6c\" d=\"M 603 4863 \nL 1178 4863 \nL 1178 0 \nL 603 0 \nL 603 4863 \nz\n\" transform=\"scale(0.015625)\"/>\n       <path id=\"DejaVuSans-73\" d=\"M 2834 3397 \nL 2834 2853 \nQ 2591 2978 2328 3040 \nQ 2066 3103 1784 3103 \nQ 1356 3103 1142 2972 \nQ 928 2841 928 2578 \nQ 928 2378 1081 2264 \nQ 1234 2150 1697 2047 \nL 1894 2003 \nQ 2506 1872 2764 1633 \nQ 3022 1394 3022 966 \nQ 3022 478 2636 193 \nQ 2250 -91 1575 -91 \nQ 1294 -91 989 -36 \nQ 684 19 347 128 \nL 347 722 \nQ 666 556 975 473 \nQ 1284 391 1588 391 \nQ 1994 391 2212 530 \nQ 2431 669 2431 922 \nQ 2431 1156 2273 1281 \nQ 2116 1406 1581 1522 \nL 1381 1569 \nQ 847 1681 609 1914 \nQ 372 2147 372 2553 \nQ 372 3047 722 3315 \nQ 1072 3584 1716 3584 \nQ 2034 3584 2315 3537 \nQ 2597 3491 2834 3397 \nz\n\" transform=\"scale(0.015625)\"/>\n      </defs>\n      <use xlink:href=\"#DejaVuSans-74\"/>\n      <use xlink:href=\"#DejaVuSans-72\" x=\"39.208984\"/>\n      <use xlink:href=\"#DejaVuSans-61\" x=\"80.322266\"/>\n      <use xlink:href=\"#DejaVuSans-69\" x=\"141.601562\"/>\n      <use xlink:href=\"#DejaVuSans-6e\" x=\"169.384766\"/>\n      <use xlink:href=\"#DejaVuSans-5f\" x=\"232.763672\"/>\n      <use xlink:href=\"#DejaVuSans-6c\" x=\"282.763672\"/>\n      <use xlink:href=\"#DejaVuSans-6f\" x=\"310.546875\"/>\n      <use xlink:href=\"#DejaVuSans-73\" x=\"371.728516\"/>\n      <use xlink:href=\"#DejaVuSans-73\" x=\"423.828125\"/>\n     </g>\n    </g>\n    <g id=\"line2d_129\">\n     <path d=\"M 140.8125 35.254688 \nL 150.8125 35.254688 \nL 160.8125 35.254688 \n\" style=\"fill: none; stroke-dasharray: 5.55,2.4; stroke-dashoffset: 0; stroke: #ff7f0e; stroke-width: 1.5\"/>\n    </g>\n    <g id=\"text_14\">\n     <!-- val_loss -->\n     <g transform=\"translate(168.8125 38.754688) scale(0.1 -0.1)\">\n      <defs>\n       <path id=\"DejaVuSans-76\" d=\"M 191 3500 \nL 800 3500 \nL 1894 563 \nL 2988 3500 \nL 3597 3500 \nL 2284 0 \nL 1503 0 \nL 191 3500 \nz\n\" transform=\"scale(0.015625)\"/>\n      </defs>\n      <use xlink:href=\"#DejaVuSans-76\"/>\n      <use xlink:href=\"#DejaVuSans-61\" x=\"59.179688\"/>\n      <use xlink:href=\"#DejaVuSans-6c\" x=\"120.458984\"/>\n      <use xlink:href=\"#DejaVuSans-5f\" x=\"148.242188\"/>\n      <use xlink:href=\"#DejaVuSans-6c\" x=\"198.242188\"/>\n      <use xlink:href=\"#DejaVuSans-6f\" x=\"226.025391\"/>\n      <use xlink:href=\"#DejaVuSans-73\" x=\"287.207031\"/>\n      <use xlink:href=\"#DejaVuSans-73\" x=\"339.306641\"/>\n     </g>\n    </g>\n    <g id=\"line2d_130\">\n     <path d=\"M 140.8125 50.210938 \nL 150.8125 50.210938 \nL 160.8125 50.210938 \n\" style=\"fill: none; stroke-dasharray: 9.6,2.4,1.5,2.4; stroke-dashoffset: 0; stroke: #2ca02c; stroke-width: 1.5\"/>\n    </g>\n    <g id=\"text_15\">\n     <!-- val_acc -->\n     <g transform=\"translate(168.8125 53.710938) scale(0.1 -0.1)\">\n      <use xlink:href=\"#DejaVuSans-76\"/>\n      <use xlink:href=\"#DejaVuSans-61\" x=\"59.179688\"/>\n      <use xlink:href=\"#DejaVuSans-6c\" x=\"120.458984\"/>\n      <use xlink:href=\"#DejaVuSans-5f\" x=\"148.242188\"/>\n      <use xlink:href=\"#DejaVuSans-61\" x=\"198.242188\"/>\n      <use xlink:href=\"#DejaVuSans-63\" x=\"259.521484\"/>\n      <use xlink:href=\"#DejaVuSans-63\" x=\"314.501953\"/>\n     </g>\n    </g>\n   </g>\n  </g>\n </g>\n <defs>\n  <clipPath id=\"p6c5d1b5cea\">\n   <rect x=\"30.103125\" y=\"7.2\" width=\"195.3\" height=\"138.6\"/>\n  </clipPath>\n </defs>\n</svg>\n"
          },
          "metadata": {}
        }
      ],
      "source": [
        "model = GoogleNet(lr=0.01)\n",
        "trainer = d2l.Trainer(max_epochs=10, num_gpus=1)\n",
        "data = d2l.FashionMNIST(batch_size=128, resize=(96, 96))\n",
        "model.apply_init([next(iter(data.get_dataloader(True)))[0]], d2l.init_cnn)\n",
        "trainer.fit(model, data)"
      ]
    },
    {
      "cell_type": "markdown",
      "metadata": {
        "id": "vgYl4vxYrkHn"
      },
      "source": [
        "# 8.5. Batch Normalization"
      ]
    },
    {
      "cell_type": "code",
      "execution_count": 26,
      "metadata": {
        "id": "rXohs4KZro-F"
      },
      "outputs": [],
      "source": [
        "import torch\n",
        "from torch import nn\n",
        "from d2l import torch as d2l"
      ]
    },
    {
      "cell_type": "markdown",
      "metadata": {
        "id": "WTiwr2BYrmgK"
      },
      "source": [
        "8.5.3. Implementation from Scratch"
      ]
    },
    {
      "cell_type": "code",
      "execution_count": 27,
      "metadata": {
        "id": "1IfDVMHBrmHZ"
      },
      "outputs": [],
      "source": [
        "def batch_norm(X, gamma, beta, moving_mean, moving_var, eps, momentum):\n",
        "    # Use is_grad_enabled to determine whether we are in training mode\n",
        "    if not torch.is_grad_enabled():\n",
        "        # In prediction mode, use mean and variance obtained by moving average\n",
        "        X_hat = (X - moving_mean) / torch.sqrt(moving_var + eps)\n",
        "    else:\n",
        "        assert len(X.shape) in (2, 4)\n",
        "        if len(X.shape) == 2:\n",
        "            # When using a fully connected layer, calculate the mean and\n",
        "            # variance on the feature dimension\n",
        "            mean = X.mean(dim=0)\n",
        "            var = ((X - mean) ** 2).mean(dim=0)\n",
        "        else:\n",
        "            # When using a two-dimensional convolutional layer, calculate the\n",
        "            # mean and variance on the channel dimension (axis=1). Here we\n",
        "            # need to maintain the shape of X, so that the broadcasting\n",
        "            # operation can be carried out later\n",
        "            mean = X.mean(dim=(0, 2, 3), keepdim=True)\n",
        "            var = ((X - mean) ** 2).mean(dim=(0, 2, 3), keepdim=True)\n",
        "        # In training mode, the current mean and variance are used\n",
        "        X_hat = (X - mean) / torch.sqrt(var + eps)\n",
        "        # Update the mean and variance using moving average\n",
        "        moving_mean = (1.0 - momentum) * moving_mean + momentum * mean\n",
        "        moving_var = (1.0 - momentum) * moving_var + momentum * var\n",
        "    Y = gamma * X_hat + beta  # Scale and shift\n",
        "    return Y, moving_mean.data, moving_var.data"
      ]
    },
    {
      "cell_type": "code",
      "execution_count": 28,
      "metadata": {
        "id": "C4T2gPtir9fq"
      },
      "outputs": [],
      "source": [
        "class BatchNorm(nn.Module):\n",
        "    # num_features: the number of outputs for a fully connected layer or the\n",
        "    # number of output channels for a convolutional layer. num_dims: 2 for a\n",
        "    # fully connected layer and 4 for a convolutional layer\n",
        "    def __init__(self, num_features, num_dims):\n",
        "        super().__init__()\n",
        "        if num_dims == 2:\n",
        "            shape = (1, num_features)\n",
        "        else:\n",
        "            shape = (1, num_features, 1, 1)\n",
        "        # The scale parameter and the shift parameter (model parameters) are\n",
        "        # initialized to 1 and 0, respectively\n",
        "        self.gamma = nn.Parameter(torch.ones(shape))\n",
        "        self.beta = nn.Parameter(torch.zeros(shape))\n",
        "        # The variables that are not model parameters are initialized to 0 and\n",
        "        # 1\n",
        "        self.moving_mean = torch.zeros(shape)\n",
        "        self.moving_var = torch.ones(shape)\n",
        "\n",
        "    def forward(self, X):\n",
        "        # If X is not on the main memory, copy moving_mean and moving_var to\n",
        "        # the device where X is located\n",
        "        if self.moving_mean.device != X.device:\n",
        "            self.moving_mean = self.moving_mean.to(X.device)\n",
        "            self.moving_var = self.moving_var.to(X.device)\n",
        "        # Save the updated moving_mean and moving_var\n",
        "        Y, self.moving_mean, self.moving_var = batch_norm(\n",
        "            X, self.gamma, self.beta, self.moving_mean,\n",
        "            self.moving_var, eps=1e-5, momentum=0.1)\n",
        "        return Y"
      ]
    },
    {
      "cell_type": "markdown",
      "metadata": {
        "id": "8rzE45cwsDxc"
      },
      "source": [
        "8.5.4. LeNet with Batch Normalization"
      ]
    },
    {
      "cell_type": "code",
      "execution_count": 29,
      "metadata": {
        "id": "AtY4F7pYsEUG"
      },
      "outputs": [],
      "source": [
        "class BNLeNetScratch(d2l.Classifier):\n",
        "    def __init__(self, lr=0.1, num_classes=10):\n",
        "        super().__init__()\n",
        "        self.save_hyperparameters()\n",
        "        self.net = nn.Sequential(\n",
        "            nn.LazyConv2d(6, kernel_size=5), BatchNorm(6, num_dims=4),\n",
        "            nn.Sigmoid(), nn.AvgPool2d(kernel_size=2, stride=2),\n",
        "            nn.LazyConv2d(16, kernel_size=5), BatchNorm(16, num_dims=4),\n",
        "            nn.Sigmoid(), nn.AvgPool2d(kernel_size=2, stride=2),\n",
        "            nn.Flatten(), nn.LazyLinear(120),\n",
        "            BatchNorm(120, num_dims=2), nn.Sigmoid(), nn.LazyLinear(84),\n",
        "            BatchNorm(84, num_dims=2), nn.Sigmoid(),\n",
        "            nn.LazyLinear(num_classes))"
      ]
    },
    {
      "cell_type": "code",
      "execution_count": 30,
      "metadata": {
        "id": "Mo0QjnsHsMz8",
        "colab": {
          "base_uri": "https://localhost:8080/",
          "height": 265
        },
        "outputId": "cb550e41-63ef-43ef-ebf9-2f81a6f2beb7"
      },
      "outputs": [
        {
          "output_type": "display_data",
          "data": {
            "text/plain": [
              "<Figure size 350x250 with 1 Axes>"
            ],
            "image/svg+xml": "<?xml version=\"1.0\" encoding=\"utf-8\" standalone=\"no\"?>\n<!DOCTYPE svg PUBLIC \"-//W3C//DTD SVG 1.1//EN\"\n  \"http://www.w3.org/Graphics/SVG/1.1/DTD/svg11.dtd\">\n<svg xmlns:xlink=\"http://www.w3.org/1999/xlink\" width=\"238.965625pt\" height=\"183.35625pt\" viewBox=\"0 0 238.965625 183.35625\" xmlns=\"http://www.w3.org/2000/svg\" version=\"1.1\">\n <metadata>\n  <rdf:RDF xmlns:dc=\"http://purl.org/dc/elements/1.1/\" xmlns:cc=\"http://creativecommons.org/ns#\" xmlns:rdf=\"http://www.w3.org/1999/02/22-rdf-syntax-ns#\">\n   <cc:Work>\n    <dc:type rdf:resource=\"http://purl.org/dc/dcmitype/StillImage\"/>\n    <dc:date>2024-10-04T13:25:05.142098</dc:date>\n    <dc:format>image/svg+xml</dc:format>\n    <dc:creator>\n     <cc:Agent>\n      <dc:title>Matplotlib v3.7.2, https://matplotlib.org/</dc:title>\n     </cc:Agent>\n    </dc:creator>\n   </cc:Work>\n  </rdf:RDF>\n </metadata>\n <defs>\n  <style type=\"text/css\">*{stroke-linejoin: round; stroke-linecap: butt}</style>\n </defs>\n <g id=\"figure_1\">\n  <g id=\"patch_1\">\n   <path d=\"M 0 183.35625 \nL 238.965625 183.35625 \nL 238.965625 0 \nL 0 0 \nz\n\" style=\"fill: #ffffff\"/>\n  </g>\n  <g id=\"axes_1\">\n   <g id=\"patch_2\">\n    <path d=\"M 30.103125 145.8 \nL 225.403125 145.8 \nL 225.403125 7.2 \nL 30.103125 7.2 \nz\n\" style=\"fill: #ffffff\"/>\n   </g>\n   <g id=\"matplotlib.axis_1\">\n    <g id=\"xtick_1\">\n     <g id=\"line2d_1\">\n      <defs>\n       <path id=\"m7d67273661\" d=\"M 0 0 \nL 0 3.5 \n\" style=\"stroke: #000000; stroke-width: 0.8\"/>\n      </defs>\n      <g>\n       <use xlink:href=\"#m7d67273661\" x=\"30.103125\" y=\"145.8\" style=\"stroke: #000000; stroke-width: 0.8\"/>\n      </g>\n     </g>\n     <g id=\"text_1\">\n      <!-- 0 -->\n      <g transform=\"translate(26.921875 160.398438) scale(0.1 -0.1)\">\n       <defs>\n        <path id=\"DejaVuSans-30\" d=\"M 2034 4250 \nQ 1547 4250 1301 3770 \nQ 1056 3291 1056 2328 \nQ 1056 1369 1301 889 \nQ 1547 409 2034 409 \nQ 2525 409 2770 889 \nQ 3016 1369 3016 2328 \nQ 3016 3291 2770 3770 \nQ 2525 4250 2034 4250 \nz\nM 2034 4750 \nQ 2819 4750 3233 4129 \nQ 3647 3509 3647 2328 \nQ 3647 1150 3233 529 \nQ 2819 -91 2034 -91 \nQ 1250 -91 836 529 \nQ 422 1150 422 2328 \nQ 422 3509 836 4129 \nQ 1250 4750 2034 4750 \nz\n\" transform=\"scale(0.015625)\"/>\n       </defs>\n       <use xlink:href=\"#DejaVuSans-30\"/>\n      </g>\n     </g>\n    </g>\n    <g id=\"xtick_2\">\n     <g id=\"line2d_2\">\n      <g>\n       <use xlink:href=\"#m7d67273661\" x=\"69.163125\" y=\"145.8\" style=\"stroke: #000000; stroke-width: 0.8\"/>\n      </g>\n     </g>\n     <g id=\"text_2\">\n      <!-- 2 -->\n      <g transform=\"translate(65.981875 160.398438) scale(0.1 -0.1)\">\n       <defs>\n        <path id=\"DejaVuSans-32\" d=\"M 1228 531 \nL 3431 531 \nL 3431 0 \nL 469 0 \nL 469 531 \nQ 828 903 1448 1529 \nQ 2069 2156 2228 2338 \nQ 2531 2678 2651 2914 \nQ 2772 3150 2772 3378 \nQ 2772 3750 2511 3984 \nQ 2250 4219 1831 4219 \nQ 1534 4219 1204 4116 \nQ 875 4013 500 3803 \nL 500 4441 \nQ 881 4594 1212 4672 \nQ 1544 4750 1819 4750 \nQ 2544 4750 2975 4387 \nQ 3406 4025 3406 3419 \nQ 3406 3131 3298 2873 \nQ 3191 2616 2906 2266 \nQ 2828 2175 2409 1742 \nQ 1991 1309 1228 531 \nz\n\" transform=\"scale(0.015625)\"/>\n       </defs>\n       <use xlink:href=\"#DejaVuSans-32\"/>\n      </g>\n     </g>\n    </g>\n    <g id=\"xtick_3\">\n     <g id=\"line2d_3\">\n      <g>\n       <use xlink:href=\"#m7d67273661\" x=\"108.223125\" y=\"145.8\" style=\"stroke: #000000; stroke-width: 0.8\"/>\n      </g>\n     </g>\n     <g id=\"text_3\">\n      <!-- 4 -->\n      <g transform=\"translate(105.041875 160.398438) scale(0.1 -0.1)\">\n       <defs>\n        <path id=\"DejaVuSans-34\" d=\"M 2419 4116 \nL 825 1625 \nL 2419 1625 \nL 2419 4116 \nz\nM 2253 4666 \nL 3047 4666 \nL 3047 1625 \nL 3713 1625 \nL 3713 1100 \nL 3047 1100 \nL 3047 0 \nL 2419 0 \nL 2419 1100 \nL 313 1100 \nL 313 1709 \nL 2253 4666 \nz\n\" transform=\"scale(0.015625)\"/>\n       </defs>\n       <use xlink:href=\"#DejaVuSans-34\"/>\n      </g>\n     </g>\n    </g>\n    <g id=\"xtick_4\">\n     <g id=\"line2d_4\">\n      <g>\n       <use xlink:href=\"#m7d67273661\" x=\"147.283125\" y=\"145.8\" style=\"stroke: #000000; stroke-width: 0.8\"/>\n      </g>\n     </g>\n     <g id=\"text_4\">\n      <!-- 6 -->\n      <g transform=\"translate(144.101875 160.398438) scale(0.1 -0.1)\">\n       <defs>\n        <path id=\"DejaVuSans-36\" d=\"M 2113 2584 \nQ 1688 2584 1439 2293 \nQ 1191 2003 1191 1497 \nQ 1191 994 1439 701 \nQ 1688 409 2113 409 \nQ 2538 409 2786 701 \nQ 3034 994 3034 1497 \nQ 3034 2003 2786 2293 \nQ 2538 2584 2113 2584 \nz\nM 3366 4563 \nL 3366 3988 \nQ 3128 4100 2886 4159 \nQ 2644 4219 2406 4219 \nQ 1781 4219 1451 3797 \nQ 1122 3375 1075 2522 \nQ 1259 2794 1537 2939 \nQ 1816 3084 2150 3084 \nQ 2853 3084 3261 2657 \nQ 3669 2231 3669 1497 \nQ 3669 778 3244 343 \nQ 2819 -91 2113 -91 \nQ 1303 -91 875 529 \nQ 447 1150 447 2328 \nQ 447 3434 972 4092 \nQ 1497 4750 2381 4750 \nQ 2619 4750 2861 4703 \nQ 3103 4656 3366 4563 \nz\n\" transform=\"scale(0.015625)\"/>\n       </defs>\n       <use xlink:href=\"#DejaVuSans-36\"/>\n      </g>\n     </g>\n    </g>\n    <g id=\"xtick_5\">\n     <g id=\"line2d_5\">\n      <g>\n       <use xlink:href=\"#m7d67273661\" x=\"186.343125\" y=\"145.8\" style=\"stroke: #000000; stroke-width: 0.8\"/>\n      </g>\n     </g>\n     <g id=\"text_5\">\n      <!-- 8 -->\n      <g transform=\"translate(183.161875 160.398438) scale(0.1 -0.1)\">\n       <defs>\n        <path id=\"DejaVuSans-38\" d=\"M 2034 2216 \nQ 1584 2216 1326 1975 \nQ 1069 1734 1069 1313 \nQ 1069 891 1326 650 \nQ 1584 409 2034 409 \nQ 2484 409 2743 651 \nQ 3003 894 3003 1313 \nQ 3003 1734 2745 1975 \nQ 2488 2216 2034 2216 \nz\nM 1403 2484 \nQ 997 2584 770 2862 \nQ 544 3141 544 3541 \nQ 544 4100 942 4425 \nQ 1341 4750 2034 4750 \nQ 2731 4750 3128 4425 \nQ 3525 4100 3525 3541 \nQ 3525 3141 3298 2862 \nQ 3072 2584 2669 2484 \nQ 3125 2378 3379 2068 \nQ 3634 1759 3634 1313 \nQ 3634 634 3220 271 \nQ 2806 -91 2034 -91 \nQ 1263 -91 848 271 \nQ 434 634 434 1313 \nQ 434 1759 690 2068 \nQ 947 2378 1403 2484 \nz\nM 1172 3481 \nQ 1172 3119 1398 2916 \nQ 1625 2713 2034 2713 \nQ 2441 2713 2670 2916 \nQ 2900 3119 2900 3481 \nQ 2900 3844 2670 4047 \nQ 2441 4250 2034 4250 \nQ 1625 4250 1398 4047 \nQ 1172 3844 1172 3481 \nz\n\" transform=\"scale(0.015625)\"/>\n       </defs>\n       <use xlink:href=\"#DejaVuSans-38\"/>\n      </g>\n     </g>\n    </g>\n    <g id=\"xtick_6\">\n     <g id=\"line2d_6\">\n      <g>\n       <use xlink:href=\"#m7d67273661\" x=\"225.403125\" y=\"145.8\" style=\"stroke: #000000; stroke-width: 0.8\"/>\n      </g>\n     </g>\n     <g id=\"text_6\">\n      <!-- 10 -->\n      <g transform=\"translate(219.040625 160.398438) scale(0.1 -0.1)\">\n       <defs>\n        <path id=\"DejaVuSans-31\" d=\"M 794 531 \nL 1825 531 \nL 1825 4091 \nL 703 3866 \nL 703 4441 \nL 1819 4666 \nL 2450 4666 \nL 2450 531 \nL 3481 531 \nL 3481 0 \nL 794 0 \nL 794 531 \nz\n\" transform=\"scale(0.015625)\"/>\n       </defs>\n       <use xlink:href=\"#DejaVuSans-31\"/>\n       <use xlink:href=\"#DejaVuSans-30\" x=\"63.623047\"/>\n      </g>\n     </g>\n    </g>\n    <g id=\"text_7\">\n     <!-- epoch -->\n     <g transform=\"translate(112.525 174.076563) scale(0.1 -0.1)\">\n      <defs>\n       <path id=\"DejaVuSans-65\" d=\"M 3597 1894 \nL 3597 1613 \nL 953 1613 \nQ 991 1019 1311 708 \nQ 1631 397 2203 397 \nQ 2534 397 2845 478 \nQ 3156 559 3463 722 \nL 3463 178 \nQ 3153 47 2828 -22 \nQ 2503 -91 2169 -91 \nQ 1331 -91 842 396 \nQ 353 884 353 1716 \nQ 353 2575 817 3079 \nQ 1281 3584 2069 3584 \nQ 2775 3584 3186 3129 \nQ 3597 2675 3597 1894 \nz\nM 3022 2063 \nQ 3016 2534 2758 2815 \nQ 2500 3097 2075 3097 \nQ 1594 3097 1305 2825 \nQ 1016 2553 972 2059 \nL 3022 2063 \nz\n\" transform=\"scale(0.015625)\"/>\n       <path id=\"DejaVuSans-70\" d=\"M 1159 525 \nL 1159 -1331 \nL 581 -1331 \nL 581 3500 \nL 1159 3500 \nL 1159 2969 \nQ 1341 3281 1617 3432 \nQ 1894 3584 2278 3584 \nQ 2916 3584 3314 3078 \nQ 3713 2572 3713 1747 \nQ 3713 922 3314 415 \nQ 2916 -91 2278 -91 \nQ 1894 -91 1617 61 \nQ 1341 213 1159 525 \nz\nM 3116 1747 \nQ 3116 2381 2855 2742 \nQ 2594 3103 2138 3103 \nQ 1681 3103 1420 2742 \nQ 1159 2381 1159 1747 \nQ 1159 1113 1420 752 \nQ 1681 391 2138 391 \nQ 2594 391 2855 752 \nQ 3116 1113 3116 1747 \nz\n\" transform=\"scale(0.015625)\"/>\n       <path id=\"DejaVuSans-6f\" d=\"M 1959 3097 \nQ 1497 3097 1228 2736 \nQ 959 2375 959 1747 \nQ 959 1119 1226 758 \nQ 1494 397 1959 397 \nQ 2419 397 2687 759 \nQ 2956 1122 2956 1747 \nQ 2956 2369 2687 2733 \nQ 2419 3097 1959 3097 \nz\nM 1959 3584 \nQ 2709 3584 3137 3096 \nQ 3566 2609 3566 1747 \nQ 3566 888 3137 398 \nQ 2709 -91 1959 -91 \nQ 1206 -91 779 398 \nQ 353 888 353 1747 \nQ 353 2609 779 3096 \nQ 1206 3584 1959 3584 \nz\n\" transform=\"scale(0.015625)\"/>\n       <path id=\"DejaVuSans-63\" d=\"M 3122 3366 \nL 3122 2828 \nQ 2878 2963 2633 3030 \nQ 2388 3097 2138 3097 \nQ 1578 3097 1268 2742 \nQ 959 2388 959 1747 \nQ 959 1106 1268 751 \nQ 1578 397 2138 397 \nQ 2388 397 2633 464 \nQ 2878 531 3122 666 \nL 3122 134 \nQ 2881 22 2623 -34 \nQ 2366 -91 2075 -91 \nQ 1284 -91 818 406 \nQ 353 903 353 1747 \nQ 353 2603 823 3093 \nQ 1294 3584 2113 3584 \nQ 2378 3584 2631 3529 \nQ 2884 3475 3122 3366 \nz\n\" transform=\"scale(0.015625)\"/>\n       <path id=\"DejaVuSans-68\" d=\"M 3513 2113 \nL 3513 0 \nL 2938 0 \nL 2938 2094 \nQ 2938 2591 2744 2837 \nQ 2550 3084 2163 3084 \nQ 1697 3084 1428 2787 \nQ 1159 2491 1159 1978 \nL 1159 0 \nL 581 0 \nL 581 4863 \nL 1159 4863 \nL 1159 2956 \nQ 1366 3272 1645 3428 \nQ 1925 3584 2291 3584 \nQ 2894 3584 3203 3211 \nQ 3513 2838 3513 2113 \nz\n\" transform=\"scale(0.015625)\"/>\n      </defs>\n      <use xlink:href=\"#DejaVuSans-65\"/>\n      <use xlink:href=\"#DejaVuSans-70\" x=\"61.523438\"/>\n      <use xlink:href=\"#DejaVuSans-6f\" x=\"125\"/>\n      <use xlink:href=\"#DejaVuSans-63\" x=\"186.181641\"/>\n      <use xlink:href=\"#DejaVuSans-68\" x=\"241.162109\"/>\n     </g>\n    </g>\n   </g>\n   <g id=\"matplotlib.axis_2\">\n    <g id=\"ytick_1\">\n     <g id=\"line2d_7\">\n      <defs>\n       <path id=\"md8d98b4051\" d=\"M 0 0 \nL -3.5 0 \n\" style=\"stroke: #000000; stroke-width: 0.8\"/>\n      </defs>\n      <g>\n       <use xlink:href=\"#md8d98b4051\" x=\"30.103125\" y=\"119.746463\" style=\"stroke: #000000; stroke-width: 0.8\"/>\n      </g>\n     </g>\n     <g id=\"text_8\">\n      <!-- 0.4 -->\n      <g transform=\"translate(7.2 123.545681) scale(0.1 -0.1)\">\n       <defs>\n        <path id=\"DejaVuSans-2e\" d=\"M 684 794 \nL 1344 794 \nL 1344 0 \nL 684 0 \nL 684 794 \nz\n\" transform=\"scale(0.015625)\"/>\n       </defs>\n       <use xlink:href=\"#DejaVuSans-30\"/>\n       <use xlink:href=\"#DejaVuSans-2e\" x=\"63.623047\"/>\n       <use xlink:href=\"#DejaVuSans-34\" x=\"95.410156\"/>\n      </g>\n     </g>\n    </g>\n    <g id=\"ytick_2\">\n     <g id=\"line2d_8\">\n      <g>\n       <use xlink:href=\"#md8d98b4051\" x=\"30.103125\" y=\"80.987398\" style=\"stroke: #000000; stroke-width: 0.8\"/>\n      </g>\n     </g>\n     <g id=\"text_9\">\n      <!-- 0.6 -->\n      <g transform=\"translate(7.2 84.786617) scale(0.1 -0.1)\">\n       <use xlink:href=\"#DejaVuSans-30\"/>\n       <use xlink:href=\"#DejaVuSans-2e\" x=\"63.623047\"/>\n       <use xlink:href=\"#DejaVuSans-36\" x=\"95.410156\"/>\n      </g>\n     </g>\n    </g>\n    <g id=\"ytick_3\">\n     <g id=\"line2d_9\">\n      <g>\n       <use xlink:href=\"#md8d98b4051\" x=\"30.103125\" y=\"42.228333\" style=\"stroke: #000000; stroke-width: 0.8\"/>\n      </g>\n     </g>\n     <g id=\"text_10\">\n      <!-- 0.8 -->\n      <g transform=\"translate(7.2 46.027552) scale(0.1 -0.1)\">\n       <use xlink:href=\"#DejaVuSans-30\"/>\n       <use xlink:href=\"#DejaVuSans-2e\" x=\"63.623047\"/>\n       <use xlink:href=\"#DejaVuSans-38\" x=\"95.410156\"/>\n      </g>\n     </g>\n    </g>\n   </g>\n   <g id=\"line2d_10\">\n    <path d=\"M 34.954394 13.5 \n\" clip-path=\"url(#p3e7a938dc2)\" style=\"fill: none; stroke: #1f77b4; stroke-width: 1.5; stroke-linecap: square\"/>\n   </g>\n   <g id=\"line2d_11\">\n    <path d=\"M 34.954394 13.5 \nL 44.698573 78.326058 \n\" clip-path=\"url(#p3e7a938dc2)\" style=\"fill: none; stroke: #1f77b4; stroke-width: 1.5; stroke-linecap: square\"/>\n   </g>\n   <g id=\"line2d_12\">\n    <path d=\"M 34.954394 13.5 \nL 44.698573 78.326058 \n\" clip-path=\"url(#p3e7a938dc2)\" style=\"fill: none; stroke: #1f77b4; stroke-width: 1.5; stroke-linecap: square\"/>\n   </g>\n   <g id=\"line2d_13\">\n    <path d=\"M 49.633125 81.933343 \n\" clip-path=\"url(#p3e7a938dc2)\" style=\"fill: none; stroke-dasharray: 5.55,2.4; stroke-dashoffset: 0; stroke: #ff7f0e; stroke-width: 1.5\"/>\n   </g>\n   <g id=\"line2d_14\"/>\n   <g id=\"line2d_15\">\n    <path d=\"M 34.954394 13.5 \nL 44.698573 78.326058 \n\" clip-path=\"url(#p3e7a938dc2)\" style=\"fill: none; stroke: #1f77b4; stroke-width: 1.5; stroke-linecap: square\"/>\n   </g>\n   <g id=\"line2d_16\">\n    <path d=\"M 49.633125 81.933343 \n\" clip-path=\"url(#p3e7a938dc2)\" style=\"fill: none; stroke-dasharray: 5.55,2.4; stroke-dashoffset: 0; stroke: #ff7f0e; stroke-width: 1.5\"/>\n   </g>\n   <g id=\"line2d_17\">\n    <path d=\"M 49.633125 41.779875 \n\" clip-path=\"url(#p3e7a938dc2)\" style=\"fill: none; stroke-dasharray: 9.6,2.4,1.5,2.4; stroke-dashoffset: 0; stroke: #2ca02c; stroke-width: 1.5\"/>\n   </g>\n   <g id=\"line2d_18\">\n    <path d=\"M 34.954394 13.5 \nL 44.698573 78.326058 \nL 54.442752 94.095258 \n\" clip-path=\"url(#p3e7a938dc2)\" style=\"fill: none; stroke: #1f77b4; stroke-width: 1.5; stroke-linecap: square\"/>\n   </g>\n   <g id=\"line2d_19\">\n    <path d=\"M 49.633125 81.933343 \n\" clip-path=\"url(#p3e7a938dc2)\" style=\"fill: none; stroke-dasharray: 5.55,2.4; stroke-dashoffset: 0; stroke: #ff7f0e; stroke-width: 1.5\"/>\n   </g>\n   <g id=\"line2d_20\">\n    <path d=\"M 49.633125 41.779875 \n\" clip-path=\"url(#p3e7a938dc2)\" style=\"fill: none; stroke-dasharray: 9.6,2.4,1.5,2.4; stroke-dashoffset: 0; stroke: #2ca02c; stroke-width: 1.5\"/>\n   </g>\n   <g id=\"line2d_21\">\n    <path d=\"M 34.954394 13.5 \nL 44.698573 78.326058 \nL 54.442752 94.095258 \nL 64.186931 104.352604 \n\" clip-path=\"url(#p3e7a938dc2)\" style=\"fill: none; stroke: #1f77b4; stroke-width: 1.5; stroke-linecap: square\"/>\n   </g>\n   <g id=\"line2d_22\">\n    <path d=\"M 49.633125 81.933343 \n\" clip-path=\"url(#p3e7a938dc2)\" style=\"fill: none; stroke-dasharray: 5.55,2.4; stroke-dashoffset: 0; stroke: #ff7f0e; stroke-width: 1.5\"/>\n   </g>\n   <g id=\"line2d_23\">\n    <path d=\"M 49.633125 41.779875 \n\" clip-path=\"url(#p3e7a938dc2)\" style=\"fill: none; stroke-dasharray: 9.6,2.4,1.5,2.4; stroke-dashoffset: 0; stroke: #2ca02c; stroke-width: 1.5\"/>\n   </g>\n   <g id=\"line2d_24\">\n    <path d=\"M 34.954394 13.5 \nL 44.698573 78.326058 \nL 54.442752 94.095258 \nL 64.186931 104.352604 \n\" clip-path=\"url(#p3e7a938dc2)\" style=\"fill: none; stroke: #1f77b4; stroke-width: 1.5; stroke-linecap: square\"/>\n   </g>\n   <g id=\"line2d_25\">\n    <path d=\"M 49.633125 81.933343 \nL 69.163125 77.59335 \n\" clip-path=\"url(#p3e7a938dc2)\" style=\"fill: none; stroke-dasharray: 5.55,2.4; stroke-dashoffset: 0; stroke: #ff7f0e; stroke-width: 1.5\"/>\n   </g>\n   <g id=\"line2d_26\">\n    <path d=\"M 49.633125 41.779875 \n\" clip-path=\"url(#p3e7a938dc2)\" style=\"fill: none; stroke-dasharray: 9.6,2.4,1.5,2.4; stroke-dashoffset: 0; stroke: #2ca02c; stroke-width: 1.5\"/>\n   </g>\n   <g id=\"line2d_27\">\n    <path d=\"M 34.954394 13.5 \nL 44.698573 78.326058 \nL 54.442752 94.095258 \nL 64.186931 104.352604 \n\" clip-path=\"url(#p3e7a938dc2)\" style=\"fill: none; stroke: #1f77b4; stroke-width: 1.5; stroke-linecap: square\"/>\n   </g>\n   <g id=\"line2d_28\">\n    <path d=\"M 49.633125 81.933343 \nL 69.163125 77.59335 \n\" clip-path=\"url(#p3e7a938dc2)\" style=\"fill: none; stroke-dasharray: 5.55,2.4; stroke-dashoffset: 0; stroke: #ff7f0e; stroke-width: 1.5\"/>\n   </g>\n   <g id=\"line2d_29\">\n    <path d=\"M 49.633125 41.779875 \nL 69.163125 43.504715 \n\" clip-path=\"url(#p3e7a938dc2)\" style=\"fill: none; stroke-dasharray: 9.6,2.4,1.5,2.4; stroke-dashoffset: 0; stroke: #2ca02c; stroke-width: 1.5\"/>\n   </g>\n   <g id=\"line2d_30\">\n    <path d=\"M 34.954394 13.5 \nL 44.698573 78.326058 \nL 54.442752 94.095258 \nL 64.186931 104.352604 \nL 73.93111 109.306084 \n\" clip-path=\"url(#p3e7a938dc2)\" style=\"fill: none; stroke: #1f77b4; stroke-width: 1.5; stroke-linecap: square\"/>\n   </g>\n   <g id=\"line2d_31\">\n    <path d=\"M 49.633125 81.933343 \nL 69.163125 77.59335 \n\" clip-path=\"url(#p3e7a938dc2)\" style=\"fill: none; stroke-dasharray: 5.55,2.4; stroke-dashoffset: 0; stroke: #ff7f0e; stroke-width: 1.5\"/>\n   </g>\n   <g id=\"line2d_32\">\n    <path d=\"M 49.633125 41.779875 \nL 69.163125 43.504715 \n\" clip-path=\"url(#p3e7a938dc2)\" style=\"fill: none; stroke-dasharray: 9.6,2.4,1.5,2.4; stroke-dashoffset: 0; stroke: #2ca02c; stroke-width: 1.5\"/>\n   </g>\n   <g id=\"line2d_33\">\n    <path d=\"M 34.954394 13.5 \nL 44.698573 78.326058 \nL 54.442752 94.095258 \nL 64.186931 104.352604 \nL 73.93111 109.306084 \nL 83.675289 114.531565 \n\" clip-path=\"url(#p3e7a938dc2)\" style=\"fill: none; stroke: #1f77b4; stroke-width: 1.5; stroke-linecap: square\"/>\n   </g>\n   <g id=\"line2d_34\">\n    <path d=\"M 49.633125 81.933343 \nL 69.163125 77.59335 \n\" clip-path=\"url(#p3e7a938dc2)\" style=\"fill: none; stroke-dasharray: 5.55,2.4; stroke-dashoffset: 0; stroke: #ff7f0e; stroke-width: 1.5\"/>\n   </g>\n   <g id=\"line2d_35\">\n    <path d=\"M 49.633125 41.779875 \nL 69.163125 43.504715 \n\" clip-path=\"url(#p3e7a938dc2)\" style=\"fill: none; stroke-dasharray: 9.6,2.4,1.5,2.4; stroke-dashoffset: 0; stroke: #2ca02c; stroke-width: 1.5\"/>\n   </g>\n   <g id=\"line2d_36\">\n    <path d=\"M 34.954394 13.5 \nL 44.698573 78.326058 \nL 54.442752 94.095258 \nL 64.186931 104.352604 \nL 73.93111 109.306084 \nL 83.675289 114.531565 \n\" clip-path=\"url(#p3e7a938dc2)\" style=\"fill: none; stroke: #1f77b4; stroke-width: 1.5; stroke-linecap: square\"/>\n   </g>\n   <g id=\"line2d_37\">\n    <path d=\"M 49.633125 81.933343 \nL 69.163125 77.59335 \nL 88.693125 98.831857 \n\" clip-path=\"url(#p3e7a938dc2)\" style=\"fill: none; stroke-dasharray: 5.55,2.4; stroke-dashoffset: 0; stroke: #ff7f0e; stroke-width: 1.5\"/>\n   </g>\n   <g id=\"line2d_38\">\n    <path d=\"M 49.633125 41.779875 \nL 69.163125 43.504715 \n\" clip-path=\"url(#p3e7a938dc2)\" style=\"fill: none; stroke-dasharray: 9.6,2.4,1.5,2.4; stroke-dashoffset: 0; stroke: #2ca02c; stroke-width: 1.5\"/>\n   </g>\n   <g id=\"line2d_39\">\n    <path d=\"M 34.954394 13.5 \nL 44.698573 78.326058 \nL 54.442752 94.095258 \nL 64.186931 104.352604 \nL 73.93111 109.306084 \nL 83.675289 114.531565 \n\" clip-path=\"url(#p3e7a938dc2)\" style=\"fill: none; stroke: #1f77b4; stroke-width: 1.5; stroke-linecap: square\"/>\n   </g>\n   <g id=\"line2d_40\">\n    <path d=\"M 49.633125 81.933343 \nL 69.163125 77.59335 \nL 88.693125 98.831857 \n\" clip-path=\"url(#p3e7a938dc2)\" style=\"fill: none; stroke-dasharray: 5.55,2.4; stroke-dashoffset: 0; stroke: #ff7f0e; stroke-width: 1.5\"/>\n   </g>\n   <g id=\"line2d_41\">\n    <path d=\"M 49.633125 41.779875 \nL 69.163125 43.504715 \nL 88.693125 37.831909 \n\" clip-path=\"url(#p3e7a938dc2)\" style=\"fill: none; stroke-dasharray: 9.6,2.4,1.5,2.4; stroke-dashoffset: 0; stroke: #2ca02c; stroke-width: 1.5\"/>\n   </g>\n   <g id=\"line2d_42\">\n    <path d=\"M 34.954394 13.5 \nL 44.698573 78.326058 \nL 54.442752 94.095258 \nL 64.186931 104.352604 \nL 73.93111 109.306084 \nL 83.675289 114.531565 \nL 93.419468 118.862687 \n\" clip-path=\"url(#p3e7a938dc2)\" style=\"fill: none; stroke: #1f77b4; stroke-width: 1.5; stroke-linecap: square\"/>\n   </g>\n   <g id=\"line2d_43\">\n    <path d=\"M 49.633125 81.933343 \nL 69.163125 77.59335 \nL 88.693125 98.831857 \n\" clip-path=\"url(#p3e7a938dc2)\" style=\"fill: none; stroke-dasharray: 5.55,2.4; stroke-dashoffset: 0; stroke: #ff7f0e; stroke-width: 1.5\"/>\n   </g>\n   <g id=\"line2d_44\">\n    <path d=\"M 49.633125 41.779875 \nL 69.163125 43.504715 \nL 88.693125 37.831909 \n\" clip-path=\"url(#p3e7a938dc2)\" style=\"fill: none; stroke-dasharray: 9.6,2.4,1.5,2.4; stroke-dashoffset: 0; stroke: #2ca02c; stroke-width: 1.5\"/>\n   </g>\n   <g id=\"line2d_45\">\n    <path d=\"M 34.954394 13.5 \nL 44.698573 78.326058 \nL 54.442752 94.095258 \nL 64.186931 104.352604 \nL 73.93111 109.306084 \nL 83.675289 114.531565 \nL 93.419468 118.862687 \nL 103.163647 119.839576 \n\" clip-path=\"url(#p3e7a938dc2)\" style=\"fill: none; stroke: #1f77b4; stroke-width: 1.5; stroke-linecap: square\"/>\n   </g>\n   <g id=\"line2d_46\">\n    <path d=\"M 49.633125 81.933343 \nL 69.163125 77.59335 \nL 88.693125 98.831857 \n\" clip-path=\"url(#p3e7a938dc2)\" style=\"fill: none; stroke-dasharray: 5.55,2.4; stroke-dashoffset: 0; stroke: #ff7f0e; stroke-width: 1.5\"/>\n   </g>\n   <g id=\"line2d_47\">\n    <path d=\"M 49.633125 41.779875 \nL 69.163125 43.504715 \nL 88.693125 37.831909 \n\" clip-path=\"url(#p3e7a938dc2)\" style=\"fill: none; stroke-dasharray: 9.6,2.4,1.5,2.4; stroke-dashoffset: 0; stroke: #2ca02c; stroke-width: 1.5\"/>\n   </g>\n   <g id=\"line2d_48\">\n    <path d=\"M 34.954394 13.5 \nL 44.698573 78.326058 \nL 54.442752 94.095258 \nL 64.186931 104.352604 \nL 73.93111 109.306084 \nL 83.675289 114.531565 \nL 93.419468 118.862687 \nL 103.163647 119.839576 \n\" clip-path=\"url(#p3e7a938dc2)\" style=\"fill: none; stroke: #1f77b4; stroke-width: 1.5; stroke-linecap: square\"/>\n   </g>\n   <g id=\"line2d_49\">\n    <path d=\"M 49.633125 81.933343 \nL 69.163125 77.59335 \nL 88.693125 98.831857 \nL 108.223125 105.102371 \n\" clip-path=\"url(#p3e7a938dc2)\" style=\"fill: none; stroke-dasharray: 5.55,2.4; stroke-dashoffset: 0; stroke: #ff7f0e; stroke-width: 1.5\"/>\n   </g>\n   <g id=\"line2d_50\">\n    <path d=\"M 49.633125 41.779875 \nL 69.163125 43.504715 \nL 88.693125 37.831909 \n\" clip-path=\"url(#p3e7a938dc2)\" style=\"fill: none; stroke-dasharray: 9.6,2.4,1.5,2.4; stroke-dashoffset: 0; stroke: #2ca02c; stroke-width: 1.5\"/>\n   </g>\n   <g id=\"line2d_51\">\n    <path d=\"M 34.954394 13.5 \nL 44.698573 78.326058 \nL 54.442752 94.095258 \nL 64.186931 104.352604 \nL 73.93111 109.306084 \nL 83.675289 114.531565 \nL 93.419468 118.862687 \nL 103.163647 119.839576 \n\" clip-path=\"url(#p3e7a938dc2)\" style=\"fill: none; stroke: #1f77b4; stroke-width: 1.5; stroke-linecap: square\"/>\n   </g>\n   <g id=\"line2d_52\">\n    <path d=\"M 49.633125 81.933343 \nL 69.163125 77.59335 \nL 88.693125 98.831857 \nL 108.223125 105.102371 \n\" clip-path=\"url(#p3e7a938dc2)\" style=\"fill: none; stroke-dasharray: 5.55,2.4; stroke-dashoffset: 0; stroke: #ff7f0e; stroke-width: 1.5\"/>\n   </g>\n   <g id=\"line2d_53\">\n    <path d=\"M 49.633125 41.779875 \nL 69.163125 43.504715 \nL 88.693125 37.831909 \nL 108.223125 34.478054 \n\" clip-path=\"url(#p3e7a938dc2)\" style=\"fill: none; stroke-dasharray: 9.6,2.4,1.5,2.4; stroke-dashoffset: 0; stroke: #2ca02c; stroke-width: 1.5\"/>\n   </g>\n   <g id=\"line2d_54\">\n    <path d=\"M 34.954394 13.5 \nL 44.698573 78.326058 \nL 54.442752 94.095258 \nL 64.186931 104.352604 \nL 73.93111 109.306084 \nL 83.675289 114.531565 \nL 93.419468 118.862687 \nL 103.163647 119.839576 \nL 112.907826 123.941513 \n\" clip-path=\"url(#p3e7a938dc2)\" style=\"fill: none; stroke: #1f77b4; stroke-width: 1.5; stroke-linecap: square\"/>\n   </g>\n   <g id=\"line2d_55\">\n    <path d=\"M 49.633125 81.933343 \nL 69.163125 77.59335 \nL 88.693125 98.831857 \nL 108.223125 105.102371 \n\" clip-path=\"url(#p3e7a938dc2)\" style=\"fill: none; stroke-dasharray: 5.55,2.4; stroke-dashoffset: 0; stroke: #ff7f0e; stroke-width: 1.5\"/>\n   </g>\n   <g id=\"line2d_56\">\n    <path d=\"M 49.633125 41.779875 \nL 69.163125 43.504715 \nL 88.693125 37.831909 \nL 108.223125 34.478054 \n\" clip-path=\"url(#p3e7a938dc2)\" style=\"fill: none; stroke-dasharray: 9.6,2.4,1.5,2.4; stroke-dashoffset: 0; stroke: #2ca02c; stroke-width: 1.5\"/>\n   </g>\n   <g id=\"line2d_57\">\n    <path d=\"M 34.954394 13.5 \nL 44.698573 78.326058 \nL 54.442752 94.095258 \nL 64.186931 104.352604 \nL 73.93111 109.306084 \nL 83.675289 114.531565 \nL 93.419468 118.862687 \nL 103.163647 119.839576 \nL 112.907826 123.941513 \nL 122.652006 125.750211 \n\" clip-path=\"url(#p3e7a938dc2)\" style=\"fill: none; stroke: #1f77b4; stroke-width: 1.5; stroke-linecap: square\"/>\n   </g>\n   <g id=\"line2d_58\">\n    <path d=\"M 49.633125 81.933343 \nL 69.163125 77.59335 \nL 88.693125 98.831857 \nL 108.223125 105.102371 \n\" clip-path=\"url(#p3e7a938dc2)\" style=\"fill: none; stroke-dasharray: 5.55,2.4; stroke-dashoffset: 0; stroke: #ff7f0e; stroke-width: 1.5\"/>\n   </g>\n   <g id=\"line2d_59\">\n    <path d=\"M 49.633125 41.779875 \nL 69.163125 43.504715 \nL 88.693125 37.831909 \nL 108.223125 34.478054 \n\" clip-path=\"url(#p3e7a938dc2)\" style=\"fill: none; stroke-dasharray: 9.6,2.4,1.5,2.4; stroke-dashoffset: 0; stroke: #2ca02c; stroke-width: 1.5\"/>\n   </g>\n   <g id=\"line2d_60\">\n    <path d=\"M 34.954394 13.5 \nL 44.698573 78.326058 \nL 54.442752 94.095258 \nL 64.186931 104.352604 \nL 73.93111 109.306084 \nL 83.675289 114.531565 \nL 93.419468 118.862687 \nL 103.163647 119.839576 \nL 112.907826 123.941513 \nL 122.652006 125.750211 \n\" clip-path=\"url(#p3e7a938dc2)\" style=\"fill: none; stroke: #1f77b4; stroke-width: 1.5; stroke-linecap: square\"/>\n   </g>\n   <g id=\"line2d_61\">\n    <path d=\"M 49.633125 81.933343 \nL 69.163125 77.59335 \nL 88.693125 98.831857 \nL 108.223125 105.102371 \nL 127.753125 104.008794 \n\" clip-path=\"url(#p3e7a938dc2)\" style=\"fill: none; stroke-dasharray: 5.55,2.4; stroke-dashoffset: 0; stroke: #ff7f0e; stroke-width: 1.5\"/>\n   </g>\n   <g id=\"line2d_62\">\n    <path d=\"M 49.633125 41.779875 \nL 69.163125 43.504715 \nL 88.693125 37.831909 \nL 108.223125 34.478054 \n\" clip-path=\"url(#p3e7a938dc2)\" style=\"fill: none; stroke-dasharray: 9.6,2.4,1.5,2.4; stroke-dashoffset: 0; stroke: #2ca02c; stroke-width: 1.5\"/>\n   </g>\n   <g id=\"line2d_63\">\n    <path d=\"M 34.954394 13.5 \nL 44.698573 78.326058 \nL 54.442752 94.095258 \nL 64.186931 104.352604 \nL 73.93111 109.306084 \nL 83.675289 114.531565 \nL 93.419468 118.862687 \nL 103.163647 119.839576 \nL 112.907826 123.941513 \nL 122.652006 125.750211 \n\" clip-path=\"url(#p3e7a938dc2)\" style=\"fill: none; stroke: #1f77b4; stroke-width: 1.5; stroke-linecap: square\"/>\n   </g>\n   <g id=\"line2d_64\">\n    <path d=\"M 49.633125 81.933343 \nL 69.163125 77.59335 \nL 88.693125 98.831857 \nL 108.223125 105.102371 \nL 127.753125 104.008794 \n\" clip-path=\"url(#p3e7a938dc2)\" style=\"fill: none; stroke-dasharray: 5.55,2.4; stroke-dashoffset: 0; stroke: #ff7f0e; stroke-width: 1.5\"/>\n   </g>\n   <g id=\"line2d_65\">\n    <path d=\"M 49.633125 41.779875 \nL 69.163125 43.504715 \nL 88.693125 37.831909 \nL 108.223125 34.478054 \nL 127.753125 39.192616 \n\" clip-path=\"url(#p3e7a938dc2)\" style=\"fill: none; stroke-dasharray: 9.6,2.4,1.5,2.4; stroke-dashoffset: 0; stroke: #2ca02c; stroke-width: 1.5\"/>\n   </g>\n   <g id=\"line2d_66\">\n    <path d=\"M 34.954394 13.5 \nL 44.698573 78.326058 \nL 54.442752 94.095258 \nL 64.186931 104.352604 \nL 73.93111 109.306084 \nL 83.675289 114.531565 \nL 93.419468 118.862687 \nL 103.163647 119.839576 \nL 112.907826 123.941513 \nL 122.652006 125.750211 \nL 132.396185 128.136993 \n\" clip-path=\"url(#p3e7a938dc2)\" style=\"fill: none; stroke: #1f77b4; stroke-width: 1.5; stroke-linecap: square\"/>\n   </g>\n   <g id=\"line2d_67\">\n    <path d=\"M 49.633125 81.933343 \nL 69.163125 77.59335 \nL 88.693125 98.831857 \nL 108.223125 105.102371 \nL 127.753125 104.008794 \n\" clip-path=\"url(#p3e7a938dc2)\" style=\"fill: none; stroke-dasharray: 5.55,2.4; stroke-dashoffset: 0; stroke: #ff7f0e; stroke-width: 1.5\"/>\n   </g>\n   <g id=\"line2d_68\">\n    <path d=\"M 49.633125 41.779875 \nL 69.163125 43.504715 \nL 88.693125 37.831909 \nL 108.223125 34.478054 \nL 127.753125 39.192616 \n\" clip-path=\"url(#p3e7a938dc2)\" style=\"fill: none; stroke-dasharray: 9.6,2.4,1.5,2.4; stroke-dashoffset: 0; stroke: #2ca02c; stroke-width: 1.5\"/>\n   </g>\n   <g id=\"line2d_69\">\n    <path d=\"M 34.954394 13.5 \nL 44.698573 78.326058 \nL 54.442752 94.095258 \nL 64.186931 104.352604 \nL 73.93111 109.306084 \nL 83.675289 114.531565 \nL 93.419468 118.862687 \nL 103.163647 119.839576 \nL 112.907826 123.941513 \nL 122.652006 125.750211 \nL 132.396185 128.136993 \nL 142.140364 129.694003 \n\" clip-path=\"url(#p3e7a938dc2)\" style=\"fill: none; stroke: #1f77b4; stroke-width: 1.5; stroke-linecap: square\"/>\n   </g>\n   <g id=\"line2d_70\">\n    <path d=\"M 49.633125 81.933343 \nL 69.163125 77.59335 \nL 88.693125 98.831857 \nL 108.223125 105.102371 \nL 127.753125 104.008794 \n\" clip-path=\"url(#p3e7a938dc2)\" style=\"fill: none; stroke-dasharray: 5.55,2.4; stroke-dashoffset: 0; stroke: #ff7f0e; stroke-width: 1.5\"/>\n   </g>\n   <g id=\"line2d_71\">\n    <path d=\"M 49.633125 41.779875 \nL 69.163125 43.504715 \nL 88.693125 37.831909 \nL 108.223125 34.478054 \nL 127.753125 39.192616 \n\" clip-path=\"url(#p3e7a938dc2)\" style=\"fill: none; stroke-dasharray: 9.6,2.4,1.5,2.4; stroke-dashoffset: 0; stroke: #2ca02c; stroke-width: 1.5\"/>\n   </g>\n   <g id=\"line2d_72\">\n    <path d=\"M 34.954394 13.5 \nL 44.698573 78.326058 \nL 54.442752 94.095258 \nL 64.186931 104.352604 \nL 73.93111 109.306084 \nL 83.675289 114.531565 \nL 93.419468 118.862687 \nL 103.163647 119.839576 \nL 112.907826 123.941513 \nL 122.652006 125.750211 \nL 132.396185 128.136993 \nL 142.140364 129.694003 \n\" clip-path=\"url(#p3e7a938dc2)\" style=\"fill: none; stroke: #1f77b4; stroke-width: 1.5; stroke-linecap: square\"/>\n   </g>\n   <g id=\"line2d_73\">\n    <path d=\"M 49.633125 81.933343 \nL 69.163125 77.59335 \nL 88.693125 98.831857 \nL 108.223125 105.102371 \nL 127.753125 104.008794 \nL 147.283125 90.923917 \n\" clip-path=\"url(#p3e7a938dc2)\" style=\"fill: none; stroke-dasharray: 5.55,2.4; stroke-dashoffset: 0; stroke: #ff7f0e; stroke-width: 1.5\"/>\n   </g>\n   <g id=\"line2d_74\">\n    <path d=\"M 49.633125 41.779875 \nL 69.163125 43.504715 \nL 88.693125 37.831909 \nL 108.223125 34.478054 \nL 127.753125 39.192616 \n\" clip-path=\"url(#p3e7a938dc2)\" style=\"fill: none; stroke-dasharray: 9.6,2.4,1.5,2.4; stroke-dashoffset: 0; stroke: #2ca02c; stroke-width: 1.5\"/>\n   </g>\n   <g id=\"line2d_75\">\n    <path d=\"M 34.954394 13.5 \nL 44.698573 78.326058 \nL 54.442752 94.095258 \nL 64.186931 104.352604 \nL 73.93111 109.306084 \nL 83.675289 114.531565 \nL 93.419468 118.862687 \nL 103.163647 119.839576 \nL 112.907826 123.941513 \nL 122.652006 125.750211 \nL 132.396185 128.136993 \nL 142.140364 129.694003 \n\" clip-path=\"url(#p3e7a938dc2)\" style=\"fill: none; stroke: #1f77b4; stroke-width: 1.5; stroke-linecap: square\"/>\n   </g>\n   <g id=\"line2d_76\">\n    <path d=\"M 49.633125 81.933343 \nL 69.163125 77.59335 \nL 88.693125 98.831857 \nL 108.223125 105.102371 \nL 127.753125 104.008794 \nL 147.283125 90.923917 \n\" clip-path=\"url(#p3e7a938dc2)\" style=\"fill: none; stroke-dasharray: 5.55,2.4; stroke-dashoffset: 0; stroke: #ff7f0e; stroke-width: 1.5\"/>\n   </g>\n   <g id=\"line2d_77\">\n    <path d=\"M 49.633125 41.779875 \nL 69.163125 43.504715 \nL 88.693125 37.831909 \nL 108.223125 34.478054 \nL 127.753125 39.192616 \nL 147.283125 44.980411 \n\" clip-path=\"url(#p3e7a938dc2)\" style=\"fill: none; stroke-dasharray: 9.6,2.4,1.5,2.4; stroke-dashoffset: 0; stroke: #2ca02c; stroke-width: 1.5\"/>\n   </g>\n   <g id=\"line2d_78\">\n    <path d=\"M 34.954394 13.5 \nL 44.698573 78.326058 \nL 54.442752 94.095258 \nL 64.186931 104.352604 \nL 73.93111 109.306084 \nL 83.675289 114.531565 \nL 93.419468 118.862687 \nL 103.163647 119.839576 \nL 112.907826 123.941513 \nL 122.652006 125.750211 \nL 132.396185 128.136993 \nL 142.140364 129.694003 \nL 151.884543 131.832277 \n\" clip-path=\"url(#p3e7a938dc2)\" style=\"fill: none; stroke: #1f77b4; stroke-width: 1.5; stroke-linecap: square\"/>\n   </g>\n   <g id=\"line2d_79\">\n    <path d=\"M 49.633125 81.933343 \nL 69.163125 77.59335 \nL 88.693125 98.831857 \nL 108.223125 105.102371 \nL 127.753125 104.008794 \nL 147.283125 90.923917 \n\" clip-path=\"url(#p3e7a938dc2)\" style=\"fill: none; stroke-dasharray: 5.55,2.4; stroke-dashoffset: 0; stroke: #ff7f0e; stroke-width: 1.5\"/>\n   </g>\n   <g id=\"line2d_80\">\n    <path d=\"M 49.633125 41.779875 \nL 69.163125 43.504715 \nL 88.693125 37.831909 \nL 108.223125 34.478054 \nL 127.753125 39.192616 \nL 147.283125 44.980411 \n\" clip-path=\"url(#p3e7a938dc2)\" style=\"fill: none; stroke-dasharray: 9.6,2.4,1.5,2.4; stroke-dashoffset: 0; stroke: #2ca02c; stroke-width: 1.5\"/>\n   </g>\n   <g id=\"line2d_81\">\n    <path d=\"M 34.954394 13.5 \nL 44.698573 78.326058 \nL 54.442752 94.095258 \nL 64.186931 104.352604 \nL 73.93111 109.306084 \nL 83.675289 114.531565 \nL 93.419468 118.862687 \nL 103.163647 119.839576 \nL 112.907826 123.941513 \nL 122.652006 125.750211 \nL 132.396185 128.136993 \nL 142.140364 129.694003 \nL 151.884543 131.832277 \nL 161.628722 132.52878 \n\" clip-path=\"url(#p3e7a938dc2)\" style=\"fill: none; stroke: #1f77b4; stroke-width: 1.5; stroke-linecap: square\"/>\n   </g>\n   <g id=\"line2d_82\">\n    <path d=\"M 49.633125 81.933343 \nL 69.163125 77.59335 \nL 88.693125 98.831857 \nL 108.223125 105.102371 \nL 127.753125 104.008794 \nL 147.283125 90.923917 \n\" clip-path=\"url(#p3e7a938dc2)\" style=\"fill: none; stroke-dasharray: 5.55,2.4; stroke-dashoffset: 0; stroke: #ff7f0e; stroke-width: 1.5\"/>\n   </g>\n   <g id=\"line2d_83\">\n    <path d=\"M 49.633125 41.779875 \nL 69.163125 43.504715 \nL 88.693125 37.831909 \nL 108.223125 34.478054 \nL 127.753125 39.192616 \nL 147.283125 44.980411 \n\" clip-path=\"url(#p3e7a938dc2)\" style=\"fill: none; stroke-dasharray: 9.6,2.4,1.5,2.4; stroke-dashoffset: 0; stroke: #2ca02c; stroke-width: 1.5\"/>\n   </g>\n   <g id=\"line2d_84\">\n    <path d=\"M 34.954394 13.5 \nL 44.698573 78.326058 \nL 54.442752 94.095258 \nL 64.186931 104.352604 \nL 73.93111 109.306084 \nL 83.675289 114.531565 \nL 93.419468 118.862687 \nL 103.163647 119.839576 \nL 112.907826 123.941513 \nL 122.652006 125.750211 \nL 132.396185 128.136993 \nL 142.140364 129.694003 \nL 151.884543 131.832277 \nL 161.628722 132.52878 \n\" clip-path=\"url(#p3e7a938dc2)\" style=\"fill: none; stroke: #1f77b4; stroke-width: 1.5; stroke-linecap: square\"/>\n   </g>\n   <g id=\"line2d_85\">\n    <path d=\"M 49.633125 81.933343 \nL 69.163125 77.59335 \nL 88.693125 98.831857 \nL 108.223125 105.102371 \nL 127.753125 104.008794 \nL 147.283125 90.923917 \nL 166.813125 126.849236 \n\" clip-path=\"url(#p3e7a938dc2)\" style=\"fill: none; stroke-dasharray: 5.55,2.4; stroke-dashoffset: 0; stroke: #ff7f0e; stroke-width: 1.5\"/>\n   </g>\n   <g id=\"line2d_86\">\n    <path d=\"M 49.633125 41.779875 \nL 69.163125 43.504715 \nL 88.693125 37.831909 \nL 108.223125 34.478054 \nL 127.753125 39.192616 \nL 147.283125 44.980411 \n\" clip-path=\"url(#p3e7a938dc2)\" style=\"fill: none; stroke-dasharray: 9.6,2.4,1.5,2.4; stroke-dashoffset: 0; stroke: #2ca02c; stroke-width: 1.5\"/>\n   </g>\n   <g id=\"line2d_87\">\n    <path d=\"M 34.954394 13.5 \nL 44.698573 78.326058 \nL 54.442752 94.095258 \nL 64.186931 104.352604 \nL 73.93111 109.306084 \nL 83.675289 114.531565 \nL 93.419468 118.862687 \nL 103.163647 119.839576 \nL 112.907826 123.941513 \nL 122.652006 125.750211 \nL 132.396185 128.136993 \nL 142.140364 129.694003 \nL 151.884543 131.832277 \nL 161.628722 132.52878 \n\" clip-path=\"url(#p3e7a938dc2)\" style=\"fill: none; stroke: #1f77b4; stroke-width: 1.5; stroke-linecap: square\"/>\n   </g>\n   <g id=\"line2d_88\">\n    <path d=\"M 49.633125 81.933343 \nL 69.163125 77.59335 \nL 88.693125 98.831857 \nL 108.223125 105.102371 \nL 127.753125 104.008794 \nL 147.283125 90.923917 \nL 166.813125 126.849236 \n\" clip-path=\"url(#p3e7a938dc2)\" style=\"fill: none; stroke-dasharray: 5.55,2.4; stroke-dashoffset: 0; stroke: #ff7f0e; stroke-width: 1.5\"/>\n   </g>\n   <g id=\"line2d_89\">\n    <path d=\"M 49.633125 41.779875 \nL 69.163125 43.504715 \nL 88.693125 37.831909 \nL 108.223125 34.478054 \nL 127.753125 39.192616 \nL 147.283125 44.980411 \nL 166.813125 28.076982 \n\" clip-path=\"url(#p3e7a938dc2)\" style=\"fill: none; stroke-dasharray: 9.6,2.4,1.5,2.4; stroke-dashoffset: 0; stroke: #2ca02c; stroke-width: 1.5\"/>\n   </g>\n   <g id=\"line2d_90\">\n    <path d=\"M 34.954394 13.5 \nL 44.698573 78.326058 \nL 54.442752 94.095258 \nL 64.186931 104.352604 \nL 73.93111 109.306084 \nL 83.675289 114.531565 \nL 93.419468 118.862687 \nL 103.163647 119.839576 \nL 112.907826 123.941513 \nL 122.652006 125.750211 \nL 132.396185 128.136993 \nL 142.140364 129.694003 \nL 151.884543 131.832277 \nL 161.628722 132.52878 \nL 171.372901 134.767059 \n\" clip-path=\"url(#p3e7a938dc2)\" style=\"fill: none; stroke: #1f77b4; stroke-width: 1.5; stroke-linecap: square\"/>\n   </g>\n   <g id=\"line2d_91\">\n    <path d=\"M 49.633125 81.933343 \nL 69.163125 77.59335 \nL 88.693125 98.831857 \nL 108.223125 105.102371 \nL 127.753125 104.008794 \nL 147.283125 90.923917 \nL 166.813125 126.849236 \n\" clip-path=\"url(#p3e7a938dc2)\" style=\"fill: none; stroke-dasharray: 5.55,2.4; stroke-dashoffset: 0; stroke: #ff7f0e; stroke-width: 1.5\"/>\n   </g>\n   <g id=\"line2d_92\">\n    <path d=\"M 49.633125 41.779875 \nL 69.163125 43.504715 \nL 88.693125 37.831909 \nL 108.223125 34.478054 \nL 127.753125 39.192616 \nL 147.283125 44.980411 \nL 166.813125 28.076982 \n\" clip-path=\"url(#p3e7a938dc2)\" style=\"fill: none; stroke-dasharray: 9.6,2.4,1.5,2.4; stroke-dashoffset: 0; stroke: #2ca02c; stroke-width: 1.5\"/>\n   </g>\n   <g id=\"line2d_93\">\n    <path d=\"M 34.954394 13.5 \nL 44.698573 78.326058 \nL 54.442752 94.095258 \nL 64.186931 104.352604 \nL 73.93111 109.306084 \nL 83.675289 114.531565 \nL 93.419468 118.862687 \nL 103.163647 119.839576 \nL 112.907826 123.941513 \nL 122.652006 125.750211 \nL 132.396185 128.136993 \nL 142.140364 129.694003 \nL 151.884543 131.832277 \nL 161.628722 132.52878 \nL 171.372901 134.767059 \nL 181.11708 133.866633 \n\" clip-path=\"url(#p3e7a938dc2)\" style=\"fill: none; stroke: #1f77b4; stroke-width: 1.5; stroke-linecap: square\"/>\n   </g>\n   <g id=\"line2d_94\">\n    <path d=\"M 49.633125 81.933343 \nL 69.163125 77.59335 \nL 88.693125 98.831857 \nL 108.223125 105.102371 \nL 127.753125 104.008794 \nL 147.283125 90.923917 \nL 166.813125 126.849236 \n\" clip-path=\"url(#p3e7a938dc2)\" style=\"fill: none; stroke-dasharray: 5.55,2.4; stroke-dashoffset: 0; stroke: #ff7f0e; stroke-width: 1.5\"/>\n   </g>\n   <g id=\"line2d_95\">\n    <path d=\"M 49.633125 41.779875 \nL 69.163125 43.504715 \nL 88.693125 37.831909 \nL 108.223125 34.478054 \nL 127.753125 39.192616 \nL 147.283125 44.980411 \nL 166.813125 28.076982 \n\" clip-path=\"url(#p3e7a938dc2)\" style=\"fill: none; stroke-dasharray: 9.6,2.4,1.5,2.4; stroke-dashoffset: 0; stroke: #2ca02c; stroke-width: 1.5\"/>\n   </g>\n   <g id=\"line2d_96\">\n    <path d=\"M 34.954394 13.5 \nL 44.698573 78.326058 \nL 54.442752 94.095258 \nL 64.186931 104.352604 \nL 73.93111 109.306084 \nL 83.675289 114.531565 \nL 93.419468 118.862687 \nL 103.163647 119.839576 \nL 112.907826 123.941513 \nL 122.652006 125.750211 \nL 132.396185 128.136993 \nL 142.140364 129.694003 \nL 151.884543 131.832277 \nL 161.628722 132.52878 \nL 171.372901 134.767059 \nL 181.11708 133.866633 \n\" clip-path=\"url(#p3e7a938dc2)\" style=\"fill: none; stroke: #1f77b4; stroke-width: 1.5; stroke-linecap: square\"/>\n   </g>\n   <g id=\"line2d_97\">\n    <path d=\"M 49.633125 81.933343 \nL 69.163125 77.59335 \nL 88.693125 98.831857 \nL 108.223125 105.102371 \nL 127.753125 104.008794 \nL 147.283125 90.923917 \nL 166.813125 126.849236 \nL 186.343125 110.125976 \n\" clip-path=\"url(#p3e7a938dc2)\" style=\"fill: none; stroke-dasharray: 5.55,2.4; stroke-dashoffset: 0; stroke: #ff7f0e; stroke-width: 1.5\"/>\n   </g>\n   <g id=\"line2d_98\">\n    <path d=\"M 49.633125 41.779875 \nL 69.163125 43.504715 \nL 88.693125 37.831909 \nL 108.223125 34.478054 \nL 127.753125 39.192616 \nL 147.283125 44.980411 \nL 166.813125 28.076982 \n\" clip-path=\"url(#p3e7a938dc2)\" style=\"fill: none; stroke-dasharray: 9.6,2.4,1.5,2.4; stroke-dashoffset: 0; stroke: #2ca02c; stroke-width: 1.5\"/>\n   </g>\n   <g id=\"line2d_99\">\n    <path d=\"M 34.954394 13.5 \nL 44.698573 78.326058 \nL 54.442752 94.095258 \nL 64.186931 104.352604 \nL 73.93111 109.306084 \nL 83.675289 114.531565 \nL 93.419468 118.862687 \nL 103.163647 119.839576 \nL 112.907826 123.941513 \nL 122.652006 125.750211 \nL 132.396185 128.136993 \nL 142.140364 129.694003 \nL 151.884543 131.832277 \nL 161.628722 132.52878 \nL 171.372901 134.767059 \nL 181.11708 133.866633 \n\" clip-path=\"url(#p3e7a938dc2)\" style=\"fill: none; stroke: #1f77b4; stroke-width: 1.5; stroke-linecap: square\"/>\n   </g>\n   <g id=\"line2d_100\">\n    <path d=\"M 49.633125 81.933343 \nL 69.163125 77.59335 \nL 88.693125 98.831857 \nL 108.223125 105.102371 \nL 127.753125 104.008794 \nL 147.283125 90.923917 \nL 166.813125 126.849236 \nL 186.343125 110.125976 \n\" clip-path=\"url(#p3e7a938dc2)\" style=\"fill: none; stroke-dasharray: 5.55,2.4; stroke-dashoffset: 0; stroke: #ff7f0e; stroke-width: 1.5\"/>\n   </g>\n   <g id=\"line2d_101\">\n    <path d=\"M 49.633125 41.779875 \nL 69.163125 43.504715 \nL 88.693125 37.831909 \nL 108.223125 34.478054 \nL 127.753125 39.192616 \nL 147.283125 44.980411 \nL 166.813125 28.076982 \nL 186.343125 37.122808 \n\" clip-path=\"url(#p3e7a938dc2)\" style=\"fill: none; stroke-dasharray: 9.6,2.4,1.5,2.4; stroke-dashoffset: 0; stroke: #2ca02c; stroke-width: 1.5\"/>\n   </g>\n   <g id=\"line2d_102\">\n    <path d=\"M 34.954394 13.5 \nL 44.698573 78.326058 \nL 54.442752 94.095258 \nL 64.186931 104.352604 \nL 73.93111 109.306084 \nL 83.675289 114.531565 \nL 93.419468 118.862687 \nL 103.163647 119.839576 \nL 112.907826 123.941513 \nL 122.652006 125.750211 \nL 132.396185 128.136993 \nL 142.140364 129.694003 \nL 151.884543 131.832277 \nL 161.628722 132.52878 \nL 171.372901 134.767059 \nL 181.11708 133.866633 \nL 190.861259 137.175414 \n\" clip-path=\"url(#p3e7a938dc2)\" style=\"fill: none; stroke: #1f77b4; stroke-width: 1.5; stroke-linecap: square\"/>\n   </g>\n   <g id=\"line2d_103\">\n    <path d=\"M 49.633125 81.933343 \nL 69.163125 77.59335 \nL 88.693125 98.831857 \nL 108.223125 105.102371 \nL 127.753125 104.008794 \nL 147.283125 90.923917 \nL 166.813125 126.849236 \nL 186.343125 110.125976 \n\" clip-path=\"url(#p3e7a938dc2)\" style=\"fill: none; stroke-dasharray: 5.55,2.4; stroke-dashoffset: 0; stroke: #ff7f0e; stroke-width: 1.5\"/>\n   </g>\n   <g id=\"line2d_104\">\n    <path d=\"M 49.633125 41.779875 \nL 69.163125 43.504715 \nL 88.693125 37.831909 \nL 108.223125 34.478054 \nL 127.753125 39.192616 \nL 147.283125 44.980411 \nL 166.813125 28.076982 \nL 186.343125 37.122808 \n\" clip-path=\"url(#p3e7a938dc2)\" style=\"fill: none; stroke-dasharray: 9.6,2.4,1.5,2.4; stroke-dashoffset: 0; stroke: #2ca02c; stroke-width: 1.5\"/>\n   </g>\n   <g id=\"line2d_105\">\n    <path d=\"M 34.954394 13.5 \nL 44.698573 78.326058 \nL 54.442752 94.095258 \nL 64.186931 104.352604 \nL 73.93111 109.306084 \nL 83.675289 114.531565 \nL 93.419468 118.862687 \nL 103.163647 119.839576 \nL 112.907826 123.941513 \nL 122.652006 125.750211 \nL 132.396185 128.136993 \nL 142.140364 129.694003 \nL 151.884543 131.832277 \nL 161.628722 132.52878 \nL 171.372901 134.767059 \nL 181.11708 133.866633 \nL 190.861259 137.175414 \nL 200.605438 136.982565 \n\" clip-path=\"url(#p3e7a938dc2)\" style=\"fill: none; stroke: #1f77b4; stroke-width: 1.5; stroke-linecap: square\"/>\n   </g>\n   <g id=\"line2d_106\">\n    <path d=\"M 49.633125 81.933343 \nL 69.163125 77.59335 \nL 88.693125 98.831857 \nL 108.223125 105.102371 \nL 127.753125 104.008794 \nL 147.283125 90.923917 \nL 166.813125 126.849236 \nL 186.343125 110.125976 \n\" clip-path=\"url(#p3e7a938dc2)\" style=\"fill: none; stroke-dasharray: 5.55,2.4; stroke-dashoffset: 0; stroke: #ff7f0e; stroke-width: 1.5\"/>\n   </g>\n   <g id=\"line2d_107\">\n    <path d=\"M 49.633125 41.779875 \nL 69.163125 43.504715 \nL 88.693125 37.831909 \nL 108.223125 34.478054 \nL 127.753125 39.192616 \nL 147.283125 44.980411 \nL 166.813125 28.076982 \nL 186.343125 37.122808 \n\" clip-path=\"url(#p3e7a938dc2)\" style=\"fill: none; stroke-dasharray: 9.6,2.4,1.5,2.4; stroke-dashoffset: 0; stroke: #2ca02c; stroke-width: 1.5\"/>\n   </g>\n   <g id=\"line2d_108\">\n    <path d=\"M 34.954394 13.5 \nL 44.698573 78.326058 \nL 54.442752 94.095258 \nL 64.186931 104.352604 \nL 73.93111 109.306084 \nL 83.675289 114.531565 \nL 93.419468 118.862687 \nL 103.163647 119.839576 \nL 112.907826 123.941513 \nL 122.652006 125.750211 \nL 132.396185 128.136993 \nL 142.140364 129.694003 \nL 151.884543 131.832277 \nL 161.628722 132.52878 \nL 171.372901 134.767059 \nL 181.11708 133.866633 \nL 190.861259 137.175414 \nL 200.605438 136.982565 \n\" clip-path=\"url(#p3e7a938dc2)\" style=\"fill: none; stroke: #1f77b4; stroke-width: 1.5; stroke-linecap: square\"/>\n   </g>\n   <g id=\"line2d_109\">\n    <path d=\"M 49.633125 81.933343 \nL 69.163125 77.59335 \nL 88.693125 98.831857 \nL 108.223125 105.102371 \nL 127.753125 104.008794 \nL 147.283125 90.923917 \nL 166.813125 126.849236 \nL 186.343125 110.125976 \nL 205.873125 124.365566 \n\" clip-path=\"url(#p3e7a938dc2)\" style=\"fill: none; stroke-dasharray: 5.55,2.4; stroke-dashoffset: 0; stroke: #ff7f0e; stroke-width: 1.5\"/>\n   </g>\n   <g id=\"line2d_110\">\n    <path d=\"M 49.633125 41.779875 \nL 69.163125 43.504715 \nL 88.693125 37.831909 \nL 108.223125 34.478054 \nL 127.753125 39.192616 \nL 147.283125 44.980411 \nL 166.813125 28.076982 \nL 186.343125 37.122808 \n\" clip-path=\"url(#p3e7a938dc2)\" style=\"fill: none; stroke-dasharray: 9.6,2.4,1.5,2.4; stroke-dashoffset: 0; stroke: #2ca02c; stroke-width: 1.5\"/>\n   </g>\n   <g id=\"line2d_111\">\n    <path d=\"M 34.954394 13.5 \nL 44.698573 78.326058 \nL 54.442752 94.095258 \nL 64.186931 104.352604 \nL 73.93111 109.306084 \nL 83.675289 114.531565 \nL 93.419468 118.862687 \nL 103.163647 119.839576 \nL 112.907826 123.941513 \nL 122.652006 125.750211 \nL 132.396185 128.136993 \nL 142.140364 129.694003 \nL 151.884543 131.832277 \nL 161.628722 132.52878 \nL 171.372901 134.767059 \nL 181.11708 133.866633 \nL 190.861259 137.175414 \nL 200.605438 136.982565 \n\" clip-path=\"url(#p3e7a938dc2)\" style=\"fill: none; stroke: #1f77b4; stroke-width: 1.5; stroke-linecap: square\"/>\n   </g>\n   <g id=\"line2d_112\">\n    <path d=\"M 49.633125 81.933343 \nL 69.163125 77.59335 \nL 88.693125 98.831857 \nL 108.223125 105.102371 \nL 127.753125 104.008794 \nL 147.283125 90.923917 \nL 166.813125 126.849236 \nL 186.343125 110.125976 \nL 205.873125 124.365566 \n\" clip-path=\"url(#p3e7a938dc2)\" style=\"fill: none; stroke-dasharray: 5.55,2.4; stroke-dashoffset: 0; stroke: #ff7f0e; stroke-width: 1.5\"/>\n   </g>\n   <g id=\"line2d_113\">\n    <path d=\"M 49.633125 41.779875 \nL 69.163125 43.504715 \nL 88.693125 37.831909 \nL 108.223125 34.478054 \nL 127.753125 39.192616 \nL 147.283125 44.980411 \nL 166.813125 28.076982 \nL 186.343125 37.122808 \nL 205.873125 30.798396 \n\" clip-path=\"url(#p3e7a938dc2)\" style=\"fill: none; stroke-dasharray: 9.6,2.4,1.5,2.4; stroke-dashoffset: 0; stroke: #2ca02c; stroke-width: 1.5\"/>\n   </g>\n   <g id=\"line2d_114\">\n    <path d=\"M 34.954394 13.5 \nL 44.698573 78.326058 \nL 54.442752 94.095258 \nL 64.186931 104.352604 \nL 73.93111 109.306084 \nL 83.675289 114.531565 \nL 93.419468 118.862687 \nL 103.163647 119.839576 \nL 112.907826 123.941513 \nL 122.652006 125.750211 \nL 132.396185 128.136993 \nL 142.140364 129.694003 \nL 151.884543 131.832277 \nL 161.628722 132.52878 \nL 171.372901 134.767059 \nL 181.11708 133.866633 \nL 190.861259 137.175414 \nL 200.605438 136.982565 \nL 210.349618 139.5 \n\" clip-path=\"url(#p3e7a938dc2)\" style=\"fill: none; stroke: #1f77b4; stroke-width: 1.5; stroke-linecap: square\"/>\n   </g>\n   <g id=\"line2d_115\">\n    <path d=\"M 49.633125 81.933343 \nL 69.163125 77.59335 \nL 88.693125 98.831857 \nL 108.223125 105.102371 \nL 127.753125 104.008794 \nL 147.283125 90.923917 \nL 166.813125 126.849236 \nL 186.343125 110.125976 \nL 205.873125 124.365566 \n\" clip-path=\"url(#p3e7a938dc2)\" style=\"fill: none; stroke-dasharray: 5.55,2.4; stroke-dashoffset: 0; stroke: #ff7f0e; stroke-width: 1.5\"/>\n   </g>\n   <g id=\"line2d_116\">\n    <path d=\"M 49.633125 41.779875 \nL 69.163125 43.504715 \nL 88.693125 37.831909 \nL 108.223125 34.478054 \nL 127.753125 39.192616 \nL 147.283125 44.980411 \nL 166.813125 28.076982 \nL 186.343125 37.122808 \nL 205.873125 30.798396 \n\" clip-path=\"url(#p3e7a938dc2)\" style=\"fill: none; stroke-dasharray: 9.6,2.4,1.5,2.4; stroke-dashoffset: 0; stroke: #2ca02c; stroke-width: 1.5\"/>\n   </g>\n   <g id=\"line2d_117\">\n    <path d=\"M 34.954394 13.5 \nL 44.698573 78.326058 \nL 54.442752 94.095258 \nL 64.186931 104.352604 \nL 73.93111 109.306084 \nL 83.675289 114.531565 \nL 93.419468 118.862687 \nL 103.163647 119.839576 \nL 112.907826 123.941513 \nL 122.652006 125.750211 \nL 132.396185 128.136993 \nL 142.140364 129.694003 \nL 151.884543 131.832277 \nL 161.628722 132.52878 \nL 171.372901 134.767059 \nL 181.11708 133.866633 \nL 190.861259 137.175414 \nL 200.605438 136.982565 \nL 210.349618 139.5 \nL 220.093797 138.740174 \n\" clip-path=\"url(#p3e7a938dc2)\" style=\"fill: none; stroke: #1f77b4; stroke-width: 1.5; stroke-linecap: square\"/>\n   </g>\n   <g id=\"line2d_118\">\n    <path d=\"M 49.633125 81.933343 \nL 69.163125 77.59335 \nL 88.693125 98.831857 \nL 108.223125 105.102371 \nL 127.753125 104.008794 \nL 147.283125 90.923917 \nL 166.813125 126.849236 \nL 186.343125 110.125976 \nL 205.873125 124.365566 \n\" clip-path=\"url(#p3e7a938dc2)\" style=\"fill: none; stroke-dasharray: 5.55,2.4; stroke-dashoffset: 0; stroke: #ff7f0e; stroke-width: 1.5\"/>\n   </g>\n   <g id=\"line2d_119\">\n    <path d=\"M 49.633125 41.779875 \nL 69.163125 43.504715 \nL 88.693125 37.831909 \nL 108.223125 34.478054 \nL 127.753125 39.192616 \nL 147.283125 44.980411 \nL 166.813125 28.076982 \nL 186.343125 37.122808 \nL 205.873125 30.798396 \n\" clip-path=\"url(#p3e7a938dc2)\" style=\"fill: none; stroke-dasharray: 9.6,2.4,1.5,2.4; stroke-dashoffset: 0; stroke: #2ca02c; stroke-width: 1.5\"/>\n   </g>\n   <g id=\"line2d_120\">\n    <path d=\"M 34.954394 13.5 \nL 44.698573 78.326058 \nL 54.442752 94.095258 \nL 64.186931 104.352604 \nL 73.93111 109.306084 \nL 83.675289 114.531565 \nL 93.419468 118.862687 \nL 103.163647 119.839576 \nL 112.907826 123.941513 \nL 122.652006 125.750211 \nL 132.396185 128.136993 \nL 142.140364 129.694003 \nL 151.884543 131.832277 \nL 161.628722 132.52878 \nL 171.372901 134.767059 \nL 181.11708 133.866633 \nL 190.861259 137.175414 \nL 200.605438 136.982565 \nL 210.349618 139.5 \nL 220.093797 138.740174 \n\" clip-path=\"url(#p3e7a938dc2)\" style=\"fill: none; stroke: #1f77b4; stroke-width: 1.5; stroke-linecap: square\"/>\n   </g>\n   <g id=\"line2d_121\">\n    <path d=\"M 49.633125 81.933343 \nL 69.163125 77.59335 \nL 88.693125 98.831857 \nL 108.223125 105.102371 \nL 127.753125 104.008794 \nL 147.283125 90.923917 \nL 166.813125 126.849236 \nL 186.343125 110.125976 \nL 205.873125 124.365566 \nL 225.403125 114.124903 \n\" clip-path=\"url(#p3e7a938dc2)\" style=\"fill: none; stroke-dasharray: 5.55,2.4; stroke-dashoffset: 0; stroke: #ff7f0e; stroke-width: 1.5\"/>\n   </g>\n   <g id=\"line2d_122\">\n    <path d=\"M 49.633125 41.779875 \nL 69.163125 43.504715 \nL 88.693125 37.831909 \nL 108.223125 34.478054 \nL 127.753125 39.192616 \nL 147.283125 44.980411 \nL 166.813125 28.076982 \nL 186.343125 37.122808 \nL 205.873125 30.798396 \n\" clip-path=\"url(#p3e7a938dc2)\" style=\"fill: none; stroke-dasharray: 9.6,2.4,1.5,2.4; stroke-dashoffset: 0; stroke: #2ca02c; stroke-width: 1.5\"/>\n   </g>\n   <g id=\"line2d_123\">\n    <path d=\"M 34.954394 13.5 \nL 44.698573 78.326058 \nL 54.442752 94.095258 \nL 64.186931 104.352604 \nL 73.93111 109.306084 \nL 83.675289 114.531565 \nL 93.419468 118.862687 \nL 103.163647 119.839576 \nL 112.907826 123.941513 \nL 122.652006 125.750211 \nL 132.396185 128.136993 \nL 142.140364 129.694003 \nL 151.884543 131.832277 \nL 161.628722 132.52878 \nL 171.372901 134.767059 \nL 181.11708 133.866633 \nL 190.861259 137.175414 \nL 200.605438 136.982565 \nL 210.349618 139.5 \nL 220.093797 138.740174 \n\" clip-path=\"url(#p3e7a938dc2)\" style=\"fill: none; stroke: #1f77b4; stroke-width: 1.5; stroke-linecap: square\"/>\n   </g>\n   <g id=\"line2d_124\">\n    <path d=\"M 49.633125 81.933343 \nL 69.163125 77.59335 \nL 88.693125 98.831857 \nL 108.223125 105.102371 \nL 127.753125 104.008794 \nL 147.283125 90.923917 \nL 166.813125 126.849236 \nL 186.343125 110.125976 \nL 205.873125 124.365566 \nL 225.403125 114.124903 \n\" clip-path=\"url(#p3e7a938dc2)\" style=\"fill: none; stroke-dasharray: 5.55,2.4; stroke-dashoffset: 0; stroke: #ff7f0e; stroke-width: 1.5\"/>\n   </g>\n   <g id=\"line2d_125\">\n    <path d=\"M 49.633125 41.779875 \nL 69.163125 43.504715 \nL 88.693125 37.831909 \nL 108.223125 34.478054 \nL 127.753125 39.192616 \nL 147.283125 44.980411 \nL 166.813125 28.076982 \nL 186.343125 37.122808 \nL 205.873125 30.798396 \nL 225.403125 32.484906 \n\" clip-path=\"url(#p3e7a938dc2)\" style=\"fill: none; stroke-dasharray: 9.6,2.4,1.5,2.4; stroke-dashoffset: 0; stroke: #2ca02c; stroke-width: 1.5\"/>\n   </g>\n   <g id=\"patch_3\">\n    <path d=\"M 30.103125 145.8 \nL 30.103125 7.2 \n\" style=\"fill: none; stroke: #000000; stroke-width: 0.8; stroke-linejoin: miter; stroke-linecap: square\"/>\n   </g>\n   <g id=\"patch_4\">\n    <path d=\"M 225.403125 145.8 \nL 225.403125 7.2 \n\" style=\"fill: none; stroke: #000000; stroke-width: 0.8; stroke-linejoin: miter; stroke-linecap: square\"/>\n   </g>\n   <g id=\"patch_5\">\n    <path d=\"M 30.103125 145.8 \nL 225.403125 145.8 \n\" style=\"fill: none; stroke: #000000; stroke-width: 0.8; stroke-linejoin: miter; stroke-linecap: square\"/>\n   </g>\n   <g id=\"patch_6\">\n    <path d=\"M 30.103125 7.2 \nL 225.403125 7.2 \n\" style=\"fill: none; stroke: #000000; stroke-width: 0.8; stroke-linejoin: miter; stroke-linecap: square\"/>\n   </g>\n   <g id=\"legend_1\">\n    <g id=\"patch_7\">\n     <path d=\"M 138.8125 100.434375 \nL 218.403125 100.434375 \nQ 220.403125 100.434375 220.403125 98.434375 \nL 220.403125 54.565625 \nQ 220.403125 52.565625 218.403125 52.565625 \nL 138.8125 52.565625 \nQ 136.8125 52.565625 136.8125 54.565625 \nL 136.8125 98.434375 \nQ 136.8125 100.434375 138.8125 100.434375 \nz\n\" style=\"fill: #ffffff; opacity: 0.8; stroke: #cccccc; stroke-linejoin: miter\"/>\n    </g>\n    <g id=\"line2d_126\">\n     <path d=\"M 140.8125 60.664063 \nL 150.8125 60.664063 \nL 160.8125 60.664063 \n\" style=\"fill: none; stroke: #1f77b4; stroke-width: 1.5; stroke-linecap: square\"/>\n    </g>\n    <g id=\"text_11\">\n     <!-- train_loss -->\n     <g transform=\"translate(168.8125 64.164063) scale(0.1 -0.1)\">\n      <defs>\n       <path id=\"DejaVuSans-74\" d=\"M 1172 4494 \nL 1172 3500 \nL 2356 3500 \nL 2356 3053 \nL 1172 3053 \nL 1172 1153 \nQ 1172 725 1289 603 \nQ 1406 481 1766 481 \nL 2356 481 \nL 2356 0 \nL 1766 0 \nQ 1100 0 847 248 \nQ 594 497 594 1153 \nL 594 3053 \nL 172 3053 \nL 172 3500 \nL 594 3500 \nL 594 4494 \nL 1172 4494 \nz\n\" transform=\"scale(0.015625)\"/>\n       <path id=\"DejaVuSans-72\" d=\"M 2631 2963 \nQ 2534 3019 2420 3045 \nQ 2306 3072 2169 3072 \nQ 1681 3072 1420 2755 \nQ 1159 2438 1159 1844 \nL 1159 0 \nL 581 0 \nL 581 3500 \nL 1159 3500 \nL 1159 2956 \nQ 1341 3275 1631 3429 \nQ 1922 3584 2338 3584 \nQ 2397 3584 2469 3576 \nQ 2541 3569 2628 3553 \nL 2631 2963 \nz\n\" transform=\"scale(0.015625)\"/>\n       <path id=\"DejaVuSans-61\" d=\"M 2194 1759 \nQ 1497 1759 1228 1600 \nQ 959 1441 959 1056 \nQ 959 750 1161 570 \nQ 1363 391 1709 391 \nQ 2188 391 2477 730 \nQ 2766 1069 2766 1631 \nL 2766 1759 \nL 2194 1759 \nz\nM 3341 1997 \nL 3341 0 \nL 2766 0 \nL 2766 531 \nQ 2569 213 2275 61 \nQ 1981 -91 1556 -91 \nQ 1019 -91 701 211 \nQ 384 513 384 1019 \nQ 384 1609 779 1909 \nQ 1175 2209 1959 2209 \nL 2766 2209 \nL 2766 2266 \nQ 2766 2663 2505 2880 \nQ 2244 3097 1772 3097 \nQ 1472 3097 1187 3025 \nQ 903 2953 641 2809 \nL 641 3341 \nQ 956 3463 1253 3523 \nQ 1550 3584 1831 3584 \nQ 2591 3584 2966 3190 \nQ 3341 2797 3341 1997 \nz\n\" transform=\"scale(0.015625)\"/>\n       <path id=\"DejaVuSans-69\" d=\"M 603 3500 \nL 1178 3500 \nL 1178 0 \nL 603 0 \nL 603 3500 \nz\nM 603 4863 \nL 1178 4863 \nL 1178 4134 \nL 603 4134 \nL 603 4863 \nz\n\" transform=\"scale(0.015625)\"/>\n       <path id=\"DejaVuSans-6e\" d=\"M 3513 2113 \nL 3513 0 \nL 2938 0 \nL 2938 2094 \nQ 2938 2591 2744 2837 \nQ 2550 3084 2163 3084 \nQ 1697 3084 1428 2787 \nQ 1159 2491 1159 1978 \nL 1159 0 \nL 581 0 \nL 581 3500 \nL 1159 3500 \nL 1159 2956 \nQ 1366 3272 1645 3428 \nQ 1925 3584 2291 3584 \nQ 2894 3584 3203 3211 \nQ 3513 2838 3513 2113 \nz\n\" transform=\"scale(0.015625)\"/>\n       <path id=\"DejaVuSans-5f\" d=\"M 3263 -1063 \nL 3263 -1509 \nL -63 -1509 \nL -63 -1063 \nL 3263 -1063 \nz\n\" transform=\"scale(0.015625)\"/>\n       <path id=\"DejaVuSans-6c\" d=\"M 603 4863 \nL 1178 4863 \nL 1178 0 \nL 603 0 \nL 603 4863 \nz\n\" transform=\"scale(0.015625)\"/>\n       <path id=\"DejaVuSans-73\" d=\"M 2834 3397 \nL 2834 2853 \nQ 2591 2978 2328 3040 \nQ 2066 3103 1784 3103 \nQ 1356 3103 1142 2972 \nQ 928 2841 928 2578 \nQ 928 2378 1081 2264 \nQ 1234 2150 1697 2047 \nL 1894 2003 \nQ 2506 1872 2764 1633 \nQ 3022 1394 3022 966 \nQ 3022 478 2636 193 \nQ 2250 -91 1575 -91 \nQ 1294 -91 989 -36 \nQ 684 19 347 128 \nL 347 722 \nQ 666 556 975 473 \nQ 1284 391 1588 391 \nQ 1994 391 2212 530 \nQ 2431 669 2431 922 \nQ 2431 1156 2273 1281 \nQ 2116 1406 1581 1522 \nL 1381 1569 \nQ 847 1681 609 1914 \nQ 372 2147 372 2553 \nQ 372 3047 722 3315 \nQ 1072 3584 1716 3584 \nQ 2034 3584 2315 3537 \nQ 2597 3491 2834 3397 \nz\n\" transform=\"scale(0.015625)\"/>\n      </defs>\n      <use xlink:href=\"#DejaVuSans-74\"/>\n      <use xlink:href=\"#DejaVuSans-72\" x=\"39.208984\"/>\n      <use xlink:href=\"#DejaVuSans-61\" x=\"80.322266\"/>\n      <use xlink:href=\"#DejaVuSans-69\" x=\"141.601562\"/>\n      <use xlink:href=\"#DejaVuSans-6e\" x=\"169.384766\"/>\n      <use xlink:href=\"#DejaVuSans-5f\" x=\"232.763672\"/>\n      <use xlink:href=\"#DejaVuSans-6c\" x=\"282.763672\"/>\n      <use xlink:href=\"#DejaVuSans-6f\" x=\"310.546875\"/>\n      <use xlink:href=\"#DejaVuSans-73\" x=\"371.728516\"/>\n      <use xlink:href=\"#DejaVuSans-73\" x=\"423.828125\"/>\n     </g>\n    </g>\n    <g id=\"line2d_127\">\n     <path d=\"M 140.8125 75.620313 \nL 150.8125 75.620313 \nL 160.8125 75.620313 \n\" style=\"fill: none; stroke-dasharray: 5.55,2.4; stroke-dashoffset: 0; stroke: #ff7f0e; stroke-width: 1.5\"/>\n    </g>\n    <g id=\"text_12\">\n     <!-- val_loss -->\n     <g transform=\"translate(168.8125 79.120313) scale(0.1 -0.1)\">\n      <defs>\n       <path id=\"DejaVuSans-76\" d=\"M 191 3500 \nL 800 3500 \nL 1894 563 \nL 2988 3500 \nL 3597 3500 \nL 2284 0 \nL 1503 0 \nL 191 3500 \nz\n\" transform=\"scale(0.015625)\"/>\n      </defs>\n      <use xlink:href=\"#DejaVuSans-76\"/>\n      <use xlink:href=\"#DejaVuSans-61\" x=\"59.179688\"/>\n      <use xlink:href=\"#DejaVuSans-6c\" x=\"120.458984\"/>\n      <use xlink:href=\"#DejaVuSans-5f\" x=\"148.242188\"/>\n      <use xlink:href=\"#DejaVuSans-6c\" x=\"198.242188\"/>\n      <use xlink:href=\"#DejaVuSans-6f\" x=\"226.025391\"/>\n      <use xlink:href=\"#DejaVuSans-73\" x=\"287.207031\"/>\n      <use xlink:href=\"#DejaVuSans-73\" x=\"339.306641\"/>\n     </g>\n    </g>\n    <g id=\"line2d_128\">\n     <path d=\"M 140.8125 90.576563 \nL 150.8125 90.576563 \nL 160.8125 90.576563 \n\" style=\"fill: none; stroke-dasharray: 9.6,2.4,1.5,2.4; stroke-dashoffset: 0; stroke: #2ca02c; stroke-width: 1.5\"/>\n    </g>\n    <g id=\"text_13\">\n     <!-- val_acc -->\n     <g transform=\"translate(168.8125 94.076563) scale(0.1 -0.1)\">\n      <use xlink:href=\"#DejaVuSans-76\"/>\n      <use xlink:href=\"#DejaVuSans-61\" x=\"59.179688\"/>\n      <use xlink:href=\"#DejaVuSans-6c\" x=\"120.458984\"/>\n      <use xlink:href=\"#DejaVuSans-5f\" x=\"148.242188\"/>\n      <use xlink:href=\"#DejaVuSans-61\" x=\"198.242188\"/>\n      <use xlink:href=\"#DejaVuSans-63\" x=\"259.521484\"/>\n      <use xlink:href=\"#DejaVuSans-63\" x=\"314.501953\"/>\n     </g>\n    </g>\n   </g>\n  </g>\n </g>\n <defs>\n  <clipPath id=\"p3e7a938dc2\">\n   <rect x=\"30.103125\" y=\"7.2\" width=\"195.3\" height=\"138.6\"/>\n  </clipPath>\n </defs>\n</svg>\n"
          },
          "metadata": {}
        }
      ],
      "source": [
        "trainer = d2l.Trainer(max_epochs=10, num_gpus=1)\n",
        "data = d2l.FashionMNIST(batch_size=128)\n",
        "model = BNLeNetScratch(lr=0.1)\n",
        "model.apply_init([next(iter(data.get_dataloader(True)))[0]], d2l.init_cnn)\n",
        "trainer.fit(model, data)"
      ]
    },
    {
      "cell_type": "code",
      "execution_count": 31,
      "metadata": {
        "id": "zZJGBBdesV7s",
        "colab": {
          "base_uri": "https://localhost:8080/"
        },
        "outputId": "14feb85d-c7b8-4391-fb78-c272f668a62b"
      },
      "outputs": [
        {
          "output_type": "execute_result",
          "data": {
            "text/plain": [
              "(tensor([1.5586, 1.5998, 1.6328, 1.7797, 1.9429, 2.1449], device='cuda:0',\n",
              "        grad_fn=<ViewBackward0>),\n",
              " tensor([ 1.6122,  0.1875, -1.2234,  1.4112,  1.1607,  0.9909], device='cuda:0',\n",
              "        grad_fn=<ViewBackward0>))"
            ]
          },
          "metadata": {},
          "execution_count": 31
        }
      ],
      "source": [
        "model.net[1].gamma.reshape((-1,)), model.net[1].beta.reshape((-1,))"
      ]
    },
    {
      "cell_type": "markdown",
      "metadata": {
        "id": "Aht4VPXHsYQo"
      },
      "source": [
        "8.5.5. Concise Implementation"
      ]
    },
    {
      "cell_type": "code",
      "execution_count": 32,
      "metadata": {
        "id": "pRTaLB0Hsak2"
      },
      "outputs": [],
      "source": [
        "class BNLeNet(d2l.Classifier):\n",
        "    def __init__(self, lr=0.1, num_classes=10):\n",
        "        super().__init__()\n",
        "        self.save_hyperparameters()\n",
        "        self.net = nn.Sequential(\n",
        "            nn.LazyConv2d(6, kernel_size=5), nn.LazyBatchNorm2d(),\n",
        "            nn.Sigmoid(), nn.AvgPool2d(kernel_size=2, stride=2),\n",
        "            nn.LazyConv2d(16, kernel_size=5), nn.LazyBatchNorm2d(),\n",
        "            nn.Sigmoid(), nn.AvgPool2d(kernel_size=2, stride=2),\n",
        "            nn.Flatten(), nn.LazyLinear(120), nn.LazyBatchNorm1d(),\n",
        "            nn.Sigmoid(), nn.LazyLinear(84), nn.LazyBatchNorm1d(),\n",
        "            nn.Sigmoid(), nn.LazyLinear(num_classes))"
      ]
    },
    {
      "cell_type": "code",
      "execution_count": 33,
      "metadata": {
        "id": "kIV9uZvwsc3Z",
        "colab": {
          "base_uri": "https://localhost:8080/",
          "height": 265
        },
        "outputId": "1a0c0745-d2ce-46e3-ec4d-e727e610edb7"
      },
      "outputs": [
        {
          "output_type": "display_data",
          "data": {
            "text/plain": [
              "<Figure size 350x250 with 1 Axes>"
            ],
            "image/svg+xml": "<?xml version=\"1.0\" encoding=\"utf-8\" standalone=\"no\"?>\n<!DOCTYPE svg PUBLIC \"-//W3C//DTD SVG 1.1//EN\"\n  \"http://www.w3.org/Graphics/SVG/1.1/DTD/svg11.dtd\">\n<svg xmlns:xlink=\"http://www.w3.org/1999/xlink\" width=\"238.965625pt\" height=\"183.35625pt\" viewBox=\"0 0 238.965625 183.35625\" xmlns=\"http://www.w3.org/2000/svg\" version=\"1.1\">\n <metadata>\n  <rdf:RDF xmlns:dc=\"http://purl.org/dc/elements/1.1/\" xmlns:cc=\"http://creativecommons.org/ns#\" xmlns:rdf=\"http://www.w3.org/1999/02/22-rdf-syntax-ns#\">\n   <cc:Work>\n    <dc:type rdf:resource=\"http://purl.org/dc/dcmitype/StillImage\"/>\n    <dc:date>2024-10-04T13:27:14.287552</dc:date>\n    <dc:format>image/svg+xml</dc:format>\n    <dc:creator>\n     <cc:Agent>\n      <dc:title>Matplotlib v3.7.2, https://matplotlib.org/</dc:title>\n     </cc:Agent>\n    </dc:creator>\n   </cc:Work>\n  </rdf:RDF>\n </metadata>\n <defs>\n  <style type=\"text/css\">*{stroke-linejoin: round; stroke-linecap: butt}</style>\n </defs>\n <g id=\"figure_1\">\n  <g id=\"patch_1\">\n   <path d=\"M 0 183.35625 \nL 238.965625 183.35625 \nL 238.965625 0 \nL 0 0 \nz\n\" style=\"fill: #ffffff\"/>\n  </g>\n  <g id=\"axes_1\">\n   <g id=\"patch_2\">\n    <path d=\"M 30.103125 145.8 \nL 225.403125 145.8 \nL 225.403125 7.2 \nL 30.103125 7.2 \nz\n\" style=\"fill: #ffffff\"/>\n   </g>\n   <g id=\"matplotlib.axis_1\">\n    <g id=\"xtick_1\">\n     <g id=\"line2d_1\">\n      <defs>\n       <path id=\"m395b6b5742\" d=\"M 0 0 \nL 0 3.5 \n\" style=\"stroke: #000000; stroke-width: 0.8\"/>\n      </defs>\n      <g>\n       <use xlink:href=\"#m395b6b5742\" x=\"30.103125\" y=\"145.8\" style=\"stroke: #000000; stroke-width: 0.8\"/>\n      </g>\n     </g>\n     <g id=\"text_1\">\n      <!-- 0 -->\n      <g transform=\"translate(26.921875 160.398438) scale(0.1 -0.1)\">\n       <defs>\n        <path id=\"DejaVuSans-30\" d=\"M 2034 4250 \nQ 1547 4250 1301 3770 \nQ 1056 3291 1056 2328 \nQ 1056 1369 1301 889 \nQ 1547 409 2034 409 \nQ 2525 409 2770 889 \nQ 3016 1369 3016 2328 \nQ 3016 3291 2770 3770 \nQ 2525 4250 2034 4250 \nz\nM 2034 4750 \nQ 2819 4750 3233 4129 \nQ 3647 3509 3647 2328 \nQ 3647 1150 3233 529 \nQ 2819 -91 2034 -91 \nQ 1250 -91 836 529 \nQ 422 1150 422 2328 \nQ 422 3509 836 4129 \nQ 1250 4750 2034 4750 \nz\n\" transform=\"scale(0.015625)\"/>\n       </defs>\n       <use xlink:href=\"#DejaVuSans-30\"/>\n      </g>\n     </g>\n    </g>\n    <g id=\"xtick_2\">\n     <g id=\"line2d_2\">\n      <g>\n       <use xlink:href=\"#m395b6b5742\" x=\"69.163125\" y=\"145.8\" style=\"stroke: #000000; stroke-width: 0.8\"/>\n      </g>\n     </g>\n     <g id=\"text_2\">\n      <!-- 2 -->\n      <g transform=\"translate(65.981875 160.398438) scale(0.1 -0.1)\">\n       <defs>\n        <path id=\"DejaVuSans-32\" d=\"M 1228 531 \nL 3431 531 \nL 3431 0 \nL 469 0 \nL 469 531 \nQ 828 903 1448 1529 \nQ 2069 2156 2228 2338 \nQ 2531 2678 2651 2914 \nQ 2772 3150 2772 3378 \nQ 2772 3750 2511 3984 \nQ 2250 4219 1831 4219 \nQ 1534 4219 1204 4116 \nQ 875 4013 500 3803 \nL 500 4441 \nQ 881 4594 1212 4672 \nQ 1544 4750 1819 4750 \nQ 2544 4750 2975 4387 \nQ 3406 4025 3406 3419 \nQ 3406 3131 3298 2873 \nQ 3191 2616 2906 2266 \nQ 2828 2175 2409 1742 \nQ 1991 1309 1228 531 \nz\n\" transform=\"scale(0.015625)\"/>\n       </defs>\n       <use xlink:href=\"#DejaVuSans-32\"/>\n      </g>\n     </g>\n    </g>\n    <g id=\"xtick_3\">\n     <g id=\"line2d_3\">\n      <g>\n       <use xlink:href=\"#m395b6b5742\" x=\"108.223125\" y=\"145.8\" style=\"stroke: #000000; stroke-width: 0.8\"/>\n      </g>\n     </g>\n     <g id=\"text_3\">\n      <!-- 4 -->\n      <g transform=\"translate(105.041875 160.398438) scale(0.1 -0.1)\">\n       <defs>\n        <path id=\"DejaVuSans-34\" d=\"M 2419 4116 \nL 825 1625 \nL 2419 1625 \nL 2419 4116 \nz\nM 2253 4666 \nL 3047 4666 \nL 3047 1625 \nL 3713 1625 \nL 3713 1100 \nL 3047 1100 \nL 3047 0 \nL 2419 0 \nL 2419 1100 \nL 313 1100 \nL 313 1709 \nL 2253 4666 \nz\n\" transform=\"scale(0.015625)\"/>\n       </defs>\n       <use xlink:href=\"#DejaVuSans-34\"/>\n      </g>\n     </g>\n    </g>\n    <g id=\"xtick_4\">\n     <g id=\"line2d_4\">\n      <g>\n       <use xlink:href=\"#m395b6b5742\" x=\"147.283125\" y=\"145.8\" style=\"stroke: #000000; stroke-width: 0.8\"/>\n      </g>\n     </g>\n     <g id=\"text_4\">\n      <!-- 6 -->\n      <g transform=\"translate(144.101875 160.398438) scale(0.1 -0.1)\">\n       <defs>\n        <path id=\"DejaVuSans-36\" d=\"M 2113 2584 \nQ 1688 2584 1439 2293 \nQ 1191 2003 1191 1497 \nQ 1191 994 1439 701 \nQ 1688 409 2113 409 \nQ 2538 409 2786 701 \nQ 3034 994 3034 1497 \nQ 3034 2003 2786 2293 \nQ 2538 2584 2113 2584 \nz\nM 3366 4563 \nL 3366 3988 \nQ 3128 4100 2886 4159 \nQ 2644 4219 2406 4219 \nQ 1781 4219 1451 3797 \nQ 1122 3375 1075 2522 \nQ 1259 2794 1537 2939 \nQ 1816 3084 2150 3084 \nQ 2853 3084 3261 2657 \nQ 3669 2231 3669 1497 \nQ 3669 778 3244 343 \nQ 2819 -91 2113 -91 \nQ 1303 -91 875 529 \nQ 447 1150 447 2328 \nQ 447 3434 972 4092 \nQ 1497 4750 2381 4750 \nQ 2619 4750 2861 4703 \nQ 3103 4656 3366 4563 \nz\n\" transform=\"scale(0.015625)\"/>\n       </defs>\n       <use xlink:href=\"#DejaVuSans-36\"/>\n      </g>\n     </g>\n    </g>\n    <g id=\"xtick_5\">\n     <g id=\"line2d_5\">\n      <g>\n       <use xlink:href=\"#m395b6b5742\" x=\"186.343125\" y=\"145.8\" style=\"stroke: #000000; stroke-width: 0.8\"/>\n      </g>\n     </g>\n     <g id=\"text_5\">\n      <!-- 8 -->\n      <g transform=\"translate(183.161875 160.398438) scale(0.1 -0.1)\">\n       <defs>\n        <path id=\"DejaVuSans-38\" d=\"M 2034 2216 \nQ 1584 2216 1326 1975 \nQ 1069 1734 1069 1313 \nQ 1069 891 1326 650 \nQ 1584 409 2034 409 \nQ 2484 409 2743 651 \nQ 3003 894 3003 1313 \nQ 3003 1734 2745 1975 \nQ 2488 2216 2034 2216 \nz\nM 1403 2484 \nQ 997 2584 770 2862 \nQ 544 3141 544 3541 \nQ 544 4100 942 4425 \nQ 1341 4750 2034 4750 \nQ 2731 4750 3128 4425 \nQ 3525 4100 3525 3541 \nQ 3525 3141 3298 2862 \nQ 3072 2584 2669 2484 \nQ 3125 2378 3379 2068 \nQ 3634 1759 3634 1313 \nQ 3634 634 3220 271 \nQ 2806 -91 2034 -91 \nQ 1263 -91 848 271 \nQ 434 634 434 1313 \nQ 434 1759 690 2068 \nQ 947 2378 1403 2484 \nz\nM 1172 3481 \nQ 1172 3119 1398 2916 \nQ 1625 2713 2034 2713 \nQ 2441 2713 2670 2916 \nQ 2900 3119 2900 3481 \nQ 2900 3844 2670 4047 \nQ 2441 4250 2034 4250 \nQ 1625 4250 1398 4047 \nQ 1172 3844 1172 3481 \nz\n\" transform=\"scale(0.015625)\"/>\n       </defs>\n       <use xlink:href=\"#DejaVuSans-38\"/>\n      </g>\n     </g>\n    </g>\n    <g id=\"xtick_6\">\n     <g id=\"line2d_6\">\n      <g>\n       <use xlink:href=\"#m395b6b5742\" x=\"225.403125\" y=\"145.8\" style=\"stroke: #000000; stroke-width: 0.8\"/>\n      </g>\n     </g>\n     <g id=\"text_6\">\n      <!-- 10 -->\n      <g transform=\"translate(219.040625 160.398438) scale(0.1 -0.1)\">\n       <defs>\n        <path id=\"DejaVuSans-31\" d=\"M 794 531 \nL 1825 531 \nL 1825 4091 \nL 703 3866 \nL 703 4441 \nL 1819 4666 \nL 2450 4666 \nL 2450 531 \nL 3481 531 \nL 3481 0 \nL 794 0 \nL 794 531 \nz\n\" transform=\"scale(0.015625)\"/>\n       </defs>\n       <use xlink:href=\"#DejaVuSans-31\"/>\n       <use xlink:href=\"#DejaVuSans-30\" x=\"63.623047\"/>\n      </g>\n     </g>\n    </g>\n    <g id=\"text_7\">\n     <!-- epoch -->\n     <g transform=\"translate(112.525 174.076563) scale(0.1 -0.1)\">\n      <defs>\n       <path id=\"DejaVuSans-65\" d=\"M 3597 1894 \nL 3597 1613 \nL 953 1613 \nQ 991 1019 1311 708 \nQ 1631 397 2203 397 \nQ 2534 397 2845 478 \nQ 3156 559 3463 722 \nL 3463 178 \nQ 3153 47 2828 -22 \nQ 2503 -91 2169 -91 \nQ 1331 -91 842 396 \nQ 353 884 353 1716 \nQ 353 2575 817 3079 \nQ 1281 3584 2069 3584 \nQ 2775 3584 3186 3129 \nQ 3597 2675 3597 1894 \nz\nM 3022 2063 \nQ 3016 2534 2758 2815 \nQ 2500 3097 2075 3097 \nQ 1594 3097 1305 2825 \nQ 1016 2553 972 2059 \nL 3022 2063 \nz\n\" transform=\"scale(0.015625)\"/>\n       <path id=\"DejaVuSans-70\" d=\"M 1159 525 \nL 1159 -1331 \nL 581 -1331 \nL 581 3500 \nL 1159 3500 \nL 1159 2969 \nQ 1341 3281 1617 3432 \nQ 1894 3584 2278 3584 \nQ 2916 3584 3314 3078 \nQ 3713 2572 3713 1747 \nQ 3713 922 3314 415 \nQ 2916 -91 2278 -91 \nQ 1894 -91 1617 61 \nQ 1341 213 1159 525 \nz\nM 3116 1747 \nQ 3116 2381 2855 2742 \nQ 2594 3103 2138 3103 \nQ 1681 3103 1420 2742 \nQ 1159 2381 1159 1747 \nQ 1159 1113 1420 752 \nQ 1681 391 2138 391 \nQ 2594 391 2855 752 \nQ 3116 1113 3116 1747 \nz\n\" transform=\"scale(0.015625)\"/>\n       <path id=\"DejaVuSans-6f\" d=\"M 1959 3097 \nQ 1497 3097 1228 2736 \nQ 959 2375 959 1747 \nQ 959 1119 1226 758 \nQ 1494 397 1959 397 \nQ 2419 397 2687 759 \nQ 2956 1122 2956 1747 \nQ 2956 2369 2687 2733 \nQ 2419 3097 1959 3097 \nz\nM 1959 3584 \nQ 2709 3584 3137 3096 \nQ 3566 2609 3566 1747 \nQ 3566 888 3137 398 \nQ 2709 -91 1959 -91 \nQ 1206 -91 779 398 \nQ 353 888 353 1747 \nQ 353 2609 779 3096 \nQ 1206 3584 1959 3584 \nz\n\" transform=\"scale(0.015625)\"/>\n       <path id=\"DejaVuSans-63\" d=\"M 3122 3366 \nL 3122 2828 \nQ 2878 2963 2633 3030 \nQ 2388 3097 2138 3097 \nQ 1578 3097 1268 2742 \nQ 959 2388 959 1747 \nQ 959 1106 1268 751 \nQ 1578 397 2138 397 \nQ 2388 397 2633 464 \nQ 2878 531 3122 666 \nL 3122 134 \nQ 2881 22 2623 -34 \nQ 2366 -91 2075 -91 \nQ 1284 -91 818 406 \nQ 353 903 353 1747 \nQ 353 2603 823 3093 \nQ 1294 3584 2113 3584 \nQ 2378 3584 2631 3529 \nQ 2884 3475 3122 3366 \nz\n\" transform=\"scale(0.015625)\"/>\n       <path id=\"DejaVuSans-68\" d=\"M 3513 2113 \nL 3513 0 \nL 2938 0 \nL 2938 2094 \nQ 2938 2591 2744 2837 \nQ 2550 3084 2163 3084 \nQ 1697 3084 1428 2787 \nQ 1159 2491 1159 1978 \nL 1159 0 \nL 581 0 \nL 581 4863 \nL 1159 4863 \nL 1159 2956 \nQ 1366 3272 1645 3428 \nQ 1925 3584 2291 3584 \nQ 2894 3584 3203 3211 \nQ 3513 2838 3513 2113 \nz\n\" transform=\"scale(0.015625)\"/>\n      </defs>\n      <use xlink:href=\"#DejaVuSans-65\"/>\n      <use xlink:href=\"#DejaVuSans-70\" x=\"61.523438\"/>\n      <use xlink:href=\"#DejaVuSans-6f\" x=\"125\"/>\n      <use xlink:href=\"#DejaVuSans-63\" x=\"186.181641\"/>\n      <use xlink:href=\"#DejaVuSans-68\" x=\"241.162109\"/>\n     </g>\n    </g>\n   </g>\n   <g id=\"matplotlib.axis_2\">\n    <g id=\"ytick_1\">\n     <g id=\"line2d_7\">\n      <defs>\n       <path id=\"m015442ddbd\" d=\"M 0 0 \nL -3.5 0 \n\" style=\"stroke: #000000; stroke-width: 0.8\"/>\n      </defs>\n      <g>\n       <use xlink:href=\"#m015442ddbd\" x=\"30.103125\" y=\"120.564503\" style=\"stroke: #000000; stroke-width: 0.8\"/>\n      </g>\n     </g>\n     <g id=\"text_8\">\n      <!-- 0.4 -->\n      <g transform=\"translate(7.2 124.363722) scale(0.1 -0.1)\">\n       <defs>\n        <path id=\"DejaVuSans-2e\" d=\"M 684 794 \nL 1344 794 \nL 1344 0 \nL 684 0 \nL 684 794 \nz\n\" transform=\"scale(0.015625)\"/>\n       </defs>\n       <use xlink:href=\"#DejaVuSans-30\"/>\n       <use xlink:href=\"#DejaVuSans-2e\" x=\"63.623047\"/>\n       <use xlink:href=\"#DejaVuSans-34\" x=\"95.410156\"/>\n      </g>\n     </g>\n    </g>\n    <g id=\"ytick_2\">\n     <g id=\"line2d_8\">\n      <g>\n       <use xlink:href=\"#m015442ddbd\" x=\"30.103125\" y=\"80.399352\" style=\"stroke: #000000; stroke-width: 0.8\"/>\n      </g>\n     </g>\n     <g id=\"text_9\">\n      <!-- 0.6 -->\n      <g transform=\"translate(7.2 84.19857) scale(0.1 -0.1)\">\n       <use xlink:href=\"#DejaVuSans-30\"/>\n       <use xlink:href=\"#DejaVuSans-2e\" x=\"63.623047\"/>\n       <use xlink:href=\"#DejaVuSans-36\" x=\"95.410156\"/>\n      </g>\n     </g>\n    </g>\n    <g id=\"ytick_3\">\n     <g id=\"line2d_9\">\n      <g>\n       <use xlink:href=\"#m015442ddbd\" x=\"30.103125\" y=\"40.2342\" style=\"stroke: #000000; stroke-width: 0.8\"/>\n      </g>\n     </g>\n     <g id=\"text_10\">\n      <!-- 0.8 -->\n      <g transform=\"translate(7.2 44.033419) scale(0.1 -0.1)\">\n       <use xlink:href=\"#DejaVuSans-30\"/>\n       <use xlink:href=\"#DejaVuSans-2e\" x=\"63.623047\"/>\n       <use xlink:href=\"#DejaVuSans-38\" x=\"95.410156\"/>\n      </g>\n     </g>\n    </g>\n   </g>\n   <g id=\"line2d_10\">\n    <path d=\"M 34.954394 13.5 \n\" clip-path=\"url(#p23bbc28c06)\" style=\"fill: none; stroke: #1f77b4; stroke-width: 1.5; stroke-linecap: square\"/>\n   </g>\n   <g id=\"line2d_11\">\n    <path d=\"M 34.954394 13.5 \nL 44.698573 79.072307 \n\" clip-path=\"url(#p23bbc28c06)\" style=\"fill: none; stroke: #1f77b4; stroke-width: 1.5; stroke-linecap: square\"/>\n   </g>\n   <g id=\"line2d_12\">\n    <path d=\"M 34.954394 13.5 \nL 44.698573 79.072307 \n\" clip-path=\"url(#p23bbc28c06)\" style=\"fill: none; stroke: #1f77b4; stroke-width: 1.5; stroke-linecap: square\"/>\n   </g>\n   <g id=\"line2d_13\">\n    <path d=\"M 49.633125 77.720143 \n\" clip-path=\"url(#p23bbc28c06)\" style=\"fill: none; stroke-dasharray: 5.55,2.4; stroke-dashoffset: 0; stroke: #ff7f0e; stroke-width: 1.5\"/>\n   </g>\n   <g id=\"line2d_14\"/>\n   <g id=\"line2d_15\">\n    <path d=\"M 34.954394 13.5 \nL 44.698573 79.072307 \n\" clip-path=\"url(#p23bbc28c06)\" style=\"fill: none; stroke: #1f77b4; stroke-width: 1.5; stroke-linecap: square\"/>\n   </g>\n   <g id=\"line2d_16\">\n    <path d=\"M 49.633125 77.720143 \n\" clip-path=\"url(#p23bbc28c06)\" style=\"fill: none; stroke-dasharray: 5.55,2.4; stroke-dashoffset: 0; stroke: #ff7f0e; stroke-width: 1.5\"/>\n   </g>\n   <g id=\"line2d_17\">\n    <path d=\"M 49.633125 42.887515 \n\" clip-path=\"url(#p23bbc28c06)\" style=\"fill: none; stroke-dasharray: 9.6,2.4,1.5,2.4; stroke-dashoffset: 0; stroke: #2ca02c; stroke-width: 1.5\"/>\n   </g>\n   <g id=\"line2d_18\">\n    <path d=\"M 34.954394 13.5 \nL 44.698573 79.072307 \nL 54.442752 96.35899 \n\" clip-path=\"url(#p23bbc28c06)\" style=\"fill: none; stroke: #1f77b4; stroke-width: 1.5; stroke-linecap: square\"/>\n   </g>\n   <g id=\"line2d_19\">\n    <path d=\"M 49.633125 77.720143 \n\" clip-path=\"url(#p23bbc28c06)\" style=\"fill: none; stroke-dasharray: 5.55,2.4; stroke-dashoffset: 0; stroke: #ff7f0e; stroke-width: 1.5\"/>\n   </g>\n   <g id=\"line2d_20\">\n    <path d=\"M 49.633125 42.887515 \n\" clip-path=\"url(#p23bbc28c06)\" style=\"fill: none; stroke-dasharray: 9.6,2.4,1.5,2.4; stroke-dashoffset: 0; stroke: #2ca02c; stroke-width: 1.5\"/>\n   </g>\n   <g id=\"line2d_21\">\n    <path d=\"M 34.954394 13.5 \nL 44.698573 79.072307 \nL 54.442752 96.35899 \nL 64.186931 101.747858 \n\" clip-path=\"url(#p23bbc28c06)\" style=\"fill: none; stroke: #1f77b4; stroke-width: 1.5; stroke-linecap: square\"/>\n   </g>\n   <g id=\"line2d_22\">\n    <path d=\"M 49.633125 77.720143 \n\" clip-path=\"url(#p23bbc28c06)\" style=\"fill: none; stroke-dasharray: 5.55,2.4; stroke-dashoffset: 0; stroke: #ff7f0e; stroke-width: 1.5\"/>\n   </g>\n   <g id=\"line2d_23\">\n    <path d=\"M 49.633125 42.887515 \n\" clip-path=\"url(#p23bbc28c06)\" style=\"fill: none; stroke-dasharray: 9.6,2.4,1.5,2.4; stroke-dashoffset: 0; stroke: #2ca02c; stroke-width: 1.5\"/>\n   </g>\n   <g id=\"line2d_24\">\n    <path d=\"M 34.954394 13.5 \nL 44.698573 79.072307 \nL 54.442752 96.35899 \nL 64.186931 101.747858 \n\" clip-path=\"url(#p23bbc28c06)\" style=\"fill: none; stroke: #1f77b4; stroke-width: 1.5; stroke-linecap: square\"/>\n   </g>\n   <g id=\"line2d_25\">\n    <path d=\"M 49.633125 77.720143 \nL 69.163125 94.90275 \n\" clip-path=\"url(#p23bbc28c06)\" style=\"fill: none; stroke-dasharray: 5.55,2.4; stroke-dashoffset: 0; stroke: #ff7f0e; stroke-width: 1.5\"/>\n   </g>\n   <g id=\"line2d_26\">\n    <path d=\"M 49.633125 42.887515 \n\" clip-path=\"url(#p23bbc28c06)\" style=\"fill: none; stroke-dasharray: 9.6,2.4,1.5,2.4; stroke-dashoffset: 0; stroke: #2ca02c; stroke-width: 1.5\"/>\n   </g>\n   <g id=\"line2d_27\">\n    <path d=\"M 34.954394 13.5 \nL 44.698573 79.072307 \nL 54.442752 96.35899 \nL 64.186931 101.747858 \n\" clip-path=\"url(#p23bbc28c06)\" style=\"fill: none; stroke: #1f77b4; stroke-width: 1.5; stroke-linecap: square\"/>\n   </g>\n   <g id=\"line2d_28\">\n    <path d=\"M 49.633125 77.720143 \nL 69.163125 94.90275 \n\" clip-path=\"url(#p23bbc28c06)\" style=\"fill: none; stroke-dasharray: 5.55,2.4; stroke-dashoffset: 0; stroke: #ff7f0e; stroke-width: 1.5\"/>\n   </g>\n   <g id=\"line2d_29\">\n    <path d=\"M 49.633125 42.887515 \nL 69.163125 37.545137 \n\" clip-path=\"url(#p23bbc28c06)\" style=\"fill: none; stroke-dasharray: 9.6,2.4,1.5,2.4; stroke-dashoffset: 0; stroke: #2ca02c; stroke-width: 1.5\"/>\n   </g>\n   <g id=\"line2d_30\">\n    <path d=\"M 34.954394 13.5 \nL 44.698573 79.072307 \nL 54.442752 96.35899 \nL 64.186931 101.747858 \nL 73.93111 108.459224 \n\" clip-path=\"url(#p23bbc28c06)\" style=\"fill: none; stroke: #1f77b4; stroke-width: 1.5; stroke-linecap: square\"/>\n   </g>\n   <g id=\"line2d_31\">\n    <path d=\"M 49.633125 77.720143 \nL 69.163125 94.90275 \n\" clip-path=\"url(#p23bbc28c06)\" style=\"fill: none; stroke-dasharray: 5.55,2.4; stroke-dashoffset: 0; stroke: #ff7f0e; stroke-width: 1.5\"/>\n   </g>\n   <g id=\"line2d_32\">\n    <path d=\"M 49.633125 42.887515 \nL 69.163125 37.545137 \n\" clip-path=\"url(#p23bbc28c06)\" style=\"fill: none; stroke-dasharray: 9.6,2.4,1.5,2.4; stroke-dashoffset: 0; stroke: #2ca02c; stroke-width: 1.5\"/>\n   </g>\n   <g id=\"line2d_33\">\n    <path d=\"M 34.954394 13.5 \nL 44.698573 79.072307 \nL 54.442752 96.35899 \nL 64.186931 101.747858 \nL 73.93111 108.459224 \nL 83.675289 114.585349 \n\" clip-path=\"url(#p23bbc28c06)\" style=\"fill: none; stroke: #1f77b4; stroke-width: 1.5; stroke-linecap: square\"/>\n   </g>\n   <g id=\"line2d_34\">\n    <path d=\"M 49.633125 77.720143 \nL 69.163125 94.90275 \n\" clip-path=\"url(#p23bbc28c06)\" style=\"fill: none; stroke-dasharray: 5.55,2.4; stroke-dashoffset: 0; stroke: #ff7f0e; stroke-width: 1.5\"/>\n   </g>\n   <g id=\"line2d_35\">\n    <path d=\"M 49.633125 42.887515 \nL 69.163125 37.545137 \n\" clip-path=\"url(#p23bbc28c06)\" style=\"fill: none; stroke-dasharray: 9.6,2.4,1.5,2.4; stroke-dashoffset: 0; stroke: #2ca02c; stroke-width: 1.5\"/>\n   </g>\n   <g id=\"line2d_36\">\n    <path d=\"M 34.954394 13.5 \nL 44.698573 79.072307 \nL 54.442752 96.35899 \nL 64.186931 101.747858 \nL 73.93111 108.459224 \nL 83.675289 114.585349 \n\" clip-path=\"url(#p23bbc28c06)\" style=\"fill: none; stroke: #1f77b4; stroke-width: 1.5; stroke-linecap: square\"/>\n   </g>\n   <g id=\"line2d_37\">\n    <path d=\"M 49.633125 77.720143 \nL 69.163125 94.90275 \nL 88.693125 102.68548 \n\" clip-path=\"url(#p23bbc28c06)\" style=\"fill: none; stroke-dasharray: 5.55,2.4; stroke-dashoffset: 0; stroke: #ff7f0e; stroke-width: 1.5\"/>\n   </g>\n   <g id=\"line2d_38\">\n    <path d=\"M 49.633125 42.887515 \nL 69.163125 37.545137 \n\" clip-path=\"url(#p23bbc28c06)\" style=\"fill: none; stroke-dasharray: 9.6,2.4,1.5,2.4; stroke-dashoffset: 0; stroke: #2ca02c; stroke-width: 1.5\"/>\n   </g>\n   <g id=\"line2d_39\">\n    <path d=\"M 34.954394 13.5 \nL 44.698573 79.072307 \nL 54.442752 96.35899 \nL 64.186931 101.747858 \nL 73.93111 108.459224 \nL 83.675289 114.585349 \n\" clip-path=\"url(#p23bbc28c06)\" style=\"fill: none; stroke: #1f77b4; stroke-width: 1.5; stroke-linecap: square\"/>\n   </g>\n   <g id=\"line2d_40\">\n    <path d=\"M 49.633125 77.720143 \nL 69.163125 94.90275 \nL 88.693125 102.68548 \n\" clip-path=\"url(#p23bbc28c06)\" style=\"fill: none; stroke-dasharray: 5.55,2.4; stroke-dashoffset: 0; stroke: #ff7f0e; stroke-width: 1.5\"/>\n   </g>\n   <g id=\"line2d_41\">\n    <path d=\"M 49.633125 42.887515 \nL 69.163125 37.545137 \nL 88.693125 34.824298 \n\" clip-path=\"url(#p23bbc28c06)\" style=\"fill: none; stroke-dasharray: 9.6,2.4,1.5,2.4; stroke-dashoffset: 0; stroke: #2ca02c; stroke-width: 1.5\"/>\n   </g>\n   <g id=\"line2d_42\">\n    <path d=\"M 34.954394 13.5 \nL 44.698573 79.072307 \nL 54.442752 96.35899 \nL 64.186931 101.747858 \nL 73.93111 108.459224 \nL 83.675289 114.585349 \nL 93.419468 118.413546 \n\" clip-path=\"url(#p23bbc28c06)\" style=\"fill: none; stroke: #1f77b4; stroke-width: 1.5; stroke-linecap: square\"/>\n   </g>\n   <g id=\"line2d_43\">\n    <path d=\"M 49.633125 77.720143 \nL 69.163125 94.90275 \nL 88.693125 102.68548 \n\" clip-path=\"url(#p23bbc28c06)\" style=\"fill: none; stroke-dasharray: 5.55,2.4; stroke-dashoffset: 0; stroke: #ff7f0e; stroke-width: 1.5\"/>\n   </g>\n   <g id=\"line2d_44\">\n    <path d=\"M 49.633125 42.887515 \nL 69.163125 37.545137 \nL 88.693125 34.824298 \n\" clip-path=\"url(#p23bbc28c06)\" style=\"fill: none; stroke-dasharray: 9.6,2.4,1.5,2.4; stroke-dashoffset: 0; stroke: #2ca02c; stroke-width: 1.5\"/>\n   </g>\n   <g id=\"line2d_45\">\n    <path d=\"M 34.954394 13.5 \nL 44.698573 79.072307 \nL 54.442752 96.35899 \nL 64.186931 101.747858 \nL 73.93111 108.459224 \nL 83.675289 114.585349 \nL 93.419468 118.413546 \nL 103.163647 119.117443 \n\" clip-path=\"url(#p23bbc28c06)\" style=\"fill: none; stroke: #1f77b4; stroke-width: 1.5; stroke-linecap: square\"/>\n   </g>\n   <g id=\"line2d_46\">\n    <path d=\"M 49.633125 77.720143 \nL 69.163125 94.90275 \nL 88.693125 102.68548 \n\" clip-path=\"url(#p23bbc28c06)\" style=\"fill: none; stroke-dasharray: 5.55,2.4; stroke-dashoffset: 0; stroke: #ff7f0e; stroke-width: 1.5\"/>\n   </g>\n   <g id=\"line2d_47\">\n    <path d=\"M 49.633125 42.887515 \nL 69.163125 37.545137 \nL 88.693125 34.824298 \n\" clip-path=\"url(#p23bbc28c06)\" style=\"fill: none; stroke-dasharray: 9.6,2.4,1.5,2.4; stroke-dashoffset: 0; stroke: #2ca02c; stroke-width: 1.5\"/>\n   </g>\n   <g id=\"line2d_48\">\n    <path d=\"M 34.954394 13.5 \nL 44.698573 79.072307 \nL 54.442752 96.35899 \nL 64.186931 101.747858 \nL 73.93111 108.459224 \nL 83.675289 114.585349 \nL 93.419468 118.413546 \nL 103.163647 119.117443 \n\" clip-path=\"url(#p23bbc28c06)\" style=\"fill: none; stroke: #1f77b4; stroke-width: 1.5; stroke-linecap: square\"/>\n   </g>\n   <g id=\"line2d_49\">\n    <path d=\"M 49.633125 77.720143 \nL 69.163125 94.90275 \nL 88.693125 102.68548 \nL 108.223125 112.9566 \n\" clip-path=\"url(#p23bbc28c06)\" style=\"fill: none; stroke-dasharray: 5.55,2.4; stroke-dashoffset: 0; stroke: #ff7f0e; stroke-width: 1.5\"/>\n   </g>\n   <g id=\"line2d_50\">\n    <path d=\"M 49.633125 42.887515 \nL 69.163125 37.545137 \nL 88.693125 34.824298 \n\" clip-path=\"url(#p23bbc28c06)\" style=\"fill: none; stroke-dasharray: 9.6,2.4,1.5,2.4; stroke-dashoffset: 0; stroke: #2ca02c; stroke-width: 1.5\"/>\n   </g>\n   <g id=\"line2d_51\">\n    <path d=\"M 34.954394 13.5 \nL 44.698573 79.072307 \nL 54.442752 96.35899 \nL 64.186931 101.747858 \nL 73.93111 108.459224 \nL 83.675289 114.585349 \nL 93.419468 118.413546 \nL 103.163647 119.117443 \n\" clip-path=\"url(#p23bbc28c06)\" style=\"fill: none; stroke: #1f77b4; stroke-width: 1.5; stroke-linecap: square\"/>\n   </g>\n   <g id=\"line2d_52\">\n    <path d=\"M 49.633125 77.720143 \nL 69.163125 94.90275 \nL 88.693125 102.68548 \nL 108.223125 112.9566 \n\" clip-path=\"url(#p23bbc28c06)\" style=\"fill: none; stroke-dasharray: 5.55,2.4; stroke-dashoffset: 0; stroke: #ff7f0e; stroke-width: 1.5\"/>\n   </g>\n   <g id=\"line2d_53\">\n    <path d=\"M 49.633125 42.887515 \nL 69.163125 37.545137 \nL 88.693125 34.824298 \nL 108.223125 30.514647 \n\" clip-path=\"url(#p23bbc28c06)\" style=\"fill: none; stroke-dasharray: 9.6,2.4,1.5,2.4; stroke-dashoffset: 0; stroke: #2ca02c; stroke-width: 1.5\"/>\n   </g>\n   <g id=\"line2d_54\">\n    <path d=\"M 34.954394 13.5 \nL 44.698573 79.072307 \nL 54.442752 96.35899 \nL 64.186931 101.747858 \nL 73.93111 108.459224 \nL 83.675289 114.585349 \nL 93.419468 118.413546 \nL 103.163647 119.117443 \nL 112.907826 122.98811 \n\" clip-path=\"url(#p23bbc28c06)\" style=\"fill: none; stroke: #1f77b4; stroke-width: 1.5; stroke-linecap: square\"/>\n   </g>\n   <g id=\"line2d_55\">\n    <path d=\"M 49.633125 77.720143 \nL 69.163125 94.90275 \nL 88.693125 102.68548 \nL 108.223125 112.9566 \n\" clip-path=\"url(#p23bbc28c06)\" style=\"fill: none; stroke-dasharray: 5.55,2.4; stroke-dashoffset: 0; stroke: #ff7f0e; stroke-width: 1.5\"/>\n   </g>\n   <g id=\"line2d_56\">\n    <path d=\"M 49.633125 42.887515 \nL 69.163125 37.545137 \nL 88.693125 34.824298 \nL 108.223125 30.514647 \n\" clip-path=\"url(#p23bbc28c06)\" style=\"fill: none; stroke-dasharray: 9.6,2.4,1.5,2.4; stroke-dashoffset: 0; stroke: #2ca02c; stroke-width: 1.5\"/>\n   </g>\n   <g id=\"line2d_57\">\n    <path d=\"M 34.954394 13.5 \nL 44.698573 79.072307 \nL 54.442752 96.35899 \nL 64.186931 101.747858 \nL 73.93111 108.459224 \nL 83.675289 114.585349 \nL 93.419468 118.413546 \nL 103.163647 119.117443 \nL 112.907826 122.98811 \nL 122.652006 124.715242 \n\" clip-path=\"url(#p23bbc28c06)\" style=\"fill: none; stroke: #1f77b4; stroke-width: 1.5; stroke-linecap: square\"/>\n   </g>\n   <g id=\"line2d_58\">\n    <path d=\"M 49.633125 77.720143 \nL 69.163125 94.90275 \nL 88.693125 102.68548 \nL 108.223125 112.9566 \n\" clip-path=\"url(#p23bbc28c06)\" style=\"fill: none; stroke-dasharray: 5.55,2.4; stroke-dashoffset: 0; stroke: #ff7f0e; stroke-width: 1.5\"/>\n   </g>\n   <g id=\"line2d_59\">\n    <path d=\"M 49.633125 42.887515 \nL 69.163125 37.545137 \nL 88.693125 34.824298 \nL 108.223125 30.514647 \n\" clip-path=\"url(#p23bbc28c06)\" style=\"fill: none; stroke-dasharray: 9.6,2.4,1.5,2.4; stroke-dashoffset: 0; stroke: #2ca02c; stroke-width: 1.5\"/>\n   </g>\n   <g id=\"line2d_60\">\n    <path d=\"M 34.954394 13.5 \nL 44.698573 79.072307 \nL 54.442752 96.35899 \nL 64.186931 101.747858 \nL 73.93111 108.459224 \nL 83.675289 114.585349 \nL 93.419468 118.413546 \nL 103.163647 119.117443 \nL 112.907826 122.98811 \nL 122.652006 124.715242 \n\" clip-path=\"url(#p23bbc28c06)\" style=\"fill: none; stroke: #1f77b4; stroke-width: 1.5; stroke-linecap: square\"/>\n   </g>\n   <g id=\"line2d_61\">\n    <path d=\"M 49.633125 77.720143 \nL 69.163125 94.90275 \nL 88.693125 102.68548 \nL 108.223125 112.9566 \nL 127.753125 115.465133 \n\" clip-path=\"url(#p23bbc28c06)\" style=\"fill: none; stroke-dasharray: 5.55,2.4; stroke-dashoffset: 0; stroke: #ff7f0e; stroke-width: 1.5\"/>\n   </g>\n   <g id=\"line2d_62\">\n    <path d=\"M 49.633125 42.887515 \nL 69.163125 37.545137 \nL 88.693125 34.824298 \nL 108.223125 30.514647 \n\" clip-path=\"url(#p23bbc28c06)\" style=\"fill: none; stroke-dasharray: 9.6,2.4,1.5,2.4; stroke-dashoffset: 0; stroke: #2ca02c; stroke-width: 1.5\"/>\n   </g>\n   <g id=\"line2d_63\">\n    <path d=\"M 34.954394 13.5 \nL 44.698573 79.072307 \nL 54.442752 96.35899 \nL 64.186931 101.747858 \nL 73.93111 108.459224 \nL 83.675289 114.585349 \nL 93.419468 118.413546 \nL 103.163647 119.117443 \nL 112.907826 122.98811 \nL 122.652006 124.715242 \n\" clip-path=\"url(#p23bbc28c06)\" style=\"fill: none; stroke: #1f77b4; stroke-width: 1.5; stroke-linecap: square\"/>\n   </g>\n   <g id=\"line2d_64\">\n    <path d=\"M 49.633125 77.720143 \nL 69.163125 94.90275 \nL 88.693125 102.68548 \nL 108.223125 112.9566 \nL 127.753125 115.465133 \n\" clip-path=\"url(#p23bbc28c06)\" style=\"fill: none; stroke-dasharray: 5.55,2.4; stroke-dashoffset: 0; stroke: #ff7f0e; stroke-width: 1.5\"/>\n   </g>\n   <g id=\"line2d_65\">\n    <path d=\"M 49.633125 42.887515 \nL 69.163125 37.545137 \nL 88.693125 34.824298 \nL 108.223125 30.514647 \nL 127.753125 31.150171 \n\" clip-path=\"url(#p23bbc28c06)\" style=\"fill: none; stroke-dasharray: 9.6,2.4,1.5,2.4; stroke-dashoffset: 0; stroke: #2ca02c; stroke-width: 1.5\"/>\n   </g>\n   <g id=\"line2d_66\">\n    <path d=\"M 34.954394 13.5 \nL 44.698573 79.072307 \nL 54.442752 96.35899 \nL 64.186931 101.747858 \nL 73.93111 108.459224 \nL 83.675289 114.585349 \nL 93.419468 118.413546 \nL 103.163647 119.117443 \nL 112.907826 122.98811 \nL 122.652006 124.715242 \nL 132.396185 127.581637 \n\" clip-path=\"url(#p23bbc28c06)\" style=\"fill: none; stroke: #1f77b4; stroke-width: 1.5; stroke-linecap: square\"/>\n   </g>\n   <g id=\"line2d_67\">\n    <path d=\"M 49.633125 77.720143 \nL 69.163125 94.90275 \nL 88.693125 102.68548 \nL 108.223125 112.9566 \nL 127.753125 115.465133 \n\" clip-path=\"url(#p23bbc28c06)\" style=\"fill: none; stroke-dasharray: 5.55,2.4; stroke-dashoffset: 0; stroke: #ff7f0e; stroke-width: 1.5\"/>\n   </g>\n   <g id=\"line2d_68\">\n    <path d=\"M 49.633125 42.887515 \nL 69.163125 37.545137 \nL 88.693125 34.824298 \nL 108.223125 30.514647 \nL 127.753125 31.150171 \n\" clip-path=\"url(#p23bbc28c06)\" style=\"fill: none; stroke-dasharray: 9.6,2.4,1.5,2.4; stroke-dashoffset: 0; stroke: #2ca02c; stroke-width: 1.5\"/>\n   </g>\n   <g id=\"line2d_69\">\n    <path d=\"M 34.954394 13.5 \nL 44.698573 79.072307 \nL 54.442752 96.35899 \nL 64.186931 101.747858 \nL 73.93111 108.459224 \nL 83.675289 114.585349 \nL 93.419468 118.413546 \nL 103.163647 119.117443 \nL 112.907826 122.98811 \nL 122.652006 124.715242 \nL 132.396185 127.581637 \nL 142.140364 128.513898 \n\" clip-path=\"url(#p23bbc28c06)\" style=\"fill: none; stroke: #1f77b4; stroke-width: 1.5; stroke-linecap: square\"/>\n   </g>\n   <g id=\"line2d_70\">\n    <path d=\"M 49.633125 77.720143 \nL 69.163125 94.90275 \nL 88.693125 102.68548 \nL 108.223125 112.9566 \nL 127.753125 115.465133 \n\" clip-path=\"url(#p23bbc28c06)\" style=\"fill: none; stroke-dasharray: 5.55,2.4; stroke-dashoffset: 0; stroke: #ff7f0e; stroke-width: 1.5\"/>\n   </g>\n   <g id=\"line2d_71\">\n    <path d=\"M 49.633125 42.887515 \nL 69.163125 37.545137 \nL 88.693125 34.824298 \nL 108.223125 30.514647 \nL 127.753125 31.150171 \n\" clip-path=\"url(#p23bbc28c06)\" style=\"fill: none; stroke-dasharray: 9.6,2.4,1.5,2.4; stroke-dashoffset: 0; stroke: #2ca02c; stroke-width: 1.5\"/>\n   </g>\n   <g id=\"line2d_72\">\n    <path d=\"M 34.954394 13.5 \nL 44.698573 79.072307 \nL 54.442752 96.35899 \nL 64.186931 101.747858 \nL 73.93111 108.459224 \nL 83.675289 114.585349 \nL 93.419468 118.413546 \nL 103.163647 119.117443 \nL 112.907826 122.98811 \nL 122.652006 124.715242 \nL 132.396185 127.581637 \nL 142.140364 128.513898 \n\" clip-path=\"url(#p23bbc28c06)\" style=\"fill: none; stroke: #1f77b4; stroke-width: 1.5; stroke-linecap: square\"/>\n   </g>\n   <g id=\"line2d_73\">\n    <path d=\"M 49.633125 77.720143 \nL 69.163125 94.90275 \nL 88.693125 102.68548 \nL 108.223125 112.9566 \nL 127.753125 115.465133 \nL 147.283125 102.337134 \n\" clip-path=\"url(#p23bbc28c06)\" style=\"fill: none; stroke-dasharray: 5.55,2.4; stroke-dashoffset: 0; stroke: #ff7f0e; stroke-width: 1.5\"/>\n   </g>\n   <g id=\"line2d_74\">\n    <path d=\"M 49.633125 42.887515 \nL 69.163125 37.545137 \nL 88.693125 34.824298 \nL 108.223125 30.514647 \nL 127.753125 31.150171 \n\" clip-path=\"url(#p23bbc28c06)\" style=\"fill: none; stroke-dasharray: 9.6,2.4,1.5,2.4; stroke-dashoffset: 0; stroke: #2ca02c; stroke-width: 1.5\"/>\n   </g>\n   <g id=\"line2d_75\">\n    <path d=\"M 34.954394 13.5 \nL 44.698573 79.072307 \nL 54.442752 96.35899 \nL 64.186931 101.747858 \nL 73.93111 108.459224 \nL 83.675289 114.585349 \nL 93.419468 118.413546 \nL 103.163647 119.117443 \nL 112.907826 122.98811 \nL 122.652006 124.715242 \nL 132.396185 127.581637 \nL 142.140364 128.513898 \n\" clip-path=\"url(#p23bbc28c06)\" style=\"fill: none; stroke: #1f77b4; stroke-width: 1.5; stroke-linecap: square\"/>\n   </g>\n   <g id=\"line2d_76\">\n    <path d=\"M 49.633125 77.720143 \nL 69.163125 94.90275 \nL 88.693125 102.68548 \nL 108.223125 112.9566 \nL 127.753125 115.465133 \nL 147.283125 102.337134 \n\" clip-path=\"url(#p23bbc28c06)\" style=\"fill: none; stroke-dasharray: 5.55,2.4; stroke-dashoffset: 0; stroke: #ff7f0e; stroke-width: 1.5\"/>\n   </g>\n   <g id=\"line2d_77\">\n    <path d=\"M 49.633125 42.887515 \nL 69.163125 37.545137 \nL 88.693125 34.824298 \nL 108.223125 30.514647 \nL 127.753125 31.150171 \nL 147.283125 34.446955 \n\" clip-path=\"url(#p23bbc28c06)\" style=\"fill: none; stroke-dasharray: 9.6,2.4,1.5,2.4; stroke-dashoffset: 0; stroke: #2ca02c; stroke-width: 1.5\"/>\n   </g>\n   <g id=\"line2d_78\">\n    <path d=\"M 34.954394 13.5 \nL 44.698573 79.072307 \nL 54.442752 96.35899 \nL 64.186931 101.747858 \nL 73.93111 108.459224 \nL 83.675289 114.585349 \nL 93.419468 118.413546 \nL 103.163647 119.117443 \nL 112.907826 122.98811 \nL 122.652006 124.715242 \nL 132.396185 127.581637 \nL 142.140364 128.513898 \nL 151.884543 129.448043 \n\" clip-path=\"url(#p23bbc28c06)\" style=\"fill: none; stroke: #1f77b4; stroke-width: 1.5; stroke-linecap: square\"/>\n   </g>\n   <g id=\"line2d_79\">\n    <path d=\"M 49.633125 77.720143 \nL 69.163125 94.90275 \nL 88.693125 102.68548 \nL 108.223125 112.9566 \nL 127.753125 115.465133 \nL 147.283125 102.337134 \n\" clip-path=\"url(#p23bbc28c06)\" style=\"fill: none; stroke-dasharray: 5.55,2.4; stroke-dashoffset: 0; stroke: #ff7f0e; stroke-width: 1.5\"/>\n   </g>\n   <g id=\"line2d_80\">\n    <path d=\"M 49.633125 42.887515 \nL 69.163125 37.545137 \nL 88.693125 34.824298 \nL 108.223125 30.514647 \nL 127.753125 31.150171 \nL 147.283125 34.446955 \n\" clip-path=\"url(#p23bbc28c06)\" style=\"fill: none; stroke-dasharray: 9.6,2.4,1.5,2.4; stroke-dashoffset: 0; stroke: #2ca02c; stroke-width: 1.5\"/>\n   </g>\n   <g id=\"line2d_81\">\n    <path d=\"M 34.954394 13.5 \nL 44.698573 79.072307 \nL 54.442752 96.35899 \nL 64.186931 101.747858 \nL 73.93111 108.459224 \nL 83.675289 114.585349 \nL 93.419468 118.413546 \nL 103.163647 119.117443 \nL 112.907826 122.98811 \nL 122.652006 124.715242 \nL 132.396185 127.581637 \nL 142.140364 128.513898 \nL 151.884543 129.448043 \nL 161.628722 133.118352 \n\" clip-path=\"url(#p23bbc28c06)\" style=\"fill: none; stroke: #1f77b4; stroke-width: 1.5; stroke-linecap: square\"/>\n   </g>\n   <g id=\"line2d_82\">\n    <path d=\"M 49.633125 77.720143 \nL 69.163125 94.90275 \nL 88.693125 102.68548 \nL 108.223125 112.9566 \nL 127.753125 115.465133 \nL 147.283125 102.337134 \n\" clip-path=\"url(#p23bbc28c06)\" style=\"fill: none; stroke-dasharray: 5.55,2.4; stroke-dashoffset: 0; stroke: #ff7f0e; stroke-width: 1.5\"/>\n   </g>\n   <g id=\"line2d_83\">\n    <path d=\"M 49.633125 42.887515 \nL 69.163125 37.545137 \nL 88.693125 34.824298 \nL 108.223125 30.514647 \nL 127.753125 31.150171 \nL 147.283125 34.446955 \n\" clip-path=\"url(#p23bbc28c06)\" style=\"fill: none; stroke-dasharray: 9.6,2.4,1.5,2.4; stroke-dashoffset: 0; stroke: #2ca02c; stroke-width: 1.5\"/>\n   </g>\n   <g id=\"line2d_84\">\n    <path d=\"M 34.954394 13.5 \nL 44.698573 79.072307 \nL 54.442752 96.35899 \nL 64.186931 101.747858 \nL 73.93111 108.459224 \nL 83.675289 114.585349 \nL 93.419468 118.413546 \nL 103.163647 119.117443 \nL 112.907826 122.98811 \nL 122.652006 124.715242 \nL 132.396185 127.581637 \nL 142.140364 128.513898 \nL 151.884543 129.448043 \nL 161.628722 133.118352 \n\" clip-path=\"url(#p23bbc28c06)\" style=\"fill: none; stroke: #1f77b4; stroke-width: 1.5; stroke-linecap: square\"/>\n   </g>\n   <g id=\"line2d_85\">\n    <path d=\"M 49.633125 77.720143 \nL 69.163125 94.90275 \nL 88.693125 102.68548 \nL 108.223125 112.9566 \nL 127.753125 115.465133 \nL 147.283125 102.337134 \nL 166.813125 125.456435 \n\" clip-path=\"url(#p23bbc28c06)\" style=\"fill: none; stroke-dasharray: 5.55,2.4; stroke-dashoffset: 0; stroke: #ff7f0e; stroke-width: 1.5\"/>\n   </g>\n   <g id=\"line2d_86\">\n    <path d=\"M 49.633125 42.887515 \nL 69.163125 37.545137 \nL 88.693125 34.824298 \nL 108.223125 30.514647 \nL 127.753125 31.150171 \nL 147.283125 34.446955 \n\" clip-path=\"url(#p23bbc28c06)\" style=\"fill: none; stroke-dasharray: 9.6,2.4,1.5,2.4; stroke-dashoffset: 0; stroke: #2ca02c; stroke-width: 1.5\"/>\n   </g>\n   <g id=\"line2d_87\">\n    <path d=\"M 34.954394 13.5 \nL 44.698573 79.072307 \nL 54.442752 96.35899 \nL 64.186931 101.747858 \nL 73.93111 108.459224 \nL 83.675289 114.585349 \nL 93.419468 118.413546 \nL 103.163647 119.117443 \nL 112.907826 122.98811 \nL 122.652006 124.715242 \nL 132.396185 127.581637 \nL 142.140364 128.513898 \nL 151.884543 129.448043 \nL 161.628722 133.118352 \n\" clip-path=\"url(#p23bbc28c06)\" style=\"fill: none; stroke: #1f77b4; stroke-width: 1.5; stroke-linecap: square\"/>\n   </g>\n   <g id=\"line2d_88\">\n    <path d=\"M 49.633125 77.720143 \nL 69.163125 94.90275 \nL 88.693125 102.68548 \nL 108.223125 112.9566 \nL 127.753125 115.465133 \nL 147.283125 102.337134 \nL 166.813125 125.456435 \n\" clip-path=\"url(#p23bbc28c06)\" style=\"fill: none; stroke-dasharray: 5.55,2.4; stroke-dashoffset: 0; stroke: #ff7f0e; stroke-width: 1.5\"/>\n   </g>\n   <g id=\"line2d_89\">\n    <path d=\"M 49.633125 42.887515 \nL 69.163125 37.545137 \nL 88.693125 34.824298 \nL 108.223125 30.514647 \nL 127.753125 31.150171 \nL 147.283125 34.446955 \nL 166.813125 26.463178 \n\" clip-path=\"url(#p23bbc28c06)\" style=\"fill: none; stroke-dasharray: 9.6,2.4,1.5,2.4; stroke-dashoffset: 0; stroke: #2ca02c; stroke-width: 1.5\"/>\n   </g>\n   <g id=\"line2d_90\">\n    <path d=\"M 34.954394 13.5 \nL 44.698573 79.072307 \nL 54.442752 96.35899 \nL 64.186931 101.747858 \nL 73.93111 108.459224 \nL 83.675289 114.585349 \nL 93.419468 118.413546 \nL 103.163647 119.117443 \nL 112.907826 122.98811 \nL 122.652006 124.715242 \nL 132.396185 127.581637 \nL 142.140364 128.513898 \nL 151.884543 129.448043 \nL 161.628722 133.118352 \nL 171.372901 132.982038 \n\" clip-path=\"url(#p23bbc28c06)\" style=\"fill: none; stroke: #1f77b4; stroke-width: 1.5; stroke-linecap: square\"/>\n   </g>\n   <g id=\"line2d_91\">\n    <path d=\"M 49.633125 77.720143 \nL 69.163125 94.90275 \nL 88.693125 102.68548 \nL 108.223125 112.9566 \nL 127.753125 115.465133 \nL 147.283125 102.337134 \nL 166.813125 125.456435 \n\" clip-path=\"url(#p23bbc28c06)\" style=\"fill: none; stroke-dasharray: 5.55,2.4; stroke-dashoffset: 0; stroke: #ff7f0e; stroke-width: 1.5\"/>\n   </g>\n   <g id=\"line2d_92\">\n    <path d=\"M 49.633125 42.887515 \nL 69.163125 37.545137 \nL 88.693125 34.824298 \nL 108.223125 30.514647 \nL 127.753125 31.150171 \nL 147.283125 34.446955 \nL 166.813125 26.463178 \n\" clip-path=\"url(#p23bbc28c06)\" style=\"fill: none; stroke-dasharray: 9.6,2.4,1.5,2.4; stroke-dashoffset: 0; stroke: #2ca02c; stroke-width: 1.5\"/>\n   </g>\n   <g id=\"line2d_93\">\n    <path d=\"M 34.954394 13.5 \nL 44.698573 79.072307 \nL 54.442752 96.35899 \nL 64.186931 101.747858 \nL 73.93111 108.459224 \nL 83.675289 114.585349 \nL 93.419468 118.413546 \nL 103.163647 119.117443 \nL 112.907826 122.98811 \nL 122.652006 124.715242 \nL 132.396185 127.581637 \nL 142.140364 128.513898 \nL 151.884543 129.448043 \nL 161.628722 133.118352 \nL 171.372901 132.982038 \nL 181.11708 134.318632 \n\" clip-path=\"url(#p23bbc28c06)\" style=\"fill: none; stroke: #1f77b4; stroke-width: 1.5; stroke-linecap: square\"/>\n   </g>\n   <g id=\"line2d_94\">\n    <path d=\"M 49.633125 77.720143 \nL 69.163125 94.90275 \nL 88.693125 102.68548 \nL 108.223125 112.9566 \nL 127.753125 115.465133 \nL 147.283125 102.337134 \nL 166.813125 125.456435 \n\" clip-path=\"url(#p23bbc28c06)\" style=\"fill: none; stroke-dasharray: 5.55,2.4; stroke-dashoffset: 0; stroke: #ff7f0e; stroke-width: 1.5\"/>\n   </g>\n   <g id=\"line2d_95\">\n    <path d=\"M 49.633125 42.887515 \nL 69.163125 37.545137 \nL 88.693125 34.824298 \nL 108.223125 30.514647 \nL 127.753125 31.150171 \nL 147.283125 34.446955 \nL 166.813125 26.463178 \n\" clip-path=\"url(#p23bbc28c06)\" style=\"fill: none; stroke-dasharray: 9.6,2.4,1.5,2.4; stroke-dashoffset: 0; stroke: #2ca02c; stroke-width: 1.5\"/>\n   </g>\n   <g id=\"line2d_96\">\n    <path d=\"M 34.954394 13.5 \nL 44.698573 79.072307 \nL 54.442752 96.35899 \nL 64.186931 101.747858 \nL 73.93111 108.459224 \nL 83.675289 114.585349 \nL 93.419468 118.413546 \nL 103.163647 119.117443 \nL 112.907826 122.98811 \nL 122.652006 124.715242 \nL 132.396185 127.581637 \nL 142.140364 128.513898 \nL 151.884543 129.448043 \nL 161.628722 133.118352 \nL 171.372901 132.982038 \nL 181.11708 134.318632 \n\" clip-path=\"url(#p23bbc28c06)\" style=\"fill: none; stroke: #1f77b4; stroke-width: 1.5; stroke-linecap: square\"/>\n   </g>\n   <g id=\"line2d_97\">\n    <path d=\"M 49.633125 77.720143 \nL 69.163125 94.90275 \nL 88.693125 102.68548 \nL 108.223125 112.9566 \nL 127.753125 115.465133 \nL 147.283125 102.337134 \nL 166.813125 125.456435 \nL 186.343125 115.341675 \n\" clip-path=\"url(#p23bbc28c06)\" style=\"fill: none; stroke-dasharray: 5.55,2.4; stroke-dashoffset: 0; stroke: #ff7f0e; stroke-width: 1.5\"/>\n   </g>\n   <g id=\"line2d_98\">\n    <path d=\"M 49.633125 42.887515 \nL 69.163125 37.545137 \nL 88.693125 34.824298 \nL 108.223125 30.514647 \nL 127.753125 31.150171 \nL 147.283125 34.446955 \nL 166.813125 26.463178 \n\" clip-path=\"url(#p23bbc28c06)\" style=\"fill: none; stroke-dasharray: 9.6,2.4,1.5,2.4; stroke-dashoffset: 0; stroke: #2ca02c; stroke-width: 1.5\"/>\n   </g>\n   <g id=\"line2d_99\">\n    <path d=\"M 34.954394 13.5 \nL 44.698573 79.072307 \nL 54.442752 96.35899 \nL 64.186931 101.747858 \nL 73.93111 108.459224 \nL 83.675289 114.585349 \nL 93.419468 118.413546 \nL 103.163647 119.117443 \nL 112.907826 122.98811 \nL 122.652006 124.715242 \nL 132.396185 127.581637 \nL 142.140364 128.513898 \nL 151.884543 129.448043 \nL 161.628722 133.118352 \nL 171.372901 132.982038 \nL 181.11708 134.318632 \n\" clip-path=\"url(#p23bbc28c06)\" style=\"fill: none; stroke: #1f77b4; stroke-width: 1.5; stroke-linecap: square\"/>\n   </g>\n   <g id=\"line2d_100\">\n    <path d=\"M 49.633125 77.720143 \nL 69.163125 94.90275 \nL 88.693125 102.68548 \nL 108.223125 112.9566 \nL 127.753125 115.465133 \nL 147.283125 102.337134 \nL 166.813125 125.456435 \nL 186.343125 115.341675 \n\" clip-path=\"url(#p23bbc28c06)\" style=\"fill: none; stroke-dasharray: 5.55,2.4; stroke-dashoffset: 0; stroke: #ff7f0e; stroke-width: 1.5\"/>\n   </g>\n   <g id=\"line2d_101\">\n    <path d=\"M 49.633125 42.887515 \nL 69.163125 37.545137 \nL 88.693125 34.824298 \nL 108.223125 30.514647 \nL 127.753125 31.150171 \nL 147.283125 34.446955 \nL 166.813125 26.463178 \nL 186.343125 32.540381 \n\" clip-path=\"url(#p23bbc28c06)\" style=\"fill: none; stroke-dasharray: 9.6,2.4,1.5,2.4; stroke-dashoffset: 0; stroke: #2ca02c; stroke-width: 1.5\"/>\n   </g>\n   <g id=\"line2d_102\">\n    <path d=\"M 34.954394 13.5 \nL 44.698573 79.072307 \nL 54.442752 96.35899 \nL 64.186931 101.747858 \nL 73.93111 108.459224 \nL 83.675289 114.585349 \nL 93.419468 118.413546 \nL 103.163647 119.117443 \nL 112.907826 122.98811 \nL 122.652006 124.715242 \nL 132.396185 127.581637 \nL 142.140364 128.513898 \nL 151.884543 129.448043 \nL 161.628722 133.118352 \nL 171.372901 132.982038 \nL 181.11708 134.318632 \nL 190.861259 137.763115 \n\" clip-path=\"url(#p23bbc28c06)\" style=\"fill: none; stroke: #1f77b4; stroke-width: 1.5; stroke-linecap: square\"/>\n   </g>\n   <g id=\"line2d_103\">\n    <path d=\"M 49.633125 77.720143 \nL 69.163125 94.90275 \nL 88.693125 102.68548 \nL 108.223125 112.9566 \nL 127.753125 115.465133 \nL 147.283125 102.337134 \nL 166.813125 125.456435 \nL 186.343125 115.341675 \n\" clip-path=\"url(#p23bbc28c06)\" style=\"fill: none; stroke-dasharray: 5.55,2.4; stroke-dashoffset: 0; stroke: #ff7f0e; stroke-width: 1.5\"/>\n   </g>\n   <g id=\"line2d_104\">\n    <path d=\"M 49.633125 42.887515 \nL 69.163125 37.545137 \nL 88.693125 34.824298 \nL 108.223125 30.514647 \nL 127.753125 31.150171 \nL 147.283125 34.446955 \nL 166.813125 26.463178 \nL 186.343125 32.540381 \n\" clip-path=\"url(#p23bbc28c06)\" style=\"fill: none; stroke-dasharray: 9.6,2.4,1.5,2.4; stroke-dashoffset: 0; stroke: #2ca02c; stroke-width: 1.5\"/>\n   </g>\n   <g id=\"line2d_105\">\n    <path d=\"M 34.954394 13.5 \nL 44.698573 79.072307 \nL 54.442752 96.35899 \nL 64.186931 101.747858 \nL 73.93111 108.459224 \nL 83.675289 114.585349 \nL 93.419468 118.413546 \nL 103.163647 119.117443 \nL 112.907826 122.98811 \nL 122.652006 124.715242 \nL 132.396185 127.581637 \nL 142.140364 128.513898 \nL 151.884543 129.448043 \nL 161.628722 133.118352 \nL 171.372901 132.982038 \nL 181.11708 134.318632 \nL 190.861259 137.763115 \nL 200.605438 135.600641 \n\" clip-path=\"url(#p23bbc28c06)\" style=\"fill: none; stroke: #1f77b4; stroke-width: 1.5; stroke-linecap: square\"/>\n   </g>\n   <g id=\"line2d_106\">\n    <path d=\"M 49.633125 77.720143 \nL 69.163125 94.90275 \nL 88.693125 102.68548 \nL 108.223125 112.9566 \nL 127.753125 115.465133 \nL 147.283125 102.337134 \nL 166.813125 125.456435 \nL 186.343125 115.341675 \n\" clip-path=\"url(#p23bbc28c06)\" style=\"fill: none; stroke-dasharray: 5.55,2.4; stroke-dashoffset: 0; stroke: #ff7f0e; stroke-width: 1.5\"/>\n   </g>\n   <g id=\"line2d_107\">\n    <path d=\"M 49.633125 42.887515 \nL 69.163125 37.545137 \nL 88.693125 34.824298 \nL 108.223125 30.514647 \nL 127.753125 31.150171 \nL 147.283125 34.446955 \nL 166.813125 26.463178 \nL 186.343125 32.540381 \n\" clip-path=\"url(#p23bbc28c06)\" style=\"fill: none; stroke-dasharray: 9.6,2.4,1.5,2.4; stroke-dashoffset: 0; stroke: #2ca02c; stroke-width: 1.5\"/>\n   </g>\n   <g id=\"line2d_108\">\n    <path d=\"M 34.954394 13.5 \nL 44.698573 79.072307 \nL 54.442752 96.35899 \nL 64.186931 101.747858 \nL 73.93111 108.459224 \nL 83.675289 114.585349 \nL 93.419468 118.413546 \nL 103.163647 119.117443 \nL 112.907826 122.98811 \nL 122.652006 124.715242 \nL 132.396185 127.581637 \nL 142.140364 128.513898 \nL 151.884543 129.448043 \nL 161.628722 133.118352 \nL 171.372901 132.982038 \nL 181.11708 134.318632 \nL 190.861259 137.763115 \nL 200.605438 135.600641 \n\" clip-path=\"url(#p23bbc28c06)\" style=\"fill: none; stroke: #1f77b4; stroke-width: 1.5; stroke-linecap: square\"/>\n   </g>\n   <g id=\"line2d_109\">\n    <path d=\"M 49.633125 77.720143 \nL 69.163125 94.90275 \nL 88.693125 102.68548 \nL 108.223125 112.9566 \nL 127.753125 115.465133 \nL 147.283125 102.337134 \nL 166.813125 125.456435 \nL 186.343125 115.341675 \nL 205.873125 101.391022 \n\" clip-path=\"url(#p23bbc28c06)\" style=\"fill: none; stroke-dasharray: 5.55,2.4; stroke-dashoffset: 0; stroke: #ff7f0e; stroke-width: 1.5\"/>\n   </g>\n   <g id=\"line2d_110\">\n    <path d=\"M 49.633125 42.887515 \nL 69.163125 37.545137 \nL 88.693125 34.824298 \nL 108.223125 30.514647 \nL 127.753125 31.150171 \nL 147.283125 34.446955 \nL 166.813125 26.463178 \nL 186.343125 32.540381 \n\" clip-path=\"url(#p23bbc28c06)\" style=\"fill: none; stroke-dasharray: 9.6,2.4,1.5,2.4; stroke-dashoffset: 0; stroke: #2ca02c; stroke-width: 1.5\"/>\n   </g>\n   <g id=\"line2d_111\">\n    <path d=\"M 34.954394 13.5 \nL 44.698573 79.072307 \nL 54.442752 96.35899 \nL 64.186931 101.747858 \nL 73.93111 108.459224 \nL 83.675289 114.585349 \nL 93.419468 118.413546 \nL 103.163647 119.117443 \nL 112.907826 122.98811 \nL 122.652006 124.715242 \nL 132.396185 127.581637 \nL 142.140364 128.513898 \nL 151.884543 129.448043 \nL 161.628722 133.118352 \nL 171.372901 132.982038 \nL 181.11708 134.318632 \nL 190.861259 137.763115 \nL 200.605438 135.600641 \n\" clip-path=\"url(#p23bbc28c06)\" style=\"fill: none; stroke: #1f77b4; stroke-width: 1.5; stroke-linecap: square\"/>\n   </g>\n   <g id=\"line2d_112\">\n    <path d=\"M 49.633125 77.720143 \nL 69.163125 94.90275 \nL 88.693125 102.68548 \nL 108.223125 112.9566 \nL 127.753125 115.465133 \nL 147.283125 102.337134 \nL 166.813125 125.456435 \nL 186.343125 115.341675 \nL 205.873125 101.391022 \n\" clip-path=\"url(#p23bbc28c06)\" style=\"fill: none; stroke-dasharray: 5.55,2.4; stroke-dashoffset: 0; stroke: #ff7f0e; stroke-width: 1.5\"/>\n   </g>\n   <g id=\"line2d_113\">\n    <path d=\"M 49.633125 42.887515 \nL 69.163125 37.545137 \nL 88.693125 34.824298 \nL 108.223125 30.514647 \nL 127.753125 31.150171 \nL 147.283125 34.446955 \nL 166.813125 26.463178 \nL 186.343125 32.540381 \nL 205.873125 35.261221 \n\" clip-path=\"url(#p23bbc28c06)\" style=\"fill: none; stroke-dasharray: 9.6,2.4,1.5,2.4; stroke-dashoffset: 0; stroke: #2ca02c; stroke-width: 1.5\"/>\n   </g>\n   <g id=\"line2d_114\">\n    <path d=\"M 34.954394 13.5 \nL 44.698573 79.072307 \nL 54.442752 96.35899 \nL 64.186931 101.747858 \nL 73.93111 108.459224 \nL 83.675289 114.585349 \nL 93.419468 118.413546 \nL 103.163647 119.117443 \nL 112.907826 122.98811 \nL 122.652006 124.715242 \nL 132.396185 127.581637 \nL 142.140364 128.513898 \nL 151.884543 129.448043 \nL 161.628722 133.118352 \nL 171.372901 132.982038 \nL 181.11708 134.318632 \nL 190.861259 137.763115 \nL 200.605438 135.600641 \nL 210.349618 137.297467 \n\" clip-path=\"url(#p23bbc28c06)\" style=\"fill: none; stroke: #1f77b4; stroke-width: 1.5; stroke-linecap: square\"/>\n   </g>\n   <g id=\"line2d_115\">\n    <path d=\"M 49.633125 77.720143 \nL 69.163125 94.90275 \nL 88.693125 102.68548 \nL 108.223125 112.9566 \nL 127.753125 115.465133 \nL 147.283125 102.337134 \nL 166.813125 125.456435 \nL 186.343125 115.341675 \nL 205.873125 101.391022 \n\" clip-path=\"url(#p23bbc28c06)\" style=\"fill: none; stroke-dasharray: 5.55,2.4; stroke-dashoffset: 0; stroke: #ff7f0e; stroke-width: 1.5\"/>\n   </g>\n   <g id=\"line2d_116\">\n    <path d=\"M 49.633125 42.887515 \nL 69.163125 37.545137 \nL 88.693125 34.824298 \nL 108.223125 30.514647 \nL 127.753125 31.150171 \nL 147.283125 34.446955 \nL 166.813125 26.463178 \nL 186.343125 32.540381 \nL 205.873125 35.261221 \n\" clip-path=\"url(#p23bbc28c06)\" style=\"fill: none; stroke-dasharray: 9.6,2.4,1.5,2.4; stroke-dashoffset: 0; stroke: #2ca02c; stroke-width: 1.5\"/>\n   </g>\n   <g id=\"line2d_117\">\n    <path d=\"M 34.954394 13.5 \nL 44.698573 79.072307 \nL 54.442752 96.35899 \nL 64.186931 101.747858 \nL 73.93111 108.459224 \nL 83.675289 114.585349 \nL 93.419468 118.413546 \nL 103.163647 119.117443 \nL 112.907826 122.98811 \nL 122.652006 124.715242 \nL 132.396185 127.581637 \nL 142.140364 128.513898 \nL 151.884543 129.448043 \nL 161.628722 133.118352 \nL 171.372901 132.982038 \nL 181.11708 134.318632 \nL 190.861259 137.763115 \nL 200.605438 135.600641 \nL 210.349618 137.297467 \nL 220.093797 139.5 \n\" clip-path=\"url(#p23bbc28c06)\" style=\"fill: none; stroke: #1f77b4; stroke-width: 1.5; stroke-linecap: square\"/>\n   </g>\n   <g id=\"line2d_118\">\n    <path d=\"M 49.633125 77.720143 \nL 69.163125 94.90275 \nL 88.693125 102.68548 \nL 108.223125 112.9566 \nL 127.753125 115.465133 \nL 147.283125 102.337134 \nL 166.813125 125.456435 \nL 186.343125 115.341675 \nL 205.873125 101.391022 \n\" clip-path=\"url(#p23bbc28c06)\" style=\"fill: none; stroke-dasharray: 5.55,2.4; stroke-dashoffset: 0; stroke: #ff7f0e; stroke-width: 1.5\"/>\n   </g>\n   <g id=\"line2d_119\">\n    <path d=\"M 49.633125 42.887515 \nL 69.163125 37.545137 \nL 88.693125 34.824298 \nL 108.223125 30.514647 \nL 127.753125 31.150171 \nL 147.283125 34.446955 \nL 166.813125 26.463178 \nL 186.343125 32.540381 \nL 205.873125 35.261221 \n\" clip-path=\"url(#p23bbc28c06)\" style=\"fill: none; stroke-dasharray: 9.6,2.4,1.5,2.4; stroke-dashoffset: 0; stroke: #2ca02c; stroke-width: 1.5\"/>\n   </g>\n   <g id=\"line2d_120\">\n    <path d=\"M 34.954394 13.5 \nL 44.698573 79.072307 \nL 54.442752 96.35899 \nL 64.186931 101.747858 \nL 73.93111 108.459224 \nL 83.675289 114.585349 \nL 93.419468 118.413546 \nL 103.163647 119.117443 \nL 112.907826 122.98811 \nL 122.652006 124.715242 \nL 132.396185 127.581637 \nL 142.140364 128.513898 \nL 151.884543 129.448043 \nL 161.628722 133.118352 \nL 171.372901 132.982038 \nL 181.11708 134.318632 \nL 190.861259 137.763115 \nL 200.605438 135.600641 \nL 210.349618 137.297467 \nL 220.093797 139.5 \n\" clip-path=\"url(#p23bbc28c06)\" style=\"fill: none; stroke: #1f77b4; stroke-width: 1.5; stroke-linecap: square\"/>\n   </g>\n   <g id=\"line2d_121\">\n    <path d=\"M 49.633125 77.720143 \nL 69.163125 94.90275 \nL 88.693125 102.68548 \nL 108.223125 112.9566 \nL 127.753125 115.465133 \nL 147.283125 102.337134 \nL 166.813125 125.456435 \nL 186.343125 115.341675 \nL 205.873125 101.391022 \nL 225.403125 131.716703 \n\" clip-path=\"url(#p23bbc28c06)\" style=\"fill: none; stroke-dasharray: 5.55,2.4; stroke-dashoffset: 0; stroke: #ff7f0e; stroke-width: 1.5\"/>\n   </g>\n   <g id=\"line2d_122\">\n    <path d=\"M 49.633125 42.887515 \nL 69.163125 37.545137 \nL 88.693125 34.824298 \nL 108.223125 30.514647 \nL 127.753125 31.150171 \nL 147.283125 34.446955 \nL 166.813125 26.463178 \nL 186.343125 32.540381 \nL 205.873125 35.261221 \n\" clip-path=\"url(#p23bbc28c06)\" style=\"fill: none; stroke-dasharray: 9.6,2.4,1.5,2.4; stroke-dashoffset: 0; stroke: #2ca02c; stroke-width: 1.5\"/>\n   </g>\n   <g id=\"line2d_123\">\n    <path d=\"M 34.954394 13.5 \nL 44.698573 79.072307 \nL 54.442752 96.35899 \nL 64.186931 101.747858 \nL 73.93111 108.459224 \nL 83.675289 114.585349 \nL 93.419468 118.413546 \nL 103.163647 119.117443 \nL 112.907826 122.98811 \nL 122.652006 124.715242 \nL 132.396185 127.581637 \nL 142.140364 128.513898 \nL 151.884543 129.448043 \nL 161.628722 133.118352 \nL 171.372901 132.982038 \nL 181.11708 134.318632 \nL 190.861259 137.763115 \nL 200.605438 135.600641 \nL 210.349618 137.297467 \nL 220.093797 139.5 \n\" clip-path=\"url(#p23bbc28c06)\" style=\"fill: none; stroke: #1f77b4; stroke-width: 1.5; stroke-linecap: square\"/>\n   </g>\n   <g id=\"line2d_124\">\n    <path d=\"M 49.633125 77.720143 \nL 69.163125 94.90275 \nL 88.693125 102.68548 \nL 108.223125 112.9566 \nL 127.753125 115.465133 \nL 147.283125 102.337134 \nL 166.813125 125.456435 \nL 186.343125 115.341675 \nL 205.873125 101.391022 \nL 225.403125 131.716703 \n\" clip-path=\"url(#p23bbc28c06)\" style=\"fill: none; stroke-dasharray: 5.55,2.4; stroke-dashoffset: 0; stroke: #ff7f0e; stroke-width: 1.5\"/>\n   </g>\n   <g id=\"line2d_125\">\n    <path d=\"M 49.633125 42.887515 \nL 69.163125 37.545137 \nL 88.693125 34.824298 \nL 108.223125 30.514647 \nL 127.753125 31.150171 \nL 147.283125 34.446955 \nL 166.813125 26.463178 \nL 186.343125 32.540381 \nL 205.873125 35.261221 \nL 225.403125 24.834646 \n\" clip-path=\"url(#p23bbc28c06)\" style=\"fill: none; stroke-dasharray: 9.6,2.4,1.5,2.4; stroke-dashoffset: 0; stroke: #2ca02c; stroke-width: 1.5\"/>\n   </g>\n   <g id=\"patch_3\">\n    <path d=\"M 30.103125 145.8 \nL 30.103125 7.2 \n\" style=\"fill: none; stroke: #000000; stroke-width: 0.8; stroke-linejoin: miter; stroke-linecap: square\"/>\n   </g>\n   <g id=\"patch_4\">\n    <path d=\"M 225.403125 145.8 \nL 225.403125 7.2 \n\" style=\"fill: none; stroke: #000000; stroke-width: 0.8; stroke-linejoin: miter; stroke-linecap: square\"/>\n   </g>\n   <g id=\"patch_5\">\n    <path d=\"M 30.103125 145.8 \nL 225.403125 145.8 \n\" style=\"fill: none; stroke: #000000; stroke-width: 0.8; stroke-linejoin: miter; stroke-linecap: square\"/>\n   </g>\n   <g id=\"patch_6\">\n    <path d=\"M 30.103125 7.2 \nL 225.403125 7.2 \n\" style=\"fill: none; stroke: #000000; stroke-width: 0.8; stroke-linejoin: miter; stroke-linecap: square\"/>\n   </g>\n   <g id=\"legend_1\">\n    <g id=\"patch_7\">\n     <path d=\"M 138.8125 100.434375 \nL 218.403125 100.434375 \nQ 220.403125 100.434375 220.403125 98.434375 \nL 220.403125 54.565625 \nQ 220.403125 52.565625 218.403125 52.565625 \nL 138.8125 52.565625 \nQ 136.8125 52.565625 136.8125 54.565625 \nL 136.8125 98.434375 \nQ 136.8125 100.434375 138.8125 100.434375 \nz\n\" style=\"fill: #ffffff; opacity: 0.8; stroke: #cccccc; stroke-linejoin: miter\"/>\n    </g>\n    <g id=\"line2d_126\">\n     <path d=\"M 140.8125 60.664063 \nL 150.8125 60.664063 \nL 160.8125 60.664063 \n\" style=\"fill: none; stroke: #1f77b4; stroke-width: 1.5; stroke-linecap: square\"/>\n    </g>\n    <g id=\"text_11\">\n     <!-- train_loss -->\n     <g transform=\"translate(168.8125 64.164063) scale(0.1 -0.1)\">\n      <defs>\n       <path id=\"DejaVuSans-74\" d=\"M 1172 4494 \nL 1172 3500 \nL 2356 3500 \nL 2356 3053 \nL 1172 3053 \nL 1172 1153 \nQ 1172 725 1289 603 \nQ 1406 481 1766 481 \nL 2356 481 \nL 2356 0 \nL 1766 0 \nQ 1100 0 847 248 \nQ 594 497 594 1153 \nL 594 3053 \nL 172 3053 \nL 172 3500 \nL 594 3500 \nL 594 4494 \nL 1172 4494 \nz\n\" transform=\"scale(0.015625)\"/>\n       <path id=\"DejaVuSans-72\" d=\"M 2631 2963 \nQ 2534 3019 2420 3045 \nQ 2306 3072 2169 3072 \nQ 1681 3072 1420 2755 \nQ 1159 2438 1159 1844 \nL 1159 0 \nL 581 0 \nL 581 3500 \nL 1159 3500 \nL 1159 2956 \nQ 1341 3275 1631 3429 \nQ 1922 3584 2338 3584 \nQ 2397 3584 2469 3576 \nQ 2541 3569 2628 3553 \nL 2631 2963 \nz\n\" transform=\"scale(0.015625)\"/>\n       <path id=\"DejaVuSans-61\" d=\"M 2194 1759 \nQ 1497 1759 1228 1600 \nQ 959 1441 959 1056 \nQ 959 750 1161 570 \nQ 1363 391 1709 391 \nQ 2188 391 2477 730 \nQ 2766 1069 2766 1631 \nL 2766 1759 \nL 2194 1759 \nz\nM 3341 1997 \nL 3341 0 \nL 2766 0 \nL 2766 531 \nQ 2569 213 2275 61 \nQ 1981 -91 1556 -91 \nQ 1019 -91 701 211 \nQ 384 513 384 1019 \nQ 384 1609 779 1909 \nQ 1175 2209 1959 2209 \nL 2766 2209 \nL 2766 2266 \nQ 2766 2663 2505 2880 \nQ 2244 3097 1772 3097 \nQ 1472 3097 1187 3025 \nQ 903 2953 641 2809 \nL 641 3341 \nQ 956 3463 1253 3523 \nQ 1550 3584 1831 3584 \nQ 2591 3584 2966 3190 \nQ 3341 2797 3341 1997 \nz\n\" transform=\"scale(0.015625)\"/>\n       <path id=\"DejaVuSans-69\" d=\"M 603 3500 \nL 1178 3500 \nL 1178 0 \nL 603 0 \nL 603 3500 \nz\nM 603 4863 \nL 1178 4863 \nL 1178 4134 \nL 603 4134 \nL 603 4863 \nz\n\" transform=\"scale(0.015625)\"/>\n       <path id=\"DejaVuSans-6e\" d=\"M 3513 2113 \nL 3513 0 \nL 2938 0 \nL 2938 2094 \nQ 2938 2591 2744 2837 \nQ 2550 3084 2163 3084 \nQ 1697 3084 1428 2787 \nQ 1159 2491 1159 1978 \nL 1159 0 \nL 581 0 \nL 581 3500 \nL 1159 3500 \nL 1159 2956 \nQ 1366 3272 1645 3428 \nQ 1925 3584 2291 3584 \nQ 2894 3584 3203 3211 \nQ 3513 2838 3513 2113 \nz\n\" transform=\"scale(0.015625)\"/>\n       <path id=\"DejaVuSans-5f\" d=\"M 3263 -1063 \nL 3263 -1509 \nL -63 -1509 \nL -63 -1063 \nL 3263 -1063 \nz\n\" transform=\"scale(0.015625)\"/>\n       <path id=\"DejaVuSans-6c\" d=\"M 603 4863 \nL 1178 4863 \nL 1178 0 \nL 603 0 \nL 603 4863 \nz\n\" transform=\"scale(0.015625)\"/>\n       <path id=\"DejaVuSans-73\" d=\"M 2834 3397 \nL 2834 2853 \nQ 2591 2978 2328 3040 \nQ 2066 3103 1784 3103 \nQ 1356 3103 1142 2972 \nQ 928 2841 928 2578 \nQ 928 2378 1081 2264 \nQ 1234 2150 1697 2047 \nL 1894 2003 \nQ 2506 1872 2764 1633 \nQ 3022 1394 3022 966 \nQ 3022 478 2636 193 \nQ 2250 -91 1575 -91 \nQ 1294 -91 989 -36 \nQ 684 19 347 128 \nL 347 722 \nQ 666 556 975 473 \nQ 1284 391 1588 391 \nQ 1994 391 2212 530 \nQ 2431 669 2431 922 \nQ 2431 1156 2273 1281 \nQ 2116 1406 1581 1522 \nL 1381 1569 \nQ 847 1681 609 1914 \nQ 372 2147 372 2553 \nQ 372 3047 722 3315 \nQ 1072 3584 1716 3584 \nQ 2034 3584 2315 3537 \nQ 2597 3491 2834 3397 \nz\n\" transform=\"scale(0.015625)\"/>\n      </defs>\n      <use xlink:href=\"#DejaVuSans-74\"/>\n      <use xlink:href=\"#DejaVuSans-72\" x=\"39.208984\"/>\n      <use xlink:href=\"#DejaVuSans-61\" x=\"80.322266\"/>\n      <use xlink:href=\"#DejaVuSans-69\" x=\"141.601562\"/>\n      <use xlink:href=\"#DejaVuSans-6e\" x=\"169.384766\"/>\n      <use xlink:href=\"#DejaVuSans-5f\" x=\"232.763672\"/>\n      <use xlink:href=\"#DejaVuSans-6c\" x=\"282.763672\"/>\n      <use xlink:href=\"#DejaVuSans-6f\" x=\"310.546875\"/>\n      <use xlink:href=\"#DejaVuSans-73\" x=\"371.728516\"/>\n      <use xlink:href=\"#DejaVuSans-73\" x=\"423.828125\"/>\n     </g>\n    </g>\n    <g id=\"line2d_127\">\n     <path d=\"M 140.8125 75.620313 \nL 150.8125 75.620313 \nL 160.8125 75.620313 \n\" style=\"fill: none; stroke-dasharray: 5.55,2.4; stroke-dashoffset: 0; stroke: #ff7f0e; stroke-width: 1.5\"/>\n    </g>\n    <g id=\"text_12\">\n     <!-- val_loss -->\n     <g transform=\"translate(168.8125 79.120313) scale(0.1 -0.1)\">\n      <defs>\n       <path id=\"DejaVuSans-76\" d=\"M 191 3500 \nL 800 3500 \nL 1894 563 \nL 2988 3500 \nL 3597 3500 \nL 2284 0 \nL 1503 0 \nL 191 3500 \nz\n\" transform=\"scale(0.015625)\"/>\n      </defs>\n      <use xlink:href=\"#DejaVuSans-76\"/>\n      <use xlink:href=\"#DejaVuSans-61\" x=\"59.179688\"/>\n      <use xlink:href=\"#DejaVuSans-6c\" x=\"120.458984\"/>\n      <use xlink:href=\"#DejaVuSans-5f\" x=\"148.242188\"/>\n      <use xlink:href=\"#DejaVuSans-6c\" x=\"198.242188\"/>\n      <use xlink:href=\"#DejaVuSans-6f\" x=\"226.025391\"/>\n      <use xlink:href=\"#DejaVuSans-73\" x=\"287.207031\"/>\n      <use xlink:href=\"#DejaVuSans-73\" x=\"339.306641\"/>\n     </g>\n    </g>\n    <g id=\"line2d_128\">\n     <path d=\"M 140.8125 90.576563 \nL 150.8125 90.576563 \nL 160.8125 90.576563 \n\" style=\"fill: none; stroke-dasharray: 9.6,2.4,1.5,2.4; stroke-dashoffset: 0; stroke: #2ca02c; stroke-width: 1.5\"/>\n    </g>\n    <g id=\"text_13\">\n     <!-- val_acc -->\n     <g transform=\"translate(168.8125 94.076563) scale(0.1 -0.1)\">\n      <use xlink:href=\"#DejaVuSans-76\"/>\n      <use xlink:href=\"#DejaVuSans-61\" x=\"59.179688\"/>\n      <use xlink:href=\"#DejaVuSans-6c\" x=\"120.458984\"/>\n      <use xlink:href=\"#DejaVuSans-5f\" x=\"148.242188\"/>\n      <use xlink:href=\"#DejaVuSans-61\" x=\"198.242188\"/>\n      <use xlink:href=\"#DejaVuSans-63\" x=\"259.521484\"/>\n      <use xlink:href=\"#DejaVuSans-63\" x=\"314.501953\"/>\n     </g>\n    </g>\n   </g>\n  </g>\n </g>\n <defs>\n  <clipPath id=\"p23bbc28c06\">\n   <rect x=\"30.103125\" y=\"7.2\" width=\"195.3\" height=\"138.6\"/>\n  </clipPath>\n </defs>\n</svg>\n"
          },
          "metadata": {}
        }
      ],
      "source": [
        "trainer = d2l.Trainer(max_epochs=10, num_gpus=1)\n",
        "data = d2l.FashionMNIST(batch_size=128)\n",
        "model = BNLeNet(lr=0.1)\n",
        "model.apply_init([next(iter(data.get_dataloader(True)))[0]], d2l.init_cnn)\n",
        "trainer.fit(model, data)"
      ]
    },
    {
      "cell_type": "markdown",
      "metadata": {
        "id": "3wr0tThUsjXH"
      },
      "source": [
        "# 8.6. Residual Networks (ResNet) and ResNeXt\n"
      ]
    },
    {
      "cell_type": "code",
      "execution_count": 34,
      "metadata": {
        "id": "rkmwuOrismk0"
      },
      "outputs": [],
      "source": [
        "import torch\n",
        "from torch import nn\n",
        "from torch.nn import functional as F\n",
        "from d2l import torch as d2l"
      ]
    },
    {
      "cell_type": "markdown",
      "metadata": {
        "id": "oz6FBWRPsrQH"
      },
      "source": [
        "8.6.2. Residual Blocks"
      ]
    },
    {
      "cell_type": "code",
      "execution_count": 35,
      "metadata": {
        "id": "xUW4VVASstcA"
      },
      "outputs": [],
      "source": [
        "class Residual(nn.Module):\n",
        "    \"\"\"The Residual block of ResNet models.\"\"\"\n",
        "    def __init__(self, num_channels, use_1x1conv=False, strides=1):\n",
        "        super().__init__()\n",
        "        self.conv1 = nn.LazyConv2d(num_channels, kernel_size=3, padding=1,\n",
        "                                   stride=strides)\n",
        "        self.conv2 = nn.LazyConv2d(num_channels, kernel_size=3, padding=1)\n",
        "        if use_1x1conv:\n",
        "            self.conv3 = nn.LazyConv2d(num_channels, kernel_size=1,\n",
        "                                       stride=strides)\n",
        "        else:\n",
        "            self.conv3 = None\n",
        "        self.bn1 = nn.LazyBatchNorm2d()\n",
        "        self.bn2 = nn.LazyBatchNorm2d()\n",
        "\n",
        "    def forward(self, X):\n",
        "        Y = F.relu(self.bn1(self.conv1(X)))\n",
        "        Y = self.bn2(self.conv2(Y))\n",
        "        if self.conv3:\n",
        "            X = self.conv3(X)\n",
        "        Y += X\n",
        "        return F.relu(Y)"
      ]
    },
    {
      "cell_type": "code",
      "execution_count": 36,
      "metadata": {
        "id": "l4fKImGcsy5A",
        "colab": {
          "base_uri": "https://localhost:8080/"
        },
        "outputId": "fd4f044d-4fc4-4906-a9ad-b302653f5840"
      },
      "outputs": [
        {
          "output_type": "execute_result",
          "data": {
            "text/plain": [
              "torch.Size([4, 3, 6, 6])"
            ]
          },
          "metadata": {},
          "execution_count": 36
        }
      ],
      "source": [
        "blk = Residual(3)\n",
        "X = torch.randn(4, 3, 6, 6)\n",
        "blk(X).shape"
      ]
    },
    {
      "cell_type": "code",
      "execution_count": 37,
      "metadata": {
        "id": "WuNRNON7s1AI",
        "colab": {
          "base_uri": "https://localhost:8080/"
        },
        "outputId": "a13b72fa-2aa4-4886-cdb4-cce7142f91d0"
      },
      "outputs": [
        {
          "output_type": "execute_result",
          "data": {
            "text/plain": [
              "torch.Size([4, 6, 3, 3])"
            ]
          },
          "metadata": {},
          "execution_count": 37
        }
      ],
      "source": [
        "blk = Residual(6, use_1x1conv=True, strides=2)\n",
        "blk(X).shape"
      ]
    },
    {
      "cell_type": "markdown",
      "metadata": {
        "id": "0KkJQaius4DZ"
      },
      "source": [
        "8.6.3. ResNet Model"
      ]
    },
    {
      "cell_type": "code",
      "execution_count": 38,
      "metadata": {
        "id": "CxbZCfiMs6Nd"
      },
      "outputs": [],
      "source": [
        "class ResNet(d2l.Classifier):\n",
        "    def b1(self):\n",
        "        return nn.Sequential(\n",
        "            nn.LazyConv2d(64, kernel_size=7, stride=2, padding=3),\n",
        "            nn.LazyBatchNorm2d(), nn.ReLU(),\n",
        "            nn.MaxPool2d(kernel_size=3, stride=2, padding=1))"
      ]
    },
    {
      "cell_type": "code",
      "execution_count": 39,
      "metadata": {
        "id": "zNn809o7s86H"
      },
      "outputs": [],
      "source": [
        "@d2l.add_to_class(ResNet)\n",
        "def block(self, num_residuals, num_channels, first_block=False):\n",
        "    blk = []\n",
        "    for i in range(num_residuals):\n",
        "        if i == 0 and not first_block:\n",
        "            blk.append(Residual(num_channels, use_1x1conv=True, strides=2))\n",
        "        else:\n",
        "            blk.append(Residual(num_channels))\n",
        "    return nn.Sequential(*blk)"
      ]
    },
    {
      "cell_type": "code",
      "execution_count": 40,
      "metadata": {
        "id": "RBjK7Krgs_S9"
      },
      "outputs": [],
      "source": [
        "@d2l.add_to_class(ResNet)\n",
        "def __init__(self, arch, lr=0.1, num_classes=10):\n",
        "    super(ResNet, self).__init__()\n",
        "    self.save_hyperparameters()\n",
        "    self.net = nn.Sequential(self.b1())\n",
        "    for i, b in enumerate(arch):\n",
        "        self.net.add_module(f'b{i+2}', self.block(*b, first_block=(i==0)))\n",
        "    self.net.add_module('last', nn.Sequential(\n",
        "        nn.AdaptiveAvgPool2d((1, 1)), nn.Flatten(),\n",
        "        nn.LazyLinear(num_classes)))\n",
        "    self.net.apply(d2l.init_cnn)"
      ]
    },
    {
      "cell_type": "code",
      "execution_count": 41,
      "metadata": {
        "id": "ThZEPaE2tCHY",
        "colab": {
          "base_uri": "https://localhost:8080/"
        },
        "outputId": "0d5a19bd-3e92-41ef-d5e1-700c6bd653f1"
      },
      "outputs": [
        {
          "output_type": "stream",
          "name": "stdout",
          "text": [
            "Sequential output shape:\t torch.Size([1, 64, 24, 24])\n",
            "Sequential output shape:\t torch.Size([1, 64, 24, 24])\n",
            "Sequential output shape:\t torch.Size([1, 128, 12, 12])\n",
            "Sequential output shape:\t torch.Size([1, 256, 6, 6])\n",
            "Sequential output shape:\t torch.Size([1, 512, 3, 3])\n",
            "Sequential output shape:\t torch.Size([1, 10])\n"
          ]
        }
      ],
      "source": [
        "class ResNet18(ResNet):\n",
        "    def __init__(self, lr=0.1, num_classes=10):\n",
        "        super().__init__(((2, 64), (2, 128), (2, 256), (2, 512)),\n",
        "                       lr, num_classes)\n",
        "\n",
        "ResNet18().layer_summary((1, 1, 96, 96))"
      ]
    },
    {
      "cell_type": "markdown",
      "metadata": {
        "id": "nYxoJmPptFG8"
      },
      "source": [
        "8.6.4. Training"
      ]
    },
    {
      "cell_type": "code",
      "execution_count": 42,
      "metadata": {
        "id": "2nlH02j1tFyS",
        "colab": {
          "base_uri": "https://localhost:8080/",
          "height": 265
        },
        "outputId": "5a5ce89f-6725-4210-9623-31398c43d519"
      },
      "outputs": [
        {
          "output_type": "display_data",
          "data": {
            "text/plain": [
              "<Figure size 350x250 with 1 Axes>"
            ],
            "image/svg+xml": "<?xml version=\"1.0\" encoding=\"utf-8\" standalone=\"no\"?>\n<!DOCTYPE svg PUBLIC \"-//W3C//DTD SVG 1.1//EN\"\n  \"http://www.w3.org/Graphics/SVG/1.1/DTD/svg11.dtd\">\n<svg xmlns:xlink=\"http://www.w3.org/1999/xlink\" width=\"238.965625pt\" height=\"183.35625pt\" viewBox=\"0 0 238.965625 183.35625\" xmlns=\"http://www.w3.org/2000/svg\" version=\"1.1\">\n <metadata>\n  <rdf:RDF xmlns:dc=\"http://purl.org/dc/elements/1.1/\" xmlns:cc=\"http://creativecommons.org/ns#\" xmlns:rdf=\"http://www.w3.org/1999/02/22-rdf-syntax-ns#\">\n   <cc:Work>\n    <dc:type rdf:resource=\"http://purl.org/dc/dcmitype/StillImage\"/>\n    <dc:date>2024-10-04T13:34:36.747276</dc:date>\n    <dc:format>image/svg+xml</dc:format>\n    <dc:creator>\n     <cc:Agent>\n      <dc:title>Matplotlib v3.7.2, https://matplotlib.org/</dc:title>\n     </cc:Agent>\n    </dc:creator>\n   </cc:Work>\n  </rdf:RDF>\n </metadata>\n <defs>\n  <style type=\"text/css\">*{stroke-linejoin: round; stroke-linecap: butt}</style>\n </defs>\n <g id=\"figure_1\">\n  <g id=\"patch_1\">\n   <path d=\"M 0 183.35625 \nL 238.965625 183.35625 \nL 238.965625 0 \nL 0 0 \nz\n\" style=\"fill: #ffffff\"/>\n  </g>\n  <g id=\"axes_1\">\n   <g id=\"patch_2\">\n    <path d=\"M 30.103125 145.8 \nL 225.403125 145.8 \nL 225.403125 7.2 \nL 30.103125 7.2 \nz\n\" style=\"fill: #ffffff\"/>\n   </g>\n   <g id=\"matplotlib.axis_1\">\n    <g id=\"xtick_1\">\n     <g id=\"line2d_1\">\n      <defs>\n       <path id=\"mb171469687\" d=\"M 0 0 \nL 0 3.5 \n\" style=\"stroke: #000000; stroke-width: 0.8\"/>\n      </defs>\n      <g>\n       <use xlink:href=\"#mb171469687\" x=\"30.103125\" y=\"145.8\" style=\"stroke: #000000; stroke-width: 0.8\"/>\n      </g>\n     </g>\n     <g id=\"text_1\">\n      <!-- 0 -->\n      <g transform=\"translate(26.921875 160.398438) scale(0.1 -0.1)\">\n       <defs>\n        <path id=\"DejaVuSans-30\" d=\"M 2034 4250 \nQ 1547 4250 1301 3770 \nQ 1056 3291 1056 2328 \nQ 1056 1369 1301 889 \nQ 1547 409 2034 409 \nQ 2525 409 2770 889 \nQ 3016 1369 3016 2328 \nQ 3016 3291 2770 3770 \nQ 2525 4250 2034 4250 \nz\nM 2034 4750 \nQ 2819 4750 3233 4129 \nQ 3647 3509 3647 2328 \nQ 3647 1150 3233 529 \nQ 2819 -91 2034 -91 \nQ 1250 -91 836 529 \nQ 422 1150 422 2328 \nQ 422 3509 836 4129 \nQ 1250 4750 2034 4750 \nz\n\" transform=\"scale(0.015625)\"/>\n       </defs>\n       <use xlink:href=\"#DejaVuSans-30\"/>\n      </g>\n     </g>\n    </g>\n    <g id=\"xtick_2\">\n     <g id=\"line2d_2\">\n      <g>\n       <use xlink:href=\"#mb171469687\" x=\"69.163125\" y=\"145.8\" style=\"stroke: #000000; stroke-width: 0.8\"/>\n      </g>\n     </g>\n     <g id=\"text_2\">\n      <!-- 2 -->\n      <g transform=\"translate(65.981875 160.398438) scale(0.1 -0.1)\">\n       <defs>\n        <path id=\"DejaVuSans-32\" d=\"M 1228 531 \nL 3431 531 \nL 3431 0 \nL 469 0 \nL 469 531 \nQ 828 903 1448 1529 \nQ 2069 2156 2228 2338 \nQ 2531 2678 2651 2914 \nQ 2772 3150 2772 3378 \nQ 2772 3750 2511 3984 \nQ 2250 4219 1831 4219 \nQ 1534 4219 1204 4116 \nQ 875 4013 500 3803 \nL 500 4441 \nQ 881 4594 1212 4672 \nQ 1544 4750 1819 4750 \nQ 2544 4750 2975 4387 \nQ 3406 4025 3406 3419 \nQ 3406 3131 3298 2873 \nQ 3191 2616 2906 2266 \nQ 2828 2175 2409 1742 \nQ 1991 1309 1228 531 \nz\n\" transform=\"scale(0.015625)\"/>\n       </defs>\n       <use xlink:href=\"#DejaVuSans-32\"/>\n      </g>\n     </g>\n    </g>\n    <g id=\"xtick_3\">\n     <g id=\"line2d_3\">\n      <g>\n       <use xlink:href=\"#mb171469687\" x=\"108.223125\" y=\"145.8\" style=\"stroke: #000000; stroke-width: 0.8\"/>\n      </g>\n     </g>\n     <g id=\"text_3\">\n      <!-- 4 -->\n      <g transform=\"translate(105.041875 160.398438) scale(0.1 -0.1)\">\n       <defs>\n        <path id=\"DejaVuSans-34\" d=\"M 2419 4116 \nL 825 1625 \nL 2419 1625 \nL 2419 4116 \nz\nM 2253 4666 \nL 3047 4666 \nL 3047 1625 \nL 3713 1625 \nL 3713 1100 \nL 3047 1100 \nL 3047 0 \nL 2419 0 \nL 2419 1100 \nL 313 1100 \nL 313 1709 \nL 2253 4666 \nz\n\" transform=\"scale(0.015625)\"/>\n       </defs>\n       <use xlink:href=\"#DejaVuSans-34\"/>\n      </g>\n     </g>\n    </g>\n    <g id=\"xtick_4\">\n     <g id=\"line2d_4\">\n      <g>\n       <use xlink:href=\"#mb171469687\" x=\"147.283125\" y=\"145.8\" style=\"stroke: #000000; stroke-width: 0.8\"/>\n      </g>\n     </g>\n     <g id=\"text_4\">\n      <!-- 6 -->\n      <g transform=\"translate(144.101875 160.398438) scale(0.1 -0.1)\">\n       <defs>\n        <path id=\"DejaVuSans-36\" d=\"M 2113 2584 \nQ 1688 2584 1439 2293 \nQ 1191 2003 1191 1497 \nQ 1191 994 1439 701 \nQ 1688 409 2113 409 \nQ 2538 409 2786 701 \nQ 3034 994 3034 1497 \nQ 3034 2003 2786 2293 \nQ 2538 2584 2113 2584 \nz\nM 3366 4563 \nL 3366 3988 \nQ 3128 4100 2886 4159 \nQ 2644 4219 2406 4219 \nQ 1781 4219 1451 3797 \nQ 1122 3375 1075 2522 \nQ 1259 2794 1537 2939 \nQ 1816 3084 2150 3084 \nQ 2853 3084 3261 2657 \nQ 3669 2231 3669 1497 \nQ 3669 778 3244 343 \nQ 2819 -91 2113 -91 \nQ 1303 -91 875 529 \nQ 447 1150 447 2328 \nQ 447 3434 972 4092 \nQ 1497 4750 2381 4750 \nQ 2619 4750 2861 4703 \nQ 3103 4656 3366 4563 \nz\n\" transform=\"scale(0.015625)\"/>\n       </defs>\n       <use xlink:href=\"#DejaVuSans-36\"/>\n      </g>\n     </g>\n    </g>\n    <g id=\"xtick_5\">\n     <g id=\"line2d_5\">\n      <g>\n       <use xlink:href=\"#mb171469687\" x=\"186.343125\" y=\"145.8\" style=\"stroke: #000000; stroke-width: 0.8\"/>\n      </g>\n     </g>\n     <g id=\"text_5\">\n      <!-- 8 -->\n      <g transform=\"translate(183.161875 160.398438) scale(0.1 -0.1)\">\n       <defs>\n        <path id=\"DejaVuSans-38\" d=\"M 2034 2216 \nQ 1584 2216 1326 1975 \nQ 1069 1734 1069 1313 \nQ 1069 891 1326 650 \nQ 1584 409 2034 409 \nQ 2484 409 2743 651 \nQ 3003 894 3003 1313 \nQ 3003 1734 2745 1975 \nQ 2488 2216 2034 2216 \nz\nM 1403 2484 \nQ 997 2584 770 2862 \nQ 544 3141 544 3541 \nQ 544 4100 942 4425 \nQ 1341 4750 2034 4750 \nQ 2731 4750 3128 4425 \nQ 3525 4100 3525 3541 \nQ 3525 3141 3298 2862 \nQ 3072 2584 2669 2484 \nQ 3125 2378 3379 2068 \nQ 3634 1759 3634 1313 \nQ 3634 634 3220 271 \nQ 2806 -91 2034 -91 \nQ 1263 -91 848 271 \nQ 434 634 434 1313 \nQ 434 1759 690 2068 \nQ 947 2378 1403 2484 \nz\nM 1172 3481 \nQ 1172 3119 1398 2916 \nQ 1625 2713 2034 2713 \nQ 2441 2713 2670 2916 \nQ 2900 3119 2900 3481 \nQ 2900 3844 2670 4047 \nQ 2441 4250 2034 4250 \nQ 1625 4250 1398 4047 \nQ 1172 3844 1172 3481 \nz\n\" transform=\"scale(0.015625)\"/>\n       </defs>\n       <use xlink:href=\"#DejaVuSans-38\"/>\n      </g>\n     </g>\n    </g>\n    <g id=\"xtick_6\">\n     <g id=\"line2d_6\">\n      <g>\n       <use xlink:href=\"#mb171469687\" x=\"225.403125\" y=\"145.8\" style=\"stroke: #000000; stroke-width: 0.8\"/>\n      </g>\n     </g>\n     <g id=\"text_6\">\n      <!-- 10 -->\n      <g transform=\"translate(219.040625 160.398438) scale(0.1 -0.1)\">\n       <defs>\n        <path id=\"DejaVuSans-31\" d=\"M 794 531 \nL 1825 531 \nL 1825 4091 \nL 703 3866 \nL 703 4441 \nL 1819 4666 \nL 2450 4666 \nL 2450 531 \nL 3481 531 \nL 3481 0 \nL 794 0 \nL 794 531 \nz\n\" transform=\"scale(0.015625)\"/>\n       </defs>\n       <use xlink:href=\"#DejaVuSans-31\"/>\n       <use xlink:href=\"#DejaVuSans-30\" x=\"63.623047\"/>\n      </g>\n     </g>\n    </g>\n    <g id=\"text_7\">\n     <!-- epoch -->\n     <g transform=\"translate(112.525 174.076563) scale(0.1 -0.1)\">\n      <defs>\n       <path id=\"DejaVuSans-65\" d=\"M 3597 1894 \nL 3597 1613 \nL 953 1613 \nQ 991 1019 1311 708 \nQ 1631 397 2203 397 \nQ 2534 397 2845 478 \nQ 3156 559 3463 722 \nL 3463 178 \nQ 3153 47 2828 -22 \nQ 2503 -91 2169 -91 \nQ 1331 -91 842 396 \nQ 353 884 353 1716 \nQ 353 2575 817 3079 \nQ 1281 3584 2069 3584 \nQ 2775 3584 3186 3129 \nQ 3597 2675 3597 1894 \nz\nM 3022 2063 \nQ 3016 2534 2758 2815 \nQ 2500 3097 2075 3097 \nQ 1594 3097 1305 2825 \nQ 1016 2553 972 2059 \nL 3022 2063 \nz\n\" transform=\"scale(0.015625)\"/>\n       <path id=\"DejaVuSans-70\" d=\"M 1159 525 \nL 1159 -1331 \nL 581 -1331 \nL 581 3500 \nL 1159 3500 \nL 1159 2969 \nQ 1341 3281 1617 3432 \nQ 1894 3584 2278 3584 \nQ 2916 3584 3314 3078 \nQ 3713 2572 3713 1747 \nQ 3713 922 3314 415 \nQ 2916 -91 2278 -91 \nQ 1894 -91 1617 61 \nQ 1341 213 1159 525 \nz\nM 3116 1747 \nQ 3116 2381 2855 2742 \nQ 2594 3103 2138 3103 \nQ 1681 3103 1420 2742 \nQ 1159 2381 1159 1747 \nQ 1159 1113 1420 752 \nQ 1681 391 2138 391 \nQ 2594 391 2855 752 \nQ 3116 1113 3116 1747 \nz\n\" transform=\"scale(0.015625)\"/>\n       <path id=\"DejaVuSans-6f\" d=\"M 1959 3097 \nQ 1497 3097 1228 2736 \nQ 959 2375 959 1747 \nQ 959 1119 1226 758 \nQ 1494 397 1959 397 \nQ 2419 397 2687 759 \nQ 2956 1122 2956 1747 \nQ 2956 2369 2687 2733 \nQ 2419 3097 1959 3097 \nz\nM 1959 3584 \nQ 2709 3584 3137 3096 \nQ 3566 2609 3566 1747 \nQ 3566 888 3137 398 \nQ 2709 -91 1959 -91 \nQ 1206 -91 779 398 \nQ 353 888 353 1747 \nQ 353 2609 779 3096 \nQ 1206 3584 1959 3584 \nz\n\" transform=\"scale(0.015625)\"/>\n       <path id=\"DejaVuSans-63\" d=\"M 3122 3366 \nL 3122 2828 \nQ 2878 2963 2633 3030 \nQ 2388 3097 2138 3097 \nQ 1578 3097 1268 2742 \nQ 959 2388 959 1747 \nQ 959 1106 1268 751 \nQ 1578 397 2138 397 \nQ 2388 397 2633 464 \nQ 2878 531 3122 666 \nL 3122 134 \nQ 2881 22 2623 -34 \nQ 2366 -91 2075 -91 \nQ 1284 -91 818 406 \nQ 353 903 353 1747 \nQ 353 2603 823 3093 \nQ 1294 3584 2113 3584 \nQ 2378 3584 2631 3529 \nQ 2884 3475 3122 3366 \nz\n\" transform=\"scale(0.015625)\"/>\n       <path id=\"DejaVuSans-68\" d=\"M 3513 2113 \nL 3513 0 \nL 2938 0 \nL 2938 2094 \nQ 2938 2591 2744 2837 \nQ 2550 3084 2163 3084 \nQ 1697 3084 1428 2787 \nQ 1159 2491 1159 1978 \nL 1159 0 \nL 581 0 \nL 581 4863 \nL 1159 4863 \nL 1159 2956 \nQ 1366 3272 1645 3428 \nQ 1925 3584 2291 3584 \nQ 2894 3584 3203 3211 \nQ 3513 2838 3513 2113 \nz\n\" transform=\"scale(0.015625)\"/>\n      </defs>\n      <use xlink:href=\"#DejaVuSans-65\"/>\n      <use xlink:href=\"#DejaVuSans-70\" x=\"61.523438\"/>\n      <use xlink:href=\"#DejaVuSans-6f\" x=\"125\"/>\n      <use xlink:href=\"#DejaVuSans-63\" x=\"186.181641\"/>\n      <use xlink:href=\"#DejaVuSans-68\" x=\"241.162109\"/>\n     </g>\n    </g>\n   </g>\n   <g id=\"matplotlib.axis_2\">\n    <g id=\"ytick_1\">\n     <g id=\"line2d_7\">\n      <defs>\n       <path id=\"m421dd9ed6c\" d=\"M 0 0 \nL -3.5 0 \n\" style=\"stroke: #000000; stroke-width: 0.8\"/>\n      </defs>\n      <g>\n       <use xlink:href=\"#m421dd9ed6c\" x=\"30.103125\" y=\"142.592647\" style=\"stroke: #000000; stroke-width: 0.8\"/>\n      </g>\n     </g>\n     <g id=\"text_8\">\n      <!-- 0.0 -->\n      <g transform=\"translate(7.2 146.391866) scale(0.1 -0.1)\">\n       <defs>\n        <path id=\"DejaVuSans-2e\" d=\"M 684 794 \nL 1344 794 \nL 1344 0 \nL 684 0 \nL 684 794 \nz\n\" transform=\"scale(0.015625)\"/>\n       </defs>\n       <use xlink:href=\"#DejaVuSans-30\"/>\n       <use xlink:href=\"#DejaVuSans-2e\" x=\"63.623047\"/>\n       <use xlink:href=\"#DejaVuSans-30\" x=\"95.410156\"/>\n      </g>\n     </g>\n    </g>\n    <g id=\"ytick_2\">\n     <g id=\"line2d_8\">\n      <g>\n       <use xlink:href=\"#m421dd9ed6c\" x=\"30.103125\" y=\"114.245528\" style=\"stroke: #000000; stroke-width: 0.8\"/>\n      </g>\n     </g>\n     <g id=\"text_9\">\n      <!-- 0.2 -->\n      <g transform=\"translate(7.2 118.044746) scale(0.1 -0.1)\">\n       <use xlink:href=\"#DejaVuSans-30\"/>\n       <use xlink:href=\"#DejaVuSans-2e\" x=\"63.623047\"/>\n       <use xlink:href=\"#DejaVuSans-32\" x=\"95.410156\"/>\n      </g>\n     </g>\n    </g>\n    <g id=\"ytick_3\">\n     <g id=\"line2d_9\">\n      <g>\n       <use xlink:href=\"#m421dd9ed6c\" x=\"30.103125\" y=\"85.898408\" style=\"stroke: #000000; stroke-width: 0.8\"/>\n      </g>\n     </g>\n     <g id=\"text_10\">\n      <!-- 0.4 -->\n      <g transform=\"translate(7.2 89.697627) scale(0.1 -0.1)\">\n       <use xlink:href=\"#DejaVuSans-30\"/>\n       <use xlink:href=\"#DejaVuSans-2e\" x=\"63.623047\"/>\n       <use xlink:href=\"#DejaVuSans-34\" x=\"95.410156\"/>\n      </g>\n     </g>\n    </g>\n    <g id=\"ytick_4\">\n     <g id=\"line2d_10\">\n      <g>\n       <use xlink:href=\"#m421dd9ed6c\" x=\"30.103125\" y=\"57.551289\" style=\"stroke: #000000; stroke-width: 0.8\"/>\n      </g>\n     </g>\n     <g id=\"text_11\">\n      <!-- 0.6 -->\n      <g transform=\"translate(7.2 61.350508) scale(0.1 -0.1)\">\n       <use xlink:href=\"#DejaVuSans-30\"/>\n       <use xlink:href=\"#DejaVuSans-2e\" x=\"63.623047\"/>\n       <use xlink:href=\"#DejaVuSans-36\" x=\"95.410156\"/>\n      </g>\n     </g>\n    </g>\n    <g id=\"ytick_5\">\n     <g id=\"line2d_11\">\n      <g>\n       <use xlink:href=\"#m421dd9ed6c\" x=\"30.103125\" y=\"29.20417\" style=\"stroke: #000000; stroke-width: 0.8\"/>\n      </g>\n     </g>\n     <g id=\"text_12\">\n      <!-- 0.8 -->\n      <g transform=\"translate(7.2 33.003388) scale(0.1 -0.1)\">\n       <use xlink:href=\"#DejaVuSans-30\"/>\n       <use xlink:href=\"#DejaVuSans-2e\" x=\"63.623047\"/>\n       <use xlink:href=\"#DejaVuSans-38\" x=\"95.410156\"/>\n      </g>\n     </g>\n    </g>\n   </g>\n   <g id=\"line2d_12\">\n    <path d=\"M 34.954394 63.251696 \n\" clip-path=\"url(#p0189671533)\" style=\"fill: none; stroke: #1f77b4; stroke-width: 1.5; stroke-linecap: square\"/>\n   </g>\n   <g id=\"line2d_13\">\n    <path d=\"M 34.954394 63.251696 \nL 44.698573 94.375337 \n\" clip-path=\"url(#p0189671533)\" style=\"fill: none; stroke: #1f77b4; stroke-width: 1.5; stroke-linecap: square\"/>\n   </g>\n   <g id=\"line2d_14\">\n    <path d=\"M 34.954394 63.251696 \nL 44.698573 94.375337 \n\" clip-path=\"url(#p0189671533)\" style=\"fill: none; stroke: #1f77b4; stroke-width: 1.5; stroke-linecap: square\"/>\n   </g>\n   <g id=\"line2d_15\">\n    <path d=\"M 49.633125 91.9745 \n\" clip-path=\"url(#p0189671533)\" style=\"fill: none; stroke-dasharray: 5.55,2.4; stroke-dashoffset: 0; stroke: #ff7f0e; stroke-width: 1.5\"/>\n   </g>\n   <g id=\"line2d_16\"/>\n   <g id=\"line2d_17\">\n    <path d=\"M 34.954394 63.251696 \nL 44.698573 94.375337 \n\" clip-path=\"url(#p0189671533)\" style=\"fill: none; stroke: #1f77b4; stroke-width: 1.5; stroke-linecap: square\"/>\n   </g>\n   <g id=\"line2d_18\">\n    <path d=\"M 49.633125 91.9745 \n\" clip-path=\"url(#p0189671533)\" style=\"fill: none; stroke-dasharray: 5.55,2.4; stroke-dashoffset: 0; stroke: #ff7f0e; stroke-width: 1.5\"/>\n   </g>\n   <g id=\"line2d_19\">\n    <path d=\"M 49.633125 19.092613 \n\" clip-path=\"url(#p0189671533)\" style=\"fill: none; stroke-dasharray: 9.6,2.4,1.5,2.4; stroke-dashoffset: 0; stroke: #2ca02c; stroke-width: 1.5\"/>\n   </g>\n   <g id=\"line2d_20\">\n    <path d=\"M 34.954394 63.251696 \nL 44.698573 94.375337 \nL 54.442752 103.658395 \n\" clip-path=\"url(#p0189671533)\" style=\"fill: none; stroke: #1f77b4; stroke-width: 1.5; stroke-linecap: square\"/>\n   </g>\n   <g id=\"line2d_21\">\n    <path d=\"M 49.633125 91.9745 \n\" clip-path=\"url(#p0189671533)\" style=\"fill: none; stroke-dasharray: 5.55,2.4; stroke-dashoffset: 0; stroke: #ff7f0e; stroke-width: 1.5\"/>\n   </g>\n   <g id=\"line2d_22\">\n    <path d=\"M 49.633125 19.092613 \n\" clip-path=\"url(#p0189671533)\" style=\"fill: none; stroke-dasharray: 9.6,2.4,1.5,2.4; stroke-dashoffset: 0; stroke: #2ca02c; stroke-width: 1.5\"/>\n   </g>\n   <g id=\"line2d_23\">\n    <path d=\"M 34.954394 63.251696 \nL 44.698573 94.375337 \nL 54.442752 103.658395 \nL 64.186931 106.020513 \n\" clip-path=\"url(#p0189671533)\" style=\"fill: none; stroke: #1f77b4; stroke-width: 1.5; stroke-linecap: square\"/>\n   </g>\n   <g id=\"line2d_24\">\n    <path d=\"M 49.633125 91.9745 \n\" clip-path=\"url(#p0189671533)\" style=\"fill: none; stroke-dasharray: 5.55,2.4; stroke-dashoffset: 0; stroke: #ff7f0e; stroke-width: 1.5\"/>\n   </g>\n   <g id=\"line2d_25\">\n    <path d=\"M 49.633125 19.092613 \n\" clip-path=\"url(#p0189671533)\" style=\"fill: none; stroke-dasharray: 9.6,2.4,1.5,2.4; stroke-dashoffset: 0; stroke: #2ca02c; stroke-width: 1.5\"/>\n   </g>\n   <g id=\"line2d_26\">\n    <path d=\"M 34.954394 63.251696 \nL 44.698573 94.375337 \nL 54.442752 103.658395 \nL 64.186931 106.020513 \n\" clip-path=\"url(#p0189671533)\" style=\"fill: none; stroke: #1f77b4; stroke-width: 1.5; stroke-linecap: square\"/>\n   </g>\n   <g id=\"line2d_27\">\n    <path d=\"M 49.633125 91.9745 \nL 69.163125 99.599195 \n\" clip-path=\"url(#p0189671533)\" style=\"fill: none; stroke-dasharray: 5.55,2.4; stroke-dashoffset: 0; stroke: #ff7f0e; stroke-width: 1.5\"/>\n   </g>\n   <g id=\"line2d_28\">\n    <path d=\"M 49.633125 19.092613 \n\" clip-path=\"url(#p0189671533)\" style=\"fill: none; stroke-dasharray: 9.6,2.4,1.5,2.4; stroke-dashoffset: 0; stroke: #2ca02c; stroke-width: 1.5\"/>\n   </g>\n   <g id=\"line2d_29\">\n    <path d=\"M 34.954394 63.251696 \nL 44.698573 94.375337 \nL 54.442752 103.658395 \nL 64.186931 106.020513 \n\" clip-path=\"url(#p0189671533)\" style=\"fill: none; stroke: #1f77b4; stroke-width: 1.5; stroke-linecap: square\"/>\n   </g>\n   <g id=\"line2d_30\">\n    <path d=\"M 49.633125 91.9745 \nL 69.163125 99.599195 \n\" clip-path=\"url(#p0189671533)\" style=\"fill: none; stroke-dasharray: 5.55,2.4; stroke-dashoffset: 0; stroke: #ff7f0e; stroke-width: 1.5\"/>\n   </g>\n   <g id=\"line2d_31\">\n    <path d=\"M 49.633125 19.092613 \nL 69.163125 16.934061 \n\" clip-path=\"url(#p0189671533)\" style=\"fill: none; stroke-dasharray: 9.6,2.4,1.5,2.4; stroke-dashoffset: 0; stroke: #2ca02c; stroke-width: 1.5\"/>\n   </g>\n   <g id=\"line2d_32\">\n    <path d=\"M 34.954394 63.251696 \nL 44.698573 94.375337 \nL 54.442752 103.658395 \nL 64.186931 106.020513 \nL 73.93111 113.199902 \n\" clip-path=\"url(#p0189671533)\" style=\"fill: none; stroke: #1f77b4; stroke-width: 1.5; stroke-linecap: square\"/>\n   </g>\n   <g id=\"line2d_33\">\n    <path d=\"M 49.633125 91.9745 \nL 69.163125 99.599195 \n\" clip-path=\"url(#p0189671533)\" style=\"fill: none; stroke-dasharray: 5.55,2.4; stroke-dashoffset: 0; stroke: #ff7f0e; stroke-width: 1.5\"/>\n   </g>\n   <g id=\"line2d_34\">\n    <path d=\"M 49.633125 19.092613 \nL 69.163125 16.934061 \n\" clip-path=\"url(#p0189671533)\" style=\"fill: none; stroke-dasharray: 9.6,2.4,1.5,2.4; stroke-dashoffset: 0; stroke: #2ca02c; stroke-width: 1.5\"/>\n   </g>\n   <g id=\"line2d_35\">\n    <path d=\"M 34.954394 63.251696 \nL 44.698573 94.375337 \nL 54.442752 103.658395 \nL 64.186931 106.020513 \nL 73.93111 113.199902 \nL 83.675289 113.15104 \n\" clip-path=\"url(#p0189671533)\" style=\"fill: none; stroke: #1f77b4; stroke-width: 1.5; stroke-linecap: square\"/>\n   </g>\n   <g id=\"line2d_36\">\n    <path d=\"M 49.633125 91.9745 \nL 69.163125 99.599195 \n\" clip-path=\"url(#p0189671533)\" style=\"fill: none; stroke-dasharray: 5.55,2.4; stroke-dashoffset: 0; stroke: #ff7f0e; stroke-width: 1.5\"/>\n   </g>\n   <g id=\"line2d_37\">\n    <path d=\"M 49.633125 19.092613 \nL 69.163125 16.934061 \n\" clip-path=\"url(#p0189671533)\" style=\"fill: none; stroke-dasharray: 9.6,2.4,1.5,2.4; stroke-dashoffset: 0; stroke: #2ca02c; stroke-width: 1.5\"/>\n   </g>\n   <g id=\"line2d_38\">\n    <path d=\"M 34.954394 63.251696 \nL 44.698573 94.375337 \nL 54.442752 103.658395 \nL 64.186931 106.020513 \nL 73.93111 113.199902 \nL 83.675289 113.15104 \n\" clip-path=\"url(#p0189671533)\" style=\"fill: none; stroke: #1f77b4; stroke-width: 1.5; stroke-linecap: square\"/>\n   </g>\n   <g id=\"line2d_39\">\n    <path d=\"M 49.633125 91.9745 \nL 69.163125 99.599195 \nL 88.693125 57.939762 \n\" clip-path=\"url(#p0189671533)\" style=\"fill: none; stroke-dasharray: 5.55,2.4; stroke-dashoffset: 0; stroke: #ff7f0e; stroke-width: 1.5\"/>\n   </g>\n   <g id=\"line2d_40\">\n    <path d=\"M 49.633125 19.092613 \nL 69.163125 16.934061 \n\" clip-path=\"url(#p0189671533)\" style=\"fill: none; stroke-dasharray: 9.6,2.4,1.5,2.4; stroke-dashoffset: 0; stroke: #2ca02c; stroke-width: 1.5\"/>\n   </g>\n   <g id=\"line2d_41\">\n    <path d=\"M 34.954394 63.251696 \nL 44.698573 94.375337 \nL 54.442752 103.658395 \nL 64.186931 106.020513 \nL 73.93111 113.199902 \nL 83.675289 113.15104 \n\" clip-path=\"url(#p0189671533)\" style=\"fill: none; stroke: #1f77b4; stroke-width: 1.5; stroke-linecap: square\"/>\n   </g>\n   <g id=\"line2d_42\">\n    <path d=\"M 49.633125 91.9745 \nL 69.163125 99.599195 \nL 88.693125 57.939762 \n\" clip-path=\"url(#p0189671533)\" style=\"fill: none; stroke-dasharray: 5.55,2.4; stroke-dashoffset: 0; stroke: #ff7f0e; stroke-width: 1.5\"/>\n   </g>\n   <g id=\"line2d_43\">\n    <path d=\"M 49.633125 19.092613 \nL 69.163125 16.934061 \nL 88.693125 26.54943 \n\" clip-path=\"url(#p0189671533)\" style=\"fill: none; stroke-dasharray: 9.6,2.4,1.5,2.4; stroke-dashoffset: 0; stroke: #2ca02c; stroke-width: 1.5\"/>\n   </g>\n   <g id=\"line2d_44\">\n    <path d=\"M 34.954394 63.251696 \nL 44.698573 94.375337 \nL 54.442752 103.658395 \nL 64.186931 106.020513 \nL 73.93111 113.199902 \nL 83.675289 113.15104 \nL 93.419468 119.562045 \n\" clip-path=\"url(#p0189671533)\" style=\"fill: none; stroke: #1f77b4; stroke-width: 1.5; stroke-linecap: square\"/>\n   </g>\n   <g id=\"line2d_45\">\n    <path d=\"M 49.633125 91.9745 \nL 69.163125 99.599195 \nL 88.693125 57.939762 \n\" clip-path=\"url(#p0189671533)\" style=\"fill: none; stroke-dasharray: 5.55,2.4; stroke-dashoffset: 0; stroke: #ff7f0e; stroke-width: 1.5\"/>\n   </g>\n   <g id=\"line2d_46\">\n    <path d=\"M 49.633125 19.092613 \nL 69.163125 16.934061 \nL 88.693125 26.54943 \n\" clip-path=\"url(#p0189671533)\" style=\"fill: none; stroke-dasharray: 9.6,2.4,1.5,2.4; stroke-dashoffset: 0; stroke: #2ca02c; stroke-width: 1.5\"/>\n   </g>\n   <g id=\"line2d_47\">\n    <path d=\"M 34.954394 63.251696 \nL 44.698573 94.375337 \nL 54.442752 103.658395 \nL 64.186931 106.020513 \nL 73.93111 113.199902 \nL 83.675289 113.15104 \nL 93.419468 119.562045 \nL 103.163647 118.556461 \n\" clip-path=\"url(#p0189671533)\" style=\"fill: none; stroke: #1f77b4; stroke-width: 1.5; stroke-linecap: square\"/>\n   </g>\n   <g id=\"line2d_48\">\n    <path d=\"M 49.633125 91.9745 \nL 69.163125 99.599195 \nL 88.693125 57.939762 \n\" clip-path=\"url(#p0189671533)\" style=\"fill: none; stroke-dasharray: 5.55,2.4; stroke-dashoffset: 0; stroke: #ff7f0e; stroke-width: 1.5\"/>\n   </g>\n   <g id=\"line2d_49\">\n    <path d=\"M 49.633125 19.092613 \nL 69.163125 16.934061 \nL 88.693125 26.54943 \n\" clip-path=\"url(#p0189671533)\" style=\"fill: none; stroke-dasharray: 9.6,2.4,1.5,2.4; stroke-dashoffset: 0; stroke: #2ca02c; stroke-width: 1.5\"/>\n   </g>\n   <g id=\"line2d_50\">\n    <path d=\"M 34.954394 63.251696 \nL 44.698573 94.375337 \nL 54.442752 103.658395 \nL 64.186931 106.020513 \nL 73.93111 113.199902 \nL 83.675289 113.15104 \nL 93.419468 119.562045 \nL 103.163647 118.556461 \n\" clip-path=\"url(#p0189671533)\" style=\"fill: none; stroke: #1f77b4; stroke-width: 1.5; stroke-linecap: square\"/>\n   </g>\n   <g id=\"line2d_51\">\n    <path d=\"M 49.633125 91.9745 \nL 69.163125 99.599195 \nL 88.693125 57.939762 \nL 108.223125 98.577742 \n\" clip-path=\"url(#p0189671533)\" style=\"fill: none; stroke-dasharray: 5.55,2.4; stroke-dashoffset: 0; stroke: #ff7f0e; stroke-width: 1.5\"/>\n   </g>\n   <g id=\"line2d_52\">\n    <path d=\"M 49.633125 19.092613 \nL 69.163125 16.934061 \nL 88.693125 26.54943 \n\" clip-path=\"url(#p0189671533)\" style=\"fill: none; stroke-dasharray: 9.6,2.4,1.5,2.4; stroke-dashoffset: 0; stroke: #2ca02c; stroke-width: 1.5\"/>\n   </g>\n   <g id=\"line2d_53\">\n    <path d=\"M 34.954394 63.251696 \nL 44.698573 94.375337 \nL 54.442752 103.658395 \nL 64.186931 106.020513 \nL 73.93111 113.199902 \nL 83.675289 113.15104 \nL 93.419468 119.562045 \nL 103.163647 118.556461 \n\" clip-path=\"url(#p0189671533)\" style=\"fill: none; stroke: #1f77b4; stroke-width: 1.5; stroke-linecap: square\"/>\n   </g>\n   <g id=\"line2d_54\">\n    <path d=\"M 49.633125 91.9745 \nL 69.163125 99.599195 \nL 88.693125 57.939762 \nL 108.223125 98.577742 \n\" clip-path=\"url(#p0189671533)\" style=\"fill: none; stroke-dasharray: 5.55,2.4; stroke-dashoffset: 0; stroke: #ff7f0e; stroke-width: 1.5\"/>\n   </g>\n   <g id=\"line2d_55\">\n    <path d=\"M 49.633125 19.092613 \nL 69.163125 16.934061 \nL 88.693125 26.54943 \nL 108.223125 16.513563 \n\" clip-path=\"url(#p0189671533)\" style=\"fill: none; stroke-dasharray: 9.6,2.4,1.5,2.4; stroke-dashoffset: 0; stroke: #2ca02c; stroke-width: 1.5\"/>\n   </g>\n   <g id=\"line2d_56\">\n    <path d=\"M 34.954394 63.251696 \nL 44.698573 94.375337 \nL 54.442752 103.658395 \nL 64.186931 106.020513 \nL 73.93111 113.199902 \nL 83.675289 113.15104 \nL 93.419468 119.562045 \nL 103.163647 118.556461 \nL 112.907826 125.137461 \n\" clip-path=\"url(#p0189671533)\" style=\"fill: none; stroke: #1f77b4; stroke-width: 1.5; stroke-linecap: square\"/>\n   </g>\n   <g id=\"line2d_57\">\n    <path d=\"M 49.633125 91.9745 \nL 69.163125 99.599195 \nL 88.693125 57.939762 \nL 108.223125 98.577742 \n\" clip-path=\"url(#p0189671533)\" style=\"fill: none; stroke-dasharray: 5.55,2.4; stroke-dashoffset: 0; stroke: #ff7f0e; stroke-width: 1.5\"/>\n   </g>\n   <g id=\"line2d_58\">\n    <path d=\"M 49.633125 19.092613 \nL 69.163125 16.934061 \nL 88.693125 26.54943 \nL 108.223125 16.513563 \n\" clip-path=\"url(#p0189671533)\" style=\"fill: none; stroke-dasharray: 9.6,2.4,1.5,2.4; stroke-dashoffset: 0; stroke: #2ca02c; stroke-width: 1.5\"/>\n   </g>\n   <g id=\"line2d_59\">\n    <path d=\"M 34.954394 63.251696 \nL 44.698573 94.375337 \nL 54.442752 103.658395 \nL 64.186931 106.020513 \nL 73.93111 113.199902 \nL 83.675289 113.15104 \nL 93.419468 119.562045 \nL 103.163647 118.556461 \nL 112.907826 125.137461 \nL 122.652006 123.522544 \n\" clip-path=\"url(#p0189671533)\" style=\"fill: none; stroke: #1f77b4; stroke-width: 1.5; stroke-linecap: square\"/>\n   </g>\n   <g id=\"line2d_60\">\n    <path d=\"M 49.633125 91.9745 \nL 69.163125 99.599195 \nL 88.693125 57.939762 \nL 108.223125 98.577742 \n\" clip-path=\"url(#p0189671533)\" style=\"fill: none; stroke-dasharray: 5.55,2.4; stroke-dashoffset: 0; stroke: #ff7f0e; stroke-width: 1.5\"/>\n   </g>\n   <g id=\"line2d_61\">\n    <path d=\"M 49.633125 19.092613 \nL 69.163125 16.934061 \nL 88.693125 26.54943 \nL 108.223125 16.513563 \n\" clip-path=\"url(#p0189671533)\" style=\"fill: none; stroke-dasharray: 9.6,2.4,1.5,2.4; stroke-dashoffset: 0; stroke: #2ca02c; stroke-width: 1.5\"/>\n   </g>\n   <g id=\"line2d_62\">\n    <path d=\"M 34.954394 63.251696 \nL 44.698573 94.375337 \nL 54.442752 103.658395 \nL 64.186931 106.020513 \nL 73.93111 113.199902 \nL 83.675289 113.15104 \nL 93.419468 119.562045 \nL 103.163647 118.556461 \nL 112.907826 125.137461 \nL 122.652006 123.522544 \n\" clip-path=\"url(#p0189671533)\" style=\"fill: none; stroke: #1f77b4; stroke-width: 1.5; stroke-linecap: square\"/>\n   </g>\n   <g id=\"line2d_63\">\n    <path d=\"M 49.633125 91.9745 \nL 69.163125 99.599195 \nL 88.693125 57.939762 \nL 108.223125 98.577742 \nL 127.753125 100.041374 \n\" clip-path=\"url(#p0189671533)\" style=\"fill: none; stroke-dasharray: 5.55,2.4; stroke-dashoffset: 0; stroke: #ff7f0e; stroke-width: 1.5\"/>\n   </g>\n   <g id=\"line2d_64\">\n    <path d=\"M 49.633125 19.092613 \nL 69.163125 16.934061 \nL 88.693125 26.54943 \nL 108.223125 16.513563 \n\" clip-path=\"url(#p0189671533)\" style=\"fill: none; stroke-dasharray: 9.6,2.4,1.5,2.4; stroke-dashoffset: 0; stroke: #2ca02c; stroke-width: 1.5\"/>\n   </g>\n   <g id=\"line2d_65\">\n    <path d=\"M 34.954394 63.251696 \nL 44.698573 94.375337 \nL 54.442752 103.658395 \nL 64.186931 106.020513 \nL 73.93111 113.199902 \nL 83.675289 113.15104 \nL 93.419468 119.562045 \nL 103.163647 118.556461 \nL 112.907826 125.137461 \nL 122.652006 123.522544 \n\" clip-path=\"url(#p0189671533)\" style=\"fill: none; stroke: #1f77b4; stroke-width: 1.5; stroke-linecap: square\"/>\n   </g>\n   <g id=\"line2d_66\">\n    <path d=\"M 49.633125 91.9745 \nL 69.163125 99.599195 \nL 88.693125 57.939762 \nL 108.223125 98.577742 \nL 127.753125 100.041374 \n\" clip-path=\"url(#p0189671533)\" style=\"fill: none; stroke-dasharray: 5.55,2.4; stroke-dashoffset: 0; stroke: #ff7f0e; stroke-width: 1.5\"/>\n   </g>\n   <g id=\"line2d_67\">\n    <path d=\"M 49.633125 19.092613 \nL 69.163125 16.934061 \nL 88.693125 26.54943 \nL 108.223125 16.513563 \nL 127.753125 16.163149 \n\" clip-path=\"url(#p0189671533)\" style=\"fill: none; stroke-dasharray: 9.6,2.4,1.5,2.4; stroke-dashoffset: 0; stroke: #2ca02c; stroke-width: 1.5\"/>\n   </g>\n   <g id=\"line2d_68\">\n    <path d=\"M 34.954394 63.251696 \nL 44.698573 94.375337 \nL 54.442752 103.658395 \nL 64.186931 106.020513 \nL 73.93111 113.199902 \nL 83.675289 113.15104 \nL 93.419468 119.562045 \nL 103.163647 118.556461 \nL 112.907826 125.137461 \nL 122.652006 123.522544 \nL 132.396185 129.319366 \n\" clip-path=\"url(#p0189671533)\" style=\"fill: none; stroke: #1f77b4; stroke-width: 1.5; stroke-linecap: square\"/>\n   </g>\n   <g id=\"line2d_69\">\n    <path d=\"M 49.633125 91.9745 \nL 69.163125 99.599195 \nL 88.693125 57.939762 \nL 108.223125 98.577742 \nL 127.753125 100.041374 \n\" clip-path=\"url(#p0189671533)\" style=\"fill: none; stroke-dasharray: 5.55,2.4; stroke-dashoffset: 0; stroke: #ff7f0e; stroke-width: 1.5\"/>\n   </g>\n   <g id=\"line2d_70\">\n    <path d=\"M 49.633125 19.092613 \nL 69.163125 16.934061 \nL 88.693125 26.54943 \nL 108.223125 16.513563 \nL 127.753125 16.163149 \n\" clip-path=\"url(#p0189671533)\" style=\"fill: none; stroke-dasharray: 9.6,2.4,1.5,2.4; stroke-dashoffset: 0; stroke: #2ca02c; stroke-width: 1.5\"/>\n   </g>\n   <g id=\"line2d_71\">\n    <path d=\"M 34.954394 63.251696 \nL 44.698573 94.375337 \nL 54.442752 103.658395 \nL 64.186931 106.020513 \nL 73.93111 113.199902 \nL 83.675289 113.15104 \nL 93.419468 119.562045 \nL 103.163647 118.556461 \nL 112.907826 125.137461 \nL 122.652006 123.522544 \nL 132.396185 129.319366 \nL 142.140364 128.112958 \n\" clip-path=\"url(#p0189671533)\" style=\"fill: none; stroke: #1f77b4; stroke-width: 1.5; stroke-linecap: square\"/>\n   </g>\n   <g id=\"line2d_72\">\n    <path d=\"M 49.633125 91.9745 \nL 69.163125 99.599195 \nL 88.693125 57.939762 \nL 108.223125 98.577742 \nL 127.753125 100.041374 \n\" clip-path=\"url(#p0189671533)\" style=\"fill: none; stroke-dasharray: 5.55,2.4; stroke-dashoffset: 0; stroke: #ff7f0e; stroke-width: 1.5\"/>\n   </g>\n   <g id=\"line2d_73\">\n    <path d=\"M 49.633125 19.092613 \nL 69.163125 16.934061 \nL 88.693125 26.54943 \nL 108.223125 16.513563 \nL 127.753125 16.163149 \n\" clip-path=\"url(#p0189671533)\" style=\"fill: none; stroke-dasharray: 9.6,2.4,1.5,2.4; stroke-dashoffset: 0; stroke: #2ca02c; stroke-width: 1.5\"/>\n   </g>\n   <g id=\"line2d_74\">\n    <path d=\"M 34.954394 63.251696 \nL 44.698573 94.375337 \nL 54.442752 103.658395 \nL 64.186931 106.020513 \nL 73.93111 113.199902 \nL 83.675289 113.15104 \nL 93.419468 119.562045 \nL 103.163647 118.556461 \nL 112.907826 125.137461 \nL 122.652006 123.522544 \nL 132.396185 129.319366 \nL 142.140364 128.112958 \n\" clip-path=\"url(#p0189671533)\" style=\"fill: none; stroke: #1f77b4; stroke-width: 1.5; stroke-linecap: square\"/>\n   </g>\n   <g id=\"line2d_75\">\n    <path d=\"M 49.633125 91.9745 \nL 69.163125 99.599195 \nL 88.693125 57.939762 \nL 108.223125 98.577742 \nL 127.753125 100.041374 \nL 147.283125 101.740913 \n\" clip-path=\"url(#p0189671533)\" style=\"fill: none; stroke-dasharray: 5.55,2.4; stroke-dashoffset: 0; stroke: #ff7f0e; stroke-width: 1.5\"/>\n   </g>\n   <g id=\"line2d_76\">\n    <path d=\"M 49.633125 19.092613 \nL 69.163125 16.934061 \nL 88.693125 26.54943 \nL 108.223125 16.513563 \nL 127.753125 16.163149 \n\" clip-path=\"url(#p0189671533)\" style=\"fill: none; stroke-dasharray: 9.6,2.4,1.5,2.4; stroke-dashoffset: 0; stroke: #2ca02c; stroke-width: 1.5\"/>\n   </g>\n   <g id=\"line2d_77\">\n    <path d=\"M 34.954394 63.251696 \nL 44.698573 94.375337 \nL 54.442752 103.658395 \nL 64.186931 106.020513 \nL 73.93111 113.199902 \nL 83.675289 113.15104 \nL 93.419468 119.562045 \nL 103.163647 118.556461 \nL 112.907826 125.137461 \nL 122.652006 123.522544 \nL 132.396185 129.319366 \nL 142.140364 128.112958 \n\" clip-path=\"url(#p0189671533)\" style=\"fill: none; stroke: #1f77b4; stroke-width: 1.5; stroke-linecap: square\"/>\n   </g>\n   <g id=\"line2d_78\">\n    <path d=\"M 49.633125 91.9745 \nL 69.163125 99.599195 \nL 88.693125 57.939762 \nL 108.223125 98.577742 \nL 127.753125 100.041374 \nL 147.283125 101.740913 \n\" clip-path=\"url(#p0189671533)\" style=\"fill: none; stroke-dasharray: 5.55,2.4; stroke-dashoffset: 0; stroke: #ff7f0e; stroke-width: 1.5\"/>\n   </g>\n   <g id=\"line2d_79\">\n    <path d=\"M 49.633125 19.092613 \nL 69.163125 16.934061 \nL 88.693125 26.54943 \nL 108.223125 16.513563 \nL 127.753125 16.163149 \nL 147.283125 14.116729 \n\" clip-path=\"url(#p0189671533)\" style=\"fill: none; stroke-dasharray: 9.6,2.4,1.5,2.4; stroke-dashoffset: 0; stroke: #2ca02c; stroke-width: 1.5\"/>\n   </g>\n   <g id=\"line2d_80\">\n    <path d=\"M 34.954394 63.251696 \nL 44.698573 94.375337 \nL 54.442752 103.658395 \nL 64.186931 106.020513 \nL 73.93111 113.199902 \nL 83.675289 113.15104 \nL 93.419468 119.562045 \nL 103.163647 118.556461 \nL 112.907826 125.137461 \nL 122.652006 123.522544 \nL 132.396185 129.319366 \nL 142.140364 128.112958 \nL 151.884543 132.96706 \n\" clip-path=\"url(#p0189671533)\" style=\"fill: none; stroke: #1f77b4; stroke-width: 1.5; stroke-linecap: square\"/>\n   </g>\n   <g id=\"line2d_81\">\n    <path d=\"M 49.633125 91.9745 \nL 69.163125 99.599195 \nL 88.693125 57.939762 \nL 108.223125 98.577742 \nL 127.753125 100.041374 \nL 147.283125 101.740913 \n\" clip-path=\"url(#p0189671533)\" style=\"fill: none; stroke-dasharray: 5.55,2.4; stroke-dashoffset: 0; stroke: #ff7f0e; stroke-width: 1.5\"/>\n   </g>\n   <g id=\"line2d_82\">\n    <path d=\"M 49.633125 19.092613 \nL 69.163125 16.934061 \nL 88.693125 26.54943 \nL 108.223125 16.513563 \nL 127.753125 16.163149 \nL 147.283125 14.116729 \n\" clip-path=\"url(#p0189671533)\" style=\"fill: none; stroke-dasharray: 9.6,2.4,1.5,2.4; stroke-dashoffset: 0; stroke: #2ca02c; stroke-width: 1.5\"/>\n   </g>\n   <g id=\"line2d_83\">\n    <path d=\"M 34.954394 63.251696 \nL 44.698573 94.375337 \nL 54.442752 103.658395 \nL 64.186931 106.020513 \nL 73.93111 113.199902 \nL 83.675289 113.15104 \nL 93.419468 119.562045 \nL 103.163647 118.556461 \nL 112.907826 125.137461 \nL 122.652006 123.522544 \nL 132.396185 129.319366 \nL 142.140364 128.112958 \nL 151.884543 132.96706 \nL 161.628722 131.79759 \n\" clip-path=\"url(#p0189671533)\" style=\"fill: none; stroke: #1f77b4; stroke-width: 1.5; stroke-linecap: square\"/>\n   </g>\n   <g id=\"line2d_84\">\n    <path d=\"M 49.633125 91.9745 \nL 69.163125 99.599195 \nL 88.693125 57.939762 \nL 108.223125 98.577742 \nL 127.753125 100.041374 \nL 147.283125 101.740913 \n\" clip-path=\"url(#p0189671533)\" style=\"fill: none; stroke-dasharray: 5.55,2.4; stroke-dashoffset: 0; stroke: #ff7f0e; stroke-width: 1.5\"/>\n   </g>\n   <g id=\"line2d_85\">\n    <path d=\"M 49.633125 19.092613 \nL 69.163125 16.934061 \nL 88.693125 26.54943 \nL 108.223125 16.513563 \nL 127.753125 16.163149 \nL 147.283125 14.116729 \n\" clip-path=\"url(#p0189671533)\" style=\"fill: none; stroke-dasharray: 9.6,2.4,1.5,2.4; stroke-dashoffset: 0; stroke: #2ca02c; stroke-width: 1.5\"/>\n   </g>\n   <g id=\"line2d_86\">\n    <path d=\"M 34.954394 63.251696 \nL 44.698573 94.375337 \nL 54.442752 103.658395 \nL 64.186931 106.020513 \nL 73.93111 113.199902 \nL 83.675289 113.15104 \nL 93.419468 119.562045 \nL 103.163647 118.556461 \nL 112.907826 125.137461 \nL 122.652006 123.522544 \nL 132.396185 129.319366 \nL 142.140364 128.112958 \nL 151.884543 132.96706 \nL 161.628722 131.79759 \n\" clip-path=\"url(#p0189671533)\" style=\"fill: none; stroke: #1f77b4; stroke-width: 1.5; stroke-linecap: square\"/>\n   </g>\n   <g id=\"line2d_87\">\n    <path d=\"M 49.633125 91.9745 \nL 69.163125 99.599195 \nL 88.693125 57.939762 \nL 108.223125 98.577742 \nL 127.753125 100.041374 \nL 147.283125 101.740913 \nL 166.813125 100.990952 \n\" clip-path=\"url(#p0189671533)\" style=\"fill: none; stroke-dasharray: 5.55,2.4; stroke-dashoffset: 0; stroke: #ff7f0e; stroke-width: 1.5\"/>\n   </g>\n   <g id=\"line2d_88\">\n    <path d=\"M 49.633125 19.092613 \nL 69.163125 16.934061 \nL 88.693125 26.54943 \nL 108.223125 16.513563 \nL 127.753125 16.163149 \nL 147.283125 14.116729 \n\" clip-path=\"url(#p0189671533)\" style=\"fill: none; stroke-dasharray: 9.6,2.4,1.5,2.4; stroke-dashoffset: 0; stroke: #2ca02c; stroke-width: 1.5\"/>\n   </g>\n   <g id=\"line2d_89\">\n    <path d=\"M 34.954394 63.251696 \nL 44.698573 94.375337 \nL 54.442752 103.658395 \nL 64.186931 106.020513 \nL 73.93111 113.199902 \nL 83.675289 113.15104 \nL 93.419468 119.562045 \nL 103.163647 118.556461 \nL 112.907826 125.137461 \nL 122.652006 123.522544 \nL 132.396185 129.319366 \nL 142.140364 128.112958 \nL 151.884543 132.96706 \nL 161.628722 131.79759 \n\" clip-path=\"url(#p0189671533)\" style=\"fill: none; stroke: #1f77b4; stroke-width: 1.5; stroke-linecap: square\"/>\n   </g>\n   <g id=\"line2d_90\">\n    <path d=\"M 49.633125 91.9745 \nL 69.163125 99.599195 \nL 88.693125 57.939762 \nL 108.223125 98.577742 \nL 127.753125 100.041374 \nL 147.283125 101.740913 \nL 166.813125 100.990952 \n\" clip-path=\"url(#p0189671533)\" style=\"fill: none; stroke-dasharray: 5.55,2.4; stroke-dashoffset: 0; stroke: #ff7f0e; stroke-width: 1.5\"/>\n   </g>\n   <g id=\"line2d_91\">\n    <path d=\"M 49.633125 19.092613 \nL 69.163125 16.934061 \nL 88.693125 26.54943 \nL 108.223125 16.513563 \nL 127.753125 16.163149 \nL 147.283125 14.116729 \nL 166.813125 14.256895 \n\" clip-path=\"url(#p0189671533)\" style=\"fill: none; stroke-dasharray: 9.6,2.4,1.5,2.4; stroke-dashoffset: 0; stroke: #2ca02c; stroke-width: 1.5\"/>\n   </g>\n   <g id=\"line2d_92\">\n    <path d=\"M 34.954394 63.251696 \nL 44.698573 94.375337 \nL 54.442752 103.658395 \nL 64.186931 106.020513 \nL 73.93111 113.199902 \nL 83.675289 113.15104 \nL 93.419468 119.562045 \nL 103.163647 118.556461 \nL 112.907826 125.137461 \nL 122.652006 123.522544 \nL 132.396185 129.319366 \nL 142.140364 128.112958 \nL 151.884543 132.96706 \nL 161.628722 131.79759 \nL 171.372901 135.14232 \n\" clip-path=\"url(#p0189671533)\" style=\"fill: none; stroke: #1f77b4; stroke-width: 1.5; stroke-linecap: square\"/>\n   </g>\n   <g id=\"line2d_93\">\n    <path d=\"M 49.633125 91.9745 \nL 69.163125 99.599195 \nL 88.693125 57.939762 \nL 108.223125 98.577742 \nL 127.753125 100.041374 \nL 147.283125 101.740913 \nL 166.813125 100.990952 \n\" clip-path=\"url(#p0189671533)\" style=\"fill: none; stroke-dasharray: 5.55,2.4; stroke-dashoffset: 0; stroke: #ff7f0e; stroke-width: 1.5\"/>\n   </g>\n   <g id=\"line2d_94\">\n    <path d=\"M 49.633125 19.092613 \nL 69.163125 16.934061 \nL 88.693125 26.54943 \nL 108.223125 16.513563 \nL 127.753125 16.163149 \nL 147.283125 14.116729 \nL 166.813125 14.256895 \n\" clip-path=\"url(#p0189671533)\" style=\"fill: none; stroke-dasharray: 9.6,2.4,1.5,2.4; stroke-dashoffset: 0; stroke: #2ca02c; stroke-width: 1.5\"/>\n   </g>\n   <g id=\"line2d_95\">\n    <path d=\"M 34.954394 63.251696 \nL 44.698573 94.375337 \nL 54.442752 103.658395 \nL 64.186931 106.020513 \nL 73.93111 113.199902 \nL 83.675289 113.15104 \nL 93.419468 119.562045 \nL 103.163647 118.556461 \nL 112.907826 125.137461 \nL 122.652006 123.522544 \nL 132.396185 129.319366 \nL 142.140364 128.112958 \nL 151.884543 132.96706 \nL 161.628722 131.79759 \nL 171.372901 135.14232 \nL 181.11708 135.169534 \n\" clip-path=\"url(#p0189671533)\" style=\"fill: none; stroke: #1f77b4; stroke-width: 1.5; stroke-linecap: square\"/>\n   </g>\n   <g id=\"line2d_96\">\n    <path d=\"M 49.633125 91.9745 \nL 69.163125 99.599195 \nL 88.693125 57.939762 \nL 108.223125 98.577742 \nL 127.753125 100.041374 \nL 147.283125 101.740913 \nL 166.813125 100.990952 \n\" clip-path=\"url(#p0189671533)\" style=\"fill: none; stroke-dasharray: 5.55,2.4; stroke-dashoffset: 0; stroke: #ff7f0e; stroke-width: 1.5\"/>\n   </g>\n   <g id=\"line2d_97\">\n    <path d=\"M 49.633125 19.092613 \nL 69.163125 16.934061 \nL 88.693125 26.54943 \nL 108.223125 16.513563 \nL 127.753125 16.163149 \nL 147.283125 14.116729 \nL 166.813125 14.256895 \n\" clip-path=\"url(#p0189671533)\" style=\"fill: none; stroke-dasharray: 9.6,2.4,1.5,2.4; stroke-dashoffset: 0; stroke: #2ca02c; stroke-width: 1.5\"/>\n   </g>\n   <g id=\"line2d_98\">\n    <path d=\"M 34.954394 63.251696 \nL 44.698573 94.375337 \nL 54.442752 103.658395 \nL 64.186931 106.020513 \nL 73.93111 113.199902 \nL 83.675289 113.15104 \nL 93.419468 119.562045 \nL 103.163647 118.556461 \nL 112.907826 125.137461 \nL 122.652006 123.522544 \nL 132.396185 129.319366 \nL 142.140364 128.112958 \nL 151.884543 132.96706 \nL 161.628722 131.79759 \nL 171.372901 135.14232 \nL 181.11708 135.169534 \n\" clip-path=\"url(#p0189671533)\" style=\"fill: none; stroke: #1f77b4; stroke-width: 1.5; stroke-linecap: square\"/>\n   </g>\n   <g id=\"line2d_99\">\n    <path d=\"M 49.633125 91.9745 \nL 69.163125 99.599195 \nL 88.693125 57.939762 \nL 108.223125 98.577742 \nL 127.753125 100.041374 \nL 147.283125 101.740913 \nL 166.813125 100.990952 \nL 186.343125 90.455647 \n\" clip-path=\"url(#p0189671533)\" style=\"fill: none; stroke-dasharray: 5.55,2.4; stroke-dashoffset: 0; stroke: #ff7f0e; stroke-width: 1.5\"/>\n   </g>\n   <g id=\"line2d_100\">\n    <path d=\"M 49.633125 19.092613 \nL 69.163125 16.934061 \nL 88.693125 26.54943 \nL 108.223125 16.513563 \nL 127.753125 16.163149 \nL 147.283125 14.116729 \nL 166.813125 14.256895 \n\" clip-path=\"url(#p0189671533)\" style=\"fill: none; stroke-dasharray: 9.6,2.4,1.5,2.4; stroke-dashoffset: 0; stroke: #2ca02c; stroke-width: 1.5\"/>\n   </g>\n   <g id=\"line2d_101\">\n    <path d=\"M 34.954394 63.251696 \nL 44.698573 94.375337 \nL 54.442752 103.658395 \nL 64.186931 106.020513 \nL 73.93111 113.199902 \nL 83.675289 113.15104 \nL 93.419468 119.562045 \nL 103.163647 118.556461 \nL 112.907826 125.137461 \nL 122.652006 123.522544 \nL 132.396185 129.319366 \nL 142.140364 128.112958 \nL 151.884543 132.96706 \nL 161.628722 131.79759 \nL 171.372901 135.14232 \nL 181.11708 135.169534 \n\" clip-path=\"url(#p0189671533)\" style=\"fill: none; stroke: #1f77b4; stroke-width: 1.5; stroke-linecap: square\"/>\n   </g>\n   <g id=\"line2d_102\">\n    <path d=\"M 49.633125 91.9745 \nL 69.163125 99.599195 \nL 88.693125 57.939762 \nL 108.223125 98.577742 \nL 127.753125 100.041374 \nL 147.283125 101.740913 \nL 166.813125 100.990952 \nL 186.343125 90.455647 \n\" clip-path=\"url(#p0189671533)\" style=\"fill: none; stroke-dasharray: 5.55,2.4; stroke-dashoffset: 0; stroke: #ff7f0e; stroke-width: 1.5\"/>\n   </g>\n   <g id=\"line2d_103\">\n    <path d=\"M 49.633125 19.092613 \nL 69.163125 16.934061 \nL 88.693125 26.54943 \nL 108.223125 16.513563 \nL 127.753125 16.163149 \nL 147.283125 14.116729 \nL 166.813125 14.256895 \nL 186.343125 15.252072 \n\" clip-path=\"url(#p0189671533)\" style=\"fill: none; stroke-dasharray: 9.6,2.4,1.5,2.4; stroke-dashoffset: 0; stroke: #2ca02c; stroke-width: 1.5\"/>\n   </g>\n   <g id=\"line2d_104\">\n    <path d=\"M 34.954394 63.251696 \nL 44.698573 94.375337 \nL 54.442752 103.658395 \nL 64.186931 106.020513 \nL 73.93111 113.199902 \nL 83.675289 113.15104 \nL 93.419468 119.562045 \nL 103.163647 118.556461 \nL 112.907826 125.137461 \nL 122.652006 123.522544 \nL 132.396185 129.319366 \nL 142.140364 128.112958 \nL 151.884543 132.96706 \nL 161.628722 131.79759 \nL 171.372901 135.14232 \nL 181.11708 135.169534 \nL 190.861259 137.971376 \n\" clip-path=\"url(#p0189671533)\" style=\"fill: none; stroke: #1f77b4; stroke-width: 1.5; stroke-linecap: square\"/>\n   </g>\n   <g id=\"line2d_105\">\n    <path d=\"M 49.633125 91.9745 \nL 69.163125 99.599195 \nL 88.693125 57.939762 \nL 108.223125 98.577742 \nL 127.753125 100.041374 \nL 147.283125 101.740913 \nL 166.813125 100.990952 \nL 186.343125 90.455647 \n\" clip-path=\"url(#p0189671533)\" style=\"fill: none; stroke-dasharray: 5.55,2.4; stroke-dashoffset: 0; stroke: #ff7f0e; stroke-width: 1.5\"/>\n   </g>\n   <g id=\"line2d_106\">\n    <path d=\"M 49.633125 19.092613 \nL 69.163125 16.934061 \nL 88.693125 26.54943 \nL 108.223125 16.513563 \nL 127.753125 16.163149 \nL 147.283125 14.116729 \nL 166.813125 14.256895 \nL 186.343125 15.252072 \n\" clip-path=\"url(#p0189671533)\" style=\"fill: none; stroke-dasharray: 9.6,2.4,1.5,2.4; stroke-dashoffset: 0; stroke: #2ca02c; stroke-width: 1.5\"/>\n   </g>\n   <g id=\"line2d_107\">\n    <path d=\"M 34.954394 63.251696 \nL 44.698573 94.375337 \nL 54.442752 103.658395 \nL 64.186931 106.020513 \nL 73.93111 113.199902 \nL 83.675289 113.15104 \nL 93.419468 119.562045 \nL 103.163647 118.556461 \nL 112.907826 125.137461 \nL 122.652006 123.522544 \nL 132.396185 129.319366 \nL 142.140364 128.112958 \nL 151.884543 132.96706 \nL 161.628722 131.79759 \nL 171.372901 135.14232 \nL 181.11708 135.169534 \nL 190.861259 137.971376 \nL 200.605438 137.576825 \n\" clip-path=\"url(#p0189671533)\" style=\"fill: none; stroke: #1f77b4; stroke-width: 1.5; stroke-linecap: square\"/>\n   </g>\n   <g id=\"line2d_108\">\n    <path d=\"M 49.633125 91.9745 \nL 69.163125 99.599195 \nL 88.693125 57.939762 \nL 108.223125 98.577742 \nL 127.753125 100.041374 \nL 147.283125 101.740913 \nL 166.813125 100.990952 \nL 186.343125 90.455647 \n\" clip-path=\"url(#p0189671533)\" style=\"fill: none; stroke-dasharray: 5.55,2.4; stroke-dashoffset: 0; stroke: #ff7f0e; stroke-width: 1.5\"/>\n   </g>\n   <g id=\"line2d_109\">\n    <path d=\"M 49.633125 19.092613 \nL 69.163125 16.934061 \nL 88.693125 26.54943 \nL 108.223125 16.513563 \nL 127.753125 16.163149 \nL 147.283125 14.116729 \nL 166.813125 14.256895 \nL 186.343125 15.252072 \n\" clip-path=\"url(#p0189671533)\" style=\"fill: none; stroke-dasharray: 9.6,2.4,1.5,2.4; stroke-dashoffset: 0; stroke: #2ca02c; stroke-width: 1.5\"/>\n   </g>\n   <g id=\"line2d_110\">\n    <path d=\"M 34.954394 63.251696 \nL 44.698573 94.375337 \nL 54.442752 103.658395 \nL 64.186931 106.020513 \nL 73.93111 113.199902 \nL 83.675289 113.15104 \nL 93.419468 119.562045 \nL 103.163647 118.556461 \nL 112.907826 125.137461 \nL 122.652006 123.522544 \nL 132.396185 129.319366 \nL 142.140364 128.112958 \nL 151.884543 132.96706 \nL 161.628722 131.79759 \nL 171.372901 135.14232 \nL 181.11708 135.169534 \nL 190.861259 137.971376 \nL 200.605438 137.576825 \n\" clip-path=\"url(#p0189671533)\" style=\"fill: none; stroke: #1f77b4; stroke-width: 1.5; stroke-linecap: square\"/>\n   </g>\n   <g id=\"line2d_111\">\n    <path d=\"M 49.633125 91.9745 \nL 69.163125 99.599195 \nL 88.693125 57.939762 \nL 108.223125 98.577742 \nL 127.753125 100.041374 \nL 147.283125 101.740913 \nL 166.813125 100.990952 \nL 186.343125 90.455647 \nL 205.873125 93.163762 \n\" clip-path=\"url(#p0189671533)\" style=\"fill: none; stroke-dasharray: 5.55,2.4; stroke-dashoffset: 0; stroke: #ff7f0e; stroke-width: 1.5\"/>\n   </g>\n   <g id=\"line2d_112\">\n    <path d=\"M 49.633125 19.092613 \nL 69.163125 16.934061 \nL 88.693125 26.54943 \nL 108.223125 16.513563 \nL 127.753125 16.163149 \nL 147.283125 14.116729 \nL 166.813125 14.256895 \nL 186.343125 15.252072 \n\" clip-path=\"url(#p0189671533)\" style=\"fill: none; stroke-dasharray: 9.6,2.4,1.5,2.4; stroke-dashoffset: 0; stroke: #2ca02c; stroke-width: 1.5\"/>\n   </g>\n   <g id=\"line2d_113\">\n    <path d=\"M 34.954394 63.251696 \nL 44.698573 94.375337 \nL 54.442752 103.658395 \nL 64.186931 106.020513 \nL 73.93111 113.199902 \nL 83.675289 113.15104 \nL 93.419468 119.562045 \nL 103.163647 118.556461 \nL 112.907826 125.137461 \nL 122.652006 123.522544 \nL 132.396185 129.319366 \nL 142.140364 128.112958 \nL 151.884543 132.96706 \nL 161.628722 131.79759 \nL 171.372901 135.14232 \nL 181.11708 135.169534 \nL 190.861259 137.971376 \nL 200.605438 137.576825 \n\" clip-path=\"url(#p0189671533)\" style=\"fill: none; stroke: #1f77b4; stroke-width: 1.5; stroke-linecap: square\"/>\n   </g>\n   <g id=\"line2d_114\">\n    <path d=\"M 49.633125 91.9745 \nL 69.163125 99.599195 \nL 88.693125 57.939762 \nL 108.223125 98.577742 \nL 127.753125 100.041374 \nL 147.283125 101.740913 \nL 166.813125 100.990952 \nL 186.343125 90.455647 \nL 205.873125 93.163762 \n\" clip-path=\"url(#p0189671533)\" style=\"fill: none; stroke-dasharray: 5.55,2.4; stroke-dashoffset: 0; stroke: #ff7f0e; stroke-width: 1.5\"/>\n   </g>\n   <g id=\"line2d_115\">\n    <path d=\"M 49.633125 19.092613 \nL 69.163125 16.934061 \nL 88.693125 26.54943 \nL 108.223125 16.513563 \nL 127.753125 16.163149 \nL 147.283125 14.116729 \nL 166.813125 14.256895 \nL 186.343125 15.252072 \nL 205.873125 14.705425 \n\" clip-path=\"url(#p0189671533)\" style=\"fill: none; stroke-dasharray: 9.6,2.4,1.5,2.4; stroke-dashoffset: 0; stroke: #2ca02c; stroke-width: 1.5\"/>\n   </g>\n   <g id=\"line2d_116\">\n    <path d=\"M 34.954394 63.251696 \nL 44.698573 94.375337 \nL 54.442752 103.658395 \nL 64.186931 106.020513 \nL 73.93111 113.199902 \nL 83.675289 113.15104 \nL 93.419468 119.562045 \nL 103.163647 118.556461 \nL 112.907826 125.137461 \nL 122.652006 123.522544 \nL 132.396185 129.319366 \nL 142.140364 128.112958 \nL 151.884543 132.96706 \nL 161.628722 131.79759 \nL 171.372901 135.14232 \nL 181.11708 135.169534 \nL 190.861259 137.971376 \nL 200.605438 137.576825 \nL 210.349618 139.5 \n\" clip-path=\"url(#p0189671533)\" style=\"fill: none; stroke: #1f77b4; stroke-width: 1.5; stroke-linecap: square\"/>\n   </g>\n   <g id=\"line2d_117\">\n    <path d=\"M 49.633125 91.9745 \nL 69.163125 99.599195 \nL 88.693125 57.939762 \nL 108.223125 98.577742 \nL 127.753125 100.041374 \nL 147.283125 101.740913 \nL 166.813125 100.990952 \nL 186.343125 90.455647 \nL 205.873125 93.163762 \n\" clip-path=\"url(#p0189671533)\" style=\"fill: none; stroke-dasharray: 5.55,2.4; stroke-dashoffset: 0; stroke: #ff7f0e; stroke-width: 1.5\"/>\n   </g>\n   <g id=\"line2d_118\">\n    <path d=\"M 49.633125 19.092613 \nL 69.163125 16.934061 \nL 88.693125 26.54943 \nL 108.223125 16.513563 \nL 127.753125 16.163149 \nL 147.283125 14.116729 \nL 166.813125 14.256895 \nL 186.343125 15.252072 \nL 205.873125 14.705425 \n\" clip-path=\"url(#p0189671533)\" style=\"fill: none; stroke-dasharray: 9.6,2.4,1.5,2.4; stroke-dashoffset: 0; stroke: #2ca02c; stroke-width: 1.5\"/>\n   </g>\n   <g id=\"line2d_119\">\n    <path d=\"M 34.954394 63.251696 \nL 44.698573 94.375337 \nL 54.442752 103.658395 \nL 64.186931 106.020513 \nL 73.93111 113.199902 \nL 83.675289 113.15104 \nL 93.419468 119.562045 \nL 103.163647 118.556461 \nL 112.907826 125.137461 \nL 122.652006 123.522544 \nL 132.396185 129.319366 \nL 142.140364 128.112958 \nL 151.884543 132.96706 \nL 161.628722 131.79759 \nL 171.372901 135.14232 \nL 181.11708 135.169534 \nL 190.861259 137.971376 \nL 200.605438 137.576825 \nL 210.349618 139.5 \nL 220.093797 138.358793 \n\" clip-path=\"url(#p0189671533)\" style=\"fill: none; stroke: #1f77b4; stroke-width: 1.5; stroke-linecap: square\"/>\n   </g>\n   <g id=\"line2d_120\">\n    <path d=\"M 49.633125 91.9745 \nL 69.163125 99.599195 \nL 88.693125 57.939762 \nL 108.223125 98.577742 \nL 127.753125 100.041374 \nL 147.283125 101.740913 \nL 166.813125 100.990952 \nL 186.343125 90.455647 \nL 205.873125 93.163762 \n\" clip-path=\"url(#p0189671533)\" style=\"fill: none; stroke-dasharray: 5.55,2.4; stroke-dashoffset: 0; stroke: #ff7f0e; stroke-width: 1.5\"/>\n   </g>\n   <g id=\"line2d_121\">\n    <path d=\"M 49.633125 19.092613 \nL 69.163125 16.934061 \nL 88.693125 26.54943 \nL 108.223125 16.513563 \nL 127.753125 16.163149 \nL 147.283125 14.116729 \nL 166.813125 14.256895 \nL 186.343125 15.252072 \nL 205.873125 14.705425 \n\" clip-path=\"url(#p0189671533)\" style=\"fill: none; stroke-dasharray: 9.6,2.4,1.5,2.4; stroke-dashoffset: 0; stroke: #2ca02c; stroke-width: 1.5\"/>\n   </g>\n   <g id=\"line2d_122\">\n    <path d=\"M 34.954394 63.251696 \nL 44.698573 94.375337 \nL 54.442752 103.658395 \nL 64.186931 106.020513 \nL 73.93111 113.199902 \nL 83.675289 113.15104 \nL 93.419468 119.562045 \nL 103.163647 118.556461 \nL 112.907826 125.137461 \nL 122.652006 123.522544 \nL 132.396185 129.319366 \nL 142.140364 128.112958 \nL 151.884543 132.96706 \nL 161.628722 131.79759 \nL 171.372901 135.14232 \nL 181.11708 135.169534 \nL 190.861259 137.971376 \nL 200.605438 137.576825 \nL 210.349618 139.5 \nL 220.093797 138.358793 \n\" clip-path=\"url(#p0189671533)\" style=\"fill: none; stroke: #1f77b4; stroke-width: 1.5; stroke-linecap: square\"/>\n   </g>\n   <g id=\"line2d_123\">\n    <path d=\"M 49.633125 91.9745 \nL 69.163125 99.599195 \nL 88.693125 57.939762 \nL 108.223125 98.577742 \nL 127.753125 100.041374 \nL 147.283125 101.740913 \nL 166.813125 100.990952 \nL 186.343125 90.455647 \nL 205.873125 93.163762 \nL 225.403125 97.490574 \n\" clip-path=\"url(#p0189671533)\" style=\"fill: none; stroke-dasharray: 5.55,2.4; stroke-dashoffset: 0; stroke: #ff7f0e; stroke-width: 1.5\"/>\n   </g>\n   <g id=\"line2d_124\">\n    <path d=\"M 49.633125 19.092613 \nL 69.163125 16.934061 \nL 88.693125 26.54943 \nL 108.223125 16.513563 \nL 127.753125 16.163149 \nL 147.283125 14.116729 \nL 166.813125 14.256895 \nL 186.343125 15.252072 \nL 205.873125 14.705425 \n\" clip-path=\"url(#p0189671533)\" style=\"fill: none; stroke-dasharray: 9.6,2.4,1.5,2.4; stroke-dashoffset: 0; stroke: #2ca02c; stroke-width: 1.5\"/>\n   </g>\n   <g id=\"line2d_125\">\n    <path d=\"M 34.954394 63.251696 \nL 44.698573 94.375337 \nL 54.442752 103.658395 \nL 64.186931 106.020513 \nL 73.93111 113.199902 \nL 83.675289 113.15104 \nL 93.419468 119.562045 \nL 103.163647 118.556461 \nL 112.907826 125.137461 \nL 122.652006 123.522544 \nL 132.396185 129.319366 \nL 142.140364 128.112958 \nL 151.884543 132.96706 \nL 161.628722 131.79759 \nL 171.372901 135.14232 \nL 181.11708 135.169534 \nL 190.861259 137.971376 \nL 200.605438 137.576825 \nL 210.349618 139.5 \nL 220.093797 138.358793 \n\" clip-path=\"url(#p0189671533)\" style=\"fill: none; stroke: #1f77b4; stroke-width: 1.5; stroke-linecap: square\"/>\n   </g>\n   <g id=\"line2d_126\">\n    <path d=\"M 49.633125 91.9745 \nL 69.163125 99.599195 \nL 88.693125 57.939762 \nL 108.223125 98.577742 \nL 127.753125 100.041374 \nL 147.283125 101.740913 \nL 166.813125 100.990952 \nL 186.343125 90.455647 \nL 205.873125 93.163762 \nL 225.403125 97.490574 \n\" clip-path=\"url(#p0189671533)\" style=\"fill: none; stroke-dasharray: 5.55,2.4; stroke-dashoffset: 0; stroke: #ff7f0e; stroke-width: 1.5\"/>\n   </g>\n   <g id=\"line2d_127\">\n    <path d=\"M 49.633125 19.092613 \nL 69.163125 16.934061 \nL 88.693125 26.54943 \nL 108.223125 16.513563 \nL 127.753125 16.163149 \nL 147.283125 14.116729 \nL 166.813125 14.256895 \nL 186.343125 15.252072 \nL 205.873125 14.705425 \nL 225.403125 13.5 \n\" clip-path=\"url(#p0189671533)\" style=\"fill: none; stroke-dasharray: 9.6,2.4,1.5,2.4; stroke-dashoffset: 0; stroke: #2ca02c; stroke-width: 1.5\"/>\n   </g>\n   <g id=\"patch_3\">\n    <path d=\"M 30.103125 145.8 \nL 30.103125 7.2 \n\" style=\"fill: none; stroke: #000000; stroke-width: 0.8; stroke-linejoin: miter; stroke-linecap: square\"/>\n   </g>\n   <g id=\"patch_4\">\n    <path d=\"M 225.403125 145.8 \nL 225.403125 7.2 \n\" style=\"fill: none; stroke: #000000; stroke-width: 0.8; stroke-linejoin: miter; stroke-linecap: square\"/>\n   </g>\n   <g id=\"patch_5\">\n    <path d=\"M 30.103125 145.8 \nL 225.403125 145.8 \n\" style=\"fill: none; stroke: #000000; stroke-width: 0.8; stroke-linejoin: miter; stroke-linecap: square\"/>\n   </g>\n   <g id=\"patch_6\">\n    <path d=\"M 30.103125 7.2 \nL 225.403125 7.2 \n\" style=\"fill: none; stroke: #000000; stroke-width: 0.8; stroke-linejoin: miter; stroke-linecap: square\"/>\n   </g>\n   <g id=\"legend_1\">\n    <g id=\"patch_7\">\n     <path d=\"M 138.8125 100.434375 \nL 218.403125 100.434375 \nQ 220.403125 100.434375 220.403125 98.434375 \nL 220.403125 54.565625 \nQ 220.403125 52.565625 218.403125 52.565625 \nL 138.8125 52.565625 \nQ 136.8125 52.565625 136.8125 54.565625 \nL 136.8125 98.434375 \nQ 136.8125 100.434375 138.8125 100.434375 \nz\n\" style=\"fill: #ffffff; opacity: 0.8; stroke: #cccccc; stroke-linejoin: miter\"/>\n    </g>\n    <g id=\"line2d_128\">\n     <path d=\"M 140.8125 60.664063 \nL 150.8125 60.664063 \nL 160.8125 60.664063 \n\" style=\"fill: none; stroke: #1f77b4; stroke-width: 1.5; stroke-linecap: square\"/>\n    </g>\n    <g id=\"text_13\">\n     <!-- train_loss -->\n     <g transform=\"translate(168.8125 64.164063) scale(0.1 -0.1)\">\n      <defs>\n       <path id=\"DejaVuSans-74\" d=\"M 1172 4494 \nL 1172 3500 \nL 2356 3500 \nL 2356 3053 \nL 1172 3053 \nL 1172 1153 \nQ 1172 725 1289 603 \nQ 1406 481 1766 481 \nL 2356 481 \nL 2356 0 \nL 1766 0 \nQ 1100 0 847 248 \nQ 594 497 594 1153 \nL 594 3053 \nL 172 3053 \nL 172 3500 \nL 594 3500 \nL 594 4494 \nL 1172 4494 \nz\n\" transform=\"scale(0.015625)\"/>\n       <path id=\"DejaVuSans-72\" d=\"M 2631 2963 \nQ 2534 3019 2420 3045 \nQ 2306 3072 2169 3072 \nQ 1681 3072 1420 2755 \nQ 1159 2438 1159 1844 \nL 1159 0 \nL 581 0 \nL 581 3500 \nL 1159 3500 \nL 1159 2956 \nQ 1341 3275 1631 3429 \nQ 1922 3584 2338 3584 \nQ 2397 3584 2469 3576 \nQ 2541 3569 2628 3553 \nL 2631 2963 \nz\n\" transform=\"scale(0.015625)\"/>\n       <path id=\"DejaVuSans-61\" d=\"M 2194 1759 \nQ 1497 1759 1228 1600 \nQ 959 1441 959 1056 \nQ 959 750 1161 570 \nQ 1363 391 1709 391 \nQ 2188 391 2477 730 \nQ 2766 1069 2766 1631 \nL 2766 1759 \nL 2194 1759 \nz\nM 3341 1997 \nL 3341 0 \nL 2766 0 \nL 2766 531 \nQ 2569 213 2275 61 \nQ 1981 -91 1556 -91 \nQ 1019 -91 701 211 \nQ 384 513 384 1019 \nQ 384 1609 779 1909 \nQ 1175 2209 1959 2209 \nL 2766 2209 \nL 2766 2266 \nQ 2766 2663 2505 2880 \nQ 2244 3097 1772 3097 \nQ 1472 3097 1187 3025 \nQ 903 2953 641 2809 \nL 641 3341 \nQ 956 3463 1253 3523 \nQ 1550 3584 1831 3584 \nQ 2591 3584 2966 3190 \nQ 3341 2797 3341 1997 \nz\n\" transform=\"scale(0.015625)\"/>\n       <path id=\"DejaVuSans-69\" d=\"M 603 3500 \nL 1178 3500 \nL 1178 0 \nL 603 0 \nL 603 3500 \nz\nM 603 4863 \nL 1178 4863 \nL 1178 4134 \nL 603 4134 \nL 603 4863 \nz\n\" transform=\"scale(0.015625)\"/>\n       <path id=\"DejaVuSans-6e\" d=\"M 3513 2113 \nL 3513 0 \nL 2938 0 \nL 2938 2094 \nQ 2938 2591 2744 2837 \nQ 2550 3084 2163 3084 \nQ 1697 3084 1428 2787 \nQ 1159 2491 1159 1978 \nL 1159 0 \nL 581 0 \nL 581 3500 \nL 1159 3500 \nL 1159 2956 \nQ 1366 3272 1645 3428 \nQ 1925 3584 2291 3584 \nQ 2894 3584 3203 3211 \nQ 3513 2838 3513 2113 \nz\n\" transform=\"scale(0.015625)\"/>\n       <path id=\"DejaVuSans-5f\" d=\"M 3263 -1063 \nL 3263 -1509 \nL -63 -1509 \nL -63 -1063 \nL 3263 -1063 \nz\n\" transform=\"scale(0.015625)\"/>\n       <path id=\"DejaVuSans-6c\" d=\"M 603 4863 \nL 1178 4863 \nL 1178 0 \nL 603 0 \nL 603 4863 \nz\n\" transform=\"scale(0.015625)\"/>\n       <path id=\"DejaVuSans-73\" d=\"M 2834 3397 \nL 2834 2853 \nQ 2591 2978 2328 3040 \nQ 2066 3103 1784 3103 \nQ 1356 3103 1142 2972 \nQ 928 2841 928 2578 \nQ 928 2378 1081 2264 \nQ 1234 2150 1697 2047 \nL 1894 2003 \nQ 2506 1872 2764 1633 \nQ 3022 1394 3022 966 \nQ 3022 478 2636 193 \nQ 2250 -91 1575 -91 \nQ 1294 -91 989 -36 \nQ 684 19 347 128 \nL 347 722 \nQ 666 556 975 473 \nQ 1284 391 1588 391 \nQ 1994 391 2212 530 \nQ 2431 669 2431 922 \nQ 2431 1156 2273 1281 \nQ 2116 1406 1581 1522 \nL 1381 1569 \nQ 847 1681 609 1914 \nQ 372 2147 372 2553 \nQ 372 3047 722 3315 \nQ 1072 3584 1716 3584 \nQ 2034 3584 2315 3537 \nQ 2597 3491 2834 3397 \nz\n\" transform=\"scale(0.015625)\"/>\n      </defs>\n      <use xlink:href=\"#DejaVuSans-74\"/>\n      <use xlink:href=\"#DejaVuSans-72\" x=\"39.208984\"/>\n      <use xlink:href=\"#DejaVuSans-61\" x=\"80.322266\"/>\n      <use xlink:href=\"#DejaVuSans-69\" x=\"141.601562\"/>\n      <use xlink:href=\"#DejaVuSans-6e\" x=\"169.384766\"/>\n      <use xlink:href=\"#DejaVuSans-5f\" x=\"232.763672\"/>\n      <use xlink:href=\"#DejaVuSans-6c\" x=\"282.763672\"/>\n      <use xlink:href=\"#DejaVuSans-6f\" x=\"310.546875\"/>\n      <use xlink:href=\"#DejaVuSans-73\" x=\"371.728516\"/>\n      <use xlink:href=\"#DejaVuSans-73\" x=\"423.828125\"/>\n     </g>\n    </g>\n    <g id=\"line2d_129\">\n     <path d=\"M 140.8125 75.620313 \nL 150.8125 75.620313 \nL 160.8125 75.620313 \n\" style=\"fill: none; stroke-dasharray: 5.55,2.4; stroke-dashoffset: 0; stroke: #ff7f0e; stroke-width: 1.5\"/>\n    </g>\n    <g id=\"text_14\">\n     <!-- val_loss -->\n     <g transform=\"translate(168.8125 79.120313) scale(0.1 -0.1)\">\n      <defs>\n       <path id=\"DejaVuSans-76\" d=\"M 191 3500 \nL 800 3500 \nL 1894 563 \nL 2988 3500 \nL 3597 3500 \nL 2284 0 \nL 1503 0 \nL 191 3500 \nz\n\" transform=\"scale(0.015625)\"/>\n      </defs>\n      <use xlink:href=\"#DejaVuSans-76\"/>\n      <use xlink:href=\"#DejaVuSans-61\" x=\"59.179688\"/>\n      <use xlink:href=\"#DejaVuSans-6c\" x=\"120.458984\"/>\n      <use xlink:href=\"#DejaVuSans-5f\" x=\"148.242188\"/>\n      <use xlink:href=\"#DejaVuSans-6c\" x=\"198.242188\"/>\n      <use xlink:href=\"#DejaVuSans-6f\" x=\"226.025391\"/>\n      <use xlink:href=\"#DejaVuSans-73\" x=\"287.207031\"/>\n      <use xlink:href=\"#DejaVuSans-73\" x=\"339.306641\"/>\n     </g>\n    </g>\n    <g id=\"line2d_130\">\n     <path d=\"M 140.8125 90.576563 \nL 150.8125 90.576563 \nL 160.8125 90.576563 \n\" style=\"fill: none; stroke-dasharray: 9.6,2.4,1.5,2.4; stroke-dashoffset: 0; stroke: #2ca02c; stroke-width: 1.5\"/>\n    </g>\n    <g id=\"text_15\">\n     <!-- val_acc -->\n     <g transform=\"translate(168.8125 94.076563) scale(0.1 -0.1)\">\n      <use xlink:href=\"#DejaVuSans-76\"/>\n      <use xlink:href=\"#DejaVuSans-61\" x=\"59.179688\"/>\n      <use xlink:href=\"#DejaVuSans-6c\" x=\"120.458984\"/>\n      <use xlink:href=\"#DejaVuSans-5f\" x=\"148.242188\"/>\n      <use xlink:href=\"#DejaVuSans-61\" x=\"198.242188\"/>\n      <use xlink:href=\"#DejaVuSans-63\" x=\"259.521484\"/>\n      <use xlink:href=\"#DejaVuSans-63\" x=\"314.501953\"/>\n     </g>\n    </g>\n   </g>\n  </g>\n </g>\n <defs>\n  <clipPath id=\"p0189671533\">\n   <rect x=\"30.103125\" y=\"7.2\" width=\"195.3\" height=\"138.6\"/>\n  </clipPath>\n </defs>\n</svg>\n"
          },
          "metadata": {}
        }
      ],
      "source": [
        "model = ResNet18(lr=0.01)\n",
        "trainer = d2l.Trainer(max_epochs=10, num_gpus=1)\n",
        "data = d2l.FashionMNIST(batch_size=128, resize=(96, 96))\n",
        "model.apply_init([next(iter(data.get_dataloader(True)))[0]], d2l.init_cnn)\n",
        "trainer.fit(model, data)"
      ]
    },
    {
      "cell_type": "markdown",
      "metadata": {
        "id": "mptkMG0gtRtW"
      },
      "source": [
        "8.6.5. ResNeXt"
      ]
    },
    {
      "cell_type": "code",
      "execution_count": 43,
      "metadata": {
        "id": "8uK-TUnhtUHG"
      },
      "outputs": [],
      "source": [
        "class ResNeXtBlock(nn.Module):\n",
        "    \"\"\"The ResNeXt block.\"\"\"\n",
        "    def __init__(self, num_channels, groups, bot_mul, use_1x1conv=False,\n",
        "                 strides=1):\n",
        "        super().__init__()\n",
        "        bot_channels = int(round(num_channels * bot_mul))\n",
        "        self.conv1 = nn.LazyConv2d(bot_channels, kernel_size=1, stride=1)\n",
        "        self.conv2 = nn.LazyConv2d(bot_channels, kernel_size=3,\n",
        "                                   stride=strides, padding=1,\n",
        "                                   groups=bot_channels//groups)\n",
        "        self.conv3 = nn.LazyConv2d(num_channels, kernel_size=1, stride=1)\n",
        "        self.bn1 = nn.LazyBatchNorm2d()\n",
        "        self.bn2 = nn.LazyBatchNorm2d()\n",
        "        self.bn3 = nn.LazyBatchNorm2d()\n",
        "        if use_1x1conv:\n",
        "            self.conv4 = nn.LazyConv2d(num_channels, kernel_size=1,\n",
        "                                       stride=strides)\n",
        "            self.bn4 = nn.LazyBatchNorm2d()\n",
        "        else:\n",
        "            self.conv4 = None\n",
        "\n",
        "    def forward(self, X):\n",
        "        Y = F.relu(self.bn1(self.conv1(X)))\n",
        "        Y = F.relu(self.bn2(self.conv2(Y)))\n",
        "        Y = self.bn3(self.conv3(Y))\n",
        "        if self.conv4:\n",
        "            X = self.bn4(self.conv4(X))\n",
        "        return F.relu(Y + X)"
      ]
    },
    {
      "cell_type": "code",
      "execution_count": 44,
      "metadata": {
        "id": "a8bVEPEptYE3",
        "colab": {
          "base_uri": "https://localhost:8080/"
        },
        "outputId": "b52c0032-e7e9-4a4a-dbf4-2271f4843f15"
      },
      "outputs": [
        {
          "output_type": "execute_result",
          "data": {
            "text/plain": [
              "torch.Size([4, 32, 96, 96])"
            ]
          },
          "metadata": {},
          "execution_count": 44
        }
      ],
      "source": [
        "blk = ResNeXtBlock(32, 16, 1)\n",
        "X = torch.randn(4, 32, 96, 96)\n",
        "blk(X).shape"
      ]
    },
    {
      "cell_type": "markdown",
      "metadata": {
        "id": "KCS0Vd25tePt"
      },
      "source": [
        "# 8.7. Densely Connected Networks (DenseNet)"
      ]
    },
    {
      "cell_type": "code",
      "execution_count": 45,
      "metadata": {
        "id": "FNU0yoIIthPa"
      },
      "outputs": [],
      "source": [
        "import torch\n",
        "from torch import nn\n",
        "from d2l import torch as d2l"
      ]
    },
    {
      "cell_type": "markdown",
      "metadata": {
        "id": "wtdRUtrFtluc"
      },
      "source": [
        "8.7.2. Dense Blocks¶"
      ]
    },
    {
      "cell_type": "code",
      "execution_count": 46,
      "metadata": {
        "id": "fjSSHJLrtmRZ"
      },
      "outputs": [],
      "source": [
        "def conv_block(num_channels):\n",
        "    return nn.Sequential(\n",
        "        nn.LazyBatchNorm2d(), nn.ReLU(),\n",
        "        nn.LazyConv2d(num_channels, kernel_size=3, padding=1))"
      ]
    },
    {
      "cell_type": "code",
      "execution_count": 47,
      "metadata": {
        "id": "-3eL01iEtuHD"
      },
      "outputs": [],
      "source": [
        "class DenseBlock(nn.Module):\n",
        "    def __init__(self, num_convs, num_channels):\n",
        "        super(DenseBlock, self).__init__()\n",
        "        layer = []\n",
        "        for i in range(num_convs):\n",
        "            layer.append(conv_block(num_channels))\n",
        "        self.net = nn.Sequential(*layer)\n",
        "\n",
        "    def forward(self, X):\n",
        "        for blk in self.net:\n",
        "            Y = blk(X)\n",
        "            # Concatenate input and output of each block along the channels\n",
        "            X = torch.cat((X, Y), dim=1)\n",
        "        return X"
      ]
    },
    {
      "cell_type": "code",
      "execution_count": 48,
      "metadata": {
        "id": "0r4JqNCKtwVL",
        "colab": {
          "base_uri": "https://localhost:8080/"
        },
        "outputId": "92b8d38a-986e-404c-caa8-a5c52d4151c4"
      },
      "outputs": [
        {
          "output_type": "execute_result",
          "data": {
            "text/plain": [
              "torch.Size([4, 23, 8, 8])"
            ]
          },
          "metadata": {},
          "execution_count": 48
        }
      ],
      "source": [
        "blk = DenseBlock(2, 10)\n",
        "X = torch.randn(4, 3, 8, 8)\n",
        "Y = blk(X)\n",
        "Y.shape"
      ]
    },
    {
      "cell_type": "markdown",
      "metadata": {
        "id": "ODqMDa7ZtzaX"
      },
      "source": [
        "8.7.3. Transition Layers"
      ]
    },
    {
      "cell_type": "code",
      "execution_count": 49,
      "metadata": {
        "id": "ivLN4GyBt0Et"
      },
      "outputs": [],
      "source": [
        "def transition_block(num_channels):\n",
        "    return nn.Sequential(\n",
        "        nn.LazyBatchNorm2d(), nn.ReLU(),\n",
        "        nn.LazyConv2d(num_channels, kernel_size=1),\n",
        "        nn.AvgPool2d(kernel_size=2, stride=2))"
      ]
    },
    {
      "cell_type": "code",
      "execution_count": 50,
      "metadata": {
        "id": "2OuuJRMztzJx",
        "colab": {
          "base_uri": "https://localhost:8080/"
        },
        "outputId": "61e4ca8b-41fa-404b-fbc8-3bed8fb6e25a"
      },
      "outputs": [
        {
          "output_type": "execute_result",
          "data": {
            "text/plain": [
              "torch.Size([4, 10, 4, 4])"
            ]
          },
          "metadata": {},
          "execution_count": 50
        }
      ],
      "source": [
        "blk = transition_block(10)\n",
        "blk(Y).shape"
      ]
    },
    {
      "cell_type": "markdown",
      "metadata": {
        "id": "e1DT1PVQuDmV"
      },
      "source": [
        "8.7.4. DenseNet Model"
      ]
    },
    {
      "cell_type": "code",
      "execution_count": 51,
      "metadata": {
        "id": "oXR2e18PuEN4"
      },
      "outputs": [],
      "source": [
        "class DenseNet(d2l.Classifier):\n",
        "    def b1(self):\n",
        "        return nn.Sequential(\n",
        "            nn.LazyConv2d(64, kernel_size=7, stride=2, padding=3),\n",
        "            nn.LazyBatchNorm2d(), nn.ReLU(),\n",
        "            nn.MaxPool2d(kernel_size=3, stride=2, padding=1))"
      ]
    },
    {
      "cell_type": "code",
      "execution_count": 52,
      "metadata": {
        "id": "KIqQ0blBuHjD"
      },
      "outputs": [],
      "source": [
        "@d2l.add_to_class(DenseNet)\n",
        "def __init__(self, num_channels=64, growth_rate=32, arch=(4, 4, 4, 4),\n",
        "             lr=0.1, num_classes=10):\n",
        "    super(DenseNet, self).__init__()\n",
        "    self.save_hyperparameters()\n",
        "    self.net = nn.Sequential(self.b1())\n",
        "    for i, num_convs in enumerate(arch):\n",
        "        self.net.add_module(f'dense_blk{i+1}', DenseBlock(num_convs,\n",
        "                                                          growth_rate))\n",
        "        # The number of output channels in the previous dense block\n",
        "        num_channels += num_convs * growth_rate\n",
        "        # A transition layer that halves the number of channels is added\n",
        "        # between the dense blocks\n",
        "        if i != len(arch) - 1:\n",
        "            num_channels //= 2\n",
        "            self.net.add_module(f'tran_blk{i+1}', transition_block(\n",
        "                num_channels))\n",
        "    self.net.add_module('last', nn.Sequential(\n",
        "        nn.LazyBatchNorm2d(), nn.ReLU(),\n",
        "        nn.AdaptiveAvgPool2d((1, 1)), nn.Flatten(),\n",
        "        nn.LazyLinear(num_classes)))\n",
        "    self.net.apply(d2l.init_cnn)"
      ]
    },
    {
      "cell_type": "markdown",
      "metadata": {
        "id": "H55hQivduMJA"
      },
      "source": [
        "8.7.5. Training"
      ]
    },
    {
      "cell_type": "code",
      "execution_count": 53,
      "metadata": {
        "id": "YK4F7H5FuMnd",
        "colab": {
          "base_uri": "https://localhost:8080/",
          "height": 265
        },
        "outputId": "4ca59ea2-2db8-436d-b1c7-6786b26a8010"
      },
      "outputs": [
        {
          "output_type": "display_data",
          "data": {
            "text/plain": [
              "<Figure size 350x250 with 1 Axes>"
            ],
            "image/svg+xml": "<?xml version=\"1.0\" encoding=\"utf-8\" standalone=\"no\"?>\n<!DOCTYPE svg PUBLIC \"-//W3C//DTD SVG 1.1//EN\"\n  \"http://www.w3.org/Graphics/SVG/1.1/DTD/svg11.dtd\">\n<svg xmlns:xlink=\"http://www.w3.org/1999/xlink\" width=\"238.965625pt\" height=\"183.35625pt\" viewBox=\"0 0 238.965625 183.35625\" xmlns=\"http://www.w3.org/2000/svg\" version=\"1.1\">\n <metadata>\n  <rdf:RDF xmlns:dc=\"http://purl.org/dc/elements/1.1/\" xmlns:cc=\"http://creativecommons.org/ns#\" xmlns:rdf=\"http://www.w3.org/1999/02/22-rdf-syntax-ns#\">\n   <cc:Work>\n    <dc:type rdf:resource=\"http://purl.org/dc/dcmitype/StillImage\"/>\n    <dc:date>2024-10-04T13:40:43.036794</dc:date>\n    <dc:format>image/svg+xml</dc:format>\n    <dc:creator>\n     <cc:Agent>\n      <dc:title>Matplotlib v3.7.2, https://matplotlib.org/</dc:title>\n     </cc:Agent>\n    </dc:creator>\n   </cc:Work>\n  </rdf:RDF>\n </metadata>\n <defs>\n  <style type=\"text/css\">*{stroke-linejoin: round; stroke-linecap: butt}</style>\n </defs>\n <g id=\"figure_1\">\n  <g id=\"patch_1\">\n   <path d=\"M 0 183.35625 \nL 238.965625 183.35625 \nL 238.965625 0 \nL 0 0 \nz\n\" style=\"fill: #ffffff\"/>\n  </g>\n  <g id=\"axes_1\">\n   <g id=\"patch_2\">\n    <path d=\"M 30.103125 145.8 \nL 225.403125 145.8 \nL 225.403125 7.2 \nL 30.103125 7.2 \nz\n\" style=\"fill: #ffffff\"/>\n   </g>\n   <g id=\"matplotlib.axis_1\">\n    <g id=\"xtick_1\">\n     <g id=\"line2d_1\">\n      <defs>\n       <path id=\"mea0a0d690b\" d=\"M 0 0 \nL 0 3.5 \n\" style=\"stroke: #000000; stroke-width: 0.8\"/>\n      </defs>\n      <g>\n       <use xlink:href=\"#mea0a0d690b\" x=\"30.103125\" y=\"145.8\" style=\"stroke: #000000; stroke-width: 0.8\"/>\n      </g>\n     </g>\n     <g id=\"text_1\">\n      <!-- 0 -->\n      <g transform=\"translate(26.921875 160.398438) scale(0.1 -0.1)\">\n       <defs>\n        <path id=\"DejaVuSans-30\" d=\"M 2034 4250 \nQ 1547 4250 1301 3770 \nQ 1056 3291 1056 2328 \nQ 1056 1369 1301 889 \nQ 1547 409 2034 409 \nQ 2525 409 2770 889 \nQ 3016 1369 3016 2328 \nQ 3016 3291 2770 3770 \nQ 2525 4250 2034 4250 \nz\nM 2034 4750 \nQ 2819 4750 3233 4129 \nQ 3647 3509 3647 2328 \nQ 3647 1150 3233 529 \nQ 2819 -91 2034 -91 \nQ 1250 -91 836 529 \nQ 422 1150 422 2328 \nQ 422 3509 836 4129 \nQ 1250 4750 2034 4750 \nz\n\" transform=\"scale(0.015625)\"/>\n       </defs>\n       <use xlink:href=\"#DejaVuSans-30\"/>\n      </g>\n     </g>\n    </g>\n    <g id=\"xtick_2\">\n     <g id=\"line2d_2\">\n      <g>\n       <use xlink:href=\"#mea0a0d690b\" x=\"69.163125\" y=\"145.8\" style=\"stroke: #000000; stroke-width: 0.8\"/>\n      </g>\n     </g>\n     <g id=\"text_2\">\n      <!-- 2 -->\n      <g transform=\"translate(65.981875 160.398438) scale(0.1 -0.1)\">\n       <defs>\n        <path id=\"DejaVuSans-32\" d=\"M 1228 531 \nL 3431 531 \nL 3431 0 \nL 469 0 \nL 469 531 \nQ 828 903 1448 1529 \nQ 2069 2156 2228 2338 \nQ 2531 2678 2651 2914 \nQ 2772 3150 2772 3378 \nQ 2772 3750 2511 3984 \nQ 2250 4219 1831 4219 \nQ 1534 4219 1204 4116 \nQ 875 4013 500 3803 \nL 500 4441 \nQ 881 4594 1212 4672 \nQ 1544 4750 1819 4750 \nQ 2544 4750 2975 4387 \nQ 3406 4025 3406 3419 \nQ 3406 3131 3298 2873 \nQ 3191 2616 2906 2266 \nQ 2828 2175 2409 1742 \nQ 1991 1309 1228 531 \nz\n\" transform=\"scale(0.015625)\"/>\n       </defs>\n       <use xlink:href=\"#DejaVuSans-32\"/>\n      </g>\n     </g>\n    </g>\n    <g id=\"xtick_3\">\n     <g id=\"line2d_3\">\n      <g>\n       <use xlink:href=\"#mea0a0d690b\" x=\"108.223125\" y=\"145.8\" style=\"stroke: #000000; stroke-width: 0.8\"/>\n      </g>\n     </g>\n     <g id=\"text_3\">\n      <!-- 4 -->\n      <g transform=\"translate(105.041875 160.398438) scale(0.1 -0.1)\">\n       <defs>\n        <path id=\"DejaVuSans-34\" d=\"M 2419 4116 \nL 825 1625 \nL 2419 1625 \nL 2419 4116 \nz\nM 2253 4666 \nL 3047 4666 \nL 3047 1625 \nL 3713 1625 \nL 3713 1100 \nL 3047 1100 \nL 3047 0 \nL 2419 0 \nL 2419 1100 \nL 313 1100 \nL 313 1709 \nL 2253 4666 \nz\n\" transform=\"scale(0.015625)\"/>\n       </defs>\n       <use xlink:href=\"#DejaVuSans-34\"/>\n      </g>\n     </g>\n    </g>\n    <g id=\"xtick_4\">\n     <g id=\"line2d_4\">\n      <g>\n       <use xlink:href=\"#mea0a0d690b\" x=\"147.283125\" y=\"145.8\" style=\"stroke: #000000; stroke-width: 0.8\"/>\n      </g>\n     </g>\n     <g id=\"text_4\">\n      <!-- 6 -->\n      <g transform=\"translate(144.101875 160.398438) scale(0.1 -0.1)\">\n       <defs>\n        <path id=\"DejaVuSans-36\" d=\"M 2113 2584 \nQ 1688 2584 1439 2293 \nQ 1191 2003 1191 1497 \nQ 1191 994 1439 701 \nQ 1688 409 2113 409 \nQ 2538 409 2786 701 \nQ 3034 994 3034 1497 \nQ 3034 2003 2786 2293 \nQ 2538 2584 2113 2584 \nz\nM 3366 4563 \nL 3366 3988 \nQ 3128 4100 2886 4159 \nQ 2644 4219 2406 4219 \nQ 1781 4219 1451 3797 \nQ 1122 3375 1075 2522 \nQ 1259 2794 1537 2939 \nQ 1816 3084 2150 3084 \nQ 2853 3084 3261 2657 \nQ 3669 2231 3669 1497 \nQ 3669 778 3244 343 \nQ 2819 -91 2113 -91 \nQ 1303 -91 875 529 \nQ 447 1150 447 2328 \nQ 447 3434 972 4092 \nQ 1497 4750 2381 4750 \nQ 2619 4750 2861 4703 \nQ 3103 4656 3366 4563 \nz\n\" transform=\"scale(0.015625)\"/>\n       </defs>\n       <use xlink:href=\"#DejaVuSans-36\"/>\n      </g>\n     </g>\n    </g>\n    <g id=\"xtick_5\">\n     <g id=\"line2d_5\">\n      <g>\n       <use xlink:href=\"#mea0a0d690b\" x=\"186.343125\" y=\"145.8\" style=\"stroke: #000000; stroke-width: 0.8\"/>\n      </g>\n     </g>\n     <g id=\"text_5\">\n      <!-- 8 -->\n      <g transform=\"translate(183.161875 160.398438) scale(0.1 -0.1)\">\n       <defs>\n        <path id=\"DejaVuSans-38\" d=\"M 2034 2216 \nQ 1584 2216 1326 1975 \nQ 1069 1734 1069 1313 \nQ 1069 891 1326 650 \nQ 1584 409 2034 409 \nQ 2484 409 2743 651 \nQ 3003 894 3003 1313 \nQ 3003 1734 2745 1975 \nQ 2488 2216 2034 2216 \nz\nM 1403 2484 \nQ 997 2584 770 2862 \nQ 544 3141 544 3541 \nQ 544 4100 942 4425 \nQ 1341 4750 2034 4750 \nQ 2731 4750 3128 4425 \nQ 3525 4100 3525 3541 \nQ 3525 3141 3298 2862 \nQ 3072 2584 2669 2484 \nQ 3125 2378 3379 2068 \nQ 3634 1759 3634 1313 \nQ 3634 634 3220 271 \nQ 2806 -91 2034 -91 \nQ 1263 -91 848 271 \nQ 434 634 434 1313 \nQ 434 1759 690 2068 \nQ 947 2378 1403 2484 \nz\nM 1172 3481 \nQ 1172 3119 1398 2916 \nQ 1625 2713 2034 2713 \nQ 2441 2713 2670 2916 \nQ 2900 3119 2900 3481 \nQ 2900 3844 2670 4047 \nQ 2441 4250 2034 4250 \nQ 1625 4250 1398 4047 \nQ 1172 3844 1172 3481 \nz\n\" transform=\"scale(0.015625)\"/>\n       </defs>\n       <use xlink:href=\"#DejaVuSans-38\"/>\n      </g>\n     </g>\n    </g>\n    <g id=\"xtick_6\">\n     <g id=\"line2d_6\">\n      <g>\n       <use xlink:href=\"#mea0a0d690b\" x=\"225.403125\" y=\"145.8\" style=\"stroke: #000000; stroke-width: 0.8\"/>\n      </g>\n     </g>\n     <g id=\"text_6\">\n      <!-- 10 -->\n      <g transform=\"translate(219.040625 160.398438) scale(0.1 -0.1)\">\n       <defs>\n        <path id=\"DejaVuSans-31\" d=\"M 794 531 \nL 1825 531 \nL 1825 4091 \nL 703 3866 \nL 703 4441 \nL 1819 4666 \nL 2450 4666 \nL 2450 531 \nL 3481 531 \nL 3481 0 \nL 794 0 \nL 794 531 \nz\n\" transform=\"scale(0.015625)\"/>\n       </defs>\n       <use xlink:href=\"#DejaVuSans-31\"/>\n       <use xlink:href=\"#DejaVuSans-30\" x=\"63.623047\"/>\n      </g>\n     </g>\n    </g>\n    <g id=\"text_7\">\n     <!-- epoch -->\n     <g transform=\"translate(112.525 174.076563) scale(0.1 -0.1)\">\n      <defs>\n       <path id=\"DejaVuSans-65\" d=\"M 3597 1894 \nL 3597 1613 \nL 953 1613 \nQ 991 1019 1311 708 \nQ 1631 397 2203 397 \nQ 2534 397 2845 478 \nQ 3156 559 3463 722 \nL 3463 178 \nQ 3153 47 2828 -22 \nQ 2503 -91 2169 -91 \nQ 1331 -91 842 396 \nQ 353 884 353 1716 \nQ 353 2575 817 3079 \nQ 1281 3584 2069 3584 \nQ 2775 3584 3186 3129 \nQ 3597 2675 3597 1894 \nz\nM 3022 2063 \nQ 3016 2534 2758 2815 \nQ 2500 3097 2075 3097 \nQ 1594 3097 1305 2825 \nQ 1016 2553 972 2059 \nL 3022 2063 \nz\n\" transform=\"scale(0.015625)\"/>\n       <path id=\"DejaVuSans-70\" d=\"M 1159 525 \nL 1159 -1331 \nL 581 -1331 \nL 581 3500 \nL 1159 3500 \nL 1159 2969 \nQ 1341 3281 1617 3432 \nQ 1894 3584 2278 3584 \nQ 2916 3584 3314 3078 \nQ 3713 2572 3713 1747 \nQ 3713 922 3314 415 \nQ 2916 -91 2278 -91 \nQ 1894 -91 1617 61 \nQ 1341 213 1159 525 \nz\nM 3116 1747 \nQ 3116 2381 2855 2742 \nQ 2594 3103 2138 3103 \nQ 1681 3103 1420 2742 \nQ 1159 2381 1159 1747 \nQ 1159 1113 1420 752 \nQ 1681 391 2138 391 \nQ 2594 391 2855 752 \nQ 3116 1113 3116 1747 \nz\n\" transform=\"scale(0.015625)\"/>\n       <path id=\"DejaVuSans-6f\" d=\"M 1959 3097 \nQ 1497 3097 1228 2736 \nQ 959 2375 959 1747 \nQ 959 1119 1226 758 \nQ 1494 397 1959 397 \nQ 2419 397 2687 759 \nQ 2956 1122 2956 1747 \nQ 2956 2369 2687 2733 \nQ 2419 3097 1959 3097 \nz\nM 1959 3584 \nQ 2709 3584 3137 3096 \nQ 3566 2609 3566 1747 \nQ 3566 888 3137 398 \nQ 2709 -91 1959 -91 \nQ 1206 -91 779 398 \nQ 353 888 353 1747 \nQ 353 2609 779 3096 \nQ 1206 3584 1959 3584 \nz\n\" transform=\"scale(0.015625)\"/>\n       <path id=\"DejaVuSans-63\" d=\"M 3122 3366 \nL 3122 2828 \nQ 2878 2963 2633 3030 \nQ 2388 3097 2138 3097 \nQ 1578 3097 1268 2742 \nQ 959 2388 959 1747 \nQ 959 1106 1268 751 \nQ 1578 397 2138 397 \nQ 2388 397 2633 464 \nQ 2878 531 3122 666 \nL 3122 134 \nQ 2881 22 2623 -34 \nQ 2366 -91 2075 -91 \nQ 1284 -91 818 406 \nQ 353 903 353 1747 \nQ 353 2603 823 3093 \nQ 1294 3584 2113 3584 \nQ 2378 3584 2631 3529 \nQ 2884 3475 3122 3366 \nz\n\" transform=\"scale(0.015625)\"/>\n       <path id=\"DejaVuSans-68\" d=\"M 3513 2113 \nL 3513 0 \nL 2938 0 \nL 2938 2094 \nQ 2938 2591 2744 2837 \nQ 2550 3084 2163 3084 \nQ 1697 3084 1428 2787 \nQ 1159 2491 1159 1978 \nL 1159 0 \nL 581 0 \nL 581 4863 \nL 1159 4863 \nL 1159 2956 \nQ 1366 3272 1645 3428 \nQ 1925 3584 2291 3584 \nQ 2894 3584 3203 3211 \nQ 3513 2838 3513 2113 \nz\n\" transform=\"scale(0.015625)\"/>\n      </defs>\n      <use xlink:href=\"#DejaVuSans-65\"/>\n      <use xlink:href=\"#DejaVuSans-70\" x=\"61.523438\"/>\n      <use xlink:href=\"#DejaVuSans-6f\" x=\"125\"/>\n      <use xlink:href=\"#DejaVuSans-63\" x=\"186.181641\"/>\n      <use xlink:href=\"#DejaVuSans-68\" x=\"241.162109\"/>\n     </g>\n    </g>\n   </g>\n   <g id=\"matplotlib.axis_2\">\n    <g id=\"ytick_1\">\n     <g id=\"line2d_7\">\n      <defs>\n       <path id=\"mc9b95ded9d\" d=\"M 0 0 \nL -3.5 0 \n\" style=\"stroke: #000000; stroke-width: 0.8\"/>\n      </defs>\n      <g>\n       <use xlink:href=\"#mc9b95ded9d\" x=\"30.103125\" y=\"131.214739\" style=\"stroke: #000000; stroke-width: 0.8\"/>\n      </g>\n     </g>\n     <g id=\"text_8\">\n      <!-- 0.2 -->\n      <g transform=\"translate(7.2 135.013958) scale(0.1 -0.1)\">\n       <defs>\n        <path id=\"DejaVuSans-2e\" d=\"M 684 794 \nL 1344 794 \nL 1344 0 \nL 684 0 \nL 684 794 \nz\n\" transform=\"scale(0.015625)\"/>\n       </defs>\n       <use xlink:href=\"#DejaVuSans-30\"/>\n       <use xlink:href=\"#DejaVuSans-2e\" x=\"63.623047\"/>\n       <use xlink:href=\"#DejaVuSans-32\" x=\"95.410156\"/>\n      </g>\n     </g>\n    </g>\n    <g id=\"ytick_2\">\n     <g id=\"line2d_8\">\n      <g>\n       <use xlink:href=\"#mc9b95ded9d\" x=\"30.103125\" y=\"98.380727\" style=\"stroke: #000000; stroke-width: 0.8\"/>\n      </g>\n     </g>\n     <g id=\"text_9\">\n      <!-- 0.4 -->\n      <g transform=\"translate(7.2 102.179946) scale(0.1 -0.1)\">\n       <use xlink:href=\"#DejaVuSans-30\"/>\n       <use xlink:href=\"#DejaVuSans-2e\" x=\"63.623047\"/>\n       <use xlink:href=\"#DejaVuSans-34\" x=\"95.410156\"/>\n      </g>\n     </g>\n    </g>\n    <g id=\"ytick_3\">\n     <g id=\"line2d_9\">\n      <g>\n       <use xlink:href=\"#mc9b95ded9d\" x=\"30.103125\" y=\"65.546715\" style=\"stroke: #000000; stroke-width: 0.8\"/>\n      </g>\n     </g>\n     <g id=\"text_10\">\n      <!-- 0.6 -->\n      <g transform=\"translate(7.2 69.345934) scale(0.1 -0.1)\">\n       <use xlink:href=\"#DejaVuSans-30\"/>\n       <use xlink:href=\"#DejaVuSans-2e\" x=\"63.623047\"/>\n       <use xlink:href=\"#DejaVuSans-36\" x=\"95.410156\"/>\n      </g>\n     </g>\n    </g>\n    <g id=\"ytick_4\">\n     <g id=\"line2d_10\">\n      <g>\n       <use xlink:href=\"#mc9b95ded9d\" x=\"30.103125\" y=\"32.712703\" style=\"stroke: #000000; stroke-width: 0.8\"/>\n      </g>\n     </g>\n     <g id=\"text_11\">\n      <!-- 0.8 -->\n      <g transform=\"translate(7.2 36.511921) scale(0.1 -0.1)\">\n       <use xlink:href=\"#DejaVuSans-30\"/>\n       <use xlink:href=\"#DejaVuSans-2e\" x=\"63.623047\"/>\n       <use xlink:href=\"#DejaVuSans-38\" x=\"95.410156\"/>\n      </g>\n     </g>\n    </g>\n   </g>\n   <g id=\"line2d_11\">\n    <path d=\"M 34.954394 15.743869 \n\" clip-path=\"url(#pff131fc01b)\" style=\"fill: none; stroke: #1f77b4; stroke-width: 1.5; stroke-linecap: square\"/>\n   </g>\n   <g id=\"line2d_12\">\n    <path d=\"M 34.954394 15.743869 \nL 44.698573 87.175067 \n\" clip-path=\"url(#pff131fc01b)\" style=\"fill: none; stroke: #1f77b4; stroke-width: 1.5; stroke-linecap: square\"/>\n   </g>\n   <g id=\"line2d_13\">\n    <path d=\"M 34.954394 15.743869 \nL 44.698573 87.175067 \n\" clip-path=\"url(#pff131fc01b)\" style=\"fill: none; stroke: #1f77b4; stroke-width: 1.5; stroke-linecap: square\"/>\n   </g>\n   <g id=\"line2d_14\">\n    <path d=\"M 49.633125 85.388037 \n\" clip-path=\"url(#pff131fc01b)\" style=\"fill: none; stroke-dasharray: 5.55,2.4; stroke-dashoffset: 0; stroke: #ff7f0e; stroke-width: 1.5\"/>\n   </g>\n   <g id=\"line2d_15\"/>\n   <g id=\"line2d_16\">\n    <path d=\"M 34.954394 15.743869 \nL 44.698573 87.175067 \n\" clip-path=\"url(#pff131fc01b)\" style=\"fill: none; stroke: #1f77b4; stroke-width: 1.5; stroke-linecap: square\"/>\n   </g>\n   <g id=\"line2d_17\">\n    <path d=\"M 49.633125 85.388037 \n\" clip-path=\"url(#pff131fc01b)\" style=\"fill: none; stroke-dasharray: 5.55,2.4; stroke-dashoffset: 0; stroke: #ff7f0e; stroke-width: 1.5\"/>\n   </g>\n   <g id=\"line2d_18\">\n    <path d=\"M 49.633125 27.965538 \n\" clip-path=\"url(#pff131fc01b)\" style=\"fill: none; stroke-dasharray: 9.6,2.4,1.5,2.4; stroke-dashoffset: 0; stroke: #2ca02c; stroke-width: 1.5\"/>\n   </g>\n   <g id=\"line2d_19\">\n    <path d=\"M 34.954394 15.743869 \nL 44.698573 87.175067 \nL 54.442752 104.12591 \n\" clip-path=\"url(#pff131fc01b)\" style=\"fill: none; stroke: #1f77b4; stroke-width: 1.5; stroke-linecap: square\"/>\n   </g>\n   <g id=\"line2d_20\">\n    <path d=\"M 49.633125 85.388037 \n\" clip-path=\"url(#pff131fc01b)\" style=\"fill: none; stroke-dasharray: 5.55,2.4; stroke-dashoffset: 0; stroke: #ff7f0e; stroke-width: 1.5\"/>\n   </g>\n   <g id=\"line2d_21\">\n    <path d=\"M 49.633125 27.965538 \n\" clip-path=\"url(#pff131fc01b)\" style=\"fill: none; stroke-dasharray: 9.6,2.4,1.5,2.4; stroke-dashoffset: 0; stroke: #2ca02c; stroke-width: 1.5\"/>\n   </g>\n   <g id=\"line2d_22\">\n    <path d=\"M 34.954394 15.743869 \nL 44.698573 87.175067 \nL 54.442752 104.12591 \nL 64.186931 110.569407 \n\" clip-path=\"url(#pff131fc01b)\" style=\"fill: none; stroke: #1f77b4; stroke-width: 1.5; stroke-linecap: square\"/>\n   </g>\n   <g id=\"line2d_23\">\n    <path d=\"M 49.633125 85.388037 \n\" clip-path=\"url(#pff131fc01b)\" style=\"fill: none; stroke-dasharray: 5.55,2.4; stroke-dashoffset: 0; stroke: #ff7f0e; stroke-width: 1.5\"/>\n   </g>\n   <g id=\"line2d_24\">\n    <path d=\"M 49.633125 27.965538 \n\" clip-path=\"url(#pff131fc01b)\" style=\"fill: none; stroke-dasharray: 9.6,2.4,1.5,2.4; stroke-dashoffset: 0; stroke: #2ca02c; stroke-width: 1.5\"/>\n   </g>\n   <g id=\"line2d_25\">\n    <path d=\"M 34.954394 15.743869 \nL 44.698573 87.175067 \nL 54.442752 104.12591 \nL 64.186931 110.569407 \n\" clip-path=\"url(#pff131fc01b)\" style=\"fill: none; stroke: #1f77b4; stroke-width: 1.5; stroke-linecap: square\"/>\n   </g>\n   <g id=\"line2d_26\">\n    <path d=\"M 49.633125 85.388037 \nL 69.163125 106.125954 \n\" clip-path=\"url(#pff131fc01b)\" style=\"fill: none; stroke-dasharray: 5.55,2.4; stroke-dashoffset: 0; stroke: #ff7f0e; stroke-width: 1.5\"/>\n   </g>\n   <g id=\"line2d_27\">\n    <path d=\"M 49.633125 27.965538 \n\" clip-path=\"url(#pff131fc01b)\" style=\"fill: none; stroke-dasharray: 9.6,2.4,1.5,2.4; stroke-dashoffset: 0; stroke: #2ca02c; stroke-width: 1.5\"/>\n   </g>\n   <g id=\"line2d_28\">\n    <path d=\"M 34.954394 15.743869 \nL 44.698573 87.175067 \nL 54.442752 104.12591 \nL 64.186931 110.569407 \n\" clip-path=\"url(#pff131fc01b)\" style=\"fill: none; stroke: #1f77b4; stroke-width: 1.5; stroke-linecap: square\"/>\n   </g>\n   <g id=\"line2d_29\">\n    <path d=\"M 49.633125 85.388037 \nL 69.163125 106.125954 \n\" clip-path=\"url(#pff131fc01b)\" style=\"fill: none; stroke-dasharray: 5.55,2.4; stroke-dashoffset: 0; stroke: #ff7f0e; stroke-width: 1.5\"/>\n   </g>\n   <g id=\"line2d_30\">\n    <path d=\"M 49.633125 27.965538 \nL 69.163125 20.708416 \n\" clip-path=\"url(#pff131fc01b)\" style=\"fill: none; stroke-dasharray: 9.6,2.4,1.5,2.4; stroke-dashoffset: 0; stroke: #2ca02c; stroke-width: 1.5\"/>\n   </g>\n   <g id=\"line2d_31\">\n    <path d=\"M 34.954394 15.743869 \nL 44.698573 87.175067 \nL 54.442752 104.12591 \nL 64.186931 110.569407 \nL 73.93111 117.206798 \n\" clip-path=\"url(#pff131fc01b)\" style=\"fill: none; stroke: #1f77b4; stroke-width: 1.5; stroke-linecap: square\"/>\n   </g>\n   <g id=\"line2d_32\">\n    <path d=\"M 49.633125 85.388037 \nL 69.163125 106.125954 \n\" clip-path=\"url(#pff131fc01b)\" style=\"fill: none; stroke-dasharray: 5.55,2.4; stroke-dashoffset: 0; stroke: #ff7f0e; stroke-width: 1.5\"/>\n   </g>\n   <g id=\"line2d_33\">\n    <path d=\"M 49.633125 27.965538 \nL 69.163125 20.708416 \n\" clip-path=\"url(#pff131fc01b)\" style=\"fill: none; stroke-dasharray: 9.6,2.4,1.5,2.4; stroke-dashoffset: 0; stroke: #2ca02c; stroke-width: 1.5\"/>\n   </g>\n   <g id=\"line2d_34\">\n    <path d=\"M 34.954394 15.743869 \nL 44.698573 87.175067 \nL 54.442752 104.12591 \nL 64.186931 110.569407 \nL 73.93111 117.206798 \nL 83.675289 118.828413 \n\" clip-path=\"url(#pff131fc01b)\" style=\"fill: none; stroke: #1f77b4; stroke-width: 1.5; stroke-linecap: square\"/>\n   </g>\n   <g id=\"line2d_35\">\n    <path d=\"M 49.633125 85.388037 \nL 69.163125 106.125954 \n\" clip-path=\"url(#pff131fc01b)\" style=\"fill: none; stroke-dasharray: 5.55,2.4; stroke-dashoffset: 0; stroke: #ff7f0e; stroke-width: 1.5\"/>\n   </g>\n   <g id=\"line2d_36\">\n    <path d=\"M 49.633125 27.965538 \nL 69.163125 20.708416 \n\" clip-path=\"url(#pff131fc01b)\" style=\"fill: none; stroke-dasharray: 9.6,2.4,1.5,2.4; stroke-dashoffset: 0; stroke: #2ca02c; stroke-width: 1.5\"/>\n   </g>\n   <g id=\"line2d_37\">\n    <path d=\"M 34.954394 15.743869 \nL 44.698573 87.175067 \nL 54.442752 104.12591 \nL 64.186931 110.569407 \nL 73.93111 117.206798 \nL 83.675289 118.828413 \n\" clip-path=\"url(#pff131fc01b)\" style=\"fill: none; stroke: #1f77b4; stroke-width: 1.5; stroke-linecap: square\"/>\n   </g>\n   <g id=\"line2d_38\">\n    <path d=\"M 49.633125 85.388037 \nL 69.163125 106.125954 \nL 88.693125 90.697092 \n\" clip-path=\"url(#pff131fc01b)\" style=\"fill: none; stroke-dasharray: 5.55,2.4; stroke-dashoffset: 0; stroke: #ff7f0e; stroke-width: 1.5\"/>\n   </g>\n   <g id=\"line2d_39\">\n    <path d=\"M 49.633125 27.965538 \nL 69.163125 20.708416 \n\" clip-path=\"url(#pff131fc01b)\" style=\"fill: none; stroke-dasharray: 9.6,2.4,1.5,2.4; stroke-dashoffset: 0; stroke: #2ca02c; stroke-width: 1.5\"/>\n   </g>\n   <g id=\"line2d_40\">\n    <path d=\"M 34.954394 15.743869 \nL 44.698573 87.175067 \nL 54.442752 104.12591 \nL 64.186931 110.569407 \nL 73.93111 117.206798 \nL 83.675289 118.828413 \n\" clip-path=\"url(#pff131fc01b)\" style=\"fill: none; stroke: #1f77b4; stroke-width: 1.5; stroke-linecap: square\"/>\n   </g>\n   <g id=\"line2d_41\">\n    <path d=\"M 49.633125 85.388037 \nL 69.163125 106.125954 \nL 88.693125 90.697092 \n\" clip-path=\"url(#pff131fc01b)\" style=\"fill: none; stroke-dasharray: 5.55,2.4; stroke-dashoffset: 0; stroke: #ff7f0e; stroke-width: 1.5\"/>\n   </g>\n   <g id=\"line2d_42\">\n    <path d=\"M 49.633125 27.965538 \nL 69.163125 20.708416 \nL 88.693125 25.790025 \n\" clip-path=\"url(#pff131fc01b)\" style=\"fill: none; stroke-dasharray: 9.6,2.4,1.5,2.4; stroke-dashoffset: 0; stroke: #2ca02c; stroke-width: 1.5\"/>\n   </g>\n   <g id=\"line2d_43\">\n    <path d=\"M 34.954394 15.743869 \nL 44.698573 87.175067 \nL 54.442752 104.12591 \nL 64.186931 110.569407 \nL 73.93111 117.206798 \nL 83.675289 118.828413 \nL 93.419468 123.04046 \n\" clip-path=\"url(#pff131fc01b)\" style=\"fill: none; stroke: #1f77b4; stroke-width: 1.5; stroke-linecap: square\"/>\n   </g>\n   <g id=\"line2d_44\">\n    <path d=\"M 49.633125 85.388037 \nL 69.163125 106.125954 \nL 88.693125 90.697092 \n\" clip-path=\"url(#pff131fc01b)\" style=\"fill: none; stroke-dasharray: 5.55,2.4; stroke-dashoffset: 0; stroke: #ff7f0e; stroke-width: 1.5\"/>\n   </g>\n   <g id=\"line2d_45\">\n    <path d=\"M 49.633125 27.965538 \nL 69.163125 20.708416 \nL 88.693125 25.790025 \n\" clip-path=\"url(#pff131fc01b)\" style=\"fill: none; stroke-dasharray: 9.6,2.4,1.5,2.4; stroke-dashoffset: 0; stroke: #2ca02c; stroke-width: 1.5\"/>\n   </g>\n   <g id=\"line2d_46\">\n    <path d=\"M 34.954394 15.743869 \nL 44.698573 87.175067 \nL 54.442752 104.12591 \nL 64.186931 110.569407 \nL 73.93111 117.206798 \nL 83.675289 118.828413 \nL 93.419468 123.04046 \nL 103.163647 124.037589 \n\" clip-path=\"url(#pff131fc01b)\" style=\"fill: none; stroke: #1f77b4; stroke-width: 1.5; stroke-linecap: square\"/>\n   </g>\n   <g id=\"line2d_47\">\n    <path d=\"M 49.633125 85.388037 \nL 69.163125 106.125954 \nL 88.693125 90.697092 \n\" clip-path=\"url(#pff131fc01b)\" style=\"fill: none; stroke-dasharray: 5.55,2.4; stroke-dashoffset: 0; stroke: #ff7f0e; stroke-width: 1.5\"/>\n   </g>\n   <g id=\"line2d_48\">\n    <path d=\"M 49.633125 27.965538 \nL 69.163125 20.708416 \nL 88.693125 25.790025 \n\" clip-path=\"url(#pff131fc01b)\" style=\"fill: none; stroke-dasharray: 9.6,2.4,1.5,2.4; stroke-dashoffset: 0; stroke: #2ca02c; stroke-width: 1.5\"/>\n   </g>\n   <g id=\"line2d_49\">\n    <path d=\"M 34.954394 15.743869 \nL 44.698573 87.175067 \nL 54.442752 104.12591 \nL 64.186931 110.569407 \nL 73.93111 117.206798 \nL 83.675289 118.828413 \nL 93.419468 123.04046 \nL 103.163647 124.037589 \n\" clip-path=\"url(#pff131fc01b)\" style=\"fill: none; stroke: #1f77b4; stroke-width: 1.5; stroke-linecap: square\"/>\n   </g>\n   <g id=\"line2d_50\">\n    <path d=\"M 49.633125 85.388037 \nL 69.163125 106.125954 \nL 88.693125 90.697092 \nL 108.223125 115.987734 \n\" clip-path=\"url(#pff131fc01b)\" style=\"fill: none; stroke-dasharray: 5.55,2.4; stroke-dashoffset: 0; stroke: #ff7f0e; stroke-width: 1.5\"/>\n   </g>\n   <g id=\"line2d_51\">\n    <path d=\"M 49.633125 27.965538 \nL 69.163125 20.708416 \nL 88.693125 25.790025 \n\" clip-path=\"url(#pff131fc01b)\" style=\"fill: none; stroke-dasharray: 9.6,2.4,1.5,2.4; stroke-dashoffset: 0; stroke: #2ca02c; stroke-width: 1.5\"/>\n   </g>\n   <g id=\"line2d_52\">\n    <path d=\"M 34.954394 15.743869 \nL 44.698573 87.175067 \nL 54.442752 104.12591 \nL 64.186931 110.569407 \nL 73.93111 117.206798 \nL 83.675289 118.828413 \nL 93.419468 123.04046 \nL 103.163647 124.037589 \n\" clip-path=\"url(#pff131fc01b)\" style=\"fill: none; stroke: #1f77b4; stroke-width: 1.5; stroke-linecap: square\"/>\n   </g>\n   <g id=\"line2d_53\">\n    <path d=\"M 49.633125 85.388037 \nL 69.163125 106.125954 \nL 88.693125 90.697092 \nL 108.223125 115.987734 \n\" clip-path=\"url(#pff131fc01b)\" style=\"fill: none; stroke-dasharray: 5.55,2.4; stroke-dashoffset: 0; stroke: #ff7f0e; stroke-width: 1.5\"/>\n   </g>\n   <g id=\"line2d_54\">\n    <path d=\"M 49.633125 27.965538 \nL 69.163125 20.708416 \nL 88.693125 25.790025 \nL 108.223125 17.136679 \n\" clip-path=\"url(#pff131fc01b)\" style=\"fill: none; stroke-dasharray: 9.6,2.4,1.5,2.4; stroke-dashoffset: 0; stroke: #2ca02c; stroke-width: 1.5\"/>\n   </g>\n   <g id=\"line2d_55\">\n    <path d=\"M 34.954394 15.743869 \nL 44.698573 87.175067 \nL 54.442752 104.12591 \nL 64.186931 110.569407 \nL 73.93111 117.206798 \nL 83.675289 118.828413 \nL 93.419468 123.04046 \nL 103.163647 124.037589 \nL 112.907826 127.969945 \n\" clip-path=\"url(#pff131fc01b)\" style=\"fill: none; stroke: #1f77b4; stroke-width: 1.5; stroke-linecap: square\"/>\n   </g>\n   <g id=\"line2d_56\">\n    <path d=\"M 49.633125 85.388037 \nL 69.163125 106.125954 \nL 88.693125 90.697092 \nL 108.223125 115.987734 \n\" clip-path=\"url(#pff131fc01b)\" style=\"fill: none; stroke-dasharray: 5.55,2.4; stroke-dashoffset: 0; stroke: #ff7f0e; stroke-width: 1.5\"/>\n   </g>\n   <g id=\"line2d_57\">\n    <path d=\"M 49.633125 27.965538 \nL 69.163125 20.708416 \nL 88.693125 25.790025 \nL 108.223125 17.136679 \n\" clip-path=\"url(#pff131fc01b)\" style=\"fill: none; stroke-dasharray: 9.6,2.4,1.5,2.4; stroke-dashoffset: 0; stroke: #2ca02c; stroke-width: 1.5\"/>\n   </g>\n   <g id=\"line2d_58\">\n    <path d=\"M 34.954394 15.743869 \nL 44.698573 87.175067 \nL 54.442752 104.12591 \nL 64.186931 110.569407 \nL 73.93111 117.206798 \nL 83.675289 118.828413 \nL 93.419468 123.04046 \nL 103.163647 124.037589 \nL 112.907826 127.969945 \nL 122.652006 126.98124 \n\" clip-path=\"url(#pff131fc01b)\" style=\"fill: none; stroke: #1f77b4; stroke-width: 1.5; stroke-linecap: square\"/>\n   </g>\n   <g id=\"line2d_59\">\n    <path d=\"M 49.633125 85.388037 \nL 69.163125 106.125954 \nL 88.693125 90.697092 \nL 108.223125 115.987734 \n\" clip-path=\"url(#pff131fc01b)\" style=\"fill: none; stroke-dasharray: 5.55,2.4; stroke-dashoffset: 0; stroke: #ff7f0e; stroke-width: 1.5\"/>\n   </g>\n   <g id=\"line2d_60\">\n    <path d=\"M 49.633125 27.965538 \nL 69.163125 20.708416 \nL 88.693125 25.790025 \nL 108.223125 17.136679 \n\" clip-path=\"url(#pff131fc01b)\" style=\"fill: none; stroke-dasharray: 9.6,2.4,1.5,2.4; stroke-dashoffset: 0; stroke: #2ca02c; stroke-width: 1.5\"/>\n   </g>\n   <g id=\"line2d_61\">\n    <path d=\"M 34.954394 15.743869 \nL 44.698573 87.175067 \nL 54.442752 104.12591 \nL 64.186931 110.569407 \nL 73.93111 117.206798 \nL 83.675289 118.828413 \nL 93.419468 123.04046 \nL 103.163647 124.037589 \nL 112.907826 127.969945 \nL 122.652006 126.98124 \n\" clip-path=\"url(#pff131fc01b)\" style=\"fill: none; stroke: #1f77b4; stroke-width: 1.5; stroke-linecap: square\"/>\n   </g>\n   <g id=\"line2d_62\">\n    <path d=\"M 49.633125 85.388037 \nL 69.163125 106.125954 \nL 88.693125 90.697092 \nL 108.223125 115.987734 \nL 127.753125 109.731161 \n\" clip-path=\"url(#pff131fc01b)\" style=\"fill: none; stroke-dasharray: 5.55,2.4; stroke-dashoffset: 0; stroke: #ff7f0e; stroke-width: 1.5\"/>\n   </g>\n   <g id=\"line2d_63\">\n    <path d=\"M 49.633125 27.965538 \nL 69.163125 20.708416 \nL 88.693125 25.790025 \nL 108.223125 17.136679 \n\" clip-path=\"url(#pff131fc01b)\" style=\"fill: none; stroke-dasharray: 9.6,2.4,1.5,2.4; stroke-dashoffset: 0; stroke: #2ca02c; stroke-width: 1.5\"/>\n   </g>\n   <g id=\"line2d_64\">\n    <path d=\"M 34.954394 15.743869 \nL 44.698573 87.175067 \nL 54.442752 104.12591 \nL 64.186931 110.569407 \nL 73.93111 117.206798 \nL 83.675289 118.828413 \nL 93.419468 123.04046 \nL 103.163647 124.037589 \nL 112.907826 127.969945 \nL 122.652006 126.98124 \n\" clip-path=\"url(#pff131fc01b)\" style=\"fill: none; stroke: #1f77b4; stroke-width: 1.5; stroke-linecap: square\"/>\n   </g>\n   <g id=\"line2d_65\">\n    <path d=\"M 49.633125 85.388037 \nL 69.163125 106.125954 \nL 88.693125 90.697092 \nL 108.223125 115.987734 \nL 127.753125 109.731161 \n\" clip-path=\"url(#pff131fc01b)\" style=\"fill: none; stroke-dasharray: 5.55,2.4; stroke-dashoffset: 0; stroke: #ff7f0e; stroke-width: 1.5\"/>\n   </g>\n   <g id=\"line2d_66\">\n    <path d=\"M 49.633125 27.965538 \nL 69.163125 20.708416 \nL 88.693125 25.790025 \nL 108.223125 17.136679 \nL 127.753125 20.221361 \n\" clip-path=\"url(#pff131fc01b)\" style=\"fill: none; stroke-dasharray: 9.6,2.4,1.5,2.4; stroke-dashoffset: 0; stroke: #2ca02c; stroke-width: 1.5\"/>\n   </g>\n   <g id=\"line2d_67\">\n    <path d=\"M 34.954394 15.743869 \nL 44.698573 87.175067 \nL 54.442752 104.12591 \nL 64.186931 110.569407 \nL 73.93111 117.206798 \nL 83.675289 118.828413 \nL 93.419468 123.04046 \nL 103.163647 124.037589 \nL 112.907826 127.969945 \nL 122.652006 126.98124 \nL 132.396185 130.374333 \n\" clip-path=\"url(#pff131fc01b)\" style=\"fill: none; stroke: #1f77b4; stroke-width: 1.5; stroke-linecap: square\"/>\n   </g>\n   <g id=\"line2d_68\">\n    <path d=\"M 49.633125 85.388037 \nL 69.163125 106.125954 \nL 88.693125 90.697092 \nL 108.223125 115.987734 \nL 127.753125 109.731161 \n\" clip-path=\"url(#pff131fc01b)\" style=\"fill: none; stroke-dasharray: 5.55,2.4; stroke-dashoffset: 0; stroke: #ff7f0e; stroke-width: 1.5\"/>\n   </g>\n   <g id=\"line2d_69\">\n    <path d=\"M 49.633125 27.965538 \nL 69.163125 20.708416 \nL 88.693125 25.790025 \nL 108.223125 17.136679 \nL 127.753125 20.221361 \n\" clip-path=\"url(#pff131fc01b)\" style=\"fill: none; stroke-dasharray: 9.6,2.4,1.5,2.4; stroke-dashoffset: 0; stroke: #2ca02c; stroke-width: 1.5\"/>\n   </g>\n   <g id=\"line2d_70\">\n    <path d=\"M 34.954394 15.743869 \nL 44.698573 87.175067 \nL 54.442752 104.12591 \nL 64.186931 110.569407 \nL 73.93111 117.206798 \nL 83.675289 118.828413 \nL 93.419468 123.04046 \nL 103.163647 124.037589 \nL 112.907826 127.969945 \nL 122.652006 126.98124 \nL 132.396185 130.374333 \nL 142.140364 130.270031 \n\" clip-path=\"url(#pff131fc01b)\" style=\"fill: none; stroke: #1f77b4; stroke-width: 1.5; stroke-linecap: square\"/>\n   </g>\n   <g id=\"line2d_71\">\n    <path d=\"M 49.633125 85.388037 \nL 69.163125 106.125954 \nL 88.693125 90.697092 \nL 108.223125 115.987734 \nL 127.753125 109.731161 \n\" clip-path=\"url(#pff131fc01b)\" style=\"fill: none; stroke-dasharray: 5.55,2.4; stroke-dashoffset: 0; stroke: #ff7f0e; stroke-width: 1.5\"/>\n   </g>\n   <g id=\"line2d_72\">\n    <path d=\"M 49.633125 27.965538 \nL 69.163125 20.708416 \nL 88.693125 25.790025 \nL 108.223125 17.136679 \nL 127.753125 20.221361 \n\" clip-path=\"url(#pff131fc01b)\" style=\"fill: none; stroke-dasharray: 9.6,2.4,1.5,2.4; stroke-dashoffset: 0; stroke: #2ca02c; stroke-width: 1.5\"/>\n   </g>\n   <g id=\"line2d_73\">\n    <path d=\"M 34.954394 15.743869 \nL 44.698573 87.175067 \nL 54.442752 104.12591 \nL 64.186931 110.569407 \nL 73.93111 117.206798 \nL 83.675289 118.828413 \nL 93.419468 123.04046 \nL 103.163647 124.037589 \nL 112.907826 127.969945 \nL 122.652006 126.98124 \nL 132.396185 130.374333 \nL 142.140364 130.270031 \n\" clip-path=\"url(#pff131fc01b)\" style=\"fill: none; stroke: #1f77b4; stroke-width: 1.5; stroke-linecap: square\"/>\n   </g>\n   <g id=\"line2d_74\">\n    <path d=\"M 49.633125 85.388037 \nL 69.163125 106.125954 \nL 88.693125 90.697092 \nL 108.223125 115.987734 \nL 127.753125 109.731161 \nL 147.283125 120.245462 \n\" clip-path=\"url(#pff131fc01b)\" style=\"fill: none; stroke-dasharray: 5.55,2.4; stroke-dashoffset: 0; stroke: #ff7f0e; stroke-width: 1.5\"/>\n   </g>\n   <g id=\"line2d_75\">\n    <path d=\"M 49.633125 27.965538 \nL 69.163125 20.708416 \nL 88.693125 25.790025 \nL 108.223125 17.136679 \nL 127.753125 20.221361 \n\" clip-path=\"url(#pff131fc01b)\" style=\"fill: none; stroke-dasharray: 9.6,2.4,1.5,2.4; stroke-dashoffset: 0; stroke: #2ca02c; stroke-width: 1.5\"/>\n   </g>\n   <g id=\"line2d_76\">\n    <path d=\"M 34.954394 15.743869 \nL 44.698573 87.175067 \nL 54.442752 104.12591 \nL 64.186931 110.569407 \nL 73.93111 117.206798 \nL 83.675289 118.828413 \nL 93.419468 123.04046 \nL 103.163647 124.037589 \nL 112.907826 127.969945 \nL 122.652006 126.98124 \nL 132.396185 130.374333 \nL 142.140364 130.270031 \n\" clip-path=\"url(#pff131fc01b)\" style=\"fill: none; stroke: #1f77b4; stroke-width: 1.5; stroke-linecap: square\"/>\n   </g>\n   <g id=\"line2d_77\">\n    <path d=\"M 49.633125 85.388037 \nL 69.163125 106.125954 \nL 88.693125 90.697092 \nL 108.223125 115.987734 \nL 127.753125 109.731161 \nL 147.283125 120.245462 \n\" clip-path=\"url(#pff131fc01b)\" style=\"fill: none; stroke-dasharray: 5.55,2.4; stroke-dashoffset: 0; stroke: #ff7f0e; stroke-width: 1.5\"/>\n   </g>\n   <g id=\"line2d_78\">\n    <path d=\"M 49.633125 27.965538 \nL 69.163125 20.708416 \nL 88.693125 25.790025 \nL 108.223125 17.136679 \nL 127.753125 20.221361 \nL 147.283125 15.983981 \n\" clip-path=\"url(#pff131fc01b)\" style=\"fill: none; stroke-dasharray: 9.6,2.4,1.5,2.4; stroke-dashoffset: 0; stroke: #2ca02c; stroke-width: 1.5\"/>\n   </g>\n   <g id=\"line2d_79\">\n    <path d=\"M 34.954394 15.743869 \nL 44.698573 87.175067 \nL 54.442752 104.12591 \nL 64.186931 110.569407 \nL 73.93111 117.206798 \nL 83.675289 118.828413 \nL 93.419468 123.04046 \nL 103.163647 124.037589 \nL 112.907826 127.969945 \nL 122.652006 126.98124 \nL 132.396185 130.374333 \nL 142.140364 130.270031 \nL 151.884543 132.720637 \n\" clip-path=\"url(#pff131fc01b)\" style=\"fill: none; stroke: #1f77b4; stroke-width: 1.5; stroke-linecap: square\"/>\n   </g>\n   <g id=\"line2d_80\">\n    <path d=\"M 49.633125 85.388037 \nL 69.163125 106.125954 \nL 88.693125 90.697092 \nL 108.223125 115.987734 \nL 127.753125 109.731161 \nL 147.283125 120.245462 \n\" clip-path=\"url(#pff131fc01b)\" style=\"fill: none; stroke-dasharray: 5.55,2.4; stroke-dashoffset: 0; stroke: #ff7f0e; stroke-width: 1.5\"/>\n   </g>\n   <g id=\"line2d_81\">\n    <path d=\"M 49.633125 27.965538 \nL 69.163125 20.708416 \nL 88.693125 25.790025 \nL 108.223125 17.136679 \nL 127.753125 20.221361 \nL 147.283125 15.983981 \n\" clip-path=\"url(#pff131fc01b)\" style=\"fill: none; stroke-dasharray: 9.6,2.4,1.5,2.4; stroke-dashoffset: 0; stroke: #2ca02c; stroke-width: 1.5\"/>\n   </g>\n   <g id=\"line2d_82\">\n    <path d=\"M 34.954394 15.743869 \nL 44.698573 87.175067 \nL 54.442752 104.12591 \nL 64.186931 110.569407 \nL 73.93111 117.206798 \nL 83.675289 118.828413 \nL 93.419468 123.04046 \nL 103.163647 124.037589 \nL 112.907826 127.969945 \nL 122.652006 126.98124 \nL 132.396185 130.374333 \nL 142.140364 130.270031 \nL 151.884543 132.720637 \nL 161.628722 133.166603 \n\" clip-path=\"url(#pff131fc01b)\" style=\"fill: none; stroke: #1f77b4; stroke-width: 1.5; stroke-linecap: square\"/>\n   </g>\n   <g id=\"line2d_83\">\n    <path d=\"M 49.633125 85.388037 \nL 69.163125 106.125954 \nL 88.693125 90.697092 \nL 108.223125 115.987734 \nL 127.753125 109.731161 \nL 147.283125 120.245462 \n\" clip-path=\"url(#pff131fc01b)\" style=\"fill: none; stroke-dasharray: 5.55,2.4; stroke-dashoffset: 0; stroke: #ff7f0e; stroke-width: 1.5\"/>\n   </g>\n   <g id=\"line2d_84\">\n    <path d=\"M 49.633125 27.965538 \nL 69.163125 20.708416 \nL 88.693125 25.790025 \nL 108.223125 17.136679 \nL 127.753125 20.221361 \nL 147.283125 15.983981 \n\" clip-path=\"url(#pff131fc01b)\" style=\"fill: none; stroke-dasharray: 9.6,2.4,1.5,2.4; stroke-dashoffset: 0; stroke: #2ca02c; stroke-width: 1.5\"/>\n   </g>\n   <g id=\"line2d_85\">\n    <path d=\"M 34.954394 15.743869 \nL 44.698573 87.175067 \nL 54.442752 104.12591 \nL 64.186931 110.569407 \nL 73.93111 117.206798 \nL 83.675289 118.828413 \nL 93.419468 123.04046 \nL 103.163647 124.037589 \nL 112.907826 127.969945 \nL 122.652006 126.98124 \nL 132.396185 130.374333 \nL 142.140364 130.270031 \nL 151.884543 132.720637 \nL 161.628722 133.166603 \n\" clip-path=\"url(#pff131fc01b)\" style=\"fill: none; stroke: #1f77b4; stroke-width: 1.5; stroke-linecap: square\"/>\n   </g>\n   <g id=\"line2d_86\">\n    <path d=\"M 49.633125 85.388037 \nL 69.163125 106.125954 \nL 88.693125 90.697092 \nL 108.223125 115.987734 \nL 127.753125 109.731161 \nL 147.283125 120.245462 \nL 166.813125 117.629611 \n\" clip-path=\"url(#pff131fc01b)\" style=\"fill: none; stroke-dasharray: 5.55,2.4; stroke-dashoffset: 0; stroke: #ff7f0e; stroke-width: 1.5\"/>\n   </g>\n   <g id=\"line2d_87\">\n    <path d=\"M 49.633125 27.965538 \nL 69.163125 20.708416 \nL 88.693125 25.790025 \nL 108.223125 17.136679 \nL 127.753125 20.221361 \nL 147.283125 15.983981 \n\" clip-path=\"url(#pff131fc01b)\" style=\"fill: none; stroke-dasharray: 9.6,2.4,1.5,2.4; stroke-dashoffset: 0; stroke: #2ca02c; stroke-width: 1.5\"/>\n   </g>\n   <g id=\"line2d_88\">\n    <path d=\"M 34.954394 15.743869 \nL 44.698573 87.175067 \nL 54.442752 104.12591 \nL 64.186931 110.569407 \nL 73.93111 117.206798 \nL 83.675289 118.828413 \nL 93.419468 123.04046 \nL 103.163647 124.037589 \nL 112.907826 127.969945 \nL 122.652006 126.98124 \nL 132.396185 130.374333 \nL 142.140364 130.270031 \nL 151.884543 132.720637 \nL 161.628722 133.166603 \n\" clip-path=\"url(#pff131fc01b)\" style=\"fill: none; stroke: #1f77b4; stroke-width: 1.5; stroke-linecap: square\"/>\n   </g>\n   <g id=\"line2d_89\">\n    <path d=\"M 49.633125 85.388037 \nL 69.163125 106.125954 \nL 88.693125 90.697092 \nL 108.223125 115.987734 \nL 127.753125 109.731161 \nL 147.283125 120.245462 \nL 166.813125 117.629611 \n\" clip-path=\"url(#pff131fc01b)\" style=\"fill: none; stroke-dasharray: 5.55,2.4; stroke-dashoffset: 0; stroke: #ff7f0e; stroke-width: 1.5\"/>\n   </g>\n   <g id=\"line2d_90\">\n    <path d=\"M 49.633125 27.965538 \nL 69.163125 20.708416 \nL 88.693125 25.790025 \nL 108.223125 17.136679 \nL 127.753125 20.221361 \nL 147.283125 15.983981 \nL 166.813125 17.006797 \n\" clip-path=\"url(#pff131fc01b)\" style=\"fill: none; stroke-dasharray: 9.6,2.4,1.5,2.4; stroke-dashoffset: 0; stroke: #2ca02c; stroke-width: 1.5\"/>\n   </g>\n   <g id=\"line2d_91\">\n    <path d=\"M 34.954394 15.743869 \nL 44.698573 87.175067 \nL 54.442752 104.12591 \nL 64.186931 110.569407 \nL 73.93111 117.206798 \nL 83.675289 118.828413 \nL 93.419468 123.04046 \nL 103.163647 124.037589 \nL 112.907826 127.969945 \nL 122.652006 126.98124 \nL 132.396185 130.374333 \nL 142.140364 130.270031 \nL 151.884543 132.720637 \nL 161.628722 133.166603 \nL 171.372901 135.613935 \n\" clip-path=\"url(#pff131fc01b)\" style=\"fill: none; stroke: #1f77b4; stroke-width: 1.5; stroke-linecap: square\"/>\n   </g>\n   <g id=\"line2d_92\">\n    <path d=\"M 49.633125 85.388037 \nL 69.163125 106.125954 \nL 88.693125 90.697092 \nL 108.223125 115.987734 \nL 127.753125 109.731161 \nL 147.283125 120.245462 \nL 166.813125 117.629611 \n\" clip-path=\"url(#pff131fc01b)\" style=\"fill: none; stroke-dasharray: 5.55,2.4; stroke-dashoffset: 0; stroke: #ff7f0e; stroke-width: 1.5\"/>\n   </g>\n   <g id=\"line2d_93\">\n    <path d=\"M 49.633125 27.965538 \nL 69.163125 20.708416 \nL 88.693125 25.790025 \nL 108.223125 17.136679 \nL 127.753125 20.221361 \nL 147.283125 15.983981 \nL 166.813125 17.006797 \n\" clip-path=\"url(#pff131fc01b)\" style=\"fill: none; stroke-dasharray: 9.6,2.4,1.5,2.4; stroke-dashoffset: 0; stroke: #2ca02c; stroke-width: 1.5\"/>\n   </g>\n   <g id=\"line2d_94\">\n    <path d=\"M 34.954394 15.743869 \nL 44.698573 87.175067 \nL 54.442752 104.12591 \nL 64.186931 110.569407 \nL 73.93111 117.206798 \nL 83.675289 118.828413 \nL 93.419468 123.04046 \nL 103.163647 124.037589 \nL 112.907826 127.969945 \nL 122.652006 126.98124 \nL 132.396185 130.374333 \nL 142.140364 130.270031 \nL 151.884543 132.720637 \nL 161.628722 133.166603 \nL 171.372901 135.613935 \nL 181.11708 134.447835 \n\" clip-path=\"url(#pff131fc01b)\" style=\"fill: none; stroke: #1f77b4; stroke-width: 1.5; stroke-linecap: square\"/>\n   </g>\n   <g id=\"line2d_95\">\n    <path d=\"M 49.633125 85.388037 \nL 69.163125 106.125954 \nL 88.693125 90.697092 \nL 108.223125 115.987734 \nL 127.753125 109.731161 \nL 147.283125 120.245462 \nL 166.813125 117.629611 \n\" clip-path=\"url(#pff131fc01b)\" style=\"fill: none; stroke-dasharray: 5.55,2.4; stroke-dashoffset: 0; stroke: #ff7f0e; stroke-width: 1.5\"/>\n   </g>\n   <g id=\"line2d_96\">\n    <path d=\"M 49.633125 27.965538 \nL 69.163125 20.708416 \nL 88.693125 25.790025 \nL 108.223125 17.136679 \nL 127.753125 20.221361 \nL 147.283125 15.983981 \nL 166.813125 17.006797 \n\" clip-path=\"url(#pff131fc01b)\" style=\"fill: none; stroke-dasharray: 9.6,2.4,1.5,2.4; stroke-dashoffset: 0; stroke: #2ca02c; stroke-width: 1.5\"/>\n   </g>\n   <g id=\"line2d_97\">\n    <path d=\"M 34.954394 15.743869 \nL 44.698573 87.175067 \nL 54.442752 104.12591 \nL 64.186931 110.569407 \nL 73.93111 117.206798 \nL 83.675289 118.828413 \nL 93.419468 123.04046 \nL 103.163647 124.037589 \nL 112.907826 127.969945 \nL 122.652006 126.98124 \nL 132.396185 130.374333 \nL 142.140364 130.270031 \nL 151.884543 132.720637 \nL 161.628722 133.166603 \nL 171.372901 135.613935 \nL 181.11708 134.447835 \n\" clip-path=\"url(#pff131fc01b)\" style=\"fill: none; stroke: #1f77b4; stroke-width: 1.5; stroke-linecap: square\"/>\n   </g>\n   <g id=\"line2d_98\">\n    <path d=\"M 49.633125 85.388037 \nL 69.163125 106.125954 \nL 88.693125 90.697092 \nL 108.223125 115.987734 \nL 127.753125 109.731161 \nL 147.283125 120.245462 \nL 166.813125 117.629611 \nL 186.343125 123.470133 \n\" clip-path=\"url(#pff131fc01b)\" style=\"fill: none; stroke-dasharray: 5.55,2.4; stroke-dashoffset: 0; stroke: #ff7f0e; stroke-width: 1.5\"/>\n   </g>\n   <g id=\"line2d_99\">\n    <path d=\"M 49.633125 27.965538 \nL 69.163125 20.708416 \nL 88.693125 25.790025 \nL 108.223125 17.136679 \nL 127.753125 20.221361 \nL 147.283125 15.983981 \nL 166.813125 17.006797 \n\" clip-path=\"url(#pff131fc01b)\" style=\"fill: none; stroke-dasharray: 9.6,2.4,1.5,2.4; stroke-dashoffset: 0; stroke: #2ca02c; stroke-width: 1.5\"/>\n   </g>\n   <g id=\"line2d_100\">\n    <path d=\"M 34.954394 15.743869 \nL 44.698573 87.175067 \nL 54.442752 104.12591 \nL 64.186931 110.569407 \nL 73.93111 117.206798 \nL 83.675289 118.828413 \nL 93.419468 123.04046 \nL 103.163647 124.037589 \nL 112.907826 127.969945 \nL 122.652006 126.98124 \nL 132.396185 130.374333 \nL 142.140364 130.270031 \nL 151.884543 132.720637 \nL 161.628722 133.166603 \nL 171.372901 135.613935 \nL 181.11708 134.447835 \n\" clip-path=\"url(#pff131fc01b)\" style=\"fill: none; stroke: #1f77b4; stroke-width: 1.5; stroke-linecap: square\"/>\n   </g>\n   <g id=\"line2d_101\">\n    <path d=\"M 49.633125 85.388037 \nL 69.163125 106.125954 \nL 88.693125 90.697092 \nL 108.223125 115.987734 \nL 127.753125 109.731161 \nL 147.283125 120.245462 \nL 166.813125 117.629611 \nL 186.343125 123.470133 \n\" clip-path=\"url(#pff131fc01b)\" style=\"fill: none; stroke-dasharray: 5.55,2.4; stroke-dashoffset: 0; stroke: #ff7f0e; stroke-width: 1.5\"/>\n   </g>\n   <g id=\"line2d_102\">\n    <path d=\"M 49.633125 27.965538 \nL 69.163125 20.708416 \nL 88.693125 25.790025 \nL 108.223125 17.136679 \nL 127.753125 20.221361 \nL 147.283125 15.983981 \nL 166.813125 17.006797 \nL 186.343125 14.40917 \n\" clip-path=\"url(#pff131fc01b)\" style=\"fill: none; stroke-dasharray: 9.6,2.4,1.5,2.4; stroke-dashoffset: 0; stroke: #2ca02c; stroke-width: 1.5\"/>\n   </g>\n   <g id=\"line2d_103\">\n    <path d=\"M 34.954394 15.743869 \nL 44.698573 87.175067 \nL 54.442752 104.12591 \nL 64.186931 110.569407 \nL 73.93111 117.206798 \nL 83.675289 118.828413 \nL 93.419468 123.04046 \nL 103.163647 124.037589 \nL 112.907826 127.969945 \nL 122.652006 126.98124 \nL 132.396185 130.374333 \nL 142.140364 130.270031 \nL 151.884543 132.720637 \nL 161.628722 133.166603 \nL 171.372901 135.613935 \nL 181.11708 134.447835 \nL 190.861259 137.474971 \n\" clip-path=\"url(#pff131fc01b)\" style=\"fill: none; stroke: #1f77b4; stroke-width: 1.5; stroke-linecap: square\"/>\n   </g>\n   <g id=\"line2d_104\">\n    <path d=\"M 49.633125 85.388037 \nL 69.163125 106.125954 \nL 88.693125 90.697092 \nL 108.223125 115.987734 \nL 127.753125 109.731161 \nL 147.283125 120.245462 \nL 166.813125 117.629611 \nL 186.343125 123.470133 \n\" clip-path=\"url(#pff131fc01b)\" style=\"fill: none; stroke-dasharray: 5.55,2.4; stroke-dashoffset: 0; stroke: #ff7f0e; stroke-width: 1.5\"/>\n   </g>\n   <g id=\"line2d_105\">\n    <path d=\"M 49.633125 27.965538 \nL 69.163125 20.708416 \nL 88.693125 25.790025 \nL 108.223125 17.136679 \nL 127.753125 20.221361 \nL 147.283125 15.983981 \nL 166.813125 17.006797 \nL 186.343125 14.40917 \n\" clip-path=\"url(#pff131fc01b)\" style=\"fill: none; stroke-dasharray: 9.6,2.4,1.5,2.4; stroke-dashoffset: 0; stroke: #2ca02c; stroke-width: 1.5\"/>\n   </g>\n   <g id=\"line2d_106\">\n    <path d=\"M 34.954394 15.743869 \nL 44.698573 87.175067 \nL 54.442752 104.12591 \nL 64.186931 110.569407 \nL 73.93111 117.206798 \nL 83.675289 118.828413 \nL 93.419468 123.04046 \nL 103.163647 124.037589 \nL 112.907826 127.969945 \nL 122.652006 126.98124 \nL 132.396185 130.374333 \nL 142.140364 130.270031 \nL 151.884543 132.720637 \nL 161.628722 133.166603 \nL 171.372901 135.613935 \nL 181.11708 134.447835 \nL 190.861259 137.474971 \nL 200.605438 136.148127 \n\" clip-path=\"url(#pff131fc01b)\" style=\"fill: none; stroke: #1f77b4; stroke-width: 1.5; stroke-linecap: square\"/>\n   </g>\n   <g id=\"line2d_107\">\n    <path d=\"M 49.633125 85.388037 \nL 69.163125 106.125954 \nL 88.693125 90.697092 \nL 108.223125 115.987734 \nL 127.753125 109.731161 \nL 147.283125 120.245462 \nL 166.813125 117.629611 \nL 186.343125 123.470133 \n\" clip-path=\"url(#pff131fc01b)\" style=\"fill: none; stroke-dasharray: 5.55,2.4; stroke-dashoffset: 0; stroke: #ff7f0e; stroke-width: 1.5\"/>\n   </g>\n   <g id=\"line2d_108\">\n    <path d=\"M 49.633125 27.965538 \nL 69.163125 20.708416 \nL 88.693125 25.790025 \nL 108.223125 17.136679 \nL 127.753125 20.221361 \nL 147.283125 15.983981 \nL 166.813125 17.006797 \nL 186.343125 14.40917 \n\" clip-path=\"url(#pff131fc01b)\" style=\"fill: none; stroke-dasharray: 9.6,2.4,1.5,2.4; stroke-dashoffset: 0; stroke: #2ca02c; stroke-width: 1.5\"/>\n   </g>\n   <g id=\"line2d_109\">\n    <path d=\"M 34.954394 15.743869 \nL 44.698573 87.175067 \nL 54.442752 104.12591 \nL 64.186931 110.569407 \nL 73.93111 117.206798 \nL 83.675289 118.828413 \nL 93.419468 123.04046 \nL 103.163647 124.037589 \nL 112.907826 127.969945 \nL 122.652006 126.98124 \nL 132.396185 130.374333 \nL 142.140364 130.270031 \nL 151.884543 132.720637 \nL 161.628722 133.166603 \nL 171.372901 135.613935 \nL 181.11708 134.447835 \nL 190.861259 137.474971 \nL 200.605438 136.148127 \n\" clip-path=\"url(#pff131fc01b)\" style=\"fill: none; stroke: #1f77b4; stroke-width: 1.5; stroke-linecap: square\"/>\n   </g>\n   <g id=\"line2d_110\">\n    <path d=\"M 49.633125 85.388037 \nL 69.163125 106.125954 \nL 88.693125 90.697092 \nL 108.223125 115.987734 \nL 127.753125 109.731161 \nL 147.283125 120.245462 \nL 166.813125 117.629611 \nL 186.343125 123.470133 \nL 205.873125 116.798473 \n\" clip-path=\"url(#pff131fc01b)\" style=\"fill: none; stroke-dasharray: 5.55,2.4; stroke-dashoffset: 0; stroke: #ff7f0e; stroke-width: 1.5\"/>\n   </g>\n   <g id=\"line2d_111\">\n    <path d=\"M 49.633125 27.965538 \nL 69.163125 20.708416 \nL 88.693125 25.790025 \nL 108.223125 17.136679 \nL 127.753125 20.221361 \nL 147.283125 15.983981 \nL 166.813125 17.006797 \nL 186.343125 14.40917 \n\" clip-path=\"url(#pff131fc01b)\" style=\"fill: none; stroke-dasharray: 9.6,2.4,1.5,2.4; stroke-dashoffset: 0; stroke: #2ca02c; stroke-width: 1.5\"/>\n   </g>\n   <g id=\"line2d_112\">\n    <path d=\"M 34.954394 15.743869 \nL 44.698573 87.175067 \nL 54.442752 104.12591 \nL 64.186931 110.569407 \nL 73.93111 117.206798 \nL 83.675289 118.828413 \nL 93.419468 123.04046 \nL 103.163647 124.037589 \nL 112.907826 127.969945 \nL 122.652006 126.98124 \nL 132.396185 130.374333 \nL 142.140364 130.270031 \nL 151.884543 132.720637 \nL 161.628722 133.166603 \nL 171.372901 135.613935 \nL 181.11708 134.447835 \nL 190.861259 137.474971 \nL 200.605438 136.148127 \n\" clip-path=\"url(#pff131fc01b)\" style=\"fill: none; stroke: #1f77b4; stroke-width: 1.5; stroke-linecap: square\"/>\n   </g>\n   <g id=\"line2d_113\">\n    <path d=\"M 49.633125 85.388037 \nL 69.163125 106.125954 \nL 88.693125 90.697092 \nL 108.223125 115.987734 \nL 127.753125 109.731161 \nL 147.283125 120.245462 \nL 166.813125 117.629611 \nL 186.343125 123.470133 \nL 205.873125 116.798473 \n\" clip-path=\"url(#pff131fc01b)\" style=\"fill: none; stroke-dasharray: 5.55,2.4; stroke-dashoffset: 0; stroke: #ff7f0e; stroke-width: 1.5\"/>\n   </g>\n   <g id=\"line2d_114\">\n    <path d=\"M 49.633125 27.965538 \nL 69.163125 20.708416 \nL 88.693125 25.790025 \nL 108.223125 17.136679 \nL 127.753125 20.221361 \nL 147.283125 15.983981 \nL 166.813125 17.006797 \nL 186.343125 14.40917 \nL 205.873125 16.535977 \n\" clip-path=\"url(#pff131fc01b)\" style=\"fill: none; stroke-dasharray: 9.6,2.4,1.5,2.4; stroke-dashoffset: 0; stroke: #2ca02c; stroke-width: 1.5\"/>\n   </g>\n   <g id=\"line2d_115\">\n    <path d=\"M 34.954394 15.743869 \nL 44.698573 87.175067 \nL 54.442752 104.12591 \nL 64.186931 110.569407 \nL 73.93111 117.206798 \nL 83.675289 118.828413 \nL 93.419468 123.04046 \nL 103.163647 124.037589 \nL 112.907826 127.969945 \nL 122.652006 126.98124 \nL 132.396185 130.374333 \nL 142.140364 130.270031 \nL 151.884543 132.720637 \nL 161.628722 133.166603 \nL 171.372901 135.613935 \nL 181.11708 134.447835 \nL 190.861259 137.474971 \nL 200.605438 136.148127 \nL 210.349618 139.5 \n\" clip-path=\"url(#pff131fc01b)\" style=\"fill: none; stroke: #1f77b4; stroke-width: 1.5; stroke-linecap: square\"/>\n   </g>\n   <g id=\"line2d_116\">\n    <path d=\"M 49.633125 85.388037 \nL 69.163125 106.125954 \nL 88.693125 90.697092 \nL 108.223125 115.987734 \nL 127.753125 109.731161 \nL 147.283125 120.245462 \nL 166.813125 117.629611 \nL 186.343125 123.470133 \nL 205.873125 116.798473 \n\" clip-path=\"url(#pff131fc01b)\" style=\"fill: none; stroke-dasharray: 5.55,2.4; stroke-dashoffset: 0; stroke: #ff7f0e; stroke-width: 1.5\"/>\n   </g>\n   <g id=\"line2d_117\">\n    <path d=\"M 49.633125 27.965538 \nL 69.163125 20.708416 \nL 88.693125 25.790025 \nL 108.223125 17.136679 \nL 127.753125 20.221361 \nL 147.283125 15.983981 \nL 166.813125 17.006797 \nL 186.343125 14.40917 \nL 205.873125 16.535977 \n\" clip-path=\"url(#pff131fc01b)\" style=\"fill: none; stroke-dasharray: 9.6,2.4,1.5,2.4; stroke-dashoffset: 0; stroke: #2ca02c; stroke-width: 1.5\"/>\n   </g>\n   <g id=\"line2d_118\">\n    <path d=\"M 34.954394 15.743869 \nL 44.698573 87.175067 \nL 54.442752 104.12591 \nL 64.186931 110.569407 \nL 73.93111 117.206798 \nL 83.675289 118.828413 \nL 93.419468 123.04046 \nL 103.163647 124.037589 \nL 112.907826 127.969945 \nL 122.652006 126.98124 \nL 132.396185 130.374333 \nL 142.140364 130.270031 \nL 151.884543 132.720637 \nL 161.628722 133.166603 \nL 171.372901 135.613935 \nL 181.11708 134.447835 \nL 190.861259 137.474971 \nL 200.605438 136.148127 \nL 210.349618 139.5 \nL 220.093797 138.10548 \n\" clip-path=\"url(#pff131fc01b)\" style=\"fill: none; stroke: #1f77b4; stroke-width: 1.5; stroke-linecap: square\"/>\n   </g>\n   <g id=\"line2d_119\">\n    <path d=\"M 49.633125 85.388037 \nL 69.163125 106.125954 \nL 88.693125 90.697092 \nL 108.223125 115.987734 \nL 127.753125 109.731161 \nL 147.283125 120.245462 \nL 166.813125 117.629611 \nL 186.343125 123.470133 \nL 205.873125 116.798473 \n\" clip-path=\"url(#pff131fc01b)\" style=\"fill: none; stroke-dasharray: 5.55,2.4; stroke-dashoffset: 0; stroke: #ff7f0e; stroke-width: 1.5\"/>\n   </g>\n   <g id=\"line2d_120\">\n    <path d=\"M 49.633125 27.965538 \nL 69.163125 20.708416 \nL 88.693125 25.790025 \nL 108.223125 17.136679 \nL 127.753125 20.221361 \nL 147.283125 15.983981 \nL 166.813125 17.006797 \nL 186.343125 14.40917 \nL 205.873125 16.535977 \n\" clip-path=\"url(#pff131fc01b)\" style=\"fill: none; stroke-dasharray: 9.6,2.4,1.5,2.4; stroke-dashoffset: 0; stroke: #2ca02c; stroke-width: 1.5\"/>\n   </g>\n   <g id=\"line2d_121\">\n    <path d=\"M 34.954394 15.743869 \nL 44.698573 87.175067 \nL 54.442752 104.12591 \nL 64.186931 110.569407 \nL 73.93111 117.206798 \nL 83.675289 118.828413 \nL 93.419468 123.04046 \nL 103.163647 124.037589 \nL 112.907826 127.969945 \nL 122.652006 126.98124 \nL 132.396185 130.374333 \nL 142.140364 130.270031 \nL 151.884543 132.720637 \nL 161.628722 133.166603 \nL 171.372901 135.613935 \nL 181.11708 134.447835 \nL 190.861259 137.474971 \nL 200.605438 136.148127 \nL 210.349618 139.5 \nL 220.093797 138.10548 \n\" clip-path=\"url(#pff131fc01b)\" style=\"fill: none; stroke: #1f77b4; stroke-width: 1.5; stroke-linecap: square\"/>\n   </g>\n   <g id=\"line2d_122\">\n    <path d=\"M 49.633125 85.388037 \nL 69.163125 106.125954 \nL 88.693125 90.697092 \nL 108.223125 115.987734 \nL 127.753125 109.731161 \nL 147.283125 120.245462 \nL 166.813125 117.629611 \nL 186.343125 123.470133 \nL 205.873125 116.798473 \nL 225.403125 126.439108 \n\" clip-path=\"url(#pff131fc01b)\" style=\"fill: none; stroke-dasharray: 5.55,2.4; stroke-dashoffset: 0; stroke: #ff7f0e; stroke-width: 1.5\"/>\n   </g>\n   <g id=\"line2d_123\">\n    <path d=\"M 49.633125 27.965538 \nL 69.163125 20.708416 \nL 88.693125 25.790025 \nL 108.223125 17.136679 \nL 127.753125 20.221361 \nL 147.283125 15.983981 \nL 166.813125 17.006797 \nL 186.343125 14.40917 \nL 205.873125 16.535977 \n\" clip-path=\"url(#pff131fc01b)\" style=\"fill: none; stroke-dasharray: 9.6,2.4,1.5,2.4; stroke-dashoffset: 0; stroke: #2ca02c; stroke-width: 1.5\"/>\n   </g>\n   <g id=\"line2d_124\">\n    <path d=\"M 34.954394 15.743869 \nL 44.698573 87.175067 \nL 54.442752 104.12591 \nL 64.186931 110.569407 \nL 73.93111 117.206798 \nL 83.675289 118.828413 \nL 93.419468 123.04046 \nL 103.163647 124.037589 \nL 112.907826 127.969945 \nL 122.652006 126.98124 \nL 132.396185 130.374333 \nL 142.140364 130.270031 \nL 151.884543 132.720637 \nL 161.628722 133.166603 \nL 171.372901 135.613935 \nL 181.11708 134.447835 \nL 190.861259 137.474971 \nL 200.605438 136.148127 \nL 210.349618 139.5 \nL 220.093797 138.10548 \n\" clip-path=\"url(#pff131fc01b)\" style=\"fill: none; stroke: #1f77b4; stroke-width: 1.5; stroke-linecap: square\"/>\n   </g>\n   <g id=\"line2d_125\">\n    <path d=\"M 49.633125 85.388037 \nL 69.163125 106.125954 \nL 88.693125 90.697092 \nL 108.223125 115.987734 \nL 127.753125 109.731161 \nL 147.283125 120.245462 \nL 166.813125 117.629611 \nL 186.343125 123.470133 \nL 205.873125 116.798473 \nL 225.403125 126.439108 \n\" clip-path=\"url(#pff131fc01b)\" style=\"fill: none; stroke-dasharray: 5.55,2.4; stroke-dashoffset: 0; stroke: #ff7f0e; stroke-width: 1.5\"/>\n   </g>\n   <g id=\"line2d_126\">\n    <path d=\"M 49.633125 27.965538 \nL 69.163125 20.708416 \nL 88.693125 25.790025 \nL 108.223125 17.136679 \nL 127.753125 20.221361 \nL 147.283125 15.983981 \nL 166.813125 17.006797 \nL 186.343125 14.40917 \nL 205.873125 16.535977 \nL 225.403125 13.5 \n\" clip-path=\"url(#pff131fc01b)\" style=\"fill: none; stroke-dasharray: 9.6,2.4,1.5,2.4; stroke-dashoffset: 0; stroke: #2ca02c; stroke-width: 1.5\"/>\n   </g>\n   <g id=\"patch_3\">\n    <path d=\"M 30.103125 145.8 \nL 30.103125 7.2 \n\" style=\"fill: none; stroke: #000000; stroke-width: 0.8; stroke-linejoin: miter; stroke-linecap: square\"/>\n   </g>\n   <g id=\"patch_4\">\n    <path d=\"M 225.403125 145.8 \nL 225.403125 7.2 \n\" style=\"fill: none; stroke: #000000; stroke-width: 0.8; stroke-linejoin: miter; stroke-linecap: square\"/>\n   </g>\n   <g id=\"patch_5\">\n    <path d=\"M 30.103125 145.8 \nL 225.403125 145.8 \n\" style=\"fill: none; stroke: #000000; stroke-width: 0.8; stroke-linejoin: miter; stroke-linecap: square\"/>\n   </g>\n   <g id=\"patch_6\">\n    <path d=\"M 30.103125 7.2 \nL 225.403125 7.2 \n\" style=\"fill: none; stroke: #000000; stroke-width: 0.8; stroke-linejoin: miter; stroke-linecap: square\"/>\n   </g>\n   <g id=\"legend_1\">\n    <g id=\"patch_7\">\n     <path d=\"M 138.8125 100.434375 \nL 218.403125 100.434375 \nQ 220.403125 100.434375 220.403125 98.434375 \nL 220.403125 54.565625 \nQ 220.403125 52.565625 218.403125 52.565625 \nL 138.8125 52.565625 \nQ 136.8125 52.565625 136.8125 54.565625 \nL 136.8125 98.434375 \nQ 136.8125 100.434375 138.8125 100.434375 \nz\n\" style=\"fill: #ffffff; opacity: 0.8; stroke: #cccccc; stroke-linejoin: miter\"/>\n    </g>\n    <g id=\"line2d_127\">\n     <path d=\"M 140.8125 60.664063 \nL 150.8125 60.664063 \nL 160.8125 60.664063 \n\" style=\"fill: none; stroke: #1f77b4; stroke-width: 1.5; stroke-linecap: square\"/>\n    </g>\n    <g id=\"text_12\">\n     <!-- train_loss -->\n     <g transform=\"translate(168.8125 64.164063) scale(0.1 -0.1)\">\n      <defs>\n       <path id=\"DejaVuSans-74\" d=\"M 1172 4494 \nL 1172 3500 \nL 2356 3500 \nL 2356 3053 \nL 1172 3053 \nL 1172 1153 \nQ 1172 725 1289 603 \nQ 1406 481 1766 481 \nL 2356 481 \nL 2356 0 \nL 1766 0 \nQ 1100 0 847 248 \nQ 594 497 594 1153 \nL 594 3053 \nL 172 3053 \nL 172 3500 \nL 594 3500 \nL 594 4494 \nL 1172 4494 \nz\n\" transform=\"scale(0.015625)\"/>\n       <path id=\"DejaVuSans-72\" d=\"M 2631 2963 \nQ 2534 3019 2420 3045 \nQ 2306 3072 2169 3072 \nQ 1681 3072 1420 2755 \nQ 1159 2438 1159 1844 \nL 1159 0 \nL 581 0 \nL 581 3500 \nL 1159 3500 \nL 1159 2956 \nQ 1341 3275 1631 3429 \nQ 1922 3584 2338 3584 \nQ 2397 3584 2469 3576 \nQ 2541 3569 2628 3553 \nL 2631 2963 \nz\n\" transform=\"scale(0.015625)\"/>\n       <path id=\"DejaVuSans-61\" d=\"M 2194 1759 \nQ 1497 1759 1228 1600 \nQ 959 1441 959 1056 \nQ 959 750 1161 570 \nQ 1363 391 1709 391 \nQ 2188 391 2477 730 \nQ 2766 1069 2766 1631 \nL 2766 1759 \nL 2194 1759 \nz\nM 3341 1997 \nL 3341 0 \nL 2766 0 \nL 2766 531 \nQ 2569 213 2275 61 \nQ 1981 -91 1556 -91 \nQ 1019 -91 701 211 \nQ 384 513 384 1019 \nQ 384 1609 779 1909 \nQ 1175 2209 1959 2209 \nL 2766 2209 \nL 2766 2266 \nQ 2766 2663 2505 2880 \nQ 2244 3097 1772 3097 \nQ 1472 3097 1187 3025 \nQ 903 2953 641 2809 \nL 641 3341 \nQ 956 3463 1253 3523 \nQ 1550 3584 1831 3584 \nQ 2591 3584 2966 3190 \nQ 3341 2797 3341 1997 \nz\n\" transform=\"scale(0.015625)\"/>\n       <path id=\"DejaVuSans-69\" d=\"M 603 3500 \nL 1178 3500 \nL 1178 0 \nL 603 0 \nL 603 3500 \nz\nM 603 4863 \nL 1178 4863 \nL 1178 4134 \nL 603 4134 \nL 603 4863 \nz\n\" transform=\"scale(0.015625)\"/>\n       <path id=\"DejaVuSans-6e\" d=\"M 3513 2113 \nL 3513 0 \nL 2938 0 \nL 2938 2094 \nQ 2938 2591 2744 2837 \nQ 2550 3084 2163 3084 \nQ 1697 3084 1428 2787 \nQ 1159 2491 1159 1978 \nL 1159 0 \nL 581 0 \nL 581 3500 \nL 1159 3500 \nL 1159 2956 \nQ 1366 3272 1645 3428 \nQ 1925 3584 2291 3584 \nQ 2894 3584 3203 3211 \nQ 3513 2838 3513 2113 \nz\n\" transform=\"scale(0.015625)\"/>\n       <path id=\"DejaVuSans-5f\" d=\"M 3263 -1063 \nL 3263 -1509 \nL -63 -1509 \nL -63 -1063 \nL 3263 -1063 \nz\n\" transform=\"scale(0.015625)\"/>\n       <path id=\"DejaVuSans-6c\" d=\"M 603 4863 \nL 1178 4863 \nL 1178 0 \nL 603 0 \nL 603 4863 \nz\n\" transform=\"scale(0.015625)\"/>\n       <path id=\"DejaVuSans-73\" d=\"M 2834 3397 \nL 2834 2853 \nQ 2591 2978 2328 3040 \nQ 2066 3103 1784 3103 \nQ 1356 3103 1142 2972 \nQ 928 2841 928 2578 \nQ 928 2378 1081 2264 \nQ 1234 2150 1697 2047 \nL 1894 2003 \nQ 2506 1872 2764 1633 \nQ 3022 1394 3022 966 \nQ 3022 478 2636 193 \nQ 2250 -91 1575 -91 \nQ 1294 -91 989 -36 \nQ 684 19 347 128 \nL 347 722 \nQ 666 556 975 473 \nQ 1284 391 1588 391 \nQ 1994 391 2212 530 \nQ 2431 669 2431 922 \nQ 2431 1156 2273 1281 \nQ 2116 1406 1581 1522 \nL 1381 1569 \nQ 847 1681 609 1914 \nQ 372 2147 372 2553 \nQ 372 3047 722 3315 \nQ 1072 3584 1716 3584 \nQ 2034 3584 2315 3537 \nQ 2597 3491 2834 3397 \nz\n\" transform=\"scale(0.015625)\"/>\n      </defs>\n      <use xlink:href=\"#DejaVuSans-74\"/>\n      <use xlink:href=\"#DejaVuSans-72\" x=\"39.208984\"/>\n      <use xlink:href=\"#DejaVuSans-61\" x=\"80.322266\"/>\n      <use xlink:href=\"#DejaVuSans-69\" x=\"141.601562\"/>\n      <use xlink:href=\"#DejaVuSans-6e\" x=\"169.384766\"/>\n      <use xlink:href=\"#DejaVuSans-5f\" x=\"232.763672\"/>\n      <use xlink:href=\"#DejaVuSans-6c\" x=\"282.763672\"/>\n      <use xlink:href=\"#DejaVuSans-6f\" x=\"310.546875\"/>\n      <use xlink:href=\"#DejaVuSans-73\" x=\"371.728516\"/>\n      <use xlink:href=\"#DejaVuSans-73\" x=\"423.828125\"/>\n     </g>\n    </g>\n    <g id=\"line2d_128\">\n     <path d=\"M 140.8125 75.620313 \nL 150.8125 75.620313 \nL 160.8125 75.620313 \n\" style=\"fill: none; stroke-dasharray: 5.55,2.4; stroke-dashoffset: 0; stroke: #ff7f0e; stroke-width: 1.5\"/>\n    </g>\n    <g id=\"text_13\">\n     <!-- val_loss -->\n     <g transform=\"translate(168.8125 79.120313) scale(0.1 -0.1)\">\n      <defs>\n       <path id=\"DejaVuSans-76\" d=\"M 191 3500 \nL 800 3500 \nL 1894 563 \nL 2988 3500 \nL 3597 3500 \nL 2284 0 \nL 1503 0 \nL 191 3500 \nz\n\" transform=\"scale(0.015625)\"/>\n      </defs>\n      <use xlink:href=\"#DejaVuSans-76\"/>\n      <use xlink:href=\"#DejaVuSans-61\" x=\"59.179688\"/>\n      <use xlink:href=\"#DejaVuSans-6c\" x=\"120.458984\"/>\n      <use xlink:href=\"#DejaVuSans-5f\" x=\"148.242188\"/>\n      <use xlink:href=\"#DejaVuSans-6c\" x=\"198.242188\"/>\n      <use xlink:href=\"#DejaVuSans-6f\" x=\"226.025391\"/>\n      <use xlink:href=\"#DejaVuSans-73\" x=\"287.207031\"/>\n      <use xlink:href=\"#DejaVuSans-73\" x=\"339.306641\"/>\n     </g>\n    </g>\n    <g id=\"line2d_129\">\n     <path d=\"M 140.8125 90.576563 \nL 150.8125 90.576563 \nL 160.8125 90.576563 \n\" style=\"fill: none; stroke-dasharray: 9.6,2.4,1.5,2.4; stroke-dashoffset: 0; stroke: #2ca02c; stroke-width: 1.5\"/>\n    </g>\n    <g id=\"text_14\">\n     <!-- val_acc -->\n     <g transform=\"translate(168.8125 94.076563) scale(0.1 -0.1)\">\n      <use xlink:href=\"#DejaVuSans-76\"/>\n      <use xlink:href=\"#DejaVuSans-61\" x=\"59.179688\"/>\n      <use xlink:href=\"#DejaVuSans-6c\" x=\"120.458984\"/>\n      <use xlink:href=\"#DejaVuSans-5f\" x=\"148.242188\"/>\n      <use xlink:href=\"#DejaVuSans-61\" x=\"198.242188\"/>\n      <use xlink:href=\"#DejaVuSans-63\" x=\"259.521484\"/>\n      <use xlink:href=\"#DejaVuSans-63\" x=\"314.501953\"/>\n     </g>\n    </g>\n   </g>\n  </g>\n </g>\n <defs>\n  <clipPath id=\"pff131fc01b\">\n   <rect x=\"30.103125\" y=\"7.2\" width=\"195.3\" height=\"138.6\"/>\n  </clipPath>\n </defs>\n</svg>\n"
          },
          "metadata": {}
        }
      ],
      "source": [
        "model = DenseNet(lr=0.01)\n",
        "trainer = d2l.Trainer(max_epochs=10, num_gpus=1)\n",
        "data = d2l.FashionMNIST(batch_size=128, resize=(96, 96))\n",
        "trainer.fit(model, data)"
      ]
    },
    {
      "cell_type": "markdown",
      "metadata": {
        "id": "VgtfDPFBuSI5"
      },
      "source": [
        "# 8.8. Designing Convolution Network Architectures"
      ]
    },
    {
      "cell_type": "code",
      "execution_count": 54,
      "metadata": {
        "id": "VY8_7-squWib"
      },
      "outputs": [],
      "source": [
        "import torch\n",
        "from torch import nn\n",
        "from torch.nn import functional as F\n",
        "from d2l import torch as d2l"
      ]
    },
    {
      "cell_type": "markdown",
      "metadata": {
        "id": "LPWKq4txuUuI"
      },
      "source": [
        "8.8.1. The AnyNet Design Space"
      ]
    },
    {
      "cell_type": "code",
      "execution_count": 55,
      "metadata": {
        "id": "le8_tPAPudqL"
      },
      "outputs": [],
      "source": [
        "class AnyNet(d2l.Classifier):\n",
        "    def stem(self, num_channels):\n",
        "        return nn.Sequential(\n",
        "            nn.LazyConv2d(num_channels, kernel_size=3, stride=2, padding=1),\n",
        "            nn.LazyBatchNorm2d(), nn.ReLU())"
      ]
    },
    {
      "cell_type": "code",
      "execution_count": 56,
      "metadata": {
        "id": "_euZlhXfug7u"
      },
      "outputs": [],
      "source": [
        "@d2l.add_to_class(AnyNet)\n",
        "def stage(self, depth, num_channels, groups, bot_mul):\n",
        "    blk = []\n",
        "    for i in range(depth):\n",
        "        if i == 0:\n",
        "            blk.append(d2l.ResNeXtBlock(num_channels, groups, bot_mul,\n",
        "                use_1x1conv=True, strides=2))\n",
        "        else:\n",
        "            blk.append(d2l.ResNeXtBlock(num_channels, groups, bot_mul))\n",
        "    return nn.Sequential(*blk)"
      ]
    },
    {
      "cell_type": "code",
      "execution_count": 57,
      "metadata": {
        "id": "iiLVFXtyumWL"
      },
      "outputs": [],
      "source": [
        "@d2l.add_to_class(AnyNet)\n",
        "def __init__(self, arch, stem_channels, lr=0.1, num_classes=10):\n",
        "    super(AnyNet, self).__init__()\n",
        "    self.save_hyperparameters()\n",
        "    self.net = nn.Sequential(self.stem(stem_channels))\n",
        "    for i, s in enumerate(arch):\n",
        "        self.net.add_module(f'stage{i+1}', self.stage(*s))\n",
        "    self.net.add_module('head', nn.Sequential(\n",
        "        nn.AdaptiveAvgPool2d((1, 1)), nn.Flatten(),\n",
        "        nn.LazyLinear(num_classes)))\n",
        "    self.net.apply(d2l.init_cnn)"
      ]
    },
    {
      "cell_type": "markdown",
      "metadata": {
        "id": "squmjgaqur_B"
      },
      "source": [
        "8.8.3. RegNet"
      ]
    },
    {
      "cell_type": "code",
      "execution_count": 58,
      "metadata": {
        "id": "wz3QXJr7urpJ"
      },
      "outputs": [],
      "source": [
        "class RegNetX32(AnyNet):\n",
        "    def __init__(self, lr=0.1, num_classes=10):\n",
        "        stem_channels, groups, bot_mul = 32, 16, 1\n",
        "        depths, channels = (4, 6), (32, 80)\n",
        "        super().__init__(\n",
        "            ((depths[0], channels[0], groups, bot_mul),\n",
        "             (depths[1], channels[1], groups, bot_mul)),\n",
        "            stem_channels, lr, num_classes)"
      ]
    },
    {
      "cell_type": "code",
      "execution_count": 59,
      "metadata": {
        "id": "RZvB4L7zuygE",
        "colab": {
          "base_uri": "https://localhost:8080/"
        },
        "outputId": "8cb16f0b-6bed-4e05-cb18-5faf113cbd04"
      },
      "outputs": [
        {
          "output_type": "stream",
          "name": "stdout",
          "text": [
            "Sequential output shape:\t torch.Size([1, 32, 48, 48])\n",
            "Sequential output shape:\t torch.Size([1, 32, 24, 24])\n",
            "Sequential output shape:\t torch.Size([1, 80, 12, 12])\n",
            "Sequential output shape:\t torch.Size([1, 10])\n"
          ]
        }
      ],
      "source": [
        "RegNetX32().layer_summary((1, 1, 96, 96))"
      ]
    },
    {
      "cell_type": "markdown",
      "metadata": {
        "id": "jqtIohN-u1dq"
      },
      "source": [
        "8.8.4. Training"
      ]
    },
    {
      "cell_type": "code",
      "execution_count": 60,
      "metadata": {
        "id": "okLzyjULu3Rj",
        "colab": {
          "base_uri": "https://localhost:8080/",
          "height": 265
        },
        "outputId": "906219c1-6561-4973-af96-e9d9964a0a0e"
      },
      "outputs": [
        {
          "output_type": "display_data",
          "data": {
            "text/plain": [
              "<Figure size 350x250 with 1 Axes>"
            ],
            "image/svg+xml": "<?xml version=\"1.0\" encoding=\"utf-8\" standalone=\"no\"?>\n<!DOCTYPE svg PUBLIC \"-//W3C//DTD SVG 1.1//EN\"\n  \"http://www.w3.org/Graphics/SVG/1.1/DTD/svg11.dtd\">\n<svg xmlns:xlink=\"http://www.w3.org/1999/xlink\" width=\"238.965625pt\" height=\"183.35625pt\" viewBox=\"0 0 238.965625 183.35625\" xmlns=\"http://www.w3.org/2000/svg\" version=\"1.1\">\n <metadata>\n  <rdf:RDF xmlns:dc=\"http://purl.org/dc/elements/1.1/\" xmlns:cc=\"http://creativecommons.org/ns#\" xmlns:rdf=\"http://www.w3.org/1999/02/22-rdf-syntax-ns#\">\n   <cc:Work>\n    <dc:type rdf:resource=\"http://purl.org/dc/dcmitype/StillImage\"/>\n    <dc:date>2024-10-04T13:46:13.973982</dc:date>\n    <dc:format>image/svg+xml</dc:format>\n    <dc:creator>\n     <cc:Agent>\n      <dc:title>Matplotlib v3.7.2, https://matplotlib.org/</dc:title>\n     </cc:Agent>\n    </dc:creator>\n   </cc:Work>\n  </rdf:RDF>\n </metadata>\n <defs>\n  <style type=\"text/css\">*{stroke-linejoin: round; stroke-linecap: butt}</style>\n </defs>\n <g id=\"figure_1\">\n  <g id=\"patch_1\">\n   <path d=\"M 0 183.35625 \nL 238.965625 183.35625 \nL 238.965625 0 \nL 0 0 \nz\n\" style=\"fill: #ffffff\"/>\n  </g>\n  <g id=\"axes_1\">\n   <g id=\"patch_2\">\n    <path d=\"M 30.103125 145.8 \nL 225.403125 145.8 \nL 225.403125 7.2 \nL 30.103125 7.2 \nz\n\" style=\"fill: #ffffff\"/>\n   </g>\n   <g id=\"matplotlib.axis_1\">\n    <g id=\"xtick_1\">\n     <g id=\"line2d_1\">\n      <defs>\n       <path id=\"maa3938fea4\" d=\"M 0 0 \nL 0 3.5 \n\" style=\"stroke: #000000; stroke-width: 0.8\"/>\n      </defs>\n      <g>\n       <use xlink:href=\"#maa3938fea4\" x=\"30.103125\" y=\"145.8\" style=\"stroke: #000000; stroke-width: 0.8\"/>\n      </g>\n     </g>\n     <g id=\"text_1\">\n      <!-- 0 -->\n      <g transform=\"translate(26.921875 160.398438) scale(0.1 -0.1)\">\n       <defs>\n        <path id=\"DejaVuSans-30\" d=\"M 2034 4250 \nQ 1547 4250 1301 3770 \nQ 1056 3291 1056 2328 \nQ 1056 1369 1301 889 \nQ 1547 409 2034 409 \nQ 2525 409 2770 889 \nQ 3016 1369 3016 2328 \nQ 3016 3291 2770 3770 \nQ 2525 4250 2034 4250 \nz\nM 2034 4750 \nQ 2819 4750 3233 4129 \nQ 3647 3509 3647 2328 \nQ 3647 1150 3233 529 \nQ 2819 -91 2034 -91 \nQ 1250 -91 836 529 \nQ 422 1150 422 2328 \nQ 422 3509 836 4129 \nQ 1250 4750 2034 4750 \nz\n\" transform=\"scale(0.015625)\"/>\n       </defs>\n       <use xlink:href=\"#DejaVuSans-30\"/>\n      </g>\n     </g>\n    </g>\n    <g id=\"xtick_2\">\n     <g id=\"line2d_2\">\n      <g>\n       <use xlink:href=\"#maa3938fea4\" x=\"69.163125\" y=\"145.8\" style=\"stroke: #000000; stroke-width: 0.8\"/>\n      </g>\n     </g>\n     <g id=\"text_2\">\n      <!-- 2 -->\n      <g transform=\"translate(65.981875 160.398438) scale(0.1 -0.1)\">\n       <defs>\n        <path id=\"DejaVuSans-32\" d=\"M 1228 531 \nL 3431 531 \nL 3431 0 \nL 469 0 \nL 469 531 \nQ 828 903 1448 1529 \nQ 2069 2156 2228 2338 \nQ 2531 2678 2651 2914 \nQ 2772 3150 2772 3378 \nQ 2772 3750 2511 3984 \nQ 2250 4219 1831 4219 \nQ 1534 4219 1204 4116 \nQ 875 4013 500 3803 \nL 500 4441 \nQ 881 4594 1212 4672 \nQ 1544 4750 1819 4750 \nQ 2544 4750 2975 4387 \nQ 3406 4025 3406 3419 \nQ 3406 3131 3298 2873 \nQ 3191 2616 2906 2266 \nQ 2828 2175 2409 1742 \nQ 1991 1309 1228 531 \nz\n\" transform=\"scale(0.015625)\"/>\n       </defs>\n       <use xlink:href=\"#DejaVuSans-32\"/>\n      </g>\n     </g>\n    </g>\n    <g id=\"xtick_3\">\n     <g id=\"line2d_3\">\n      <g>\n       <use xlink:href=\"#maa3938fea4\" x=\"108.223125\" y=\"145.8\" style=\"stroke: #000000; stroke-width: 0.8\"/>\n      </g>\n     </g>\n     <g id=\"text_3\">\n      <!-- 4 -->\n      <g transform=\"translate(105.041875 160.398438) scale(0.1 -0.1)\">\n       <defs>\n        <path id=\"DejaVuSans-34\" d=\"M 2419 4116 \nL 825 1625 \nL 2419 1625 \nL 2419 4116 \nz\nM 2253 4666 \nL 3047 4666 \nL 3047 1625 \nL 3713 1625 \nL 3713 1100 \nL 3047 1100 \nL 3047 0 \nL 2419 0 \nL 2419 1100 \nL 313 1100 \nL 313 1709 \nL 2253 4666 \nz\n\" transform=\"scale(0.015625)\"/>\n       </defs>\n       <use xlink:href=\"#DejaVuSans-34\"/>\n      </g>\n     </g>\n    </g>\n    <g id=\"xtick_4\">\n     <g id=\"line2d_4\">\n      <g>\n       <use xlink:href=\"#maa3938fea4\" x=\"147.283125\" y=\"145.8\" style=\"stroke: #000000; stroke-width: 0.8\"/>\n      </g>\n     </g>\n     <g id=\"text_4\">\n      <!-- 6 -->\n      <g transform=\"translate(144.101875 160.398438) scale(0.1 -0.1)\">\n       <defs>\n        <path id=\"DejaVuSans-36\" d=\"M 2113 2584 \nQ 1688 2584 1439 2293 \nQ 1191 2003 1191 1497 \nQ 1191 994 1439 701 \nQ 1688 409 2113 409 \nQ 2538 409 2786 701 \nQ 3034 994 3034 1497 \nQ 3034 2003 2786 2293 \nQ 2538 2584 2113 2584 \nz\nM 3366 4563 \nL 3366 3988 \nQ 3128 4100 2886 4159 \nQ 2644 4219 2406 4219 \nQ 1781 4219 1451 3797 \nQ 1122 3375 1075 2522 \nQ 1259 2794 1537 2939 \nQ 1816 3084 2150 3084 \nQ 2853 3084 3261 2657 \nQ 3669 2231 3669 1497 \nQ 3669 778 3244 343 \nQ 2819 -91 2113 -91 \nQ 1303 -91 875 529 \nQ 447 1150 447 2328 \nQ 447 3434 972 4092 \nQ 1497 4750 2381 4750 \nQ 2619 4750 2861 4703 \nQ 3103 4656 3366 4563 \nz\n\" transform=\"scale(0.015625)\"/>\n       </defs>\n       <use xlink:href=\"#DejaVuSans-36\"/>\n      </g>\n     </g>\n    </g>\n    <g id=\"xtick_5\">\n     <g id=\"line2d_5\">\n      <g>\n       <use xlink:href=\"#maa3938fea4\" x=\"186.343125\" y=\"145.8\" style=\"stroke: #000000; stroke-width: 0.8\"/>\n      </g>\n     </g>\n     <g id=\"text_5\">\n      <!-- 8 -->\n      <g transform=\"translate(183.161875 160.398438) scale(0.1 -0.1)\">\n       <defs>\n        <path id=\"DejaVuSans-38\" d=\"M 2034 2216 \nQ 1584 2216 1326 1975 \nQ 1069 1734 1069 1313 \nQ 1069 891 1326 650 \nQ 1584 409 2034 409 \nQ 2484 409 2743 651 \nQ 3003 894 3003 1313 \nQ 3003 1734 2745 1975 \nQ 2488 2216 2034 2216 \nz\nM 1403 2484 \nQ 997 2584 770 2862 \nQ 544 3141 544 3541 \nQ 544 4100 942 4425 \nQ 1341 4750 2034 4750 \nQ 2731 4750 3128 4425 \nQ 3525 4100 3525 3541 \nQ 3525 3141 3298 2862 \nQ 3072 2584 2669 2484 \nQ 3125 2378 3379 2068 \nQ 3634 1759 3634 1313 \nQ 3634 634 3220 271 \nQ 2806 -91 2034 -91 \nQ 1263 -91 848 271 \nQ 434 634 434 1313 \nQ 434 1759 690 2068 \nQ 947 2378 1403 2484 \nz\nM 1172 3481 \nQ 1172 3119 1398 2916 \nQ 1625 2713 2034 2713 \nQ 2441 2713 2670 2916 \nQ 2900 3119 2900 3481 \nQ 2900 3844 2670 4047 \nQ 2441 4250 2034 4250 \nQ 1625 4250 1398 4047 \nQ 1172 3844 1172 3481 \nz\n\" transform=\"scale(0.015625)\"/>\n       </defs>\n       <use xlink:href=\"#DejaVuSans-38\"/>\n      </g>\n     </g>\n    </g>\n    <g id=\"xtick_6\">\n     <g id=\"line2d_6\">\n      <g>\n       <use xlink:href=\"#maa3938fea4\" x=\"225.403125\" y=\"145.8\" style=\"stroke: #000000; stroke-width: 0.8\"/>\n      </g>\n     </g>\n     <g id=\"text_6\">\n      <!-- 10 -->\n      <g transform=\"translate(219.040625 160.398438) scale(0.1 -0.1)\">\n       <defs>\n        <path id=\"DejaVuSans-31\" d=\"M 794 531 \nL 1825 531 \nL 1825 4091 \nL 703 3866 \nL 703 4441 \nL 1819 4666 \nL 2450 4666 \nL 2450 531 \nL 3481 531 \nL 3481 0 \nL 794 0 \nL 794 531 \nz\n\" transform=\"scale(0.015625)\"/>\n       </defs>\n       <use xlink:href=\"#DejaVuSans-31\"/>\n       <use xlink:href=\"#DejaVuSans-30\" x=\"63.623047\"/>\n      </g>\n     </g>\n    </g>\n    <g id=\"text_7\">\n     <!-- epoch -->\n     <g transform=\"translate(112.525 174.076563) scale(0.1 -0.1)\">\n      <defs>\n       <path id=\"DejaVuSans-65\" d=\"M 3597 1894 \nL 3597 1613 \nL 953 1613 \nQ 991 1019 1311 708 \nQ 1631 397 2203 397 \nQ 2534 397 2845 478 \nQ 3156 559 3463 722 \nL 3463 178 \nQ 3153 47 2828 -22 \nQ 2503 -91 2169 -91 \nQ 1331 -91 842 396 \nQ 353 884 353 1716 \nQ 353 2575 817 3079 \nQ 1281 3584 2069 3584 \nQ 2775 3584 3186 3129 \nQ 3597 2675 3597 1894 \nz\nM 3022 2063 \nQ 3016 2534 2758 2815 \nQ 2500 3097 2075 3097 \nQ 1594 3097 1305 2825 \nQ 1016 2553 972 2059 \nL 3022 2063 \nz\n\" transform=\"scale(0.015625)\"/>\n       <path id=\"DejaVuSans-70\" d=\"M 1159 525 \nL 1159 -1331 \nL 581 -1331 \nL 581 3500 \nL 1159 3500 \nL 1159 2969 \nQ 1341 3281 1617 3432 \nQ 1894 3584 2278 3584 \nQ 2916 3584 3314 3078 \nQ 3713 2572 3713 1747 \nQ 3713 922 3314 415 \nQ 2916 -91 2278 -91 \nQ 1894 -91 1617 61 \nQ 1341 213 1159 525 \nz\nM 3116 1747 \nQ 3116 2381 2855 2742 \nQ 2594 3103 2138 3103 \nQ 1681 3103 1420 2742 \nQ 1159 2381 1159 1747 \nQ 1159 1113 1420 752 \nQ 1681 391 2138 391 \nQ 2594 391 2855 752 \nQ 3116 1113 3116 1747 \nz\n\" transform=\"scale(0.015625)\"/>\n       <path id=\"DejaVuSans-6f\" d=\"M 1959 3097 \nQ 1497 3097 1228 2736 \nQ 959 2375 959 1747 \nQ 959 1119 1226 758 \nQ 1494 397 1959 397 \nQ 2419 397 2687 759 \nQ 2956 1122 2956 1747 \nQ 2956 2369 2687 2733 \nQ 2419 3097 1959 3097 \nz\nM 1959 3584 \nQ 2709 3584 3137 3096 \nQ 3566 2609 3566 1747 \nQ 3566 888 3137 398 \nQ 2709 -91 1959 -91 \nQ 1206 -91 779 398 \nQ 353 888 353 1747 \nQ 353 2609 779 3096 \nQ 1206 3584 1959 3584 \nz\n\" transform=\"scale(0.015625)\"/>\n       <path id=\"DejaVuSans-63\" d=\"M 3122 3366 \nL 3122 2828 \nQ 2878 2963 2633 3030 \nQ 2388 3097 2138 3097 \nQ 1578 3097 1268 2742 \nQ 959 2388 959 1747 \nQ 959 1106 1268 751 \nQ 1578 397 2138 397 \nQ 2388 397 2633 464 \nQ 2878 531 3122 666 \nL 3122 134 \nQ 2881 22 2623 -34 \nQ 2366 -91 2075 -91 \nQ 1284 -91 818 406 \nQ 353 903 353 1747 \nQ 353 2603 823 3093 \nQ 1294 3584 2113 3584 \nQ 2378 3584 2631 3529 \nQ 2884 3475 3122 3366 \nz\n\" transform=\"scale(0.015625)\"/>\n       <path id=\"DejaVuSans-68\" d=\"M 3513 2113 \nL 3513 0 \nL 2938 0 \nL 2938 2094 \nQ 2938 2591 2744 2837 \nQ 2550 3084 2163 3084 \nQ 1697 3084 1428 2787 \nQ 1159 2491 1159 1978 \nL 1159 0 \nL 581 0 \nL 581 4863 \nL 1159 4863 \nL 1159 2956 \nQ 1366 3272 1645 3428 \nQ 1925 3584 2291 3584 \nQ 2894 3584 3203 3211 \nQ 3513 2838 3513 2113 \nz\n\" transform=\"scale(0.015625)\"/>\n      </defs>\n      <use xlink:href=\"#DejaVuSans-65\"/>\n      <use xlink:href=\"#DejaVuSans-70\" x=\"61.523438\"/>\n      <use xlink:href=\"#DejaVuSans-6f\" x=\"125\"/>\n      <use xlink:href=\"#DejaVuSans-63\" x=\"186.181641\"/>\n      <use xlink:href=\"#DejaVuSans-68\" x=\"241.162109\"/>\n     </g>\n    </g>\n   </g>\n   <g id=\"matplotlib.axis_2\">\n    <g id=\"ytick_1\">\n     <g id=\"line2d_7\">\n      <defs>\n       <path id=\"m703120db96\" d=\"M 0 0 \nL -3.5 0 \n\" style=\"stroke: #000000; stroke-width: 0.8\"/>\n      </defs>\n      <g>\n       <use xlink:href=\"#m703120db96\" x=\"30.103125\" y=\"132.777595\" style=\"stroke: #000000; stroke-width: 0.8\"/>\n      </g>\n     </g>\n     <g id=\"text_8\">\n      <!-- 0.2 -->\n      <g transform=\"translate(7.2 136.576814) scale(0.1 -0.1)\">\n       <defs>\n        <path id=\"DejaVuSans-2e\" d=\"M 684 794 \nL 1344 794 \nL 1344 0 \nL 684 0 \nL 684 794 \nz\n\" transform=\"scale(0.015625)\"/>\n       </defs>\n       <use xlink:href=\"#DejaVuSans-30\"/>\n       <use xlink:href=\"#DejaVuSans-2e\" x=\"63.623047\"/>\n       <use xlink:href=\"#DejaVuSans-32\" x=\"95.410156\"/>\n      </g>\n     </g>\n    </g>\n    <g id=\"ytick_2\">\n     <g id=\"line2d_8\">\n      <g>\n       <use xlink:href=\"#m703120db96\" x=\"30.103125\" y=\"100.185076\" style=\"stroke: #000000; stroke-width: 0.8\"/>\n      </g>\n     </g>\n     <g id=\"text_9\">\n      <!-- 0.4 -->\n      <g transform=\"translate(7.2 103.984294) scale(0.1 -0.1)\">\n       <use xlink:href=\"#DejaVuSans-30\"/>\n       <use xlink:href=\"#DejaVuSans-2e\" x=\"63.623047\"/>\n       <use xlink:href=\"#DejaVuSans-34\" x=\"95.410156\"/>\n      </g>\n     </g>\n    </g>\n    <g id=\"ytick_3\">\n     <g id=\"line2d_9\">\n      <g>\n       <use xlink:href=\"#m703120db96\" x=\"30.103125\" y=\"67.592556\" style=\"stroke: #000000; stroke-width: 0.8\"/>\n      </g>\n     </g>\n     <g id=\"text_10\">\n      <!-- 0.6 -->\n      <g transform=\"translate(7.2 71.391775) scale(0.1 -0.1)\">\n       <use xlink:href=\"#DejaVuSans-30\"/>\n       <use xlink:href=\"#DejaVuSans-2e\" x=\"63.623047\"/>\n       <use xlink:href=\"#DejaVuSans-36\" x=\"95.410156\"/>\n      </g>\n     </g>\n    </g>\n    <g id=\"ytick_4\">\n     <g id=\"line2d_10\">\n      <g>\n       <use xlink:href=\"#m703120db96\" x=\"30.103125\" y=\"35.000037\" style=\"stroke: #000000; stroke-width: 0.8\"/>\n      </g>\n     </g>\n     <g id=\"text_11\">\n      <!-- 0.8 -->\n      <g transform=\"translate(7.2 38.799256) scale(0.1 -0.1)\">\n       <use xlink:href=\"#DejaVuSans-30\"/>\n       <use xlink:href=\"#DejaVuSans-2e\" x=\"63.623047\"/>\n       <use xlink:href=\"#DejaVuSans-38\" x=\"95.410156\"/>\n      </g>\n     </g>\n    </g>\n   </g>\n   <g id=\"line2d_11\">\n    <path d=\"M 34.954394 13.5 \n\" clip-path=\"url(#p4960dac658)\" style=\"fill: none; stroke: #1f77b4; stroke-width: 1.5; stroke-linecap: square\"/>\n   </g>\n   <g id=\"line2d_12\">\n    <path d=\"M 34.954394 13.5 \nL 44.698573 86.739169 \n\" clip-path=\"url(#p4960dac658)\" style=\"fill: none; stroke: #1f77b4; stroke-width: 1.5; stroke-linecap: square\"/>\n   </g>\n   <g id=\"line2d_13\">\n    <path d=\"M 34.954394 13.5 \nL 44.698573 86.739169 \n\" clip-path=\"url(#p4960dac658)\" style=\"fill: none; stroke: #1f77b4; stroke-width: 1.5; stroke-linecap: square\"/>\n   </g>\n   <g id=\"line2d_14\">\n    <path d=\"M 49.633125 84.911079 \n\" clip-path=\"url(#p4960dac658)\" style=\"fill: none; stroke-dasharray: 5.55,2.4; stroke-dashoffset: 0; stroke: #ff7f0e; stroke-width: 1.5\"/>\n   </g>\n   <g id=\"line2d_15\"/>\n   <g id=\"line2d_16\">\n    <path d=\"M 34.954394 13.5 \nL 44.698573 86.739169 \n\" clip-path=\"url(#p4960dac658)\" style=\"fill: none; stroke: #1f77b4; stroke-width: 1.5; stroke-linecap: square\"/>\n   </g>\n   <g id=\"line2d_17\">\n    <path d=\"M 49.633125 84.911079 \n\" clip-path=\"url(#p4960dac658)\" style=\"fill: none; stroke-dasharray: 5.55,2.4; stroke-dashoffset: 0; stroke: #ff7f0e; stroke-width: 1.5\"/>\n   </g>\n   <g id=\"line2d_18\">\n    <path d=\"M 49.633125 32.076638 \n\" clip-path=\"url(#p4960dac658)\" style=\"fill: none; stroke-dasharray: 9.6,2.4,1.5,2.4; stroke-dashoffset: 0; stroke: #2ca02c; stroke-width: 1.5\"/>\n   </g>\n   <g id=\"line2d_19\">\n    <path d=\"M 34.954394 13.5 \nL 44.698573 86.739169 \nL 54.442752 103.076667 \n\" clip-path=\"url(#p4960dac658)\" style=\"fill: none; stroke: #1f77b4; stroke-width: 1.5; stroke-linecap: square\"/>\n   </g>\n   <g id=\"line2d_20\">\n    <path d=\"M 49.633125 84.911079 \n\" clip-path=\"url(#p4960dac658)\" style=\"fill: none; stroke-dasharray: 5.55,2.4; stroke-dashoffset: 0; stroke: #ff7f0e; stroke-width: 1.5\"/>\n   </g>\n   <g id=\"line2d_21\">\n    <path d=\"M 49.633125 32.076638 \n\" clip-path=\"url(#p4960dac658)\" style=\"fill: none; stroke-dasharray: 9.6,2.4,1.5,2.4; stroke-dashoffset: 0; stroke: #2ca02c; stroke-width: 1.5\"/>\n   </g>\n   <g id=\"line2d_22\">\n    <path d=\"M 34.954394 13.5 \nL 44.698573 86.739169 \nL 54.442752 103.076667 \nL 64.186931 110.465945 \n\" clip-path=\"url(#p4960dac658)\" style=\"fill: none; stroke: #1f77b4; stroke-width: 1.5; stroke-linecap: square\"/>\n   </g>\n   <g id=\"line2d_23\">\n    <path d=\"M 49.633125 84.911079 \n\" clip-path=\"url(#p4960dac658)\" style=\"fill: none; stroke-dasharray: 5.55,2.4; stroke-dashoffset: 0; stroke: #ff7f0e; stroke-width: 1.5\"/>\n   </g>\n   <g id=\"line2d_24\">\n    <path d=\"M 49.633125 32.076638 \n\" clip-path=\"url(#p4960dac658)\" style=\"fill: none; stroke-dasharray: 9.6,2.4,1.5,2.4; stroke-dashoffset: 0; stroke: #2ca02c; stroke-width: 1.5\"/>\n   </g>\n   <g id=\"line2d_25\">\n    <path d=\"M 34.954394 13.5 \nL 44.698573 86.739169 \nL 54.442752 103.076667 \nL 64.186931 110.465945 \n\" clip-path=\"url(#p4960dac658)\" style=\"fill: none; stroke: #1f77b4; stroke-width: 1.5; stroke-linecap: square\"/>\n   </g>\n   <g id=\"line2d_26\">\n    <path d=\"M 49.633125 84.911079 \nL 69.163125 100.238848 \n\" clip-path=\"url(#p4960dac658)\" style=\"fill: none; stroke-dasharray: 5.55,2.4; stroke-dashoffset: 0; stroke: #ff7f0e; stroke-width: 1.5\"/>\n   </g>\n   <g id=\"line2d_27\">\n    <path d=\"M 49.633125 32.076638 \n\" clip-path=\"url(#p4960dac658)\" style=\"fill: none; stroke-dasharray: 9.6,2.4,1.5,2.4; stroke-dashoffset: 0; stroke: #2ca02c; stroke-width: 1.5\"/>\n   </g>\n   <g id=\"line2d_28\">\n    <path d=\"M 34.954394 13.5 \nL 44.698573 86.739169 \nL 54.442752 103.076667 \nL 64.186931 110.465945 \n\" clip-path=\"url(#p4960dac658)\" style=\"fill: none; stroke: #1f77b4; stroke-width: 1.5; stroke-linecap: square\"/>\n   </g>\n   <g id=\"line2d_29\">\n    <path d=\"M 49.633125 84.911079 \nL 69.163125 100.238848 \n\" clip-path=\"url(#p4960dac658)\" style=\"fill: none; stroke-dasharray: 5.55,2.4; stroke-dashoffset: 0; stroke: #ff7f0e; stroke-width: 1.5\"/>\n   </g>\n   <g id=\"line2d_30\">\n    <path d=\"M 49.633125 32.076638 \nL 69.163125 25.823721 \n\" clip-path=\"url(#p4960dac658)\" style=\"fill: none; stroke-dasharray: 9.6,2.4,1.5,2.4; stroke-dashoffset: 0; stroke: #2ca02c; stroke-width: 1.5\"/>\n   </g>\n   <g id=\"line2d_31\">\n    <path d=\"M 34.954394 13.5 \nL 44.698573 86.739169 \nL 54.442752 103.076667 \nL 64.186931 110.465945 \nL 73.93111 116.330671 \n\" clip-path=\"url(#p4960dac658)\" style=\"fill: none; stroke: #1f77b4; stroke-width: 1.5; stroke-linecap: square\"/>\n   </g>\n   <g id=\"line2d_32\">\n    <path d=\"M 49.633125 84.911079 \nL 69.163125 100.238848 \n\" clip-path=\"url(#p4960dac658)\" style=\"fill: none; stroke-dasharray: 5.55,2.4; stroke-dashoffset: 0; stroke: #ff7f0e; stroke-width: 1.5\"/>\n   </g>\n   <g id=\"line2d_33\">\n    <path d=\"M 49.633125 32.076638 \nL 69.163125 25.823721 \n\" clip-path=\"url(#p4960dac658)\" style=\"fill: none; stroke-dasharray: 9.6,2.4,1.5,2.4; stroke-dashoffset: 0; stroke: #2ca02c; stroke-width: 1.5\"/>\n   </g>\n   <g id=\"line2d_34\">\n    <path d=\"M 34.954394 13.5 \nL 44.698573 86.739169 \nL 54.442752 103.076667 \nL 64.186931 110.465945 \nL 73.93111 116.330671 \nL 83.675289 117.72848 \n\" clip-path=\"url(#p4960dac658)\" style=\"fill: none; stroke: #1f77b4; stroke-width: 1.5; stroke-linecap: square\"/>\n   </g>\n   <g id=\"line2d_35\">\n    <path d=\"M 49.633125 84.911079 \nL 69.163125 100.238848 \n\" clip-path=\"url(#p4960dac658)\" style=\"fill: none; stroke-dasharray: 5.55,2.4; stroke-dashoffset: 0; stroke: #ff7f0e; stroke-width: 1.5\"/>\n   </g>\n   <g id=\"line2d_36\">\n    <path d=\"M 49.633125 32.076638 \nL 69.163125 25.823721 \n\" clip-path=\"url(#p4960dac658)\" style=\"fill: none; stroke-dasharray: 9.6,2.4,1.5,2.4; stroke-dashoffset: 0; stroke: #2ca02c; stroke-width: 1.5\"/>\n   </g>\n   <g id=\"line2d_37\">\n    <path d=\"M 34.954394 13.5 \nL 44.698573 86.739169 \nL 54.442752 103.076667 \nL 64.186931 110.465945 \nL 73.93111 116.330671 \nL 83.675289 117.72848 \n\" clip-path=\"url(#p4960dac658)\" style=\"fill: none; stroke: #1f77b4; stroke-width: 1.5; stroke-linecap: square\"/>\n   </g>\n   <g id=\"line2d_38\">\n    <path d=\"M 49.633125 84.911079 \nL 69.163125 100.238848 \nL 88.693125 94.404344 \n\" clip-path=\"url(#p4960dac658)\" style=\"fill: none; stroke-dasharray: 5.55,2.4; stroke-dashoffset: 0; stroke: #ff7f0e; stroke-width: 1.5\"/>\n   </g>\n   <g id=\"line2d_39\">\n    <path d=\"M 49.633125 32.076638 \nL 69.163125 25.823721 \n\" clip-path=\"url(#p4960dac658)\" style=\"fill: none; stroke-dasharray: 9.6,2.4,1.5,2.4; stroke-dashoffset: 0; stroke: #2ca02c; stroke-width: 1.5\"/>\n   </g>\n   <g id=\"line2d_40\">\n    <path d=\"M 34.954394 13.5 \nL 44.698573 86.739169 \nL 54.442752 103.076667 \nL 64.186931 110.465945 \nL 73.93111 116.330671 \nL 83.675289 117.72848 \n\" clip-path=\"url(#p4960dac658)\" style=\"fill: none; stroke: #1f77b4; stroke-width: 1.5; stroke-linecap: square\"/>\n   </g>\n   <g id=\"line2d_41\">\n    <path d=\"M 49.633125 84.911079 \nL 69.163125 100.238848 \nL 88.693125 94.404344 \n\" clip-path=\"url(#p4960dac658)\" style=\"fill: none; stroke-dasharray: 5.55,2.4; stroke-dashoffset: 0; stroke: #ff7f0e; stroke-width: 1.5\"/>\n   </g>\n   <g id=\"line2d_42\">\n    <path d=\"M 49.633125 32.076638 \nL 69.163125 25.823721 \nL 88.693125 29.224147 \n\" clip-path=\"url(#p4960dac658)\" style=\"fill: none; stroke-dasharray: 9.6,2.4,1.5,2.4; stroke-dashoffset: 0; stroke: #2ca02c; stroke-width: 1.5\"/>\n   </g>\n   <g id=\"line2d_43\">\n    <path d=\"M 34.954394 13.5 \nL 44.698573 86.739169 \nL 54.442752 103.076667 \nL 64.186931 110.465945 \nL 73.93111 116.330671 \nL 83.675289 117.72848 \nL 93.419468 122.473004 \n\" clip-path=\"url(#p4960dac658)\" style=\"fill: none; stroke: #1f77b4; stroke-width: 1.5; stroke-linecap: square\"/>\n   </g>\n   <g id=\"line2d_44\">\n    <path d=\"M 49.633125 84.911079 \nL 69.163125 100.238848 \nL 88.693125 94.404344 \n\" clip-path=\"url(#p4960dac658)\" style=\"fill: none; stroke-dasharray: 5.55,2.4; stroke-dashoffset: 0; stroke: #ff7f0e; stroke-width: 1.5\"/>\n   </g>\n   <g id=\"line2d_45\">\n    <path d=\"M 49.633125 32.076638 \nL 69.163125 25.823721 \nL 88.693125 29.224147 \n\" clip-path=\"url(#p4960dac658)\" style=\"fill: none; stroke-dasharray: 9.6,2.4,1.5,2.4; stroke-dashoffset: 0; stroke: #2ca02c; stroke-width: 1.5\"/>\n   </g>\n   <g id=\"line2d_46\">\n    <path d=\"M 34.954394 13.5 \nL 44.698573 86.739169 \nL 54.442752 103.076667 \nL 64.186931 110.465945 \nL 73.93111 116.330671 \nL 83.675289 117.72848 \nL 93.419468 122.473004 \nL 103.163647 123.539114 \n\" clip-path=\"url(#p4960dac658)\" style=\"fill: none; stroke: #1f77b4; stroke-width: 1.5; stroke-linecap: square\"/>\n   </g>\n   <g id=\"line2d_47\">\n    <path d=\"M 49.633125 84.911079 \nL 69.163125 100.238848 \nL 88.693125 94.404344 \n\" clip-path=\"url(#p4960dac658)\" style=\"fill: none; stroke-dasharray: 5.55,2.4; stroke-dashoffset: 0; stroke: #ff7f0e; stroke-width: 1.5\"/>\n   </g>\n   <g id=\"line2d_48\">\n    <path d=\"M 49.633125 32.076638 \nL 69.163125 25.823721 \nL 88.693125 29.224147 \n\" clip-path=\"url(#p4960dac658)\" style=\"fill: none; stroke-dasharray: 9.6,2.4,1.5,2.4; stroke-dashoffset: 0; stroke: #2ca02c; stroke-width: 1.5\"/>\n   </g>\n   <g id=\"line2d_49\">\n    <path d=\"M 34.954394 13.5 \nL 44.698573 86.739169 \nL 54.442752 103.076667 \nL 64.186931 110.465945 \nL 73.93111 116.330671 \nL 83.675289 117.72848 \nL 93.419468 122.473004 \nL 103.163647 123.539114 \n\" clip-path=\"url(#p4960dac658)\" style=\"fill: none; stroke: #1f77b4; stroke-width: 1.5; stroke-linecap: square\"/>\n   </g>\n   <g id=\"line2d_50\">\n    <path d=\"M 49.633125 84.911079 \nL 69.163125 100.238848 \nL 88.693125 94.404344 \nL 108.223125 111.772446 \n\" clip-path=\"url(#p4960dac658)\" style=\"fill: none; stroke-dasharray: 5.55,2.4; stroke-dashoffset: 0; stroke: #ff7f0e; stroke-width: 1.5\"/>\n   </g>\n   <g id=\"line2d_51\">\n    <path d=\"M 49.633125 32.076638 \nL 69.163125 25.823721 \nL 88.693125 29.224147 \n\" clip-path=\"url(#p4960dac658)\" style=\"fill: none; stroke-dasharray: 9.6,2.4,1.5,2.4; stroke-dashoffset: 0; stroke: #2ca02c; stroke-width: 1.5\"/>\n   </g>\n   <g id=\"line2d_52\">\n    <path d=\"M 34.954394 13.5 \nL 44.698573 86.739169 \nL 54.442752 103.076667 \nL 64.186931 110.465945 \nL 73.93111 116.330671 \nL 83.675289 117.72848 \nL 93.419468 122.473004 \nL 103.163647 123.539114 \n\" clip-path=\"url(#p4960dac658)\" style=\"fill: none; stroke: #1f77b4; stroke-width: 1.5; stroke-linecap: square\"/>\n   </g>\n   <g id=\"line2d_53\">\n    <path d=\"M 49.633125 84.911079 \nL 69.163125 100.238848 \nL 88.693125 94.404344 \nL 108.223125 111.772446 \n\" clip-path=\"url(#p4960dac658)\" style=\"fill: none; stroke-dasharray: 5.55,2.4; stroke-dashoffset: 0; stroke: #ff7f0e; stroke-width: 1.5\"/>\n   </g>\n   <g id=\"line2d_54\">\n    <path d=\"M 49.633125 32.076638 \nL 69.163125 25.823721 \nL 88.693125 29.224147 \nL 108.223125 21.730318 \n\" clip-path=\"url(#p4960dac658)\" style=\"fill: none; stroke-dasharray: 9.6,2.4,1.5,2.4; stroke-dashoffset: 0; stroke: #2ca02c; stroke-width: 1.5\"/>\n   </g>\n   <g id=\"line2d_55\">\n    <path d=\"M 34.954394 13.5 \nL 44.698573 86.739169 \nL 54.442752 103.076667 \nL 64.186931 110.465945 \nL 73.93111 116.330671 \nL 83.675289 117.72848 \nL 93.419468 122.473004 \nL 103.163647 123.539114 \nL 112.907826 127.795578 \n\" clip-path=\"url(#p4960dac658)\" style=\"fill: none; stroke: #1f77b4; stroke-width: 1.5; stroke-linecap: square\"/>\n   </g>\n   <g id=\"line2d_56\">\n    <path d=\"M 49.633125 84.911079 \nL 69.163125 100.238848 \nL 88.693125 94.404344 \nL 108.223125 111.772446 \n\" clip-path=\"url(#p4960dac658)\" style=\"fill: none; stroke-dasharray: 5.55,2.4; stroke-dashoffset: 0; stroke: #ff7f0e; stroke-width: 1.5\"/>\n   </g>\n   <g id=\"line2d_57\">\n    <path d=\"M 49.633125 32.076638 \nL 69.163125 25.823721 \nL 88.693125 29.224147 \nL 108.223125 21.730318 \n\" clip-path=\"url(#p4960dac658)\" style=\"fill: none; stroke-dasharray: 9.6,2.4,1.5,2.4; stroke-dashoffset: 0; stroke: #2ca02c; stroke-width: 1.5\"/>\n   </g>\n   <g id=\"line2d_58\">\n    <path d=\"M 34.954394 13.5 \nL 44.698573 86.739169 \nL 54.442752 103.076667 \nL 64.186931 110.465945 \nL 73.93111 116.330671 \nL 83.675289 117.72848 \nL 93.419468 122.473004 \nL 103.163647 123.539114 \nL 112.907826 127.795578 \nL 122.652006 126.924694 \n\" clip-path=\"url(#p4960dac658)\" style=\"fill: none; stroke: #1f77b4; stroke-width: 1.5; stroke-linecap: square\"/>\n   </g>\n   <g id=\"line2d_59\">\n    <path d=\"M 49.633125 84.911079 \nL 69.163125 100.238848 \nL 88.693125 94.404344 \nL 108.223125 111.772446 \n\" clip-path=\"url(#p4960dac658)\" style=\"fill: none; stroke-dasharray: 5.55,2.4; stroke-dashoffset: 0; stroke: #ff7f0e; stroke-width: 1.5\"/>\n   </g>\n   <g id=\"line2d_60\">\n    <path d=\"M 49.633125 32.076638 \nL 69.163125 25.823721 \nL 88.693125 29.224147 \nL 108.223125 21.730318 \n\" clip-path=\"url(#p4960dac658)\" style=\"fill: none; stroke-dasharray: 9.6,2.4,1.5,2.4; stroke-dashoffset: 0; stroke: #2ca02c; stroke-width: 1.5\"/>\n   </g>\n   <g id=\"line2d_61\">\n    <path d=\"M 34.954394 13.5 \nL 44.698573 86.739169 \nL 54.442752 103.076667 \nL 64.186931 110.465945 \nL 73.93111 116.330671 \nL 83.675289 117.72848 \nL 93.419468 122.473004 \nL 103.163647 123.539114 \nL 112.907826 127.795578 \nL 122.652006 126.924694 \n\" clip-path=\"url(#p4960dac658)\" style=\"fill: none; stroke: #1f77b4; stroke-width: 1.5; stroke-linecap: square\"/>\n   </g>\n   <g id=\"line2d_62\">\n    <path d=\"M 49.633125 84.911079 \nL 69.163125 100.238848 \nL 88.693125 94.404344 \nL 108.223125 111.772446 \nL 127.753125 113.955069 \n\" clip-path=\"url(#p4960dac658)\" style=\"fill: none; stroke-dasharray: 5.55,2.4; stroke-dashoffset: 0; stroke: #ff7f0e; stroke-width: 1.5\"/>\n   </g>\n   <g id=\"line2d_63\">\n    <path d=\"M 49.633125 32.076638 \nL 69.163125 25.823721 \nL 88.693125 29.224147 \nL 108.223125 21.730318 \n\" clip-path=\"url(#p4960dac658)\" style=\"fill: none; stroke-dasharray: 9.6,2.4,1.5,2.4; stroke-dashoffset: 0; stroke: #2ca02c; stroke-width: 1.5\"/>\n   </g>\n   <g id=\"line2d_64\">\n    <path d=\"M 34.954394 13.5 \nL 44.698573 86.739169 \nL 54.442752 103.076667 \nL 64.186931 110.465945 \nL 73.93111 116.330671 \nL 83.675289 117.72848 \nL 93.419468 122.473004 \nL 103.163647 123.539114 \nL 112.907826 127.795578 \nL 122.652006 126.924694 \n\" clip-path=\"url(#p4960dac658)\" style=\"fill: none; stroke: #1f77b4; stroke-width: 1.5; stroke-linecap: square\"/>\n   </g>\n   <g id=\"line2d_65\">\n    <path d=\"M 49.633125 84.911079 \nL 69.163125 100.238848 \nL 88.693125 94.404344 \nL 108.223125 111.772446 \nL 127.753125 113.955069 \n\" clip-path=\"url(#p4960dac658)\" style=\"fill: none; stroke-dasharray: 5.55,2.4; stroke-dashoffset: 0; stroke: #ff7f0e; stroke-width: 1.5\"/>\n   </g>\n   <g id=\"line2d_66\">\n    <path d=\"M 49.633125 32.076638 \nL 69.163125 25.823721 \nL 88.693125 29.224147 \nL 108.223125 21.730318 \nL 127.753125 20.715025 \n\" clip-path=\"url(#p4960dac658)\" style=\"fill: none; stroke-dasharray: 9.6,2.4,1.5,2.4; stroke-dashoffset: 0; stroke: #2ca02c; stroke-width: 1.5\"/>\n   </g>\n   <g id=\"line2d_67\">\n    <path d=\"M 34.954394 13.5 \nL 44.698573 86.739169 \nL 54.442752 103.076667 \nL 64.186931 110.465945 \nL 73.93111 116.330671 \nL 83.675289 117.72848 \nL 93.419468 122.473004 \nL 103.163647 123.539114 \nL 112.907826 127.795578 \nL 122.652006 126.924694 \nL 132.396185 131.134608 \n\" clip-path=\"url(#p4960dac658)\" style=\"fill: none; stroke: #1f77b4; stroke-width: 1.5; stroke-linecap: square\"/>\n   </g>\n   <g id=\"line2d_68\">\n    <path d=\"M 49.633125 84.911079 \nL 69.163125 100.238848 \nL 88.693125 94.404344 \nL 108.223125 111.772446 \nL 127.753125 113.955069 \n\" clip-path=\"url(#p4960dac658)\" style=\"fill: none; stroke-dasharray: 5.55,2.4; stroke-dashoffset: 0; stroke: #ff7f0e; stroke-width: 1.5\"/>\n   </g>\n   <g id=\"line2d_69\">\n    <path d=\"M 49.633125 32.076638 \nL 69.163125 25.823721 \nL 88.693125 29.224147 \nL 108.223125 21.730318 \nL 127.753125 20.715025 \n\" clip-path=\"url(#p4960dac658)\" style=\"fill: none; stroke-dasharray: 9.6,2.4,1.5,2.4; stroke-dashoffset: 0; stroke: #2ca02c; stroke-width: 1.5\"/>\n   </g>\n   <g id=\"line2d_70\">\n    <path d=\"M 34.954394 13.5 \nL 44.698573 86.739169 \nL 54.442752 103.076667 \nL 64.186931 110.465945 \nL 73.93111 116.330671 \nL 83.675289 117.72848 \nL 93.419468 122.473004 \nL 103.163647 123.539114 \nL 112.907826 127.795578 \nL 122.652006 126.924694 \nL 132.396185 131.134608 \nL 142.140364 129.345273 \n\" clip-path=\"url(#p4960dac658)\" style=\"fill: none; stroke: #1f77b4; stroke-width: 1.5; stroke-linecap: square\"/>\n   </g>\n   <g id=\"line2d_71\">\n    <path d=\"M 49.633125 84.911079 \nL 69.163125 100.238848 \nL 88.693125 94.404344 \nL 108.223125 111.772446 \nL 127.753125 113.955069 \n\" clip-path=\"url(#p4960dac658)\" style=\"fill: none; stroke-dasharray: 5.55,2.4; stroke-dashoffset: 0; stroke: #ff7f0e; stroke-width: 1.5\"/>\n   </g>\n   <g id=\"line2d_72\">\n    <path d=\"M 49.633125 32.076638 \nL 69.163125 25.823721 \nL 88.693125 29.224147 \nL 108.223125 21.730318 \nL 127.753125 20.715025 \n\" clip-path=\"url(#p4960dac658)\" style=\"fill: none; stroke-dasharray: 9.6,2.4,1.5,2.4; stroke-dashoffset: 0; stroke: #2ca02c; stroke-width: 1.5\"/>\n   </g>\n   <g id=\"line2d_73\">\n    <path d=\"M 34.954394 13.5 \nL 44.698573 86.739169 \nL 54.442752 103.076667 \nL 64.186931 110.465945 \nL 73.93111 116.330671 \nL 83.675289 117.72848 \nL 93.419468 122.473004 \nL 103.163647 123.539114 \nL 112.907826 127.795578 \nL 122.652006 126.924694 \nL 132.396185 131.134608 \nL 142.140364 129.345273 \n\" clip-path=\"url(#p4960dac658)\" style=\"fill: none; stroke: #1f77b4; stroke-width: 1.5; stroke-linecap: square\"/>\n   </g>\n   <g id=\"line2d_74\">\n    <path d=\"M 49.633125 84.911079 \nL 69.163125 100.238848 \nL 88.693125 94.404344 \nL 108.223125 111.772446 \nL 127.753125 113.955069 \nL 147.283125 122.832643 \n\" clip-path=\"url(#p4960dac658)\" style=\"fill: none; stroke-dasharray: 5.55,2.4; stroke-dashoffset: 0; stroke: #ff7f0e; stroke-width: 1.5\"/>\n   </g>\n   <g id=\"line2d_75\">\n    <path d=\"M 49.633125 32.076638 \nL 69.163125 25.823721 \nL 88.693125 29.224147 \nL 108.223125 21.730318 \nL 127.753125 20.715025 \n\" clip-path=\"url(#p4960dac658)\" style=\"fill: none; stroke-dasharray: 9.6,2.4,1.5,2.4; stroke-dashoffset: 0; stroke: #2ca02c; stroke-width: 1.5\"/>\n   </g>\n   <g id=\"line2d_76\">\n    <path d=\"M 34.954394 13.5 \nL 44.698573 86.739169 \nL 54.442752 103.076667 \nL 64.186931 110.465945 \nL 73.93111 116.330671 \nL 83.675289 117.72848 \nL 93.419468 122.473004 \nL 103.163647 123.539114 \nL 112.907826 127.795578 \nL 122.652006 126.924694 \nL 132.396185 131.134608 \nL 142.140364 129.345273 \n\" clip-path=\"url(#p4960dac658)\" style=\"fill: none; stroke: #1f77b4; stroke-width: 1.5; stroke-linecap: square\"/>\n   </g>\n   <g id=\"line2d_77\">\n    <path d=\"M 49.633125 84.911079 \nL 69.163125 100.238848 \nL 88.693125 94.404344 \nL 108.223125 111.772446 \nL 127.753125 113.955069 \nL 147.283125 122.832643 \n\" clip-path=\"url(#p4960dac658)\" style=\"fill: none; stroke-dasharray: 5.55,2.4; stroke-dashoffset: 0; stroke: #ff7f0e; stroke-width: 1.5\"/>\n   </g>\n   <g id=\"line2d_78\">\n    <path d=\"M 49.633125 32.076638 \nL 69.163125 25.823721 \nL 88.693125 29.224147 \nL 108.223125 21.730318 \nL 127.753125 20.715025 \nL 147.283125 17.23402 \n\" clip-path=\"url(#p4960dac658)\" style=\"fill: none; stroke-dasharray: 9.6,2.4,1.5,2.4; stroke-dashoffset: 0; stroke: #2ca02c; stroke-width: 1.5\"/>\n   </g>\n   <g id=\"line2d_79\">\n    <path d=\"M 34.954394 13.5 \nL 44.698573 86.739169 \nL 54.442752 103.076667 \nL 64.186931 110.465945 \nL 73.93111 116.330671 \nL 83.675289 117.72848 \nL 93.419468 122.473004 \nL 103.163647 123.539114 \nL 112.907826 127.795578 \nL 122.652006 126.924694 \nL 132.396185 131.134608 \nL 142.140364 129.345273 \nL 151.884543 133.035718 \n\" clip-path=\"url(#p4960dac658)\" style=\"fill: none; stroke: #1f77b4; stroke-width: 1.5; stroke-linecap: square\"/>\n   </g>\n   <g id=\"line2d_80\">\n    <path d=\"M 49.633125 84.911079 \nL 69.163125 100.238848 \nL 88.693125 94.404344 \nL 108.223125 111.772446 \nL 127.753125 113.955069 \nL 147.283125 122.832643 \n\" clip-path=\"url(#p4960dac658)\" style=\"fill: none; stroke-dasharray: 5.55,2.4; stroke-dashoffset: 0; stroke: #ff7f0e; stroke-width: 1.5\"/>\n   </g>\n   <g id=\"line2d_81\">\n    <path d=\"M 49.633125 32.076638 \nL 69.163125 25.823721 \nL 88.693125 29.224147 \nL 108.223125 21.730318 \nL 127.753125 20.715025 \nL 147.283125 17.23402 \n\" clip-path=\"url(#p4960dac658)\" style=\"fill: none; stroke-dasharray: 9.6,2.4,1.5,2.4; stroke-dashoffset: 0; stroke: #2ca02c; stroke-width: 1.5\"/>\n   </g>\n   <g id=\"line2d_82\">\n    <path d=\"M 34.954394 13.5 \nL 44.698573 86.739169 \nL 54.442752 103.076667 \nL 64.186931 110.465945 \nL 73.93111 116.330671 \nL 83.675289 117.72848 \nL 93.419468 122.473004 \nL 103.163647 123.539114 \nL 112.907826 127.795578 \nL 122.652006 126.924694 \nL 132.396185 131.134608 \nL 142.140364 129.345273 \nL 151.884543 133.035718 \nL 161.628722 133.037255 \n\" clip-path=\"url(#p4960dac658)\" style=\"fill: none; stroke: #1f77b4; stroke-width: 1.5; stroke-linecap: square\"/>\n   </g>\n   <g id=\"line2d_83\">\n    <path d=\"M 49.633125 84.911079 \nL 69.163125 100.238848 \nL 88.693125 94.404344 \nL 108.223125 111.772446 \nL 127.753125 113.955069 \nL 147.283125 122.832643 \n\" clip-path=\"url(#p4960dac658)\" style=\"fill: none; stroke-dasharray: 5.55,2.4; stroke-dashoffset: 0; stroke: #ff7f0e; stroke-width: 1.5\"/>\n   </g>\n   <g id=\"line2d_84\">\n    <path d=\"M 49.633125 32.076638 \nL 69.163125 25.823721 \nL 88.693125 29.224147 \nL 108.223125 21.730318 \nL 127.753125 20.715025 \nL 147.283125 17.23402 \n\" clip-path=\"url(#p4960dac658)\" style=\"fill: none; stroke-dasharray: 9.6,2.4,1.5,2.4; stroke-dashoffset: 0; stroke: #2ca02c; stroke-width: 1.5\"/>\n   </g>\n   <g id=\"line2d_85\">\n    <path d=\"M 34.954394 13.5 \nL 44.698573 86.739169 \nL 54.442752 103.076667 \nL 64.186931 110.465945 \nL 73.93111 116.330671 \nL 83.675289 117.72848 \nL 93.419468 122.473004 \nL 103.163647 123.539114 \nL 112.907826 127.795578 \nL 122.652006 126.924694 \nL 132.396185 131.134608 \nL 142.140364 129.345273 \nL 151.884543 133.035718 \nL 161.628722 133.037255 \n\" clip-path=\"url(#p4960dac658)\" style=\"fill: none; stroke: #1f77b4; stroke-width: 1.5; stroke-linecap: square\"/>\n   </g>\n   <g id=\"line2d_86\">\n    <path d=\"M 49.633125 84.911079 \nL 69.163125 100.238848 \nL 88.693125 94.404344 \nL 108.223125 111.772446 \nL 127.753125 113.955069 \nL 147.283125 122.832643 \nL 166.813125 123.437676 \n\" clip-path=\"url(#p4960dac658)\" style=\"fill: none; stroke-dasharray: 5.55,2.4; stroke-dashoffset: 0; stroke: #ff7f0e; stroke-width: 1.5\"/>\n   </g>\n   <g id=\"line2d_87\">\n    <path d=\"M 49.633125 32.076638 \nL 69.163125 25.823721 \nL 88.693125 29.224147 \nL 108.223125 21.730318 \nL 127.753125 20.715025 \nL 147.283125 17.23402 \n\" clip-path=\"url(#p4960dac658)\" style=\"fill: none; stroke-dasharray: 9.6,2.4,1.5,2.4; stroke-dashoffset: 0; stroke: #2ca02c; stroke-width: 1.5\"/>\n   </g>\n   <g id=\"line2d_88\">\n    <path d=\"M 34.954394 13.5 \nL 44.698573 86.739169 \nL 54.442752 103.076667 \nL 64.186931 110.465945 \nL 73.93111 116.330671 \nL 83.675289 117.72848 \nL 93.419468 122.473004 \nL 103.163647 123.539114 \nL 112.907826 127.795578 \nL 122.652006 126.924694 \nL 132.396185 131.134608 \nL 142.140364 129.345273 \nL 151.884543 133.035718 \nL 161.628722 133.037255 \n\" clip-path=\"url(#p4960dac658)\" style=\"fill: none; stroke: #1f77b4; stroke-width: 1.5; stroke-linecap: square\"/>\n   </g>\n   <g id=\"line2d_89\">\n    <path d=\"M 49.633125 84.911079 \nL 69.163125 100.238848 \nL 88.693125 94.404344 \nL 108.223125 111.772446 \nL 127.753125 113.955069 \nL 147.283125 122.832643 \nL 166.813125 123.437676 \n\" clip-path=\"url(#p4960dac658)\" style=\"fill: none; stroke-dasharray: 5.55,2.4; stroke-dashoffset: 0; stroke: #ff7f0e; stroke-width: 1.5\"/>\n   </g>\n   <g id=\"line2d_90\">\n    <path d=\"M 49.633125 32.076638 \nL 69.163125 25.823721 \nL 88.693125 29.224147 \nL 108.223125 21.730318 \nL 127.753125 20.715025 \nL 147.283125 17.23402 \nL 166.813125 17.362946 \n\" clip-path=\"url(#p4960dac658)\" style=\"fill: none; stroke-dasharray: 9.6,2.4,1.5,2.4; stroke-dashoffset: 0; stroke: #2ca02c; stroke-width: 1.5\"/>\n   </g>\n   <g id=\"line2d_91\">\n    <path d=\"M 34.954394 13.5 \nL 44.698573 86.739169 \nL 54.442752 103.076667 \nL 64.186931 110.465945 \nL 73.93111 116.330671 \nL 83.675289 117.72848 \nL 93.419468 122.473004 \nL 103.163647 123.539114 \nL 112.907826 127.795578 \nL 122.652006 126.924694 \nL 132.396185 131.134608 \nL 142.140364 129.345273 \nL 151.884543 133.035718 \nL 161.628722 133.037255 \nL 171.372901 135.426435 \n\" clip-path=\"url(#p4960dac658)\" style=\"fill: none; stroke: #1f77b4; stroke-width: 1.5; stroke-linecap: square\"/>\n   </g>\n   <g id=\"line2d_92\">\n    <path d=\"M 49.633125 84.911079 \nL 69.163125 100.238848 \nL 88.693125 94.404344 \nL 108.223125 111.772446 \nL 127.753125 113.955069 \nL 147.283125 122.832643 \nL 166.813125 123.437676 \n\" clip-path=\"url(#p4960dac658)\" style=\"fill: none; stroke-dasharray: 5.55,2.4; stroke-dashoffset: 0; stroke: #ff7f0e; stroke-width: 1.5\"/>\n   </g>\n   <g id=\"line2d_93\">\n    <path d=\"M 49.633125 32.076638 \nL 69.163125 25.823721 \nL 88.693125 29.224147 \nL 108.223125 21.730318 \nL 127.753125 20.715025 \nL 147.283125 17.23402 \nL 166.813125 17.362946 \n\" clip-path=\"url(#p4960dac658)\" style=\"fill: none; stroke-dasharray: 9.6,2.4,1.5,2.4; stroke-dashoffset: 0; stroke: #2ca02c; stroke-width: 1.5\"/>\n   </g>\n   <g id=\"line2d_94\">\n    <path d=\"M 34.954394 13.5 \nL 44.698573 86.739169 \nL 54.442752 103.076667 \nL 64.186931 110.465945 \nL 73.93111 116.330671 \nL 83.675289 117.72848 \nL 93.419468 122.473004 \nL 103.163647 123.539114 \nL 112.907826 127.795578 \nL 122.652006 126.924694 \nL 132.396185 131.134608 \nL 142.140364 129.345273 \nL 151.884543 133.035718 \nL 161.628722 133.037255 \nL 171.372901 135.426435 \nL 181.11708 134.529792 \n\" clip-path=\"url(#p4960dac658)\" style=\"fill: none; stroke: #1f77b4; stroke-width: 1.5; stroke-linecap: square\"/>\n   </g>\n   <g id=\"line2d_95\">\n    <path d=\"M 49.633125 84.911079 \nL 69.163125 100.238848 \nL 88.693125 94.404344 \nL 108.223125 111.772446 \nL 127.753125 113.955069 \nL 147.283125 122.832643 \nL 166.813125 123.437676 \n\" clip-path=\"url(#p4960dac658)\" style=\"fill: none; stroke-dasharray: 5.55,2.4; stroke-dashoffset: 0; stroke: #ff7f0e; stroke-width: 1.5\"/>\n   </g>\n   <g id=\"line2d_96\">\n    <path d=\"M 49.633125 32.076638 \nL 69.163125 25.823721 \nL 88.693125 29.224147 \nL 108.223125 21.730318 \nL 127.753125 20.715025 \nL 147.283125 17.23402 \nL 166.813125 17.362946 \n\" clip-path=\"url(#p4960dac658)\" style=\"fill: none; stroke-dasharray: 9.6,2.4,1.5,2.4; stroke-dashoffset: 0; stroke: #2ca02c; stroke-width: 1.5\"/>\n   </g>\n   <g id=\"line2d_97\">\n    <path d=\"M 34.954394 13.5 \nL 44.698573 86.739169 \nL 54.442752 103.076667 \nL 64.186931 110.465945 \nL 73.93111 116.330671 \nL 83.675289 117.72848 \nL 93.419468 122.473004 \nL 103.163647 123.539114 \nL 112.907826 127.795578 \nL 122.652006 126.924694 \nL 132.396185 131.134608 \nL 142.140364 129.345273 \nL 151.884543 133.035718 \nL 161.628722 133.037255 \nL 171.372901 135.426435 \nL 181.11708 134.529792 \n\" clip-path=\"url(#p4960dac658)\" style=\"fill: none; stroke: #1f77b4; stroke-width: 1.5; stroke-linecap: square\"/>\n   </g>\n   <g id=\"line2d_98\">\n    <path d=\"M 49.633125 84.911079 \nL 69.163125 100.238848 \nL 88.693125 94.404344 \nL 108.223125 111.772446 \nL 127.753125 113.955069 \nL 147.283125 122.832643 \nL 166.813125 123.437676 \nL 186.343125 116.664778 \n\" clip-path=\"url(#p4960dac658)\" style=\"fill: none; stroke-dasharray: 5.55,2.4; stroke-dashoffset: 0; stroke: #ff7f0e; stroke-width: 1.5\"/>\n   </g>\n   <g id=\"line2d_99\">\n    <path d=\"M 49.633125 32.076638 \nL 69.163125 25.823721 \nL 88.693125 29.224147 \nL 108.223125 21.730318 \nL 127.753125 20.715025 \nL 147.283125 17.23402 \nL 166.813125 17.362946 \n\" clip-path=\"url(#p4960dac658)\" style=\"fill: none; stroke-dasharray: 9.6,2.4,1.5,2.4; stroke-dashoffset: 0; stroke: #2ca02c; stroke-width: 1.5\"/>\n   </g>\n   <g id=\"line2d_100\">\n    <path d=\"M 34.954394 13.5 \nL 44.698573 86.739169 \nL 54.442752 103.076667 \nL 64.186931 110.465945 \nL 73.93111 116.330671 \nL 83.675289 117.72848 \nL 93.419468 122.473004 \nL 103.163647 123.539114 \nL 112.907826 127.795578 \nL 122.652006 126.924694 \nL 132.396185 131.134608 \nL 142.140364 129.345273 \nL 151.884543 133.035718 \nL 161.628722 133.037255 \nL 171.372901 135.426435 \nL 181.11708 134.529792 \n\" clip-path=\"url(#p4960dac658)\" style=\"fill: none; stroke: #1f77b4; stroke-width: 1.5; stroke-linecap: square\"/>\n   </g>\n   <g id=\"line2d_101\">\n    <path d=\"M 49.633125 84.911079 \nL 69.163125 100.238848 \nL 88.693125 94.404344 \nL 108.223125 111.772446 \nL 127.753125 113.955069 \nL 147.283125 122.832643 \nL 166.813125 123.437676 \nL 186.343125 116.664778 \n\" clip-path=\"url(#p4960dac658)\" style=\"fill: none; stroke-dasharray: 5.55,2.4; stroke-dashoffset: 0; stroke: #ff7f0e; stroke-width: 1.5\"/>\n   </g>\n   <g id=\"line2d_102\">\n    <path d=\"M 49.633125 32.076638 \nL 69.163125 25.823721 \nL 88.693125 29.224147 \nL 108.223125 21.730318 \nL 127.753125 20.715025 \nL 147.283125 17.23402 \nL 166.813125 17.362946 \nL 186.343125 19.200143 \n\" clip-path=\"url(#p4960dac658)\" style=\"fill: none; stroke-dasharray: 9.6,2.4,1.5,2.4; stroke-dashoffset: 0; stroke: #2ca02c; stroke-width: 1.5\"/>\n   </g>\n   <g id=\"line2d_103\">\n    <path d=\"M 34.954394 13.5 \nL 44.698573 86.739169 \nL 54.442752 103.076667 \nL 64.186931 110.465945 \nL 73.93111 116.330671 \nL 83.675289 117.72848 \nL 93.419468 122.473004 \nL 103.163647 123.539114 \nL 112.907826 127.795578 \nL 122.652006 126.924694 \nL 132.396185 131.134608 \nL 142.140364 129.345273 \nL 151.884543 133.035718 \nL 161.628722 133.037255 \nL 171.372901 135.426435 \nL 181.11708 134.529792 \nL 190.861259 138.407355 \n\" clip-path=\"url(#p4960dac658)\" style=\"fill: none; stroke: #1f77b4; stroke-width: 1.5; stroke-linecap: square\"/>\n   </g>\n   <g id=\"line2d_104\">\n    <path d=\"M 49.633125 84.911079 \nL 69.163125 100.238848 \nL 88.693125 94.404344 \nL 108.223125 111.772446 \nL 127.753125 113.955069 \nL 147.283125 122.832643 \nL 166.813125 123.437676 \nL 186.343125 116.664778 \n\" clip-path=\"url(#p4960dac658)\" style=\"fill: none; stroke-dasharray: 5.55,2.4; stroke-dashoffset: 0; stroke: #ff7f0e; stroke-width: 1.5\"/>\n   </g>\n   <g id=\"line2d_105\">\n    <path d=\"M 49.633125 32.076638 \nL 69.163125 25.823721 \nL 88.693125 29.224147 \nL 108.223125 21.730318 \nL 127.753125 20.715025 \nL 147.283125 17.23402 \nL 166.813125 17.362946 \nL 186.343125 19.200143 \n\" clip-path=\"url(#p4960dac658)\" style=\"fill: none; stroke-dasharray: 9.6,2.4,1.5,2.4; stroke-dashoffset: 0; stroke: #2ca02c; stroke-width: 1.5\"/>\n   </g>\n   <g id=\"line2d_106\">\n    <path d=\"M 34.954394 13.5 \nL 44.698573 86.739169 \nL 54.442752 103.076667 \nL 64.186931 110.465945 \nL 73.93111 116.330671 \nL 83.675289 117.72848 \nL 93.419468 122.473004 \nL 103.163647 123.539114 \nL 112.907826 127.795578 \nL 122.652006 126.924694 \nL 132.396185 131.134608 \nL 142.140364 129.345273 \nL 151.884543 133.035718 \nL 161.628722 133.037255 \nL 171.372901 135.426435 \nL 181.11708 134.529792 \nL 190.861259 138.407355 \nL 200.605438 135.847852 \n\" clip-path=\"url(#p4960dac658)\" style=\"fill: none; stroke: #1f77b4; stroke-width: 1.5; stroke-linecap: square\"/>\n   </g>\n   <g id=\"line2d_107\">\n    <path d=\"M 49.633125 84.911079 \nL 69.163125 100.238848 \nL 88.693125 94.404344 \nL 108.223125 111.772446 \nL 127.753125 113.955069 \nL 147.283125 122.832643 \nL 166.813125 123.437676 \nL 186.343125 116.664778 \n\" clip-path=\"url(#p4960dac658)\" style=\"fill: none; stroke-dasharray: 5.55,2.4; stroke-dashoffset: 0; stroke: #ff7f0e; stroke-width: 1.5\"/>\n   </g>\n   <g id=\"line2d_108\">\n    <path d=\"M 49.633125 32.076638 \nL 69.163125 25.823721 \nL 88.693125 29.224147 \nL 108.223125 21.730318 \nL 127.753125 20.715025 \nL 147.283125 17.23402 \nL 166.813125 17.362946 \nL 186.343125 19.200143 \n\" clip-path=\"url(#p4960dac658)\" style=\"fill: none; stroke-dasharray: 9.6,2.4,1.5,2.4; stroke-dashoffset: 0; stroke: #2ca02c; stroke-width: 1.5\"/>\n   </g>\n   <g id=\"line2d_109\">\n    <path d=\"M 34.954394 13.5 \nL 44.698573 86.739169 \nL 54.442752 103.076667 \nL 64.186931 110.465945 \nL 73.93111 116.330671 \nL 83.675289 117.72848 \nL 93.419468 122.473004 \nL 103.163647 123.539114 \nL 112.907826 127.795578 \nL 122.652006 126.924694 \nL 132.396185 131.134608 \nL 142.140364 129.345273 \nL 151.884543 133.035718 \nL 161.628722 133.037255 \nL 171.372901 135.426435 \nL 181.11708 134.529792 \nL 190.861259 138.407355 \nL 200.605438 135.847852 \n\" clip-path=\"url(#p4960dac658)\" style=\"fill: none; stroke: #1f77b4; stroke-width: 1.5; stroke-linecap: square\"/>\n   </g>\n   <g id=\"line2d_110\">\n    <path d=\"M 49.633125 84.911079 \nL 69.163125 100.238848 \nL 88.693125 94.404344 \nL 108.223125 111.772446 \nL 127.753125 113.955069 \nL 147.283125 122.832643 \nL 166.813125 123.437676 \nL 186.343125 116.664778 \nL 205.873125 105.455013 \n\" clip-path=\"url(#p4960dac658)\" style=\"fill: none; stroke-dasharray: 5.55,2.4; stroke-dashoffset: 0; stroke: #ff7f0e; stroke-width: 1.5\"/>\n   </g>\n   <g id=\"line2d_111\">\n    <path d=\"M 49.633125 32.076638 \nL 69.163125 25.823721 \nL 88.693125 29.224147 \nL 108.223125 21.730318 \nL 127.753125 20.715025 \nL 147.283125 17.23402 \nL 166.813125 17.362946 \nL 186.343125 19.200143 \n\" clip-path=\"url(#p4960dac658)\" style=\"fill: none; stroke-dasharray: 9.6,2.4,1.5,2.4; stroke-dashoffset: 0; stroke: #2ca02c; stroke-width: 1.5\"/>\n   </g>\n   <g id=\"line2d_112\">\n    <path d=\"M 34.954394 13.5 \nL 44.698573 86.739169 \nL 54.442752 103.076667 \nL 64.186931 110.465945 \nL 73.93111 116.330671 \nL 83.675289 117.72848 \nL 93.419468 122.473004 \nL 103.163647 123.539114 \nL 112.907826 127.795578 \nL 122.652006 126.924694 \nL 132.396185 131.134608 \nL 142.140364 129.345273 \nL 151.884543 133.035718 \nL 161.628722 133.037255 \nL 171.372901 135.426435 \nL 181.11708 134.529792 \nL 190.861259 138.407355 \nL 200.605438 135.847852 \n\" clip-path=\"url(#p4960dac658)\" style=\"fill: none; stroke: #1f77b4; stroke-width: 1.5; stroke-linecap: square\"/>\n   </g>\n   <g id=\"line2d_113\">\n    <path d=\"M 49.633125 84.911079 \nL 69.163125 100.238848 \nL 88.693125 94.404344 \nL 108.223125 111.772446 \nL 127.753125 113.955069 \nL 147.283125 122.832643 \nL 166.813125 123.437676 \nL 186.343125 116.664778 \nL 205.873125 105.455013 \n\" clip-path=\"url(#p4960dac658)\" style=\"fill: none; stroke-dasharray: 5.55,2.4; stroke-dashoffset: 0; stroke: #ff7f0e; stroke-width: 1.5\"/>\n   </g>\n   <g id=\"line2d_114\">\n    <path d=\"M 49.633125 32.076638 \nL 69.163125 25.823721 \nL 88.693125 29.224147 \nL 108.223125 21.730318 \nL 127.753125 20.715025 \nL 147.283125 17.23402 \nL 166.813125 17.362946 \nL 186.343125 19.200143 \nL 205.873125 23.261315 \n\" clip-path=\"url(#p4960dac658)\" style=\"fill: none; stroke-dasharray: 9.6,2.4,1.5,2.4; stroke-dashoffset: 0; stroke: #2ca02c; stroke-width: 1.5\"/>\n   </g>\n   <g id=\"line2d_115\">\n    <path d=\"M 34.954394 13.5 \nL 44.698573 86.739169 \nL 54.442752 103.076667 \nL 64.186931 110.465945 \nL 73.93111 116.330671 \nL 83.675289 117.72848 \nL 93.419468 122.473004 \nL 103.163647 123.539114 \nL 112.907826 127.795578 \nL 122.652006 126.924694 \nL 132.396185 131.134608 \nL 142.140364 129.345273 \nL 151.884543 133.035718 \nL 161.628722 133.037255 \nL 171.372901 135.426435 \nL 181.11708 134.529792 \nL 190.861259 138.407355 \nL 200.605438 135.847852 \nL 210.349618 139.5 \n\" clip-path=\"url(#p4960dac658)\" style=\"fill: none; stroke: #1f77b4; stroke-width: 1.5; stroke-linecap: square\"/>\n   </g>\n   <g id=\"line2d_116\">\n    <path d=\"M 49.633125 84.911079 \nL 69.163125 100.238848 \nL 88.693125 94.404344 \nL 108.223125 111.772446 \nL 127.753125 113.955069 \nL 147.283125 122.832643 \nL 166.813125 123.437676 \nL 186.343125 116.664778 \nL 205.873125 105.455013 \n\" clip-path=\"url(#p4960dac658)\" style=\"fill: none; stroke-dasharray: 5.55,2.4; stroke-dashoffset: 0; stroke: #ff7f0e; stroke-width: 1.5\"/>\n   </g>\n   <g id=\"line2d_117\">\n    <path d=\"M 49.633125 32.076638 \nL 69.163125 25.823721 \nL 88.693125 29.224147 \nL 108.223125 21.730318 \nL 127.753125 20.715025 \nL 147.283125 17.23402 \nL 166.813125 17.362946 \nL 186.343125 19.200143 \nL 205.873125 23.261315 \n\" clip-path=\"url(#p4960dac658)\" style=\"fill: none; stroke-dasharray: 9.6,2.4,1.5,2.4; stroke-dashoffset: 0; stroke: #2ca02c; stroke-width: 1.5\"/>\n   </g>\n   <g id=\"line2d_118\">\n    <path d=\"M 34.954394 13.5 \nL 44.698573 86.739169 \nL 54.442752 103.076667 \nL 64.186931 110.465945 \nL 73.93111 116.330671 \nL 83.675289 117.72848 \nL 93.419468 122.473004 \nL 103.163647 123.539114 \nL 112.907826 127.795578 \nL 122.652006 126.924694 \nL 132.396185 131.134608 \nL 142.140364 129.345273 \nL 151.884543 133.035718 \nL 161.628722 133.037255 \nL 171.372901 135.426435 \nL 181.11708 134.529792 \nL 190.861259 138.407355 \nL 200.605438 135.847852 \nL 210.349618 139.5 \nL 220.093797 138.53374 \n\" clip-path=\"url(#p4960dac658)\" style=\"fill: none; stroke: #1f77b4; stroke-width: 1.5; stroke-linecap: square\"/>\n   </g>\n   <g id=\"line2d_119\">\n    <path d=\"M 49.633125 84.911079 \nL 69.163125 100.238848 \nL 88.693125 94.404344 \nL 108.223125 111.772446 \nL 127.753125 113.955069 \nL 147.283125 122.832643 \nL 166.813125 123.437676 \nL 186.343125 116.664778 \nL 205.873125 105.455013 \n\" clip-path=\"url(#p4960dac658)\" style=\"fill: none; stroke-dasharray: 5.55,2.4; stroke-dashoffset: 0; stroke: #ff7f0e; stroke-width: 1.5\"/>\n   </g>\n   <g id=\"line2d_120\">\n    <path d=\"M 49.633125 32.076638 \nL 69.163125 25.823721 \nL 88.693125 29.224147 \nL 108.223125 21.730318 \nL 127.753125 20.715025 \nL 147.283125 17.23402 \nL 166.813125 17.362946 \nL 186.343125 19.200143 \nL 205.873125 23.261315 \n\" clip-path=\"url(#p4960dac658)\" style=\"fill: none; stroke-dasharray: 9.6,2.4,1.5,2.4; stroke-dashoffset: 0; stroke: #2ca02c; stroke-width: 1.5\"/>\n   </g>\n   <g id=\"line2d_121\">\n    <path d=\"M 34.954394 13.5 \nL 44.698573 86.739169 \nL 54.442752 103.076667 \nL 64.186931 110.465945 \nL 73.93111 116.330671 \nL 83.675289 117.72848 \nL 93.419468 122.473004 \nL 103.163647 123.539114 \nL 112.907826 127.795578 \nL 122.652006 126.924694 \nL 132.396185 131.134608 \nL 142.140364 129.345273 \nL 151.884543 133.035718 \nL 161.628722 133.037255 \nL 171.372901 135.426435 \nL 181.11708 134.529792 \nL 190.861259 138.407355 \nL 200.605438 135.847852 \nL 210.349618 139.5 \nL 220.093797 138.53374 \n\" clip-path=\"url(#p4960dac658)\" style=\"fill: none; stroke: #1f77b4; stroke-width: 1.5; stroke-linecap: square\"/>\n   </g>\n   <g id=\"line2d_122\">\n    <path d=\"M 49.633125 84.911079 \nL 69.163125 100.238848 \nL 88.693125 94.404344 \nL 108.223125 111.772446 \nL 127.753125 113.955069 \nL 147.283125 122.832643 \nL 166.813125 123.437676 \nL 186.343125 116.664778 \nL 205.873125 105.455013 \nL 225.403125 117.436442 \n\" clip-path=\"url(#p4960dac658)\" style=\"fill: none; stroke-dasharray: 5.55,2.4; stroke-dashoffset: 0; stroke: #ff7f0e; stroke-width: 1.5\"/>\n   </g>\n   <g id=\"line2d_123\">\n    <path d=\"M 49.633125 32.076638 \nL 69.163125 25.823721 \nL 88.693125 29.224147 \nL 108.223125 21.730318 \nL 127.753125 20.715025 \nL 147.283125 17.23402 \nL 166.813125 17.362946 \nL 186.343125 19.200143 \nL 205.873125 23.261315 \n\" clip-path=\"url(#p4960dac658)\" style=\"fill: none; stroke-dasharray: 9.6,2.4,1.5,2.4; stroke-dashoffset: 0; stroke: #2ca02c; stroke-width: 1.5\"/>\n   </g>\n   <g id=\"line2d_124\">\n    <path d=\"M 34.954394 13.5 \nL 44.698573 86.739169 \nL 54.442752 103.076667 \nL 64.186931 110.465945 \nL 73.93111 116.330671 \nL 83.675289 117.72848 \nL 93.419468 122.473004 \nL 103.163647 123.539114 \nL 112.907826 127.795578 \nL 122.652006 126.924694 \nL 132.396185 131.134608 \nL 142.140364 129.345273 \nL 151.884543 133.035718 \nL 161.628722 133.037255 \nL 171.372901 135.426435 \nL 181.11708 134.529792 \nL 190.861259 138.407355 \nL 200.605438 135.847852 \nL 210.349618 139.5 \nL 220.093797 138.53374 \n\" clip-path=\"url(#p4960dac658)\" style=\"fill: none; stroke: #1f77b4; stroke-width: 1.5; stroke-linecap: square\"/>\n   </g>\n   <g id=\"line2d_125\">\n    <path d=\"M 49.633125 84.911079 \nL 69.163125 100.238848 \nL 88.693125 94.404344 \nL 108.223125 111.772446 \nL 127.753125 113.955069 \nL 147.283125 122.832643 \nL 166.813125 123.437676 \nL 186.343125 116.664778 \nL 205.873125 105.455013 \nL 225.403125 117.436442 \n\" clip-path=\"url(#p4960dac658)\" style=\"fill: none; stroke-dasharray: 5.55,2.4; stroke-dashoffset: 0; stroke: #ff7f0e; stroke-width: 1.5\"/>\n   </g>\n   <g id=\"line2d_126\">\n    <path d=\"M 49.633125 32.076638 \nL 69.163125 25.823721 \nL 88.693125 29.224147 \nL 108.223125 21.730318 \nL 127.753125 20.715025 \nL 147.283125 17.23402 \nL 166.813125 17.362946 \nL 186.343125 19.200143 \nL 205.873125 23.261315 \nL 225.403125 18.458818 \n\" clip-path=\"url(#p4960dac658)\" style=\"fill: none; stroke-dasharray: 9.6,2.4,1.5,2.4; stroke-dashoffset: 0; stroke: #2ca02c; stroke-width: 1.5\"/>\n   </g>\n   <g id=\"patch_3\">\n    <path d=\"M 30.103125 145.8 \nL 30.103125 7.2 \n\" style=\"fill: none; stroke: #000000; stroke-width: 0.8; stroke-linejoin: miter; stroke-linecap: square\"/>\n   </g>\n   <g id=\"patch_4\">\n    <path d=\"M 225.403125 145.8 \nL 225.403125 7.2 \n\" style=\"fill: none; stroke: #000000; stroke-width: 0.8; stroke-linejoin: miter; stroke-linecap: square\"/>\n   </g>\n   <g id=\"patch_5\">\n    <path d=\"M 30.103125 145.8 \nL 225.403125 145.8 \n\" style=\"fill: none; stroke: #000000; stroke-width: 0.8; stroke-linejoin: miter; stroke-linecap: square\"/>\n   </g>\n   <g id=\"patch_6\">\n    <path d=\"M 30.103125 7.2 \nL 225.403125 7.2 \n\" style=\"fill: none; stroke: #000000; stroke-width: 0.8; stroke-linejoin: miter; stroke-linecap: square\"/>\n   </g>\n   <g id=\"legend_1\">\n    <g id=\"patch_7\">\n     <path d=\"M 138.8125 100.434375 \nL 218.403125 100.434375 \nQ 220.403125 100.434375 220.403125 98.434375 \nL 220.403125 54.565625 \nQ 220.403125 52.565625 218.403125 52.565625 \nL 138.8125 52.565625 \nQ 136.8125 52.565625 136.8125 54.565625 \nL 136.8125 98.434375 \nQ 136.8125 100.434375 138.8125 100.434375 \nz\n\" style=\"fill: #ffffff; opacity: 0.8; stroke: #cccccc; stroke-linejoin: miter\"/>\n    </g>\n    <g id=\"line2d_127\">\n     <path d=\"M 140.8125 60.664063 \nL 150.8125 60.664063 \nL 160.8125 60.664063 \n\" style=\"fill: none; stroke: #1f77b4; stroke-width: 1.5; stroke-linecap: square\"/>\n    </g>\n    <g id=\"text_12\">\n     <!-- train_loss -->\n     <g transform=\"translate(168.8125 64.164063) scale(0.1 -0.1)\">\n      <defs>\n       <path id=\"DejaVuSans-74\" d=\"M 1172 4494 \nL 1172 3500 \nL 2356 3500 \nL 2356 3053 \nL 1172 3053 \nL 1172 1153 \nQ 1172 725 1289 603 \nQ 1406 481 1766 481 \nL 2356 481 \nL 2356 0 \nL 1766 0 \nQ 1100 0 847 248 \nQ 594 497 594 1153 \nL 594 3053 \nL 172 3053 \nL 172 3500 \nL 594 3500 \nL 594 4494 \nL 1172 4494 \nz\n\" transform=\"scale(0.015625)\"/>\n       <path id=\"DejaVuSans-72\" d=\"M 2631 2963 \nQ 2534 3019 2420 3045 \nQ 2306 3072 2169 3072 \nQ 1681 3072 1420 2755 \nQ 1159 2438 1159 1844 \nL 1159 0 \nL 581 0 \nL 581 3500 \nL 1159 3500 \nL 1159 2956 \nQ 1341 3275 1631 3429 \nQ 1922 3584 2338 3584 \nQ 2397 3584 2469 3576 \nQ 2541 3569 2628 3553 \nL 2631 2963 \nz\n\" transform=\"scale(0.015625)\"/>\n       <path id=\"DejaVuSans-61\" d=\"M 2194 1759 \nQ 1497 1759 1228 1600 \nQ 959 1441 959 1056 \nQ 959 750 1161 570 \nQ 1363 391 1709 391 \nQ 2188 391 2477 730 \nQ 2766 1069 2766 1631 \nL 2766 1759 \nL 2194 1759 \nz\nM 3341 1997 \nL 3341 0 \nL 2766 0 \nL 2766 531 \nQ 2569 213 2275 61 \nQ 1981 -91 1556 -91 \nQ 1019 -91 701 211 \nQ 384 513 384 1019 \nQ 384 1609 779 1909 \nQ 1175 2209 1959 2209 \nL 2766 2209 \nL 2766 2266 \nQ 2766 2663 2505 2880 \nQ 2244 3097 1772 3097 \nQ 1472 3097 1187 3025 \nQ 903 2953 641 2809 \nL 641 3341 \nQ 956 3463 1253 3523 \nQ 1550 3584 1831 3584 \nQ 2591 3584 2966 3190 \nQ 3341 2797 3341 1997 \nz\n\" transform=\"scale(0.015625)\"/>\n       <path id=\"DejaVuSans-69\" d=\"M 603 3500 \nL 1178 3500 \nL 1178 0 \nL 603 0 \nL 603 3500 \nz\nM 603 4863 \nL 1178 4863 \nL 1178 4134 \nL 603 4134 \nL 603 4863 \nz\n\" transform=\"scale(0.015625)\"/>\n       <path id=\"DejaVuSans-6e\" d=\"M 3513 2113 \nL 3513 0 \nL 2938 0 \nL 2938 2094 \nQ 2938 2591 2744 2837 \nQ 2550 3084 2163 3084 \nQ 1697 3084 1428 2787 \nQ 1159 2491 1159 1978 \nL 1159 0 \nL 581 0 \nL 581 3500 \nL 1159 3500 \nL 1159 2956 \nQ 1366 3272 1645 3428 \nQ 1925 3584 2291 3584 \nQ 2894 3584 3203 3211 \nQ 3513 2838 3513 2113 \nz\n\" transform=\"scale(0.015625)\"/>\n       <path id=\"DejaVuSans-5f\" d=\"M 3263 -1063 \nL 3263 -1509 \nL -63 -1509 \nL -63 -1063 \nL 3263 -1063 \nz\n\" transform=\"scale(0.015625)\"/>\n       <path id=\"DejaVuSans-6c\" d=\"M 603 4863 \nL 1178 4863 \nL 1178 0 \nL 603 0 \nL 603 4863 \nz\n\" transform=\"scale(0.015625)\"/>\n       <path id=\"DejaVuSans-73\" d=\"M 2834 3397 \nL 2834 2853 \nQ 2591 2978 2328 3040 \nQ 2066 3103 1784 3103 \nQ 1356 3103 1142 2972 \nQ 928 2841 928 2578 \nQ 928 2378 1081 2264 \nQ 1234 2150 1697 2047 \nL 1894 2003 \nQ 2506 1872 2764 1633 \nQ 3022 1394 3022 966 \nQ 3022 478 2636 193 \nQ 2250 -91 1575 -91 \nQ 1294 -91 989 -36 \nQ 684 19 347 128 \nL 347 722 \nQ 666 556 975 473 \nQ 1284 391 1588 391 \nQ 1994 391 2212 530 \nQ 2431 669 2431 922 \nQ 2431 1156 2273 1281 \nQ 2116 1406 1581 1522 \nL 1381 1569 \nQ 847 1681 609 1914 \nQ 372 2147 372 2553 \nQ 372 3047 722 3315 \nQ 1072 3584 1716 3584 \nQ 2034 3584 2315 3537 \nQ 2597 3491 2834 3397 \nz\n\" transform=\"scale(0.015625)\"/>\n      </defs>\n      <use xlink:href=\"#DejaVuSans-74\"/>\n      <use xlink:href=\"#DejaVuSans-72\" x=\"39.208984\"/>\n      <use xlink:href=\"#DejaVuSans-61\" x=\"80.322266\"/>\n      <use xlink:href=\"#DejaVuSans-69\" x=\"141.601562\"/>\n      <use xlink:href=\"#DejaVuSans-6e\" x=\"169.384766\"/>\n      <use xlink:href=\"#DejaVuSans-5f\" x=\"232.763672\"/>\n      <use xlink:href=\"#DejaVuSans-6c\" x=\"282.763672\"/>\n      <use xlink:href=\"#DejaVuSans-6f\" x=\"310.546875\"/>\n      <use xlink:href=\"#DejaVuSans-73\" x=\"371.728516\"/>\n      <use xlink:href=\"#DejaVuSans-73\" x=\"423.828125\"/>\n     </g>\n    </g>\n    <g id=\"line2d_128\">\n     <path d=\"M 140.8125 75.620313 \nL 150.8125 75.620313 \nL 160.8125 75.620313 \n\" style=\"fill: none; stroke-dasharray: 5.55,2.4; stroke-dashoffset: 0; stroke: #ff7f0e; stroke-width: 1.5\"/>\n    </g>\n    <g id=\"text_13\">\n     <!-- val_loss -->\n     <g transform=\"translate(168.8125 79.120313) scale(0.1 -0.1)\">\n      <defs>\n       <path id=\"DejaVuSans-76\" d=\"M 191 3500 \nL 800 3500 \nL 1894 563 \nL 2988 3500 \nL 3597 3500 \nL 2284 0 \nL 1503 0 \nL 191 3500 \nz\n\" transform=\"scale(0.015625)\"/>\n      </defs>\n      <use xlink:href=\"#DejaVuSans-76\"/>\n      <use xlink:href=\"#DejaVuSans-61\" x=\"59.179688\"/>\n      <use xlink:href=\"#DejaVuSans-6c\" x=\"120.458984\"/>\n      <use xlink:href=\"#DejaVuSans-5f\" x=\"148.242188\"/>\n      <use xlink:href=\"#DejaVuSans-6c\" x=\"198.242188\"/>\n      <use xlink:href=\"#DejaVuSans-6f\" x=\"226.025391\"/>\n      <use xlink:href=\"#DejaVuSans-73\" x=\"287.207031\"/>\n      <use xlink:href=\"#DejaVuSans-73\" x=\"339.306641\"/>\n     </g>\n    </g>\n    <g id=\"line2d_129\">\n     <path d=\"M 140.8125 90.576563 \nL 150.8125 90.576563 \nL 160.8125 90.576563 \n\" style=\"fill: none; stroke-dasharray: 9.6,2.4,1.5,2.4; stroke-dashoffset: 0; stroke: #2ca02c; stroke-width: 1.5\"/>\n    </g>\n    <g id=\"text_14\">\n     <!-- val_acc -->\n     <g transform=\"translate(168.8125 94.076563) scale(0.1 -0.1)\">\n      <use xlink:href=\"#DejaVuSans-76\"/>\n      <use xlink:href=\"#DejaVuSans-61\" x=\"59.179688\"/>\n      <use xlink:href=\"#DejaVuSans-6c\" x=\"120.458984\"/>\n      <use xlink:href=\"#DejaVuSans-5f\" x=\"148.242188\"/>\n      <use xlink:href=\"#DejaVuSans-61\" x=\"198.242188\"/>\n      <use xlink:href=\"#DejaVuSans-63\" x=\"259.521484\"/>\n      <use xlink:href=\"#DejaVuSans-63\" x=\"314.501953\"/>\n     </g>\n    </g>\n   </g>\n  </g>\n </g>\n <defs>\n  <clipPath id=\"p4960dac658\">\n   <rect x=\"30.103125\" y=\"7.2\" width=\"195.3\" height=\"138.6\"/>\n  </clipPath>\n </defs>\n</svg>\n"
          },
          "metadata": {}
        }
      ],
      "source": [
        "model = RegNetX32(lr=0.05)\n",
        "trainer = d2l.Trainer(max_epochs=10, num_gpus=1)\n",
        "data = d2l.FashionMNIST(batch_size=128, resize=(96, 96))\n",
        "trainer.fit(model, data)"
      ]
    },
    {
      "cell_type": "markdown",
      "source": [
        "# 8.1.5 Exercises"
      ],
      "metadata": {
        "id": "3gBBtWeT6H0Z"
      }
    },
    {
      "cell_type": "markdown",
      "source": [
        "1. Following up on the discussion above, analyze the computational properties of AlexNet.\n",
        "\n",
        "**a. Compute the memory footprint for convolutions and fully connected layers, respectively. Which one dominates?**\n",
        "\n",
        "For AlexNet, the memory footprint consists of the parameters and activations in both the convolutional and fully connected layers.\n",
        "\n",
        "Fully connected layers dominate memory, especially because they have far more parameters than convolutional layers.\n",
        "\n",
        "**b. Calculate the computational cost for the convolutions and the fully connected layers.**\n",
        "\n",
        "Fully Connected Layers: The computational cost in fully connected layers comes from matrix multiplication, which scales as:\n",
        "Operations = Number of Input Neurons × Number of Output Neurons.\n",
        "\n",
        "Which dominates?\n",
        "\n",
        "In terms of FLOPs (floating point operations), convolutional layers usually dominate due to the larger number of operations required to process the spatial dimensions of the input data.\n",
        "\n",
        "**c. How does the memory (read and write bandwidth, latency, size) affect computation? Is there any difference in its effects for training and inference?**\n",
        "\n",
        "Memory factors such as bandwidth, latency, and size greatly influence the computational performance:\n",
        "\n",
        "Read and Write Bandwidth: Affects the speed at which data is transferred between memory and compute units. Low bandwidth can bottleneck the computation, especially in convolutional layers that require multiple data transfers for feature maps.\n",
        "\n",
        "Latency: Higher memory latency can slow down computation by increasing the time taken to fetch data. This becomes critical when dealing with small datasets or small batch sizes, as the overhead of data transfer can outpace computation.\n",
        "\n",
        "Size: Insufficient memory (e.g., GPU VRAM) can force models to store intermediate data off-chip, which severely impacts performance.\n",
        "\n",
        "For training, memory usage is more intensive due to the need to store intermediate gradients, whereas for inference, memory usage is lower since there's no need for gradient storage.\n",
        "\n",
        "**2. You are a chip designer and need to trade off computation and memory bandwidth. For example, a faster chip requires more power and possibly a larger chip area. More memory bandwidth requires more pins and control logic, thus also more area. How do you optimize?**\n",
        "\n",
        "As a chip designer, the trade-off between computation and memory bandwidth is key:\n",
        "\n",
        "More Computation: A faster chip will require more power and might increase chip size due to additional processing units. You could optimize this by using specialized hardware like tensor cores (NVIDIA) for deep learning operations.\n",
        "\n",
        "More Memory Bandwidth: Increasing memory bandwidth requires more pins and control logic, which increases chip size and power consumption. It’s often efficient to optimize the memory hierarchy by using local buffers (e.g., caches) to reduce memory access from external sources.\n",
        "\n",
        "Optimization Strategies:\n",
        "\n",
        "Using quantization to reduce memory usage and computational cost.\n",
        "Balancing computation and memory access by using efficient dataflow architectures that minimize data movement.\n",
        "Reducing the number of off-chip memory accesses by utilizing larger on-chip caches.\n",
        "\n",
        "**3. Why do engineers no longer report performance benchmarks on AlexNet?**\n",
        "\n",
        "AlexNet was a pioneering architecture, but its benchmarks are no longer commonly reported due to the rise of more efficient architectures like ResNet, EfficientNet, and MobileNet, which outperform AlexNet in terms of accuracy, speed, and resource efficiency.\n",
        "\n",
        "These newer architectures are designed to reduce parameter count while maintaining accuracy, making them more suitable for modern computational tasks.\n",
        "\n",
        "**4. Try increasing the number of epochs when training AlexNet. Compared with LeNet, how do the results differ? Why?**\n",
        "\n",
        "Training AlexNet for more epochs generally improves performance, but:\n",
        "\n",
        "LeNet: Being a simpler architecture, it converges faster and requires fewer epochs to achieve its best performance.\n",
        "AlexNet: Its deeper architecture may take longer to converge but ultimately achieves higher accuracy, especially for complex datasets.\n",
        "Differences arise due to the larger capacity of AlexNet, which helps it generalize better on larger datasets, while LeNet is more suited for simpler tasks like MNIST.\n",
        "\n",
        "**AlexNet may be too complex for the Fashion-MNIST dataset, in particular due to the low resolution of the initial images.**\n",
        "\n",
        "**a. Try simplifying the model to make the training faster, while ensuring that the accuracy does not drop significantly.**\n",
        "\n",
        "Fashion-MNIST consists of low-resolution (28x28) images, making AlexNet overkill. The large convolutional filters and fully connected layers of AlexNet are better suited for higher-resolution images (like ImageNet's 224x224).\n",
        "\n",
        "Simplification Strategy:\n",
        "\n",
        "Reduce the number of convolutional layers.\n",
        "Decrease the filter size and number of parameters.\n",
        "Replace the fully connected layers with global average pooling to reduce parameter count.Changing the batch size affects:\n",
        "\n",
        "\n",
        "\n",
        "**6. Modify the batch size, and observe the changes in throughput (images/s), accuracy, and GPU memory.**\n",
        "\n",
        "Changing the batch size affects:\n",
        "\n",
        "Throughput: A larger batch size increases throughput (images/s) because modern hardware can process more data in parallel.\n",
        "Accuracy: In some cases, larger batch sizes can lead to lower accuracy due to poorer generalization, but this can be mitigated with proper optimization techniques.\n",
        "Memory: Larger batch sizes require more GPU memory, which could lead to memory overflows if VRAM is insufficient.\n",
        "This will make training faster without sacrificing much accuracy.\n",
        "\n",
        "**7. Apply dropout and ReLU to LeNet-5. Does it improve? Can you improve things further by preprocessing to take advantage of the invariances inherent in the images?**\n",
        "\n",
        "Applying Dropout and ReLU to LeNet-5 improves its performance by:\n",
        "\n",
        "Dropout: Helps prevent overfitting by randomly deactivating neurons during training.\n",
        "ReLU: Speeds up convergence by mitigating the vanishing gradient problem present with sigmoid or tanh activations.\n",
        "Further improvement can be achieved by preprocessing the images to exploit invariances, such as using data augmentation techniques like rotation or flipping.\n",
        "\n",
        "**8. Can you make AlexNet overfit? Which feature do you need to remove or change to break training?**\n",
        "\n",
        "To make AlexNet overfit:\n",
        "\n",
        "- Remove Dropout layers or reduce data augmentation.\n",
        "- Reduce the dataset size to make it easier for the model to memorize specific patterns in the training data.\n",
        "\n",
        "This can lead to poor generalization, as the model becomes highly specialized in the training set and fails to perform well on unseen data.\n",
        "\n"
      ],
      "metadata": {
        "id": "7azEhEFq6MMY"
      }
    },
    {
      "cell_type": "markdown",
      "source": [
        "# 8.2.5 Exercises"
      ],
      "metadata": {
        "id": "J0-M_gDB9pe-"
      }
    },
    {
      "cell_type": "markdown",
      "source": [
        "**1. Compared with AlexNet, VGG is much slower in terms of computation, and it also needs more GPU memory.**\n",
        "\n",
        "**a. Compare the number of parameters needed for AlexNet and VGG.**\n",
        "\n",
        "AlexNet: Approximately 60 million parameters.\n",
        "The large number of parameters is mostly due to the fully connected layers, especially in the last three layers.\n",
        "\n",
        "VGG-16: Approximately 138 million parameters.\n",
        "VGG uses a simpler structure where most of the complexity comes from stacking small 3x3 convolutions, which results in more parameters, especially in the deeper layers.\n",
        "\n",
        "Comparison:\n",
        "\n",
        "VGG has significantly more parameters than AlexNet because VGG employs smaller convolution filters (3x3) but stacks more layers. This leads to more filters being applied to intermediate feature maps, increasing the parameter count. VGG’s fully connected layers also contribute heavily to the parameter explosion.\n",
        "\n",
        "**b. Compare the number of floating point operations used in the convolutional layers and in the fully connected layers.**\n",
        "\n",
        "Convolutional Layers:\n",
        "Both networks are dominated by operations in the convolutional layers. For AlexNet, the convolutions use relatively large filters (11x11 in the first layer, 5x5 in others), leading to fewer layers but more operations per layer. VGG, on the other hand, uses smaller 3x3 filters but stacks more layers (13 convolutional layers in VGG-16).\n",
        "\n",
        "VGG-16 has a significantly higher number of FLOPs compared to AlexNet because of the depth of the network, despite the smaller filter size.\n",
        "\n",
        "Fully Connected Layers:\n",
        "Both networks have large fully connected layers, but AlexNet relies heavily on its fully connected layers, which account for a substantial portion of the FLOPs. For VGG, although fully connected layers also consume a significant number of FLOPs, the total proportion is smaller relative to the FLOPs from the convolutional layers due to the deeper structure.\n",
        "\n",
        "VGG has a higher total number of floating point operations, especially in the convolutional layers, due to its deeper architecture and the repeated use of small filters.\n",
        "\n",
        "**c. How could you reduce the computational cost created by the fully connected layers?**\n",
        "\n",
        "To reduce the computational cost in the fully connected layers, several strategies can be applied:\n",
        "\n",
        "Replace Fully Connected Layers with Global Average Pooling,\n",
        "Instead of large fully connected layers, use global average pooling after the convolutional layers. This reduces the number of parameters drastically and has been used in modern architectures like ResNet.\n",
        "\n",
        "Parameter Reduction Techniques,\n",
        "Techniques such as pruning and quantization can be applied to reduce the number of parameters and operations in fully connected layers. Pruning removes unimportant connections, while quantization reduces the precision of the parameters (e.g., from 32-bit floats to 16-bit floats).\n",
        "\n",
        "Low-Rank Approximations,\n",
        "Use low-rank approximations for the weight matrices in the fully connected layers to reduce their computational complexity.\n",
        "\n",
        "**2. When displaying the dimensions associated with the various layers of the network, we only see the information associated with eight blocks (plus some auxiliary transforms), even though the network has 11 layers. Where did the remaining three layers go?**\n",
        "\n",
        "VGG networks (e.g., VGG-16 and VGG-19) often list fewer layers than the total number of layers in the network. The reason for is,\n",
        "\n",
        "The remaining three layers are the max-pooling layers, which are used for downsampling the feature maps after specific convolutional blocks. These layers do not have parameters (like convolutional or fully connected layers), so they might not be explicitly mentioned when describing the number of layers but are integral to the network's operation.\n",
        "\n",
        "**3. Use Table 1 in the VGG paper (Simonyan and Zisserman, 2014) to construct other common models, such as VGG-16 or VGG-19.**\n",
        "\n",
        "Using Table 1 from the VGG paper, the network architectures for VGG-16 and VGG-19 are constructed as follows:\n",
        "\n",
        "VGG-16:\n",
        "\n",
        "Convolutional Layers: 13\n",
        "\n",
        "Fully Connected Layers: 3\n",
        "\n",
        "Architecture:\n",
        "- 2 Convolutional layers (64 filters) → Max-pooling\n",
        "- 2 Convolutional layers (128 filters) → Max-pooling\n",
        "- 3 Convolutional layers (256 filters) → Max-pooling\n",
        "- 3 Convolutional layers (512 filters) → Max-pooling\n",
        "- 3 Convolutional layers (512 filters) → Max-pooling\n",
        "- 3 Fully Connected layers → Softmax\n",
        "\n",
        "VGG-19:\n",
        "\n",
        "Convolutional Layers: 16\n",
        "\n",
        "Fully Connected Layers: 3\n",
        "\n",
        "Architecture:\n",
        "\n",
        "- 2 Convolutional layers (64 filters) → Max-pooling\n",
        "- 2 Convolutional layers (128 filters) → Max-pooling\n",
        "- 4 Convolutional layers (256 filters) → Max-pooling\n",
        "- 4 Convolutional layers (512 filters) → Max-pooling\n",
        "- 4 Convolutional layers (512 filters) → Max-pooling\n",
        "-3 Fully Connected layers → Softmax\n",
        "\n",
        "Both models are designed to progressively downsample the input while increasing the number of filters in each block to capture more complex features.\n",
        "\n",
        "**5. Upsampling the resolution in Fashion-MNIST eight-fold from\n",
        " to dimensions is very wasteful. Try modifying the network architecture and resolution conversion, e.g., to 56 or to 84 dimensions for its input instead. Can you do so without reducing the accuracy of the network?**\n",
        "\n",
        " Upsampling Fashion-MNIST (28x28) images eight-fold to 224x224 (to match VGG’s typical input size) is wasteful because the dataset is low-resolution. Instead, you can modify the network to work with input resolutions of 56x56 or 84x84:\n",
        "\n",
        "56x56 Input: You can retain the VGG architecture but modify the pooling and convolutional layers to work with this smaller input size. By reducing the resolution, you also reduce the number of operations and memory usage, making the model more efficient for low-resolution datasets.\n",
        "\n",
        "84x84 Input: Similar approach, but the input has slightly more spatial resolution, allowing for more feature extraction before downsampling.\n",
        "\n",
        "To maintain accuracy:\n",
        "\n",
        "Add more nonlinearities: You could introduce additional layers with ReLU activations before each downsampling (max-pooling) stage to allow the network to learn more complex transformations before reducing the spatial dimensions.\n",
        "Following the ideas from the VGG paper:\n",
        "\n",
        "We can stack more 3x3 convolutions (with ReLU) before max-pooling to capture more spatial hierarchies in the smaller input resolution without significantly increasing the computational cost.\n",
        "This approach should preserve accuracy while making the network more computationally efficient for low-resolution datasets like Fashion-MNIST.\n",
        "\n",
        "\n",
        "\n"
      ],
      "metadata": {
        "id": "-jXle_QC9sh6"
      }
    },
    {
      "cell_type": "markdown",
      "source": [
        "# 8.3.5 Exercises"
      ],
      "metadata": {
        "id": "HTaPyvQz_wCb"
      }
    },
    {
      "cell_type": "markdown",
      "source": [
        "**1. Why are there two 1x1 convolutional layers per NiN block? Increase their number to three. Reduce their number to one. What changes?**\n",
        "\n",
        "Two 1×1 convolutions increase nonlinearity and feature extraction.\n",
        "\n",
        "- Three 1×1: More expressive but higher cost.\n",
        "- One 1×1: Less powerful, possibly reducing accuracy.\n",
        "\n",
        "**2. What changes if you replace the 1x1 convolutions by 3x3 convolutions?\n",
        "- More computation cause 3×3 increases FLOPs and parameters.\n",
        "- Better spatial feature extraction cause improves accuracy but at a higher cost.\n",
        "\n",
        "**3. What happens if you replace the global average pooling by a fully connected layer (speed, accuracy, number of parameters)?**\n",
        "Slower, more parameters, may improve accuracy but risks overfitting.\n",
        "\n",
        "**4. Calculate the resource usage for NiN.**\n",
        "\n",
        "**a. What is the number of parameters?**\n",
        "\n",
        "NiN uses multiple 1×1 convolutions, which greatly reduce the parameter count compared to traditional fully connected layers. For example, a typical NiN architecture consists of several 1×1 convolutions with the form:\n",
        "\n",
        "Convolutional layers: These layers have fewer parameters than layers with larger filters (e.g., 3x3 or 5x5). Each 1×1 convolution has Input Channels × Output Channels parameters.\n",
        "\n",
        "Fully connected layers (if any): If fully connected layers are included (though in NiN, global average pooling is often used), these layers will dominate the number of parameters.\n",
        "\n",
        "\n",
        "**b. What is the amount of computation?**\n",
        "\n",
        "For NiN, the main computation comes from convolutions:\n",
        "\n",
        "1×1 convolutions: These are efficient and lightweight, leading to fewer FLOPs.\n",
        "\n",
        "3×3 or 5×5 convolutions (used earlier in the network): These contribute more to the FLOPs, but since NiN uses relatively few of these, the overall computation is lower compared to architectures like VGG.\n",
        "\n",
        "**c. What is the amount of memory needed during training?**\n",
        "\n",
        "Since NiN uses 1×1 convolutions and global average pooling, the memory usage is relatively lower than models like VGG that have larger fully connected layers and more complex convolutional layers.\n",
        "\n",
        "\n",
        "**d. What is the amount of memory needed during prediction?**\n",
        "\n",
        "During inference (prediction):\n",
        "\n",
        "Only the activations and parameters need to be stored, with no need to store gradients.\n",
        "Since NiN uses fewer parameters and no fully connected layers (if global average pooling is used), it’s relatively memory efficient during prediction compared to models like VGG or AlexNet.\n",
        "\n",
        "**5. What are possible problems with reducing the 384 x 5 x 5 representation to a 10x5x5 representation in one step?**\n",
        "\n",
        "Reducing a 384×5×5 representation directly to a 10×5×5 representation in one step could lead to several issues:\n",
        "\n",
        "- Loss of information, Abruptly reducing the number of channels from 384 to 10 could result in the loss of important features, leading to degraded performance.\n",
        "- Lack of feature hierarchy, Gradually reducing the number of channels helps the network build feature hierarchies at different levels of abstraction. Reducing in one step skips this process and may harm the model's ability to generalize.\n",
        "\n",
        "A better approach is to reduce the number of channels in multiple stages to preserve the hierarchical feature representation.\n",
        "\n",
        "**6. Use the structural design decisions in VGG that led to VGG-11, VGG-16, and VGG-19 to design a family of NiN-like networks.**\n",
        "\n",
        "\n",
        "Using the structural design decisions of VGG (i.e., stacking small convolutions and progressively downsampling), we can design a NiN-like family of networks as follows:\n",
        "\n",
        "a. NiN-11\n",
        "\n",
        "Analogous to VGG-11:\n",
        "\n",
        "Convolutions: Stack two 3×3 convolutions followed by a 1×1 convolution to form a NiN block.\n",
        "\n",
        "Pooling: Apply max-pooling after each block to reduce spatial dimensions.\n",
        "Global average pooling: Replace fully connected layers with global average pooling.\n",
        "\n",
        "b. NiN-16\n",
        "\n",
        "Analogous to VGG-16:\n",
        "\n",
        "Deeper structure: Stack three 3×3 convolutions followed by 1×1 convolutions for more feature extraction.\n",
        "\n",
        "More nonlinearities: Include ReLU activations after each convolution.\n",
        "\n",
        "Pooling: Max-pooling after each block, with a deeper network providing better hierarchical feature extraction.\n",
        "\n",
        "c. NiN-19\n",
        "\n",
        "Analogous to VGG-19:\n",
        "\n",
        "Deepest structure: Stack four 3×3 convolutions followed by 1×1 convolutions.\n",
        "\n",
        "Global average pooling to replace fully connected layers.\n",
        "\n",
        "Batch normalization: Add batch normalization layers between convolutions to help with regularization and training stability.\n",
        "\n",
        "By designing these NiN-like networks with increasing depth (11, 16, 19 layers), we can create a family of architectures similar to the VGG design philosophy but with 1×1 convolutions for channel-wise feature extraction instead of fully connected layers, which keeps the models computationally efficient while still being expressive.\n",
        "\n",
        "\n"
      ],
      "metadata": {
        "id": "EJYzojJ2_6bu"
      }
    },
    {
      "cell_type": "markdown",
      "source": [
        "# 8.4.5 Exercises"
      ],
      "metadata": {
        "id": "RyB0ru-KCyxR"
      }
    },
    {
      "cell_type": "markdown",
      "source": [
        "**1. GoogLeNet was so successful that it went through a number of iterations, progressively improving speed and accuracy. Try to implement and run some of them. They include the following:**\n",
        "1.\tAdd a batch normalization layer (Ioffe and Szegedy, 2015), as described later in Section 8.5.\n",
        "2.\tMake adjustments to the Inception block (width, choice and order of convolutions), as described in Szegedy et al. (2016).\n",
        "3.\tUse label smoothing for model regularization, as described in Szegedy et al. (2016).\n",
        "4.\tMake further adjustments to the Inception block by adding residual connection (Szegedy et al., 2017), as described later in Section 8.6.\n"
      ],
      "metadata": {
        "id": "YvkoxO5IC67R"
      }
    },
    {
      "cell_type": "code",
      "source": [
        "import torch\n",
        "import torch.nn as nn\n",
        "\n",
        "class InceptionModule(nn.Module):\n",
        "    def __init__(self, in_channels, out_1x1, red_3x3, out_3x3, red_5x5, out_5x5, out_pool):\n",
        "        super(InceptionModule, self).__init__()\n",
        "\n",
        "        # 1x1 convolution branch\n",
        "        self.branch1x1 = nn.Sequential(\n",
        "            nn.Conv2d(in_channels, out_1x1, kernel_size=1),\n",
        "            nn.BatchNorm2d(out_1x1),  # Batch normalization added\n",
        "            nn.ReLU(True),\n",
        "        )\n",
        "\n",
        "        # 1x1 followed by 3x3 convolution branch\n",
        "        self.branch3x3 = nn.Sequential(\n",
        "            nn.Conv2d(in_channels, red_3x3, kernel_size=1),\n",
        "            nn.BatchNorm2d(red_3x3),  # Batch normalization added\n",
        "            nn.ReLU(True),\n",
        "            nn.Conv2d(red_3x3, out_3x3, kernel_size=3, padding=1),\n",
        "            nn.BatchNorm2d(out_3x3),  # Batch normalization added\n",
        "            nn.ReLU(True),\n",
        "        )\n",
        "\n",
        "        # 1x1 followed by 5x5 convolution branch\n",
        "        self.branch5x5 = nn.Sequential(\n",
        "            nn.Conv2d(in_channels, red_5x5, kernel_size=1),\n",
        "            nn.BatchNorm2d(red_5x5),  # Batch normalization added\n",
        "            nn.ReLU(True),\n",
        "            nn.Conv2d(red_5x5, out_5x5, kernel_size=5, padding=2),\n",
        "            nn.BatchNorm2d(out_5x5),  # Batch normalization added\n",
        "            nn.ReLU(True),\n",
        "        )\n",
        "\n",
        "        # 3x3 max pooling followed by 1x1 convolution branch\n",
        "        self.branch_pool = nn.Sequential(\n",
        "            nn.MaxPool2d(kernel_size=3, stride=1, padding=1),\n",
        "            nn.Conv2d(in_channels, out_pool, kernel_size=1),\n",
        "            nn.BatchNorm2d(out_pool),  # Batch normalization added\n",
        "            nn.ReLU(True),\n",
        "        )\n",
        "\n",
        "    def forward(self, x):\n",
        "        branch1x1 = self.branch1x1(x)\n",
        "        branch3x3 = self.branch3x3(x)\n",
        "        branch5x5 = self.branch5x5(x)\n",
        "        branch_pool = self.branch_pool(x)\n",
        "        outputs = [branch1x1, branch3x3, branch5x5, branch_pool]\n",
        "        return torch.cat(outputs, 1)\n"
      ],
      "metadata": {
        "id": "WWUZLijUGIzP"
      },
      "execution_count": null,
      "outputs": []
    },
    {
      "cell_type": "code",
      "source": [
        "# Same as the previous InceptionModule, but with fewer filters for reduced computation\n",
        "class InceptionV2Module(nn.Module):\n",
        "    def __init__(self, in_channels, out_1x1, red_3x3, out_3x3, red_5x5, out_5x5, out_pool):\n",
        "        super(InceptionV2Module, self).__init__()\n",
        "\n",
        "        # The 1x1 convolution acts as dimensionality reduction\n",
        "        self.branch1x1 = nn.Sequential(\n",
        "            nn.Conv2d(in_channels, out_1x1, kernel_size=1),\n",
        "            nn.BatchNorm2d(out_1x1),\n",
        "            nn.ReLU(True),\n",
        "        )\n",
        "\n",
        "        self.branch3x3 = nn.Sequential(\n",
        "            nn.Conv2d(in_channels, red_3x3, kernel_size=1),\n",
        "            nn.BatchNorm2d(red_3x3),\n",
        "            nn.ReLU(True),\n",
        "            nn.Conv2d(red_3x3, out_3x3, kernel_size=3, padding=1),\n",
        "            nn.BatchNorm2d(out_3x3),\n",
        "            nn.ReLU(True),\n",
        "        )\n",
        "\n",
        "        self.branch5x5 = nn.Sequential(\n",
        "            nn.Conv2d(in_channels, red_5x5, kernel_size=1),\n",
        "            nn.BatchNorm2d(red_5x5),\n",
        "            nn.ReLU(True),\n",
        "            nn.Conv2d(red_5x5, out_5x5, kernel_size=5, padding=2),\n",
        "            nn.BatchNorm2d(out_5x5),\n",
        "            nn.ReLU(True),\n",
        "        )\n",
        "\n",
        "        self.branch_pool = nn.Sequential(\n",
        "            nn.MaxPool2d(kernel_size=3, stride=1, padding=1),\n",
        "            nn.Conv2d(in_channels, out_pool, kernel_size=1),\n",
        "            nn.BatchNorm2d(out_pool),\n",
        "            nn.ReLU(True),\n",
        "        )\n",
        "\n",
        "    def forward(self, x):\n",
        "        branch1x1 = self.branch1x1(x)\n",
        "        branch3x3 = self.branch3x3(x)\n",
        "        branch5x5 = self.branch5x5(x)\n",
        "        branch_pool = self.branch_pool(x)\n",
        "        outputs = [branch1x1, branch3x3, branch5x5, branch_pool]\n",
        "        return torch.cat(outputs, 1)\n"
      ],
      "metadata": {
        "id": "nRPH25irGJ35"
      },
      "execution_count": null,
      "outputs": []
    },
    {
      "cell_type": "code",
      "source": [
        "class LabelSmoothingLoss(nn.Module):\n",
        "    def __init__(self, smoothing=0.1):\n",
        "        super(LabelSmoothingLoss, self).__init__()\n",
        "        self.smoothing = smoothing\n",
        "\n",
        "    def forward(self, pred, target):\n",
        "        confidence = 1.0 - self.smoothing\n",
        "        smooth_label = torch.full_like(pred, self.smoothing / (pred.size(1) - 1))\n",
        "        smooth_label.scatter_(1, target.unsqueeze(1), confidence)\n",
        "        loss = torch.mean(torch.sum(-smooth_label * torch.log_softmax(pred, dim=1), dim=1))\n",
        "        return loss\n"
      ],
      "metadata": {
        "id": "h84VoxW4GP0G"
      },
      "execution_count": null,
      "outputs": []
    },
    {
      "cell_type": "code",
      "source": [
        "def forward(self, x):\n",
        "    branch1x1 = self.branch1x1(x)\n",
        "    branch3x3 = self.branch3x3(x)\n",
        "    branch5x5 = self.branch5x5(x)\n",
        "    branch_pool = self.branch_pool(x)\n",
        "\n",
        "    outputs = torch.cat([branch1x1, branch3x3, branch5x5, branch_pool], 1)\n",
        "    return x + outputs  # Adding residual connection\n"
      ],
      "metadata": {
        "id": "JzV1p1QBGTCY"
      },
      "execution_count": null,
      "outputs": []
    },
    {
      "cell_type": "markdown",
      "source": [
        "**2. What is the minimum image size needed for GoogLeNet to work?**\n",
        "\n",
        "The original GoogLeNet requires an input size of 224x224 pixels. This is due to the series of convolutional layers and pooling layers that progressively reduce spatial dimensions. Smaller images would need adjustments in the architecture."
      ],
      "metadata": {
        "id": "BZL4PAXpGdjK"
      }
    },
    {
      "cell_type": "markdown",
      "source": [
        "**3.\tCan you design a variant of GoogLeNet that works on Fashion-MNIST’s native resolution of 28×28 pixels? How would you need to change the stem, the body, and the head of the network, if anything at all?**\n",
        "\n",
        "To adapt GoogLeNet for Fashion-MNIST’s 28x28 resolution, we’ll need to scale down the architecture while preserving its essential elements. The changes primarily affect the stem, body, and head of the network.\n",
        "\n",
        "Stem:"
      ],
      "metadata": {
        "id": "zNMt2R6mGuQo"
      }
    },
    {
      "cell_type": "code",
      "source": [
        "class Stem(nn.Module):\n",
        "    def __init__(self):\n",
        "        super(Stem, self).__init__()\n",
        "        self.conv1 = nn.Conv2d(1, 64, kernel_size=3, stride=1, padding=1)\n",
        "        self.bn1 = nn.BatchNorm2d(64)\n",
        "        self.relu = nn.ReLU(inplace=True)\n",
        "        self.maxpool = nn.MaxPool2d(kernel_size=2, stride=2)\n",
        "\n",
        "    def forward(self, x):\n",
        "        x = self.conv1(x)\n",
        "        x = self.bn1(x)\n",
        "        x = self.relu(x)\n",
        "        x = self.maxpool(x)  # Reduces 28x28 -> 14x14\n",
        "        return x\n"
      ],
      "metadata": {
        "id": "FSs1_n9UIAAG"
      },
      "execution_count": null,
      "outputs": []
    },
    {
      "cell_type": "markdown",
      "source": [
        "Body:"
      ],
      "metadata": {
        "id": "WQcMFyW4IA9g"
      }
    },
    {
      "cell_type": "code",
      "source": [
        "class InceptionModule(nn.Module):\n",
        "    def __init__(self, in_channels, out_1x1, red_3x3, out_3x3, red_5x5, out_5x5, out_pool):\n",
        "        super(InceptionModule, self).__init__()\n",
        "\n",
        "        self.branch1x1 = nn.Sequential(\n",
        "            nn.Conv2d(in_channels, out_1x1, kernel_size=1),\n",
        "            nn.BatchNorm2d(out_1x1),\n",
        "            nn.ReLU(True)\n",
        "        )\n",
        "\n",
        "        self.branch3x3 = nn.Sequential(\n",
        "            nn.Conv2d(in_channels, red_3x3, kernel_size=1),\n",
        "            nn.BatchNorm2d(red_3x3),\n",
        "            nn.ReLU(True),\n",
        "            nn.Conv2d(red_3x3, out_3x3, kernel_size=3, padding=1),\n",
        "            nn.BatchNorm2d(out_3x3),\n",
        "            nn.ReLU(True)\n",
        "        )\n",
        "\n",
        "        self.branch5x5 = nn.Sequential(\n",
        "            nn.Conv2d(in_channels, red_5x5, kernel_size=1),\n",
        "            nn.BatchNorm2d(red_5x5),\n",
        "            nn.ReLU(True),\n",
        "            nn.Conv2d(red_5x5, out_5x5, kernel_size=3, padding=1),\n",
        "            nn.BatchNorm2d(out_5x5),\n",
        "            nn.ReLU(True)\n",
        "        )\n",
        "\n",
        "        self.branch_pool = nn.Sequential(\n",
        "            nn.MaxPool2d(kernel_size=3, stride=1, padding=1),\n",
        "            nn.Conv2d(in_channels, out_pool, kernel_size=1),\n",
        "            nn.BatchNorm2d(out_pool),\n",
        "            nn.ReLU(True)\n",
        "        )\n",
        "\n",
        "    def forward(self, x):\n",
        "        branch1x1 = self.branch1x1(x)\n",
        "        branch3x3 = self.branch3x3(x)\n",
        "        branch5x5 = self.branch5x5(x)\n",
        "        branch_pool = self.branch_pool(x)\n",
        "\n",
        "        outputs = [branch1x1, branch3x3, branch5x5, branch_pool]\n",
        "        return torch.cat(outputs, 1)\n"
      ],
      "metadata": {
        "id": "XQk964x2IEPm"
      },
      "execution_count": null,
      "outputs": []
    },
    {
      "cell_type": "markdown",
      "source": [
        "Head:"
      ],
      "metadata": {
        "id": "Dhp_cBrsIGnI"
      }
    },
    {
      "cell_type": "code",
      "source": [
        "class InceptionModule(nn.Module):\n",
        "    def __init__(self, in_channels, out_1x1, red_3x3, out_3x3, red_5x5, out_5x5, out_pool):\n",
        "        super(InceptionModule, self).__init__()\n",
        "\n",
        "        self.branch1x1 = nn.Sequential(\n",
        "            nn.Conv2d(in_channels, out_1x1, kernel_size=1),\n",
        "            nn.BatchNorm2d(out_1x1),\n",
        "            nn.ReLU(True)\n",
        "        )\n",
        "\n",
        "        self.branch3x3 = nn.Sequential(\n",
        "            nn.Conv2d(in_channels, red_3x3, kernel_size=1),\n",
        "            nn.BatchNorm2d(red_3x3),\n",
        "            nn.ReLU(True),\n",
        "            nn.Conv2d(red_3x3, out_3x3, kernel_size=3, padding=1),\n",
        "            nn.BatchNorm2d(out_3x3),\n",
        "            nn.ReLU(True)\n",
        "        )\n",
        "\n",
        "        self.branch5x5 = nn.Sequential(\n",
        "            nn.Conv2d(in_channels, red_5x5, kernel_size=1),\n",
        "            nn.BatchNorm2d(red_5x5),\n",
        "            nn.ReLU(True),\n",
        "            nn.Conv2d(red_5x5, out_5x5, kernel_size=3, padding=1),\n",
        "            nn.BatchNorm2d(out_5x5),\n",
        "            nn.ReLU(True)\n",
        "        )\n",
        "\n",
        "        self.branch_pool = nn.Sequential(\n",
        "            nn.MaxPool2d(kernel_size=3, stride=1, padding=1),\n",
        "            nn.Conv2d(in_channels, out_pool, kernel_size=1),\n",
        "            nn.BatchNorm2d(out_pool),\n",
        "            nn.ReLU(True)\n",
        "        )\n",
        "\n",
        "    def forward(self, x):\n",
        "        branch1x1 = self.branch1x1(x)\n",
        "        branch3x3 = self.branch3x3(x)\n",
        "        branch5x5 = self.branch5x5(x)\n",
        "        branch_pool = self.branch_pool(x)\n",
        "\n",
        "        outputs = [branch1x1, branch3x3, branch5x5, branch_pool]\n",
        "        return torch.cat(outputs, 1)\n"
      ],
      "metadata": {
        "id": "Wz7a8PG6IHfi"
      },
      "execution_count": null,
      "outputs": []
    },
    {
      "cell_type": "markdown",
      "source": [
        "Complete Architecture:"
      ],
      "metadata": {
        "id": "jGdeEQP3IKne"
      }
    },
    {
      "cell_type": "code",
      "source": [
        "class FashionGoogLeNet(nn.Module):\n",
        "    def __init__(self, num_classes=10):\n",
        "        super(FashionGoogLeNet, self).__init__()\n",
        "        self.stem = Stem()\n",
        "        self.inception1 = InceptionModule(64, 32, 16, 32, 16, 32, 32)\n",
        "        self.inception2 = InceptionModule(128, 64, 32, 64, 32, 64, 64)\n",
        "        self.head = Head(num_classes)\n",
        "\n",
        "    def forward(self, x):\n",
        "        x = self.stem(x)\n",
        "        x = self.inception1(x)\n",
        "        x = self.inception2(x)\n",
        "        x = self.head(x)\n",
        "        return x\n"
      ],
      "metadata": {
        "id": "jHg343H0IMxx"
      },
      "execution_count": null,
      "outputs": []
    },
    {
      "cell_type": "markdown",
      "source": [
        "**4. Compare the model parameter sizes of AlexNet, VGG, NiN, and GoogLeNet. How do the latter two network architectures significantly reduce the model parameter size?**\n",
        "\n",
        "Here’s a comparison of parameter sizes between AlexNet, VGG, NiN, and GoogLeNet:\n",
        "\n",
        "AlexNet,\n",
        "\n",
        "Around 60 million parameters. It uses large convolution filters and fully connected layers, contributing to its large size.\n",
        "\n",
        "VGG (VGG16),\n",
        "\n",
        "Around 138 million parameters. VGG is deeper than AlexNet, but its fully connected layers contribute to the high parameter count.\n",
        "\n",
        "NiN (Network-in-Network),\n",
        "\n",
        "NiN uses 1x1 convolutions to reduce parameter size, having significantly fewer parameters than AlexNet and VGG, with around 7 million parameters.\n",
        "\n",
        "GoogLeNet,\n",
        "\n",
        "Only around 6.8 million parameters. The use of 1x1 convolutions for dimensionality reduction within Inception modules significantly cuts down the parameter count while maintaining expressiveness."
      ],
      "metadata": {
        "id": "-zsHmpjGIYvE"
      }
    },
    {
      "cell_type": "markdown",
      "source": [
        "**6. Compare the amount of computation needed in GoogLeNet and AlexNet. How does this affect the design of an accelerator chip, e.g., in terms of memory size, memory bandwidth, cache size, the amount of computation, and the benefit of specialized operations?**\n",
        "\n",
        "\n",
        "- AlexNet requires a substantial amount of computation due to large convolution kernels (e.g., 11x11) and fully connected layers. This leads to higher computational demands and memory usage, especially in terms of storing activations and gradients.\n",
        "\n",
        "- By using smaller convolutions (e.g., 1x1) and reducing the depth of fully connected layers, GoogLeNet is much more computationally efficient. The Inception modules help distribute computation across smaller filters, leading to reduced FLOPs (floating point operations).\n",
        "\n",
        "For accelerator chips:\n",
        "\n",
        "Memory size: GoogLeNet would require less memory, especially for parameter storage, because of its smaller parameter count.\n",
        "Memory bandwidth and cache size: GoogLeNet's smaller filters and efficient architecture mean fewer memory accesses, which can be optimized in hardware design.\n",
        "Specialized operations: GoogLeNet's design benefits from operations like 1x1 convolutions and parallel processing, which can be highly optimized in a custom accelerator chip for deep learning tasks. This makes GoogLeNet more attractive for hardware optimization than AlexNet, which has higher memory bandwidth demands."
      ],
      "metadata": {
        "id": "jemk9Qy_IpzJ"
      }
    },
    {
      "cell_type": "markdown",
      "source": [
        "# 8.5.7 Exercises"
      ],
      "metadata": {
        "id": "K94gLeGZJc-f"
      }
    },
    {
      "cell_type": "markdown",
      "source": [
        "**1.\tShould we remove the bias parameter from the fully connected layer or the convolutional layer before the batch normalization? Why?**\n",
        "\n",
        "Yes, the bias parameter can and should be removed from the fully connected or convolutional layer before batch normalization. Batch normalization already handles shifting the activations by subtracting the mean and scaling them. If a bias term is present in the layer preceding batch normalization, it becomes redundant because batch normalization will normalize the bias away. The purpose of batch normalization is to ensure that the output of a layer has a mean of zero and a standard deviation of one (or close to it). Since bias is directly related to shifting the mean of the output, it's unnecessary and can be removed when batch normalization is applied."
      ],
      "metadata": {
        "id": "csubTbcGJhtM"
      }
    },
    {
      "cell_type": "markdown",
      "source": [
        "**2. Compare the learning rates for LeNet with and without batch normalization.**\n",
        "\n",
        "\n",
        "**a. Plot the increase in validation accuracy.**\n",
        "\n",
        "With Batch Normalization: Batch normalization generally allows for higher learning rates due to its stabilizing effect on training. The model tends to converge faster, especially early in the training process. The validation accuracy typically increases more rapidly in the first few epochs.\n",
        "\n",
        "Without Batch Normalization: LeNet without batch normalization requires a lower learning rate to prevent divergence, and the increase in validation accuracy tends to be slower. This can lead to longer training times.\n",
        "\n",
        "\n",
        "**b. How large can you make the learning rate before the optimization fails in both cases?**\n",
        "\n",
        "With Batch Normalization: We can typically increase the learning rate up to 10 times higher (e.g., from 0.001 to 0.01 or 0.1) without destabilizing the training. Batch normalization helps smooth the gradients and prevents extreme updates, thus allowing larger learning rates.\n",
        "\n",
        "Without Batch Normalization: Without batch normalization, the learning rate needs to be lower to prevent instability and oscillation. Typically, a learning rate of around 0.001 or 0.0001 works best without batch normalization."
      ],
      "metadata": {
        "id": "coJOC785Jubn"
      }
    },
    {
      "cell_type": "markdown",
      "source": [
        "**3. Do we need batch normalization in every layer? Experiment with it.**\n",
        "\n",
        "No, batch normalization is not necessary for every layer. It is most beneficial in:\n",
        "\n",
        "Deeper layers\n",
        "\n",
        "Deeper networks often suffer from internal covariate shift, where the distribution of layer inputs changes during training. Batch normalization mitigates this.\n",
        "\n",
        "Convolutional and fully connected layers\n",
        "\n",
        "It is generally applied after convolutional or fully connected layers where the internal covariate shift is more prominent.\n",
        "Experimenting with batch normalization in only certain layers (such as after every block of convolutions instead of every single layer) often gives a good balance between regularization and training speed. For shallow networks like LeNet, batch normalization might only need to be applied in a few key layers."
      ],
      "metadata": {
        "id": "6u4aKgyTKIIu"
      }
    },
    {
      "cell_type": "markdown",
      "source": [
        "**4. Implement a “lite” version of batch normalization that only removes the mean, or alternatively one that only removes the variance. How does it behave?**\n",
        "\n",
        "Here's how both options behave:\n",
        "\n",
        "Remove the Mean (Centering Only)\n",
        "\n",
        "If batch normalization only centers the activations (i.e., removes the mean), the variance of the activations will remain unchanged, but the network still benefits from having zero-centered data. However, it may still suffer from exploding/vanishing gradients if the variance grows too large or too small.\n",
        "\n",
        "Remove the Variance (Scaling Only)\n",
        "\n",
        "If batch normalization only scales the activations to have a standard deviation of one, the network can still have biased activations (non-zero mean). This can lead to slower convergence but might still stabilize the gradients to some extent."
      ],
      "metadata": {
        "id": "Hu_rnTAEKcL_"
      }
    },
    {
      "cell_type": "markdown",
      "source": [
        "**5. Fix the parameters beta and gamma. Observe and analyze the results.**\n",
        "\n",
        "When we fix beta=0 and gamma=1, batch normalization only performs the centering and scaling steps without allowing the network to learn any additional transformation (like adjusting the mean or variance). The network may still benefit from reduced internal covariate shift, but it loses some flexibility in learning optimal scaling and shifting for each layer. This can lead to slower convergence and slightly worse performance compared to using learnable beta and gamma parameters."
      ],
      "metadata": {
        "id": "iJ7vemRYKp3Y"
      }
    },
    {
      "cell_type": "markdown",
      "source": [
        "**6. Can you replace dropout by batch normalization? How does the behavior change?**\n",
        "\n",
        "Yes, in some cases, we can replace dropout with batch normalization, but they serve slightly different purposes:\n",
        "\n",
        "Batch Normalization\n",
        "\n",
        "Normalizes the input to layers, reducing internal covariate shift and allowing higher learning rates. It has a regularizing effect by smoothing the training process but does not directly prevent co-adaptation of neurons (like dropout does).\n",
        "Dropout: Prevents co-adaptation of neurons by randomly dropping out units during training, which forces the network to learn more robust and independent features.\n",
        "\n",
        "If replace dropout with batch normalization,\n",
        "\n",
        "The model may become less regularized, leading to potential overfitting, especially on small datasets.\n",
        "The model may converge faster due to batch normalization’s ability to stabilize training, but it could generalize worse without dropout's regularization."
      ],
      "metadata": {
        "id": "Wo4lwVWtKxxu"
      }
    },
    {
      "cell_type": "markdown",
      "source": [
        "**7. Research ideas: think of other normalization transforms that you can apply:**\n",
        "\n",
        "**a. Can you apply the probability integral transform?**\n",
        "\n",
        "The probability integral transform can normalize any dataset into a uniform distribution between [0, 1]. It could theoretically be used in deep learning to standardize activations or layer outputs. However, this would likely disrupt the gradients and backpropagation process since it’s designed for probabilistic applications rather than stabilizing deep networks.\n",
        "\n",
        "**b. Can you use a full-rank covariance estimate? Why should you probably not do that?**\n",
        "\n",
        "A full-rank covariance estimate would be computationally expensive and might overfit the data since it involves calculating all pairwise relationships between features. This approach is too resource-intensive for deep learning models where efficiency is crucial.\n",
        "\n",
        "**c. Can you use other compact matrix variants (block-diagonal, low-displacement rank, Monarch, etc.)?**\n",
        "\n",
        "Block-diagonal matrices or low-rank approximations could be an efficient way to normalize activations in a more structured way than batch normalization. These methods would provide regularization while reducing computational overhead, making them attractive for large networks.\n",
        "\n",
        "**d. Does a sparsification compression act as a regularizer?**\n",
        "\n",
        "Sparsification (e.g., making weights sparse) acts as a regularizer by forcing the model to rely on fewer, more essential parameters. This can help prevent overfitting and lead to better generalization, similar to dropout.\n",
        "\n",
        "**e. Are there other projections (e.g., convex cone, symmetry group-specific transforms) that you can use?**\n",
        "\n",
        "Sparsification (e.g., making weights sparse) acts as a regularizer by forcing the model to rely on fewer, more essential parameters. This can help prevent overfitting and lead to better generalization, similar to dropout."
      ],
      "metadata": {
        "id": "Qq8aMchdLC0R"
      }
    },
    {
      "cell_type": "markdown",
      "source": [
        "# 8.6.7. Exercises\n",
        "\n"
      ],
      "metadata": {
        "id": "JTrrh5qoN-ap"
      }
    },
    {
      "cell_type": "markdown",
      "source": [
        " **1. What are the major differences between the Inception block in Fig. 8.4.1 and the residual block? How do they compare in terms of computation, accuracy, and the classes of functions they can describe?**\n",
        "\n",
        "\n",
        "- Inception Block (GoogLeNet)\n",
        "\n",
        "Structure: The Inception block is designed to perform multiple types of convolutions (e.g., 1x1, 3x3, and 5x5) and pooling operations in parallel. This allows the model to capture features at different scales and combine them to form a richer representation.\n",
        "\n",
        "Computation: Inception blocks are more computationally efficient due to the use of 1x1 convolutions, which reduce the dimensionality before applying more expensive operations like 3x3 or 5x5 convolutions. This drastically reduces the number of parameters and computations while preserving expressiveness.\n",
        "\n",
        "Accuracy: Inception blocks are effective at learning multi-scale representations and can achieve high accuracy with relatively fewer parameters compared to deeper architectures like VGG or AlexNet.\n",
        "\n",
        "Function Classes: The Inception block is capable of describing a wider class of functions by operating on multiple feature scales and combining these features. It emphasizes feature diversity at each layer, making it good for capturing varying types of spatial information.\n",
        "\n",
        "- Residual Block (ResNet)\n",
        "\n",
        "Structure: The residual block introduces a skip connection (also known as identity mapping) that bypasses the convolutions and directly connects the input to the output. This allows the network to learn the residual (the difference between the input and output), which simplifies the learning process.\n",
        "\n",
        "Computation: Residual blocks typically require fewer computations per block compared to Inception blocks. However, because residual networks (ResNet) tend to be deeper, the overall computation can be significant for very deep networks. The bottleneck architecture in deeper ResNets helps mitigate this by reducing the computational complexity.\n",
        "\n",
        "Accuracy: Residual blocks are highly effective at training very deep networks by addressing the vanishing gradient problem. Networks with residual connections can maintain or improve accuracy even as depth increases.\n",
        "\n",
        "Function Classes: Residual blocks allow the network to approximate identity functions more easily, which helps in learning simpler transformations when necessary. This makes residual networks better suited for deeper architectures because they focus on refining existing features rather than learning entirely new ones at each layer."
      ],
      "metadata": {
        "id": "HbmdjtLrOEie"
      }
    },
    {
      "cell_type": "markdown",
      "source": [
        "**2. Refer to Table 1 in the ResNet paper (He et al., 2016) to implement different variants of the network.**\n",
        "\n",
        "- Basic Block\n",
        "\n",
        "\n",
        "```\n",
        "#\n",
        "import torch\n",
        "import torch.nn as nn\n",
        "\n",
        "class BasicBlock(nn.Module):\n",
        "    expansion = 1  # No expansion in Basic Block\n",
        "\n",
        "    def __init__(self, in_channels, out_channels, stride=1):\n",
        "        super(BasicBlock, self).__init__()\n",
        "        self.conv1 = nn.Conv2d(in_channels, out_channels, kernel_size=3, stride=stride, padding=1, bias=False)\n",
        "        self.bn1 = nn.BatchNorm2d(out_channels)\n",
        "        self.relu = nn.ReLU(inplace=True)\n",
        "        self.conv2 = nn.Conv2d(out_channels, out_channels, kernel_size=3, stride=1, padding=1, bias=False)\n",
        "        self.bn2 = nn.BatchNorm2d(out_channels)\n",
        "        \n",
        "        # Skip connection to match input and output dimensions\n",
        "        self.shortcut = nn.Sequential()\n",
        "        if stride != 1 or in_channels != self.expansion * out_channels:\n",
        "            self.shortcut = nn.Sequential(\n",
        "                nn.Conv2d(in_channels, self.expansion * out_channels, kernel_size=1, stride=stride, bias=False),\n",
        "                nn.BatchNorm2d(self.expansion * out_channels)\n",
        "            )\n",
        "\n",
        "    def forward(self, x):\n",
        "        out = self.relu(self.bn1(self.conv1(x)))\n",
        "        out = self.bn2(self.conv2(out))\n",
        "        out += self.shortcut(x)\n",
        "        out = self.relu(out)\n",
        "        return out\n",
        "\n",
        "```\n",
        "- Bottleneck Block\n",
        "\n",
        "\n",
        "```\n",
        "# class BottleneckBlock(nn.Module):\n",
        "    expansion = 4  # Expands output channels by 4\n",
        "\n",
        "    def __init__(self, in_channels, out_channels, stride=1):\n",
        "        super(BottleneckBlock, self).__init__()\n",
        "        self.conv1 = nn.Conv2d(in_channels, out_channels, kernel_size=1, bias=False)\n",
        "        self.bn1 = nn.BatchNorm2d(out_channels)\n",
        "        self.conv2 = nn.Conv2d(out_channels, out_channels, kernel_size=3, stride=stride, padding=1, bias=False)\n",
        "        self.bn2 = nn.BatchNorm2d(out_channels)\n",
        "        self.conv3 = nn.Conv2d(out_channels, self.expansion * out_channels, kernel_size=1, bias=False)\n",
        "        self.bn3 = nn.BatchNorm2d(self.expansion * out_channels)\n",
        "        self.relu = nn.ReLU(inplace=True)\n",
        "\n",
        "        # Skip connection for dimension matching\n",
        "        self.shortcut = nn.Sequential()\n",
        "        if stride != 1 or in_channels != self.expansion * out_channels:\n",
        "            self.shortcut = nn.Sequential(\n",
        "                nn.Conv2d(in_channels, self.expansion * out_channels, kernel_size=1, stride=stride, bias=False),\n",
        "                nn.BatchNorm2d(self.expansion * out_channels)\n",
        "            )\n",
        "\n",
        "    def forward(self, x):\n",
        "        out = self.relu(self.bn1(self.conv1(x)))\n",
        "        out = self.relu(self.bn2(self.conv2(out)))\n",
        "        out = self.bn3(self.conv3(out))\n",
        "        out += self.shortcut(x)\n",
        "        out = self.relu(out)\n",
        "        return out\n",
        "\n",
        "```\n",
        "\n",
        "\n",
        "\n",
        "\n"
      ],
      "metadata": {
        "id": "TBz9RrXiOeGw"
      }
    },
    {
      "cell_type": "markdown",
      "source": [
        "**3. For deeper networks, ResNet introduces a “bottleneck” architecture to reduce model complexity. Try to implement it.**\n",
        "\n",
        "\n",
        "\n",
        "```\n",
        "# import torch\n",
        "import torch.nn as nn\n",
        "\n",
        "class BottleneckBlock(nn.Module):\n",
        "    expansion = 4  # Output channels are expanded by a factor of 4\n",
        "\n",
        "    def __init__(self, in_channels, out_channels, stride=1):\n",
        "        super(BottleneckBlock, self).__init__()\n",
        "        # First 1x1 convolution reduces the number of channels (dimensionality reduction)\n",
        "        self.conv1 = nn.Conv2d(in_channels, out_channels, kernel_size=1, bias=False)\n",
        "        self.bn1 = nn.BatchNorm2d(out_channels)\n",
        "        \n",
        "        # 3x3 convolution for feature extraction (with stride for downsampling)\n",
        "        self.conv2 = nn.Conv2d(out_channels, out_channels, kernel_size=3, stride=stride, padding=1, bias=False)\n",
        "        self.bn2 = nn.BatchNorm2d(out_channels)\n",
        "        \n",
        "        # Second 1x1 convolution increases the number of channels (dimensionality restoration)\n",
        "        self.conv3 = nn.Conv2d(out_channels, out_channels * self.expansion, kernel_size=1, bias=False)\n",
        "        self.bn3 = nn.BatchNorm2d(out_channels * self.expansion)\n",
        "        \n",
        "        self.relu = nn.ReLU(inplace=True)\n",
        "\n",
        "        # Skip connection for dimension matching, if needed\n",
        "        self.shortcut = nn.Sequential()\n",
        "        if stride != 1 or in_channels != out_channels * self.expansion:\n",
        "            self.shortcut = nn.Sequential(\n",
        "                nn.Conv2d(in_channels, out_channels * self.expansion, kernel_size=1, stride=stride, bias=False),\n",
        "                nn.BatchNorm2d(out_channels * self.expansion)\n",
        "            )\n",
        "\n",
        "    def forward(self, x):\n",
        "        # Forward pass through each layer in the bottleneck block\n",
        "        out = self.relu(self.bn1(self.conv1(x)))  # 1x1 convolution (reduce dimensions)\n",
        "        out = self.relu(self.bn2(self.conv2(out)))  # 3x3 convolution (feature extraction)\n",
        "        out = self.bn3(self.conv3(out))  # 1x1 convolution (restore dimensions)\n",
        "        \n",
        "        # Add the skip connection to the output\n",
        "        out += self.shortcut(x)\n",
        "        out = self.relu(out)\n",
        "        return out\n",
        "\n",
        "```\n",
        "\n",
        "\n",
        "\n"
      ],
      "metadata": {
        "id": "QfJGWpcVPEkF"
      }
    },
    {
      "cell_type": "markdown",
      "source": [
        "**4. In subsequent versions of ResNet, the authors changed the “convolution, batch normalization, and activation” structure to the “batch normalization, activation, and convolution” structure. Make this improvement yourself. See Figure 1 in He et al. (2016) for details.**\n",
        "\n",
        "In subsequent versions of ResNet, the authors switched the original sequence of convolution → batch normalization → activation to batch normalization → activation → convolution. This modification has been shown to improve training stability, especially in deeper networks.\n",
        "\n",
        "Here's how we can make this change to the ResNet bottleneck block:\n",
        "\n",
        "\n",
        "\n",
        "```\n",
        "# import torch\n",
        "import torch.nn as nn\n",
        "\n",
        "class BottleneckBlockUpdated(nn.Module):\n",
        "    expansion = 4  # Output channels are expanded by a factor of 4\n",
        "\n",
        "    def __init__(self, in_channels, out_channels, stride=1):\n",
        "        super(BottleneckBlockUpdated, self).__init__()\n",
        "        # First 1x1 convolution with new structure (BatchNorm -> Activation -> Conv)\n",
        "        self.bn1 = nn.BatchNorm2d(in_channels)\n",
        "        self.relu = nn.ReLU(inplace=True)\n",
        "        self.conv1 = nn.Conv2d(in_channels, out_channels, kernel_size=1, bias=False)\n",
        "        \n",
        "        # 3x3 convolution with stride for downsampling (BatchNorm -> Activation -> Conv)\n",
        "        self.bn2 = nn.BatchNorm2d(out_channels)\n",
        "        self.conv2 = nn.Conv2d(out_channels, out_channels, kernel_size=3, stride=stride, padding=1, bias=False)\n",
        "        \n",
        "        # Second 1x1 convolution with new structure (BatchNorm -> Activation -> Conv)\n",
        "        self.bn3 = nn.BatchNorm2d(out_channels)\n",
        "        self.conv3 = nn.Conv2d(out_channels, out_channels * self.expansion, kernel_size=1, bias=False)\n",
        "        \n",
        "        # Skip connection for identity mapping\n",
        "        self.shortcut = nn.Sequential()\n",
        "        if stride != 1 or in_channels != out_channels * self.expansion:\n",
        "            self.shortcut = nn.Sequential(\n",
        "                nn.Conv2d(in_channels, out_channels * self.expansion, kernel_size=1, stride=stride, bias=False),\n",
        "                nn.BatchNorm2d(out_channels * self.expansion)\n",
        "            )\n",
        "\n",
        "    def forward(self, x):\n",
        "        # Apply BatchNorm -> ReLU -> Conv for each layer\n",
        "        out = self.conv1(self.relu(self.bn1(x)))  # 1x1 convolution (reduce dimensions)\n",
        "        out = self.conv2(self.relu(self.bn2(out)))  # 3x3 convolution (feature extraction)\n",
        "        out = self.conv3(self.relu(self.bn3(out)))  # 1x1 convolution (restore dimensions)\n",
        "\n",
        "        # Add skip connection\n",
        "        out += self.shortcut(x)\n",
        "        out = self.relu(out)\n",
        "        return out\n",
        "\n",
        "```\n",
        "\n"
      ],
      "metadata": {
        "id": "8MbQxrtwPg-7"
      }
    },
    {
      "cell_type": "markdown",
      "source": [
        "**5. Why can’t we just increase the complexity of functions without bound, even if the function classes are nested?**\n",
        "\n",
        "- Overfitting, More complex functions with excessive parameters tend to memorize the training data, leading to poor generalization on unseen data.\n",
        "\n",
        "- Vanishing/Exploding Gradients, Without careful architectural choices (like residual connections), gradients can vanish or explode in very deep networks, making them difficult to train.\n",
        "\n",
        "- Optimization Difficulties, Increasing complexity can make the loss landscape harder to navigate, with more local minima and saddle points, which slows down convergence.\n",
        "\n",
        "- Computational Constraints, Increasing complexity leads to more parameters and operations, which demands more memory, computational power, and training time. The increased resource requirements may make very large networks infeasible on most hardware."
      ],
      "metadata": {
        "id": "sh1_RD4gP4-9"
      }
    },
    {
      "cell_type": "markdown",
      "source": [
        "# 8.7.7. Exercises"
      ],
      "metadata": {
        "id": "3riw--yhQd2l"
      }
    },
    {
      "cell_type": "markdown",
      "source": [
        "**1. Why do we use average pooling rather than max-pooling in the transition layer?**\n",
        "\n",
        "- Smoother Downsampling\n",
        "\n",
        "Average pooling tends to provide a smoother reduction of the feature map size compared to max-pooling, which only selects the maximum value. This smoother transition can help maintain more information about the features across layers.\n",
        "\n",
        "- Reduced Information Loss\n",
        "\n",
        "Max-pooling only retains the most prominent feature in a local region, while average pooling retains a broader sense of the region's information by averaging. In dense architectures like DenseNet, where every layer is connected to all subsequent layers, preserving as much information as possible is important, and average pooling helps in that regard.\n",
        "\n",
        "- Complementarity with Dense Blocks\n",
        "\n",
        "DenseNet uses feature reuse across layers, where each layer builds upon the features generated by all previous layers. Average pooling helps maintain feature diversity and reduces the chance of \"losing\" weaker but still informative signals in the downsampled layers."
      ],
      "metadata": {
        "id": "3T5voU_CQl5o"
      }
    },
    {
      "cell_type": "markdown",
      "source": [
        "**2. One of the advantages mentioned in the DenseNet paper is that its model parameters are smaller than those of ResNet. Why is this the case?**\n",
        "\n",
        "- Dense Connectivity\n",
        "\n",
        "In DenseNet, each layer receives input from all previous layers via dense connections, allowing for efficient feature reuse. This reduces the need for a large number of filters in each layer because the model can build on previously extracted features rather than re-learning similar information in each layer.\n",
        "\n",
        "- No Redundant Layers\n",
        "\n",
        "ResNet uses residual connections, but each layer still generates its own set of features, which can introduce redundancy. In contrast, DenseNet reuses features from previous layers, leading to fewer redundant parameters and more compact models.\n",
        "\n",
        "- Bottleneck Layers\n",
        "\n",
        "DenseNet often employs bottleneck layers (1x1 convolutions) to reduce the number of feature maps passed between Dense Blocks, further reducing the parameter count without significantly affecting performance.\n",
        "\n"
      ],
      "metadata": {
        "id": "Tmvh_mnOQ1ln"
      }
    },
    {
      "cell_type": "markdown",
      "source": [
        "**3. One problem for which DenseNet has been criticized is its high memory consumption.**\n",
        "\n",
        "**a. Is this really the case? Try to change the input shape to 224 x 224 to compare the actual GPU memory consumption empirically.**\n",
        "\n",
        "DenseNet has been criticized for high memory consumption due to its dense connectivity pattern. Every layer connects to all subsequent layers, meaning the network must store a large number of intermediate feature maps during the forward pass for backpropagation, which increases memory usage.\n",
        "\n",
        "Code to Compare GPU Memory Usage\n",
        "\n",
        "\n",
        "\n",
        "```\n",
        "import torch\n",
        "import torch.nn as nn\n",
        "from torchvision.models import densenet121, resnet50\n",
        "import time\n",
        "\n",
        "# Change input shape\n",
        "input_shape = (1, 3, 224, 224)  # 3-channel image, 224x224\n",
        "\n",
        "def check_memory_usage(model, input_shape):\n",
        "    model = model.cuda()\n",
        "    input_data = torch.randn(input_shape).cuda()\n",
        "    \n",
        "    torch.cuda.empty_cache()  # Clear GPU cache\n",
        "    start_mem = torch.cuda.memory_allocated()  # Initial memory usage\n",
        "\n",
        "    # Forward pass\n",
        "    with torch.no_grad():\n",
        "        output = model(input_data)\n",
        "\n",
        "    end_mem = torch.cuda.memory_allocated()  # Memory usage after forward pass\n",
        "    print(f\"Memory usage: {end_mem - start_mem} bytes\")\n",
        "\n",
        "# DenseNet and ResNet comparison\n",
        "densenet_model = densenet121(pretrained=False)\n",
        "resnet_model = resnet50(pretrained=False)\n",
        "\n",
        "print(\"DenseNet Memory Consumption:\")\n",
        "check_memory_usage(densenet_model, input_shape)\n",
        "\n",
        "print(\"ResNet Memory Consumption:\")\n",
        "check_memory_usage(resnet_model, input_shape)\n",
        "\n",
        "```\n",
        "\n",
        "\n",
        "\n",
        "**b. Can you think of an alternative means of reducing the memory consumption? How would you need to change the framework?**\n",
        "\n",
        "Gradient Checkpointing,\n",
        "\n",
        "Instead of storing all intermediate activations, some can be recomputed during the backward pass, reducing memory usage at the cost of increased computation time.\n",
        "\n",
        "Smaller Growth Rate,\n",
        "\n",
        "Reducing the growth rate (number of new feature maps created per layer) can lower the number of feature maps generated in each layer, thus reducing memory usage.\n",
        "\n",
        "Compressing the Dense Blocks,\n",
        "\n",
        "Use a compression factor at the transition layers (after pooling) to reduce the number of channels passed between dense blocks."
      ],
      "metadata": {
        "id": "AQTdwJGwRFc1"
      }
    },
    {
      "cell_type": "markdown",
      "source": [
        "**4. Implement the various DenseNet versions presented in Table 1 of the DenseNet paper (Huang et al., 2017).**\n",
        "\n",
        "\n",
        "\n",
        "```\n",
        "import torch\n",
        "import torch.nn as nn\n",
        "import torch.nn.functional as F\n",
        "\n",
        "class BottleneckLayer(nn.Module):\n",
        "    def __init__(self, in_channels, growth_rate):\n",
        "        super(BottleneckLayer, self).__init__()\n",
        "        self.bn1 = nn.BatchNorm2d(in_channels)\n",
        "        self.conv1 = nn.Conv2d(in_channels, 4 * growth_rate, kernel_size=1, bias=False)\n",
        "        self.bn2 = nn.BatchNorm2d(4 * growth_rate)\n",
        "        self.conv2 = nn.Conv2d(4 * growth_rate, growth_rate, kernel_size=3, padding=1, bias=False)\n",
        "\n",
        "    def forward(self, x):\n",
        "        out = self.conv1(F.relu(self.bn1(x)))\n",
        "        out = self.conv2(F.relu(self.bn2(out)))\n",
        "        return torch.cat([x, out], 1)  # Concatenate input with output\n",
        "\n",
        "class DenseBlock(nn.Module):\n",
        "    def __init__(self, num_layers, in_channels, growth_rate):\n",
        "        super(DenseBlock, self).__init__()\n",
        "        self.layers = nn.ModuleList([BottleneckLayer(in_channels + i * growth_rate, growth_rate) for i in range(num_layers)])\n",
        "\n",
        "    def forward(self, x):\n",
        "        for layer in self.layers:\n",
        "            x = layer(x)\n",
        "        return x\n",
        "\n",
        "class TransitionLayer(nn.Module):\n",
        "    def __init__(self, in_channels, out_channels):\n",
        "        super(TransitionLayer, self).__init__()\n",
        "        self.bn = nn.BatchNorm2d(in_channels)\n",
        "        self.conv = nn.Conv2d(in_channels, out_channels, kernel_size=1, bias=False)\n",
        "        self.pool = nn.AvgPool2d(2)\n",
        "\n",
        "    def forward(self, x):\n",
        "        x = self.pool(self.conv(F.relu(self.bn(x))))\n",
        "        return x\n",
        "\n",
        "class DenseNet(nn.Module):\n",
        "    def __init__(self, block_config, growth_rate=32, num_classes=1000):\n",
        "        super(DenseNet, self).__init__()\n",
        "        self.growth_rate = growth_rate\n",
        "        num_init_features = 64\n",
        "\n",
        "        # Initial convolution\n",
        "        self.conv1 = nn.Conv2d(3, num_init_features, kernel_size=7, stride=2, padding=3, bias=False)\n",
        "        self.bn1 = nn.BatchNorm2d(num_init_features)\n",
        "        self.pool1 = nn.MaxPool2d(3, stride=2, padding=1)\n",
        "\n",
        "        # Dense blocks and transition layers\n",
        "        self.blocks = nn.ModuleList()\n",
        "        self.transitions = nn.ModuleList()\n",
        "        in_channels = num_init_features\n",
        "\n",
        "        for i, num_layers in enumerate(block_config):\n",
        "            self.blocks.append(DenseBlock(num_layers, in_channels, growth_rate))\n",
        "            in_channels += num_layers * growth_rate\n",
        "            if i != len(block_config) - 1:\n",
        "                self.transitions.append(TransitionLayer(in_channels, in_channels // 2))\n",
        "                in_channels = in_channels // 2\n",
        "\n",
        "        # Final batch norm\n",
        "        self.bn_final = nn.BatchNorm2d(in_channels)\n",
        "\n",
        "        # Classification layer\n",
        "        self.fc = nn.Linear(in_channels, num_classes)\n",
        "\n",
        "    def forward(self, x):\n",
        "        x = self.pool1(F.relu(self.bn1(self.conv1(x))))\n",
        "        for i, block in enumerate(self.blocks):\n",
        "            x = block(x)\n",
        "            if i < len(self.transitions):\n",
        "                x = self.transitions[i](x)\n",
        "        x = F.relu(self.bn_final(x))\n",
        "        x = F.adaptive_avg_pool2d(x, (1, 1))\n",
        "        x = torch.flatten(x, 1)\n",
        "        x = self.fc(x)\n",
        "        return x\n",
        "\n",
        "# Example for DenseNet-121\n",
        "def DenseNet121():\n",
        "    return DenseNet([6, 12, 24, 16], growth_rate=32)\n",
        "\n",
        "```\n",
        "\n"
      ],
      "metadata": {
        "id": "7_d2kZN1aB6n"
      }
    },
    {
      "cell_type": "markdown",
      "source": [
        "**5. Design an MLP-based model by applying the DenseNet idea. Apply it to the housing price prediction task in Section 5.7.**\n",
        "\n",
        "\n",
        "\n",
        "```\n",
        "import torch\n",
        "import torch.nn as nn\n",
        "\n",
        "class DenseMLPBlock(nn.Module):\n",
        "    def __init__(self, input_size, growth_rate):\n",
        "        super(DenseMLPBlock, self).__init__()\n",
        "        self.fc1 = nn.Linear(input_size, growth_rate)\n",
        "        self.fc2 = nn.Linear(input_size + growth_rate, growth_rate)\n",
        "\n",
        "    def forward(self, x):\n",
        "        out1 = torch.relu(self.fc1(x))\n",
        "        out2 = torch.relu(self.fc2(torch.cat([x, out1], dim=1)))\n",
        "        return torch.cat([x, out1, out2], dim=1)\n",
        "\n",
        "class DenseMLP(nn.Module):\n",
        "    def __init__(self, input_size, growth_rate, num_blocks, num_classes):\n",
        "        super(DenseMLP, self).__init__()\n",
        "        self.blocks = nn.ModuleList([DenseMLPBlock(input_size + i * growth_rate, growth_rate) for i in range(num_blocks)])\n",
        "        self.fc_final = nn.Linear(input_size + num_blocks * growth_rate, num_classes)\n",
        "\n",
        "    def forward(self, x):\n",
        "        for block in self.blocks:\n",
        "            x = block(x)\n",
        "        return self.fc_final(x)\n",
        "\n",
        "# Example for Housing Price Prediction\n",
        "model = DenseMLP(input_size=13, growth_rate=16, num_blocks=3, num_classes=1)\n",
        "\n",
        "```\n",
        "\n"
      ],
      "metadata": {
        "id": "B57gHYDiasJQ"
      }
    },
    {
      "cell_type": "markdown",
      "source": [
        "# 8.8.6. Exercises"
      ],
      "metadata": {
        "id": "JLG2uAeZbCNo"
      }
    },
    {
      "cell_type": "markdown",
      "source": [
        "**1. Increase the number of stages to four. Can you design a deeper RegNetX that performs better?**\n",
        "\n",
        "\n",
        "\n",
        "```\n",
        "import torch\n",
        "import torch.nn as nn\n",
        "import torch.nn.functional as F\n",
        "\n",
        "class RegNetXBlock(nn.Module):\n",
        "    def __init__(self, in_channels, out_channels, group_width, stride=1):\n",
        "        super(RegNetXBlock, self).__init__()\n",
        "        self.conv1 = nn.Conv2d(in_channels, out_channels, kernel_size=1, stride=1, bias=False)\n",
        "        self.bn1 = nn.BatchNorm2d(out_channels)\n",
        "        self.conv2 = nn.Conv2d(out_channels, out_channels, kernel_size=3, stride=stride, padding=1, groups=group_width, bias=False)\n",
        "        self.bn2 = nn.BatchNorm2d(out_channels)\n",
        "        self.conv3 = nn.Conv2d(out_channels, out_channels, kernel_size=1, stride=1, bias=False)\n",
        "        self.bn3 = nn.BatchNorm2d(out_channels)\n",
        "        self.relu = nn.ReLU(inplace=True)\n",
        "\n",
        "        self.shortcut = nn.Sequential()\n",
        "        if stride != 1 or in_channels != out_channels:\n",
        "            self.shortcut = nn.Sequential(\n",
        "                nn.Conv2d(in_channels, out_channels, kernel_size=1, stride=stride, bias=False),\n",
        "                nn.BatchNorm2d(out_channels)\n",
        "            )\n",
        "\n",
        "    def forward(self, x):\n",
        "        out = self.relu(self.bn1(self.conv1(x)))\n",
        "        out = self.relu(self.bn2(self.conv2(out)))\n",
        "        out = self.bn3(self.conv3(out))\n",
        "        out += self.shortcut(x)\n",
        "        out = self.relu(out)\n",
        "        return out\n",
        "\n",
        "class RegNetX(nn.Module):\n",
        "    def __init__(self, num_classes=10):\n",
        "        super(RegNetX, self).__init__()\n",
        "        self.stem = nn.Sequential(\n",
        "            nn.Conv2d(3, 32, kernel_size=3, stride=1, padding=1, bias=False),\n",
        "            nn.BatchNorm2d(32),\n",
        "            nn.ReLU(inplace=True)\n",
        "        )\n",
        "\n",
        "        # Stage configurations\n",
        "        self.stage1 = self._make_stage(32, 64, group_width=8, num_blocks=3, stride=1)\n",
        "        self.stage2 = self._make_stage(64, 128, group_width=16, num_blocks=4, stride=2)\n",
        "        self.stage3 = self._make_stage(128, 256, group_width=16, num_blocks=6, stride=2)\n",
        "        self.stage4 = self._make_stage(256, 512, group_width=32, num_blocks=4, stride=2)\n",
        "\n",
        "        self.avg_pool = nn.AdaptiveAvgPool2d((1, 1))\n",
        "        self.fc = nn.Linear(512, num_classes)\n",
        "\n",
        "    def _make_stage(self, in_channels, out_channels, group_width, num_blocks, stride):\n",
        "        strides = [stride] + [1] * (num_blocks - 1)\n",
        "        layers = []\n",
        "        for stride in strides:\n",
        "            layers.append(RegNetXBlock(in_channels, out_channels, group_width, stride))\n",
        "            in_channels = out_channels\n",
        "        return nn.Sequential(*layers)\n",
        "\n",
        "    def forward(self, x):\n",
        "        x = self.stem(x)\n",
        "        x = self.stage1(x)\n",
        "        x = self.stage2(x)\n",
        "        x = self.stage3(x)\n",
        "        x = self.stage4(x)\n",
        "        x = self.avg_pool(x)\n",
        "        x = x.view(x.size(0), -1)\n",
        "        x = self.fc(x)\n",
        "        return x\n",
        "\n",
        "# Test the deeper RegNetX model\n",
        "model = RegNetX(num_classes=10)\n",
        "x = torch.randn(1, 3, 32, 32)  # Example input size for CIFAR-10\n",
        "output = model(x)\n",
        "print(\"Output shape:\", output.shape)\n",
        "\n",
        "```\n",
        "\n"
      ],
      "metadata": {
        "id": "PeGuLD3WbHjZ"
      }
    },
    {
      "cell_type": "markdown",
      "source": [
        "**2. De-ResNeXt-ify RegNets by replacing the ResNeXt block with the ResNet block. How does your new model perform?**\n",
        "\n",
        "We will modify the existing RegNetXBlock by removing the group convolutions and replacing them with standard convolutions, which is how ResNet blocks are typically designed.\n",
        "\n",
        "\n",
        "\n",
        "```\n",
        "import torch\n",
        "import torch.nn as nn\n",
        "\n",
        "# Define the standard ResNet block (without group convolutions)\n",
        "class ResNetBlock(nn.Module):\n",
        "    def __init__(self, in_channels, out_channels, stride=1):\n",
        "        super(ResNetBlock, self).__init__()\n",
        "        self.conv1 = nn.Conv2d(in_channels, out_channels, kernel_size=3, stride=stride, padding=1, bias=False)\n",
        "        self.bn1 = nn.BatchNorm2d(out_channels)\n",
        "        self.conv2 = nn.Conv2d(out_channels, out_channels, kernel_size=3, stride=1, padding=1, bias=False)\n",
        "        self.bn2 = nn.BatchNorm2d(out_channels)\n",
        "        self.relu = nn.ReLU(inplace=True)\n",
        "\n",
        "        self.shortcut = nn.Sequential()\n",
        "        if stride != 1 or in_channels != out_channels:\n",
        "            self.shortcut = nn.Sequential(\n",
        "                nn.Conv2d(in_channels, out_channels, kernel_size=1, stride=stride, bias=False),\n",
        "                nn.BatchNorm2d(out_channels)\n",
        "            )\n",
        "\n",
        "    def forward(self, x):\n",
        "        out = self.relu(self.bn1(self.conv1(x)))\n",
        "        out = self.bn2(self.conv2(out))\n",
        "        out += self.shortcut(x)\n",
        "        out = self.relu(out)\n",
        "        return out\n",
        "\n",
        "# Replace the RegNetX blocks with ResNet blocks\n",
        "class DeResNeXtifiedRegNet(nn.Module):\n",
        "    def __init__(self, num_classes=10):\n",
        "        super(DeResNeXtifiedRegNet, self).__init__()\n",
        "        self.stem = nn.Sequential(\n",
        "            nn.Conv2d(3, 32, kernel_size=3, stride=1, padding=1, bias=False),\n",
        "            nn.BatchNorm2d(32),\n",
        "            nn.ReLU(inplace=True)\n",
        "        )\n",
        "\n",
        "        # Use ResNetBlock instead of the RegNeXt block\n",
        "        self.stage1 = self._make_stage(32, 64, num_blocks=3, stride=1)\n",
        "        self.stage2 = self._make_stage(64, 128, num_blocks=4, stride=2)\n",
        "        self.stage3 = self._make_stage(128, 256, num_blocks=6, stride=2)\n",
        "        self.stage4 = self._make_stage(256, 512, num_blocks=4, stride=2)\n",
        "\n",
        "        self.avg_pool = nn.AdaptiveAvgPool2d((1, 1))\n",
        "        self.fc = nn.Linear(512, num_classes)\n",
        "\n",
        "    def _make_stage(self, in_channels, out_channels, num_blocks, stride):\n",
        "        strides = [stride] + [1] * (num_blocks - 1)\n",
        "        layers = []\n",
        "        for stride in strides:\n",
        "            layers.append(ResNetBlock(in_channels, out_channels, stride))\n",
        "            in_channels = out_channels\n",
        "        return nn.Sequential(*layers)\n",
        "\n",
        "    def forward(self, x):\n",
        "        x = self.stem(x)\n",
        "        x = self.stage1(x)\n",
        "        x = self.stage2(x)\n",
        "        x = self.stage3(x)\n",
        "        x = self.stage4(x)\n",
        "        x = self.avg_pool(x)\n",
        "        x = x.view(x.size(0), -1)\n",
        "        x = self.fc(x)\n",
        "        return x\n",
        "\n",
        "# Test the De-ResNeXt-ified RegNet model\n",
        "model = DeResNeXtifiedRegNet(num_classes=10)\n",
        "x = torch.randn(1, 3, 32, 32)  # Example input size for CIFAR-10\n",
        "output = model(x)\n",
        "print(\"Output shape:\", output.shape)\n",
        "\n",
        "```\n",
        "\n",
        "\n",
        "Expected Performance:\n",
        "- Computation\n",
        "\n",
        "Since we are using full convolutions in each layer, we expect the computational complexity (in terms of FLOPs) to increase, leading to potentially slower training and inference times.\n",
        "Parameter Count: With ResNet blocks, the parameter count will likely increase since we are no longer using group convolutions to compress the number of weights.\n",
        "\n",
        "- Accuracy\n",
        "\n",
        "Removing the grouping from the blocks might make the network less efficient at capturing multi-scale features compared to the original RegNet, but it could still perform reasonably well due to the simplicity and power of standard convolutional layers.\n",
        "\n",
        "Evaluation:\n",
        "\n",
        "- Memory Usage\n",
        "\n",
        "The model will likely consume more memory during training due to the increase in the number of parameters.\n",
        "\n",
        "\n",
        "- Accuracy\n",
        "You may see a slight drop in performance on large datasets because grouped convolutions help with learning diverse feature representations efficiently.\n",
        "\n"
      ],
      "metadata": {
        "id": "5I0Dj55acLhz"
      }
    },
    {
      "cell_type": "markdown",
      "source": [
        "**3.\tImplement multiple instances of a “VioNet” family by violating the design principles of RegNetX. How do they perform? Which of (di, ci, gi, bi) is the most important factor?**\n",
        "\n",
        "\n",
        "\n",
        "```\n",
        "class VioNet(nn.Module):\n",
        "    def __init__(self, num_classes=10):\n",
        "        super(VioNet, self).__init__()\n",
        "        \n",
        "        # Stem\n",
        "        self.stem = nn.Sequential(\n",
        "            nn.Conv2d(3, 32, kernel_size=3, stride=1, padding=1, bias=False),\n",
        "            nn.BatchNorm2d(32),\n",
        "            nn.ReLU(inplace=True)\n",
        "        )\n",
        "        \n",
        "        # Violating the design principles\n",
        "        # Variant 1: Deep early layers (depth-heavy)\n",
        "        self.stage1 = self._make_stage(32, 64, num_blocks=10, stride=1)  # Excessive depth here\n",
        "        self.stage2 = self._make_stage(64, 32, num_blocks=2, stride=2)   # Very shallow here\n",
        "        \n",
        "        # Variant 2: Channel imbalance\n",
        "        self.stage3 = self._make_stage(32, 128, num_blocks=3, stride=2)  # Channel size jumps too much\n",
        "        \n",
        "        # Variant 3: Group convolutions violation (excessive grouping)\n",
        "        self.stage4 = self._make_stage(128, 256, num_blocks=3, stride=2, groups=32)\n",
        "        \n",
        "        # Head\n",
        "        self.avg_pool = nn.AdaptiveAvgPool2d((1, 1))\n",
        "        self.fc = nn.Linear(256, num_classes)\n",
        "\n",
        "    def _make_stage(self, in_channels, out_channels, num_blocks, stride, groups=1):\n",
        "        layers = []\n",
        "        for _ in range(num_blocks):\n",
        "            layers.append(ResNetBlock(in_channels, out_channels, stride=stride, groups=groups))\n",
        "            in_channels = out_channels\n",
        "        return nn.Sequential(*layers)\n",
        "\n",
        "    def forward(self, x):\n",
        "        x = self.stem(x)\n",
        "        x = self.stage1(x)\n",
        "        x = self.stage2(x)\n",
        "        x = self.stage3(x)\n",
        "        x = self.stage4(x)\n",
        "        x = self.avg_pool(x)\n",
        "        x = x.view(x.size(0), -1)\n",
        "        x = self.fc(x)\n",
        "        return x\n",
        "\n",
        "```\n",
        "\n",
        "Key Factors (di, ci, gi, bi):\n",
        "Depth (di),\n",
        "\n",
        "Too much depth can lead to vanishing gradients, but more depth typically improves feature extraction up to a certain point.\n",
        "\n",
        "Channels (ci),\n",
        "\n",
        "Irregular channel progression could lead to bottlenecks or underutilized network capacity.\n",
        "\n",
        "Groups (gi),\n",
        "\n",
        "Excessive grouping can harm learning if there are too few connections between feature maps.\n",
        "\n",
        "Bottleneck (bi),\n",
        "\n",
        "Bottleneck ratio affects parameter size and computation, and overly aggressive bottlenecking could hurt performance by overcompressing features.\n",
        "\n",
        "\n",
        "By running experiments, we can determine which of these factors most strongly affects performance. Usually, ci (channel index) and bi (bottleneck ratio) are key in maintaining efficiency while balancing model size and performance. gi (group size) and di (depth index) are secondary but important for training stability and feature diversity.\n",
        "\n"
      ],
      "metadata": {
        "id": "IhhvBX1RdVrR"
      }
    },
    {
      "cell_type": "markdown",
      "source": [
        "**4.\tYour goal is to design the “perfect” MLP. Can you use the design principles introduced above to find good architectures? Is it possible to extrapolate from small to large networks?**\n",
        "\n",
        "Designing the \"perfect\" Multi-Layer Perceptron (MLP) using the design principles introduced in models like RegNetX involves carefully considering how to structure the layers, the number of neurons, and the overall architecture.\n",
        "\n",
        "Here's the code:\n",
        "\n",
        "\n",
        "\n",
        "```\n",
        "import torch\n",
        "import torch.nn as nn\n",
        "\n",
        "class PerfectMLP(nn.Module):\n",
        "    def __init__(self, input_size, num_classes):\n",
        "        super(PerfectMLP, self).__init__()\n",
        "        \n",
        "        self.layer1 = nn.Linear(input_size, 256)\n",
        "        self.bn1 = nn.BatchNorm1d(256)\n",
        "        self.relu1 = nn.ReLU()\n",
        "        self.dropout1 = nn.Dropout(0.5)\n",
        "        \n",
        "        self.layer2 = nn.Linear(256, 128)\n",
        "        self.bn2 = nn.BatchNorm1d(128)\n",
        "        self.relu2 = nn.ReLU()\n",
        "        self.dropout2 = nn.Dropout(0.5)\n",
        "        \n",
        "        self.layer3 = nn.Linear(128, 64)\n",
        "        self.bn3 = nn.BatchNorm1d(64)\n",
        "        self.relu3 = nn.ReLU()\n",
        "        \n",
        "        self.output_layer = nn.Linear(64, num_classes)\n",
        "        \n",
        "    def forward(self, x):\n",
        "        x = self.layer1(x)\n",
        "        x = self.bn1(x)\n",
        "        x = self.relu1(x)\n",
        "        x = self.dropout1(x)\n",
        "        \n",
        "        x = self.layer2(x)\n",
        "        x = self.bn2(x)\n",
        "        x = self.relu2(x)\n",
        "        x = self.dropout2(x)\n",
        "        \n",
        "        x = self.layer3(x)\n",
        "        x = self.bn3(x)\n",
        "        x = self.relu3(x)\n",
        "        \n",
        "        x = self.output_layer(x)\n",
        "        return x\n",
        "\n",
        "```\n",
        "\n",
        "Yes, it is possible to extrapolate from small to large networks:\n",
        "\n",
        "- Progressive Training\n",
        "\n",
        "Start with a smaller model and gradually increase its size by adding layers or neurons as needed, monitoring performance metrics.\n",
        "Transfer Learning: Train a small model and use its learned weights as a starting point for training a larger model. This can help the larger model converge faster.\n",
        "\n",
        "- Hyperparameter Optimization\n",
        "\n",
        "Experiment with hyperparameters (learning rate, batch size) as you scale the architecture to ensure that the model trains effectively at different scales.\n",
        "\n",
        "\n",
        "- Performance Monitoring\n",
        "\n",
        "Continuously evaluate the model performance (e.g., validation loss/accuracy) while adjusting size. Ensure that increasing size doesn’t lead to diminishing returns or overfitting.\n",
        "\n"
      ],
      "metadata": {
        "id": "JyxD0-7CeVrI"
      }
    }
  ],
  "metadata": {
    "colab": {
      "provenance": [],
      "gpuType": "T4"
    },
    "kernelspec": {
      "display_name": "Python 3",
      "name": "python3"
    },
    "language_info": {
      "name": "python"
    },
    "accelerator": "GPU"
  },
  "nbformat": 4,
  "nbformat_minor": 0
}